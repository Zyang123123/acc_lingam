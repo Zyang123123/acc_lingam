{
 "cells": [
  {
   "cell_type": "markdown",
   "metadata": {},
   "source": [
    "# RCD"
   ]
  },
  {
   "cell_type": "markdown",
   "metadata": {},
   "source": [
    "## Import and settings\n",
    "In this example, we need to import `numpy`, `pandas`, and `graphviz` in addition to `lingam`."
   ]
  },
  {
   "cell_type": "code",
   "execution_count": 1,
   "metadata": {
    "ExecuteTime": {
     "end_time": "2021-06-25T07:00:32.471816Z",
     "start_time": "2021-06-25T07:00:26.396417Z"
    }
   },
   "outputs": [
    {
     "name": "stdout",
     "output_type": "stream",
     "text": [
      "['1.16.2', '0.24.2', '0.11.1', '1.5.4']\n"
     ]
    }
   ],
   "source": [
    "import numpy as np\n",
    "import pandas as pd\n",
    "import graphviz\n",
    "import lingam\n",
    "from lingam.utils import print_causal_directions, print_dagc, make_dot\n",
    "\n",
    "import warnings\n",
    "warnings.filterwarnings('ignore')\n",
    "\n",
    "print([np.__version__, pd.__version__, graphviz.__version__, lingam.__version__])\n",
    "\n",
    "np.set_printoptions(precision=3, suppress=True)"
   ]
  },
  {
   "cell_type": "markdown",
   "metadata": {},
   "source": [
    "## Test data\n",
    "First, we generate a causal structure with 7 variables. Then we create a dataset with 5 variables from x0 to x4, with x5 and x6 being the latent variables."
   ]
  },
  {
   "cell_type": "code",
   "execution_count": 2,
   "metadata": {
    "ExecuteTime": {
     "end_time": "2021-06-25T07:00:32.548612Z",
     "start_time": "2021-06-25T07:00:32.474811Z"
    }
   },
   "outputs": [
    {
     "data": {
      "text/html": [
       "<div>\n",
       "<style scoped>\n",
       "    .dataframe tbody tr th:only-of-type {\n",
       "        vertical-align: middle;\n",
       "    }\n",
       "\n",
       "    .dataframe tbody tr th {\n",
       "        vertical-align: top;\n",
       "    }\n",
       "\n",
       "    .dataframe thead th {\n",
       "        text-align: right;\n",
       "    }\n",
       "</style>\n",
       "<table border=\"1\" class=\"dataframe\">\n",
       "  <thead>\n",
       "    <tr style=\"text-align: right;\">\n",
       "      <th></th>\n",
       "      <th>x0</th>\n",
       "      <th>x1</th>\n",
       "      <th>x2</th>\n",
       "      <th>x3</th>\n",
       "      <th>x4</th>\n",
       "      <th>x5</th>\n",
       "    </tr>\n",
       "  </thead>\n",
       "  <tbody>\n",
       "    <tr>\n",
       "      <th>0</th>\n",
       "      <td>-0.191493</td>\n",
       "      <td>-0.054157</td>\n",
       "      <td>0.014075</td>\n",
       "      <td>-0.047309</td>\n",
       "      <td>0.016311</td>\n",
       "      <td>0.686190</td>\n",
       "    </tr>\n",
       "    <tr>\n",
       "      <th>1</th>\n",
       "      <td>-0.967142</td>\n",
       "      <td>0.013890</td>\n",
       "      <td>-1.115854</td>\n",
       "      <td>-0.035899</td>\n",
       "      <td>-1.254783</td>\n",
       "      <td>0.008009</td>\n",
       "    </tr>\n",
       "    <tr>\n",
       "      <th>2</th>\n",
       "      <td>0.527409</td>\n",
       "      <td>-0.034960</td>\n",
       "      <td>0.426923</td>\n",
       "      <td>0.064804</td>\n",
       "      <td>0.894242</td>\n",
       "      <td>0.117195</td>\n",
       "    </tr>\n",
       "    <tr>\n",
       "      <th>3</th>\n",
       "      <td>1.583826</td>\n",
       "      <td>0.845653</td>\n",
       "      <td>1.265038</td>\n",
       "      <td>0.704166</td>\n",
       "      <td>1.994283</td>\n",
       "      <td>1.406609</td>\n",
       "    </tr>\n",
       "    <tr>\n",
       "      <th>4</th>\n",
       "      <td>0.286276</td>\n",
       "      <td>0.141120</td>\n",
       "      <td>0.116967</td>\n",
       "      <td>0.329866</td>\n",
       "      <td>0.257932</td>\n",
       "      <td>0.814202</td>\n",
       "    </tr>\n",
       "  </tbody>\n",
       "</table>\n",
       "</div>"
      ],
      "text/plain": [
       "         x0        x1        x2        x3        x4        x5\n",
       "0 -0.191493 -0.054157  0.014075 -0.047309  0.016311  0.686190\n",
       "1 -0.967142  0.013890 -1.115854 -0.035899 -1.254783  0.008009\n",
       "2  0.527409 -0.034960  0.426923  0.064804  0.894242  0.117195\n",
       "3  1.583826  0.845653  1.265038  0.704166  1.994283  1.406609\n",
       "4  0.286276  0.141120  0.116967  0.329866  0.257932  0.814202"
      ]
     },
     "execution_count": 2,
     "metadata": {},
     "output_type": "execute_result"
    }
   ],
   "source": [
    "np.random.seed(0)\n",
    "\n",
    "get_external_effect = lambda n: np.random.normal(0.0, 0.5, n) ** 3\n",
    "n_samples = 300\n",
    "\n",
    "x5 = get_external_effect(n_samples)\n",
    "x6 = get_external_effect(n_samples)\n",
    "x1 = 0.6*x5 + get_external_effect(n_samples)\n",
    "x3 = 0.5*x5 + get_external_effect(n_samples)\n",
    "x0 = 1.0*x1 + 1.0*x3 + get_external_effect(n_samples)\n",
    "x2 = 0.8*x0 - 0.6*x6 + get_external_effect(n_samples)\n",
    "x4 = 1.0*x0 - 0.5*x6 + get_external_effect(n_samples)\n",
    "\n",
    "# The latent variable x6 is not included.\n",
    "X = pd.DataFrame(np.array([x0, x1, x2, x3, x4, x5]).T, columns=['x0', 'x1', 'x2', 'x3', 'x4', 'x5'])\n",
    "\n",
    "X.head()"
   ]
  },
  {
   "cell_type": "code",
   "execution_count": 3,
   "metadata": {
    "ExecuteTime": {
     "end_time": "2021-06-25T07:00:33.752722Z",
     "start_time": "2021-06-25T07:00:32.551605Z"
    }
   },
   "outputs": [
    {
     "data": {
      "image/svg+xml": [
       "<?xml version=\"1.0\" encoding=\"UTF-8\" standalone=\"no\"?>\r\n",
       "<!DOCTYPE svg PUBLIC \"-//W3C//DTD SVG 1.1//EN\"\r\n",
       " \"http://www.w3.org/Graphics/SVG/1.1/DTD/svg11.dtd\">\r\n",
       "<!-- Generated by graphviz version 2.38.0 (20140413.2041)\r\n",
       " -->\r\n",
       "<!-- Title: %3 Pages: 1 -->\r\n",
       "<svg width=\"199pt\" height=\"305pt\"\r\n",
       " viewBox=\"0.00 0.00 199.00 305.00\" xmlns=\"http://www.w3.org/2000/svg\" xmlns:xlink=\"http://www.w3.org/1999/xlink\">\r\n",
       "<g id=\"graph0\" class=\"graph\" transform=\"scale(1 1) rotate(0) translate(4 301)\">\r\n",
       "<title>%3</title>\r\n",
       "<polygon fill=\"white\" stroke=\"none\" points=\"-4,4 -4,-301 195,-301 195,4 -4,4\"/>\r\n",
       "<!-- x0 -->\r\n",
       "<g id=\"node1\" class=\"node\"><title>x0</title>\r\n",
       "<ellipse fill=\"none\" stroke=\"black\" cx=\"57\" cy=\"-105\" rx=\"27\" ry=\"18\"/>\r\n",
       "<text text-anchor=\"middle\" x=\"57\" y=\"-101.3\" font-family=\"Times New Roman,serif\" font-size=\"14.00\">x0</text>\r\n",
       "</g>\r\n",
       "<!-- x2 -->\r\n",
       "<g id=\"node3\" class=\"node\"><title>x2</title>\r\n",
       "<ellipse fill=\"none\" stroke=\"black\" cx=\"73\" cy=\"-18\" rx=\"27\" ry=\"18\"/>\r\n",
       "<text text-anchor=\"middle\" x=\"73\" y=\"-14.3\" font-family=\"Times New Roman,serif\" font-size=\"14.00\">x2</text>\r\n",
       "</g>\r\n",
       "<!-- x0&#45;&gt;x2 -->\r\n",
       "<g id=\"edge4\" class=\"edge\"><title>x0&#45;&gt;x2</title>\r\n",
       "<path fill=\"none\" stroke=\"black\" d=\"M44.1451,-89.0931C37.1794,-79.137 30.9361,-65.7607 36,-54 38.4642,-48.277 42.3754,-43.0526 46.7502,-38.4861\"/>\r\n",
       "<polygon fill=\"black\" stroke=\"black\" points=\"49.4001,-40.8033 54.3767,-31.45 44.6535,-35.6584 49.4001,-40.8033\"/>\r\n",
       "<text text-anchor=\"middle\" x=\"48.5\" y=\"-57.8\" font-family=\"Times New Roman,serif\" font-size=\"14.00\">0.80</text>\r\n",
       "</g>\r\n",
       "<!-- x4 -->\r\n",
       "<g id=\"node5\" class=\"node\"><title>x4</title>\r\n",
       "<ellipse fill=\"none\" stroke=\"black\" cx=\"164\" cy=\"-18\" rx=\"27\" ry=\"18\"/>\r\n",
       "<text text-anchor=\"middle\" x=\"164\" y=\"-14.3\" font-family=\"Times New Roman,serif\" font-size=\"14.00\">x4</text>\r\n",
       "</g>\r\n",
       "<!-- x0&#45;&gt;x4 -->\r\n",
       "<g id=\"edge7\" class=\"edge\"><title>x0&#45;&gt;x4</title>\r\n",
       "<path fill=\"none\" stroke=\"black\" d=\"M61.4124,-86.8119C64.9138,-76.1702 70.7835,-62.8875 80,-54 87.672,-46.6019 110.59,-37.2801 130.552,-30.1172\"/>\r\n",
       "<polygon fill=\"black\" stroke=\"black\" points=\"131.756,-33.404 140.035,-26.7922 129.44,-26.7983 131.756,-33.404\"/>\r\n",
       "<text text-anchor=\"middle\" x=\"92.5\" y=\"-57.8\" font-family=\"Times New Roman,serif\" font-size=\"14.00\">1.00</text>\r\n",
       "</g>\r\n",
       "<!-- x1 -->\r\n",
       "<g id=\"node2\" class=\"node\"><title>x1</title>\r\n",
       "<ellipse fill=\"none\" stroke=\"black\" cx=\"27\" cy=\"-192\" rx=\"27\" ry=\"18\"/>\r\n",
       "<text text-anchor=\"middle\" x=\"27\" y=\"-188.3\" font-family=\"Times New Roman,serif\" font-size=\"14.00\">x1</text>\r\n",
       "</g>\r\n",
       "<!-- x1&#45;&gt;x0 -->\r\n",
       "<g id=\"edge1\" class=\"edge\"><title>x1&#45;&gt;x0</title>\r\n",
       "<path fill=\"none\" stroke=\"black\" d=\"M32.927,-174.207C37.1181,-162.332 42.8229,-146.168 47.6271,-132.557\"/>\r\n",
       "<polygon fill=\"black\" stroke=\"black\" points=\"51.0575,-133.353 51.0853,-122.758 44.4565,-131.023 51.0575,-133.353\"/>\r\n",
       "<text text-anchor=\"middle\" x=\"56.5\" y=\"-144.8\" font-family=\"Times New Roman,serif\" font-size=\"14.00\">1.00</text>\r\n",
       "</g>\r\n",
       "<!-- x3 -->\r\n",
       "<g id=\"node4\" class=\"node\"><title>x3</title>\r\n",
       "<ellipse fill=\"none\" stroke=\"black\" cx=\"99\" cy=\"-192\" rx=\"27\" ry=\"18\"/>\r\n",
       "<text text-anchor=\"middle\" x=\"99\" y=\"-188.3\" font-family=\"Times New Roman,serif\" font-size=\"14.00\">x3</text>\r\n",
       "</g>\r\n",
       "<!-- x3&#45;&gt;x0 -->\r\n",
       "<g id=\"edge2\" class=\"edge\"><title>x3&#45;&gt;x0</title>\r\n",
       "<path fill=\"none\" stroke=\"black\" d=\"M90.902,-174.611C84.8592,-162.382 76.4894,-145.443 69.5783,-131.456\"/>\r\n",
       "<polygon fill=\"black\" stroke=\"black\" points=\"72.641,-129.753 65.0732,-122.339 66.3653,-132.854 72.641,-129.753\"/>\r\n",
       "<text text-anchor=\"middle\" x=\"92.5\" y=\"-144.8\" font-family=\"Times New Roman,serif\" font-size=\"14.00\">1.00</text>\r\n",
       "</g>\r\n",
       "<!-- x5 -->\r\n",
       "<g id=\"node6\" class=\"node\"><title>x5</title>\r\n",
       "<ellipse fill=\"none\" stroke=\"black\" cx=\"66\" cy=\"-279\" rx=\"27\" ry=\"18\"/>\r\n",
       "<text text-anchor=\"middle\" x=\"66\" y=\"-275.3\" font-family=\"Times New Roman,serif\" font-size=\"14.00\">x5</text>\r\n",
       "</g>\r\n",
       "<!-- x5&#45;&gt;x1 -->\r\n",
       "<g id=\"edge3\" class=\"edge\"><title>x5&#45;&gt;x1</title>\r\n",
       "<path fill=\"none\" stroke=\"black\" d=\"M58.4804,-261.611C52.8693,-249.382 45.0973,-232.443 38.6798,-218.456\"/>\r\n",
       "<polygon fill=\"black\" stroke=\"black\" points=\"41.8479,-216.968 34.4965,-209.339 35.4857,-219.887 41.8479,-216.968\"/>\r\n",
       "<text text-anchor=\"middle\" x=\"61.5\" y=\"-231.8\" font-family=\"Times New Roman,serif\" font-size=\"14.00\">0.60</text>\r\n",
       "</g>\r\n",
       "<!-- x5&#45;&gt;x3 -->\r\n",
       "<g id=\"edge6\" class=\"edge\"><title>x5&#45;&gt;x3</title>\r\n",
       "<path fill=\"none\" stroke=\"black\" d=\"M72.5197,-261.207C77.1751,-249.216 83.5284,-232.851 88.8449,-219.157\"/>\r\n",
       "<polygon fill=\"black\" stroke=\"black\" points=\"92.1373,-220.347 92.4938,-209.758 85.6118,-217.814 92.1373,-220.347\"/>\r\n",
       "<text text-anchor=\"middle\" x=\"96.5\" y=\"-231.8\" font-family=\"Times New Roman,serif\" font-size=\"14.00\">0.50</text>\r\n",
       "</g>\r\n",
       "<!-- f1(x6) -->\r\n",
       "<g id=\"node7\" class=\"node\"><title>f1(x6)</title>\r\n",
       "<ellipse fill=\"none\" stroke=\"black\" cx=\"157\" cy=\"-105\" rx=\"32.4942\" ry=\"18\"/>\r\n",
       "<text text-anchor=\"middle\" x=\"157\" y=\"-101.3\" font-family=\"Times New Roman,serif\" font-size=\"14.00\">f1(x6)</text>\r\n",
       "</g>\r\n",
       "<!-- f1(x6)&#45;&gt;x2 -->\r\n",
       "<g id=\"edge5\" class=\"edge\"><title>f1(x6)&#45;&gt;x2</title>\r\n",
       "<path fill=\"none\" stroke=\"black\" d=\"M142.43,-88.5494C132.984,-78.6009 120.366,-65.4377 109,-54 104.591,-49.5635 99.8262,-44.8645 95.2505,-40.3987\"/>\r\n",
       "<polygon fill=\"black\" stroke=\"black\" points=\"97.4384,-37.6447 87.8253,-33.1906 92.5626,-42.6673 97.4384,-37.6447\"/>\r\n",
       "<text text-anchor=\"middle\" x=\"137.5\" y=\"-57.8\" font-family=\"Times New Roman,serif\" font-size=\"14.00\">&#45;0.60</text>\r\n",
       "</g>\r\n",
       "<!-- f1(x6)&#45;&gt;x4 -->\r\n",
       "<g id=\"edge8\" class=\"edge\"><title>f1(x6)&#45;&gt;x4</title>\r\n",
       "<path fill=\"none\" stroke=\"black\" d=\"M159.137,-86.9287C159.801,-81.2333 160.491,-74.8492 161,-69 161.639,-61.6659 162.183,-53.7147 162.626,-46.3565\"/>\r\n",
       "<polygon fill=\"black\" stroke=\"black\" points=\"166.133,-46.322 163.2,-36.1412 159.144,-45.9287 166.133,-46.322\"/>\r\n",
       "<text text-anchor=\"middle\" x=\"176.5\" y=\"-57.8\" font-family=\"Times New Roman,serif\" font-size=\"14.00\">&#45;0.50</text>\r\n",
       "</g>\r\n",
       "</g>\r\n",
       "</svg>\r\n"
      ],
      "text/plain": [
       "<graphviz.dot.Digraph at 0x2ad0db6dc50>"
      ]
     },
     "execution_count": 3,
     "metadata": {},
     "output_type": "execute_result"
    }
   ],
   "source": [
    "m = np.array([[ 0.0, 1.0, 0.0, 1.0, 0.0, 0.0, 0.0],\n",
    "              [ 0.0, 0.0, 0.0, 0.0, 0.0, 0.6, 0.0],\n",
    "              [ 0.8, 0.0, 0.0, 0.0, 0.0, 0.0,-0.6],\n",
    "              [ 0.0, 0.0, 0.0, 0.0, 0.0, 0.5, 0.0],\n",
    "              [ 1.0, 0.0, 0.0, 0.0, 0.0, 0.0,-0.5],\n",
    "              [ 0.0, 0.0, 0.0, 0.0, 0.0, 0.0, 0.0],\n",
    "              [ 0.0, 0.0, 0.0, 0.0, 0.0, 0.0, 0.0]])\n",
    "dot = make_dot(m, labels=['x0', 'x1', 'x2', 'x3', 'x4', 'x5', 'f1(x6)'])\n",
    "\n",
    "# Save pdf\n",
    "dot.render('dag')\n",
    "\n",
    "# Save png\n",
    "dot.format = 'png'\n",
    "dot.render('dag')\n",
    "\n",
    "dot"
   ]
  },
  {
   "cell_type": "markdown",
   "metadata": {},
   "source": [
    "## Causal Discovery\n",
    "To run causal discovery, we create a `RCD` object and call the `fit` method."
   ]
  },
  {
   "cell_type": "code",
   "execution_count": 4,
   "metadata": {
    "ExecuteTime": {
     "end_time": "2021-06-25T07:00:35.346987Z",
     "start_time": "2021-06-25T07:00:33.763696Z"
    }
   },
   "outputs": [
    {
     "data": {
      "text/plain": [
       "<lingam.rcd.RCD at 0x2ad0db47cf8>"
      ]
     },
     "execution_count": 4,
     "metadata": {},
     "output_type": "execute_result"
    }
   ],
   "source": [
    "model = lingam.RCD()\n",
    "model.fit(X)"
   ]
  },
  {
   "cell_type": "markdown",
   "metadata": {},
   "source": [
    "Using the `ancestors_list_` properties, we can see the list of ancestors sets as a result of the causal discovery."
   ]
  },
  {
   "cell_type": "code",
   "execution_count": 5,
   "metadata": {
    "ExecuteTime": {
     "end_time": "2021-06-25T07:00:35.363023Z",
     "start_time": "2021-06-25T07:00:35.346987Z"
    }
   },
   "outputs": [
    {
     "name": "stdout",
     "output_type": "stream",
     "text": [
      "M0={1, 3, 5}\n",
      "M1={5}\n",
      "M2={0, 1, 3, 5}\n",
      "M3={5}\n",
      "M4={0, 1, 3, 5}\n",
      "M5=set()\n"
     ]
    }
   ],
   "source": [
    "ancestors_list = model.ancestors_list_\n",
    "\n",
    "for i, ancestors in enumerate(ancestors_list):\n",
    "    print(f'M{i}={ancestors}')"
   ]
  },
  {
   "cell_type": "markdown",
   "metadata": {},
   "source": [
    "Also, using the `adjacency_matrix_` properties, we can see the adjacency matrix as a result of the causal discovery. The coefficients between variables with latent confounders are np.nan."
   ]
  },
  {
   "cell_type": "code",
   "execution_count": 6,
   "metadata": {
    "ExecuteTime": {
     "end_time": "2021-06-25T07:00:35.378981Z",
     "start_time": "2021-06-25T07:00:35.367012Z"
    }
   },
   "outputs": [
    {
     "data": {
      "text/plain": [
       "array([[0.   , 0.939, 0.   , 0.994, 0.   , 0.   ],\n",
       "       [0.   , 0.   , 0.   , 0.   , 0.   , 0.556],\n",
       "       [0.751, 0.   , 0.   , 0.   ,   nan, 0.   ],\n",
       "       [0.   , 0.   , 0.   , 0.   , 0.   , 0.563],\n",
       "       [1.016, 0.   ,   nan, 0.   , 0.   , 0.   ],\n",
       "       [0.   , 0.   , 0.   , 0.   , 0.   , 0.   ]])"
      ]
     },
     "execution_count": 6,
     "metadata": {},
     "output_type": "execute_result"
    }
   ],
   "source": [
    "model.adjacency_matrix_"
   ]
  },
  {
   "cell_type": "code",
   "execution_count": 7,
   "metadata": {
    "ExecuteTime": {
     "end_time": "2021-06-25T07:00:35.797707Z",
     "start_time": "2021-06-25T07:00:35.385003Z"
    }
   },
   "outputs": [
    {
     "data": {
      "image/svg+xml": [
       "<?xml version=\"1.0\" encoding=\"UTF-8\" standalone=\"no\"?>\r\n",
       "<!DOCTYPE svg PUBLIC \"-//W3C//DTD SVG 1.1//EN\"\r\n",
       " \"http://www.w3.org/Graphics/SVG/1.1/DTD/svg11.dtd\">\r\n",
       "<!-- Generated by graphviz version 2.38.0 (20140413.2041)\r\n",
       " -->\r\n",
       "<!-- Title: %3 Pages: 1 -->\r\n",
       "<svg width=\"152pt\" height=\"305pt\"\r\n",
       " viewBox=\"0.00 0.00 152.00 305.00\" xmlns=\"http://www.w3.org/2000/svg\" xmlns:xlink=\"http://www.w3.org/1999/xlink\">\r\n",
       "<g id=\"graph0\" class=\"graph\" transform=\"scale(1 1) rotate(0) translate(4 301)\">\r\n",
       "<title>%3</title>\r\n",
       "<polygon fill=\"white\" stroke=\"none\" points=\"-4,4 -4,-301 148,-301 148,4 -4,4\"/>\r\n",
       "<!-- x0 -->\r\n",
       "<g id=\"node1\" class=\"node\"><title>x0</title>\r\n",
       "<ellipse fill=\"none\" stroke=\"black\" cx=\"61\" cy=\"-105\" rx=\"27\" ry=\"18\"/>\r\n",
       "<text text-anchor=\"middle\" x=\"61\" y=\"-101.3\" font-family=\"Times New Roman,serif\" font-size=\"14.00\">x0</text>\r\n",
       "</g>\r\n",
       "<!-- x2 -->\r\n",
       "<g id=\"node3\" class=\"node\"><title>x2</title>\r\n",
       "<ellipse fill=\"none\" stroke=\"black\" cx=\"27\" cy=\"-18\" rx=\"27\" ry=\"18\"/>\r\n",
       "<text text-anchor=\"middle\" x=\"27\" y=\"-14.3\" font-family=\"Times New Roman,serif\" font-size=\"14.00\">x2</text>\r\n",
       "</g>\r\n",
       "<!-- x0&#45;&gt;x2 -->\r\n",
       "<g id=\"edge4\" class=\"edge\"><title>x0&#45;&gt;x2</title>\r\n",
       "<path fill=\"none\" stroke=\"black\" d=\"M54.2827,-87.2067C49.4551,-75.1377 42.8553,-58.6384 37.3563,-44.8906\"/>\r\n",
       "<polygon fill=\"black\" stroke=\"black\" points=\"40.5513,-43.454 33.5877,-35.4692 34.052,-46.0538 40.5513,-43.454\"/>\r\n",
       "<text text-anchor=\"middle\" x=\"59.5\" y=\"-57.8\" font-family=\"Times New Roman,serif\" font-size=\"14.00\">0.75</text>\r\n",
       "</g>\r\n",
       "<!-- x4 -->\r\n",
       "<g id=\"node5\" class=\"node\"><title>x4</title>\r\n",
       "<ellipse fill=\"none\" stroke=\"black\" cx=\"117\" cy=\"-18\" rx=\"27\" ry=\"18\"/>\r\n",
       "<text text-anchor=\"middle\" x=\"117\" y=\"-14.3\" font-family=\"Times New Roman,serif\" font-size=\"14.00\">x4</text>\r\n",
       "</g>\r\n",
       "<!-- x0&#45;&gt;x4 -->\r\n",
       "<g id=\"edge6\" class=\"edge\"><title>x0&#45;&gt;x4</title>\r\n",
       "<path fill=\"none\" stroke=\"black\" d=\"M71.5332,-88.0122C79.8243,-75.4274 91.5175,-57.6788 100.969,-43.3325\"/>\r\n",
       "<polygon fill=\"black\" stroke=\"black\" points=\"103.935,-45.1924 106.514,-34.9162 98.0897,-41.3412 103.935,-45.1924\"/>\r\n",
       "<text text-anchor=\"middle\" x=\"105.5\" y=\"-57.8\" font-family=\"Times New Roman,serif\" font-size=\"14.00\">1.02</text>\r\n",
       "</g>\r\n",
       "<!-- x1 -->\r\n",
       "<g id=\"node2\" class=\"node\"><title>x1</title>\r\n",
       "<ellipse fill=\"none\" stroke=\"black\" cx=\"31\" cy=\"-192\" rx=\"27\" ry=\"18\"/>\r\n",
       "<text text-anchor=\"middle\" x=\"31\" y=\"-188.3\" font-family=\"Times New Roman,serif\" font-size=\"14.00\">x1</text>\r\n",
       "</g>\r\n",
       "<!-- x1&#45;&gt;x0 -->\r\n",
       "<g id=\"edge1\" class=\"edge\"><title>x1&#45;&gt;x0</title>\r\n",
       "<path fill=\"none\" stroke=\"black\" d=\"M36.927,-174.207C41.1181,-162.332 46.8229,-146.168 51.6271,-132.557\"/>\r\n",
       "<polygon fill=\"black\" stroke=\"black\" points=\"55.0575,-133.353 55.0853,-122.758 48.4565,-131.023 55.0575,-133.353\"/>\r\n",
       "<text text-anchor=\"middle\" x=\"60.5\" y=\"-144.8\" font-family=\"Times New Roman,serif\" font-size=\"14.00\">0.94</text>\r\n",
       "</g>\r\n",
       "<!-- x2&#45;&gt;x4 -->\r\n",
       "<g id=\"edge7\" class=\"edge\"><title>x2&#45;&gt;x4</title>\r\n",
       "<path fill=\"none\" stroke=\"black\" d=\"M64.1643,-18C69.404,-18 74.6437,-18 79.8835,-18\"/>\r\n",
       "<polygon fill=\"black\" stroke=\"black\" points=\"64.0703,-14.5001 54.0703,-18 64.0703,-21.5001 64.0703,-14.5001\"/>\r\n",
       "<polygon fill=\"black\" stroke=\"black\" points=\"79.9599,-21.5001 89.9599,-18 79.9599,-14.5001 79.9599,-21.5001\"/>\r\n",
       "</g>\r\n",
       "<!-- x3 -->\r\n",
       "<g id=\"node4\" class=\"node\"><title>x3</title>\r\n",
       "<ellipse fill=\"none\" stroke=\"black\" cx=\"103\" cy=\"-192\" rx=\"27\" ry=\"18\"/>\r\n",
       "<text text-anchor=\"middle\" x=\"103\" y=\"-188.3\" font-family=\"Times New Roman,serif\" font-size=\"14.00\">x3</text>\r\n",
       "</g>\r\n",
       "<!-- x3&#45;&gt;x0 -->\r\n",
       "<g id=\"edge2\" class=\"edge\"><title>x3&#45;&gt;x0</title>\r\n",
       "<path fill=\"none\" stroke=\"black\" d=\"M94.902,-174.611C88.8592,-162.382 80.4894,-145.443 73.5783,-131.456\"/>\r\n",
       "<polygon fill=\"black\" stroke=\"black\" points=\"76.641,-129.753 69.0732,-122.339 70.3653,-132.854 76.641,-129.753\"/>\r\n",
       "<text text-anchor=\"middle\" x=\"97.5\" y=\"-144.8\" font-family=\"Times New Roman,serif\" font-size=\"14.00\">0.99</text>\r\n",
       "</g>\r\n",
       "<!-- x5 -->\r\n",
       "<g id=\"node6\" class=\"node\"><title>x5</title>\r\n",
       "<ellipse fill=\"none\" stroke=\"black\" cx=\"70\" cy=\"-279\" rx=\"27\" ry=\"18\"/>\r\n",
       "<text text-anchor=\"middle\" x=\"70\" y=\"-275.3\" font-family=\"Times New Roman,serif\" font-size=\"14.00\">x5</text>\r\n",
       "</g>\r\n",
       "<!-- x5&#45;&gt;x1 -->\r\n",
       "<g id=\"edge3\" class=\"edge\"><title>x5&#45;&gt;x1</title>\r\n",
       "<path fill=\"none\" stroke=\"black\" d=\"M62.4804,-261.611C56.8693,-249.382 49.0973,-232.443 42.6798,-218.456\"/>\r\n",
       "<polygon fill=\"black\" stroke=\"black\" points=\"45.8479,-216.968 38.4965,-209.339 39.4857,-219.887 45.8479,-216.968\"/>\r\n",
       "<text text-anchor=\"middle\" x=\"65.5\" y=\"-231.8\" font-family=\"Times New Roman,serif\" font-size=\"14.00\">0.56</text>\r\n",
       "</g>\r\n",
       "<!-- x5&#45;&gt;x3 -->\r\n",
       "<g id=\"edge5\" class=\"edge\"><title>x5&#45;&gt;x3</title>\r\n",
       "<path fill=\"none\" stroke=\"black\" d=\"M76.5197,-261.207C81.1751,-249.216 87.5284,-232.851 92.8449,-219.157\"/>\r\n",
       "<polygon fill=\"black\" stroke=\"black\" points=\"96.1373,-220.347 96.4938,-209.758 89.6118,-217.814 96.1373,-220.347\"/>\r\n",
       "<text text-anchor=\"middle\" x=\"101.5\" y=\"-231.8\" font-family=\"Times New Roman,serif\" font-size=\"14.00\">0.56</text>\r\n",
       "</g>\r\n",
       "</g>\r\n",
       "</svg>\r\n"
      ],
      "text/plain": [
       "<graphviz.dot.Digraph at 0x2ad0de1f438>"
      ]
     },
     "execution_count": 7,
     "metadata": {},
     "output_type": "execute_result"
    }
   ],
   "source": [
    "make_dot(model.adjacency_matrix_)"
   ]
  },
  {
   "cell_type": "markdown",
   "metadata": {},
   "source": [
    "## Independence between error variables\n",
    "To check if the LiNGAM assumption is broken, we can get p-values of independence between error variables. The value in the i-th row and j-th column of the obtained matrix shows the p-value of the independence of the error variables $e_i$ and $e_j$."
   ]
  },
  {
   "cell_type": "code",
   "execution_count": 8,
   "metadata": {},
   "outputs": [
    {
     "name": "stdout",
     "output_type": "stream",
     "text": [
      "[[0.    0.      nan 0.413   nan 0.68 ]\n",
      " [0.    0.      nan 0.732   nan 0.382]\n",
      " [  nan   nan 0.      nan   nan   nan]\n",
      " [0.413 0.732   nan 0.      nan 0.054]\n",
      " [  nan   nan   nan   nan 0.      nan]\n",
      " [0.68  0.382   nan 0.054   nan 0.   ]]\n"
     ]
    }
   ],
   "source": [
    "p_values = model.get_error_independence_p_values(X)\n",
    "print(p_values)"
   ]
  },
  {
   "cell_type": "markdown",
   "metadata": {},
   "source": [
    "## Bootstrapping\n",
    "We call `bootstrap()` method instead of `fit()`. Here, the second argument specifies the number of bootstrap sampling."
   ]
  },
  {
   "cell_type": "code",
   "execution_count": 9,
   "metadata": {
    "scrolled": true
   },
   "outputs": [],
   "source": [
    "import warnings\n",
    "warnings.filterwarnings('ignore', category=UserWarning)\n",
    "\n",
    "model = lingam.RCD()\n",
    "result = model.bootstrap(X, n_sampling=100)"
   ]
  },
  {
   "cell_type": "markdown",
   "metadata": {},
   "source": [
    "## Causal Directions\n",
    "Since `BootstrapResult` object is returned, we can get the ranking of the causal directions extracted by `get_causal_direction_counts()` method. In the following sample code, `n_directions` option is limited to the causal directions of the top 8 rankings, and `min_causal_effect` option is limited to causal directions with a coefficient of 0.01 or more."
   ]
  },
  {
   "cell_type": "code",
   "execution_count": 10,
   "metadata": {},
   "outputs": [],
   "source": [
    "cdc = result.get_causal_direction_counts(n_directions=8, min_causal_effect=0.01, split_by_causal_effect_sign=True)"
   ]
  },
  {
   "cell_type": "markdown",
   "metadata": {},
   "source": [
    "We can check the result by utility function."
   ]
  },
  {
   "cell_type": "code",
   "execution_count": 11,
   "metadata": {},
   "outputs": [
    {
     "name": "stdout",
     "output_type": "stream",
     "text": [
      "x0 <--- x1 (b>0) (100.0%)\n",
      "x4 <--- x0 (b>0) (99.0%)\n",
      "x1 <--- x5 (b>0) (97.0%)\n",
      "x2 <--- x0 (b>0) (96.0%)\n",
      "x0 <--- x3 (b>0) (92.0%)\n",
      "x3 <--- x5 (b>0) (67.0%)\n",
      "x2 <--- x4 (b>0) (13.0%)\n",
      "x4 <--- x3 (b<0) (11.0%)\n"
     ]
    }
   ],
   "source": [
    "print_causal_directions(cdc, 100)"
   ]
  },
  {
   "cell_type": "markdown",
   "metadata": {},
   "source": [
    "## Directed Acyclic Graphs\n",
    "Also, using the `get_directed_acyclic_graph_counts()` method, we can get the ranking of the DAGs extracted. In the following sample code, `n_dags` option is limited to the dags of the top 3 rankings, and `min_causal_effect` option is limited to causal directions with a coefficient of 0.01 or more."
   ]
  },
  {
   "cell_type": "code",
   "execution_count": 12,
   "metadata": {},
   "outputs": [],
   "source": [
    "dagc = result.get_directed_acyclic_graph_counts(n_dags=3, min_causal_effect=0.01, split_by_causal_effect_sign=True)"
   ]
  },
  {
   "cell_type": "markdown",
   "metadata": {},
   "source": [
    "We can check the result by utility function."
   ]
  },
  {
   "cell_type": "code",
   "execution_count": 13,
   "metadata": {},
   "outputs": [
    {
     "name": "stdout",
     "output_type": "stream",
     "text": [
      "DAG[0]: 47.0%\n",
      "\tx0 <--- x1 (b>0)\n",
      "\tx0 <--- x3 (b>0)\n",
      "\tx1 <--- x5 (b>0)\n",
      "\tx2 <--- x0 (b>0)\n",
      "\tx3 <--- x5 (b>0)\n",
      "\tx4 <--- x0 (b>0)\n",
      "DAG[1]: 20.0%\n",
      "\tx0 <--- x1 (b>0)\n",
      "\tx0 <--- x3 (b>0)\n",
      "\tx1 <--- x5 (b>0)\n",
      "\tx2 <--- x0 (b>0)\n",
      "\tx4 <--- x0 (b>0)\n",
      "DAG[2]: 10.0%\n",
      "\tx0 <--- x1 (b>0)\n",
      "\tx0 <--- x3 (b>0)\n",
      "\tx1 <--- x5 (b>0)\n",
      "\tx2 <--- x0 (b>0)\n",
      "\tx3 <--- x5 (b>0)\n",
      "\tx4 <--- x0 (b>0)\n",
      "\tx4 <--- x3 (b<0)\n"
     ]
    }
   ],
   "source": [
    "print_dagc(dagc, 100)"
   ]
  },
  {
   "cell_type": "markdown",
   "metadata": {},
   "source": [
    "## Probability\n",
    "Using the `get_probabilities()` method, we can get the probability of bootstrapping."
   ]
  },
  {
   "cell_type": "code",
   "execution_count": 14,
   "metadata": {},
   "outputs": [
    {
     "name": "stdout",
     "output_type": "stream",
     "text": [
      "[[0.   1.   0.   0.92 0.   0.08]\n",
      " [0.   0.   0.   0.   0.   0.97]\n",
      " [0.96 0.   0.   0.   0.13 0.  ]\n",
      " [0.   0.   0.   0.   0.   0.67]\n",
      " [0.99 0.01 0.02 0.12 0.   0.  ]\n",
      " [0.   0.   0.   0.   0.   0.  ]]\n"
     ]
    }
   ],
   "source": [
    "prob = result.get_probabilities(min_causal_effect=0.01)\n",
    "print(prob)"
   ]
  },
  {
   "cell_type": "markdown",
   "metadata": {},
   "source": [
    "## Total Causal Effects\n",
    "Using the `get_total_causal_effects()` method, we can get the list of total causal effect. The total causal effects we can get are dictionary type variable.\n",
    "We can display the list nicely by assigning it to pandas.DataFrame. Also, we have replaced the variable index with a label below."
   ]
  },
  {
   "cell_type": "code",
   "execution_count": 15,
   "metadata": {},
   "outputs": [
    {
     "data": {
      "text/html": [
       "<div>\n",
       "<style scoped>\n",
       "    .dataframe tbody tr th:only-of-type {\n",
       "        vertical-align: middle;\n",
       "    }\n",
       "\n",
       "    .dataframe tbody tr th {\n",
       "        vertical-align: top;\n",
       "    }\n",
       "\n",
       "    .dataframe thead th {\n",
       "        text-align: right;\n",
       "    }\n",
       "</style>\n",
       "<table border=\"1\" class=\"dataframe\">\n",
       "  <thead>\n",
       "    <tr style=\"text-align: right;\">\n",
       "      <th></th>\n",
       "      <th>from</th>\n",
       "      <th>to</th>\n",
       "      <th>effect</th>\n",
       "      <th>probability</th>\n",
       "    </tr>\n",
       "  </thead>\n",
       "  <tbody>\n",
       "    <tr>\n",
       "      <th>0</th>\n",
       "      <td>x1</td>\n",
       "      <td>x0</td>\n",
       "      <td>0.929241</td>\n",
       "      <td>0.97</td>\n",
       "    </tr>\n",
       "    <tr>\n",
       "      <th>1</th>\n",
       "      <td>x1</td>\n",
       "      <td>x2</td>\n",
       "      <td>0.642897</td>\n",
       "      <td>0.97</td>\n",
       "    </tr>\n",
       "    <tr>\n",
       "      <th>2</th>\n",
       "      <td>x1</td>\n",
       "      <td>x4</td>\n",
       "      <td>0.940142</td>\n",
       "      <td>0.96</td>\n",
       "    </tr>\n",
       "    <tr>\n",
       "      <th>3</th>\n",
       "      <td>x0</td>\n",
       "      <td>x2</td>\n",
       "      <td>0.733251</td>\n",
       "      <td>0.91</td>\n",
       "    </tr>\n",
       "    <tr>\n",
       "      <th>4</th>\n",
       "      <td>x0</td>\n",
       "      <td>x4</td>\n",
       "      <td>0.976640</td>\n",
       "      <td>0.91</td>\n",
       "    </tr>\n",
       "    <tr>\n",
       "      <th>5</th>\n",
       "      <td>x3</td>\n",
       "      <td>x0</td>\n",
       "      <td>0.986875</td>\n",
       "      <td>0.66</td>\n",
       "    </tr>\n",
       "    <tr>\n",
       "      <th>6</th>\n",
       "      <td>x3</td>\n",
       "      <td>x2</td>\n",
       "      <td>0.732515</td>\n",
       "      <td>0.66</td>\n",
       "    </tr>\n",
       "    <tr>\n",
       "      <th>7</th>\n",
       "      <td>x3</td>\n",
       "      <td>x4</td>\n",
       "      <td>0.899673</td>\n",
       "      <td>0.65</td>\n",
       "    </tr>\n",
       "    <tr>\n",
       "      <th>8</th>\n",
       "      <td>x5</td>\n",
       "      <td>x0</td>\n",
       "      <td>1.021466</td>\n",
       "      <td>0.63</td>\n",
       "    </tr>\n",
       "    <tr>\n",
       "      <th>9</th>\n",
       "      <td>x5</td>\n",
       "      <td>x1</td>\n",
       "      <td>0.555707</td>\n",
       "      <td>0.63</td>\n",
       "    </tr>\n",
       "    <tr>\n",
       "      <th>10</th>\n",
       "      <td>x5</td>\n",
       "      <td>x2</td>\n",
       "      <td>0.741192</td>\n",
       "      <td>0.63</td>\n",
       "    </tr>\n",
       "    <tr>\n",
       "      <th>11</th>\n",
       "      <td>x5</td>\n",
       "      <td>x3</td>\n",
       "      <td>0.563175</td>\n",
       "      <td>0.63</td>\n",
       "    </tr>\n",
       "    <tr>\n",
       "      <th>12</th>\n",
       "      <td>x5</td>\n",
       "      <td>x4</td>\n",
       "      <td>0.941773</td>\n",
       "      <td>0.61</td>\n",
       "    </tr>\n",
       "    <tr>\n",
       "      <th>13</th>\n",
       "      <td>x4</td>\n",
       "      <td>x2</td>\n",
       "      <td>0.225102</td>\n",
       "      <td>0.13</td>\n",
       "    </tr>\n",
       "    <tr>\n",
       "      <th>14</th>\n",
       "      <td>x2</td>\n",
       "      <td>x4</td>\n",
       "      <td>0.243174</td>\n",
       "      <td>0.03</td>\n",
       "    </tr>\n",
       "  </tbody>\n",
       "</table>\n",
       "</div>"
      ],
      "text/plain": [
       "   from  to    effect  probability\n",
       "0    x1  x0  0.929241         0.97\n",
       "1    x1  x2  0.642897         0.97\n",
       "2    x1  x4  0.940142         0.96\n",
       "3    x0  x2  0.733251         0.91\n",
       "4    x0  x4  0.976640         0.91\n",
       "5    x3  x0  0.986875         0.66\n",
       "6    x3  x2  0.732515         0.66\n",
       "7    x3  x4  0.899673         0.65\n",
       "8    x5  x0  1.021466         0.63\n",
       "9    x5  x1  0.555707         0.63\n",
       "10   x5  x2  0.741192         0.63\n",
       "11   x5  x3  0.563175         0.63\n",
       "12   x5  x4  0.941773         0.61\n",
       "13   x4  x2  0.225102         0.13\n",
       "14   x2  x4  0.243174         0.03"
      ]
     },
     "execution_count": 15,
     "metadata": {},
     "output_type": "execute_result"
    }
   ],
   "source": [
    "causal_effects = result.get_total_causal_effects(min_causal_effect=0.01)\n",
    "\n",
    "# Assign to pandas.DataFrame for pretty display\n",
    "df = pd.DataFrame(causal_effects)\n",
    "labels = [f'x{i}' for i in range(X.shape[1])]\n",
    "df['from'] = df['from'].apply(lambda x : labels[x])\n",
    "df['to'] = df['to'].apply(lambda x : labels[x])\n",
    "df"
   ]
  },
  {
   "cell_type": "markdown",
   "metadata": {},
   "source": [
    "We can easily perform sorting operations with pandas.DataFrame."
   ]
  },
  {
   "cell_type": "code",
   "execution_count": 16,
   "metadata": {},
   "outputs": [
    {
     "data": {
      "text/html": [
       "<div>\n",
       "<style scoped>\n",
       "    .dataframe tbody tr th:only-of-type {\n",
       "        vertical-align: middle;\n",
       "    }\n",
       "\n",
       "    .dataframe tbody tr th {\n",
       "        vertical-align: top;\n",
       "    }\n",
       "\n",
       "    .dataframe thead th {\n",
       "        text-align: right;\n",
       "    }\n",
       "</style>\n",
       "<table border=\"1\" class=\"dataframe\">\n",
       "  <thead>\n",
       "    <tr style=\"text-align: right;\">\n",
       "      <th></th>\n",
       "      <th>from</th>\n",
       "      <th>to</th>\n",
       "      <th>effect</th>\n",
       "      <th>probability</th>\n",
       "    </tr>\n",
       "  </thead>\n",
       "  <tbody>\n",
       "    <tr>\n",
       "      <th>8</th>\n",
       "      <td>x5</td>\n",
       "      <td>x0</td>\n",
       "      <td>1.021466</td>\n",
       "      <td>0.63</td>\n",
       "    </tr>\n",
       "    <tr>\n",
       "      <th>5</th>\n",
       "      <td>x3</td>\n",
       "      <td>x0</td>\n",
       "      <td>0.986875</td>\n",
       "      <td>0.66</td>\n",
       "    </tr>\n",
       "    <tr>\n",
       "      <th>4</th>\n",
       "      <td>x0</td>\n",
       "      <td>x4</td>\n",
       "      <td>0.976640</td>\n",
       "      <td>0.91</td>\n",
       "    </tr>\n",
       "    <tr>\n",
       "      <th>12</th>\n",
       "      <td>x5</td>\n",
       "      <td>x4</td>\n",
       "      <td>0.941773</td>\n",
       "      <td>0.61</td>\n",
       "    </tr>\n",
       "    <tr>\n",
       "      <th>2</th>\n",
       "      <td>x1</td>\n",
       "      <td>x4</td>\n",
       "      <td>0.940142</td>\n",
       "      <td>0.96</td>\n",
       "    </tr>\n",
       "  </tbody>\n",
       "</table>\n",
       "</div>"
      ],
      "text/plain": [
       "   from  to    effect  probability\n",
       "8    x5  x0  1.021466         0.63\n",
       "5    x3  x0  0.986875         0.66\n",
       "4    x0  x4  0.976640         0.91\n",
       "12   x5  x4  0.941773         0.61\n",
       "2    x1  x4  0.940142         0.96"
      ]
     },
     "execution_count": 16,
     "metadata": {},
     "output_type": "execute_result"
    }
   ],
   "source": [
    "df.sort_values('effect', ascending=False).head()"
   ]
  },
  {
   "cell_type": "code",
   "execution_count": 17,
   "metadata": {},
   "outputs": [
    {
     "data": {
      "text/html": [
       "<div>\n",
       "<style scoped>\n",
       "    .dataframe tbody tr th:only-of-type {\n",
       "        vertical-align: middle;\n",
       "    }\n",
       "\n",
       "    .dataframe tbody tr th {\n",
       "        vertical-align: top;\n",
       "    }\n",
       "\n",
       "    .dataframe thead th {\n",
       "        text-align: right;\n",
       "    }\n",
       "</style>\n",
       "<table border=\"1\" class=\"dataframe\">\n",
       "  <thead>\n",
       "    <tr style=\"text-align: right;\">\n",
       "      <th></th>\n",
       "      <th>from</th>\n",
       "      <th>to</th>\n",
       "      <th>effect</th>\n",
       "      <th>probability</th>\n",
       "    </tr>\n",
       "  </thead>\n",
       "  <tbody>\n",
       "    <tr>\n",
       "      <th>14</th>\n",
       "      <td>x2</td>\n",
       "      <td>x4</td>\n",
       "      <td>0.243174</td>\n",
       "      <td>0.03</td>\n",
       "    </tr>\n",
       "    <tr>\n",
       "      <th>13</th>\n",
       "      <td>x4</td>\n",
       "      <td>x2</td>\n",
       "      <td>0.225102</td>\n",
       "      <td>0.13</td>\n",
       "    </tr>\n",
       "    <tr>\n",
       "      <th>12</th>\n",
       "      <td>x5</td>\n",
       "      <td>x4</td>\n",
       "      <td>0.941773</td>\n",
       "      <td>0.61</td>\n",
       "    </tr>\n",
       "    <tr>\n",
       "      <th>8</th>\n",
       "      <td>x5</td>\n",
       "      <td>x0</td>\n",
       "      <td>1.021466</td>\n",
       "      <td>0.63</td>\n",
       "    </tr>\n",
       "    <tr>\n",
       "      <th>9</th>\n",
       "      <td>x5</td>\n",
       "      <td>x1</td>\n",
       "      <td>0.555707</td>\n",
       "      <td>0.63</td>\n",
       "    </tr>\n",
       "  </tbody>\n",
       "</table>\n",
       "</div>"
      ],
      "text/plain": [
       "   from  to    effect  probability\n",
       "14   x2  x4  0.243174         0.03\n",
       "13   x4  x2  0.225102         0.13\n",
       "12   x5  x4  0.941773         0.61\n",
       "8    x5  x0  1.021466         0.63\n",
       "9    x5  x1  0.555707         0.63"
      ]
     },
     "execution_count": 17,
     "metadata": {},
     "output_type": "execute_result"
    }
   ],
   "source": [
    "df.sort_values('probability', ascending=True).head()"
   ]
  },
  {
   "cell_type": "markdown",
   "metadata": {},
   "source": [
    "Because it holds the raw data of the total causal effect (the original data for calculating the median), it is possible to draw a histogram of the values of the causal effect, as shown below."
   ]
  },
  {
   "cell_type": "code",
   "execution_count": 18,
   "metadata": {},
   "outputs": [
    {
     "data": {
      "text/plain": [
       "(array([ 0.,  0.,  0.,  0.,  0., 63.,  0.,  0.,  0.,  0.]),\n",
       " array([0.521, 0.621, 0.721, 0.821, 0.921, 1.021, 1.121, 1.221, 1.321,\n",
       "        1.421, 1.521]),\n",
       " <BarContainer object of 10 artists>)"
      ]
     },
     "execution_count": 18,
     "metadata": {},
     "output_type": "execute_result"
    },
    {
     "data": {
      "image/png": "[encoded data removed]",
      "text/plain": [
       "<Figure size 432x288 with 1 Axes>"
      ]
     },
     "metadata": {
      "needs_background": "light"
     },
     "output_type": "display_data"
    }
   ],
   "source": [
    "import matplotlib.pyplot as plt\n",
    "import seaborn as sns\n",
    "sns.set()\n",
    "%matplotlib inline\n",
    "\n",
    "from_index = 5 # index of x5\n",
    "to_index = 0 # index of x0\n",
    "plt.hist(result.total_effects_[:, to_index, from_index])"
   ]
  },
  {
   "cell_type": "markdown",
   "metadata": {},
   "source": [
    "## Bootstrap Probability of Path\n",
    "Using the `get_paths()` method, we can explore all paths from any variable to any variable and calculate the bootstrap probability for each path. The path will be output as an array of variable indices. For example, the array `[3, 0, 1]` shows the path from variable X3 through variable X0 to variable X1."
   ]
  },
  {
   "cell_type": "code",
   "execution_count": 19,
   "metadata": {},
   "outputs": [
    {
     "data": {
      "text/html": [
       "<div>\n",
       "<style scoped>\n",
       "    .dataframe tbody tr th:only-of-type {\n",
       "        vertical-align: middle;\n",
       "    }\n",
       "\n",
       "    .dataframe tbody tr th {\n",
       "        vertical-align: top;\n",
       "    }\n",
       "\n",
       "    .dataframe thead th {\n",
       "        text-align: right;\n",
       "    }\n",
       "</style>\n",
       "<table border=\"1\" class=\"dataframe\">\n",
       "  <thead>\n",
       "    <tr style=\"text-align: right;\">\n",
       "      <th></th>\n",
       "      <th>path</th>\n",
       "      <th>effect</th>\n",
       "      <th>probability</th>\n",
       "    </tr>\n",
       "  </thead>\n",
       "  <tbody>\n",
       "    <tr>\n",
       "      <th>0</th>\n",
       "      <td>[5, 1, 0, 4]</td>\n",
       "      <td>0.534675</td>\n",
       "      <td>0.96</td>\n",
       "    </tr>\n",
       "    <tr>\n",
       "      <th>1</th>\n",
       "      <td>[5, 3, 0, 4]</td>\n",
       "      <td>0.580992</td>\n",
       "      <td>0.65</td>\n",
       "    </tr>\n",
       "    <tr>\n",
       "      <th>2</th>\n",
       "      <td>[5, 3, 4]</td>\n",
       "      <td>-0.197046</td>\n",
       "      <td>0.12</td>\n",
       "    </tr>\n",
       "    <tr>\n",
       "      <th>3</th>\n",
       "      <td>[5, 0, 4]</td>\n",
       "      <td>0.505671</td>\n",
       "      <td>0.08</td>\n",
       "    </tr>\n",
       "    <tr>\n",
       "      <th>4</th>\n",
       "      <td>[5, 1, 0, 2, 4]</td>\n",
       "      <td>0.071415</td>\n",
       "      <td>0.01</td>\n",
       "    </tr>\n",
       "    <tr>\n",
       "      <th>5</th>\n",
       "      <td>[5, 1, 4]</td>\n",
       "      <td>0.530308</td>\n",
       "      <td>0.01</td>\n",
       "    </tr>\n",
       "  </tbody>\n",
       "</table>\n",
       "</div>"
      ],
      "text/plain": [
       "              path    effect  probability\n",
       "0     [5, 1, 0, 4]  0.534675         0.96\n",
       "1     [5, 3, 0, 4]  0.580992         0.65\n",
       "2        [5, 3, 4] -0.197046         0.12\n",
       "3        [5, 0, 4]  0.505671         0.08\n",
       "4  [5, 1, 0, 2, 4]  0.071415         0.01\n",
       "5        [5, 1, 4]  0.530308         0.01"
      ]
     },
     "execution_count": 19,
     "metadata": {},
     "output_type": "execute_result"
    }
   ],
   "source": [
    "from_index = 5 # index of x5\n",
    "to_index = 4 # index of x4\n",
    "\n",
    "pd.DataFrame(result.get_paths(from_index, to_index))"
   ]
  }
 ],
 "metadata": {
  "kernelspec": {
   "display_name": "Python 3",
   "language": "python",
   "name": "python3"
  },
  "language_info": {
   "codemirror_mode": {
    "name": "ipython",
    "version": 3
   },
   "file_extension": ".py",
   "mimetype": "text/x-python",
   "name": "python",
   "nbconvert_exporter": "python",
   "pygments_lexer": "ipython3",
   "version": "3.7.3"
  },
  "toc": {
   "base_numbering": 1,
   "nav_menu": {},
   "number_sections": true,
   "sideBar": true,
   "skip_h1_title": false,
   "title_cell": "Table of Contents",
   "title_sidebar": "Contents",
   "toc_cell": false,
   "toc_position": {},
   "toc_section_display": true,
   "toc_window_display": false
  }
 },
 "nbformat": 4,
 "nbformat_minor": 4
}
