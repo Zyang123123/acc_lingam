{
 "cells": [
  {
   "cell_type": "markdown",
   "metadata": {},
   "source": [
    "# RCD"
   ]
  },
  {
   "cell_type": "markdown",
   "metadata": {},
   "source": [
    "## Import and settings\n",
    "In this example, we need to import `numpy`, `pandas`, and `graphviz` in addition to `lingam`."
   ]
  },
  {
   "cell_type": "code",
   "execution_count": 1,
   "metadata": {},
   "outputs": [
    {
     "name": "stdout",
     "output_type": "stream",
     "text": [
      "['1.19.2', '1.1.2', '0.14.1', '1.5.0']\n"
     ]
    }
   ],
   "source": [
    "import numpy as np\n",
    "import pandas as pd\n",
    "import graphviz\n",
    "import lingam\n",
    "from lingam.utils import print_causal_directions, print_dagc, make_dot\n",
    "\n",
    "print([np.__version__, pd.__version__, graphviz.__version__, lingam.__version__])\n",
    "\n",
    "np.set_printoptions(precision=3, suppress=True)"
   ]
  },
  {
   "cell_type": "markdown",
   "metadata": {},
   "source": [
    "## Test data\n",
    "First, we generate a causal structure with 7 variables. Then we create a dataset with 5 variables from x0 to x4, with x5 and x6 being the latent variables."
   ]
  },
  {
   "cell_type": "code",
   "execution_count": 2,
   "metadata": {},
   "outputs": [
    {
     "data": {
      "text/html": [
       "<div>\n",
       "<style scoped>\n",
       "    .dataframe tbody tr th:only-of-type {\n",
       "        vertical-align: middle;\n",
       "    }\n",
       "\n",
       "    .dataframe tbody tr th {\n",
       "        vertical-align: top;\n",
       "    }\n",
       "\n",
       "    .dataframe thead th {\n",
       "        text-align: right;\n",
       "    }\n",
       "</style>\n",
       "<table border=\"1\" class=\"dataframe\">\n",
       "  <thead>\n",
       "    <tr style=\"text-align: right;\">\n",
       "      <th></th>\n",
       "      <th>x0</th>\n",
       "      <th>x1</th>\n",
       "      <th>x2</th>\n",
       "      <th>x3</th>\n",
       "      <th>x4</th>\n",
       "    </tr>\n",
       "  </thead>\n",
       "  <tbody>\n",
       "    <tr>\n",
       "      <th>0</th>\n",
       "      <td>-0.191493</td>\n",
       "      <td>-0.054157</td>\n",
       "      <td>0.014075</td>\n",
       "      <td>-0.047309</td>\n",
       "      <td>0.016311</td>\n",
       "    </tr>\n",
       "    <tr>\n",
       "      <th>1</th>\n",
       "      <td>-0.967142</td>\n",
       "      <td>0.013890</td>\n",
       "      <td>-1.115854</td>\n",
       "      <td>-0.035899</td>\n",
       "      <td>-1.254783</td>\n",
       "    </tr>\n",
       "    <tr>\n",
       "      <th>2</th>\n",
       "      <td>0.527409</td>\n",
       "      <td>-0.034960</td>\n",
       "      <td>0.426923</td>\n",
       "      <td>0.064804</td>\n",
       "      <td>0.894242</td>\n",
       "    </tr>\n",
       "    <tr>\n",
       "      <th>3</th>\n",
       "      <td>1.583826</td>\n",
       "      <td>0.845653</td>\n",
       "      <td>1.265038</td>\n",
       "      <td>0.704166</td>\n",
       "      <td>1.994283</td>\n",
       "    </tr>\n",
       "    <tr>\n",
       "      <th>4</th>\n",
       "      <td>0.286276</td>\n",
       "      <td>0.141120</td>\n",
       "      <td>0.116967</td>\n",
       "      <td>0.329866</td>\n",
       "      <td>0.257932</td>\n",
       "    </tr>\n",
       "  </tbody>\n",
       "</table>\n",
       "</div>"
      ],
      "text/plain": [
       "         x0        x1        x2        x3        x4\n",
       "0 -0.191493 -0.054157  0.014075 -0.047309  0.016311\n",
       "1 -0.967142  0.013890 -1.115854 -0.035899 -1.254783\n",
       "2  0.527409 -0.034960  0.426923  0.064804  0.894242\n",
       "3  1.583826  0.845653  1.265038  0.704166  1.994283\n",
       "4  0.286276  0.141120  0.116967  0.329866  0.257932"
      ]
     },
     "execution_count": 2,
     "metadata": {},
     "output_type": "execute_result"
    }
   ],
   "source": [
    "np.random.seed(0)\n",
    "\n",
    "get_external_effect = lambda n: np.random.normal(0.0, 0.5, n) ** 3\n",
    "n_samples = 300\n",
    "\n",
    "x5 = get_external_effect(n_samples)\n",
    "x6 = get_external_effect(n_samples)\n",
    "x1 = 0.6*x5 + get_external_effect(n_samples)\n",
    "x3 = 0.5*x5 + get_external_effect(n_samples)\n",
    "x0 = 1.0*x1 + 1.0*x3 + get_external_effect(n_samples)\n",
    "x2 = 0.8*x0 - 0.6*x6 + get_external_effect(n_samples)\n",
    "x4 = 1.0*x0 - 0.5*x6 + get_external_effect(n_samples)\n",
    "\n",
    "# The latent variables x5 and x6 are not included.\n",
    "X = pd.DataFrame(np.array([x0, x1, x2, x3, x4]).T, columns=['x0', 'x1', 'x2', 'x3', 'x4'])\n",
    "\n",
    "X.head()"
   ]
  },
  {
   "cell_type": "code",
   "execution_count": 3,
   "metadata": {},
   "outputs": [
    {
     "data": {
      "image/svg+xml": [
       "<?xml version=\"1.0\" encoding=\"UTF-8\" standalone=\"no\"?>\r\n",
       "<!DOCTYPE svg PUBLIC \"-//W3C//DTD SVG 1.1//EN\"\r\n",
       " \"http://www.w3.org/Graphics/SVG/1.1/DTD/svg11.dtd\">\r\n",
       "<!-- Generated by graphviz version 2.44.1 (20200629.0846)\r\n",
       " -->\r\n",
       "<!-- Pages: 1 -->\r\n",
       "<svg width=\"198pt\" height=\"305pt\"\r\n",
       " viewBox=\"0.00 0.00 198.00 305.00\" xmlns=\"http://www.w3.org/2000/svg\" xmlns:xlink=\"http://www.w3.org/1999/xlink\">\r\n",
       "<g id=\"graph0\" class=\"graph\" transform=\"scale(1 1) rotate(0) translate(4 301)\">\r\n",
       "<polygon fill=\"white\" stroke=\"transparent\" points=\"-4,4 -4,-301 194,-301 194,4 -4,4\"/>\r\n",
       "<!-- x0 -->\r\n",
       "<g id=\"node1\" class=\"node\">\r\n",
       "<title>x0</title>\r\n",
       "<ellipse fill=\"none\" stroke=\"black\" cx=\"63\" cy=\"-105\" rx=\"27\" ry=\"18\"/>\r\n",
       "<text text-anchor=\"middle\" x=\"63\" y=\"-101.3\" font-family=\"Times New Roman,serif\" font-size=\"14.00\">x0</text>\r\n",
       "</g>\r\n",
       "<!-- x2 -->\r\n",
       "<g id=\"node3\" class=\"node\">\r\n",
       "<title>x2</title>\r\n",
       "<ellipse fill=\"none\" stroke=\"black\" cx=\"72\" cy=\"-18\" rx=\"27\" ry=\"18\"/>\r\n",
       "<text text-anchor=\"middle\" x=\"72\" y=\"-14.3\" font-family=\"Times New Roman,serif\" font-size=\"14.00\">x2</text>\r\n",
       "</g>\r\n",
       "<!-- x0&#45;&gt;x2 -->\r\n",
       "<g id=\"edge4\" class=\"edge\">\r\n",
       "<title>x0&#45;&gt;x2</title>\r\n",
       "<path fill=\"none\" stroke=\"black\" d=\"M47.18,-89.96C38.13,-80.15 29.57,-66.61 35,-54 37.46,-48.28 41.38,-43.05 45.75,-38.49\"/>\r\n",
       "<polygon fill=\"black\" stroke=\"black\" points=\"48.4,-40.8 53.38,-31.45 43.65,-35.66 48.4,-40.8\"/>\r\n",
       "<text text-anchor=\"middle\" x=\"47.5\" y=\"-57.8\" font-family=\"Times New Roman,serif\" font-size=\"14.00\">0.80</text>\r\n",
       "</g>\r\n",
       "<!-- x4 -->\r\n",
       "<g id=\"node5\" class=\"node\">\r\n",
       "<title>x4</title>\r\n",
       "<ellipse fill=\"none\" stroke=\"black\" cx=\"163\" cy=\"-18\" rx=\"27\" ry=\"18\"/>\r\n",
       "<text text-anchor=\"middle\" x=\"163\" y=\"-14.3\" font-family=\"Times New Roman,serif\" font-size=\"14.00\">x4</text>\r\n",
       "</g>\r\n",
       "<!-- x0&#45;&gt;x4 -->\r\n",
       "<g id=\"edge7\" class=\"edge\">\r\n",
       "<title>x0&#45;&gt;x4</title>\r\n",
       "<path fill=\"none\" stroke=\"black\" d=\"M64.81,-86.89C66.74,-76.27 70.74,-63 79,-54 86.21,-46.15 109.15,-36.85 129.24,-29.81\"/>\r\n",
       "<polygon fill=\"black\" stroke=\"black\" points=\"130.46,-33.1 138.79,-26.56 128.2,-26.47 130.46,-33.1\"/>\r\n",
       "<text text-anchor=\"middle\" x=\"91.5\" y=\"-57.8\" font-family=\"Times New Roman,serif\" font-size=\"14.00\">1.00</text>\r\n",
       "</g>\r\n",
       "<!-- x1 -->\r\n",
       "<g id=\"node2\" class=\"node\">\r\n",
       "<title>x1</title>\r\n",
       "<ellipse fill=\"none\" stroke=\"black\" cx=\"27\" cy=\"-192\" rx=\"27\" ry=\"18\"/>\r\n",
       "<text text-anchor=\"middle\" x=\"27\" y=\"-188.3\" font-family=\"Times New Roman,serif\" font-size=\"14.00\">x1</text>\r\n",
       "</g>\r\n",
       "<!-- x1&#45;&gt;x0 -->\r\n",
       "<g id=\"edge1\" class=\"edge\">\r\n",
       "<title>x1&#45;&gt;x0</title>\r\n",
       "<path fill=\"none\" stroke=\"black\" d=\"M32.97,-174.18C36.54,-164.41 41.29,-151.91 46,-141 47.34,-137.9 48.8,-134.67 50.29,-131.49\"/>\r\n",
       "<polygon fill=\"black\" stroke=\"black\" points=\"53.56,-132.77 54.74,-122.24 47.25,-129.74 53.56,-132.77\"/>\r\n",
       "<text text-anchor=\"middle\" x=\"58.5\" y=\"-144.8\" font-family=\"Times New Roman,serif\" font-size=\"14.00\">1.00</text>\r\n",
       "</g>\r\n",
       "<!-- x3 -->\r\n",
       "<g id=\"node4\" class=\"node\">\r\n",
       "<title>x3</title>\r\n",
       "<ellipse fill=\"none\" stroke=\"black\" cx=\"99\" cy=\"-192\" rx=\"27\" ry=\"18\"/>\r\n",
       "<text text-anchor=\"middle\" x=\"99\" y=\"-188.3\" font-family=\"Times New Roman,serif\" font-size=\"14.00\">x3</text>\r\n",
       "</g>\r\n",
       "<!-- x3&#45;&gt;x0 -->\r\n",
       "<g id=\"edge2\" class=\"edge\">\r\n",
       "<title>x3&#45;&gt;x0</title>\r\n",
       "<path fill=\"none\" stroke=\"black\" d=\"M91.89,-174.21C86.78,-162.14 79.79,-145.64 73.97,-131.89\"/>\r\n",
       "<polygon fill=\"black\" stroke=\"black\" points=\"77.1,-130.31 69.98,-122.47 70.65,-133.04 77.1,-130.31\"/>\r\n",
       "<text text-anchor=\"middle\" x=\"95.5\" y=\"-144.8\" font-family=\"Times New Roman,serif\" font-size=\"14.00\">1.00</text>\r\n",
       "</g>\r\n",
       "<!-- f0(x5) -->\r\n",
       "<g id=\"node6\" class=\"node\">\r\n",
       "<title>f0(x5)</title>\r\n",
       "<ellipse fill=\"none\" stroke=\"black\" cx=\"63\" cy=\"-279\" rx=\"32.49\" ry=\"18\"/>\r\n",
       "<text text-anchor=\"middle\" x=\"63\" y=\"-275.3\" font-family=\"Times New Roman,serif\" font-size=\"14.00\">f0(x5)</text>\r\n",
       "</g>\r\n",
       "<!-- f0(x5)&#45;&gt;x1 -->\r\n",
       "<g id=\"edge3\" class=\"edge\">\r\n",
       "<title>f0(x5)&#45;&gt;x1</title>\r\n",
       "<path fill=\"none\" stroke=\"black\" d=\"M54.57,-261.41C51.73,-255.63 48.62,-249.08 46,-243 42.72,-235.41 39.43,-227.06 36.52,-219.39\"/>\r\n",
       "<polygon fill=\"black\" stroke=\"black\" points=\"39.73,-217.97 32.97,-209.82 33.17,-220.41 39.73,-217.97\"/>\r\n",
       "<text text-anchor=\"middle\" x=\"58.5\" y=\"-231.8\" font-family=\"Times New Roman,serif\" font-size=\"14.00\">0.60</text>\r\n",
       "</g>\r\n",
       "<!-- f0(x5)&#45;&gt;x3 -->\r\n",
       "<g id=\"edge6\" class=\"edge\">\r\n",
       "<title>f0(x5)&#45;&gt;x3</title>\r\n",
       "<path fill=\"none\" stroke=\"black\" d=\"M70.11,-261.21C75.22,-249.14 82.21,-232.64 88.03,-218.89\"/>\r\n",
       "<polygon fill=\"black\" stroke=\"black\" points=\"91.35,-220.04 92.02,-209.47 84.9,-217.31 91.35,-220.04\"/>\r\n",
       "<text text-anchor=\"middle\" x=\"95.5\" y=\"-231.8\" font-family=\"Times New Roman,serif\" font-size=\"14.00\">0.50</text>\r\n",
       "</g>\r\n",
       "<!-- f1(x6) -->\r\n",
       "<g id=\"node7\" class=\"node\">\r\n",
       "<title>f1(x6)</title>\r\n",
       "<ellipse fill=\"none\" stroke=\"black\" cx=\"149\" cy=\"-105\" rx=\"32.49\" ry=\"18\"/>\r\n",
       "<text text-anchor=\"middle\" x=\"149\" y=\"-101.3\" font-family=\"Times New Roman,serif\" font-size=\"14.00\">f1(x6)</text>\r\n",
       "</g>\r\n",
       "<!-- f1(x6)&#45;&gt;x2 -->\r\n",
       "<g id=\"edge5\" class=\"edge\">\r\n",
       "<title>f1(x6)&#45;&gt;x2</title>\r\n",
       "<path fill=\"none\" stroke=\"black\" d=\"M136.52,-87.85C128.61,-77.86 118.03,-64.91 108,-54 103.77,-49.39 99.08,-44.62 94.53,-40.14\"/>\r\n",
       "<polygon fill=\"black\" stroke=\"black\" points=\"96.71,-37.38 87.09,-32.94 91.84,-42.41 96.71,-37.38\"/>\r\n",
       "<text text-anchor=\"middle\" x=\"134.5\" y=\"-57.8\" font-family=\"Times New Roman,serif\" font-size=\"14.00\">&#45;0.60</text>\r\n",
       "</g>\r\n",
       "<!-- f1(x6)&#45;&gt;x4 -->\r\n",
       "<g id=\"edge8\" class=\"edge\">\r\n",
       "<title>f1(x6)&#45;&gt;x4</title>\r\n",
       "<path fill=\"none\" stroke=\"black\" d=\"M155.22,-87.12C157.07,-81.44 158.89,-75.01 160,-69 161.33,-61.76 162.11,-53.84 162.56,-46.48\"/>\r\n",
       "<polygon fill=\"black\" stroke=\"black\" points=\"166.07,-46.39 163,-36.25 159.07,-46.09 166.07,-46.39\"/>\r\n",
       "<text text-anchor=\"middle\" x=\"175.5\" y=\"-57.8\" font-family=\"Times New Roman,serif\" font-size=\"14.00\">&#45;0.50</text>\r\n",
       "</g>\r\n",
       "</g>\r\n",
       "</svg>\r\n"
      ],
      "text/plain": [
       "<graphviz.dot.Digraph at 0x1c46ab68>"
      ]
     },
     "execution_count": 3,
     "metadata": {},
     "output_type": "execute_result"
    }
   ],
   "source": [
    "m = np.array([[ 0.0, 1.0, 0.0, 1.0, 0.0, 0.0, 0.0],\n",
    "              [ 0.0, 0.0, 0.0, 0.0, 0.0, 0.6, 0.0],\n",
    "              [ 0.8, 0.0, 0.0, 0.0, 0.0, 0.0,-0.6],\n",
    "              [ 0.0, 0.0, 0.0, 0.0, 0.0, 0.5, 0.0],\n",
    "              [ 1.0, 0.0, 0.0, 0.0, 0.0, 0.0,-0.5],\n",
    "              [ 0.0, 0.0, 0.0, 0.0, 0.0, 0.0, 0.0],\n",
    "              [ 0.0, 0.0, 0.0, 0.0, 0.0, 0.0, 0.0]])\n",
    "dot = make_dot(m, labels=['x0', 'x1', 'x2', 'x3', 'x4', 'f0(x5)', 'f1(x6)'])\n",
    "\n",
    "# Save pdf\n",
    "dot.render('dag')\n",
    "\n",
    "# Save png\n",
    "dot.format = 'png'\n",
    "dot.render('dag')\n",
    "\n",
    "dot"
   ]
  },
  {
   "cell_type": "markdown",
   "metadata": {},
   "source": [
    "## Causal Discovery\n",
    "To run causal discovery, we create a `RCD` object and call the `fit` method."
   ]
  },
  {
   "cell_type": "code",
   "execution_count": 4,
   "metadata": {},
   "outputs": [
    {
     "data": {
      "text/plain": [
       "<lingam.rcd.RCD at 0x1c2baaf0>"
      ]
     },
     "execution_count": 4,
     "metadata": {},
     "output_type": "execute_result"
    }
   ],
   "source": [
    "model = lingam.RCD()\n",
    "model.fit(X)"
   ]
  },
  {
   "cell_type": "markdown",
   "metadata": {},
   "source": [
    "Using the `ancestors_list_` properties, we can see the list of ancestors sets as a result of the causal discovery."
   ]
  },
  {
   "cell_type": "code",
   "execution_count": 5,
   "metadata": {},
   "outputs": [
    {
     "name": "stdout",
     "output_type": "stream",
     "text": [
      "M0=set()\n",
      "M1=set()\n",
      "M2={0, 1, 3}\n",
      "M3=set()\n",
      "M4={0, 1, 3}\n"
     ]
    }
   ],
   "source": [
    "ancestors_list = model.ancestors_list_\n",
    "\n",
    "for i, ancestors in enumerate(ancestors_list):\n",
    "    print(f'M{i}={ancestors}')"
   ]
  },
  {
   "cell_type": "markdown",
   "metadata": {},
   "source": [
    "Also, using the `adjacency_matrix_` properties, we can see the adjacency matrix as a result of the causal discovery. The coefficients between variables with latent confounders are np.nan."
   ]
  },
  {
   "cell_type": "code",
   "execution_count": 6,
   "metadata": {},
   "outputs": [
    {
     "data": {
      "text/plain": [
       "array([[0.   ,   nan, 0.   ,   nan, 0.   ],\n",
       "       [  nan, 0.   , 0.   ,   nan, 0.   ],\n",
       "       [0.751, 0.   , 0.   , 0.   ,   nan],\n",
       "       [  nan,   nan, 0.   , 0.   , 0.   ],\n",
       "       [1.016, 0.   ,   nan, 0.   , 0.   ]])"
      ]
     },
     "execution_count": 6,
     "metadata": {},
     "output_type": "execute_result"
    }
   ],
   "source": [
    "model.adjacency_matrix_"
   ]
  },
  {
   "cell_type": "code",
   "execution_count": 7,
   "metadata": {},
   "outputs": [
    {
     "data": {
      "image/svg+xml": [
       "<?xml version=\"1.0\" encoding=\"UTF-8\" standalone=\"no\"?>\r\n",
       "<!DOCTYPE svg PUBLIC \"-//W3C//DTD SVG 1.1//EN\"\r\n",
       " \"http://www.w3.org/Graphics/SVG/1.1/DTD/svg11.dtd\">\r\n",
       "<!-- Generated by graphviz version 2.44.1 (20200629.0846)\r\n",
       " -->\r\n",
       "<!-- Pages: 1 -->\r\n",
       "<svg width=\"411pt\" height=\"88pt\"\r\n",
       " viewBox=\"0.00 0.00 411.00 87.50\" xmlns=\"http://www.w3.org/2000/svg\" xmlns:xlink=\"http://www.w3.org/1999/xlink\">\r\n",
       "<g id=\"graph0\" class=\"graph\" transform=\"scale(1 1) rotate(0) translate(4 83.5)\">\r\n",
       "<polygon fill=\"white\" stroke=\"transparent\" points=\"-4,4 -4,-83.5 407,-83.5 407,4 -4,4\"/>\r\n",
       "<!-- x0 -->\r\n",
       "<g id=\"node1\" class=\"node\">\r\n",
       "<title>x0</title>\r\n",
       "<ellipse fill=\"none\" stroke=\"black\" cx=\"27\" cy=\"-18\" rx=\"27\" ry=\"18\"/>\r\n",
       "<text text-anchor=\"middle\" x=\"27\" y=\"-14.3\" font-family=\"Times New Roman,serif\" font-size=\"14.00\">x0</text>\r\n",
       "</g>\r\n",
       "<!-- x1 -->\r\n",
       "<g id=\"node2\" class=\"node\">\r\n",
       "<title>x1</title>\r\n",
       "<ellipse fill=\"none\" stroke=\"black\" cx=\"286\" cy=\"-18\" rx=\"27\" ry=\"18\"/>\r\n",
       "<text text-anchor=\"middle\" x=\"286\" y=\"-14.3\" font-family=\"Times New Roman,serif\" font-size=\"14.00\">x1</text>\r\n",
       "</g>\r\n",
       "<!-- x0&#45;&gt;x1 -->\r\n",
       "<g id=\"edge3\" class=\"edge\">\r\n",
       "<title>x0&#45;&gt;x1</title>\r\n",
       "<path fill=\"none\" stroke=\"black\" d=\"M58.22,-32.87C70.08,-37.76 83.89,-42.56 97,-45 128.46,-50.86 210.16,-53.54 241,-45 247.34,-43.24 253.68,-40.33 259.52,-37.05\"/>\r\n",
       "<polygon fill=\"black\" stroke=\"black\" points=\"59.34,-29.54 48.77,-28.79 56.57,-35.97 59.34,-29.54\"/>\r\n",
       "<polygon fill=\"black\" stroke=\"black\" points=\"261.52,-39.93 268.21,-31.72 257.86,-33.97 261.52,-39.93\"/>\r\n",
       "</g>\r\n",
       "<!-- x2 -->\r\n",
       "<g id=\"node3\" class=\"node\">\r\n",
       "<title>x2</title>\r\n",
       "<ellipse fill=\"none\" stroke=\"black\" cx=\"124\" cy=\"-18\" rx=\"27\" ry=\"18\"/>\r\n",
       "<text text-anchor=\"middle\" x=\"124\" y=\"-14.3\" font-family=\"Times New Roman,serif\" font-size=\"14.00\">x2</text>\r\n",
       "</g>\r\n",
       "<!-- x0&#45;&gt;x2 -->\r\n",
       "<g id=\"edge1\" class=\"edge\">\r\n",
       "<title>x0&#45;&gt;x2</title>\r\n",
       "<path fill=\"none\" stroke=\"black\" d=\"M54.02,-18C64.13,-18 75.8,-18 86.68,-18\"/>\r\n",
       "<polygon fill=\"black\" stroke=\"black\" points=\"86.79,-21.5 96.79,-18 86.79,-14.5 86.79,-21.5\"/>\r\n",
       "<text text-anchor=\"middle\" x=\"75.5\" y=\"-24.8\" font-family=\"Times New Roman,serif\" font-size=\"14.00\">0.75</text>\r\n",
       "</g>\r\n",
       "<!-- x3 -->\r\n",
       "<g id=\"node4\" class=\"node\">\r\n",
       "<title>x3</title>\r\n",
       "<ellipse fill=\"none\" stroke=\"black\" cx=\"376\" cy=\"-18\" rx=\"27\" ry=\"18\"/>\r\n",
       "<text text-anchor=\"middle\" x=\"376\" y=\"-14.3\" font-family=\"Times New Roman,serif\" font-size=\"14.00\">x3</text>\r\n",
       "</g>\r\n",
       "<!-- x0&#45;&gt;x3 -->\r\n",
       "<g id=\"edge4\" class=\"edge\">\r\n",
       "<title>x0&#45;&gt;x3</title>\r\n",
       "<path fill=\"none\" stroke=\"black\" d=\"M58.22,-32.87C70.08,-37.76 83.89,-42.56 97,-45 144.19,-53.79 265.98,-54.65 313,-45 324.13,-42.72 335.72,-38.38 345.88,-33.84\"/>\r\n",
       "<polygon fill=\"black\" stroke=\"black\" points=\"59.34,-29.54 48.77,-28.79 56.57,-35.97 59.34,-29.54\"/>\r\n",
       "<polygon fill=\"black\" stroke=\"black\" points=\"347.57,-36.91 355.12,-29.48 344.59,-30.58 347.57,-36.91\"/>\r\n",
       "</g>\r\n",
       "<!-- x4 -->\r\n",
       "<g id=\"node5\" class=\"node\">\r\n",
       "<title>x4</title>\r\n",
       "<ellipse fill=\"none\" stroke=\"black\" cx=\"214\" cy=\"-18\" rx=\"27\" ry=\"18\"/>\r\n",
       "<text text-anchor=\"middle\" x=\"214\" y=\"-14.3\" font-family=\"Times New Roman,serif\" font-size=\"14.00\">x4</text>\r\n",
       "</g>\r\n",
       "<!-- x0&#45;&gt;x4 -->\r\n",
       "<g id=\"edge2\" class=\"edge\">\r\n",
       "<title>x0&#45;&gt;x4</title>\r\n",
       "<path fill=\"none\" stroke=\"black\" d=\"M45.38,-31.56C61.01,-42.18 84.51,-56.13 107.5,-62 136.46,-69.4 167.89,-53.17 189.05,-38.38\"/>\r\n",
       "<polygon fill=\"black\" stroke=\"black\" points=\"191.19,-41.15 197.17,-32.41 187.04,-35.51 191.19,-41.15\"/>\r\n",
       "<text text-anchor=\"middle\" x=\"120\" y=\"-57.8\" font-family=\"Times New Roman,serif\" font-size=\"14.00\">1.02</text>\r\n",
       "</g>\r\n",
       "<!-- x1&#45;&gt;x3 -->\r\n",
       "<g id=\"edge5\" class=\"edge\">\r\n",
       "<title>x1&#45;&gt;x3</title>\r\n",
       "<path fill=\"none\" stroke=\"black\" d=\"M323.16,-18C328.4,-18 333.64,-18 338.88,-18\"/>\r\n",
       "<polygon fill=\"black\" stroke=\"black\" points=\"323.07,-14.5 313.07,-18 323.07,-21.5 323.07,-14.5\"/>\r\n",
       "<polygon fill=\"black\" stroke=\"black\" points=\"338.96,-21.5 348.96,-18 338.96,-14.5 338.96,-21.5\"/>\r\n",
       "</g>\r\n",
       "<!-- x2&#45;&gt;x4 -->\r\n",
       "<g id=\"edge6\" class=\"edge\">\r\n",
       "<title>x2&#45;&gt;x4</title>\r\n",
       "<path fill=\"none\" stroke=\"black\" d=\"M161.16,-18C166.4,-18 171.64,-18 176.88,-18\"/>\r\n",
       "<polygon fill=\"black\" stroke=\"black\" points=\"161.07,-14.5 151.07,-18 161.07,-21.5 161.07,-14.5\"/>\r\n",
       "<polygon fill=\"black\" stroke=\"black\" points=\"176.96,-21.5 186.96,-18 176.96,-14.5 176.96,-21.5\"/>\r\n",
       "</g>\r\n",
       "</g>\r\n",
       "</svg>\r\n"
      ],
      "text/plain": [
       "<graphviz.dot.Digraph at 0x1c46a8e0>"
      ]
     },
     "execution_count": 7,
     "metadata": {},
     "output_type": "execute_result"
    }
   ],
   "source": [
    "make_dot(model.adjacency_matrix_)"
   ]
  },
  {
   "cell_type": "markdown",
   "metadata": {},
   "source": [
    "## Bootstrapping\n",
    "We call `bootstrap()` method instead of `fit()`. Here, the second argument specifies the number of bootstrap sampling."
   ]
  },
  {
   "cell_type": "code",
   "execution_count": 8,
   "metadata": {
    "scrolled": true
   },
   "outputs": [],
   "source": [
    "import warnings\n",
    "warnings.filterwarnings('ignore', category=UserWarning)\n",
    "\n",
    "model = lingam.RCD()\n",
    "result = model.bootstrap(X, n_sampling=100)"
   ]
  },
  {
   "cell_type": "markdown",
   "metadata": {},
   "source": [
    "## Causal Directions\n",
    "Since `BootstrapResult` object is returned, we can get the ranking of the causal directions extracted by `get_causal_direction_counts()` method. In the following sample code, `n_directions` option is limited to the causal directions of the top 8 rankings, and `min_causal_effect` option is limited to causal directions with a coefficient of 0.01 or more."
   ]
  },
  {
   "cell_type": "code",
   "execution_count": 9,
   "metadata": {},
   "outputs": [],
   "source": [
    "cdc = result.get_causal_direction_counts(n_directions=8, min_causal_effect=0.01, split_by_causal_effect_sign=True)"
   ]
  },
  {
   "cell_type": "markdown",
   "metadata": {},
   "source": [
    "We can check the result by utility function."
   ]
  },
  {
   "cell_type": "code",
   "execution_count": 10,
   "metadata": {},
   "outputs": [
    {
     "name": "stdout",
     "output_type": "stream",
     "text": [
      "x4 <--- x0 (b>0) (98.0%)\n",
      "x2 <--- x0 (b>0) (44.0%)\n",
      "x2 <--- x4 (b>0) (36.0%)\n",
      "x0 <--- x1 (b>0) (25.0%)\n",
      "x0 <--- x3 (b>0) (22.0%)\n",
      "x4 <--- x3 (b<0) (19.0%)\n",
      "x2 <--- x1 (b>0) (6.0%)\n",
      "x2 <--- x3 (b>0) (6.0%)\n"
     ]
    }
   ],
   "source": [
    "print_causal_directions(cdc, 100)"
   ]
  },
  {
   "cell_type": "markdown",
   "metadata": {},
   "source": [
    "## Directed Acyclic Graphs\n",
    "Also, using the `get_directed_acyclic_graph_counts()` method, we can get the ranking of the DAGs extracted. In the following sample code, `n_dags` option is limited to the dags of the top 3 rankings, and `min_causal_effect` option is limited to causal directions with a coefficient of 0.01 or more."
   ]
  },
  {
   "cell_type": "code",
   "execution_count": 11,
   "metadata": {},
   "outputs": [],
   "source": [
    "dagc = result.get_directed_acyclic_graph_counts(n_dags=3, min_causal_effect=0.01, split_by_causal_effect_sign=True)"
   ]
  },
  {
   "cell_type": "markdown",
   "metadata": {},
   "source": [
    "We can check the result by utility function."
   ]
  },
  {
   "cell_type": "code",
   "execution_count": 12,
   "metadata": {},
   "outputs": [
    {
     "name": "stdout",
     "output_type": "stream",
     "text": [
      "DAG[0]: 21.0%\n",
      "\tx2 <--- x4 (b>0)\n",
      "\tx4 <--- x0 (b>0)\n",
      "DAG[1]: 19.0%\n",
      "\tx0 <--- x1 (b>0)\n",
      "\tx0 <--- x3 (b>0)\n",
      "\tx2 <--- x0 (b>0)\n",
      "\tx4 <--- x0 (b>0)\n",
      "DAG[2]: 18.0%\n",
      "\tx2 <--- x0 (b>0)\n",
      "\tx4 <--- x0 (b>0)\n"
     ]
    }
   ],
   "source": [
    "print_dagc(dagc, 100)"
   ]
  },
  {
   "cell_type": "markdown",
   "metadata": {},
   "source": [
    "## Probability\n",
    "Using the `get_probabilities()` method, we can get the probability of bootstrapping."
   ]
  },
  {
   "cell_type": "code",
   "execution_count": 13,
   "metadata": {},
   "outputs": [
    {
     "name": "stdout",
     "output_type": "stream",
     "text": [
      "[[0.   0.25 0.   0.22 0.  ]\n",
      " [0.   0.   0.   0.   0.  ]\n",
      " [0.44 0.06 0.   0.06 0.36]\n",
      " [0.   0.   0.   0.   0.  ]\n",
      " [0.98 0.03 0.01 0.21 0.  ]]\n"
     ]
    }
   ],
   "source": [
    "prob = result.get_probabilities(min_causal_effect=0.01)\n",
    "print(prob)"
   ]
  },
  {
   "cell_type": "markdown",
   "metadata": {},
   "source": [
    "## Causal Effects\n",
    "Using the `get_causal_effects()` method, we can get the list of causal effect. The causal effects we can get are dictionary type variable.\n",
    "We can display the list nicely by assigning it to pandas.DataFrame. Also, we have replaced the variable index with a label below."
   ]
  },
  {
   "cell_type": "code",
   "execution_count": 14,
   "metadata": {},
   "outputs": [
    {
     "data": {
      "text/html": [
       "<div>\n",
       "<style scoped>\n",
       "    .dataframe tbody tr th:only-of-type {\n",
       "        vertical-align: middle;\n",
       "    }\n",
       "\n",
       "    .dataframe tbody tr th {\n",
       "        vertical-align: top;\n",
       "    }\n",
       "\n",
       "    .dataframe thead th {\n",
       "        text-align: right;\n",
       "    }\n",
       "</style>\n",
       "<table border=\"1\" class=\"dataframe\">\n",
       "  <thead>\n",
       "    <tr style=\"text-align: right;\">\n",
       "      <th></th>\n",
       "      <th>from</th>\n",
       "      <th>to</th>\n",
       "      <th>effect</th>\n",
       "      <th>probability</th>\n",
       "    </tr>\n",
       "  </thead>\n",
       "  <tbody>\n",
       "    <tr>\n",
       "      <th>0</th>\n",
       "      <td>x4</td>\n",
       "      <td>x2</td>\n",
       "      <td>0.225102</td>\n",
       "      <td>0.51</td>\n",
       "    </tr>\n",
       "    <tr>\n",
       "      <th>1</th>\n",
       "      <td>x0</td>\n",
       "      <td>x2</td>\n",
       "      <td>0.814519</td>\n",
       "      <td>0.20</td>\n",
       "    </tr>\n",
       "    <tr>\n",
       "      <th>2</th>\n",
       "      <td>x0</td>\n",
       "      <td>x4</td>\n",
       "      <td>1.164953</td>\n",
       "      <td>0.20</td>\n",
       "    </tr>\n",
       "    <tr>\n",
       "      <th>3</th>\n",
       "      <td>x2</td>\n",
       "      <td>x4</td>\n",
       "      <td>0.243174</td>\n",
       "      <td>0.04</td>\n",
       "    </tr>\n",
       "    <tr>\n",
       "      <th>4</th>\n",
       "      <td>x1</td>\n",
       "      <td>x0</td>\n",
       "      <td>1.140202</td>\n",
       "      <td>0.02</td>\n",
       "    </tr>\n",
       "    <tr>\n",
       "      <th>5</th>\n",
       "      <td>x1</td>\n",
       "      <td>x2</td>\n",
       "      <td>0.803256</td>\n",
       "      <td>0.02</td>\n",
       "    </tr>\n",
       "    <tr>\n",
       "      <th>6</th>\n",
       "      <td>x1</td>\n",
       "      <td>x4</td>\n",
       "      <td>1.115286</td>\n",
       "      <td>0.02</td>\n",
       "    </tr>\n",
       "    <tr>\n",
       "      <th>7</th>\n",
       "      <td>x3</td>\n",
       "      <td>x0</td>\n",
       "      <td>1.184964</td>\n",
       "      <td>0.01</td>\n",
       "    </tr>\n",
       "    <tr>\n",
       "      <th>8</th>\n",
       "      <td>x3</td>\n",
       "      <td>x2</td>\n",
       "      <td>0.872317</td>\n",
       "      <td>0.01</td>\n",
       "    </tr>\n",
       "    <tr>\n",
       "      <th>9</th>\n",
       "      <td>x3</td>\n",
       "      <td>x4</td>\n",
       "      <td>1.084753</td>\n",
       "      <td>0.01</td>\n",
       "    </tr>\n",
       "  </tbody>\n",
       "</table>\n",
       "</div>"
      ],
      "text/plain": [
       "  from  to    effect  probability\n",
       "0   x4  x2  0.225102         0.51\n",
       "1   x0  x2  0.814519         0.20\n",
       "2   x0  x4  1.164953         0.20\n",
       "3   x2  x4  0.243174         0.04\n",
       "4   x1  x0  1.140202         0.02\n",
       "5   x1  x2  0.803256         0.02\n",
       "6   x1  x4  1.115286         0.02\n",
       "7   x3  x0  1.184964         0.01\n",
       "8   x3  x2  0.872317         0.01\n",
       "9   x3  x4  1.084753         0.01"
      ]
     },
     "execution_count": 14,
     "metadata": {},
     "output_type": "execute_result"
    }
   ],
   "source": [
    "causal_effects = result.get_causal_effects(min_causal_effect=0.01)\n",
    "\n",
    "# Assign to pandas.DataFrame for pretty display\n",
    "df = pd.DataFrame(causal_effects)\n",
    "labels = [f'x{i}' for i in range(X.shape[1])]\n",
    "df['from'] = df['from'].apply(lambda x : labels[x])\n",
    "df['to'] = df['to'].apply(lambda x : labels[x])\n",
    "df"
   ]
  },
  {
   "cell_type": "markdown",
   "metadata": {},
   "source": [
    "We can easily perform sorting operations with pandas.DataFrame."
   ]
  },
  {
   "cell_type": "code",
   "execution_count": 15,
   "metadata": {},
   "outputs": [
    {
     "data": {
      "text/html": [
       "<div>\n",
       "<style scoped>\n",
       "    .dataframe tbody tr th:only-of-type {\n",
       "        vertical-align: middle;\n",
       "    }\n",
       "\n",
       "    .dataframe tbody tr th {\n",
       "        vertical-align: top;\n",
       "    }\n",
       "\n",
       "    .dataframe thead th {\n",
       "        text-align: right;\n",
       "    }\n",
       "</style>\n",
       "<table border=\"1\" class=\"dataframe\">\n",
       "  <thead>\n",
       "    <tr style=\"text-align: right;\">\n",
       "      <th></th>\n",
       "      <th>from</th>\n",
       "      <th>to</th>\n",
       "      <th>effect</th>\n",
       "      <th>probability</th>\n",
       "    </tr>\n",
       "  </thead>\n",
       "  <tbody>\n",
       "    <tr>\n",
       "      <th>7</th>\n",
       "      <td>x3</td>\n",
       "      <td>x0</td>\n",
       "      <td>1.184964</td>\n",
       "      <td>0.01</td>\n",
       "    </tr>\n",
       "    <tr>\n",
       "      <th>2</th>\n",
       "      <td>x0</td>\n",
       "      <td>x4</td>\n",
       "      <td>1.164953</td>\n",
       "      <td>0.20</td>\n",
       "    </tr>\n",
       "    <tr>\n",
       "      <th>4</th>\n",
       "      <td>x1</td>\n",
       "      <td>x0</td>\n",
       "      <td>1.140202</td>\n",
       "      <td>0.02</td>\n",
       "    </tr>\n",
       "    <tr>\n",
       "      <th>6</th>\n",
       "      <td>x1</td>\n",
       "      <td>x4</td>\n",
       "      <td>1.115286</td>\n",
       "      <td>0.02</td>\n",
       "    </tr>\n",
       "    <tr>\n",
       "      <th>9</th>\n",
       "      <td>x3</td>\n",
       "      <td>x4</td>\n",
       "      <td>1.084753</td>\n",
       "      <td>0.01</td>\n",
       "    </tr>\n",
       "  </tbody>\n",
       "</table>\n",
       "</div>"
      ],
      "text/plain": [
       "  from  to    effect  probability\n",
       "7   x3  x0  1.184964         0.01\n",
       "2   x0  x4  1.164953         0.20\n",
       "4   x1  x0  1.140202         0.02\n",
       "6   x1  x4  1.115286         0.02\n",
       "9   x3  x4  1.084753         0.01"
      ]
     },
     "execution_count": 15,
     "metadata": {},
     "output_type": "execute_result"
    }
   ],
   "source": [
    "df.sort_values('effect', ascending=False).head()"
   ]
  },
  {
   "cell_type": "code",
   "execution_count": 16,
   "metadata": {},
   "outputs": [
    {
     "data": {
      "text/html": [
       "<div>\n",
       "<style scoped>\n",
       "    .dataframe tbody tr th:only-of-type {\n",
       "        vertical-align: middle;\n",
       "    }\n",
       "\n",
       "    .dataframe tbody tr th {\n",
       "        vertical-align: top;\n",
       "    }\n",
       "\n",
       "    .dataframe thead th {\n",
       "        text-align: right;\n",
       "    }\n",
       "</style>\n",
       "<table border=\"1\" class=\"dataframe\">\n",
       "  <thead>\n",
       "    <tr style=\"text-align: right;\">\n",
       "      <th></th>\n",
       "      <th>from</th>\n",
       "      <th>to</th>\n",
       "      <th>effect</th>\n",
       "      <th>probability</th>\n",
       "    </tr>\n",
       "  </thead>\n",
       "  <tbody>\n",
       "    <tr>\n",
       "      <th>7</th>\n",
       "      <td>x3</td>\n",
       "      <td>x0</td>\n",
       "      <td>1.184964</td>\n",
       "      <td>0.01</td>\n",
       "    </tr>\n",
       "    <tr>\n",
       "      <th>8</th>\n",
       "      <td>x3</td>\n",
       "      <td>x2</td>\n",
       "      <td>0.872317</td>\n",
       "      <td>0.01</td>\n",
       "    </tr>\n",
       "    <tr>\n",
       "      <th>9</th>\n",
       "      <td>x3</td>\n",
       "      <td>x4</td>\n",
       "      <td>1.084753</td>\n",
       "      <td>0.01</td>\n",
       "    </tr>\n",
       "    <tr>\n",
       "      <th>4</th>\n",
       "      <td>x1</td>\n",
       "      <td>x0</td>\n",
       "      <td>1.140202</td>\n",
       "      <td>0.02</td>\n",
       "    </tr>\n",
       "    <tr>\n",
       "      <th>5</th>\n",
       "      <td>x1</td>\n",
       "      <td>x2</td>\n",
       "      <td>0.803256</td>\n",
       "      <td>0.02</td>\n",
       "    </tr>\n",
       "  </tbody>\n",
       "</table>\n",
       "</div>"
      ],
      "text/plain": [
       "  from  to    effect  probability\n",
       "7   x3  x0  1.184964         0.01\n",
       "8   x3  x2  0.872317         0.01\n",
       "9   x3  x4  1.084753         0.01\n",
       "4   x1  x0  1.140202         0.02\n",
       "5   x1  x2  0.803256         0.02"
      ]
     },
     "execution_count": 16,
     "metadata": {},
     "output_type": "execute_result"
    }
   ],
   "source": [
    "df.sort_values('probability', ascending=True).head()"
   ]
  },
  {
   "cell_type": "code",
   "execution_count": 17,
   "metadata": {},
   "outputs": [
    {
     "data": {
      "text/html": [
       "<div>\n",
       "<style scoped>\n",
       "    .dataframe tbody tr th:only-of-type {\n",
       "        vertical-align: middle;\n",
       "    }\n",
       "\n",
       "    .dataframe tbody tr th {\n",
       "        vertical-align: top;\n",
       "    }\n",
       "\n",
       "    .dataframe thead th {\n",
       "        text-align: right;\n",
       "    }\n",
       "</style>\n",
       "<table border=\"1\" class=\"dataframe\">\n",
       "  <thead>\n",
       "    <tr style=\"text-align: right;\">\n",
       "      <th></th>\n",
       "      <th>from</th>\n",
       "      <th>to</th>\n",
       "      <th>effect</th>\n",
       "      <th>probability</th>\n",
       "    </tr>\n",
       "  </thead>\n",
       "  <tbody>\n",
       "  </tbody>\n",
       "</table>\n",
       "</div>"
      ],
      "text/plain": [
       "Empty DataFrame\n",
       "Columns: [from, to, effect, probability]\n",
       "Index: []"
      ]
     },
     "execution_count": 17,
     "metadata": {},
     "output_type": "execute_result"
    }
   ],
   "source": [
    "df[df['to']=='x1'].head()"
   ]
  },
  {
   "cell_type": "markdown",
   "metadata": {},
   "source": [
    "Because it holds the raw data of the causal effect (the original data for calculating the median), it is possible to draw a histogram of the values of the causal effect, as shown below."
   ]
  },
  {
   "cell_type": "code",
   "execution_count": 18,
   "metadata": {},
   "outputs": [
    {
     "data": {
      "text/plain": [
       "(array([78.,  0.,  0.,  0.,  0.,  0.,  0.,  0.,  0.,  1.]),\n",
       " array([0.   , 0.118, 0.237, 0.355, 0.474, 0.592, 0.711, 0.829, 0.948,\n",
       "        1.066, 1.185]),\n",
       " <BarContainer object of 10 artists>)"
      ]
     },
     "execution_count": 18,
     "metadata": {},
     "output_type": "execute_result"
    },
    {
     "data": {
      "image/png": "[encoded data removed]",
      "text/plain": [
       "<Figure size 432x288 with 1 Axes>"
      ]
     },
     "metadata": {
      "needs_background": "light"
     },
     "output_type": "display_data"
    }
   ],
   "source": [
    "import matplotlib.pyplot as plt\n",
    "import seaborn as sns\n",
    "sns.set()\n",
    "%matplotlib inline\n",
    "\n",
    "from_index = 3 # index of x3\n",
    "to_index = 0 # index of x0\n",
    "plt.hist(result.total_effects_[:, to_index, from_index])"
   ]
  },
  {
   "cell_type": "code",
   "execution_count": null,
   "metadata": {},
   "outputs": [],
   "source": []
  }
 ],
 "metadata": {
  "kernelspec": {
   "display_name": "Python 3",
   "language": "python",
   "name": "python3"
  },
  "language_info": {
   "codemirror_mode": {
    "name": "ipython",
    "version": 3
   },
   "file_extension": ".py",
   "mimetype": "text/x-python",
   "name": "python",
   "nbconvert_exporter": "python",
   "pygments_lexer": "ipython3",
   "version": "3.8.5"
  }
 },
 "nbformat": 4,
 "nbformat_minor": 4
}
