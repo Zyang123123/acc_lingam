{
 "cells": [
  {
   "cell_type": "code",
   "execution_count": 1,
   "metadata": {
    "colab": {
     "base_uri": "https://localhost:8080/"
    },
    "id": "Evw1qoakxycq",
    "outputId": "ec2c0424-5bfb-447a-e8a9-47a5874bbda7"
   },
   "outputs": [
    {
     "name": "stdout",
     "output_type": "stream",
     "text": [
      "['1.26.4', '2.2.2', '0.20.3', '2.0.4']\n"
     ]
    }
   ],
   "source": [
    "import numpy as np\n",
    "import pandas as pd\n",
    "import graphviz\n",
    "import lingam\n",
    "from lingam.utils import make_dot, print_causal_directions, print_dagc\n",
    "\n",
    "print([np.__version__, pd.__version__, graphviz.__version__, lingam.__version__])\n",
    "\n",
    "np.set_printoptions(precision=3, suppress=True)\n",
    "np.random.seed(0)"
   ]
  },
  {
   "cell_type": "code",
   "execution_count": 4,
   "metadata": {
    "colab": {
     "base_uri": "https://localhost:8080/"
    },
    "id": "X4aKsj9mOBcP",
    "outputId": "baf05d9f-9d4d-4001-8405-f0c24b69128c"
   },
   "outputs": [
    {
     "name": "stdout",
     "output_type": "stream",
     "text": [
      "Estimate VAR coefficients time: 1.9209682941436768 seconds\n",
      "Measure method: pwling\n",
      "search causal order Execution time: 41271.6442091465 seconds\n",
      "estimate adjacency matrix Execution time: 99.44349265098572 seconds\n",
      "   features  n_samples  total excution time\n",
      "0       400       2604         42698.192989\n"
     ]
    }
   ],
   "source": [
    "from os import listdir\n",
    "from os.path import isfile, join\n",
    "import numpy as np\n",
    "import pandas as pd\n",
    "import lingam\n",
    "import time\n",
    "\n",
    "# 定义处理单个数据集的函数\n",
    "def process_dataset(X, threshold=0, k_value=0):\n",
    "\n",
    "    n_samples = X.shape[0]\n",
    "    n_features = X.shape[1] \n",
    "    model = lingam.VARLiNGAM(lags=2)\n",
    "\n",
    "    start_time = time.time()\n",
    "    model.fit(X)\n",
    "    end_time = time.time()\n",
    "    execution_time = end_time - start_time\n",
    "\n",
    "    adjacency_matrices = model.adjacency_matrices_\n",
    "    \n",
    "    result = np.zeros_like(adjacency_matrices[0])\n",
    "    for idx, adj_matrix in enumerate(adjacency_matrices):\n",
    "        result += np.abs(adj_matrix)\n",
    "    \n",
    "    result = (result > threshold).astype(int)\n",
    "    \n",
    "    causality_matrix_df = pd.DataFrame(result)\n",
    "    causality_matrix_df.to_csv(f'test_results_before/causality_matrix_k{k_value}.csv', index=False, header=False)\n",
    "\n",
    "    return {\n",
    "        \"features\": n_features,\n",
    "        \"n_samples\": n_samples,\n",
    "        \"total excution time\": execution_time\n",
    "    }\n",
    "\n",
    "\n",
    "# 定义处理所有数据集的函数\n",
    "def process_all_datasets(output_file, threshold=0):\n",
    "    X = pd.read_csv('data/large-data/sp500.csv')\n",
    "    results=[]\n",
    "    k=400\n",
    "    while k<=400:\n",
    "        X_k = X.iloc[:, :k]\n",
    "        result = process_dataset(X_k , threshold, k_value=k)\n",
    "        results.append(result)\n",
    "        k = 2 * k\n",
    "\n",
    "    results_df = pd.DataFrame(results)\n",
    "    results_df.to_csv(output_file, index=False)\n",
    "\n",
    "\n",
    "    return results_df\n",
    "\n",
    "\n",
    "output_file = 'test_results_before/sp500_cpu_before_400.csv'\n",
    "\n",
    "# 处理所有数据集并保存结果\n",
    "results_df = process_all_datasets(output_file, threshold=0)\n",
    "print(results_df)\n"
   ]
  },
  {
   "cell_type": "code",
   "execution_count": 3,
   "metadata": {
    "colab": {
     "base_uri": "https://localhost:8080/"
    },
    "id": "nS9WQHtlPe57",
    "outputId": "646ed7f8-2beb-4c39-d520-d1c19ffd6eb9"
   },
   "outputs": [
    {
     "name": "stdout",
     "output_type": "stream",
     "text": [
      "0.6197515738247849\n",
      "0.13946696550768203\n"
     ]
    }
   ],
   "source": [
    "\n",
    "print(np.mean(results_df[\"f1score\"]))\n",
    "print(np.std(results_df[\"f1score\"]))"
   ]
  },
  {
   "cell_type": "code",
   "execution_count": null,
   "metadata": {},
   "outputs": [],
   "source": []
  }
 ],
 "metadata": {
  "colab": {
   "provenance": []
  },
  "kernelspec": {
   "display_name": "Python 3 (ipykernel)",
   "language": "python",
   "name": "python3"
  },
  "language_info": {
   "codemirror_mode": {
    "name": "ipython",
    "version": 3
   },
   "file_extension": ".py",
   "mimetype": "text/x-python",
   "name": "python",
   "nbconvert_exporter": "python",
   "pygments_lexer": "ipython3",
   "version": "3.12.4"
  }
 },
 "nbformat": 4,
 "nbformat_minor": 4
}
