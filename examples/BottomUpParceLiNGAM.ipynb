{
 "cells": [
  {
   "cell_type": "markdown",
   "metadata": {},
   "source": [
    "# BottomUpParceLiNGAM"
   ]
  },
  {
   "cell_type": "markdown",
   "metadata": {},
   "source": [
    "## Import and settings\n",
    "In this example, we need to import `numpy`, `pandas`, and `graphviz` in addition to `lingam`."
   ]
  },
  {
   "cell_type": "code",
   "execution_count": 1,
   "metadata": {
    "ExecuteTime": {
     "end_time": "2019-09-09T02:01:39.097825Z",
     "start_time": "2019-09-09T02:01:33.841227Z"
    }
   },
   "outputs": [
    {
     "name": "stdout",
     "output_type": "stream",
     "text": [
      "['1.16.2', '0.24.2', '0.11.1', '1.5.1']\n"
     ]
    }
   ],
   "source": [
    "import numpy as np\n",
    "import pandas as pd\n",
    "import graphviz\n",
    "import lingam\n",
    "from lingam.utils import print_causal_directions, print_dagc, make_dot\n",
    "\n",
    "print([np.__version__, pd.__version__, graphviz.__version__, lingam.__version__])\n",
    "\n",
    "np.set_printoptions(precision=3, suppress=True)"
   ]
  },
  {
   "cell_type": "markdown",
   "metadata": {},
   "source": [
    "## Test data\n",
    "First, we generate a causal structure with 7 variables. Then we create a dataset with 6 variables from x0 to x5, with x6 being the latent variable for x2 and x3."
   ]
  },
  {
   "cell_type": "code",
   "execution_count": 2,
   "metadata": {},
   "outputs": [
    {
     "data": {
      "text/html": [
       "<div>\n",
       "<style scoped>\n",
       "    .dataframe tbody tr th:only-of-type {\n",
       "        vertical-align: middle;\n",
       "    }\n",
       "\n",
       "    .dataframe tbody tr th {\n",
       "        vertical-align: top;\n",
       "    }\n",
       "\n",
       "    .dataframe thead th {\n",
       "        text-align: right;\n",
       "    }\n",
       "</style>\n",
       "<table border=\"1\" class=\"dataframe\">\n",
       "  <thead>\n",
       "    <tr style=\"text-align: right;\">\n",
       "      <th></th>\n",
       "      <th>x0</th>\n",
       "      <th>x1</th>\n",
       "      <th>x2</th>\n",
       "      <th>x3</th>\n",
       "      <th>x4</th>\n",
       "      <th>x5</th>\n",
       "    </tr>\n",
       "  </thead>\n",
       "  <tbody>\n",
       "    <tr>\n",
       "      <th>0</th>\n",
       "      <td>1.505949</td>\n",
       "      <td>2.667827</td>\n",
       "      <td>2.029420</td>\n",
       "      <td>1.463708</td>\n",
       "      <td>0.615387</td>\n",
       "      <td>1.157907</td>\n",
       "    </tr>\n",
       "    <tr>\n",
       "      <th>1</th>\n",
       "      <td>1.379130</td>\n",
       "      <td>1.721744</td>\n",
       "      <td>0.965613</td>\n",
       "      <td>0.801952</td>\n",
       "      <td>0.919654</td>\n",
       "      <td>0.957148</td>\n",
       "    </tr>\n",
       "    <tr>\n",
       "      <th>2</th>\n",
       "      <td>1.436825</td>\n",
       "      <td>2.845166</td>\n",
       "      <td>2.773506</td>\n",
       "      <td>2.533417</td>\n",
       "      <td>-0.616746</td>\n",
       "      <td>0.903326</td>\n",
       "    </tr>\n",
       "    <tr>\n",
       "      <th>3</th>\n",
       "      <td>1.562885</td>\n",
       "      <td>2.205270</td>\n",
       "      <td>1.080121</td>\n",
       "      <td>1.192257</td>\n",
       "      <td>1.240595</td>\n",
       "      <td>1.411295</td>\n",
       "    </tr>\n",
       "    <tr>\n",
       "      <th>4</th>\n",
       "      <td>1.940721</td>\n",
       "      <td>2.974182</td>\n",
       "      <td>2.140298</td>\n",
       "      <td>1.886342</td>\n",
       "      <td>0.451992</td>\n",
       "      <td>1.770786</td>\n",
       "    </tr>\n",
       "  </tbody>\n",
       "</table>\n",
       "</div>"
      ],
      "text/plain": [
       "         x0        x1        x2        x3        x4        x5\n",
       "0  1.505949  2.667827  2.029420  1.463708  0.615387  1.157907\n",
       "1  1.379130  1.721744  0.965613  0.801952  0.919654  0.957148\n",
       "2  1.436825  2.845166  2.773506  2.533417 -0.616746  0.903326\n",
       "3  1.562885  2.205270  1.080121  1.192257  1.240595  1.411295\n",
       "4  1.940721  2.974182  2.140298  1.886342  0.451992  1.770786"
      ]
     },
     "execution_count": 2,
     "metadata": {},
     "output_type": "execute_result"
    }
   ],
   "source": [
    "np.random.seed(1000)\n",
    "\n",
    "x6 = np.random.uniform(size=1000)\n",
    "x3 = 2.0*x6 + np.random.uniform(size=1000)\n",
    "x0 = 0.5*x3 + np.random.uniform(size=1000)\n",
    "x2 = 2.0*x6 + np.random.uniform(size=1000)\n",
    "x1 = 0.5*x0 + 0.5*x2 + np.random.uniform(size=1000)\n",
    "x5 = 0.5*x0 + np.random.uniform(size=1000)\n",
    "x4 = 0.5*x0 - 0.5*x2 + np.random.uniform(size=1000)\n",
    "\n",
    "# The latent variable x6 is not included.\n",
    "X = pd.DataFrame(np.array([x0, x1, x2, x3, x4, x5]).T, columns=['x0', 'x1', 'x2', 'x3', 'x4', 'x5'])\n",
    "\n",
    "X.head()"
   ]
  },
  {
   "cell_type": "code",
   "execution_count": 3,
   "metadata": {
    "ExecuteTime": {
     "end_time": "2019-09-09T02:01:39.420171Z",
     "start_time": "2019-09-09T02:01:39.165610Z"
    }
   },
   "outputs": [
    {
     "data": {
      "image/svg+xml": [
       "<?xml version=\"1.0\" encoding=\"UTF-8\" standalone=\"no\"?>\r\n",
       "<!DOCTYPE svg PUBLIC \"-//W3C//DTD SVG 1.1//EN\"\r\n",
       " \"http://www.w3.org/Graphics/SVG/1.1/DTD/svg11.dtd\">\r\n",
       "<!-- Generated by graphviz version 2.38.0 (20140413.2041)\r\n",
       " -->\r\n",
       "<!-- Title: %3 Pages: 1 -->\r\n",
       "<svg width=\"245pt\" height=\"305pt\"\r\n",
       " viewBox=\"0.00 0.00 245.00 305.00\" xmlns=\"http://www.w3.org/2000/svg\" xmlns:xlink=\"http://www.w3.org/1999/xlink\">\r\n",
       "<g id=\"graph0\" class=\"graph\" transform=\"scale(1 1) rotate(0) translate(4 301)\">\r\n",
       "<title>%3</title>\r\n",
       "<polygon fill=\"white\" stroke=\"none\" points=\"-4,4 -4,-301 241,-301 241,4 -4,4\"/>\r\n",
       "<!-- x0 -->\r\n",
       "<g id=\"node1\" class=\"node\"><title>x0</title>\r\n",
       "<ellipse fill=\"none\" stroke=\"black\" cx=\"150\" cy=\"-105\" rx=\"27\" ry=\"18\"/>\r\n",
       "<text text-anchor=\"middle\" x=\"150\" y=\"-101.3\" font-family=\"Times New Roman,serif\" font-size=\"14.00\">x0</text>\r\n",
       "</g>\r\n",
       "<!-- x1 -->\r\n",
       "<g id=\"node2\" class=\"node\"><title>x1</title>\r\n",
       "<ellipse fill=\"none\" stroke=\"black\" cx=\"125\" cy=\"-18\" rx=\"27\" ry=\"18\"/>\r\n",
       "<text text-anchor=\"middle\" x=\"125\" y=\"-14.3\" font-family=\"Times New Roman,serif\" font-size=\"14.00\">x1</text>\r\n",
       "</g>\r\n",
       "<!-- x0&#45;&gt;x1 -->\r\n",
       "<g id=\"edge2\" class=\"edge\"><title>x0&#45;&gt;x1</title>\r\n",
       "<path fill=\"none\" stroke=\"black\" d=\"M147.442,-86.6548C145.783,-76.931 143.308,-64.6521 140,-54 139.069,-51.0031 137.968,-47.9142 136.791,-44.8705\"/>\r\n",
       "<polygon fill=\"black\" stroke=\"black\" points=\"139.956,-43.3657 132.892,-35.4693 133.49,-46.0472 139.956,-43.3657\"/>\r\n",
       "<text text-anchor=\"middle\" x=\"155.5\" y=\"-57.8\" font-family=\"Times New Roman,serif\" font-size=\"14.00\">0.50</text>\r\n",
       "</g>\r\n",
       "<!-- x4 -->\r\n",
       "<g id=\"node5\" class=\"node\"><title>x4</title>\r\n",
       "<ellipse fill=\"none\" stroke=\"black\" cx=\"27\" cy=\"-18\" rx=\"27\" ry=\"18\"/>\r\n",
       "<text text-anchor=\"middle\" x=\"27\" y=\"-14.3\" font-family=\"Times New Roman,serif\" font-size=\"14.00\">x4</text>\r\n",
       "</g>\r\n",
       "<!-- x0&#45;&gt;x4 -->\r\n",
       "<g id=\"edge6\" class=\"edge\"><title>x0&#45;&gt;x4</title>\r\n",
       "<path fill=\"none\" stroke=\"black\" d=\"M134.544,-90.005C120.464,-77.3813 100.597,-59.916 92,-54 81.194,-46.5643 68.6395,-39.4801 57.4616,-33.6547\"/>\r\n",
       "<polygon fill=\"black\" stroke=\"black\" points=\"58.9644,-30.4924 48.4645,-29.0773 55.7902,-36.7313 58.9644,-30.4924\"/>\r\n",
       "<text text-anchor=\"middle\" x=\"121.5\" y=\"-57.8\" font-family=\"Times New Roman,serif\" font-size=\"14.00\">0.50</text>\r\n",
       "</g>\r\n",
       "<!-- x5 -->\r\n",
       "<g id=\"node6\" class=\"node\"><title>x5</title>\r\n",
       "<ellipse fill=\"none\" stroke=\"black\" cx=\"210\" cy=\"-18\" rx=\"27\" ry=\"18\"/>\r\n",
       "<text text-anchor=\"middle\" x=\"210\" y=\"-14.3\" font-family=\"Times New Roman,serif\" font-size=\"14.00\">x5</text>\r\n",
       "</g>\r\n",
       "<!-- x0&#45;&gt;x5 -->\r\n",
       "<g id=\"edge8\" class=\"edge\"><title>x0&#45;&gt;x5</title>\r\n",
       "<path fill=\"none\" stroke=\"black\" d=\"M161.005,-88.4097C169.97,-75.709 182.78,-57.5615 193.053,-43.0079\"/>\r\n",
       "<polygon fill=\"black\" stroke=\"black\" points=\"196.157,-44.6796 199.065,-34.4915 190.439,-40.6428 196.157,-44.6796\"/>\r\n",
       "<text text-anchor=\"middle\" x=\"195.5\" y=\"-57.8\" font-family=\"Times New Roman,serif\" font-size=\"14.00\">0.50</text>\r\n",
       "</g>\r\n",
       "<!-- x2 -->\r\n",
       "<g id=\"node3\" class=\"node\"><title>x2</title>\r\n",
       "<ellipse fill=\"none\" stroke=\"black\" cx=\"66\" cy=\"-105\" rx=\"27\" ry=\"18\"/>\r\n",
       "<text text-anchor=\"middle\" x=\"66\" y=\"-101.3\" font-family=\"Times New Roman,serif\" font-size=\"14.00\">x2</text>\r\n",
       "</g>\r\n",
       "<!-- x2&#45;&gt;x1 -->\r\n",
       "<g id=\"edge3\" class=\"edge\"><title>x2&#45;&gt;x1</title>\r\n",
       "<path fill=\"none\" stroke=\"black\" d=\"M62.441,-87.1561C61.1798,-76.9067 61.2665,-63.9233 67,-54 72.721,-44.0984 82.4634,-36.6692 92.347,-31.2627\"/>\r\n",
       "<polygon fill=\"black\" stroke=\"black\" points=\"93.9103,-34.3944 101.352,-26.8534 90.8319,-28.1076 93.9103,-34.3944\"/>\r\n",
       "<text text-anchor=\"middle\" x=\"79.5\" y=\"-57.8\" font-family=\"Times New Roman,serif\" font-size=\"14.00\">0.50</text>\r\n",
       "</g>\r\n",
       "<!-- x2&#45;&gt;x4 -->\r\n",
       "<g id=\"edge7\" class=\"edge\"><title>x2&#45;&gt;x4</title>\r\n",
       "<path fill=\"none\" stroke=\"black\" d=\"M43.7256,-94.7988C32.9729,-89.0846 21.1041,-80.5923 15,-69 11.0376,-61.4751 11.6861,-52.6266 14.0624,-44.4816\"/>\r\n",
       "<polygon fill=\"black\" stroke=\"black\" points=\"17.3723,-45.6237 17.6242,-35.0319 10.8221,-43.1548 17.3723,-45.6237\"/>\r\n",
       "<text text-anchor=\"middle\" x=\"29.5\" y=\"-57.8\" font-family=\"Times New Roman,serif\" font-size=\"14.00\">&#45;0.50</text>\r\n",
       "</g>\r\n",
       "<!-- x3 -->\r\n",
       "<g id=\"node4\" class=\"node\"><title>x3</title>\r\n",
       "<ellipse fill=\"none\" stroke=\"black\" cx=\"145\" cy=\"-192\" rx=\"27\" ry=\"18\"/>\r\n",
       "<text text-anchor=\"middle\" x=\"145\" y=\"-188.3\" font-family=\"Times New Roman,serif\" font-size=\"14.00\">x3</text>\r\n",
       "</g>\r\n",
       "<!-- x3&#45;&gt;x0 -->\r\n",
       "<g id=\"edge1\" class=\"edge\"><title>x3&#45;&gt;x0</title>\r\n",
       "<path fill=\"none\" stroke=\"black\" d=\"M146.012,-173.799C146.696,-162.163 147.615,-146.548 148.398,-133.237\"/>\r\n",
       "<polygon fill=\"black\" stroke=\"black\" points=\"151.896,-133.364 148.99,-123.175 144.908,-132.953 151.896,-133.364\"/>\r\n",
       "<text text-anchor=\"middle\" x=\"159.5\" y=\"-144.8\" font-family=\"Times New Roman,serif\" font-size=\"14.00\">0.50</text>\r\n",
       "</g>\r\n",
       "<!-- x6 -->\r\n",
       "<g id=\"node7\" class=\"node\"><title>x6</title>\r\n",
       "<ellipse fill=\"none\" stroke=\"black\" cx=\"99\" cy=\"-279\" rx=\"27\" ry=\"18\"/>\r\n",
       "<text text-anchor=\"middle\" x=\"99\" y=\"-275.3\" font-family=\"Times New Roman,serif\" font-size=\"14.00\">x6</text>\r\n",
       "</g>\r\n",
       "<!-- x6&#45;&gt;x2 -->\r\n",
       "<g id=\"edge4\" class=\"edge\"><title>x6&#45;&gt;x2</title>\r\n",
       "<path fill=\"none\" stroke=\"black\" d=\"M95.0233,-260.998C91.8671,-247.27 87.4303,-227.437 84,-210 78.8796,-183.972 73.7943,-154.124 70.3417,-133.1\"/>\r\n",
       "<polygon fill=\"black\" stroke=\"black\" points=\"73.7551,-132.284 68.6935,-122.977 66.8461,-133.409 73.7551,-132.284\"/>\r\n",
       "<text text-anchor=\"middle\" x=\"96.5\" y=\"-188.3\" font-family=\"Times New Roman,serif\" font-size=\"14.00\">2.00</text>\r\n",
       "</g>\r\n",
       "<!-- x6&#45;&gt;x3 -->\r\n",
       "<g id=\"edge5\" class=\"edge\"><title>x6&#45;&gt;x3</title>\r\n",
       "<path fill=\"none\" stroke=\"black\" d=\"M107.869,-261.611C114.53,-249.303 123.772,-232.226 131.369,-218.187\"/>\r\n",
       "<polygon fill=\"black\" stroke=\"black\" points=\"134.633,-219.511 136.314,-209.05 128.476,-216.179 134.633,-219.511\"/>\r\n",
       "<text text-anchor=\"middle\" x=\"136.5\" y=\"-231.8\" font-family=\"Times New Roman,serif\" font-size=\"14.00\">2.00</text>\r\n",
       "</g>\r\n",
       "</g>\r\n",
       "</svg>\r\n"
      ],
      "text/plain": [
       "<graphviz.dot.Digraph at 0x20993cd5160>"
      ]
     },
     "execution_count": 3,
     "metadata": {},
     "output_type": "execute_result"
    }
   ],
   "source": [
    "m = np.array([[0.0, 0.0, 0.0, 0.5, 0.0, 0.0, 0.0],\n",
    "              [0.5, 0.0, 0.5, 0.0, 0.0, 0.0, 0.0],\n",
    "              [0.0, 0.0, 0.0, 0.0, 0.0, 0.0, 2.0],\n",
    "              [0.0, 0.0, 0.0, 0.0, 0.0, 0.0, 2.0],\n",
    "              [0.5, 0.0,-0.5, 0.0, 0.0, 0.0, 0.0],\n",
    "              [0.5, 0.0, 0.0, 0.0, 0.0, 0.0, 0.0],\n",
    "              [0.0, 0.0, 0.0, 0.0, 0.0, 0.0, 0.0]])\n",
    "\n",
    "dot = make_dot(m)\n",
    "\n",
    "# Save pdf\n",
    "dot.render('dag')\n",
    "\n",
    "# Save png\n",
    "dot.format = 'png'\n",
    "dot.render('dag')\n",
    "\n",
    "dot"
   ]
  },
  {
   "cell_type": "markdown",
   "metadata": {},
   "source": [
    "## Causal Discovery\n",
    "To run causal discovery, we create a `BottomUpParceLiNGAM` object and call the `fit` method."
   ]
  },
  {
   "cell_type": "code",
   "execution_count": 4,
   "metadata": {
    "ExecuteTime": {
     "end_time": "2019-09-09T02:01:39.557802Z",
     "start_time": "2019-09-09T02:01:39.423164Z"
    }
   },
   "outputs": [
    {
     "data": {
      "text/plain": [
       "<lingam.bottom_up_parce_lingam.BottomUpParceLiNGAM at 0x2098ee24860>"
      ]
     },
     "execution_count": 4,
     "metadata": {},
     "output_type": "execute_result"
    }
   ],
   "source": [
    "model = lingam.BottomUpParceLiNGAM()\n",
    "model.fit(X)"
   ]
  },
  {
   "cell_type": "markdown",
   "metadata": {},
   "source": [
    "Using the `causal_order_` properties, we can see the causal ordering as a result of the causal discovery. x2 and x3, which have latent confounders as parents, are stored in a list without causal ordering."
   ]
  },
  {
   "cell_type": "code",
   "execution_count": 5,
   "metadata": {
    "ExecuteTime": {
     "end_time": "2019-09-09T02:01:39.568772Z",
     "start_time": "2019-09-09T02:01:39.560796Z"
    }
   },
   "outputs": [
    {
     "data": {
      "text/plain": [
       "[[2, 3], 0, 5, 1, 4]"
      ]
     },
     "execution_count": 5,
     "metadata": {},
     "output_type": "execute_result"
    }
   ],
   "source": [
    "model.causal_order_"
   ]
  },
  {
   "cell_type": "markdown",
   "metadata": {
    "ExecuteTime": {
     "end_time": "2019-09-09T01:24:30.429100Z",
     "start_time": "2019-09-09T01:24:30.422118Z"
    }
   },
   "source": [
    "Also, using the `adjacency_matrix_` properties, we can see the adjacency matrix as a result of the causal discovery. The coefficients between variables with latent confounders are np.nan."
   ]
  },
  {
   "cell_type": "code",
   "execution_count": 6,
   "metadata": {
    "ExecuteTime": {
     "end_time": "2019-09-09T02:01:39.583732Z",
     "start_time": "2019-09-09T02:01:39.574757Z"
    }
   },
   "outputs": [
    {
     "data": {
      "text/plain": [
       "array([[ 0.   ,  0.   ,  0.   ,  0.506,  0.   ,  0.   ],\n",
       "       [ 0.499,  0.   ,  0.495,  0.007,  0.   ,  0.   ],\n",
       "       [ 0.   ,  0.   ,  0.   ,    nan,  0.   ,  0.   ],\n",
       "       [ 0.   ,  0.   ,    nan,  0.   ,  0.   ,  0.   ],\n",
       "       [ 0.448,  0.   , -0.451,  0.   ,  0.   ,  0.   ],\n",
       "       [ 0.48 ,  0.   ,  0.   ,  0.   ,  0.   ,  0.   ]])"
      ]
     },
     "execution_count": 6,
     "metadata": {},
     "output_type": "execute_result"
    }
   ],
   "source": [
    "model.adjacency_matrix_"
   ]
  },
  {
   "cell_type": "markdown",
   "metadata": {},
   "source": [
    "We can draw a causal graph by utility funciton."
   ]
  },
  {
   "cell_type": "code",
   "execution_count": 7,
   "metadata": {
    "ExecuteTime": {
     "end_time": "2019-09-09T02:01:39.863981Z",
     "start_time": "2019-09-09T02:01:39.589716Z"
    }
   },
   "outputs": [
    {
     "data": {
      "image/svg+xml": [
       "<?xml version=\"1.0\" encoding=\"UTF-8\" standalone=\"no\"?>\r\n",
       "<!DOCTYPE svg PUBLIC \"-//W3C//DTD SVG 1.1//EN\"\r\n",
       " \"http://www.w3.org/Graphics/SVG/1.1/DTD/svg11.dtd\">\r\n",
       "<!-- Generated by graphviz version 2.38.0 (20140413.2041)\r\n",
       " -->\r\n",
       "<!-- Title: %3 Pages: 1 -->\r\n",
       "<svg width=\"241pt\" height=\"218pt\"\r\n",
       " viewBox=\"0.00 0.00 241.00 218.00\" xmlns=\"http://www.w3.org/2000/svg\" xmlns:xlink=\"http://www.w3.org/1999/xlink\">\r\n",
       "<g id=\"graph0\" class=\"graph\" transform=\"scale(1 1) rotate(0) translate(4 214)\">\r\n",
       "<title>%3</title>\r\n",
       "<polygon fill=\"white\" stroke=\"none\" points=\"-4,4 -4,-214 237,-214 237,4 -4,4\"/>\r\n",
       "<!-- x0 -->\r\n",
       "<g id=\"node1\" class=\"node\"><title>x0</title>\r\n",
       "<ellipse fill=\"none\" stroke=\"black\" cx=\"158\" cy=\"-105\" rx=\"27\" ry=\"18\"/>\r\n",
       "<text text-anchor=\"middle\" x=\"158\" y=\"-101.3\" font-family=\"Times New Roman,serif\" font-size=\"14.00\">x0</text>\r\n",
       "</g>\r\n",
       "<!-- x1 -->\r\n",
       "<g id=\"node2\" class=\"node\"><title>x1</title>\r\n",
       "<ellipse fill=\"none\" stroke=\"black\" cx=\"27\" cy=\"-18\" rx=\"27\" ry=\"18\"/>\r\n",
       "<text text-anchor=\"middle\" x=\"27\" y=\"-14.3\" font-family=\"Times New Roman,serif\" font-size=\"14.00\">x1</text>\r\n",
       "</g>\r\n",
       "<!-- x0&#45;&gt;x1 -->\r\n",
       "<g id=\"edge2\" class=\"edge\"><title>x0&#45;&gt;x1</title>\r\n",
       "<path fill=\"none\" stroke=\"black\" d=\"M139.231,-91.8216C116.954,-77.3673 79.6303,-53.1494 54.1922,-36.6438\"/>\r\n",
       "<polygon fill=\"black\" stroke=\"black\" points=\"56.0282,-33.6629 45.7343,-31.1558 52.218,-39.5351 56.0282,-33.6629\"/>\r\n",
       "<text text-anchor=\"middle\" x=\"113.5\" y=\"-57.8\" font-family=\"Times New Roman,serif\" font-size=\"14.00\">0.50</text>\r\n",
       "</g>\r\n",
       "<!-- x4 -->\r\n",
       "<g id=\"node5\" class=\"node\"><title>x4</title>\r\n",
       "<ellipse fill=\"none\" stroke=\"black\" cx=\"122\" cy=\"-18\" rx=\"27\" ry=\"18\"/>\r\n",
       "<text text-anchor=\"middle\" x=\"122\" y=\"-14.3\" font-family=\"Times New Roman,serif\" font-size=\"14.00\">x4</text>\r\n",
       "</g>\r\n",
       "<!-- x0&#45;&gt;x4 -->\r\n",
       "<g id=\"edge4\" class=\"edge\"><title>x0&#45;&gt;x4</title>\r\n",
       "<path fill=\"none\" stroke=\"black\" d=\"M150.888,-87.2067C145.776,-75.1377 138.788,-58.6384 132.965,-44.8906\"/>\r\n",
       "<polygon fill=\"black\" stroke=\"black\" points=\"136.098,-43.3123 128.975,-35.4692 129.652,-46.0423 136.098,-43.3123\"/>\r\n",
       "<text text-anchor=\"middle\" x=\"155.5\" y=\"-57.8\" font-family=\"Times New Roman,serif\" font-size=\"14.00\">0.45</text>\r\n",
       "</g>\r\n",
       "<!-- x5 -->\r\n",
       "<g id=\"node6\" class=\"node\"><title>x5</title>\r\n",
       "<ellipse fill=\"none\" stroke=\"black\" cx=\"206\" cy=\"-18\" rx=\"27\" ry=\"18\"/>\r\n",
       "<text text-anchor=\"middle\" x=\"206\" y=\"-14.3\" font-family=\"Times New Roman,serif\" font-size=\"14.00\">x5</text>\r\n",
       "</g>\r\n",
       "<!-- x0&#45;&gt;x5 -->\r\n",
       "<g id=\"edge6\" class=\"edge\"><title>x0&#45;&gt;x5</title>\r\n",
       "<path fill=\"none\" stroke=\"black\" d=\"M167.028,-88.0122C174.024,-75.625 183.844,-58.235 191.876,-44.0109\"/>\r\n",
       "<polygon fill=\"black\" stroke=\"black\" points=\"194.979,-45.6337 196.849,-35.2052 188.884,-42.1917 194.979,-45.6337\"/>\r\n",
       "<text text-anchor=\"middle\" x=\"197.5\" y=\"-57.8\" font-family=\"Times New Roman,serif\" font-size=\"14.00\">0.48</text>\r\n",
       "</g>\r\n",
       "<!-- x2 -->\r\n",
       "<g id=\"node3\" class=\"node\"><title>x2</title>\r\n",
       "<ellipse fill=\"none\" stroke=\"black\" cx=\"68\" cy=\"-192\" rx=\"27\" ry=\"18\"/>\r\n",
       "<text text-anchor=\"middle\" x=\"68\" y=\"-188.3\" font-family=\"Times New Roman,serif\" font-size=\"14.00\">x2</text>\r\n",
       "</g>\r\n",
       "<!-- x2&#45;&gt;x1 -->\r\n",
       "<g id=\"edge3\" class=\"edge\"><title>x2&#45;&gt;x1</title>\r\n",
       "<path fill=\"none\" stroke=\"black\" d=\"M56.4427,-175.472C47.3531,-162.274 35.3595,-142.425 30,-123 23.045,-97.7928 22.9966,-67.8374 24.2677,-46.5646\"/>\r\n",
       "<polygon fill=\"black\" stroke=\"black\" points=\"27.7794,-46.5329 25.0231,-36.303 20.7983,-46.019 27.7794,-46.5329\"/>\r\n",
       "<text text-anchor=\"middle\" x=\"42.5\" y=\"-101.3\" font-family=\"Times New Roman,serif\" font-size=\"14.00\">0.49</text>\r\n",
       "</g>\r\n",
       "<!-- x3 -->\r\n",
       "<g id=\"node4\" class=\"node\"><title>x3</title>\r\n",
       "<ellipse fill=\"none\" stroke=\"black\" cx=\"158\" cy=\"-192\" rx=\"27\" ry=\"18\"/>\r\n",
       "<text text-anchor=\"middle\" x=\"158\" y=\"-188.3\" font-family=\"Times New Roman,serif\" font-size=\"14.00\">x3</text>\r\n",
       "</g>\r\n",
       "<!-- x2&#45;&gt;x3 -->\r\n",
       "<g id=\"edge7\" class=\"edge\"><title>x2&#45;&gt;x3</title>\r\n",
       "<path fill=\"none\" stroke=\"black\" d=\"M105.164,-192C110.404,-192 115.644,-192 120.883,-192\"/>\r\n",
       "<polygon fill=\"black\" stroke=\"black\" points=\"105.07,-188.5 95.0703,-192 105.07,-195.5 105.07,-188.5\"/>\r\n",
       "<polygon fill=\"black\" stroke=\"black\" points=\"120.96,-195.5 130.96,-192 120.96,-188.5 120.96,-195.5\"/>\r\n",
       "</g>\r\n",
       "<!-- x2&#45;&gt;x4 -->\r\n",
       "<g id=\"edge5\" class=\"edge\"><title>x2&#45;&gt;x4</title>\r\n",
       "<path fill=\"none\" stroke=\"black\" d=\"M67.9037,-173.648C68.3984,-146.72 71.9778,-93.8255 91,-54 93.2598,-49.2688 96.3528,-44.6969 99.7147,-40.5051\"/>\r\n",
       "<polygon fill=\"black\" stroke=\"black\" points=\"102.371,-42.7847 106.363,-32.9706 97.1221,-38.1534 102.371,-42.7847\"/>\r\n",
       "<text text-anchor=\"middle\" x=\"93.5\" y=\"-101.3\" font-family=\"Times New Roman,serif\" font-size=\"14.00\">&#45;0.45</text>\r\n",
       "</g>\r\n",
       "<!-- x3&#45;&gt;x0 -->\r\n",
       "<g id=\"edge1\" class=\"edge\"><title>x3&#45;&gt;x0</title>\r\n",
       "<path fill=\"none\" stroke=\"black\" d=\"M158,-173.799C158,-162.163 158,-146.548 158,-133.237\"/>\r\n",
       "<polygon fill=\"black\" stroke=\"black\" points=\"161.5,-133.175 158,-123.175 154.5,-133.175 161.5,-133.175\"/>\r\n",
       "<text text-anchor=\"middle\" x=\"170.5\" y=\"-144.8\" font-family=\"Times New Roman,serif\" font-size=\"14.00\">0.51</text>\r\n",
       "</g>\r\n",
       "</g>\r\n",
       "</svg>\r\n"
      ],
      "text/plain": [
       "<graphviz.dot.Digraph at 0x2099402e160>"
      ]
     },
     "execution_count": 7,
     "metadata": {},
     "output_type": "execute_result"
    }
   ],
   "source": [
    "make_dot(model.adjacency_matrix_)"
   ]
  },
  {
   "cell_type": "markdown",
   "metadata": {},
   "source": [
    "## Independence between error variables\n",
    "To check if the LiNGAM assumption is broken, we can get p-values of independence between error variables. The value in the i-th row and j-th column of the obtained matrix shows the p-value of the independence of the error variables $e_i$ and $e_j$."
   ]
  },
  {
   "cell_type": "code",
   "execution_count": 8,
   "metadata": {},
   "outputs": [
    {
     "name": "stdout",
     "output_type": "stream",
     "text": [
      "[[0.    0.491   nan   nan 0.763 0.2  ]\n",
      " [0.491 0.      nan   nan 0.473 0.684]\n",
      " [  nan   nan 0.      nan   nan   nan]\n",
      " [  nan   nan   nan 0.      nan   nan]\n",
      " [0.763 0.473   nan   nan 0.    0.427]\n",
      " [0.2   0.684   nan   nan 0.427 0.   ]]\n"
     ]
    }
   ],
   "source": [
    "p_values = model.get_error_independence_p_values(X)\n",
    "print(p_values)"
   ]
  },
  {
   "cell_type": "markdown",
   "metadata": {},
   "source": [
    "## Bootstrapping\n",
    "We call `bootstrap()` method instead of `fit()`. Here, the second argument specifies the number of bootstrap sampling."
   ]
  },
  {
   "cell_type": "code",
   "execution_count": 9,
   "metadata": {
    "scrolled": true
   },
   "outputs": [],
   "source": [
    "import warnings\n",
    "warnings.filterwarnings('ignore', category=UserWarning)\n",
    "\n",
    "model = lingam.BottomUpParceLiNGAM()\n",
    "result = model.bootstrap(X, n_sampling=100)"
   ]
  },
  {
   "cell_type": "markdown",
   "metadata": {},
   "source": [
    "## Causal Directions\n",
    "Since `BootstrapResult` object is returned, we can get the ranking of the causal directions extracted by `get_causal_direction_counts()` method. In the following sample code, `n_directions` option is limited to the causal directions of the top 8 rankings, and `min_causal_effect` option is limited to causal directions with a coefficient of 0.01 or more."
   ]
  },
  {
   "cell_type": "code",
   "execution_count": 10,
   "metadata": {},
   "outputs": [],
   "source": [
    "cdc = result.get_causal_direction_counts(n_directions=8, min_causal_effect=0.01, split_by_causal_effect_sign=True)"
   ]
  },
  {
   "cell_type": "markdown",
   "metadata": {},
   "source": [
    "We can check the result by utility function."
   ]
  },
  {
   "cell_type": "code",
   "execution_count": 11,
   "metadata": {},
   "outputs": [
    {
     "name": "stdout",
     "output_type": "stream",
     "text": [
      "x4 <--- x0 (b>0) (45.0%)\n",
      "x4 <--- x2 (b<0) (45.0%)\n",
      "x1 <--- x0 (b>0) (41.0%)\n",
      "x1 <--- x2 (b>0) (41.0%)\n",
      "x5 <--- x0 (b>0) (26.0%)\n",
      "x1 <--- x3 (b>0) (21.0%)\n",
      "x0 <--- x3 (b>0) (12.0%)\n",
      "x5 <--- x2 (b>0) (7.0%)\n"
     ]
    }
   ],
   "source": [
    "print_causal_directions(cdc, 100)"
   ]
  },
  {
   "cell_type": "markdown",
   "metadata": {},
   "source": [
    "## Directed Acyclic Graphs\n",
    "Also, using the `get_directed_acyclic_graph_counts()` method, we can get the ranking of the DAGs extracted. In the following sample code, `n_dags` option is limited to the dags of the top 3 rankings, and `min_causal_effect` option is limited to causal directions with a coefficient of 0.01 or more."
   ]
  },
  {
   "cell_type": "code",
   "execution_count": 12,
   "metadata": {},
   "outputs": [],
   "source": [
    "dagc = result.get_directed_acyclic_graph_counts(n_dags=3, min_causal_effect=0.01, split_by_causal_effect_sign=True)"
   ]
  },
  {
   "cell_type": "markdown",
   "metadata": {},
   "source": [
    "We can check the result by utility function."
   ]
  },
  {
   "cell_type": "code",
   "execution_count": 13,
   "metadata": {},
   "outputs": [
    {
     "name": "stdout",
     "output_type": "stream",
     "text": [
      "DAG[0]: 33.0%\n",
      "DAG[1]: 13.0%\n",
      "\tx4 <--- x0 (b>0)\n",
      "\tx4 <--- x2 (b<0)\n",
      "DAG[2]: 7.0%\n",
      "\tx1 <--- x0 (b>0)\n",
      "\tx1 <--- x2 (b>0)\n"
     ]
    }
   ],
   "source": [
    "print_dagc(dagc, 100)"
   ]
  },
  {
   "cell_type": "markdown",
   "metadata": {},
   "source": [
    "## Probability\n",
    "Using the `get_probabilities()` method, we can get the probability of bootstrapping."
   ]
  },
  {
   "cell_type": "code",
   "execution_count": 14,
   "metadata": {},
   "outputs": [
    {
     "name": "stdout",
     "output_type": "stream",
     "text": [
      "[[0.   0.01 0.   0.12 0.01 0.  ]\n",
      " [0.41 0.   0.41 0.21 0.   0.  ]\n",
      " [0.   0.   0.   0.02 0.   0.  ]\n",
      " [0.   0.   0.   0.   0.   0.  ]\n",
      " [0.45 0.03 0.45 0.02 0.   0.07]\n",
      " [0.26 0.01 0.07 0.02 0.   0.  ]]\n"
     ]
    }
   ],
   "source": [
    "prob = result.get_probabilities(min_causal_effect=0.01)\n",
    "print(prob)"
   ]
  },
  {
   "cell_type": "markdown",
   "metadata": {},
   "source": [
    "## Causal Effects\n",
    "Using the `get_causal_effects()` method, we can get the list of causal effect. The causal effects we can get are dictionary type variable.\n",
    "We can display the list nicely by assigning it to pandas.DataFrame. Also, we have replaced the variable index with a label below."
   ]
  },
  {
   "cell_type": "code",
   "execution_count": 15,
   "metadata": {},
   "outputs": [
    {
     "name": "stderr",
     "output_type": "stream",
     "text": [
      "C:\\Users\\AA005431\\OneDrive - SCREEN Holdings Co., Ltd\\code\\as\\lingam\\v1.5.1\\lingam\\bootstrap.py:305: RuntimeWarning: invalid value encountered in greater\n",
      "  min_causal_effect, 1, 0), axis=0, keepdims=True)[0]\n",
      "C:\\Users\\AA005431\\OneDrive - SCREEN Holdings Co., Ltd\\code\\as\\lingam\\v1.5.1\\lingam\\bootstrap.py:315: RuntimeWarning: invalid value encountered in greater\n",
      "  idx = np.where(np.abs(self._total_effects[:, to, from_]) > 0)\n"
     ]
    },
    {
     "data": {
      "text/html": [
       "<div>\n",
       "<style scoped>\n",
       "    .dataframe tbody tr th:only-of-type {\n",
       "        vertical-align: middle;\n",
       "    }\n",
       "\n",
       "    .dataframe tbody tr th {\n",
       "        vertical-align: top;\n",
       "    }\n",
       "\n",
       "    .dataframe thead th {\n",
       "        text-align: right;\n",
       "    }\n",
       "</style>\n",
       "<table border=\"1\" class=\"dataframe\">\n",
       "  <thead>\n",
       "    <tr style=\"text-align: right;\">\n",
       "      <th></th>\n",
       "      <th>from</th>\n",
       "      <th>to</th>\n",
       "      <th>effect</th>\n",
       "      <th>probability</th>\n",
       "    </tr>\n",
       "  </thead>\n",
       "  <tbody>\n",
       "    <tr>\n",
       "      <th>0</th>\n",
       "      <td>x0</td>\n",
       "      <td>x5</td>\n",
       "      <td>0.515510</td>\n",
       "      <td>0.12</td>\n",
       "    </tr>\n",
       "    <tr>\n",
       "      <th>1</th>\n",
       "      <td>x0</td>\n",
       "      <td>x1</td>\n",
       "      <td>0.477885</td>\n",
       "      <td>0.11</td>\n",
       "    </tr>\n",
       "    <tr>\n",
       "      <th>2</th>\n",
       "      <td>x0</td>\n",
       "      <td>x4</td>\n",
       "      <td>0.494946</td>\n",
       "      <td>0.11</td>\n",
       "    </tr>\n",
       "    <tr>\n",
       "      <th>3</th>\n",
       "      <td>x2</td>\n",
       "      <td>x1</td>\n",
       "      <td>0.482657</td>\n",
       "      <td>0.02</td>\n",
       "    </tr>\n",
       "    <tr>\n",
       "      <th>4</th>\n",
       "      <td>x2</td>\n",
       "      <td>x4</td>\n",
       "      <td>-0.490889</td>\n",
       "      <td>0.02</td>\n",
       "    </tr>\n",
       "    <tr>\n",
       "      <th>5</th>\n",
       "      <td>x3</td>\n",
       "      <td>x0</td>\n",
       "      <td>0.511008</td>\n",
       "      <td>0.01</td>\n",
       "    </tr>\n",
       "    <tr>\n",
       "      <th>6</th>\n",
       "      <td>x3</td>\n",
       "      <td>x1</td>\n",
       "      <td>0.653876</td>\n",
       "      <td>0.01</td>\n",
       "    </tr>\n",
       "    <tr>\n",
       "      <th>7</th>\n",
       "      <td>x3</td>\n",
       "      <td>x2</td>\n",
       "      <td>0.790837</td>\n",
       "      <td>0.01</td>\n",
       "    </tr>\n",
       "    <tr>\n",
       "      <th>8</th>\n",
       "      <td>x3</td>\n",
       "      <td>x4</td>\n",
       "      <td>-0.126227</td>\n",
       "      <td>0.01</td>\n",
       "    </tr>\n",
       "    <tr>\n",
       "      <th>9</th>\n",
       "      <td>x3</td>\n",
       "      <td>x5</td>\n",
       "      <td>0.265528</td>\n",
       "      <td>0.01</td>\n",
       "    </tr>\n",
       "  </tbody>\n",
       "</table>\n",
       "</div>"
      ],
      "text/plain": [
       "  from  to    effect  probability\n",
       "0   x0  x5  0.515510         0.12\n",
       "1   x0  x1  0.477885         0.11\n",
       "2   x0  x4  0.494946         0.11\n",
       "3   x2  x1  0.482657         0.02\n",
       "4   x2  x4 -0.490889         0.02\n",
       "5   x3  x0  0.511008         0.01\n",
       "6   x3  x1  0.653876         0.01\n",
       "7   x3  x2  0.790837         0.01\n",
       "8   x3  x4 -0.126227         0.01\n",
       "9   x3  x5  0.265528         0.01"
      ]
     },
     "execution_count": 15,
     "metadata": {},
     "output_type": "execute_result"
    }
   ],
   "source": [
    "causal_effects = result.get_causal_effects(min_causal_effect=0.01)\n",
    "\n",
    "# Assign to pandas.DataFrame for pretty display\n",
    "df = pd.DataFrame(causal_effects)\n",
    "labels = [f'x{i}' for i in range(X.shape[1])]\n",
    "df['from'] = df['from'].apply(lambda x : labels[x])\n",
    "df['to'] = df['to'].apply(lambda x : labels[x])\n",
    "df"
   ]
  },
  {
   "cell_type": "markdown",
   "metadata": {},
   "source": [
    "We can easily perform sorting operations with pandas.DataFrame."
   ]
  },
  {
   "cell_type": "code",
   "execution_count": 16,
   "metadata": {},
   "outputs": [
    {
     "data": {
      "text/html": [
       "<div>\n",
       "<style scoped>\n",
       "    .dataframe tbody tr th:only-of-type {\n",
       "        vertical-align: middle;\n",
       "    }\n",
       "\n",
       "    .dataframe tbody tr th {\n",
       "        vertical-align: top;\n",
       "    }\n",
       "\n",
       "    .dataframe thead th {\n",
       "        text-align: right;\n",
       "    }\n",
       "</style>\n",
       "<table border=\"1\" class=\"dataframe\">\n",
       "  <thead>\n",
       "    <tr style=\"text-align: right;\">\n",
       "      <th></th>\n",
       "      <th>from</th>\n",
       "      <th>to</th>\n",
       "      <th>effect</th>\n",
       "      <th>probability</th>\n",
       "    </tr>\n",
       "  </thead>\n",
       "  <tbody>\n",
       "    <tr>\n",
       "      <th>7</th>\n",
       "      <td>x3</td>\n",
       "      <td>x2</td>\n",
       "      <td>0.790837</td>\n",
       "      <td>0.01</td>\n",
       "    </tr>\n",
       "    <tr>\n",
       "      <th>6</th>\n",
       "      <td>x3</td>\n",
       "      <td>x1</td>\n",
       "      <td>0.653876</td>\n",
       "      <td>0.01</td>\n",
       "    </tr>\n",
       "    <tr>\n",
       "      <th>0</th>\n",
       "      <td>x0</td>\n",
       "      <td>x5</td>\n",
       "      <td>0.515510</td>\n",
       "      <td>0.12</td>\n",
       "    </tr>\n",
       "    <tr>\n",
       "      <th>5</th>\n",
       "      <td>x3</td>\n",
       "      <td>x0</td>\n",
       "      <td>0.511008</td>\n",
       "      <td>0.01</td>\n",
       "    </tr>\n",
       "    <tr>\n",
       "      <th>2</th>\n",
       "      <td>x0</td>\n",
       "      <td>x4</td>\n",
       "      <td>0.494946</td>\n",
       "      <td>0.11</td>\n",
       "    </tr>\n",
       "  </tbody>\n",
       "</table>\n",
       "</div>"
      ],
      "text/plain": [
       "  from  to    effect  probability\n",
       "7   x3  x2  0.790837         0.01\n",
       "6   x3  x1  0.653876         0.01\n",
       "0   x0  x5  0.515510         0.12\n",
       "5   x3  x0  0.511008         0.01\n",
       "2   x0  x4  0.494946         0.11"
      ]
     },
     "execution_count": 16,
     "metadata": {},
     "output_type": "execute_result"
    }
   ],
   "source": [
    "df.sort_values('effect', ascending=False).head()"
   ]
  },
  {
   "cell_type": "code",
   "execution_count": 17,
   "metadata": {},
   "outputs": [
    {
     "data": {
      "text/html": [
       "<div>\n",
       "<style scoped>\n",
       "    .dataframe tbody tr th:only-of-type {\n",
       "        vertical-align: middle;\n",
       "    }\n",
       "\n",
       "    .dataframe tbody tr th {\n",
       "        vertical-align: top;\n",
       "    }\n",
       "\n",
       "    .dataframe thead th {\n",
       "        text-align: right;\n",
       "    }\n",
       "</style>\n",
       "<table border=\"1\" class=\"dataframe\">\n",
       "  <thead>\n",
       "    <tr style=\"text-align: right;\">\n",
       "      <th></th>\n",
       "      <th>from</th>\n",
       "      <th>to</th>\n",
       "      <th>effect</th>\n",
       "      <th>probability</th>\n",
       "    </tr>\n",
       "  </thead>\n",
       "  <tbody>\n",
       "    <tr>\n",
       "      <th>5</th>\n",
       "      <td>x3</td>\n",
       "      <td>x0</td>\n",
       "      <td>0.511008</td>\n",
       "      <td>0.01</td>\n",
       "    </tr>\n",
       "    <tr>\n",
       "      <th>6</th>\n",
       "      <td>x3</td>\n",
       "      <td>x1</td>\n",
       "      <td>0.653876</td>\n",
       "      <td>0.01</td>\n",
       "    </tr>\n",
       "    <tr>\n",
       "      <th>7</th>\n",
       "      <td>x3</td>\n",
       "      <td>x2</td>\n",
       "      <td>0.790837</td>\n",
       "      <td>0.01</td>\n",
       "    </tr>\n",
       "    <tr>\n",
       "      <th>8</th>\n",
       "      <td>x3</td>\n",
       "      <td>x4</td>\n",
       "      <td>-0.126227</td>\n",
       "      <td>0.01</td>\n",
       "    </tr>\n",
       "    <tr>\n",
       "      <th>9</th>\n",
       "      <td>x3</td>\n",
       "      <td>x5</td>\n",
       "      <td>0.265528</td>\n",
       "      <td>0.01</td>\n",
       "    </tr>\n",
       "  </tbody>\n",
       "</table>\n",
       "</div>"
      ],
      "text/plain": [
       "  from  to    effect  probability\n",
       "5   x3  x0  0.511008         0.01\n",
       "6   x3  x1  0.653876         0.01\n",
       "7   x3  x2  0.790837         0.01\n",
       "8   x3  x4 -0.126227         0.01\n",
       "9   x3  x5  0.265528         0.01"
      ]
     },
     "execution_count": 17,
     "metadata": {},
     "output_type": "execute_result"
    }
   ],
   "source": [
    "df.sort_values('probability', ascending=True).head()"
   ]
  },
  {
   "cell_type": "markdown",
   "metadata": {},
   "source": [
    "And with pandas.DataFrame, we can easily filter by keywords. The following code extracts the causal direction towards x1."
   ]
  },
  {
   "cell_type": "code",
   "execution_count": 18,
   "metadata": {},
   "outputs": [
    {
     "data": {
      "text/html": [
       "<div>\n",
       "<style scoped>\n",
       "    .dataframe tbody tr th:only-of-type {\n",
       "        vertical-align: middle;\n",
       "    }\n",
       "\n",
       "    .dataframe tbody tr th {\n",
       "        vertical-align: top;\n",
       "    }\n",
       "\n",
       "    .dataframe thead th {\n",
       "        text-align: right;\n",
       "    }\n",
       "</style>\n",
       "<table border=\"1\" class=\"dataframe\">\n",
       "  <thead>\n",
       "    <tr style=\"text-align: right;\">\n",
       "      <th></th>\n",
       "      <th>from</th>\n",
       "      <th>to</th>\n",
       "      <th>effect</th>\n",
       "      <th>probability</th>\n",
       "    </tr>\n",
       "  </thead>\n",
       "  <tbody>\n",
       "    <tr>\n",
       "      <th>1</th>\n",
       "      <td>x0</td>\n",
       "      <td>x1</td>\n",
       "      <td>0.477885</td>\n",
       "      <td>0.11</td>\n",
       "    </tr>\n",
       "    <tr>\n",
       "      <th>3</th>\n",
       "      <td>x2</td>\n",
       "      <td>x1</td>\n",
       "      <td>0.482657</td>\n",
       "      <td>0.02</td>\n",
       "    </tr>\n",
       "    <tr>\n",
       "      <th>6</th>\n",
       "      <td>x3</td>\n",
       "      <td>x1</td>\n",
       "      <td>0.653876</td>\n",
       "      <td>0.01</td>\n",
       "    </tr>\n",
       "  </tbody>\n",
       "</table>\n",
       "</div>"
      ],
      "text/plain": [
       "  from  to    effect  probability\n",
       "1   x0  x1  0.477885         0.11\n",
       "3   x2  x1  0.482657         0.02\n",
       "6   x3  x1  0.653876         0.01"
      ]
     },
     "execution_count": 18,
     "metadata": {},
     "output_type": "execute_result"
    }
   ],
   "source": [
    "df[df['to']=='x1'].head()"
   ]
  },
  {
   "cell_type": "markdown",
   "metadata": {},
   "source": [
    "Because it holds the raw data of the causal effect (the original data for calculating the median), it is possible to draw a histogram of the values of the causal effect, as shown below."
   ]
  },
  {
   "cell_type": "code",
   "execution_count": 19,
   "metadata": {},
   "outputs": [
    {
     "name": "stderr",
     "output_type": "stream",
     "text": [
      "C:\\ProgramData\\Anaconda3\\lib\\site-packages\\numpy\\lib\\histograms.py:824: RuntimeWarning: invalid value encountered in greater_equal\n",
      "  keep = (tmp_a >= first_edge)\n",
      "C:\\ProgramData\\Anaconda3\\lib\\site-packages\\numpy\\lib\\histograms.py:825: RuntimeWarning: invalid value encountered in less_equal\n",
      "  keep &= (tmp_a <= last_edge)\n"
     ]
    },
    {
     "data": {
      "text/plain": [
       "(array([74.,  0.,  0.,  0.,  0.,  0.,  0.,  0.,  0., 12.]),\n",
       " array([0.   , 0.052, 0.103, 0.155, 0.206, 0.258, 0.309, 0.361, 0.412,\n",
       "        0.464, 0.516]),\n",
       " <a list of 10 Patch objects>)"
      ]
     },
     "execution_count": 19,
     "metadata": {},
     "output_type": "execute_result"
    },
    {
     "data": {
      "image/png": "[encoded data removed]",
      "text/plain": [
       "<Figure size 432x288 with 1 Axes>"
      ]
     },
     "metadata": {
      "needs_background": "light"
     },
     "output_type": "display_data"
    }
   ],
   "source": [
    "import matplotlib.pyplot as plt\n",
    "import seaborn as sns\n",
    "sns.set()\n",
    "%matplotlib inline\n",
    "\n",
    "from_index = 0 # index of x0\n",
    "to_index = 5 # index of x5\n",
    "plt.hist(result.total_effects_[:, to_index, from_index])"
   ]
  },
  {
   "cell_type": "code",
   "execution_count": null,
   "metadata": {},
   "outputs": [],
   "source": []
  }
 ],
 "metadata": {
  "kernelspec": {
   "display_name": "Python 3",
   "language": "python",
   "name": "python3"
  },
  "language_info": {
   "codemirror_mode": {
    "name": "ipython",
    "version": 3
   },
   "file_extension": ".py",
   "mimetype": "text/x-python",
   "name": "python",
   "nbconvert_exporter": "python",
   "pygments_lexer": "ipython3",
   "version": "3.7.3"
  },
  "toc": {
   "base_numbering": 1,
   "nav_menu": {},
   "number_sections": true,
   "sideBar": true,
   "skip_h1_title": false,
   "title_cell": "Table of Contents",
   "title_sidebar": "Contents",
   "toc_cell": false,
   "toc_position": {},
   "toc_section_display": true,
   "toc_window_display": false
  }
 },
 "nbformat": 4,
 "nbformat_minor": 4
}
