{
 "cells": [
  {
   "cell_type": "markdown",
   "metadata": {},
   "source": [
    "# lingam.utils"
   ]
  },
  {
   "cell_type": "markdown",
   "metadata": {},
   "source": [
    "In this example, we need to import `numpy`, `pandas`, and `lingam`."
   ]
  },
  {
   "cell_type": "code",
   "execution_count": 1,
   "metadata": {
    "ExecuteTime": {
     "end_time": "2021-06-25T06:55:13.343192Z",
     "start_time": "2021-06-25T06:55:08.877776Z"
    }
   },
   "outputs": [],
   "source": [
    "import numpy as np\n",
    "import pandas as pd\n",
    "import graphviz\n",
    "import lingam\n",
    "from lingam.utils import make_dot\n",
    "\n",
    "np.set_printoptions(precision=3, suppress=True)\n",
    "np.random.seed(0)"
   ]
  },
  {
   "cell_type": "markdown",
   "metadata": {},
   "source": [
    "We define utility functions to draw the directed acyclic graph."
   ]
  },
  {
   "cell_type": "code",
   "execution_count": 2,
   "metadata": {
    "ExecuteTime": {
     "end_time": "2021-06-25T06:55:13.379744Z",
     "start_time": "2021-06-25T06:55:13.343192Z"
    }
   },
   "outputs": [],
   "source": [
    "def make_prior_knowledge_graph(prior_knowledge_matrix):\n",
    "    d = graphviz.Digraph(engine='dot')\n",
    "    \n",
    "    labels = [f'x{i}' for i in range(prior_knowledge_matrix.shape[0])]\n",
    "    for label in labels:\n",
    "        d.node(label, label)\n",
    "\n",
    "    dirs = np.where(prior_knowledge_matrix > 0)\n",
    "    for to, from_ in zip(dirs[0], dirs[1]):\n",
    "        d.edge(labels[from_], labels[to])\n",
    "\n",
    "    dirs = np.where(prior_knowledge_matrix < 0)\n",
    "    for to, from_ in zip(dirs[0], dirs[1]):\n",
    "        d.edge(labels[from_], labels[to], style='dashed')\n",
    "    return d"
   ]
  },
  {
   "cell_type": "markdown",
   "metadata": {},
   "source": [
    "## print_causal_directions"
   ]
  },
  {
   "cell_type": "markdown",
   "metadata": {},
   "source": [
    "We create test data consisting of 6 variables."
   ]
  },
  {
   "cell_type": "code",
   "execution_count": 3,
   "metadata": {
    "ExecuteTime": {
     "end_time": "2021-06-25T06:55:13.425622Z",
     "start_time": "2021-06-25T06:55:13.383735Z"
    }
   },
   "outputs": [
    {
     "data": {
      "text/html": [
       "<div>\n",
       "<style scoped>\n",
       "    .dataframe tbody tr th:only-of-type {\n",
       "        vertical-align: middle;\n",
       "    }\n",
       "\n",
       "    .dataframe tbody tr th {\n",
       "        vertical-align: top;\n",
       "    }\n",
       "\n",
       "    .dataframe thead th {\n",
       "        text-align: right;\n",
       "    }\n",
       "</style>\n",
       "<table border=\"1\" class=\"dataframe\">\n",
       "  <thead>\n",
       "    <tr style=\"text-align: right;\">\n",
       "      <th></th>\n",
       "      <th>x0</th>\n",
       "      <th>x1</th>\n",
       "      <th>x2</th>\n",
       "      <th>x3</th>\n",
       "      <th>x4</th>\n",
       "      <th>x5</th>\n",
       "    </tr>\n",
       "  </thead>\n",
       "  <tbody>\n",
       "    <tr>\n",
       "      <th>0</th>\n",
       "      <td>2.394708</td>\n",
       "      <td>15.312359</td>\n",
       "      <td>3.685054</td>\n",
       "      <td>0.548814</td>\n",
       "      <td>15.780259</td>\n",
       "      <td>9.948090</td>\n",
       "    </tr>\n",
       "    <tr>\n",
       "      <th>1</th>\n",
       "      <td>2.325771</td>\n",
       "      <td>16.145216</td>\n",
       "      <td>4.332293</td>\n",
       "      <td>0.715189</td>\n",
       "      <td>14.335879</td>\n",
       "      <td>9.514409</td>\n",
       "    </tr>\n",
       "    <tr>\n",
       "      <th>2</th>\n",
       "      <td>2.197313</td>\n",
       "      <td>15.848718</td>\n",
       "      <td>4.539881</td>\n",
       "      <td>0.602763</td>\n",
       "      <td>14.027410</td>\n",
       "      <td>9.266158</td>\n",
       "    </tr>\n",
       "    <tr>\n",
       "      <th>3</th>\n",
       "      <td>1.672250</td>\n",
       "      <td>13.200354</td>\n",
       "      <td>3.675534</td>\n",
       "      <td>0.544883</td>\n",
       "      <td>10.421554</td>\n",
       "      <td>6.771233</td>\n",
       "    </tr>\n",
       "    <tr>\n",
       "      <th>4</th>\n",
       "      <td>1.282752</td>\n",
       "      <td>11.337503</td>\n",
       "      <td>3.486211</td>\n",
       "      <td>0.423655</td>\n",
       "      <td>7.533376</td>\n",
       "      <td>5.368668</td>\n",
       "    </tr>\n",
       "  </tbody>\n",
       "</table>\n",
       "</div>"
      ],
      "text/plain": [
       "         x0         x1        x2        x3         x4        x5\n",
       "0  2.394708  15.312359  3.685054  0.548814  15.780259  9.948090\n",
       "1  2.325771  16.145216  4.332293  0.715189  14.335879  9.514409\n",
       "2  2.197313  15.848718  4.539881  0.602763  14.027410  9.266158\n",
       "3  1.672250  13.200354  3.675534  0.544883  10.421554  6.771233\n",
       "4  1.282752  11.337503  3.486211  0.423655   7.533376  5.368668"
      ]
     },
     "execution_count": 3,
     "metadata": {},
     "output_type": "execute_result"
    }
   ],
   "source": [
    "x3 = np.random.uniform(size=10000)\n",
    "x0 = 3.0*x3 + np.random.uniform(size=10000)\n",
    "x2 = 6.0*x3 + np.random.uniform(size=10000)\n",
    "x1 = 3.0*x0 + 2.0*x2 + np.random.uniform(size=10000)\n",
    "x5 = 4.0*x0 + np.random.uniform(size=10000)\n",
    "x4 = 8.0*x0 - 1.0*x2 + np.random.uniform(size=10000)\n",
    "X = pd.DataFrame(np.array([x0, x1, x2, x3, x4, x5]).T ,columns=['x0', 'x1', 'x2', 'x3', 'x4', 'x5'])\n",
    "X.head()"
   ]
  },
  {
   "cell_type": "markdown",
   "metadata": {},
   "source": [
    "We run booststrap and get the result."
   ]
  },
  {
   "cell_type": "code",
   "execution_count": 4,
   "metadata": {
    "ExecuteTime": {
     "end_time": "2021-06-25T06:55:38.779808Z",
     "start_time": "2021-06-25T06:55:13.428616Z"
    },
    "scrolled": true
   },
   "outputs": [],
   "source": [
    "model = lingam.DirectLiNGAM()\n",
    "result = model.bootstrap(X, 100)"
   ]
  },
  {
   "cell_type": "markdown",
   "metadata": {},
   "source": [
    "We can get the ranking of the causal directions extracted by `get_causal_direction_counts()` method."
   ]
  },
  {
   "cell_type": "code",
   "execution_count": 5,
   "metadata": {
    "ExecuteTime": {
     "end_time": "2021-06-25T06:55:38.795244Z",
     "start_time": "2021-06-25T06:55:38.779808Z"
    }
   },
   "outputs": [],
   "source": [
    "cdc = result.get_causal_direction_counts(n_directions=8, min_causal_effect=0.01)"
   ]
  },
  {
   "cell_type": "markdown",
   "metadata": {},
   "source": [
    "Then, we import `lingam.utils` and check the results with the `print_causal_directions` function."
   ]
  },
  {
   "cell_type": "code",
   "execution_count": 6,
   "metadata": {
    "ExecuteTime": {
     "end_time": "2021-06-25T06:55:38.809482Z",
     "start_time": "2021-06-25T06:55:38.797238Z"
    }
   },
   "outputs": [
    {
     "name": "stdout",
     "output_type": "stream",
     "text": [
      "x0 <--- x3  (100.0%)\n",
      "x1 <--- x0  (100.0%)\n",
      "x1 <--- x2  (100.0%)\n",
      "x2 <--- x3  (100.0%)\n",
      "x4 <--- x0  (100.0%)\n",
      "x4 <--- x2  (100.0%)\n",
      "x5 <--- x0  (100.0%)\n",
      "x0 <--- x2  (15.0%)\n"
     ]
    }
   ],
   "source": [
    "from lingam.utils import print_causal_directions\n",
    "print_causal_directions(cdc, 100)"
   ]
  },
  {
   "cell_type": "markdown",
   "metadata": {
    "ExecuteTime": {
     "end_time": "2019-11-21T01:40:55.324356Z",
     "start_time": "2019-11-21T01:40:55.318373Z"
    }
   },
   "source": [
    "We can also output by specifying the variable name."
   ]
  },
  {
   "cell_type": "code",
   "execution_count": 7,
   "metadata": {
    "ExecuteTime": {
     "end_time": "2021-06-25T06:55:38.825098Z",
     "start_time": "2021-06-25T06:55:38.809482Z"
    }
   },
   "outputs": [
    {
     "name": "stdout",
     "output_type": "stream",
     "text": [
      "X1 <--- X4  (100.0%)\n",
      "X2 <--- X1  (100.0%)\n",
      "X2 <--- X3  (100.0%)\n",
      "X3 <--- X4  (100.0%)\n",
      "X5 <--- X1  (100.0%)\n",
      "X5 <--- X3  (100.0%)\n",
      "X6 <--- X1  (100.0%)\n",
      "X1 <--- X3  (15.0%)\n"
     ]
    }
   ],
   "source": [
    "labels = ['X1', 'X2', 'X3', 'X4', 'X5', 'X6']\n",
    "print_causal_directions(cdc, 100, labels=labels)"
   ]
  },
  {
   "cell_type": "markdown",
   "metadata": {},
   "source": [
    "## print_dags"
   ]
  },
  {
   "cell_type": "markdown",
   "metadata": {},
   "source": [
    "We use the bootstrap results above to get the ranking of the DAGs extracted."
   ]
  },
  {
   "cell_type": "code",
   "execution_count": 8,
   "metadata": {
    "ExecuteTime": {
     "end_time": "2021-06-25T06:55:38.841942Z",
     "start_time": "2021-06-25T06:55:38.826320Z"
    }
   },
   "outputs": [],
   "source": [
    "dagc = result.get_directed_acyclic_graph_counts(n_dags=3, min_causal_effect=0.01)"
   ]
  },
  {
   "cell_type": "markdown",
   "metadata": {
    "ExecuteTime": {
     "end_time": "2019-11-21T01:44:23.032001Z",
     "start_time": "2019-11-21T01:44:23.025049Z"
    }
   },
   "source": [
    "Then, we import `lingam.utils` and check the results with the `print_dagc` function."
   ]
  },
  {
   "cell_type": "code",
   "execution_count": 9,
   "metadata": {
    "ExecuteTime": {
     "end_time": "2021-06-25T06:55:38.857898Z",
     "start_time": "2021-06-25T06:55:38.841942Z"
    }
   },
   "outputs": [
    {
     "name": "stdout",
     "output_type": "stream",
     "text": [
      "DAG[0]: 77.0%\n",
      "\tx0 <--- x3 \n",
      "\tx1 <--- x0 \n",
      "\tx1 <--- x2 \n",
      "\tx2 <--- x3 \n",
      "\tx4 <--- x0 \n",
      "\tx4 <--- x2 \n",
      "\tx5 <--- x0 \n",
      "DAG[1]: 14.0%\n",
      "\tx0 <--- x2 \n",
      "\tx0 <--- x3 \n",
      "\tx1 <--- x0 \n",
      "\tx1 <--- x2 \n",
      "\tx2 <--- x3 \n",
      "\tx4 <--- x0 \n",
      "\tx4 <--- x2 \n",
      "\tx5 <--- x0 \n",
      "DAG[2]: 3.0%\n",
      "\tx0 <--- x3 \n",
      "\tx1 <--- x0 \n",
      "\tx1 <--- x2 \n",
      "\tx2 <--- x3 \n",
      "\tx4 <--- x0 \n",
      "\tx4 <--- x2 \n",
      "\tx4 <--- x5 \n",
      "\tx5 <--- x0 \n"
     ]
    }
   ],
   "source": [
    "from lingam.utils import print_dagc\n",
    "print_dagc(dagc, 100)"
   ]
  },
  {
   "cell_type": "code",
   "execution_count": 10,
   "metadata": {
    "ExecuteTime": {
     "end_time": "2021-06-25T06:55:38.876016Z",
     "start_time": "2021-06-25T06:55:38.859916Z"
    }
   },
   "outputs": [
    {
     "name": "stdout",
     "output_type": "stream",
     "text": [
      "DAG[0]: 77.0%\n",
      "\tX1 <--- X4 \n",
      "\tX2 <--- X1 \n",
      "\tX2 <--- X3 \n",
      "\tX3 <--- X4 \n",
      "\tX5 <--- X1 \n",
      "\tX5 <--- X3 \n",
      "\tX6 <--- X1 \n",
      "DAG[1]: 14.0%\n",
      "\tX1 <--- X3 \n",
      "\tX1 <--- X4 \n",
      "\tX2 <--- X1 \n",
      "\tX2 <--- X3 \n",
      "\tX3 <--- X4 \n",
      "\tX5 <--- X1 \n",
      "\tX5 <--- X3 \n",
      "\tX6 <--- X1 \n",
      "DAG[2]: 3.0%\n",
      "\tX1 <--- X4 \n",
      "\tX2 <--- X1 \n",
      "\tX2 <--- X3 \n",
      "\tX3 <--- X4 \n",
      "\tX5 <--- X1 \n",
      "\tX5 <--- X3 \n",
      "\tX5 <--- X6 \n",
      "\tX6 <--- X1 \n"
     ]
    }
   ],
   "source": [
    "labels = ['X1', 'X2', 'X3', 'X4', 'X5', 'X6']\n",
    "print_dagc(dagc, 100, labels=labels)"
   ]
  },
  {
   "cell_type": "markdown",
   "metadata": {},
   "source": [
    "## make_prior_knowledge\n",
    "In order to perform causal discovery using prior knowledge of causal relations, `make_prior_knowledge` function that creates a prior knowledge matrix is provided. First, we import `lingam.utils` to use `make_prior_knowledge` function."
   ]
  },
  {
   "cell_type": "code",
   "execution_count": 11,
   "metadata": {
    "ExecuteTime": {
     "end_time": "2021-06-25T06:55:38.891638Z",
     "start_time": "2021-06-25T06:55:38.876016Z"
    }
   },
   "outputs": [],
   "source": [
    "from lingam.utils import make_prior_knowledge"
   ]
  },
  {
   "cell_type": "markdown",
   "metadata": {},
   "source": [
    "### Exogenous variables\n",
    "If the exogenous variable is known, specify the variable index in the `exogenous_variables` argument."
   ]
  },
  {
   "cell_type": "code",
   "execution_count": 12,
   "metadata": {
    "ExecuteTime": {
     "end_time": "2021-06-25T06:55:38.906859Z",
     "start_time": "2021-06-25T06:55:38.891638Z"
    }
   },
   "outputs": [
    {
     "name": "stdout",
     "output_type": "stream",
     "text": [
      "[[-1  0  0]\n",
      " [ 0 -1  0]\n",
      " [-1 -1 -1]]\n"
     ]
    }
   ],
   "source": [
    "pk = make_prior_knowledge(n_variables=3, exogenous_variables=[0, 1])\n",
    "print(pk)"
   ]
  },
  {
   "cell_type": "code",
   "execution_count": 13,
   "metadata": {
    "ExecuteTime": {
     "end_time": "2021-06-25T06:55:39.241135Z",
     "start_time": "2021-06-25T06:55:38.910798Z"
    }
   },
   "outputs": [
    {
     "data": {
      "image/svg+xml": [
       "<?xml version=\"1.0\" encoding=\"UTF-8\" standalone=\"no\"?>\r\n",
       "<!DOCTYPE svg PUBLIC \"-//W3C//DTD SVG 1.1//EN\"\r\n",
       " \"http://www.w3.org/Graphics/SVG/1.1/DTD/svg11.dtd\">\r\n",
       "<!-- Generated by graphviz version 2.38.0 (20140413.2041)\r\n",
       " -->\r\n",
       "<!-- Title: %3 Pages: 1 -->\r\n",
       "<svg width=\"170pt\" height=\"116pt\"\r\n",
       " viewBox=\"0.00 0.00 170.00 116.00\" xmlns=\"http://www.w3.org/2000/svg\" xmlns:xlink=\"http://www.w3.org/1999/xlink\">\r\n",
       "<g id=\"graph0\" class=\"graph\" transform=\"scale(1 1) rotate(0) translate(4 112)\">\r\n",
       "<title>%3</title>\r\n",
       "<polygon fill=\"white\" stroke=\"none\" points=\"-4,4 -4,-112 166,-112 166,4 -4,4\"/>\r\n",
       "<!-- x0 -->\r\n",
       "<g id=\"node1\" class=\"node\"><title>x0</title>\r\n",
       "<ellipse fill=\"none\" stroke=\"black\" cx=\"27\" cy=\"-90\" rx=\"27\" ry=\"18\"/>\r\n",
       "<text text-anchor=\"middle\" x=\"27\" y=\"-86.3\" font-family=\"Times New Roman,serif\" font-size=\"14.00\">x0</text>\r\n",
       "</g>\r\n",
       "<!-- x0&#45;&gt;x0 -->\r\n",
       "<g id=\"edge1\" class=\"edge\"><title>x0&#45;&gt;x0</title>\r\n",
       "<path fill=\"none\" stroke=\"black\" stroke-dasharray=\"5,2\" d=\"M46.895,-102.432C59.688,-105.675 72,-101.531 72,-90 72,-81.6218 65.5006,-77.1433 57.0395,-76.5644\"/>\r\n",
       "<polygon fill=\"black\" stroke=\"black\" points=\"56.5019,-73.1004 46.895,-77.5679 57.191,-80.0665 56.5019,-73.1004\"/>\r\n",
       "</g>\r\n",
       "<!-- x2 -->\r\n",
       "<g id=\"node3\" class=\"node\"><title>x2</title>\r\n",
       "<ellipse fill=\"none\" stroke=\"black\" cx=\"72\" cy=\"-18\" rx=\"27\" ry=\"18\"/>\r\n",
       "<text text-anchor=\"middle\" x=\"72\" y=\"-14.3\" font-family=\"Times New Roman,serif\" font-size=\"14.00\">x2</text>\r\n",
       "</g>\r\n",
       "<!-- x0&#45;&gt;x2 -->\r\n",
       "<g id=\"edge3\" class=\"edge\"><title>x0&#45;&gt;x2</title>\r\n",
       "<path fill=\"none\" stroke=\"black\" stroke-dasharray=\"5,2\" d=\"M37.2112,-73.1159C42.8497,-64.345 49.9734,-53.2637 56.3038,-43.4162\"/>\r\n",
       "<polygon fill=\"black\" stroke=\"black\" points=\"59.3657,-45.1257 61.8292,-34.8212 53.4775,-41.3404 59.3657,-45.1257\"/>\r\n",
       "</g>\r\n",
       "<!-- x1 -->\r\n",
       "<g id=\"node2\" class=\"node\"><title>x1</title>\r\n",
       "<ellipse fill=\"none\" stroke=\"black\" cx=\"117\" cy=\"-90\" rx=\"27\" ry=\"18\"/>\r\n",
       "<text text-anchor=\"middle\" x=\"117\" y=\"-86.3\" font-family=\"Times New Roman,serif\" font-size=\"14.00\">x1</text>\r\n",
       "</g>\r\n",
       "<!-- x1&#45;&gt;x1 -->\r\n",
       "<g id=\"edge2\" class=\"edge\"><title>x1&#45;&gt;x1</title>\r\n",
       "<path fill=\"none\" stroke=\"black\" stroke-dasharray=\"5,2\" d=\"M136.895,-102.432C149.688,-105.675 162,-101.531 162,-90 162,-81.6218 155.501,-77.1433 147.039,-76.5644\"/>\r\n",
       "<polygon fill=\"black\" stroke=\"black\" points=\"146.502,-73.1004 136.895,-77.5679 147.191,-80.0665 146.502,-73.1004\"/>\r\n",
       "</g>\r\n",
       "<!-- x1&#45;&gt;x2 -->\r\n",
       "<g id=\"edge4\" class=\"edge\"><title>x1&#45;&gt;x2</title>\r\n",
       "<path fill=\"none\" stroke=\"black\" stroke-dasharray=\"5,2\" d=\"M106.789,-73.1159C101.15,-64.345 94.0266,-53.2637 87.6962,-43.4162\"/>\r\n",
       "<polygon fill=\"black\" stroke=\"black\" points=\"90.5225,-41.3404 82.1708,-34.8212 84.6343,-45.1257 90.5225,-41.3404\"/>\r\n",
       "</g>\r\n",
       "<!-- x2&#45;&gt;x2 -->\r\n",
       "<g id=\"edge5\" class=\"edge\"><title>x2&#45;&gt;x2</title>\r\n",
       "<path fill=\"none\" stroke=\"black\" stroke-dasharray=\"5,2\" d=\"M91.895,-30.4321C104.688,-33.6753 117,-29.5313 117,-18 117,-9.62183 110.501,-5.14331 102.039,-4.56444\"/>\r\n",
       "<polygon fill=\"black\" stroke=\"black\" points=\"101.502,-1.10045 91.895,-5.56787 102.191,-8.06645 101.502,-1.10045\"/>\r\n",
       "</g>\r\n",
       "</g>\r\n",
       "</svg>\r\n"
      ],
      "text/plain": [
       "<graphviz.dot.Digraph at 0x18b3171cef0>"
      ]
     },
     "execution_count": 13,
     "metadata": {},
     "output_type": "execute_result"
    }
   ],
   "source": [
    "make_prior_knowledge_graph(pk)"
   ]
  },
  {
   "cell_type": "markdown",
   "metadata": {},
   "source": [
    "### Sink variables\n",
    "If the sink variable such as the target variable of the predictive model is already known, specify the variable index in the `sink_variables` argument."
   ]
  },
  {
   "cell_type": "code",
   "execution_count": 14,
   "metadata": {
    "ExecuteTime": {
     "end_time": "2021-06-25T06:55:39.256759Z",
     "start_time": "2021-06-25T06:55:39.241135Z"
    }
   },
   "outputs": [
    {
     "name": "stdout",
     "output_type": "stream",
     "text": [
      "[[-1  0  0]\n",
      " [-1 -1  0]\n",
      " [-1  0 -1]]\n"
     ]
    }
   ],
   "source": [
    "pk = make_prior_knowledge(n_variables=3, sink_variables=[1, 2])\n",
    "print(pk)"
   ]
  },
  {
   "cell_type": "code",
   "execution_count": 15,
   "metadata": {
    "ExecuteTime": {
     "end_time": "2021-06-25T06:55:39.612850Z",
     "start_time": "2021-06-25T06:55:39.256759Z"
    }
   },
   "outputs": [
    {
     "data": {
      "image/svg+xml": [
       "<?xml version=\"1.0\" encoding=\"UTF-8\" standalone=\"no\"?>\r\n",
       "<!DOCTYPE svg PUBLIC \"-//W3C//DTD SVG 1.1//EN\"\r\n",
       " \"http://www.w3.org/Graphics/SVG/1.1/DTD/svg11.dtd\">\r\n",
       "<!-- Generated by graphviz version 2.38.0 (20140413.2041)\r\n",
       " -->\r\n",
       "<!-- Title: %3 Pages: 1 -->\r\n",
       "<svg width=\"170pt\" height=\"116pt\"\r\n",
       " viewBox=\"0.00 0.00 170.00 116.00\" xmlns=\"http://www.w3.org/2000/svg\" xmlns:xlink=\"http://www.w3.org/1999/xlink\">\r\n",
       "<g id=\"graph0\" class=\"graph\" transform=\"scale(1 1) rotate(0) translate(4 112)\">\r\n",
       "<title>%3</title>\r\n",
       "<polygon fill=\"white\" stroke=\"none\" points=\"-4,4 -4,-112 166,-112 166,4 -4,4\"/>\r\n",
       "<!-- x0 -->\r\n",
       "<g id=\"node1\" class=\"node\"><title>x0</title>\r\n",
       "<ellipse fill=\"none\" stroke=\"black\" cx=\"72\" cy=\"-90\" rx=\"27\" ry=\"18\"/>\r\n",
       "<text text-anchor=\"middle\" x=\"72\" y=\"-86.3\" font-family=\"Times New Roman,serif\" font-size=\"14.00\">x0</text>\r\n",
       "</g>\r\n",
       "<!-- x0&#45;&gt;x0 -->\r\n",
       "<g id=\"edge1\" class=\"edge\"><title>x0&#45;&gt;x0</title>\r\n",
       "<path fill=\"none\" stroke=\"black\" stroke-dasharray=\"5,2\" d=\"M91.895,-102.432C104.688,-105.675 117,-101.531 117,-90 117,-81.6218 110.501,-77.1433 102.039,-76.5644\"/>\r\n",
       "<polygon fill=\"black\" stroke=\"black\" points=\"101.502,-73.1004 91.895,-77.5679 102.191,-80.0665 101.502,-73.1004\"/>\r\n",
       "</g>\r\n",
       "<!-- x1 -->\r\n",
       "<g id=\"node2\" class=\"node\"><title>x1</title>\r\n",
       "<ellipse fill=\"none\" stroke=\"black\" cx=\"27\" cy=\"-18\" rx=\"27\" ry=\"18\"/>\r\n",
       "<text text-anchor=\"middle\" x=\"27\" y=\"-14.3\" font-family=\"Times New Roman,serif\" font-size=\"14.00\">x1</text>\r\n",
       "</g>\r\n",
       "<!-- x0&#45;&gt;x1 -->\r\n",
       "<g id=\"edge2\" class=\"edge\"><title>x0&#45;&gt;x1</title>\r\n",
       "<path fill=\"none\" stroke=\"black\" stroke-dasharray=\"5,2\" d=\"M61.7888,-73.1159C56.1503,-64.345 49.0266,-53.2637 42.6962,-43.4162\"/>\r\n",
       "<polygon fill=\"black\" stroke=\"black\" points=\"45.5225,-41.3404 37.1708,-34.8212 39.6343,-45.1257 45.5225,-41.3404\"/>\r\n",
       "</g>\r\n",
       "<!-- x2 -->\r\n",
       "<g id=\"node3\" class=\"node\"><title>x2</title>\r\n",
       "<ellipse fill=\"none\" stroke=\"black\" cx=\"117\" cy=\"-18\" rx=\"27\" ry=\"18\"/>\r\n",
       "<text text-anchor=\"middle\" x=\"117\" y=\"-14.3\" font-family=\"Times New Roman,serif\" font-size=\"14.00\">x2</text>\r\n",
       "</g>\r\n",
       "<!-- x0&#45;&gt;x2 -->\r\n",
       "<g id=\"edge4\" class=\"edge\"><title>x0&#45;&gt;x2</title>\r\n",
       "<path fill=\"none\" stroke=\"black\" stroke-dasharray=\"5,2\" d=\"M82.2112,-73.1159C87.8497,-64.345 94.9734,-53.2637 101.304,-43.4162\"/>\r\n",
       "<polygon fill=\"black\" stroke=\"black\" points=\"104.366,-45.1257 106.829,-34.8212 98.4775,-41.3404 104.366,-45.1257\"/>\r\n",
       "</g>\r\n",
       "<!-- x1&#45;&gt;x1 -->\r\n",
       "<g id=\"edge3\" class=\"edge\"><title>x1&#45;&gt;x1</title>\r\n",
       "<path fill=\"none\" stroke=\"black\" stroke-dasharray=\"5,2\" d=\"M46.895,-30.4321C59.688,-33.6753 72,-29.5313 72,-18 72,-9.62183 65.5006,-5.14331 57.0395,-4.56444\"/>\r\n",
       "<polygon fill=\"black\" stroke=\"black\" points=\"56.5019,-1.10045 46.895,-5.56787 57.191,-8.06645 56.5019,-1.10045\"/>\r\n",
       "</g>\r\n",
       "<!-- x2&#45;&gt;x2 -->\r\n",
       "<g id=\"edge5\" class=\"edge\"><title>x2&#45;&gt;x2</title>\r\n",
       "<path fill=\"none\" stroke=\"black\" stroke-dasharray=\"5,2\" d=\"M136.895,-30.4321C149.688,-33.6753 162,-29.5313 162,-18 162,-9.62183 155.501,-5.14331 147.039,-4.56444\"/>\r\n",
       "<polygon fill=\"black\" stroke=\"black\" points=\"146.502,-1.10045 136.895,-5.56787 147.191,-8.06645 146.502,-1.10045\"/>\r\n",
       "</g>\r\n",
       "</g>\r\n",
       "</svg>\r\n"
      ],
      "text/plain": [
       "<graphviz.dot.Digraph at 0x18b34539eb8>"
      ]
     },
     "execution_count": 15,
     "metadata": {},
     "output_type": "execute_result"
    }
   ],
   "source": [
    "make_prior_knowledge_graph(pk)"
   ]
  },
  {
   "cell_type": "markdown",
   "metadata": {},
   "source": [
    "### Directed path\n",
    "If the causal direction between variables is already known, specify the variable index pair in the `paths` argument."
   ]
  },
  {
   "cell_type": "code",
   "execution_count": 16,
   "metadata": {
    "ExecuteTime": {
     "end_time": "2021-06-25T06:55:39.628471Z",
     "start_time": "2021-06-25T06:55:39.612850Z"
    }
   },
   "outputs": [
    {
     "name": "stdout",
     "output_type": "stream",
     "text": [
      "[[-1 -1 -1]\n",
      " [ 1 -1 -1]\n",
      " [-1 -1 -1]]\n"
     ]
    }
   ],
   "source": [
    "pk = make_prior_knowledge(n_variables=3, paths=[[0, 1]])\n",
    "print(pk)"
   ]
  },
  {
   "cell_type": "code",
   "execution_count": 17,
   "metadata": {
    "ExecuteTime": {
     "end_time": "2021-06-25T06:55:39.969383Z",
     "start_time": "2021-06-25T06:55:39.628471Z"
    }
   },
   "outputs": [
    {
     "data": {
      "image/svg+xml": [
       "<?xml version=\"1.0\" encoding=\"UTF-8\" standalone=\"no\"?>\r\n",
       "<!DOCTYPE svg PUBLIC \"-//W3C//DTD SVG 1.1//EN\"\r\n",
       " \"http://www.w3.org/Graphics/SVG/1.1/DTD/svg11.dtd\">\r\n",
       "<!-- Generated by graphviz version 2.38.0 (20140413.2041)\r\n",
       " -->\r\n",
       "<!-- Title: %3 Pages: 1 -->\r\n",
       "<svg width=\"121pt\" height=\"188pt\"\r\n",
       " viewBox=\"0.00 0.00 121.00 188.00\" xmlns=\"http://www.w3.org/2000/svg\" xmlns:xlink=\"http://www.w3.org/1999/xlink\">\r\n",
       "<g id=\"graph0\" class=\"graph\" transform=\"scale(1 1) rotate(0) translate(4 184)\">\r\n",
       "<title>%3</title>\r\n",
       "<polygon fill=\"white\" stroke=\"none\" points=\"-4,4 -4,-184 117,-184 117,4 -4,4\"/>\r\n",
       "<!-- x0 -->\r\n",
       "<g id=\"node1\" class=\"node\"><title>x0</title>\r\n",
       "<ellipse fill=\"none\" stroke=\"black\" cx=\"68\" cy=\"-162\" rx=\"27\" ry=\"18\"/>\r\n",
       "<text text-anchor=\"middle\" x=\"68\" y=\"-158.3\" font-family=\"Times New Roman,serif\" font-size=\"14.00\">x0</text>\r\n",
       "</g>\r\n",
       "<!-- x0&#45;&gt;x0 -->\r\n",
       "<g id=\"edge2\" class=\"edge\"><title>x0&#45;&gt;x0</title>\r\n",
       "<path fill=\"none\" stroke=\"black\" stroke-dasharray=\"5,2\" d=\"M87.895,-174.432C100.688,-177.675 113,-173.531 113,-162 113,-153.622 106.501,-149.143 98.0395,-148.564\"/>\r\n",
       "<polygon fill=\"black\" stroke=\"black\" points=\"97.5019,-145.1 87.895,-149.568 98.191,-152.066 97.5019,-145.1\"/>\r\n",
       "</g>\r\n",
       "<!-- x1 -->\r\n",
       "<g id=\"node2\" class=\"node\"><title>x1</title>\r\n",
       "<ellipse fill=\"none\" stroke=\"black\" cx=\"27\" cy=\"-90\" rx=\"27\" ry=\"18\"/>\r\n",
       "<text text-anchor=\"middle\" x=\"27\" y=\"-86.3\" font-family=\"Times New Roman,serif\" font-size=\"14.00\">x1</text>\r\n",
       "</g>\r\n",
       "<!-- x0&#45;&gt;x1 -->\r\n",
       "<g id=\"edge1\" class=\"edge\"><title>x0&#45;&gt;x1</title>\r\n",
       "<path fill=\"none\" stroke=\"black\" d=\"M53.912,-146.496C47.8432,-137.999 41.0895,-127.013 35.7138,-117.061\"/>\r\n",
       "<polygon fill=\"black\" stroke=\"black\" points=\"38.7222,-115.257 31.0494,-107.951 32.4914,-118.447 38.7222,-115.257\"/>\r\n",
       "</g>\r\n",
       "<!-- x2 -->\r\n",
       "<g id=\"node3\" class=\"node\"><title>x2</title>\r\n",
       "<ellipse fill=\"none\" stroke=\"black\" cx=\"68\" cy=\"-18\" rx=\"27\" ry=\"18\"/>\r\n",
       "<text text-anchor=\"middle\" x=\"68\" y=\"-14.3\" font-family=\"Times New Roman,serif\" font-size=\"14.00\">x2</text>\r\n",
       "</g>\r\n",
       "<!-- x0&#45;&gt;x2 -->\r\n",
       "<g id=\"edge7\" class=\"edge\"><title>x0&#45;&gt;x2</title>\r\n",
       "<path fill=\"none\" stroke=\"black\" stroke-dasharray=\"5,2\" d=\"M65.4523,-144.007C67.193,-133.704 70.5223,-120.227 72,-108 73.9196,-92.1156 73.9196,-87.8844 72,-72 70.961,-63.4026 69.0066,-54.1878 67.3327,-45.8926\"/>\r\n",
       "<polygon fill=\"black\" stroke=\"black\" points=\"70.7569,-45.164 65.4523,-35.9927 63.8799,-46.4702 70.7569,-45.164\"/>\r\n",
       "</g>\r\n",
       "<!-- x1&#45;&gt;x0 -->\r\n",
       "<g id=\"edge3\" class=\"edge\"><title>x1&#45;&gt;x0</title>\r\n",
       "<path fill=\"none\" stroke=\"black\" stroke-dasharray=\"5,2\" d=\"M41.0311,-105.424C47.111,-113.928 53.8857,-124.943 59.2765,-134.921\"/>\r\n",
       "<polygon fill=\"black\" stroke=\"black\" points=\"56.2802,-136.749 63.9533,-144.055 62.511,-133.559 56.2802,-136.749\"/>\r\n",
       "</g>\r\n",
       "<!-- x1&#45;&gt;x1 -->\r\n",
       "<g id=\"edge5\" class=\"edge\"><title>x1&#45;&gt;x1</title>\r\n",
       "<path fill=\"none\" stroke=\"black\" stroke-dasharray=\"5,2\" d=\"M46.895,-102.432C59.688,-105.675 72,-101.531 72,-90 72,-81.6218 65.5006,-77.1433 57.0395,-76.5644\"/>\r\n",
       "<polygon fill=\"black\" stroke=\"black\" points=\"56.5019,-73.1004 46.895,-77.5679 57.191,-80.0665 56.5019,-73.1004\"/>\r\n",
       "</g>\r\n",
       "<!-- x1&#45;&gt;x2 -->\r\n",
       "<g id=\"edge8\" class=\"edge\"><title>x1&#45;&gt;x2</title>\r\n",
       "<path fill=\"none\" stroke=\"black\" stroke-dasharray=\"5,2\" d=\"M31.0467,-72.055C35.3851,-63.0091 41.814,-51.7475 48.1899,-41.9298\"/>\r\n",
       "<polygon fill=\"black\" stroke=\"black\" points=\"51.2438,-43.6629 53.9689,-33.4245 45.4539,-39.7288 51.2438,-43.6629\"/>\r\n",
       "</g>\r\n",
       "<!-- x2&#45;&gt;x0 -->\r\n",
       "<g id=\"edge4\" class=\"edge\"><title>x2&#45;&gt;x0</title>\r\n",
       "<path fill=\"none\" stroke=\"black\" stroke-dasharray=\"5,2\" d=\"M80.3302,-34.1276C84.7763,-44.633 88.4314,-59.0201 90,-72 91.9196,-87.8844 91.9196,-92.1156 90,-108 88.8726,-117.329 86.6672,-127.386 83.8651,-136.205\"/>\r\n",
       "<polygon fill=\"black\" stroke=\"black\" points=\"80.4772,-135.279 80.3302,-145.872 87.0515,-137.682 80.4772,-135.279\"/>\r\n",
       "</g>\r\n",
       "<!-- x2&#45;&gt;x1 -->\r\n",
       "<g id=\"edge6\" class=\"edge\"><title>x2&#45;&gt;x1</title>\r\n",
       "<path fill=\"none\" stroke=\"black\" stroke-dasharray=\"5,2\" d=\"M63.9506,-35.9506C59.6223,-44.9746 53.2144,-56.2024 46.8544,-66.002\"/>\r\n",
       "<polygon fill=\"black\" stroke=\"black\" points=\"43.809,-64.2565 41.088,-74.496 49.6005,-68.1883 43.809,-64.2565\"/>\r\n",
       "</g>\r\n",
       "<!-- x2&#45;&gt;x2 -->\r\n",
       "<g id=\"edge9\" class=\"edge\"><title>x2&#45;&gt;x2</title>\r\n",
       "<path fill=\"none\" stroke=\"black\" stroke-dasharray=\"5,2\" d=\"M87.895,-30.4321C100.688,-33.6753 113,-29.5313 113,-18 113,-9.62183 106.501,-5.14331 98.0395,-4.56444\"/>\r\n",
       "<polygon fill=\"black\" stroke=\"black\" points=\"97.5019,-1.10045 87.895,-5.56787 98.191,-8.06645 97.5019,-1.10045\"/>\r\n",
       "</g>\r\n",
       "</g>\r\n",
       "</svg>\r\n"
      ],
      "text/plain": [
       "<graphviz.dot.Digraph at 0x18b3442a390>"
      ]
     },
     "execution_count": 17,
     "metadata": {},
     "output_type": "execute_result"
    }
   ],
   "source": [
    "make_prior_knowledge_graph(pk)"
   ]
  },
  {
   "cell_type": "markdown",
   "metadata": {},
   "source": [
    "### No directed path\n",
    "If there is no causal direction between variables is already known, specify the variable index pair in the `no_paths` argument."
   ]
  },
  {
   "cell_type": "code",
   "execution_count": 18,
   "metadata": {
    "ExecuteTime": {
     "end_time": "2021-06-25T06:55:39.985105Z",
     "start_time": "2021-06-25T06:55:39.969383Z"
    }
   },
   "outputs": [
    {
     "name": "stdout",
     "output_type": "stream",
     "text": [
      "[[-1 -1 -1]\n",
      " [ 0 -1 -1]\n",
      " [-1 -1 -1]]\n"
     ]
    }
   ],
   "source": [
    "pk = make_prior_knowledge(n_variables=3, no_paths=[[0, 1]])\n",
    "print(pk)"
   ]
  },
  {
   "cell_type": "code",
   "execution_count": 19,
   "metadata": {
    "ExecuteTime": {
     "end_time": "2021-06-25T06:55:40.344110Z",
     "start_time": "2021-06-25T06:55:39.987190Z"
    }
   },
   "outputs": [
    {
     "data": {
      "image/svg+xml": [
       "<?xml version=\"1.0\" encoding=\"UTF-8\" standalone=\"no\"?>\r\n",
       "<!DOCTYPE svg PUBLIC \"-//W3C//DTD SVG 1.1//EN\"\r\n",
       " \"http://www.w3.org/Graphics/SVG/1.1/DTD/svg11.dtd\">\r\n",
       "<!-- Generated by graphviz version 2.38.0 (20140413.2041)\r\n",
       " -->\r\n",
       "<!-- Title: %3 Pages: 1 -->\r\n",
       "<svg width=\"94pt\" height=\"188pt\"\r\n",
       " viewBox=\"0.00 0.00 93.64 188.00\" xmlns=\"http://www.w3.org/2000/svg\" xmlns:xlink=\"http://www.w3.org/1999/xlink\">\r\n",
       "<g id=\"graph0\" class=\"graph\" transform=\"scale(1 1) rotate(0) translate(4 184)\">\r\n",
       "<title>%3</title>\r\n",
       "<polygon fill=\"white\" stroke=\"none\" points=\"-4,4 -4,-184 89.644,-184 89.644,4 -4,4\"/>\r\n",
       "<!-- x0 -->\r\n",
       "<g id=\"node1\" class=\"node\"><title>x0</title>\r\n",
       "<ellipse fill=\"none\" stroke=\"black\" cx=\"27\" cy=\"-162\" rx=\"27\" ry=\"18\"/>\r\n",
       "<text text-anchor=\"middle\" x=\"27\" y=\"-158.3\" font-family=\"Times New Roman,serif\" font-size=\"14.00\">x0</text>\r\n",
       "</g>\r\n",
       "<!-- x0&#45;&gt;x0 -->\r\n",
       "<g id=\"edge1\" class=\"edge\"><title>x0&#45;&gt;x0</title>\r\n",
       "<path fill=\"none\" stroke=\"black\" stroke-dasharray=\"5,2\" d=\"M46.895,-174.432C59.688,-177.675 72,-173.531 72,-162 72,-153.622 65.5006,-149.143 57.0395,-148.564\"/>\r\n",
       "<polygon fill=\"black\" stroke=\"black\" points=\"56.5019,-145.1 46.895,-149.568 57.191,-152.066 56.5019,-145.1\"/>\r\n",
       "</g>\r\n",
       "<!-- x2 -->\r\n",
       "<g id=\"node3\" class=\"node\"><title>x2</title>\r\n",
       "<ellipse fill=\"none\" stroke=\"black\" cx=\"27\" cy=\"-90\" rx=\"27\" ry=\"18\"/>\r\n",
       "<text text-anchor=\"middle\" x=\"27\" y=\"-86.3\" font-family=\"Times New Roman,serif\" font-size=\"14.00\">x2</text>\r\n",
       "</g>\r\n",
       "<!-- x0&#45;&gt;x2 -->\r\n",
       "<g id=\"edge6\" class=\"edge\"><title>x0&#45;&gt;x2</title>\r\n",
       "<path fill=\"none\" stroke=\"black\" stroke-dasharray=\"5,2\" d=\"M21.1601,-144.411C20.2975,-136.507 20.0481,-126.852 20.4119,-117.935\"/>\r\n",
       "<polygon fill=\"black\" stroke=\"black\" points=\"23.9033,-118.179 21.1206,-107.956 16.9209,-117.683 23.9033,-118.179\"/>\r\n",
       "</g>\r\n",
       "<!-- x1 -->\r\n",
       "<g id=\"node2\" class=\"node\"><title>x1</title>\r\n",
       "<ellipse fill=\"none\" stroke=\"black\" cx=\"27\" cy=\"-18\" rx=\"27\" ry=\"18\"/>\r\n",
       "<text text-anchor=\"middle\" x=\"27\" y=\"-14.3\" font-family=\"Times New Roman,serif\" font-size=\"14.00\">x1</text>\r\n",
       "</g>\r\n",
       "<!-- x1&#45;&gt;x0 -->\r\n",
       "<g id=\"edge2\" class=\"edge\"><title>x1&#45;&gt;x0</title>\r\n",
       "<path fill=\"none\" stroke=\"black\" stroke-dasharray=\"5,2\" d=\"M45.5615,-31.1375C58.1787,-40.5778 73.8321,-54.9213 81,-72 87.1919,-86.7533 87.1919,-93.2467 81,-108 75.2881,-121.61 64.1878,-133.482 53.5293,-142.521\"/>\r\n",
       "<polygon fill=\"black\" stroke=\"black\" points=\"51.2063,-139.897 45.5615,-148.863 55.5654,-145.374 51.2063,-139.897\"/>\r\n",
       "</g>\r\n",
       "<!-- x1&#45;&gt;x1 -->\r\n",
       "<g id=\"edge4\" class=\"edge\"><title>x1&#45;&gt;x1</title>\r\n",
       "<path fill=\"none\" stroke=\"black\" stroke-dasharray=\"5,2\" d=\"M46.895,-30.4321C59.688,-33.6753 72,-29.5313 72,-18 72,-9.62183 65.5006,-5.14331 57.0395,-4.56444\"/>\r\n",
       "<polygon fill=\"black\" stroke=\"black\" points=\"56.5019,-1.10045 46.895,-5.56787 57.191,-8.06645 56.5019,-1.10045\"/>\r\n",
       "</g>\r\n",
       "<!-- x1&#45;&gt;x2 -->\r\n",
       "<g id=\"edge7\" class=\"edge\"><title>x1&#45;&gt;x2</title>\r\n",
       "<path fill=\"none\" stroke=\"black\" stroke-dasharray=\"5,2\" d=\"M32.8794,-35.9562C33.7139,-43.8272 33.9485,-53.3739 33.5831,-62.1869\"/>\r\n",
       "<polygon fill=\"black\" stroke=\"black\" points=\"30.0742,-62.1835 32.8399,-72.411 37.0558,-62.6911 30.0742,-62.1835\"/>\r\n",
       "</g>\r\n",
       "<!-- x2&#45;&gt;x0 -->\r\n",
       "<g id=\"edge3\" class=\"edge\"><title>x2&#45;&gt;x0</title>\r\n",
       "<path fill=\"none\" stroke=\"black\" stroke-dasharray=\"5,2\" d=\"M32.8794,-107.956C33.7139,-115.827 33.9485,-125.374 33.5831,-134.187\"/>\r\n",
       "<polygon fill=\"black\" stroke=\"black\" points=\"30.0742,-134.184 32.8399,-144.411 37.0558,-134.691 30.0742,-134.184\"/>\r\n",
       "</g>\r\n",
       "<!-- x2&#45;&gt;x1 -->\r\n",
       "<g id=\"edge5\" class=\"edge\"><title>x2&#45;&gt;x1</title>\r\n",
       "<path fill=\"none\" stroke=\"black\" stroke-dasharray=\"5,2\" d=\"M21.1601,-72.411C20.2975,-64.507 20.0481,-54.8518 20.4119,-45.9352\"/>\r\n",
       "<polygon fill=\"black\" stroke=\"black\" points=\"23.9033,-46.1791 21.1206,-35.9562 16.9209,-45.6831 23.9033,-46.1791\"/>\r\n",
       "</g>\r\n",
       "<!-- x2&#45;&gt;x2 -->\r\n",
       "<g id=\"edge8\" class=\"edge\"><title>x2&#45;&gt;x2</title>\r\n",
       "<path fill=\"none\" stroke=\"black\" stroke-dasharray=\"5,2\" d=\"M46.895,-102.432C59.688,-105.675 72,-101.531 72,-90 72,-81.6218 65.5006,-77.1433 57.0395,-76.5644\"/>\r\n",
       "<polygon fill=\"black\" stroke=\"black\" points=\"56.5019,-73.1004 46.895,-77.5679 57.191,-80.0665 56.5019,-73.1004\"/>\r\n",
       "</g>\r\n",
       "</g>\r\n",
       "</svg>\r\n"
      ],
      "text/plain": [
       "<graphviz.dot.Digraph at 0x18b3448a9e8>"
      ]
     },
     "execution_count": 19,
     "metadata": {},
     "output_type": "execute_result"
    }
   ],
   "source": [
    "make_prior_knowledge_graph(pk)"
   ]
  },
  {
   "cell_type": "markdown",
   "metadata": {},
   "source": [
    "### Mix all knowledge"
   ]
  },
  {
   "cell_type": "markdown",
   "metadata": {},
   "source": [
    "All prior knowledge can be specified at the same time. A prior knowledge matrix is created with priorities in the order of `exogenous_variables`, `sink_variables`, `paths`, `no_paths`."
   ]
  },
  {
   "cell_type": "code",
   "execution_count": 20,
   "metadata": {
    "ExecuteTime": {
     "end_time": "2021-06-25T06:55:40.359270Z",
     "start_time": "2021-06-25T06:55:40.348100Z"
    }
   },
   "outputs": [],
   "source": [
    "pk = make_prior_knowledge(\n",
    "    n_variables=4,\n",
    "    exogenous_variables=[3],\n",
    "    sink_variables=[0],\n",
    "    paths=[[1, 0]],\n",
    "    no_paths=[[3, 0]],\n",
    ")"
   ]
  },
  {
   "cell_type": "code",
   "execution_count": 21,
   "metadata": {
    "ExecuteTime": {
     "end_time": "2021-06-25T06:55:40.662133Z",
     "start_time": "2021-06-25T06:55:40.361264Z"
    }
   },
   "outputs": [
    {
     "data": {
      "image/svg+xml": [
       "<?xml version=\"1.0\" encoding=\"UTF-8\" standalone=\"no\"?>\r\n",
       "<!DOCTYPE svg PUBLIC \"-//W3C//DTD SVG 1.1//EN\"\r\n",
       " \"http://www.w3.org/Graphics/SVG/1.1/DTD/svg11.dtd\">\r\n",
       "<!-- Generated by graphviz version 2.38.0 (20140413.2041)\r\n",
       " -->\r\n",
       "<!-- Title: %3 Pages: 1 -->\r\n",
       "<svg width=\"116pt\" height=\"260pt\"\r\n",
       " viewBox=\"0.00 0.00 116.00 260.00\" xmlns=\"http://www.w3.org/2000/svg\" xmlns:xlink=\"http://www.w3.org/1999/xlink\">\r\n",
       "<g id=\"graph0\" class=\"graph\" transform=\"scale(1 1) rotate(0) translate(4 256)\">\r\n",
       "<title>%3</title>\r\n",
       "<polygon fill=\"white\" stroke=\"none\" points=\"-4,4 -4,-256 112,-256 112,4 -4,4\"/>\r\n",
       "<!-- x0 -->\r\n",
       "<g id=\"node1\" class=\"node\"><title>x0</title>\r\n",
       "<ellipse fill=\"none\" stroke=\"black\" cx=\"27\" cy=\"-18\" rx=\"27\" ry=\"18\"/>\r\n",
       "<text text-anchor=\"middle\" x=\"27\" y=\"-14.3\" font-family=\"Times New Roman,serif\" font-size=\"14.00\">x0</text>\r\n",
       "</g>\r\n",
       "<!-- x0&#45;&gt;x0 -->\r\n",
       "<g id=\"edge2\" class=\"edge\"><title>x0&#45;&gt;x0</title>\r\n",
       "<path fill=\"none\" stroke=\"black\" stroke-dasharray=\"5,2\" d=\"M46.895,-30.4321C59.688,-33.6753 72,-29.5313 72,-18 72,-9.62183 65.5006,-5.14331 57.0395,-4.56444\"/>\r\n",
       "<polygon fill=\"black\" stroke=\"black\" points=\"56.5019,-1.10045 46.895,-5.56787 57.191,-8.06645 56.5019,-1.10045\"/>\r\n",
       "</g>\r\n",
       "<!-- x1 -->\r\n",
       "<g id=\"node2\" class=\"node\"><title>x1</title>\r\n",
       "<ellipse fill=\"none\" stroke=\"black\" cx=\"27\" cy=\"-162\" rx=\"27\" ry=\"18\"/>\r\n",
       "<text text-anchor=\"middle\" x=\"27\" y=\"-158.3\" font-family=\"Times New Roman,serif\" font-size=\"14.00\">x1</text>\r\n",
       "</g>\r\n",
       "<!-- x1&#45;&gt;x0 -->\r\n",
       "<g id=\"edge1\" class=\"edge\"><title>x1&#45;&gt;x0</title>\r\n",
       "<path fill=\"none\" stroke=\"black\" d=\"M23.7517,-143.888C21.9542,-133.542 19.9053,-120.063 19,-108 17.8026,-92.0449 17.8026,-87.9551 19,-72 19.6366,-63.5179 20.8384,-54.3361 22.1208,-46.0356\"/>\r\n",
       "<polygon fill=\"black\" stroke=\"black\" points=\"25.5836,-46.5472 23.7517,-36.1119 18.6763,-45.412 25.5836,-46.5472\"/>\r\n",
       "</g>\r\n",
       "<!-- x1&#45;&gt;x1 -->\r\n",
       "<g id=\"edge4\" class=\"edge\"><title>x1&#45;&gt;x1</title>\r\n",
       "<path fill=\"none\" stroke=\"black\" stroke-dasharray=\"5,2\" d=\"M46.895,-174.432C59.688,-177.675 72,-173.531 72,-162 72,-153.622 65.5006,-149.143 57.0395,-148.564\"/>\r\n",
       "<polygon fill=\"black\" stroke=\"black\" points=\"56.5019,-145.1 46.895,-149.568 57.191,-152.066 56.5019,-145.1\"/>\r\n",
       "</g>\r\n",
       "<!-- x2 -->\r\n",
       "<g id=\"node3\" class=\"node\"><title>x2</title>\r\n",
       "<ellipse fill=\"none\" stroke=\"black\" cx=\"55\" cy=\"-90\" rx=\"27\" ry=\"18\"/>\r\n",
       "<text text-anchor=\"middle\" x=\"55\" y=\"-86.3\" font-family=\"Times New Roman,serif\" font-size=\"14.00\">x2</text>\r\n",
       "</g>\r\n",
       "<!-- x1&#45;&gt;x2 -->\r\n",
       "<g id=\"edge7\" class=\"edge\"><title>x1&#45;&gt;x2</title>\r\n",
       "<path fill=\"none\" stroke=\"black\" stroke-dasharray=\"5,2\" d=\"M28.0056,-143.697C30.5032,-135.283 34.4184,-125.018 38.5958,-115.791\"/>\r\n",
       "<polygon fill=\"black\" stroke=\"black\" points=\"41.8024,-117.199 42.9954,-106.671 35.4978,-114.157 41.8024,-117.199\"/>\r\n",
       "</g>\r\n",
       "<!-- x2&#45;&gt;x0 -->\r\n",
       "<g id=\"edge3\" class=\"edge\"><title>x2&#45;&gt;x0</title>\r\n",
       "<path fill=\"none\" stroke=\"black\" stroke-dasharray=\"5,2\" d=\"M48.3644,-72.411C45.0866,-64.2164 41.0558,-54.1395 37.3819,-44.9548\"/>\r\n",
       "<polygon fill=\"black\" stroke=\"black\" points=\"40.5516,-43.4548 33.588,-35.4699 34.0523,-46.0546 40.5516,-43.4548\"/>\r\n",
       "</g>\r\n",
       "<!-- x2&#45;&gt;x1 -->\r\n",
       "<g id=\"edge5\" class=\"edge\"><title>x2&#45;&gt;x1</title>\r\n",
       "<path fill=\"none\" stroke=\"black\" stroke-dasharray=\"5,2\" d=\"M53.9475,-108.461C51.4336,-116.893 47.5106,-127.157 43.3323,-136.368\"/>\r\n",
       "<polygon fill=\"black\" stroke=\"black\" points=\"40.136,-134.938 38.9341,-145.465 46.4381,-137.985 40.136,-134.938\"/>\r\n",
       "</g>\r\n",
       "<!-- x2&#45;&gt;x2 -->\r\n",
       "<g id=\"edge8\" class=\"edge\"><title>x2&#45;&gt;x2</title>\r\n",
       "<path fill=\"none\" stroke=\"black\" stroke-dasharray=\"5,2\" d=\"M74.895,-102.432C87.688,-105.675 100,-101.531 100,-90 100,-81.6218 93.5006,-77.1433 85.0395,-76.5644\"/>\r\n",
       "<polygon fill=\"black\" stroke=\"black\" points=\"84.5019,-73.1004 74.895,-77.5679 85.191,-80.0665 84.5019,-73.1004\"/>\r\n",
       "</g>\r\n",
       "<!-- x3 -->\r\n",
       "<g id=\"node4\" class=\"node\"><title>x3</title>\r\n",
       "<ellipse fill=\"none\" stroke=\"black\" cx=\"63\" cy=\"-234\" rx=\"27\" ry=\"18\"/>\r\n",
       "<text text-anchor=\"middle\" x=\"63\" y=\"-230.3\" font-family=\"Times New Roman,serif\" font-size=\"14.00\">x3</text>\r\n",
       "</g>\r\n",
       "<!-- x3&#45;&gt;x1 -->\r\n",
       "<g id=\"edge6\" class=\"edge\"><title>x3&#45;&gt;x1</title>\r\n",
       "<path fill=\"none\" stroke=\"black\" stroke-dasharray=\"5,2\" d=\"M54.6504,-216.765C50.2885,-208.283 44.8531,-197.714 39.9587,-188.197\"/>\r\n",
       "<polygon fill=\"black\" stroke=\"black\" points=\"42.9904,-186.439 35.3043,-179.147 36.7654,-189.641 42.9904,-186.439\"/>\r\n",
       "</g>\r\n",
       "<!-- x3&#45;&gt;x2 -->\r\n",
       "<g id=\"edge9\" class=\"edge\"><title>x3&#45;&gt;x2</title>\r\n",
       "<path fill=\"none\" stroke=\"black\" stroke-dasharray=\"5,2\" d=\"M70.5677,-216.536C77.8135,-198.627 86.8445,-169.184 81,-144 78.7779,-134.425 74.5717,-124.586 70.1798,-116.024\"/>\r\n",
       "<polygon fill=\"black\" stroke=\"black\" points=\"73.1054,-114.079 65.2382,-106.983 66.9629,-117.436 73.1054,-114.079\"/>\r\n",
       "</g>\r\n",
       "<!-- x3&#45;&gt;x3 -->\r\n",
       "<g id=\"edge10\" class=\"edge\"><title>x3&#45;&gt;x3</title>\r\n",
       "<path fill=\"none\" stroke=\"black\" stroke-dasharray=\"5,2\" d=\"M82.895,-246.432C95.688,-249.675 108,-245.531 108,-234 108,-225.622 101.501,-221.143 93.0395,-220.564\"/>\r\n",
       "<polygon fill=\"black\" stroke=\"black\" points=\"92.5019,-217.1 82.895,-221.568 93.191,-224.066 92.5019,-217.1\"/>\r\n",
       "</g>\r\n",
       "</g>\r\n",
       "</svg>\r\n"
      ],
      "text/plain": [
       "<graphviz.dot.Digraph at 0x18b34484160>"
      ]
     },
     "execution_count": 21,
     "metadata": {},
     "output_type": "execute_result"
    }
   ],
   "source": [
    "make_prior_knowledge_graph(pk)"
   ]
  },
  {
   "cell_type": "markdown",
   "metadata": {},
   "source": [
    "## remove_effect\n",
    "If it is considered that there are hidden common causes in X0(categorical variable) and X1 in following DAG, we want to run causal discovery excluding the effects of X0 and X1."
   ]
  },
  {
   "cell_type": "code",
   "execution_count": 22,
   "metadata": {
    "ExecuteTime": {
     "end_time": "2021-06-25T06:55:41.000026Z",
     "start_time": "2021-06-25T06:55:40.666589Z"
    }
   },
   "outputs": [
    {
     "data": {
      "image/svg+xml": [
       "<?xml version=\"1.0\" encoding=\"UTF-8\" standalone=\"no\"?>\r\n",
       "<!DOCTYPE svg PUBLIC \"-//W3C//DTD SVG 1.1//EN\"\r\n",
       " \"http://www.w3.org/Graphics/SVG/1.1/DTD/svg11.dtd\">\r\n",
       "<!-- Generated by graphviz version 2.38.0 (20140413.2041)\r\n",
       " -->\r\n",
       "<!-- Title: %3 Pages: 1 -->\r\n",
       "<svg width=\"166pt\" height=\"392pt\"\r\n",
       " viewBox=\"0.00 0.00 166.00 392.00\" xmlns=\"http://www.w3.org/2000/svg\" xmlns:xlink=\"http://www.w3.org/1999/xlink\">\r\n",
       "<g id=\"graph0\" class=\"graph\" transform=\"scale(1 1) rotate(0) translate(4 388)\">\r\n",
       "<title>%3</title>\r\n",
       "<polygon fill=\"white\" stroke=\"none\" points=\"-4,4 -4,-388 162,-388 162,4 -4,4\"/>\r\n",
       "<!-- x0 -->\r\n",
       "<g id=\"node1\" class=\"node\"><title>x0</title>\r\n",
       "<ellipse fill=\"none\" stroke=\"black\" cx=\"90\" cy=\"-366\" rx=\"27\" ry=\"18\"/>\r\n",
       "<text text-anchor=\"middle\" x=\"90\" y=\"-362.3\" font-family=\"Times New Roman,serif\" font-size=\"14.00\">x0</text>\r\n",
       "</g>\r\n",
       "<!-- x1 -->\r\n",
       "<g id=\"node2\" class=\"node\"><title>x1</title>\r\n",
       "<ellipse fill=\"none\" stroke=\"black\" cx=\"27\" cy=\"-279\" rx=\"27\" ry=\"18\"/>\r\n",
       "<text text-anchor=\"middle\" x=\"27\" y=\"-275.3\" font-family=\"Times New Roman,serif\" font-size=\"14.00\">x1</text>\r\n",
       "</g>\r\n",
       "<!-- x0&#45;&gt;x1 -->\r\n",
       "<g id=\"edge1\" class=\"edge\"><title>x0&#45;&gt;x1</title>\r\n",
       "<path fill=\"none\" stroke=\"black\" d=\"M72.6656,-351.974C65.3423,-345.87 57.1133,-338.152 51,-330 45.5787,-322.771 40.907,-314.123 37.1637,-306.068\"/>\r\n",
       "<polygon fill=\"black\" stroke=\"black\" points=\"40.273,-304.441 33.0704,-296.671 33.8555,-307.237 40.273,-304.441\"/>\r\n",
       "<text text-anchor=\"middle\" x=\"63.5\" y=\"-318.8\" font-family=\"Times New Roman,serif\" font-size=\"14.00\">0.50</text>\r\n",
       "</g>\r\n",
       "<!-- x2 -->\r\n",
       "<g id=\"node3\" class=\"node\"><title>x2</title>\r\n",
       "<ellipse fill=\"none\" stroke=\"black\" cx=\"78\" cy=\"-192\" rx=\"27\" ry=\"18\"/>\r\n",
       "<text text-anchor=\"middle\" x=\"78\" y=\"-188.3\" font-family=\"Times New Roman,serif\" font-size=\"14.00\">x2</text>\r\n",
       "</g>\r\n",
       "<!-- x0&#45;&gt;x2 -->\r\n",
       "<g id=\"edge2\" class=\"edge\"><title>x0&#45;&gt;x2</title>\r\n",
       "<path fill=\"none\" stroke=\"black\" d=\"M88.8055,-347.879C86.721,-318.001 82.4032,-256.113 79.9028,-220.274\"/>\r\n",
       "<polygon fill=\"black\" stroke=\"black\" points=\"83.3772,-219.784 79.1896,-210.052 76.3942,-220.271 83.3772,-219.784\"/>\r\n",
       "<text text-anchor=\"middle\" x=\"97.5\" y=\"-275.3\" font-family=\"Times New Roman,serif\" font-size=\"14.00\">4.00</text>\r\n",
       "</g>\r\n",
       "<!-- x3 -->\r\n",
       "<g id=\"node4\" class=\"node\"><title>x3</title>\r\n",
       "<ellipse fill=\"none\" stroke=\"black\" cx=\"131\" cy=\"-105\" rx=\"27\" ry=\"18\"/>\r\n",
       "<text text-anchor=\"middle\" x=\"131\" y=\"-101.3\" font-family=\"Times New Roman,serif\" font-size=\"14.00\">x3</text>\r\n",
       "</g>\r\n",
       "<!-- x0&#45;&gt;x3 -->\r\n",
       "<g id=\"edge4\" class=\"edge\"><title>x0&#45;&gt;x3</title>\r\n",
       "<path fill=\"none\" stroke=\"black\" d=\"M97.026,-348.553C102.527,-334.975 109.909,-315.071 114,-297 126.979,-239.669 130.141,-170.56 130.854,-133.194\"/>\r\n",
       "<polygon fill=\"black\" stroke=\"black\" points=\"134.355,-133.148 131.001,-123.099 127.356,-133.047 134.355,-133.148\"/>\r\n",
       "<text text-anchor=\"middle\" x=\"136.5\" y=\"-231.8\" font-family=\"Times New Roman,serif\" font-size=\"14.00\">2.00</text>\r\n",
       "</g>\r\n",
       "<!-- x1&#45;&gt;x2 -->\r\n",
       "<g id=\"edge3\" class=\"edge\"><title>x1&#45;&gt;x2</title>\r\n",
       "<path fill=\"none\" stroke=\"black\" d=\"M32.1286,-261.104C35.5617,-251.077 40.6194,-238.344 47,-228 49.7525,-223.537 53.0896,-219.099 56.5411,-214.956\"/>\r\n",
       "<polygon fill=\"black\" stroke=\"black\" points=\"59.1968,-217.236 63.1956,-207.425 53.9512,-212.601 59.1968,-217.236\"/>\r\n",
       "<text text-anchor=\"middle\" x=\"61.5\" y=\"-231.8\" font-family=\"Times New Roman,serif\" font-size=\"14.00\">&#45;1.00</text>\r\n",
       "</g>\r\n",
       "<!-- x4 -->\r\n",
       "<g id=\"node5\" class=\"node\"><title>x4</title>\r\n",
       "<ellipse fill=\"none\" stroke=\"black\" cx=\"61\" cy=\"-18\" rx=\"27\" ry=\"18\"/>\r\n",
       "<text text-anchor=\"middle\" x=\"61\" y=\"-14.3\" font-family=\"Times New Roman,serif\" font-size=\"14.00\">x4</text>\r\n",
       "</g>\r\n",
       "<!-- x1&#45;&gt;x4 -->\r\n",
       "<g id=\"edge6\" class=\"edge\"><title>x1&#45;&gt;x4</title>\r\n",
       "<path fill=\"none\" stroke=\"black\" d=\"M28.8532,-260.678C31.6749,-234.663 37.3223,-183.969 43,-141 47.3242,-108.274 52.969,-70.714 56.7751,-46.0139\"/>\r\n",
       "<polygon fill=\"black\" stroke=\"black\" points=\"60.2618,-46.3685 58.3337,-35.9506 53.3443,-45.2971 60.2618,-46.3685\"/>\r\n",
       "<text text-anchor=\"middle\" x=\"55.5\" y=\"-144.8\" font-family=\"Times New Roman,serif\" font-size=\"14.00\">1.00</text>\r\n",
       "</g>\r\n",
       "<!-- x2&#45;&gt;x3 -->\r\n",
       "<g id=\"edge5\" class=\"edge\"><title>x2&#45;&gt;x3</title>\r\n",
       "<path fill=\"none\" stroke=\"black\" d=\"M83.9095,-174.131C87.7809,-164.113 93.3502,-151.382 100,-141 102.828,-136.585 106.202,-132.17 109.668,-128.035\"/>\r\n",
       "<polygon fill=\"black\" stroke=\"black\" points=\"112.323,-130.316 116.323,-120.505 107.078,-125.68 112.323,-130.316\"/>\r\n",
       "<text text-anchor=\"middle\" x=\"114.5\" y=\"-144.8\" font-family=\"Times New Roman,serif\" font-size=\"14.00\">&#45;3.00</text>\r\n",
       "</g>\r\n",
       "<!-- x2&#45;&gt;x4 -->\r\n",
       "<g id=\"edge7\" class=\"edge\"><title>x2&#45;&gt;x4</title>\r\n",
       "<path fill=\"none\" stroke=\"black\" d=\"M75.8491,-173.969C74.1488,-160.225 71.7743,-140.384 70,-123 67.3517,-97.0532 64.8367,-67.4121 63.142,-46.4303\"/>\r\n",
       "<polygon fill=\"black\" stroke=\"black\" points=\"66.6191,-46.0026 62.3343,-36.3129 59.6413,-46.5598 66.6191,-46.0026\"/>\r\n",
       "<text text-anchor=\"middle\" x=\"82.5\" y=\"-101.3\" font-family=\"Times New Roman,serif\" font-size=\"14.00\">2.00</text>\r\n",
       "</g>\r\n",
       "<!-- x3&#45;&gt;x4 -->\r\n",
       "<g id=\"edge8\" class=\"edge\"><title>x3&#45;&gt;x4</title>\r\n",
       "<path fill=\"none\" stroke=\"black\" d=\"M118.485,-88.8037C107.735,-75.7495 92.0762,-56.7354 79.8154,-41.8473\"/>\r\n",
       "<polygon fill=\"black\" stroke=\"black\" points=\"82.4651,-39.5591 73.4063,-34.0647 77.0616,-44.009 82.4651,-39.5591\"/>\r\n",
       "<text text-anchor=\"middle\" x=\"112.5\" y=\"-57.8\" font-family=\"Times New Roman,serif\" font-size=\"14.00\">2.00</text>\r\n",
       "</g>\r\n",
       "</g>\r\n",
       "</svg>\r\n"
      ],
      "text/plain": [
       "<graphviz.dot.Digraph at 0x18b3442a9b0>"
      ]
     },
     "execution_count": 22,
     "metadata": {},
     "output_type": "execute_result"
    }
   ],
   "source": [
    "m = np.array([[0.0, 0.0, 0.0, 0.0, 0.0],\n",
    "              [0.5, 0.0, 0.0, 0.0, 0.0],\n",
    "              [4.0,-1.0, 0.0, 0.0, 0.0],\n",
    "              [2.0, 0.0,-3.0, 0.0, 0.0],\n",
    "              [0.0, 1.0, 2.0, 2.0, 0.0]])\n",
    "\n",
    "make_dot(m)"
   ]
  },
  {
   "cell_type": "code",
   "execution_count": 23,
   "metadata": {
    "ExecuteTime": {
     "end_time": "2021-06-25T06:55:41.020819Z",
     "start_time": "2021-06-25T06:55:41.001561Z"
    }
   },
   "outputs": [
    {
     "data": {
      "text/html": [
       "<div>\n",
       "<style scoped>\n",
       "    .dataframe tbody tr th:only-of-type {\n",
       "        vertical-align: middle;\n",
       "    }\n",
       "\n",
       "    .dataframe tbody tr th {\n",
       "        vertical-align: top;\n",
       "    }\n",
       "\n",
       "    .dataframe thead th {\n",
       "        text-align: right;\n",
       "    }\n",
       "</style>\n",
       "<table border=\"1\" class=\"dataframe\">\n",
       "  <thead>\n",
       "    <tr style=\"text-align: right;\">\n",
       "      <th></th>\n",
       "      <th>x0</th>\n",
       "      <th>x1</th>\n",
       "      <th>x2</th>\n",
       "      <th>x3</th>\n",
       "      <th>x4</th>\n",
       "    </tr>\n",
       "  </thead>\n",
       "  <tbody>\n",
       "    <tr>\n",
       "      <th>0</th>\n",
       "      <td>0.0</td>\n",
       "      <td>0.050261</td>\n",
       "      <td>0.463783</td>\n",
       "      <td>-1.126735</td>\n",
       "      <td>-1.158823</td>\n",
       "    </tr>\n",
       "    <tr>\n",
       "      <th>1</th>\n",
       "      <td>1.0</td>\n",
       "      <td>1.178004</td>\n",
       "      <td>3.267241</td>\n",
       "      <td>-6.887056</td>\n",
       "      <td>-5.598983</td>\n",
       "    </tr>\n",
       "    <tr>\n",
       "      <th>2</th>\n",
       "      <td>1.0</td>\n",
       "      <td>0.540158</td>\n",
       "      <td>4.043353</td>\n",
       "      <td>-9.351763</td>\n",
       "      <td>-9.743842</td>\n",
       "    </tr>\n",
       "    <tr>\n",
       "      <th>3</th>\n",
       "      <td>1.0</td>\n",
       "      <td>1.349468</td>\n",
       "      <td>2.777060</td>\n",
       "      <td>-6.244626</td>\n",
       "      <td>-4.675765</td>\n",
       "    </tr>\n",
       "    <tr>\n",
       "      <th>4</th>\n",
       "      <td>1.0</td>\n",
       "      <td>0.794132</td>\n",
       "      <td>3.493286</td>\n",
       "      <td>-7.697956</td>\n",
       "      <td>-6.991642</td>\n",
       "    </tr>\n",
       "  </tbody>\n",
       "</table>\n",
       "</div>"
      ],
      "text/plain": [
       "    x0        x1        x2        x3        x4\n",
       "0  0.0  0.050261  0.463783 -1.126735 -1.158823\n",
       "1  1.0  1.178004  3.267241 -6.887056 -5.598983\n",
       "2  1.0  0.540158  4.043353 -9.351763 -9.743842\n",
       "3  1.0  1.349468  2.777060 -6.244626 -4.675765\n",
       "4  1.0  0.794132  3.493286 -7.697956 -6.991642"
      ]
     },
     "execution_count": 23,
     "metadata": {},
     "output_type": "execute_result"
    }
   ],
   "source": [
    "# x0 = np.random.uniform(size=10000)\n",
    "x0 = np.random.randint(2, size=10000)\n",
    "x1 = 0.5*x0 + np.random.uniform(size=10000)\n",
    "x2 = 4.0*x0 - 1.0*x1 + np.random.uniform(size=10000)\n",
    "x3 = 2.0*x0 - 3.0*x2 + np.random.uniform(size=10000)\n",
    "x4 = 1.0*x1 + 2.0*x2 + 2.0*x3 + np.random.uniform(size=10000)\n",
    "X = pd.DataFrame(np.array([x0, x1, x2, x3, x4]).T ,columns=['x0', 'x1', 'x2', 'x3', 'x4'])\n",
    "X.head()"
   ]
  },
  {
   "cell_type": "markdown",
   "metadata": {},
   "source": [
    "In this cases, we can import `lingam.utils` and use `remove_effect` function."
   ]
  },
  {
   "cell_type": "code",
   "execution_count": 24,
   "metadata": {
    "ExecuteTime": {
     "end_time": "2021-06-25T06:55:41.036440Z",
     "start_time": "2021-06-25T06:55:41.020819Z"
    }
   },
   "outputs": [],
   "source": [
    "from lingam.utils import remove_effect\n",
    "remove_features=[0, 1]\n",
    "X_removed = remove_effect(X, remove_features=remove_features)"
   ]
  },
  {
   "cell_type": "markdown",
   "metadata": {},
   "source": [
    "If we run DirectLiNGAM on the dataset that excludes the effects of X0 and X1, we can get the following results:"
   ]
  },
  {
   "cell_type": "code",
   "execution_count": 25,
   "metadata": {
    "ExecuteTime": {
     "end_time": "2021-06-25T06:55:41.518197Z",
     "start_time": "2021-06-25T06:55:41.036440Z"
    }
   },
   "outputs": [
    {
     "name": "stdout",
     "output_type": "stream",
     "text": [
      "[0, 2, 1, 3, 4]\n",
      "[[ 0.     0.     0.     0.     0.   ]\n",
      " [ 0.493  0.     0.     0.     0.   ]\n",
      " [ 0.     0.     0.     0.     0.   ]\n",
      " [ 0.     0.    -2.998  0.     0.   ]\n",
      " [ 0.     0.     2.023  2.012  0.   ]]\n"
     ]
    },
    {
     "data": {
      "image/svg+xml": [
       "<?xml version=\"1.0\" encoding=\"UTF-8\" standalone=\"no\"?>\r\n",
       "<!DOCTYPE svg PUBLIC \"-//W3C//DTD SVG 1.1//EN\"\r\n",
       " \"http://www.w3.org/Graphics/SVG/1.1/DTD/svg11.dtd\">\r\n",
       "<!-- Generated by graphviz version 2.38.0 (20140413.2041)\r\n",
       " -->\r\n",
       "<!-- Title: %3 Pages: 1 -->\r\n",
       "<svg width=\"185pt\" height=\"218pt\"\r\n",
       " viewBox=\"0.00 0.00 185.00 218.00\" xmlns=\"http://www.w3.org/2000/svg\" xmlns:xlink=\"http://www.w3.org/1999/xlink\">\r\n",
       "<g id=\"graph0\" class=\"graph\" transform=\"scale(1 1) rotate(0) translate(4 214)\">\r\n",
       "<title>%3</title>\r\n",
       "<polygon fill=\"white\" stroke=\"none\" points=\"-4,4 -4,-214 181,-214 181,4 -4,4\"/>\r\n",
       "<!-- x0 -->\r\n",
       "<g id=\"node1\" class=\"node\"><title>x0</title>\r\n",
       "<ellipse fill=\"none\" stroke=\"black\" cx=\"27\" cy=\"-192\" rx=\"27\" ry=\"18\"/>\r\n",
       "<text text-anchor=\"middle\" x=\"27\" y=\"-188.3\" font-family=\"Times New Roman,serif\" font-size=\"14.00\">x0</text>\r\n",
       "</g>\r\n",
       "<!-- x1 -->\r\n",
       "<g id=\"node2\" class=\"node\"><title>x1</title>\r\n",
       "<ellipse fill=\"none\" stroke=\"black\" cx=\"27\" cy=\"-105\" rx=\"27\" ry=\"18\"/>\r\n",
       "<text text-anchor=\"middle\" x=\"27\" y=\"-101.3\" font-family=\"Times New Roman,serif\" font-size=\"14.00\">x1</text>\r\n",
       "</g>\r\n",
       "<!-- x0&#45;&gt;x1 -->\r\n",
       "<g id=\"edge1\" class=\"edge\"><title>x0&#45;&gt;x1</title>\r\n",
       "<path fill=\"none\" stroke=\"black\" d=\"M27,-173.799C27,-162.163 27,-146.548 27,-133.237\"/>\r\n",
       "<polygon fill=\"black\" stroke=\"black\" points=\"30.5001,-133.175 27,-123.175 23.5001,-133.175 30.5001,-133.175\"/>\r\n",
       "<text text-anchor=\"middle\" x=\"39.5\" y=\"-144.8\" font-family=\"Times New Roman,serif\" font-size=\"14.00\">0.49</text>\r\n",
       "</g>\r\n",
       "<!-- x2 -->\r\n",
       "<g id=\"node3\" class=\"node\"><title>x2</title>\r\n",
       "<ellipse fill=\"none\" stroke=\"black\" cx=\"139\" cy=\"-192\" rx=\"27\" ry=\"18\"/>\r\n",
       "<text text-anchor=\"middle\" x=\"139\" y=\"-188.3\" font-family=\"Times New Roman,serif\" font-size=\"14.00\">x2</text>\r\n",
       "</g>\r\n",
       "<!-- x3 -->\r\n",
       "<g id=\"node4\" class=\"node\"><title>x3</title>\r\n",
       "<ellipse fill=\"none\" stroke=\"black\" cx=\"99\" cy=\"-105\" rx=\"27\" ry=\"18\"/>\r\n",
       "<text text-anchor=\"middle\" x=\"99\" y=\"-101.3\" font-family=\"Times New Roman,serif\" font-size=\"14.00\">x3</text>\r\n",
       "</g>\r\n",
       "<!-- x2&#45;&gt;x3 -->\r\n",
       "<g id=\"edge2\" class=\"edge\"><title>x2&#45;&gt;x3</title>\r\n",
       "<path fill=\"none\" stroke=\"black\" d=\"M129.161,-174.87C125.76,-169.022 122.043,-162.302 119,-156 115.341,-148.423 111.783,-139.993 108.707,-132.248\"/>\r\n",
       "<polygon fill=\"black\" stroke=\"black\" points=\"111.97,-130.981 105.097,-122.918 105.442,-133.507 111.97,-130.981\"/>\r\n",
       "<text text-anchor=\"middle\" x=\"133.5\" y=\"-144.8\" font-family=\"Times New Roman,serif\" font-size=\"14.00\">&#45;3.00</text>\r\n",
       "</g>\r\n",
       "<!-- x4 -->\r\n",
       "<g id=\"node5\" class=\"node\"><title>x4</title>\r\n",
       "<ellipse fill=\"none\" stroke=\"black\" cx=\"136\" cy=\"-18\" rx=\"27\" ry=\"18\"/>\r\n",
       "<text text-anchor=\"middle\" x=\"136\" y=\"-14.3\" font-family=\"Times New Roman,serif\" font-size=\"14.00\">x4</text>\r\n",
       "</g>\r\n",
       "<!-- x2&#45;&gt;x4 -->\r\n",
       "<g id=\"edge3\" class=\"edge\"><title>x2&#45;&gt;x4</title>\r\n",
       "<path fill=\"none\" stroke=\"black\" d=\"M144.266,-174.077C145.789,-168.391 147.244,-161.975 148,-156 153.69,-111.025 155.453,-98.7165 148,-54 147.515,-51.0893 146.817,-48.0962 146,-45.144\"/>\r\n",
       "<polygon fill=\"black\" stroke=\"black\" points=\"149.275,-43.8968 142.888,-35.4437 142.61,-46.0349 149.275,-43.8968\"/>\r\n",
       "<text text-anchor=\"middle\" x=\"164.5\" y=\"-101.3\" font-family=\"Times New Roman,serif\" font-size=\"14.00\">2.02</text>\r\n",
       "</g>\r\n",
       "<!-- x3&#45;&gt;x4 -->\r\n",
       "<g id=\"edge4\" class=\"edge\"><title>x3&#45;&gt;x4</title>\r\n",
       "<path fill=\"none\" stroke=\"black\" d=\"M106.134,-87.6111C111.372,-75.577 118.596,-58.9825 124.627,-45.1281\"/>\r\n",
       "<polygon fill=\"black\" stroke=\"black\" points=\"127.98,-46.1945 128.762,-35.6286 121.561,-43.4006 127.98,-46.1945\"/>\r\n",
       "<text text-anchor=\"middle\" x=\"132.5\" y=\"-57.8\" font-family=\"Times New Roman,serif\" font-size=\"14.00\">2.01</text>\r\n",
       "</g>\r\n",
       "</g>\r\n",
       "</svg>\r\n"
      ],
      "text/plain": [
       "<graphviz.dot.Digraph at 0x18b2f4c7550>"
      ]
     },
     "execution_count": 25,
     "metadata": {},
     "output_type": "execute_result"
    }
   ],
   "source": [
    "model = lingam.DirectLiNGAM()\n",
    "model.fit(X_removed)\n",
    "print(model.causal_order_)\n",
    "print(model.adjacency_matrix_)\n",
    "make_dot(model.adjacency_matrix_)"
   ]
  },
  {
   "cell_type": "markdown",
   "metadata": {},
   "source": [
    "To add causal coefficients from variables whose effects have been removed, regression for each variable may be performed."
   ]
  },
  {
   "cell_type": "code",
   "execution_count": 26,
   "metadata": {
    "ExecuteTime": {
     "end_time": "2021-06-25T06:55:41.548907Z",
     "start_time": "2021-06-25T06:55:41.523184Z"
    }
   },
   "outputs": [],
   "source": [
    "from sklearn import linear_model\n",
    "from sklearn.utils import check_array\n",
    "\n",
    "def get_reg_coef(X, features, target, gamma=1.0):\n",
    "    X = np.copy(check_array(X))\n",
    "    lr = linear_model.LinearRegression()\n",
    "    lr.fit(X[:, features], X[:, target])\n",
    "    weight = np.power(np.abs(lr.coef_), gamma)\n",
    "    reg = linear_model.LassoLarsIC(criterion='bic')\n",
    "    reg.fit(X[:, features] * weight, X[:, target])\n",
    "    return reg.coef_ * weight"
   ]
  },
  {
   "cell_type": "code",
   "execution_count": 27,
   "metadata": {
    "ExecuteTime": {
     "end_time": "2021-06-25T06:55:41.955434Z",
     "start_time": "2021-06-25T06:55:41.557897Z"
    }
   },
   "outputs": [
    {
     "name": "stdout",
     "output_type": "stream",
     "text": [
      "[[ 0.     0.     0.     0.     0.   ]\n",
      " [ 0.493  0.     0.     0.     0.   ]\n",
      " [ 3.987 -0.99   0.     0.     0.   ]\n",
      " [ 1.977  0.017 -2.998  0.     0.   ]\n",
      " [ 0.025  0.984  2.023  2.012  0.   ]]\n"
     ]
    },
    {
     "data": {
      "image/svg+xml": [
       "<?xml version=\"1.0\" encoding=\"UTF-8\" standalone=\"no\"?>\r\n",
       "<!DOCTYPE svg PUBLIC \"-//W3C//DTD SVG 1.1//EN\"\r\n",
       " \"http://www.w3.org/Graphics/SVG/1.1/DTD/svg11.dtd\">\r\n",
       "<!-- Generated by graphviz version 2.38.0 (20140413.2041)\r\n",
       " -->\r\n",
       "<!-- Title: %3 Pages: 1 -->\r\n",
       "<svg width=\"166pt\" height=\"392pt\"\r\n",
       " viewBox=\"0.00 0.00 166.00 392.00\" xmlns=\"http://www.w3.org/2000/svg\" xmlns:xlink=\"http://www.w3.org/1999/xlink\">\r\n",
       "<g id=\"graph0\" class=\"graph\" transform=\"scale(1 1) rotate(0) translate(4 388)\">\r\n",
       "<title>%3</title>\r\n",
       "<polygon fill=\"white\" stroke=\"none\" points=\"-4,4 -4,-388 162,-388 162,4 -4,4\"/>\r\n",
       "<!-- x0 -->\r\n",
       "<g id=\"node1\" class=\"node\"><title>x0</title>\r\n",
       "<ellipse fill=\"none\" stroke=\"black\" cx=\"90\" cy=\"-366\" rx=\"27\" ry=\"18\"/>\r\n",
       "<text text-anchor=\"middle\" x=\"90\" y=\"-362.3\" font-family=\"Times New Roman,serif\" font-size=\"14.00\">x0</text>\r\n",
       "</g>\r\n",
       "<!-- x1 -->\r\n",
       "<g id=\"node2\" class=\"node\"><title>x1</title>\r\n",
       "<ellipse fill=\"none\" stroke=\"black\" cx=\"27\" cy=\"-279\" rx=\"27\" ry=\"18\"/>\r\n",
       "<text text-anchor=\"middle\" x=\"27\" y=\"-275.3\" font-family=\"Times New Roman,serif\" font-size=\"14.00\">x1</text>\r\n",
       "</g>\r\n",
       "<!-- x0&#45;&gt;x1 -->\r\n",
       "<g id=\"edge1\" class=\"edge\"><title>x0&#45;&gt;x1</title>\r\n",
       "<path fill=\"none\" stroke=\"black\" d=\"M72.6656,-351.974C65.3423,-345.87 57.1133,-338.152 51,-330 45.5787,-322.771 40.907,-314.123 37.1637,-306.068\"/>\r\n",
       "<polygon fill=\"black\" stroke=\"black\" points=\"40.273,-304.441 33.0704,-296.671 33.8555,-307.237 40.273,-304.441\"/>\r\n",
       "<text text-anchor=\"middle\" x=\"63.5\" y=\"-318.8\" font-family=\"Times New Roman,serif\" font-size=\"14.00\">0.49</text>\r\n",
       "</g>\r\n",
       "<!-- x2 -->\r\n",
       "<g id=\"node3\" class=\"node\"><title>x2</title>\r\n",
       "<ellipse fill=\"none\" stroke=\"black\" cx=\"78\" cy=\"-192\" rx=\"27\" ry=\"18\"/>\r\n",
       "<text text-anchor=\"middle\" x=\"78\" y=\"-188.3\" font-family=\"Times New Roman,serif\" font-size=\"14.00\">x2</text>\r\n",
       "</g>\r\n",
       "<!-- x0&#45;&gt;x2 -->\r\n",
       "<g id=\"edge2\" class=\"edge\"><title>x0&#45;&gt;x2</title>\r\n",
       "<path fill=\"none\" stroke=\"black\" d=\"M88.8055,-347.879C86.721,-318.001 82.4032,-256.113 79.9028,-220.274\"/>\r\n",
       "<polygon fill=\"black\" stroke=\"black\" points=\"83.3772,-219.784 79.1896,-210.052 76.3942,-220.271 83.3772,-219.784\"/>\r\n",
       "<text text-anchor=\"middle\" x=\"97.5\" y=\"-275.3\" font-family=\"Times New Roman,serif\" font-size=\"14.00\">3.99</text>\r\n",
       "</g>\r\n",
       "<!-- x3 -->\r\n",
       "<g id=\"node4\" class=\"node\"><title>x3</title>\r\n",
       "<ellipse fill=\"none\" stroke=\"black\" cx=\"131\" cy=\"-105\" rx=\"27\" ry=\"18\"/>\r\n",
       "<text text-anchor=\"middle\" x=\"131\" y=\"-101.3\" font-family=\"Times New Roman,serif\" font-size=\"14.00\">x3</text>\r\n",
       "</g>\r\n",
       "<!-- x0&#45;&gt;x3 -->\r\n",
       "<g id=\"edge4\" class=\"edge\"><title>x0&#45;&gt;x3</title>\r\n",
       "<path fill=\"none\" stroke=\"black\" d=\"M97.026,-348.553C102.527,-334.975 109.909,-315.071 114,-297 126.979,-239.669 130.141,-170.56 130.854,-133.194\"/>\r\n",
       "<polygon fill=\"black\" stroke=\"black\" points=\"134.355,-133.148 131.001,-123.099 127.356,-133.047 134.355,-133.148\"/>\r\n",
       "<text text-anchor=\"middle\" x=\"136.5\" y=\"-231.8\" font-family=\"Times New Roman,serif\" font-size=\"14.00\">1.98</text>\r\n",
       "</g>\r\n",
       "<!-- x1&#45;&gt;x2 -->\r\n",
       "<g id=\"edge3\" class=\"edge\"><title>x1&#45;&gt;x2</title>\r\n",
       "<path fill=\"none\" stroke=\"black\" d=\"M32.1286,-261.104C35.5617,-251.077 40.6194,-238.344 47,-228 49.7525,-223.537 53.0896,-219.099 56.5411,-214.956\"/>\r\n",
       "<polygon fill=\"black\" stroke=\"black\" points=\"59.1968,-217.236 63.1956,-207.425 53.9512,-212.601 59.1968,-217.236\"/>\r\n",
       "<text text-anchor=\"middle\" x=\"61.5\" y=\"-231.8\" font-family=\"Times New Roman,serif\" font-size=\"14.00\">&#45;0.99</text>\r\n",
       "</g>\r\n",
       "<!-- x4 -->\r\n",
       "<g id=\"node5\" class=\"node\"><title>x4</title>\r\n",
       "<ellipse fill=\"none\" stroke=\"black\" cx=\"61\" cy=\"-18\" rx=\"27\" ry=\"18\"/>\r\n",
       "<text text-anchor=\"middle\" x=\"61\" y=\"-14.3\" font-family=\"Times New Roman,serif\" font-size=\"14.00\">x4</text>\r\n",
       "</g>\r\n",
       "<!-- x1&#45;&gt;x4 -->\r\n",
       "<g id=\"edge6\" class=\"edge\"><title>x1&#45;&gt;x4</title>\r\n",
       "<path fill=\"none\" stroke=\"black\" d=\"M28.8532,-260.678C31.6749,-234.663 37.3223,-183.969 43,-141 47.3242,-108.274 52.969,-70.714 56.7751,-46.0139\"/>\r\n",
       "<polygon fill=\"black\" stroke=\"black\" points=\"60.2618,-46.3685 58.3337,-35.9506 53.3443,-45.2971 60.2618,-46.3685\"/>\r\n",
       "<text text-anchor=\"middle\" x=\"55.5\" y=\"-144.8\" font-family=\"Times New Roman,serif\" font-size=\"14.00\">0.98</text>\r\n",
       "</g>\r\n",
       "<!-- x2&#45;&gt;x3 -->\r\n",
       "<g id=\"edge5\" class=\"edge\"><title>x2&#45;&gt;x3</title>\r\n",
       "<path fill=\"none\" stroke=\"black\" d=\"M83.9095,-174.131C87.7809,-164.113 93.3502,-151.382 100,-141 102.828,-136.585 106.202,-132.17 109.668,-128.035\"/>\r\n",
       "<polygon fill=\"black\" stroke=\"black\" points=\"112.323,-130.316 116.323,-120.505 107.078,-125.68 112.323,-130.316\"/>\r\n",
       "<text text-anchor=\"middle\" x=\"114.5\" y=\"-144.8\" font-family=\"Times New Roman,serif\" font-size=\"14.00\">&#45;3.00</text>\r\n",
       "</g>\r\n",
       "<!-- x2&#45;&gt;x4 -->\r\n",
       "<g id=\"edge7\" class=\"edge\"><title>x2&#45;&gt;x4</title>\r\n",
       "<path fill=\"none\" stroke=\"black\" d=\"M75.8491,-173.969C74.1488,-160.225 71.7743,-140.384 70,-123 67.3517,-97.0532 64.8367,-67.4121 63.142,-46.4303\"/>\r\n",
       "<polygon fill=\"black\" stroke=\"black\" points=\"66.6191,-46.0026 62.3343,-36.3129 59.6413,-46.5598 66.6191,-46.0026\"/>\r\n",
       "<text text-anchor=\"middle\" x=\"82.5\" y=\"-101.3\" font-family=\"Times New Roman,serif\" font-size=\"14.00\">2.02</text>\r\n",
       "</g>\r\n",
       "<!-- x3&#45;&gt;x4 -->\r\n",
       "<g id=\"edge8\" class=\"edge\"><title>x3&#45;&gt;x4</title>\r\n",
       "<path fill=\"none\" stroke=\"black\" d=\"M118.485,-88.8037C107.735,-75.7495 92.0762,-56.7354 79.8154,-41.8473\"/>\r\n",
       "<polygon fill=\"black\" stroke=\"black\" points=\"82.4651,-39.5591 73.4063,-34.0647 77.0616,-44.009 82.4651,-39.5591\"/>\r\n",
       "<text text-anchor=\"middle\" x=\"112.5\" y=\"-57.8\" font-family=\"Times New Roman,serif\" font-size=\"14.00\">2.01</text>\r\n",
       "</g>\r\n",
       "</g>\r\n",
       "</svg>\r\n"
      ],
      "text/plain": [
       "<graphviz.dot.Digraph at 0x18b34438358>"
      ]
     },
     "execution_count": 27,
     "metadata": {},
     "output_type": "execute_result"
    }
   ],
   "source": [
    "B = model.adjacency_matrix_.copy()\n",
    "B[2, 0], B[2, 1] = get_reg_coef(X, [0, 1], 2)\n",
    "B[3, 0], B[3, 1], _ = get_reg_coef(X, [0, 1, 2], 3)\n",
    "B[4, 0], B[4, 1], _, _ = get_reg_coef(X, [0, 1, 2, 3], 4)\n",
    "print(B)\n",
    "make_dot(B, lower_limit=0.1) # To align the display, the causal direction of small coefficients is excluded."
   ]
  },
  {
   "cell_type": "markdown",
   "metadata": {},
   "source": [
    "## get_sink_variables\n",
    "By using the `get_sink_variables()` method, we can get the sink variables in the adjacent matrix."
   ]
  },
  {
   "cell_type": "code",
   "execution_count": 28,
   "metadata": {
    "ExecuteTime": {
     "end_time": "2021-06-25T06:55:42.324455Z",
     "start_time": "2021-06-25T06:55:41.958425Z"
    }
   },
   "outputs": [
    {
     "data": {
      "image/svg+xml": [
       "<?xml version=\"1.0\" encoding=\"UTF-8\" standalone=\"no\"?>\r\n",
       "<!DOCTYPE svg PUBLIC \"-//W3C//DTD SVG 1.1//EN\"\r\n",
       " \"http://www.w3.org/Graphics/SVG/1.1/DTD/svg11.dtd\">\r\n",
       "<!-- Generated by graphviz version 2.38.0 (20140413.2041)\r\n",
       " -->\r\n",
       "<!-- Title: %3 Pages: 1 -->\r\n",
       "<svg width=\"166pt\" height=\"392pt\"\r\n",
       " viewBox=\"0.00 0.00 166.00 392.00\" xmlns=\"http://www.w3.org/2000/svg\" xmlns:xlink=\"http://www.w3.org/1999/xlink\">\r\n",
       "<g id=\"graph0\" class=\"graph\" transform=\"scale(1 1) rotate(0) translate(4 388)\">\r\n",
       "<title>%3</title>\r\n",
       "<polygon fill=\"white\" stroke=\"none\" points=\"-4,4 -4,-388 162,-388 162,4 -4,4\"/>\r\n",
       "<!-- x0 -->\r\n",
       "<g id=\"node1\" class=\"node\"><title>x0</title>\r\n",
       "<ellipse fill=\"none\" stroke=\"black\" cx=\"90\" cy=\"-366\" rx=\"27\" ry=\"18\"/>\r\n",
       "<text text-anchor=\"middle\" x=\"90\" y=\"-362.3\" font-family=\"Times New Roman,serif\" font-size=\"14.00\">x0</text>\r\n",
       "</g>\r\n",
       "<!-- x1 -->\r\n",
       "<g id=\"node2\" class=\"node\"><title>x1</title>\r\n",
       "<ellipse fill=\"none\" stroke=\"black\" cx=\"27\" cy=\"-279\" rx=\"27\" ry=\"18\"/>\r\n",
       "<text text-anchor=\"middle\" x=\"27\" y=\"-275.3\" font-family=\"Times New Roman,serif\" font-size=\"14.00\">x1</text>\r\n",
       "</g>\r\n",
       "<!-- x0&#45;&gt;x1 -->\r\n",
       "<g id=\"edge1\" class=\"edge\"><title>x0&#45;&gt;x1</title>\r\n",
       "<path fill=\"none\" stroke=\"black\" d=\"M72.6656,-351.974C65.3423,-345.87 57.1133,-338.152 51,-330 45.5787,-322.771 40.907,-314.123 37.1637,-306.068\"/>\r\n",
       "<polygon fill=\"black\" stroke=\"black\" points=\"40.273,-304.441 33.0704,-296.671 33.8555,-307.237 40.273,-304.441\"/>\r\n",
       "<text text-anchor=\"middle\" x=\"63.5\" y=\"-318.8\" font-family=\"Times New Roman,serif\" font-size=\"14.00\">0.50</text>\r\n",
       "</g>\r\n",
       "<!-- x2 -->\r\n",
       "<g id=\"node3\" class=\"node\"><title>x2</title>\r\n",
       "<ellipse fill=\"none\" stroke=\"black\" cx=\"78\" cy=\"-192\" rx=\"27\" ry=\"18\"/>\r\n",
       "<text text-anchor=\"middle\" x=\"78\" y=\"-188.3\" font-family=\"Times New Roman,serif\" font-size=\"14.00\">x2</text>\r\n",
       "</g>\r\n",
       "<!-- x0&#45;&gt;x2 -->\r\n",
       "<g id=\"edge2\" class=\"edge\"><title>x0&#45;&gt;x2</title>\r\n",
       "<path fill=\"none\" stroke=\"black\" d=\"M88.8055,-347.879C86.721,-318.001 82.4032,-256.113 79.9028,-220.274\"/>\r\n",
       "<polygon fill=\"black\" stroke=\"black\" points=\"83.3772,-219.784 79.1896,-210.052 76.3942,-220.271 83.3772,-219.784\"/>\r\n",
       "<text text-anchor=\"middle\" x=\"97.5\" y=\"-275.3\" font-family=\"Times New Roman,serif\" font-size=\"14.00\">4.00</text>\r\n",
       "</g>\r\n",
       "<!-- x3 -->\r\n",
       "<g id=\"node4\" class=\"node\"><title>x3</title>\r\n",
       "<ellipse fill=\"none\" stroke=\"black\" cx=\"131\" cy=\"-105\" rx=\"27\" ry=\"18\"/>\r\n",
       "<text text-anchor=\"middle\" x=\"131\" y=\"-101.3\" font-family=\"Times New Roman,serif\" font-size=\"14.00\">x3</text>\r\n",
       "</g>\r\n",
       "<!-- x0&#45;&gt;x3 -->\r\n",
       "<g id=\"edge4\" class=\"edge\"><title>x0&#45;&gt;x3</title>\r\n",
       "<path fill=\"none\" stroke=\"black\" d=\"M97.026,-348.553C102.527,-334.975 109.909,-315.071 114,-297 126.979,-239.669 130.141,-170.56 130.854,-133.194\"/>\r\n",
       "<polygon fill=\"black\" stroke=\"black\" points=\"134.355,-133.148 131.001,-123.099 127.356,-133.047 134.355,-133.148\"/>\r\n",
       "<text text-anchor=\"middle\" x=\"136.5\" y=\"-231.8\" font-family=\"Times New Roman,serif\" font-size=\"14.00\">2.00</text>\r\n",
       "</g>\r\n",
       "<!-- x1&#45;&gt;x2 -->\r\n",
       "<g id=\"edge3\" class=\"edge\"><title>x1&#45;&gt;x2</title>\r\n",
       "<path fill=\"none\" stroke=\"black\" d=\"M32.1286,-261.104C35.5617,-251.077 40.6194,-238.344 47,-228 49.7525,-223.537 53.0896,-219.099 56.5411,-214.956\"/>\r\n",
       "<polygon fill=\"black\" stroke=\"black\" points=\"59.1968,-217.236 63.1956,-207.425 53.9512,-212.601 59.1968,-217.236\"/>\r\n",
       "<text text-anchor=\"middle\" x=\"61.5\" y=\"-231.8\" font-family=\"Times New Roman,serif\" font-size=\"14.00\">&#45;1.00</text>\r\n",
       "</g>\r\n",
       "<!-- x4 -->\r\n",
       "<g id=\"node5\" class=\"node\"><title>x4</title>\r\n",
       "<ellipse fill=\"none\" stroke=\"black\" cx=\"61\" cy=\"-18\" rx=\"27\" ry=\"18\"/>\r\n",
       "<text text-anchor=\"middle\" x=\"61\" y=\"-14.3\" font-family=\"Times New Roman,serif\" font-size=\"14.00\">x4</text>\r\n",
       "</g>\r\n",
       "<!-- x1&#45;&gt;x4 -->\r\n",
       "<g id=\"edge6\" class=\"edge\"><title>x1&#45;&gt;x4</title>\r\n",
       "<path fill=\"none\" stroke=\"black\" d=\"M28.8532,-260.678C31.6749,-234.663 37.3223,-183.969 43,-141 47.3242,-108.274 52.969,-70.714 56.7751,-46.0139\"/>\r\n",
       "<polygon fill=\"black\" stroke=\"black\" points=\"60.2618,-46.3685 58.3337,-35.9506 53.3443,-45.2971 60.2618,-46.3685\"/>\r\n",
       "<text text-anchor=\"middle\" x=\"55.5\" y=\"-144.8\" font-family=\"Times New Roman,serif\" font-size=\"14.00\">1.00</text>\r\n",
       "</g>\r\n",
       "<!-- x2&#45;&gt;x3 -->\r\n",
       "<g id=\"edge5\" class=\"edge\"><title>x2&#45;&gt;x3</title>\r\n",
       "<path fill=\"none\" stroke=\"black\" d=\"M83.9095,-174.131C87.7809,-164.113 93.3502,-151.382 100,-141 102.828,-136.585 106.202,-132.17 109.668,-128.035\"/>\r\n",
       "<polygon fill=\"black\" stroke=\"black\" points=\"112.323,-130.316 116.323,-120.505 107.078,-125.68 112.323,-130.316\"/>\r\n",
       "<text text-anchor=\"middle\" x=\"114.5\" y=\"-144.8\" font-family=\"Times New Roman,serif\" font-size=\"14.00\">&#45;3.00</text>\r\n",
       "</g>\r\n",
       "<!-- x2&#45;&gt;x4 -->\r\n",
       "<g id=\"edge7\" class=\"edge\"><title>x2&#45;&gt;x4</title>\r\n",
       "<path fill=\"none\" stroke=\"black\" d=\"M75.8491,-173.969C74.1488,-160.225 71.7743,-140.384 70,-123 67.3517,-97.0532 64.8367,-67.4121 63.142,-46.4303\"/>\r\n",
       "<polygon fill=\"black\" stroke=\"black\" points=\"66.6191,-46.0026 62.3343,-36.3129 59.6413,-46.5598 66.6191,-46.0026\"/>\r\n",
       "<text text-anchor=\"middle\" x=\"82.5\" y=\"-101.3\" font-family=\"Times New Roman,serif\" font-size=\"14.00\">2.00</text>\r\n",
       "</g>\r\n",
       "<!-- x3&#45;&gt;x4 -->\r\n",
       "<g id=\"edge8\" class=\"edge\"><title>x3&#45;&gt;x4</title>\r\n",
       "<path fill=\"none\" stroke=\"black\" d=\"M118.485,-88.8037C107.735,-75.7495 92.0762,-56.7354 79.8154,-41.8473\"/>\r\n",
       "<polygon fill=\"black\" stroke=\"black\" points=\"82.4651,-39.5591 73.4063,-34.0647 77.0616,-44.009 82.4651,-39.5591\"/>\r\n",
       "<text text-anchor=\"middle\" x=\"112.5\" y=\"-57.8\" font-family=\"Times New Roman,serif\" font-size=\"14.00\">2.00</text>\r\n",
       "</g>\r\n",
       "</g>\r\n",
       "</svg>\r\n"
      ],
      "text/plain": [
       "<graphviz.dot.Digraph at 0x18b34434a90>"
      ]
     },
     "execution_count": 28,
     "metadata": {},
     "output_type": "execute_result"
    }
   ],
   "source": [
    "m = np.array([[0.0, 0.0, 0.0, 0.0, 0.0],\n",
    "              [0.5, 0.0, 0.0, 0.0, 0.0],\n",
    "              [4.0,-1.0, 0.0, 0.0, 0.0],\n",
    "              [2.0, 0.0,-3.0, 0.0, 0.0],\n",
    "              [0.0, 1.0, 2.0, 2.0, 0.0]])\n",
    "\n",
    "make_dot(m)"
   ]
  },
  {
   "cell_type": "code",
   "execution_count": 29,
   "metadata": {
    "ExecuteTime": {
     "end_time": "2021-06-25T06:55:42.339415Z",
     "start_time": "2021-06-25T06:55:42.328446Z"
    }
   },
   "outputs": [
    {
     "data": {
      "text/plain": [
       "[4]"
      ]
     },
     "execution_count": 29,
     "metadata": {},
     "output_type": "execute_result"
    }
   ],
   "source": [
    "from lingam.utils import get_sink_variables\n",
    "\n",
    "get_sink_variables(m)"
   ]
  },
  {
   "cell_type": "markdown",
   "metadata": {},
   "source": [
    "## get_exo_variables\n",
    "By using the `get_exo_variables()` method, we can get the exogenous variables in the adjacent matrix."
   ]
  },
  {
   "cell_type": "code",
   "execution_count": 30,
   "metadata": {
    "ExecuteTime": {
     "end_time": "2021-06-25T06:55:42.668402Z",
     "start_time": "2021-06-25T06:55:42.343405Z"
    }
   },
   "outputs": [
    {
     "data": {
      "image/svg+xml": [
       "<?xml version=\"1.0\" encoding=\"UTF-8\" standalone=\"no\"?>\r\n",
       "<!DOCTYPE svg PUBLIC \"-//W3C//DTD SVG 1.1//EN\"\r\n",
       " \"http://www.w3.org/Graphics/SVG/1.1/DTD/svg11.dtd\">\r\n",
       "<!-- Generated by graphviz version 2.38.0 (20140413.2041)\r\n",
       " -->\r\n",
       "<!-- Title: %3 Pages: 1 -->\r\n",
       "<svg width=\"166pt\" height=\"392pt\"\r\n",
       " viewBox=\"0.00 0.00 166.00 392.00\" xmlns=\"http://www.w3.org/2000/svg\" xmlns:xlink=\"http://www.w3.org/1999/xlink\">\r\n",
       "<g id=\"graph0\" class=\"graph\" transform=\"scale(1 1) rotate(0) translate(4 388)\">\r\n",
       "<title>%3</title>\r\n",
       "<polygon fill=\"white\" stroke=\"none\" points=\"-4,4 -4,-388 162,-388 162,4 -4,4\"/>\r\n",
       "<!-- x0 -->\r\n",
       "<g id=\"node1\" class=\"node\"><title>x0</title>\r\n",
       "<ellipse fill=\"none\" stroke=\"black\" cx=\"90\" cy=\"-366\" rx=\"27\" ry=\"18\"/>\r\n",
       "<text text-anchor=\"middle\" x=\"90\" y=\"-362.3\" font-family=\"Times New Roman,serif\" font-size=\"14.00\">x0</text>\r\n",
       "</g>\r\n",
       "<!-- x1 -->\r\n",
       "<g id=\"node2\" class=\"node\"><title>x1</title>\r\n",
       "<ellipse fill=\"none\" stroke=\"black\" cx=\"27\" cy=\"-279\" rx=\"27\" ry=\"18\"/>\r\n",
       "<text text-anchor=\"middle\" x=\"27\" y=\"-275.3\" font-family=\"Times New Roman,serif\" font-size=\"14.00\">x1</text>\r\n",
       "</g>\r\n",
       "<!-- x0&#45;&gt;x1 -->\r\n",
       "<g id=\"edge1\" class=\"edge\"><title>x0&#45;&gt;x1</title>\r\n",
       "<path fill=\"none\" stroke=\"black\" d=\"M72.6656,-351.974C65.3423,-345.87 57.1133,-338.152 51,-330 45.5787,-322.771 40.907,-314.123 37.1637,-306.068\"/>\r\n",
       "<polygon fill=\"black\" stroke=\"black\" points=\"40.273,-304.441 33.0704,-296.671 33.8555,-307.237 40.273,-304.441\"/>\r\n",
       "<text text-anchor=\"middle\" x=\"63.5\" y=\"-318.8\" font-family=\"Times New Roman,serif\" font-size=\"14.00\">0.50</text>\r\n",
       "</g>\r\n",
       "<!-- x2 -->\r\n",
       "<g id=\"node3\" class=\"node\"><title>x2</title>\r\n",
       "<ellipse fill=\"none\" stroke=\"black\" cx=\"78\" cy=\"-192\" rx=\"27\" ry=\"18\"/>\r\n",
       "<text text-anchor=\"middle\" x=\"78\" y=\"-188.3\" font-family=\"Times New Roman,serif\" font-size=\"14.00\">x2</text>\r\n",
       "</g>\r\n",
       "<!-- x0&#45;&gt;x2 -->\r\n",
       "<g id=\"edge2\" class=\"edge\"><title>x0&#45;&gt;x2</title>\r\n",
       "<path fill=\"none\" stroke=\"black\" d=\"M88.8055,-347.879C86.721,-318.001 82.4032,-256.113 79.9028,-220.274\"/>\r\n",
       "<polygon fill=\"black\" stroke=\"black\" points=\"83.3772,-219.784 79.1896,-210.052 76.3942,-220.271 83.3772,-219.784\"/>\r\n",
       "<text text-anchor=\"middle\" x=\"97.5\" y=\"-275.3\" font-family=\"Times New Roman,serif\" font-size=\"14.00\">4.00</text>\r\n",
       "</g>\r\n",
       "<!-- x3 -->\r\n",
       "<g id=\"node4\" class=\"node\"><title>x3</title>\r\n",
       "<ellipse fill=\"none\" stroke=\"black\" cx=\"131\" cy=\"-105\" rx=\"27\" ry=\"18\"/>\r\n",
       "<text text-anchor=\"middle\" x=\"131\" y=\"-101.3\" font-family=\"Times New Roman,serif\" font-size=\"14.00\">x3</text>\r\n",
       "</g>\r\n",
       "<!-- x0&#45;&gt;x3 -->\r\n",
       "<g id=\"edge4\" class=\"edge\"><title>x0&#45;&gt;x3</title>\r\n",
       "<path fill=\"none\" stroke=\"black\" d=\"M97.026,-348.553C102.527,-334.975 109.909,-315.071 114,-297 126.979,-239.669 130.141,-170.56 130.854,-133.194\"/>\r\n",
       "<polygon fill=\"black\" stroke=\"black\" points=\"134.355,-133.148 131.001,-123.099 127.356,-133.047 134.355,-133.148\"/>\r\n",
       "<text text-anchor=\"middle\" x=\"136.5\" y=\"-231.8\" font-family=\"Times New Roman,serif\" font-size=\"14.00\">2.00</text>\r\n",
       "</g>\r\n",
       "<!-- x1&#45;&gt;x2 -->\r\n",
       "<g id=\"edge3\" class=\"edge\"><title>x1&#45;&gt;x2</title>\r\n",
       "<path fill=\"none\" stroke=\"black\" d=\"M32.1286,-261.104C35.5617,-251.077 40.6194,-238.344 47,-228 49.7525,-223.537 53.0896,-219.099 56.5411,-214.956\"/>\r\n",
       "<polygon fill=\"black\" stroke=\"black\" points=\"59.1968,-217.236 63.1956,-207.425 53.9512,-212.601 59.1968,-217.236\"/>\r\n",
       "<text text-anchor=\"middle\" x=\"61.5\" y=\"-231.8\" font-family=\"Times New Roman,serif\" font-size=\"14.00\">&#45;1.00</text>\r\n",
       "</g>\r\n",
       "<!-- x4 -->\r\n",
       "<g id=\"node5\" class=\"node\"><title>x4</title>\r\n",
       "<ellipse fill=\"none\" stroke=\"black\" cx=\"61\" cy=\"-18\" rx=\"27\" ry=\"18\"/>\r\n",
       "<text text-anchor=\"middle\" x=\"61\" y=\"-14.3\" font-family=\"Times New Roman,serif\" font-size=\"14.00\">x4</text>\r\n",
       "</g>\r\n",
       "<!-- x1&#45;&gt;x4 -->\r\n",
       "<g id=\"edge6\" class=\"edge\"><title>x1&#45;&gt;x4</title>\r\n",
       "<path fill=\"none\" stroke=\"black\" d=\"M28.8532,-260.678C31.6749,-234.663 37.3223,-183.969 43,-141 47.3242,-108.274 52.969,-70.714 56.7751,-46.0139\"/>\r\n",
       "<polygon fill=\"black\" stroke=\"black\" points=\"60.2618,-46.3685 58.3337,-35.9506 53.3443,-45.2971 60.2618,-46.3685\"/>\r\n",
       "<text text-anchor=\"middle\" x=\"55.5\" y=\"-144.8\" font-family=\"Times New Roman,serif\" font-size=\"14.00\">1.00</text>\r\n",
       "</g>\r\n",
       "<!-- x2&#45;&gt;x3 -->\r\n",
       "<g id=\"edge5\" class=\"edge\"><title>x2&#45;&gt;x3</title>\r\n",
       "<path fill=\"none\" stroke=\"black\" d=\"M83.9095,-174.131C87.7809,-164.113 93.3502,-151.382 100,-141 102.828,-136.585 106.202,-132.17 109.668,-128.035\"/>\r\n",
       "<polygon fill=\"black\" stroke=\"black\" points=\"112.323,-130.316 116.323,-120.505 107.078,-125.68 112.323,-130.316\"/>\r\n",
       "<text text-anchor=\"middle\" x=\"114.5\" y=\"-144.8\" font-family=\"Times New Roman,serif\" font-size=\"14.00\">&#45;3.00</text>\r\n",
       "</g>\r\n",
       "<!-- x2&#45;&gt;x4 -->\r\n",
       "<g id=\"edge7\" class=\"edge\"><title>x2&#45;&gt;x4</title>\r\n",
       "<path fill=\"none\" stroke=\"black\" d=\"M75.8491,-173.969C74.1488,-160.225 71.7743,-140.384 70,-123 67.3517,-97.0532 64.8367,-67.4121 63.142,-46.4303\"/>\r\n",
       "<polygon fill=\"black\" stroke=\"black\" points=\"66.6191,-46.0026 62.3343,-36.3129 59.6413,-46.5598 66.6191,-46.0026\"/>\r\n",
       "<text text-anchor=\"middle\" x=\"82.5\" y=\"-101.3\" font-family=\"Times New Roman,serif\" font-size=\"14.00\">2.00</text>\r\n",
       "</g>\r\n",
       "<!-- x3&#45;&gt;x4 -->\r\n",
       "<g id=\"edge8\" class=\"edge\"><title>x3&#45;&gt;x4</title>\r\n",
       "<path fill=\"none\" stroke=\"black\" d=\"M118.485,-88.8037C107.735,-75.7495 92.0762,-56.7354 79.8154,-41.8473\"/>\r\n",
       "<polygon fill=\"black\" stroke=\"black\" points=\"82.4651,-39.5591 73.4063,-34.0647 77.0616,-44.009 82.4651,-39.5591\"/>\r\n",
       "<text text-anchor=\"middle\" x=\"112.5\" y=\"-57.8\" font-family=\"Times New Roman,serif\" font-size=\"14.00\">2.00</text>\r\n",
       "</g>\r\n",
       "</g>\r\n",
       "</svg>\r\n"
      ],
      "text/plain": [
       "<graphviz.dot.Digraph at 0x18b2f4a3dd8>"
      ]
     },
     "execution_count": 30,
     "metadata": {},
     "output_type": "execute_result"
    }
   ],
   "source": [
    "m = np.array([[0.0, 0.0, 0.0, 0.0, 0.0],\n",
    "              [0.5, 0.0, 0.0, 0.0, 0.0],\n",
    "              [4.0,-1.0, 0.0, 0.0, 0.0],\n",
    "              [2.0, 0.0,-3.0, 0.0, 0.0],\n",
    "              [0.0, 1.0, 2.0, 2.0, 0.0]])\n",
    "\n",
    "make_dot(m)"
   ]
  },
  {
   "cell_type": "code",
   "execution_count": 31,
   "metadata": {
    "ExecuteTime": {
     "end_time": "2021-06-25T06:55:42.687814Z",
     "start_time": "2021-06-25T06:55:42.671277Z"
    }
   },
   "outputs": [
    {
     "data": {
      "text/plain": [
       "[0]"
      ]
     },
     "execution_count": 31,
     "metadata": {},
     "output_type": "execute_result"
    }
   ],
   "source": [
    "from lingam.utils import get_exo_variables\n",
    "\n",
    "get_exo_variables(m)"
   ]
  },
  {
   "cell_type": "markdown",
   "metadata": {},
   "source": [
    "## find_all_paths\n",
    "Using the `find_all_paths()` method, we can explore all paths from any variable to any variable."
   ]
  },
  {
   "cell_type": "code",
   "execution_count": 32,
   "metadata": {
    "ExecuteTime": {
     "end_time": "2021-06-25T06:55:43.056217Z",
     "start_time": "2021-06-25T06:55:42.691803Z"
    }
   },
   "outputs": [
    {
     "data": {
      "image/svg+xml": [
       "<?xml version=\"1.0\" encoding=\"UTF-8\" standalone=\"no\"?>\r\n",
       "<!DOCTYPE svg PUBLIC \"-//W3C//DTD SVG 1.1//EN\"\r\n",
       " \"http://www.w3.org/Graphics/SVG/1.1/DTD/svg11.dtd\">\r\n",
       "<!-- Generated by graphviz version 2.38.0 (20140413.2041)\r\n",
       " -->\r\n",
       "<!-- Title: %3 Pages: 1 -->\r\n",
       "<svg width=\"166pt\" height=\"392pt\"\r\n",
       " viewBox=\"0.00 0.00 166.00 392.00\" xmlns=\"http://www.w3.org/2000/svg\" xmlns:xlink=\"http://www.w3.org/1999/xlink\">\r\n",
       "<g id=\"graph0\" class=\"graph\" transform=\"scale(1 1) rotate(0) translate(4 388)\">\r\n",
       "<title>%3</title>\r\n",
       "<polygon fill=\"white\" stroke=\"none\" points=\"-4,4 -4,-388 162,-388 162,4 -4,4\"/>\r\n",
       "<!-- x0 -->\r\n",
       "<g id=\"node1\" class=\"node\"><title>x0</title>\r\n",
       "<ellipse fill=\"none\" stroke=\"black\" cx=\"90\" cy=\"-366\" rx=\"27\" ry=\"18\"/>\r\n",
       "<text text-anchor=\"middle\" x=\"90\" y=\"-362.3\" font-family=\"Times New Roman,serif\" font-size=\"14.00\">x0</text>\r\n",
       "</g>\r\n",
       "<!-- x1 -->\r\n",
       "<g id=\"node2\" class=\"node\"><title>x1</title>\r\n",
       "<ellipse fill=\"none\" stroke=\"black\" cx=\"27\" cy=\"-279\" rx=\"27\" ry=\"18\"/>\r\n",
       "<text text-anchor=\"middle\" x=\"27\" y=\"-275.3\" font-family=\"Times New Roman,serif\" font-size=\"14.00\">x1</text>\r\n",
       "</g>\r\n",
       "<!-- x0&#45;&gt;x1 -->\r\n",
       "<g id=\"edge1\" class=\"edge\"><title>x0&#45;&gt;x1</title>\r\n",
       "<path fill=\"none\" stroke=\"black\" d=\"M72.6656,-351.974C65.3423,-345.87 57.1133,-338.152 51,-330 45.5787,-322.771 40.907,-314.123 37.1637,-306.068\"/>\r\n",
       "<polygon fill=\"black\" stroke=\"black\" points=\"40.273,-304.441 33.0704,-296.671 33.8555,-307.237 40.273,-304.441\"/>\r\n",
       "<text text-anchor=\"middle\" x=\"63.5\" y=\"-318.8\" font-family=\"Times New Roman,serif\" font-size=\"14.00\">0.50</text>\r\n",
       "</g>\r\n",
       "<!-- x2 -->\r\n",
       "<g id=\"node3\" class=\"node\"><title>x2</title>\r\n",
       "<ellipse fill=\"none\" stroke=\"black\" cx=\"78\" cy=\"-192\" rx=\"27\" ry=\"18\"/>\r\n",
       "<text text-anchor=\"middle\" x=\"78\" y=\"-188.3\" font-family=\"Times New Roman,serif\" font-size=\"14.00\">x2</text>\r\n",
       "</g>\r\n",
       "<!-- x0&#45;&gt;x2 -->\r\n",
       "<g id=\"edge2\" class=\"edge\"><title>x0&#45;&gt;x2</title>\r\n",
       "<path fill=\"none\" stroke=\"black\" d=\"M88.8055,-347.879C86.721,-318.001 82.4032,-256.113 79.9028,-220.274\"/>\r\n",
       "<polygon fill=\"black\" stroke=\"black\" points=\"83.3772,-219.784 79.1896,-210.052 76.3942,-220.271 83.3772,-219.784\"/>\r\n",
       "<text text-anchor=\"middle\" x=\"97.5\" y=\"-275.3\" font-family=\"Times New Roman,serif\" font-size=\"14.00\">4.00</text>\r\n",
       "</g>\r\n",
       "<!-- x3 -->\r\n",
       "<g id=\"node4\" class=\"node\"><title>x3</title>\r\n",
       "<ellipse fill=\"none\" stroke=\"black\" cx=\"131\" cy=\"-105\" rx=\"27\" ry=\"18\"/>\r\n",
       "<text text-anchor=\"middle\" x=\"131\" y=\"-101.3\" font-family=\"Times New Roman,serif\" font-size=\"14.00\">x3</text>\r\n",
       "</g>\r\n",
       "<!-- x0&#45;&gt;x3 -->\r\n",
       "<g id=\"edge4\" class=\"edge\"><title>x0&#45;&gt;x3</title>\r\n",
       "<path fill=\"none\" stroke=\"black\" d=\"M97.026,-348.553C102.527,-334.975 109.909,-315.071 114,-297 126.979,-239.669 130.141,-170.56 130.854,-133.194\"/>\r\n",
       "<polygon fill=\"black\" stroke=\"black\" points=\"134.355,-133.148 131.001,-123.099 127.356,-133.047 134.355,-133.148\"/>\r\n",
       "<text text-anchor=\"middle\" x=\"136.5\" y=\"-231.8\" font-family=\"Times New Roman,serif\" font-size=\"14.00\">2.00</text>\r\n",
       "</g>\r\n",
       "<!-- x1&#45;&gt;x2 -->\r\n",
       "<g id=\"edge3\" class=\"edge\"><title>x1&#45;&gt;x2</title>\r\n",
       "<path fill=\"none\" stroke=\"black\" d=\"M32.1286,-261.104C35.5617,-251.077 40.6194,-238.344 47,-228 49.7525,-223.537 53.0896,-219.099 56.5411,-214.956\"/>\r\n",
       "<polygon fill=\"black\" stroke=\"black\" points=\"59.1968,-217.236 63.1956,-207.425 53.9512,-212.601 59.1968,-217.236\"/>\r\n",
       "<text text-anchor=\"middle\" x=\"61.5\" y=\"-231.8\" font-family=\"Times New Roman,serif\" font-size=\"14.00\">&#45;1.00</text>\r\n",
       "</g>\r\n",
       "<!-- x4 -->\r\n",
       "<g id=\"node5\" class=\"node\"><title>x4</title>\r\n",
       "<ellipse fill=\"none\" stroke=\"black\" cx=\"61\" cy=\"-18\" rx=\"27\" ry=\"18\"/>\r\n",
       "<text text-anchor=\"middle\" x=\"61\" y=\"-14.3\" font-family=\"Times New Roman,serif\" font-size=\"14.00\">x4</text>\r\n",
       "</g>\r\n",
       "<!-- x1&#45;&gt;x4 -->\r\n",
       "<g id=\"edge6\" class=\"edge\"><title>x1&#45;&gt;x4</title>\r\n",
       "<path fill=\"none\" stroke=\"black\" d=\"M28.8532,-260.678C31.6749,-234.663 37.3223,-183.969 43,-141 47.3242,-108.274 52.969,-70.714 56.7751,-46.0139\"/>\r\n",
       "<polygon fill=\"black\" stroke=\"black\" points=\"60.2618,-46.3685 58.3337,-35.9506 53.3443,-45.2971 60.2618,-46.3685\"/>\r\n",
       "<text text-anchor=\"middle\" x=\"55.5\" y=\"-144.8\" font-family=\"Times New Roman,serif\" font-size=\"14.00\">1.00</text>\r\n",
       "</g>\r\n",
       "<!-- x2&#45;&gt;x3 -->\r\n",
       "<g id=\"edge5\" class=\"edge\"><title>x2&#45;&gt;x3</title>\r\n",
       "<path fill=\"none\" stroke=\"black\" d=\"M83.9095,-174.131C87.7809,-164.113 93.3502,-151.382 100,-141 102.828,-136.585 106.202,-132.17 109.668,-128.035\"/>\r\n",
       "<polygon fill=\"black\" stroke=\"black\" points=\"112.323,-130.316 116.323,-120.505 107.078,-125.68 112.323,-130.316\"/>\r\n",
       "<text text-anchor=\"middle\" x=\"114.5\" y=\"-144.8\" font-family=\"Times New Roman,serif\" font-size=\"14.00\">&#45;3.00</text>\r\n",
       "</g>\r\n",
       "<!-- x2&#45;&gt;x4 -->\r\n",
       "<g id=\"edge7\" class=\"edge\"><title>x2&#45;&gt;x4</title>\r\n",
       "<path fill=\"none\" stroke=\"black\" d=\"M75.8491,-173.969C74.1488,-160.225 71.7743,-140.384 70,-123 67.3517,-97.0532 64.8367,-67.4121 63.142,-46.4303\"/>\r\n",
       "<polygon fill=\"black\" stroke=\"black\" points=\"66.6191,-46.0026 62.3343,-36.3129 59.6413,-46.5598 66.6191,-46.0026\"/>\r\n",
       "<text text-anchor=\"middle\" x=\"82.5\" y=\"-101.3\" font-family=\"Times New Roman,serif\" font-size=\"14.00\">2.00</text>\r\n",
       "</g>\r\n",
       "<!-- x3&#45;&gt;x4 -->\r\n",
       "<g id=\"edge8\" class=\"edge\"><title>x3&#45;&gt;x4</title>\r\n",
       "<path fill=\"none\" stroke=\"black\" d=\"M118.485,-88.8037C107.735,-75.7495 92.0762,-56.7354 79.8154,-41.8473\"/>\r\n",
       "<polygon fill=\"black\" stroke=\"black\" points=\"82.4651,-39.5591 73.4063,-34.0647 77.0616,-44.009 82.4651,-39.5591\"/>\r\n",
       "<text text-anchor=\"middle\" x=\"112.5\" y=\"-57.8\" font-family=\"Times New Roman,serif\" font-size=\"14.00\">2.00</text>\r\n",
       "</g>\r\n",
       "</g>\r\n",
       "</svg>\r\n"
      ],
      "text/plain": [
       "<graphviz.dot.Digraph at 0x18b344454a8>"
      ]
     },
     "execution_count": 32,
     "metadata": {},
     "output_type": "execute_result"
    }
   ],
   "source": [
    "m = np.array([[0.0, 0.0, 0.0, 0.0, 0.0],\n",
    "              [0.5, 0.0, 0.0, 0.0, 0.0],\n",
    "              [4.0,-1.0, 0.0, 0.0, 0.0],\n",
    "              [2.0, 0.0,-3.0, 0.0, 0.0],\n",
    "              [0.0, 1.0, 2.0, 2.0, 0.0]])\n",
    "\n",
    "make_dot(m)"
   ]
  },
  {
   "cell_type": "code",
   "execution_count": 33,
   "metadata": {
    "ExecuteTime": {
     "end_time": "2021-06-25T06:55:43.088132Z",
     "start_time": "2021-06-25T06:55:43.059211Z"
    }
   },
   "outputs": [
    {
     "data": {
      "text/html": [
       "<div>\n",
       "<style scoped>\n",
       "    .dataframe tbody tr th:only-of-type {\n",
       "        vertical-align: middle;\n",
       "    }\n",
       "\n",
       "    .dataframe tbody tr th {\n",
       "        vertical-align: top;\n",
       "    }\n",
       "\n",
       "    .dataframe thead th {\n",
       "        text-align: right;\n",
       "    }\n",
       "</style>\n",
       "<table border=\"1\" class=\"dataframe\">\n",
       "  <thead>\n",
       "    <tr style=\"text-align: right;\">\n",
       "      <th></th>\n",
       "      <th>path</th>\n",
       "      <th>effect</th>\n",
       "    </tr>\n",
       "  </thead>\n",
       "  <tbody>\n",
       "    <tr>\n",
       "      <th>0</th>\n",
       "      <td>[0, 1, 2, 3, 4]</td>\n",
       "      <td>3.0</td>\n",
       "    </tr>\n",
       "    <tr>\n",
       "      <th>1</th>\n",
       "      <td>[0, 1, 2, 4]</td>\n",
       "      <td>-1.0</td>\n",
       "    </tr>\n",
       "    <tr>\n",
       "      <th>2</th>\n",
       "      <td>[0, 1, 4]</td>\n",
       "      <td>0.5</td>\n",
       "    </tr>\n",
       "    <tr>\n",
       "      <th>3</th>\n",
       "      <td>[0, 2, 3, 4]</td>\n",
       "      <td>-24.0</td>\n",
       "    </tr>\n",
       "    <tr>\n",
       "      <th>4</th>\n",
       "      <td>[0, 2, 4]</td>\n",
       "      <td>8.0</td>\n",
       "    </tr>\n",
       "    <tr>\n",
       "      <th>5</th>\n",
       "      <td>[0, 3, 4]</td>\n",
       "      <td>4.0</td>\n",
       "    </tr>\n",
       "  </tbody>\n",
       "</table>\n",
       "</div>"
      ],
      "text/plain": [
       "              path  effect\n",
       "0  [0, 1, 2, 3, 4]     3.0\n",
       "1     [0, 1, 2, 4]    -1.0\n",
       "2        [0, 1, 4]     0.5\n",
       "3     [0, 2, 3, 4]   -24.0\n",
       "4        [0, 2, 4]     8.0\n",
       "5        [0, 3, 4]     4.0"
      ]
     },
     "execution_count": 33,
     "metadata": {},
     "output_type": "execute_result"
    }
   ],
   "source": [
    "from lingam.utils import find_all_paths\n",
    "\n",
    "paths = find_all_paths(m, 0, 4)\n",
    "pd.DataFrame({'path': paths[0], 'effect': paths[1]})"
   ]
  },
  {
   "cell_type": "code",
   "execution_count": null,
   "metadata": {},
   "outputs": [],
   "source": []
  }
 ],
 "metadata": {
  "kernelspec": {
   "display_name": "Python 3",
   "language": "python",
   "name": "python3"
  },
  "language_info": {
   "codemirror_mode": {
    "name": "ipython",
    "version": 3
   },
   "file_extension": ".py",
   "mimetype": "text/x-python",
   "name": "python",
   "nbconvert_exporter": "python",
   "pygments_lexer": "ipython3",
   "version": "3.7.3"
  },
  "toc": {
   "base_numbering": 1,
   "nav_menu": {},
   "number_sections": true,
   "sideBar": true,
   "skip_h1_title": false,
   "title_cell": "Table of Contents",
   "title_sidebar": "Contents",
   "toc_cell": false,
   "toc_position": {
    "height": "calc(100% - 180px)",
    "left": "10px",
    "top": "150px",
    "width": "232.727px"
   },
   "toc_section_display": true,
   "toc_window_display": false
  }
 },
 "nbformat": 4,
 "nbformat_minor": 2
}
