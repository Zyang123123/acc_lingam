{
 "cells": [
  {
   "cell_type": "markdown",
   "metadata": {},
   "source": [
    "# How to use prior knowledge in DirectLiNGAM"
   ]
  },
  {
   "cell_type": "markdown",
   "metadata": {},
   "source": [
    "## Import and settings\n",
    "In this example, we need to import `numpy`, `pandas`, and `graphviz` in addition to `lingam`."
   ]
  },
  {
   "cell_type": "code",
   "execution_count": 1,
   "metadata": {
    "ExecuteTime": {
     "end_time": "2019-12-12T06:27:49.386559Z",
     "start_time": "2019-12-12T06:27:47.059613Z"
    }
   },
   "outputs": [
    {
     "name": "stdout",
     "output_type": "stream",
     "text": [
      "['1.16.2', '0.24.2', '0.11.1', '1.5.2']\n"
     ]
    }
   ],
   "source": [
    "import numpy as np\n",
    "import pandas as pd\n",
    "import graphviz\n",
    "import lingam\n",
    "from lingam.utils import make_prior_knowledge, make_dot\n",
    "\n",
    "print([np.__version__, pd.__version__, graphviz.__version__, lingam.__version__])\n",
    "\n",
    "np.set_printoptions(precision=3, suppress=True)\n",
    "np.random.seed(0)"
   ]
  },
  {
   "cell_type": "markdown",
   "metadata": {},
   "source": [
    "## Utility function\n",
    "We define a utility function to draw the directed acyclic graph."
   ]
  },
  {
   "cell_type": "code",
   "execution_count": 2,
   "metadata": {
    "ExecuteTime": {
     "end_time": "2019-12-12T06:27:49.416479Z",
     "start_time": "2019-12-12T06:27:49.404510Z"
    }
   },
   "outputs": [],
   "source": [
    "def make_prior_knowledge_graph(prior_knowledge_matrix):\n",
    "    d = graphviz.Digraph(engine='dot')\n",
    "    \n",
    "    labels = [f'x{i}' for i in range(prior_knowledge_matrix.shape[0])]\n",
    "    for label in labels:\n",
    "        d.node(label, label)\n",
    "\n",
    "    dirs = np.where(prior_knowledge_matrix > 0)\n",
    "    for to, from_ in zip(dirs[0], dirs[1]):\n",
    "        d.edge(labels[from_], labels[to])\n",
    "\n",
    "    dirs = np.where(prior_knowledge_matrix < 0)\n",
    "    for to, from_ in zip(dirs[0], dirs[1]):\n",
    "        if to != from_:\n",
    "            d.edge(labels[from_], labels[to], style='dashed')\n",
    "    return d"
   ]
  },
  {
   "cell_type": "markdown",
   "metadata": {},
   "source": [
    "## Test data\n",
    "We create test data consisting of 6 variables."
   ]
  },
  {
   "cell_type": "code",
   "execution_count": 3,
   "metadata": {
    "ExecuteTime": {
     "end_time": "2019-12-12T06:27:49.484297Z",
     "start_time": "2019-12-12T06:27:49.420469Z"
    }
   },
   "outputs": [
    {
     "data": {
      "text/html": [
       "<div>\n",
       "<style scoped>\n",
       "    .dataframe tbody tr th:only-of-type {\n",
       "        vertical-align: middle;\n",
       "    }\n",
       "\n",
       "    .dataframe tbody tr th {\n",
       "        vertical-align: top;\n",
       "    }\n",
       "\n",
       "    .dataframe thead th {\n",
       "        text-align: right;\n",
       "    }\n",
       "</style>\n",
       "<table border=\"1\" class=\"dataframe\">\n",
       "  <thead>\n",
       "    <tr style=\"text-align: right;\">\n",
       "      <th></th>\n",
       "      <th>x0</th>\n",
       "      <th>x1</th>\n",
       "      <th>x2</th>\n",
       "      <th>x3</th>\n",
       "      <th>x4</th>\n",
       "      <th>x5</th>\n",
       "    </tr>\n",
       "  </thead>\n",
       "  <tbody>\n",
       "    <tr>\n",
       "      <th>0</th>\n",
       "      <td>2.394708</td>\n",
       "      <td>15.312359</td>\n",
       "      <td>3.685054</td>\n",
       "      <td>0.548814</td>\n",
       "      <td>15.780259</td>\n",
       "      <td>9.948090</td>\n",
       "    </tr>\n",
       "    <tr>\n",
       "      <th>1</th>\n",
       "      <td>2.325771</td>\n",
       "      <td>16.145216</td>\n",
       "      <td>4.332293</td>\n",
       "      <td>0.715189</td>\n",
       "      <td>14.335879</td>\n",
       "      <td>9.514409</td>\n",
       "    </tr>\n",
       "    <tr>\n",
       "      <th>2</th>\n",
       "      <td>2.197313</td>\n",
       "      <td>15.848718</td>\n",
       "      <td>4.539881</td>\n",
       "      <td>0.602763</td>\n",
       "      <td>14.027410</td>\n",
       "      <td>9.266158</td>\n",
       "    </tr>\n",
       "    <tr>\n",
       "      <th>3</th>\n",
       "      <td>1.672250</td>\n",
       "      <td>13.200354</td>\n",
       "      <td>3.675534</td>\n",
       "      <td>0.544883</td>\n",
       "      <td>10.421554</td>\n",
       "      <td>6.771233</td>\n",
       "    </tr>\n",
       "    <tr>\n",
       "      <th>4</th>\n",
       "      <td>1.282752</td>\n",
       "      <td>11.337503</td>\n",
       "      <td>3.486211</td>\n",
       "      <td>0.423655</td>\n",
       "      <td>7.533376</td>\n",
       "      <td>5.368668</td>\n",
       "    </tr>\n",
       "  </tbody>\n",
       "</table>\n",
       "</div>"
      ],
      "text/plain": [
       "         x0         x1        x2        x3         x4        x5\n",
       "0  2.394708  15.312359  3.685054  0.548814  15.780259  9.948090\n",
       "1  2.325771  16.145216  4.332293  0.715189  14.335879  9.514409\n",
       "2  2.197313  15.848718  4.539881  0.602763  14.027410  9.266158\n",
       "3  1.672250  13.200354  3.675534  0.544883  10.421554  6.771233\n",
       "4  1.282752  11.337503  3.486211  0.423655   7.533376  5.368668"
      ]
     },
     "execution_count": 3,
     "metadata": {},
     "output_type": "execute_result"
    }
   ],
   "source": [
    "x3 = np.random.uniform(size=10000)\n",
    "x0 = 3.0*x3 + np.random.uniform(size=10000)\n",
    "x2 = 6.0*x3 + np.random.uniform(size=10000)\n",
    "x1 = 3.0*x0 + 2.0*x2 + np.random.uniform(size=10000)\n",
    "x5 = 4.0*x0 + np.random.uniform(size=10000)\n",
    "x4 = 8.0*x0 - 1.0*x2 + np.random.uniform(size=10000)\n",
    "X = pd.DataFrame(np.array([x0, x1, x2, x3, x4, x5]).T ,columns=['x0', 'x1', 'x2', 'x3', 'x4', 'x5'])\n",
    "X.head()"
   ]
  },
  {
   "cell_type": "code",
   "execution_count": 4,
   "metadata": {
    "ExecuteTime": {
     "end_time": "2019-12-12T06:27:49.947772Z",
     "start_time": "2019-12-12T06:27:49.486292Z"
    }
   },
   "outputs": [
    {
     "data": {
      "image/svg+xml": [
       "<?xml version=\"1.0\" encoding=\"UTF-8\" standalone=\"no\"?>\r\n",
       "<!DOCTYPE svg PUBLIC \"-//W3C//DTD SVG 1.1//EN\"\r\n",
       " \"http://www.w3.org/Graphics/SVG/1.1/DTD/svg11.dtd\">\r\n",
       "<!-- Generated by graphviz version 2.38.0 (20140413.2041)\r\n",
       " -->\r\n",
       "<!-- Title: %3 Pages: 1 -->\r\n",
       "<svg width=\"245pt\" height=\"218pt\"\r\n",
       " viewBox=\"0.00 0.00 245.00 218.00\" xmlns=\"http://www.w3.org/2000/svg\" xmlns:xlink=\"http://www.w3.org/1999/xlink\">\r\n",
       "<g id=\"graph0\" class=\"graph\" transform=\"scale(1 1) rotate(0) translate(4 214)\">\r\n",
       "<title>%3</title>\r\n",
       "<polygon fill=\"white\" stroke=\"none\" points=\"-4,4 -4,-214 241,-214 241,4 -4,4\"/>\r\n",
       "<!-- x0 -->\r\n",
       "<g id=\"node1\" class=\"node\"><title>x0</title>\r\n",
       "<ellipse fill=\"none\" stroke=\"black\" cx=\"150\" cy=\"-105\" rx=\"27\" ry=\"18\"/>\r\n",
       "<text text-anchor=\"middle\" x=\"150\" y=\"-101.3\" font-family=\"Times New Roman,serif\" font-size=\"14.00\">x0</text>\r\n",
       "</g>\r\n",
       "<!-- x1 -->\r\n",
       "<g id=\"node2\" class=\"node\"><title>x1</title>\r\n",
       "<ellipse fill=\"none\" stroke=\"black\" cx=\"125\" cy=\"-18\" rx=\"27\" ry=\"18\"/>\r\n",
       "<text text-anchor=\"middle\" x=\"125\" y=\"-14.3\" font-family=\"Times New Roman,serif\" font-size=\"14.00\">x1</text>\r\n",
       "</g>\r\n",
       "<!-- x0&#45;&gt;x1 -->\r\n",
       "<g id=\"edge2\" class=\"edge\"><title>x0&#45;&gt;x1</title>\r\n",
       "<path fill=\"none\" stroke=\"black\" d=\"M147.442,-86.6548C145.783,-76.931 143.308,-64.6521 140,-54 139.069,-51.0031 137.968,-47.9142 136.791,-44.8705\"/>\r\n",
       "<polygon fill=\"black\" stroke=\"black\" points=\"139.956,-43.3657 132.892,-35.4693 133.49,-46.0472 139.956,-43.3657\"/>\r\n",
       "<text text-anchor=\"middle\" x=\"155.5\" y=\"-57.8\" font-family=\"Times New Roman,serif\" font-size=\"14.00\">3.00</text>\r\n",
       "</g>\r\n",
       "<!-- x4 -->\r\n",
       "<g id=\"node5\" class=\"node\"><title>x4</title>\r\n",
       "<ellipse fill=\"none\" stroke=\"black\" cx=\"27\" cy=\"-18\" rx=\"27\" ry=\"18\"/>\r\n",
       "<text text-anchor=\"middle\" x=\"27\" y=\"-14.3\" font-family=\"Times New Roman,serif\" font-size=\"14.00\">x4</text>\r\n",
       "</g>\r\n",
       "<!-- x0&#45;&gt;x4 -->\r\n",
       "<g id=\"edge5\" class=\"edge\"><title>x0&#45;&gt;x4</title>\r\n",
       "<path fill=\"none\" stroke=\"black\" d=\"M134.544,-90.005C120.464,-77.3813 100.597,-59.916 92,-54 81.194,-46.5643 68.6395,-39.4801 57.4616,-33.6547\"/>\r\n",
       "<polygon fill=\"black\" stroke=\"black\" points=\"58.9644,-30.4924 48.4645,-29.0773 55.7902,-36.7313 58.9644,-30.4924\"/>\r\n",
       "<text text-anchor=\"middle\" x=\"121.5\" y=\"-57.8\" font-family=\"Times New Roman,serif\" font-size=\"14.00\">8.00</text>\r\n",
       "</g>\r\n",
       "<!-- x5 -->\r\n",
       "<g id=\"node6\" class=\"node\"><title>x5</title>\r\n",
       "<ellipse fill=\"none\" stroke=\"black\" cx=\"210\" cy=\"-18\" rx=\"27\" ry=\"18\"/>\r\n",
       "<text text-anchor=\"middle\" x=\"210\" y=\"-14.3\" font-family=\"Times New Roman,serif\" font-size=\"14.00\">x5</text>\r\n",
       "</g>\r\n",
       "<!-- x0&#45;&gt;x5 -->\r\n",
       "<g id=\"edge7\" class=\"edge\"><title>x0&#45;&gt;x5</title>\r\n",
       "<path fill=\"none\" stroke=\"black\" d=\"M161.005,-88.4097C169.97,-75.709 182.78,-57.5615 193.053,-43.0079\"/>\r\n",
       "<polygon fill=\"black\" stroke=\"black\" points=\"196.157,-44.6796 199.065,-34.4915 190.439,-40.6428 196.157,-44.6796\"/>\r\n",
       "<text text-anchor=\"middle\" x=\"195.5\" y=\"-57.8\" font-family=\"Times New Roman,serif\" font-size=\"14.00\">4.00</text>\r\n",
       "</g>\r\n",
       "<!-- x2 -->\r\n",
       "<g id=\"node3\" class=\"node\"><title>x2</title>\r\n",
       "<ellipse fill=\"none\" stroke=\"black\" cx=\"66\" cy=\"-105\" rx=\"27\" ry=\"18\"/>\r\n",
       "<text text-anchor=\"middle\" x=\"66\" y=\"-101.3\" font-family=\"Times New Roman,serif\" font-size=\"14.00\">x2</text>\r\n",
       "</g>\r\n",
       "<!-- x2&#45;&gt;x1 -->\r\n",
       "<g id=\"edge3\" class=\"edge\"><title>x2&#45;&gt;x1</title>\r\n",
       "<path fill=\"none\" stroke=\"black\" d=\"M62.441,-87.1561C61.1798,-76.9067 61.2665,-63.9233 67,-54 72.721,-44.0984 82.4634,-36.6692 92.347,-31.2627\"/>\r\n",
       "<polygon fill=\"black\" stroke=\"black\" points=\"93.9103,-34.3944 101.352,-26.8534 90.8319,-28.1076 93.9103,-34.3944\"/>\r\n",
       "<text text-anchor=\"middle\" x=\"79.5\" y=\"-57.8\" font-family=\"Times New Roman,serif\" font-size=\"14.00\">2.00</text>\r\n",
       "</g>\r\n",
       "<!-- x2&#45;&gt;x4 -->\r\n",
       "<g id=\"edge6\" class=\"edge\"><title>x2&#45;&gt;x4</title>\r\n",
       "<path fill=\"none\" stroke=\"black\" d=\"M43.7256,-94.7988C32.9729,-89.0846 21.1041,-80.5923 15,-69 11.0376,-61.4751 11.6861,-52.6266 14.0624,-44.4816\"/>\r\n",
       "<polygon fill=\"black\" stroke=\"black\" points=\"17.3723,-45.6237 17.6242,-35.0319 10.8221,-43.1548 17.3723,-45.6237\"/>\r\n",
       "<text text-anchor=\"middle\" x=\"29.5\" y=\"-57.8\" font-family=\"Times New Roman,serif\" font-size=\"14.00\">&#45;1.00</text>\r\n",
       "</g>\r\n",
       "<!-- x3 -->\r\n",
       "<g id=\"node4\" class=\"node\"><title>x3</title>\r\n",
       "<ellipse fill=\"none\" stroke=\"black\" cx=\"112\" cy=\"-192\" rx=\"27\" ry=\"18\"/>\r\n",
       "<text text-anchor=\"middle\" x=\"112\" y=\"-188.3\" font-family=\"Times New Roman,serif\" font-size=\"14.00\">x3</text>\r\n",
       "</g>\r\n",
       "<!-- x3&#45;&gt;x0 -->\r\n",
       "<g id=\"edge1\" class=\"edge\"><title>x3&#45;&gt;x0</title>\r\n",
       "<path fill=\"none\" stroke=\"black\" d=\"M119.327,-174.611C124.741,-162.499 132.221,-145.768 138.439,-131.86\"/>\r\n",
       "<polygon fill=\"black\" stroke=\"black\" points=\"141.81,-132.896 142.696,-122.339 135.419,-130.039 141.81,-132.896\"/>\r\n",
       "<text text-anchor=\"middle\" x=\"145.5\" y=\"-144.8\" font-family=\"Times New Roman,serif\" font-size=\"14.00\">3.00</text>\r\n",
       "</g>\r\n",
       "<!-- x3&#45;&gt;x2 -->\r\n",
       "<g id=\"edge4\" class=\"edge\"><title>x3&#45;&gt;x2</title>\r\n",
       "<path fill=\"none\" stroke=\"black\" d=\"M103.131,-174.611C96.47,-162.303 87.2279,-145.226 79.6308,-131.187\"/>\r\n",
       "<polygon fill=\"black\" stroke=\"black\" points=\"82.5237,-129.179 74.686,-122.05 76.3674,-132.511 82.5237,-129.179\"/>\r\n",
       "<text text-anchor=\"middle\" x=\"103.5\" y=\"-144.8\" font-family=\"Times New Roman,serif\" font-size=\"14.00\">6.00</text>\r\n",
       "</g>\r\n",
       "</g>\r\n",
       "</svg>\r\n"
      ],
      "text/plain": [
       "<graphviz.dot.Digraph at 0x14fecb945f8>"
      ]
     },
     "execution_count": 4,
     "metadata": {},
     "output_type": "execute_result"
    }
   ],
   "source": [
    "m = np.array([[0.0, 0.0, 0.0, 3.0, 0.0, 0.0],\n",
    "              [3.0, 0.0, 2.0, 0.0, 0.0, 0.0],\n",
    "              [0.0, 0.0, 0.0, 6.0, 0.0, 0.0],\n",
    "              [0.0, 0.0, 0.0, 0.0, 0.0, 0.0],\n",
    "              [8.0, 0.0,-1.0, 0.0, 0.0, 0.0],\n",
    "              [4.0, 0.0, 0.0, 0.0, 0.0, 0.0]])\n",
    "\n",
    "make_dot(m)"
   ]
  },
  {
   "cell_type": "markdown",
   "metadata": {},
   "source": [
    "## Make Prior Knowledge Matrix\n",
    "We create prior knowledge so that x0, x1 and x4 are sink variables.\n",
    "\n",
    "The elements of prior knowledge matrix are defined as follows:\n",
    "* ``0`` : :math:`x_i` does not have a directed path to :math:`x_j`\n",
    "* ``1`` : :math:`x_i` has a directed path to :math:`x_j`\n",
    "* ``-1`` : No prior knowledge is available to know if either of the two cases above (0 or 1) is true."
   ]
  },
  {
   "cell_type": "code",
   "execution_count": 5,
   "metadata": {
    "ExecuteTime": {
     "end_time": "2019-12-12T06:27:50.380209Z",
     "start_time": "2019-12-12T06:27:49.950763Z"
    }
   },
   "outputs": [
    {
     "name": "stdout",
     "output_type": "stream",
     "text": [
      "[[-1  0 -1 -1  0 -1]\n",
      " [ 0 -1 -1 -1  0 -1]\n",
      " [ 0  0 -1 -1  0 -1]\n",
      " [ 0  0 -1 -1  0 -1]\n",
      " [ 0  0 -1 -1 -1 -1]\n",
      " [ 0  0 -1 -1  0 -1]]\n"
     ]
    }
   ],
   "source": [
    "prior_knowledge = make_prior_knowledge(\n",
    "    n_variables=6,\n",
    "    sink_variables=[0, 1, 4],\n",
    ")\n",
    "print(prior_knowledge)"
   ]
  },
  {
   "cell_type": "code",
   "execution_count": 6,
   "metadata": {},
   "outputs": [
    {
     "data": {
      "image/svg+xml": [
       "<?xml version=\"1.0\" encoding=\"UTF-8\" standalone=\"no\"?>\r\n",
       "<!DOCTYPE svg PUBLIC \"-//W3C//DTD SVG 1.1//EN\"\r\n",
       " \"http://www.w3.org/Graphics/SVG/1.1/DTD/svg11.dtd\">\r\n",
       "<!-- Generated by graphviz version 2.38.0 (20140413.2041)\r\n",
       " -->\r\n",
       "<!-- Title: %3 Pages: 1 -->\r\n",
       "<svg width=\"228pt\" height=\"260pt\"\r\n",
       " viewBox=\"0.00 0.00 228.45 260.00\" xmlns=\"http://www.w3.org/2000/svg\" xmlns:xlink=\"http://www.w3.org/1999/xlink\">\r\n",
       "<g id=\"graph0\" class=\"graph\" transform=\"scale(1 1) rotate(0) translate(4 256)\">\r\n",
       "<title>%3</title>\r\n",
       "<polygon fill=\"white\" stroke=\"none\" points=\"-4,4 -4,-256 224.454,-256 224.454,4 -4,4\"/>\r\n",
       "<!-- x0 -->\r\n",
       "<g id=\"node1\" class=\"node\"><title>x0</title>\r\n",
       "<ellipse fill=\"none\" stroke=\"black\" cx=\"121.454\" cy=\"-18\" rx=\"27\" ry=\"18\"/>\r\n",
       "<text text-anchor=\"middle\" x=\"121.454\" y=\"-14.3\" font-family=\"Times New Roman,serif\" font-size=\"14.00\">x0</text>\r\n",
       "</g>\r\n",
       "<!-- x1 -->\r\n",
       "<g id=\"node2\" class=\"node\"><title>x1</title>\r\n",
       "<ellipse fill=\"none\" stroke=\"black\" cx=\"193.454\" cy=\"-18\" rx=\"27\" ry=\"18\"/>\r\n",
       "<text text-anchor=\"middle\" x=\"193.454\" y=\"-14.3\" font-family=\"Times New Roman,serif\" font-size=\"14.00\">x1</text>\r\n",
       "</g>\r\n",
       "<!-- x2 -->\r\n",
       "<g id=\"node3\" class=\"node\"><title>x2</title>\r\n",
       "<ellipse fill=\"none\" stroke=\"black\" cx=\"103.454\" cy=\"-234\" rx=\"27\" ry=\"18\"/>\r\n",
       "<text text-anchor=\"middle\" x=\"103.454\" y=\"-230.3\" font-family=\"Times New Roman,serif\" font-size=\"14.00\">x2</text>\r\n",
       "</g>\r\n",
       "<!-- x2&#45;&gt;x0 -->\r\n",
       "<g id=\"edge1\" class=\"edge\"><title>x2&#45;&gt;x0</title>\r\n",
       "<path fill=\"none\" stroke=\"black\" stroke-dasharray=\"5,2\" d=\"M117.204,-218.069C125.415,-208.1 135.073,-194.247 139.454,-180 153.553,-134.153 140.878,-77.9389 130.846,-45.5177\"/>\r\n",
       "<polygon fill=\"black\" stroke=\"black\" points=\"134.131,-44.304 127.718,-35.8707 127.473,-46.4626 134.131,-44.304\"/>\r\n",
       "</g>\r\n",
       "<!-- x2&#45;&gt;x1 -->\r\n",
       "<g id=\"edge4\" class=\"edge\"><title>x2&#45;&gt;x1</title>\r\n",
       "<path fill=\"none\" stroke=\"black\" stroke-dasharray=\"5,2\" d=\"M120.442,-219.951C132.007,-210.173 146.741,-195.804 155.454,-180 179.122,-137.067 188.122,-79.804 191.492,-46.4114\"/>\r\n",
       "<polygon fill=\"black\" stroke=\"black\" points=\"195.014,-46.3327 192.432,-36.0572 188.042,-45.6997 195.014,-46.3327\"/>\r\n",
       "</g>\r\n",
       "<!-- x3 -->\r\n",
       "<g id=\"node4\" class=\"node\"><title>x3</title>\r\n",
       "<ellipse fill=\"none\" stroke=\"black\" cx=\"103.454\" cy=\"-162\" rx=\"27\" ry=\"18\"/>\r\n",
       "<text text-anchor=\"middle\" x=\"103.454\" y=\"-158.3\" font-family=\"Times New Roman,serif\" font-size=\"14.00\">x3</text>\r\n",
       "</g>\r\n",
       "<!-- x2&#45;&gt;x3 -->\r\n",
       "<g id=\"edge9\" class=\"edge\"><title>x2&#45;&gt;x3</title>\r\n",
       "<path fill=\"none\" stroke=\"black\" stroke-dasharray=\"5,2\" d=\"M97.6142,-216.411C96.7516,-208.507 96.5022,-198.852 96.866,-189.935\"/>\r\n",
       "<polygon fill=\"black\" stroke=\"black\" points=\"100.357,-190.179 97.5747,-179.956 93.375,-189.683 100.357,-190.179\"/>\r\n",
       "</g>\r\n",
       "<!-- x4 -->\r\n",
       "<g id=\"node5\" class=\"node\"><title>x4</title>\r\n",
       "<ellipse fill=\"none\" stroke=\"black\" cx=\"39.4541\" cy=\"-18\" rx=\"27\" ry=\"18\"/>\r\n",
       "<text text-anchor=\"middle\" x=\"39.4541\" y=\"-14.3\" font-family=\"Times New Roman,serif\" font-size=\"14.00\">x4</text>\r\n",
       "</g>\r\n",
       "<!-- x2&#45;&gt;x4 -->\r\n",
       "<g id=\"edge11\" class=\"edge\"><title>x2&#45;&gt;x4</title>\r\n",
       "<path fill=\"none\" stroke=\"black\" stroke-dasharray=\"5,2\" d=\"M86.3048,-219.55C61.5689,-198.819 17.3216,-156.353 3.45413,-108 -0.956794,-92.62 -1.24867,-87.2933 3.45413,-72 6.73989,-61.3149 12.994,-50.851 19.3796,-42.0814\"/>\r\n",
       "<polygon fill=\"black\" stroke=\"black\" points=\"22.3385,-43.9774 25.7038,-33.9312 16.8081,-39.6861 22.3385,-43.9774\"/>\r\n",
       "</g>\r\n",
       "<!-- x5 -->\r\n",
       "<g id=\"node6\" class=\"node\"><title>x5</title>\r\n",
       "<ellipse fill=\"none\" stroke=\"black\" cx=\"39.4541\" cy=\"-90\" rx=\"27\" ry=\"18\"/>\r\n",
       "<text text-anchor=\"middle\" x=\"39.4541\" y=\"-86.3\" font-family=\"Times New Roman,serif\" font-size=\"14.00\">x5</text>\r\n",
       "</g>\r\n",
       "<!-- x2&#45;&gt;x5 -->\r\n",
       "<g id=\"edge14\" class=\"edge\"><title>x2&#45;&gt;x5</title>\r\n",
       "<path fill=\"none\" stroke=\"black\" stroke-dasharray=\"5,2\" d=\"M85.814,-220.15C76.243,-209.801 65.5287,-194.618 58.4541,-180 48.8257,-160.105 41.5064,-136.133 38.1332,-118.083\"/>\r\n",
       "<polygon fill=\"black\" stroke=\"black\" points=\"41.5564,-117.314 36.5861,-107.957 34.6367,-118.371 41.5564,-117.314\"/>\r\n",
       "</g>\r\n",
       "<!-- x3&#45;&gt;x0 -->\r\n",
       "<g id=\"edge2\" class=\"edge\"><title>x3&#45;&gt;x0</title>\r\n",
       "<path fill=\"none\" stroke=\"black\" stroke-dasharray=\"5,2\" d=\"M105.625,-143.871C108.693,-119.67 114.329,-75.2108 117.982,-46.3932\"/>\r\n",
       "<polygon fill=\"black\" stroke=\"black\" points=\"121.49,-46.55 119.275,-36.1893 114.545,-45.6697 121.49,-46.55\"/>\r\n",
       "</g>\r\n",
       "<!-- x3&#45;&gt;x1 -->\r\n",
       "<g id=\"edge5\" class=\"edge\"><title>x3&#45;&gt;x1</title>\r\n",
       "<path fill=\"none\" stroke=\"black\" stroke-dasharray=\"5,2\" d=\"M113.43,-145.261C129.04,-120.631 159.367,-72.7827 177.874,-43.582\"/>\r\n",
       "<polygon fill=\"black\" stroke=\"black\" points=\"181.037,-45.1296 183.434,-34.8095 175.124,-41.3823 181.037,-45.1296\"/>\r\n",
       "</g>\r\n",
       "<!-- x3&#45;&gt;x2 -->\r\n",
       "<g id=\"edge7\" class=\"edge\"><title>x3&#45;&gt;x2</title>\r\n",
       "<path fill=\"none\" stroke=\"black\" stroke-dasharray=\"5,2\" d=\"M109.334,-179.956C110.168,-187.827 110.403,-197.374 110.037,-206.187\"/>\r\n",
       "<polygon fill=\"black\" stroke=\"black\" points=\"106.528,-206.184 109.294,-216.411 113.51,-206.691 106.528,-206.184\"/>\r\n",
       "</g>\r\n",
       "<!-- x3&#45;&gt;x4 -->\r\n",
       "<g id=\"edge12\" class=\"edge\"><title>x3&#45;&gt;x4</title>\r\n",
       "<path fill=\"none\" stroke=\"black\" stroke-dasharray=\"5,2\" d=\"M99.6883,-144.043C95.2629,-125.712 87.0264,-95.9117 75.4541,-72 70.5843,-61.9375 63.9898,-51.6074 57.7753,-42.7707\"/>\r\n",
       "<polygon fill=\"black\" stroke=\"black\" points=\"60.4743,-40.5307 51.7655,-34.4969 54.8107,-44.6446 60.4743,-40.5307\"/>\r\n",
       "</g>\r\n",
       "<!-- x3&#45;&gt;x5 -->\r\n",
       "<g id=\"edge15\" class=\"edge\"><title>x3&#45;&gt;x5</title>\r\n",
       "<path fill=\"none\" stroke=\"black\" stroke-dasharray=\"5,2\" d=\"M86.0048,-147.834C76.263,-138.618 64.418,-126.041 55.0039,-115.06\"/>\r\n",
       "<polygon fill=\"black\" stroke=\"black\" points=\"57.4367,-112.511 48.3539,-107.057 52.0527,-116.985 57.4367,-112.511\"/>\r\n",
       "</g>\r\n",
       "<!-- x5&#45;&gt;x0 -->\r\n",
       "<g id=\"edge3\" class=\"edge\"><title>x5&#45;&gt;x0</title>\r\n",
       "<path fill=\"none\" stroke=\"black\" stroke-dasharray=\"5,2\" d=\"M55.6547,-75.1703C67.6369,-64.9415 84.1456,-50.8487 97.6292,-39.3383\"/>\r\n",
       "<polygon fill=\"black\" stroke=\"black\" points=\"100.233,-41.7175 105.566,-32.5628 95.6881,-36.3935 100.233,-41.7175\"/>\r\n",
       "</g>\r\n",
       "<!-- x5&#45;&gt;x1 -->\r\n",
       "<g id=\"edge6\" class=\"edge\"><title>x5&#45;&gt;x1</title>\r\n",
       "<path fill=\"none\" stroke=\"black\" stroke-dasharray=\"5,2\" d=\"M61.2587,-79.3553C84.9832,-68.8266 124.002,-51.4093 157.454,-36 159.243,-35.1758 161.08,-34.3245 162.932,-33.4622\"/>\r\n",
       "<polygon fill=\"black\" stroke=\"black\" points=\"164.596,-36.5481 172.165,-29.1351 161.625,-30.2096 164.596,-36.5481\"/>\r\n",
       "</g>\r\n",
       "<!-- x5&#45;&gt;x2 -->\r\n",
       "<g id=\"edge8\" class=\"edge\"><title>x5&#45;&gt;x2</title>\r\n",
       "<path fill=\"none\" stroke=\"black\" stroke-dasharray=\"5,2\" d=\"M49.4824,-106.963C56.3451,-125.196 64.6702,-155.651 76.4541,-180 81.009,-189.412 87.0726,-199.057 92.4774,-207.496\"/>\r\n",
       "<polygon fill=\"black\" stroke=\"black\" points=\"89.6479,-209.569 97.9809,-216.112 95.547,-205.8 89.6479,-209.569\"/>\r\n",
       "</g>\r\n",
       "<!-- x5&#45;&gt;x3 -->\r\n",
       "<g id=\"edge10\" class=\"edge\"><title>x5&#45;&gt;x3</title>\r\n",
       "<path fill=\"none\" stroke=\"black\" stroke-dasharray=\"5,2\" d=\"M57.0775,-104.331C66.7508,-113.498 78.461,-125.934 87.8024,-136.821\"/>\r\n",
       "<polygon fill=\"black\" stroke=\"black\" points=\"85.3249,-139.316 94.4112,-144.765 90.7061,-134.839 85.3249,-139.316\"/>\r\n",
       "</g>\r\n",
       "<!-- x5&#45;&gt;x4 -->\r\n",
       "<g id=\"edge13\" class=\"edge\"><title>x5&#45;&gt;x4</title>\r\n",
       "<path fill=\"none\" stroke=\"black\" stroke-dasharray=\"5,2\" d=\"M39.4541,-71.6966C39.4541,-63.9827 39.4541,-54.7125 39.4541,-46.1124\"/>\r\n",
       "<polygon fill=\"black\" stroke=\"black\" points=\"42.9542,-46.1043 39.4541,-36.1043 35.9542,-46.1044 42.9542,-46.1043\"/>\r\n",
       "</g>\r\n",
       "</g>\r\n",
       "</svg>\r\n"
      ],
      "text/plain": [
       "<graphviz.dot.Digraph at 0x14fede00748>"
      ]
     },
     "execution_count": 6,
     "metadata": {},
     "output_type": "execute_result"
    }
   ],
   "source": [
    "# Draw a graph of prior knowledge\n",
    "make_prior_knowledge_graph(prior_knowledge)"
   ]
  },
  {
   "cell_type": "markdown",
   "metadata": {},
   "source": [
    "## Causal Discovery\n",
    "To run causal discovery using prior knowledge, we create a `DirectLiNGAM` object with the prior knowledge matrix."
   ]
  },
  {
   "cell_type": "code",
   "execution_count": 7,
   "metadata": {
    "ExecuteTime": {
     "end_time": "2019-12-12T06:27:50.531152Z",
     "start_time": "2019-12-12T06:27:50.383201Z"
    }
   },
   "outputs": [
    {
     "name": "stdout",
     "output_type": "stream",
     "text": [
      "[3, 2, 5, 0, 1, 4]\n",
      "[[ 0.     0.     0.     0.178  0.     0.235]\n",
      " [ 0.     0.     2.01   0.45   0.     0.707]\n",
      " [ 0.     0.     0.     6.001  0.     0.   ]\n",
      " [ 0.     0.     0.     0.     0.     0.   ]\n",
      " [ 0.     0.    -0.757  0.     0.     1.879]\n",
      " [ 0.     0.     0.    12.017  0.     0.   ]]\n"
     ]
    }
   ],
   "source": [
    "model = lingam.DirectLiNGAM(prior_knowledge=prior_knowledge)\n",
    "model.fit(X)\n",
    "print(model.causal_order_)\n",
    "print(model.adjacency_matrix_)"
   ]
  },
  {
   "cell_type": "markdown",
   "metadata": {},
   "source": [
    "We can see that x0, x1, and x4 are output as sink variables, as specified in the prior knowledge."
   ]
  },
  {
   "cell_type": "code",
   "execution_count": 8,
   "metadata": {
    "ExecuteTime": {
     "end_time": "2019-12-12T06:27:51.009585Z",
     "start_time": "2019-12-12T06:27:50.572914Z"
    }
   },
   "outputs": [
    {
     "data": {
      "image/svg+xml": [
       "<?xml version=\"1.0\" encoding=\"UTF-8\" standalone=\"no\"?>\r\n",
       "<!DOCTYPE svg PUBLIC \"-//W3C//DTD SVG 1.1//EN\"\r\n",
       " \"http://www.w3.org/Graphics/SVG/1.1/DTD/svg11.dtd\">\r\n",
       "<!-- Generated by graphviz version 2.38.0 (20140413.2041)\r\n",
       " -->\r\n",
       "<!-- Title: %3 Pages: 1 -->\r\n",
       "<svg width=\"278pt\" height=\"218pt\"\r\n",
       " viewBox=\"0.00 0.00 278.00 218.00\" xmlns=\"http://www.w3.org/2000/svg\" xmlns:xlink=\"http://www.w3.org/1999/xlink\">\r\n",
       "<g id=\"graph0\" class=\"graph\" transform=\"scale(1 1) rotate(0) translate(4 214)\">\r\n",
       "<title>%3</title>\r\n",
       "<polygon fill=\"white\" stroke=\"none\" points=\"-4,4 -4,-214 274,-214 274,4 -4,4\"/>\r\n",
       "<!-- x0 -->\r\n",
       "<g id=\"node1\" class=\"node\"><title>x0</title>\r\n",
       "<ellipse fill=\"none\" stroke=\"black\" cx=\"27\" cy=\"-18\" rx=\"27\" ry=\"18\"/>\r\n",
       "<text text-anchor=\"middle\" x=\"27\" y=\"-14.3\" font-family=\"Times New Roman,serif\" font-size=\"14.00\">x0</text>\r\n",
       "</g>\r\n",
       "<!-- x1 -->\r\n",
       "<g id=\"node2\" class=\"node\"><title>x1</title>\r\n",
       "<ellipse fill=\"none\" stroke=\"black\" cx=\"237\" cy=\"-18\" rx=\"27\" ry=\"18\"/>\r\n",
       "<text text-anchor=\"middle\" x=\"237\" y=\"-14.3\" font-family=\"Times New Roman,serif\" font-size=\"14.00\">x1</text>\r\n",
       "</g>\r\n",
       "<!-- x2 -->\r\n",
       "<g id=\"node3\" class=\"node\"><title>x2</title>\r\n",
       "<ellipse fill=\"none\" stroke=\"black\" cx=\"185\" cy=\"-105\" rx=\"27\" ry=\"18\"/>\r\n",
       "<text text-anchor=\"middle\" x=\"185\" y=\"-101.3\" font-family=\"Times New Roman,serif\" font-size=\"14.00\">x2</text>\r\n",
       "</g>\r\n",
       "<!-- x2&#45;&gt;x1 -->\r\n",
       "<g id=\"edge3\" class=\"edge\"><title>x2&#45;&gt;x1</title>\r\n",
       "<path fill=\"none\" stroke=\"black\" d=\"M199.176,-89.4283C204.563,-83.4152 210.483,-76.1804 215,-69 219.616,-61.6626 223.741,-53.1905 227.136,-45.3295\"/>\r\n",
       "<polygon fill=\"black\" stroke=\"black\" points=\"230.475,-46.4106 231.029,-35.8303 223.998,-43.7561 230.475,-46.4106\"/>\r\n",
       "<text text-anchor=\"middle\" x=\"234.5\" y=\"-57.8\" font-family=\"Times New Roman,serif\" font-size=\"14.00\">2.01</text>\r\n",
       "</g>\r\n",
       "<!-- x4 -->\r\n",
       "<g id=\"node5\" class=\"node\"><title>x4</title>\r\n",
       "<ellipse fill=\"none\" stroke=\"black\" cx=\"103\" cy=\"-18\" rx=\"27\" ry=\"18\"/>\r\n",
       "<text text-anchor=\"middle\" x=\"103\" y=\"-14.3\" font-family=\"Times New Roman,serif\" font-size=\"14.00\">x4</text>\r\n",
       "</g>\r\n",
       "<!-- x2&#45;&gt;x4 -->\r\n",
       "<g id=\"edge7\" class=\"edge\"><title>x2&#45;&gt;x4</title>\r\n",
       "<path fill=\"none\" stroke=\"black\" d=\"M180.538,-87.2166C177.093,-76.7364 171.462,-63.4815 163,-54 155.192,-45.2513 144.66,-38.0993 134.599,-32.5931\"/>\r\n",
       "<polygon fill=\"black\" stroke=\"black\" points=\"136.083,-29.421 125.583,-28.0005 132.905,-35.6583 136.083,-29.421\"/>\r\n",
       "<text text-anchor=\"middle\" x=\"186.5\" y=\"-57.8\" font-family=\"Times New Roman,serif\" font-size=\"14.00\">&#45;0.76</text>\r\n",
       "</g>\r\n",
       "<!-- x3 -->\r\n",
       "<g id=\"node4\" class=\"node\"><title>x3</title>\r\n",
       "<ellipse fill=\"none\" stroke=\"black\" cx=\"141\" cy=\"-192\" rx=\"27\" ry=\"18\"/>\r\n",
       "<text text-anchor=\"middle\" x=\"141\" y=\"-188.3\" font-family=\"Times New Roman,serif\" font-size=\"14.00\">x3</text>\r\n",
       "</g>\r\n",
       "<!-- x3&#45;&gt;x0 -->\r\n",
       "<g id=\"edge1\" class=\"edge\"><title>x3&#45;&gt;x0</title>\r\n",
       "<path fill=\"none\" stroke=\"black\" d=\"M117.728,-182.599C93.394,-172.488 56.2578,-153.026 38,-123 23.9755,-99.936 22.5304,-68.5847 23.7839,-46.3506\"/>\r\n",
       "<polygon fill=\"black\" stroke=\"black\" points=\"27.2838,-46.4864 24.5727,-36.2444 20.3051,-45.9417 27.2838,-46.4864\"/>\r\n",
       "<text text-anchor=\"middle\" x=\"50.5\" y=\"-101.3\" font-family=\"Times New Roman,serif\" font-size=\"14.00\">0.18</text>\r\n",
       "</g>\r\n",
       "<!-- x3&#45;&gt;x1 -->\r\n",
       "<g id=\"edge4\" class=\"edge\"><title>x3&#45;&gt;x1</title>\r\n",
       "<path fill=\"none\" stroke=\"black\" d=\"M160.9,-179.834C171.304,-173.523 183.933,-165.089 194,-156 228.312,-125.023 239.404,-113.749 251,-69 253.067,-61.0237 251.873,-52.3689 249.483,-44.5371\"/>\r\n",
       "<polygon fill=\"black\" stroke=\"black\" points=\"252.759,-43.3053 245.972,-35.1699 246.205,-45.7621 252.759,-43.3053\"/>\r\n",
       "<text text-anchor=\"middle\" x=\"257.5\" y=\"-101.3\" font-family=\"Times New Roman,serif\" font-size=\"14.00\">0.45</text>\r\n",
       "</g>\r\n",
       "<!-- x3&#45;&gt;x2 -->\r\n",
       "<g id=\"edge6\" class=\"edge\"><title>x3&#45;&gt;x2</title>\r\n",
       "<path fill=\"none\" stroke=\"black\" d=\"M149.484,-174.611C155.814,-162.382 164.582,-145.443 171.823,-131.456\"/>\r\n",
       "<polygon fill=\"black\" stroke=\"black\" points=\"175.054,-132.828 176.542,-122.339 168.837,-129.61 175.054,-132.828\"/>\r\n",
       "<text text-anchor=\"middle\" x=\"177.5\" y=\"-144.8\" font-family=\"Times New Roman,serif\" font-size=\"14.00\">6.00</text>\r\n",
       "</g>\r\n",
       "<!-- x5 -->\r\n",
       "<g id=\"node6\" class=\"node\"><title>x5</title>\r\n",
       "<ellipse fill=\"none\" stroke=\"black\" cx=\"99\" cy=\"-105\" rx=\"27\" ry=\"18\"/>\r\n",
       "<text text-anchor=\"middle\" x=\"99\" y=\"-101.3\" font-family=\"Times New Roman,serif\" font-size=\"14.00\">x5</text>\r\n",
       "</g>\r\n",
       "<!-- x3&#45;&gt;x5 -->\r\n",
       "<g id=\"edge9\" class=\"edge\"><title>x3&#45;&gt;x5</title>\r\n",
       "<path fill=\"none\" stroke=\"black\" d=\"M132.902,-174.611C126.859,-162.382 118.489,-145.443 111.578,-131.456\"/>\r\n",
       "<polygon fill=\"black\" stroke=\"black\" points=\"114.641,-129.753 107.073,-122.339 108.365,-132.854 114.641,-129.753\"/>\r\n",
       "<text text-anchor=\"middle\" x=\"137.5\" y=\"-144.8\" font-family=\"Times New Roman,serif\" font-size=\"14.00\">12.02</text>\r\n",
       "</g>\r\n",
       "<!-- x5&#45;&gt;x0 -->\r\n",
       "<g id=\"edge2\" class=\"edge\"><title>x5&#45;&gt;x0</title>\r\n",
       "<path fill=\"none\" stroke=\"black\" d=\"M82.6847,-90.4557C75.6555,-84.2561 67.5619,-76.6061 61,-69 54.2522,-61.1784 47.6682,-51.9818 42.1191,-43.6232\"/>\r\n",
       "<polygon fill=\"black\" stroke=\"black\" points=\"44.9086,-41.4909 36.5451,-34.9867 39.0271,-45.2868 44.9086,-41.4909\"/>\r\n",
       "<text text-anchor=\"middle\" x=\"73.5\" y=\"-57.8\" font-family=\"Times New Roman,serif\" font-size=\"14.00\">0.23</text>\r\n",
       "</g>\r\n",
       "<!-- x5&#45;&gt;x1 -->\r\n",
       "<g id=\"edge5\" class=\"edge\"><title>x5&#45;&gt;x1</title>\r\n",
       "<path fill=\"none\" stroke=\"black\" d=\"M106.999,-87.5182C113.048,-76.6209 122.305,-62.7772 134,-54 153.602,-39.2892 179.796,-30.499 200.864,-25.4071\"/>\r\n",
       "<polygon fill=\"black\" stroke=\"black\" points=\"201.749,-28.7955 210.743,-23.1947 200.22,-21.9647 201.749,-28.7955\"/>\r\n",
       "<text text-anchor=\"middle\" x=\"146.5\" y=\"-57.8\" font-family=\"Times New Roman,serif\" font-size=\"14.00\">0.71</text>\r\n",
       "</g>\r\n",
       "<!-- x5&#45;&gt;x4 -->\r\n",
       "<g id=\"edge8\" class=\"edge\"><title>x5&#45;&gt;x4</title>\r\n",
       "<path fill=\"none\" stroke=\"black\" d=\"M93.0023,-87.3337C90.2531,-77.6117 88.0031,-65.1117 90,-54 90.5267,-51.0693 91.283,-48.0634 92.1695,-45.1036\"/>\r\n",
       "<polygon fill=\"black\" stroke=\"black\" points=\"95.5667,-45.9897 95.5407,-35.3949 88.954,-43.6935 95.5667,-45.9897\"/>\r\n",
       "<text text-anchor=\"middle\" x=\"102.5\" y=\"-57.8\" font-family=\"Times New Roman,serif\" font-size=\"14.00\">1.88</text>\r\n",
       "</g>\r\n",
       "</g>\r\n",
       "</svg>\r\n"
      ],
      "text/plain": [
       "<graphviz.dot.Digraph at 0x14fede16160>"
      ]
     },
     "execution_count": 8,
     "metadata": {},
     "output_type": "execute_result"
    }
   ],
   "source": [
    "make_dot(model.adjacency_matrix_)"
   ]
  },
  {
   "cell_type": "markdown",
   "metadata": {},
   "source": [
    "Next, let's specify the prior knowledge so that x0 is an exogenous variable."
   ]
  },
  {
   "cell_type": "code",
   "execution_count": 9,
   "metadata": {},
   "outputs": [
    {
     "data": {
      "image/svg+xml": [
       "<?xml version=\"1.0\" encoding=\"UTF-8\" standalone=\"no\"?>\r\n",
       "<!DOCTYPE svg PUBLIC \"-//W3C//DTD SVG 1.1//EN\"\r\n",
       " \"http://www.w3.org/Graphics/SVG/1.1/DTD/svg11.dtd\">\r\n",
       "<!-- Generated by graphviz version 2.38.0 (20140413.2041)\r\n",
       " -->\r\n",
       "<!-- Title: %3 Pages: 1 -->\r\n",
       "<svg width=\"223pt\" height=\"305pt\"\r\n",
       " viewBox=\"0.00 0.00 223.00 305.00\" xmlns=\"http://www.w3.org/2000/svg\" xmlns:xlink=\"http://www.w3.org/1999/xlink\">\r\n",
       "<g id=\"graph0\" class=\"graph\" transform=\"scale(1 1) rotate(0) translate(4 301)\">\r\n",
       "<title>%3</title>\r\n",
       "<polygon fill=\"white\" stroke=\"none\" points=\"-4,4 -4,-301 219,-301 219,4 -4,4\"/>\r\n",
       "<!-- x0 -->\r\n",
       "<g id=\"node1\" class=\"node\"><title>x0</title>\r\n",
       "<ellipse fill=\"none\" stroke=\"black\" cx=\"112\" cy=\"-279\" rx=\"27\" ry=\"18\"/>\r\n",
       "<text text-anchor=\"middle\" x=\"112\" y=\"-275.3\" font-family=\"Times New Roman,serif\" font-size=\"14.00\">x0</text>\r\n",
       "</g>\r\n",
       "<!-- x1 -->\r\n",
       "<g id=\"node2\" class=\"node\"><title>x1</title>\r\n",
       "<ellipse fill=\"none\" stroke=\"black\" cx=\"27\" cy=\"-18\" rx=\"27\" ry=\"18\"/>\r\n",
       "<text text-anchor=\"middle\" x=\"27\" y=\"-14.3\" font-family=\"Times New Roman,serif\" font-size=\"14.00\">x1</text>\r\n",
       "</g>\r\n",
       "<!-- x0&#45;&gt;x1 -->\r\n",
       "<g id=\"edge1\" class=\"edge\"><title>x0&#45;&gt;x1</title>\r\n",
       "<path fill=\"none\" stroke=\"black\" d=\"M93.1237,-265.698C76.4715,-253.684 53.1652,-233.77 42,-210 16.8375,-156.431 19.4073,-85.0554 23.3143,-46.5063\"/>\r\n",
       "<polygon fill=\"black\" stroke=\"black\" points=\"26.8452,-46.4274 24.4851,-36.0988 19.8891,-45.6449 26.8452,-46.4274\"/>\r\n",
       "<text text-anchor=\"middle\" x=\"38.5\" y=\"-144.8\" font-family=\"Times New Roman,serif\" font-size=\"14.00\">3.00</text>\r\n",
       "</g>\r\n",
       "<!-- x3 -->\r\n",
       "<g id=\"node4\" class=\"node\"><title>x3</title>\r\n",
       "<ellipse fill=\"none\" stroke=\"black\" cx=\"78\" cy=\"-192\" rx=\"27\" ry=\"18\"/>\r\n",
       "<text text-anchor=\"middle\" x=\"78\" y=\"-188.3\" font-family=\"Times New Roman,serif\" font-size=\"14.00\">x3</text>\r\n",
       "</g>\r\n",
       "<!-- x0&#45;&gt;x3 -->\r\n",
       "<g id=\"edge4\" class=\"edge\"><title>x0&#45;&gt;x3</title>\r\n",
       "<path fill=\"none\" stroke=\"black\" d=\"M103.005,-261.883C99.9308,-256.035 96.6127,-249.314 94,-243 90.8984,-235.505 88.0195,-227.178 85.5834,-219.503\"/>\r\n",
       "<polygon fill=\"black\" stroke=\"black\" points=\"88.9233,-218.456 82.6544,-209.915 82.2287,-220.502 88.9233,-218.456\"/>\r\n",
       "<text text-anchor=\"middle\" x=\"106.5\" y=\"-231.8\" font-family=\"Times New Roman,serif\" font-size=\"14.00\">0.30</text>\r\n",
       "</g>\r\n",
       "<!-- x4 -->\r\n",
       "<g id=\"node5\" class=\"node\"><title>x4</title>\r\n",
       "<ellipse fill=\"none\" stroke=\"black\" cx=\"103\" cy=\"-18\" rx=\"27\" ry=\"18\"/>\r\n",
       "<text text-anchor=\"middle\" x=\"103\" y=\"-14.3\" font-family=\"Times New Roman,serif\" font-size=\"14.00\">x4</text>\r\n",
       "</g>\r\n",
       "<!-- x0&#45;&gt;x4 -->\r\n",
       "<g id=\"edge5\" class=\"edge\"><title>x0&#45;&gt;x4</title>\r\n",
       "<path fill=\"none\" stroke=\"black\" d=\"M116.098,-261.012C117.283,-255.322 118.414,-248.92 119,-243 127.277,-159.409 136.871,-136.077 119,-54 118.325,-50.9011 117.351,-47.7481 116.211,-44.6675\"/>\r\n",
       "<polygon fill=\"black\" stroke=\"black\" points=\"119.323,-43.0438 112.169,-35.2287 112.888,-45.7991 119.323,-43.0438\"/>\r\n",
       "<text text-anchor=\"middle\" x=\"141.5\" y=\"-144.8\" font-family=\"Times New Roman,serif\" font-size=\"14.00\">7.98</text>\r\n",
       "</g>\r\n",
       "<!-- x5 -->\r\n",
       "<g id=\"node6\" class=\"node\"><title>x5</title>\r\n",
       "<ellipse fill=\"none\" stroke=\"black\" cx=\"188\" cy=\"-192\" rx=\"27\" ry=\"18\"/>\r\n",
       "<text text-anchor=\"middle\" x=\"188\" y=\"-188.3\" font-family=\"Times New Roman,serif\" font-size=\"14.00\">x5</text>\r\n",
       "</g>\r\n",
       "<!-- x0&#45;&gt;x5 -->\r\n",
       "<g id=\"edge7\" class=\"edge\"><title>x0&#45;&gt;x5</title>\r\n",
       "<path fill=\"none\" stroke=\"black\" d=\"M126.974,-263.668C133.299,-257.452 140.653,-250.005 147,-243 154.768,-234.426 162.926,-224.652 169.902,-216.033\"/>\r\n",
       "<polygon fill=\"black\" stroke=\"black\" points=\"172.656,-218.194 176.176,-208.201 167.192,-213.817 172.656,-218.194\"/>\r\n",
       "<text text-anchor=\"middle\" x=\"171.5\" y=\"-231.8\" font-family=\"Times New Roman,serif\" font-size=\"14.00\">4.00</text>\r\n",
       "</g>\r\n",
       "<!-- x2 -->\r\n",
       "<g id=\"node3\" class=\"node\"><title>x2</title>\r\n",
       "<ellipse fill=\"none\" stroke=\"black\" cx=\"78\" cy=\"-105\" rx=\"27\" ry=\"18\"/>\r\n",
       "<text text-anchor=\"middle\" x=\"78\" y=\"-101.3\" font-family=\"Times New Roman,serif\" font-size=\"14.00\">x2</text>\r\n",
       "</g>\r\n",
       "<!-- x2&#45;&gt;x1 -->\r\n",
       "<g id=\"edge2\" class=\"edge\"><title>x2&#45;&gt;x1</title>\r\n",
       "<path fill=\"none\" stroke=\"black\" d=\"M67.8036,-88.0441C64.0463,-82.0954 59.785,-75.2662 56,-69 51.1521,-60.9741 45.9798,-52.146 41.3657,-44.1706\"/>\r\n",
       "<polygon fill=\"black\" stroke=\"black\" points=\"44.2809,-42.2192 36.2584,-35.2989 38.2143,-45.7116 44.2809,-42.2192\"/>\r\n",
       "<text text-anchor=\"middle\" x=\"68.5\" y=\"-57.8\" font-family=\"Times New Roman,serif\" font-size=\"14.00\">2.00</text>\r\n",
       "</g>\r\n",
       "<!-- x2&#45;&gt;x4 -->\r\n",
       "<g id=\"edge6\" class=\"edge\"><title>x2&#45;&gt;x4</title>\r\n",
       "<path fill=\"none\" stroke=\"black\" d=\"M81.6058,-86.7385C83.7652,-77.0408 86.7234,-64.7603 90,-54 90.8674,-51.1515 91.8421,-48.1982 92.8577,-45.2696\"/>\r\n",
       "<polygon fill=\"black\" stroke=\"black\" points=\"96.2473,-46.1894 96.3713,-35.5953 89.6678,-43.7997 96.2473,-46.1894\"/>\r\n",
       "<text text-anchor=\"middle\" x=\"104.5\" y=\"-57.8\" font-family=\"Times New Roman,serif\" font-size=\"14.00\">&#45;0.99</text>\r\n",
       "</g>\r\n",
       "<!-- x3&#45;&gt;x2 -->\r\n",
       "<g id=\"edge3\" class=\"edge\"><title>x3&#45;&gt;x2</title>\r\n",
       "<path fill=\"none\" stroke=\"black\" d=\"M78,-173.799C78,-162.163 78,-146.548 78,-133.237\"/>\r\n",
       "<polygon fill=\"black\" stroke=\"black\" points=\"81.5001,-133.175 78,-123.175 74.5001,-133.175 81.5001,-133.175\"/>\r\n",
       "<text text-anchor=\"middle\" x=\"90.5\" y=\"-144.8\" font-family=\"Times New Roman,serif\" font-size=\"14.00\">6.00</text>\r\n",
       "</g>\r\n",
       "</g>\r\n",
       "</svg>\r\n"
      ],
      "text/plain": [
       "<graphviz.dot.Digraph at 0x14fede161d0>"
      ]
     },
     "execution_count": 9,
     "metadata": {},
     "output_type": "execute_result"
    }
   ],
   "source": [
    "prior_knowledge = make_prior_knowledge(\n",
    "    n_variables=6,\n",
    "    exogenous_variables=[0],\n",
    ")\n",
    "\n",
    "model = lingam.DirectLiNGAM(prior_knowledge=prior_knowledge)\n",
    "model.fit(X)\n",
    "\n",
    "make_dot(model.adjacency_matrix_)"
   ]
  },
  {
   "cell_type": "code",
   "execution_count": null,
   "metadata": {},
   "outputs": [],
   "source": []
  }
 ],
 "metadata": {
  "kernelspec": {
   "display_name": "Python 3",
   "language": "python",
   "name": "python3"
  },
  "language_info": {
   "codemirror_mode": {
    "name": "ipython",
    "version": 3
   },
   "file_extension": ".py",
   "mimetype": "text/x-python",
   "name": "python",
   "nbconvert_exporter": "python",
   "pygments_lexer": "ipython3",
   "version": "3.7.3"
  },
  "toc": {
   "base_numbering": 1,
   "nav_menu": {},
   "number_sections": true,
   "sideBar": true,
   "skip_h1_title": false,
   "title_cell": "Table of Contents",
   "title_sidebar": "Contents",
   "toc_cell": false,
   "toc_position": {},
   "toc_section_display": true,
   "toc_window_display": false
  }
 },
 "nbformat": 4,
 "nbformat_minor": 2
}
