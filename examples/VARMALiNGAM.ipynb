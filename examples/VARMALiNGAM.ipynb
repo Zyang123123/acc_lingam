{
 "cells": [
  {
   "cell_type": "markdown",
   "metadata": {},
   "source": [
    "# VARMALiNGAM"
   ]
  },
  {
   "cell_type": "markdown",
   "metadata": {},
   "source": [
    "## Import and settings\n",
    "In this example, we need to import `numpy`, `pandas`, and `graphviz` in addition to `lingam`."
   ]
  },
  {
   "cell_type": "code",
   "execution_count": 1,
   "metadata": {},
   "outputs": [
    {
     "name": "stdout",
     "output_type": "stream",
     "text": [
      "['1.16.2', '0.24.2', '0.11.1', '1.5.2']\n"
     ]
    }
   ],
   "source": [
    "import numpy as np\n",
    "import pandas as pd\n",
    "import graphviz\n",
    "import lingam\n",
    "from lingam.utils import make_dot, print_causal_directions, print_dagc\n",
    "\n",
    "import warnings\n",
    "warnings.filterwarnings('ignore')\n",
    "\n",
    "print([np.__version__, pd.__version__, graphviz.__version__, lingam.__version__])\n",
    "\n",
    "np.set_printoptions(precision=3, suppress=True)\n",
    "np.random.seed(0)"
   ]
  },
  {
   "cell_type": "markdown",
   "metadata": {},
   "source": [
    "## Test data\n",
    "We create test data consisting of 5 variables."
   ]
  },
  {
   "cell_type": "code",
   "execution_count": 2,
   "metadata": {},
   "outputs": [],
   "source": [
    "psi0 = np.array([\n",
    "    [ 0.  ,  0.  , -0.25,  0.  ,  0.  ],\n",
    "    [-0.38,  0.  ,  0.14,  0.  ,  0.  ],\n",
    "    [ 0.  ,  0.  ,  0.  ,  0.  ,  0.  ],\n",
    "    [ 0.44, -0.2 , -0.09,  0.  ,  0.  ],\n",
    "    [ 0.07, -0.06,  0.  ,  0.07,  0.  ]\n",
    "])\n",
    "phi1 = np.array([\n",
    "    [-0.04, -0.29, -0.26,  0.14,  0.47],\n",
    "    [-0.42,  0.2 ,  0.1 ,  0.24,  0.25],\n",
    "    [-0.25,  0.18, -0.06,  0.15,  0.18],\n",
    "    [ 0.22,  0.39,  0.08,  0.12, -0.37],\n",
    "    [-0.43,  0.09, -0.23,  0.16,  0.25]\n",
    "])\n",
    "theta1 = np.array([\n",
    "    [ 0.15, -0.02, -0.3 , -0.2 ,  0.21],\n",
    "    [ 0.32,  0.12, -0.11,  0.03,  0.42],\n",
    "    [-0.07, -0.5 ,  0.03, -0.27, -0.21],\n",
    "    [-0.17,  0.35,  0.25,  0.24, -0.25],\n",
    "    [ 0.09,  0.4 ,  0.41,  0.24, -0.31]\n",
    "])\n",
    "causal_order = [2, 0, 1, 3, 4]\n",
    "\n",
    "# data generated from psi0 and phi1 and theta1, causal_order\n",
    "X = np.loadtxt('data/sample_data_varma_lingam.csv', delimiter=',')"
   ]
  },
  {
   "cell_type": "markdown",
   "metadata": {},
   "source": [
    "## Causal Discovery\n",
    "To run causal discovery, we create a `VARMALiNGAM` object and call the `fit` method."
   ]
  },
  {
   "cell_type": "code",
   "execution_count": 3,
   "metadata": {},
   "outputs": [
    {
     "data": {
      "text/plain": [
       "<lingam.varma_lingam.VARMALiNGAM at 0x21589a465f8>"
      ]
     },
     "execution_count": 3,
     "metadata": {},
     "output_type": "execute_result"
    }
   ],
   "source": [
    "model = lingam.VARMALiNGAM(order=(1, 1), criterion=None)\n",
    "model.fit(X)"
   ]
  },
  {
   "cell_type": "markdown",
   "metadata": {},
   "source": [
    "Using the `causal_order_` properties, we can see the causal ordering as a result of the causal discovery."
   ]
  },
  {
   "cell_type": "code",
   "execution_count": 4,
   "metadata": {},
   "outputs": [
    {
     "data": {
      "text/plain": [
       "[2, 0, 1, 3, 4]"
      ]
     },
     "execution_count": 4,
     "metadata": {},
     "output_type": "execute_result"
    }
   ],
   "source": [
    "model.causal_order_"
   ]
  },
  {
   "cell_type": "markdown",
   "metadata": {},
   "source": [
    "Also, using the `adjacency_matrices_` properties, we can see the adjacency matrix as a result of the causal discovery."
   ]
  },
  {
   "cell_type": "code",
   "execution_count": 5,
   "metadata": {},
   "outputs": [
    {
     "data": {
      "text/plain": [
       "array([[ 0.   ,  0.   , -0.238,  0.   ,  0.   ],\n",
       "       [-0.392,  0.   ,  0.182,  0.   ,  0.   ],\n",
       "       [ 0.   ,  0.   ,  0.   ,  0.   ,  0.   ],\n",
       "       [ 0.523, -0.149,  0.   ,  0.   ,  0.   ],\n",
       "       [ 0.   ,  0.   ,  0.   ,  0.   ,  0.   ]])"
      ]
     },
     "execution_count": 5,
     "metadata": {},
     "output_type": "execute_result"
    }
   ],
   "source": [
    "# psi0\n",
    "model.adjacency_matrices_[0][0]"
   ]
  },
  {
   "cell_type": "code",
   "execution_count": 6,
   "metadata": {},
   "outputs": [
    {
     "data": {
      "text/plain": [
       "array([[-0.145, -0.288, -0.418,  0.041,  0.592],\n",
       "       [-0.324,  0.027,  0.024,  0.231,  0.379],\n",
       "       [-0.249,  0.191, -0.01 ,  0.136,  0.261],\n",
       "       [ 0.182,  0.698,  0.21 ,  0.197, -0.815],\n",
       "       [-0.486,  0.063, -0.263,  0.112,  0.26 ]])"
      ]
     },
     "execution_count": 6,
     "metadata": {},
     "output_type": "execute_result"
    }
   ],
   "source": [
    "# psi1\n",
    "model.adjacency_matrices_[0][1]"
   ]
  },
  {
   "cell_type": "code",
   "execution_count": 7,
   "metadata": {},
   "outputs": [
    {
     "data": {
      "text/plain": [
       "array([[ 0.247, -0.12 , -0.128, -0.124,  0.037],\n",
       "       [ 0.378,  0.319, -0.12 , -0.023,  0.573],\n",
       "       [-0.107, -0.624,  0.012, -0.303, -0.246],\n",
       "       [-0.22 ,  0.26 ,  0.313,  0.227, -0.057],\n",
       "       [ 0.255,  0.405,  0.41 ,  0.256, -0.286]])"
      ]
     },
     "execution_count": 7,
     "metadata": {},
     "output_type": "execute_result"
    }
   ],
   "source": [
    "# omega0\n",
    "model.adjacency_matrices_[1][0]"
   ]
  },
  {
   "cell_type": "markdown",
   "metadata": {},
   "source": [
    "Using `DirectLiNGAM` for the `residuals_` properties, we can calculate psi0 matrix."
   ]
  },
  {
   "cell_type": "code",
   "execution_count": 8,
   "metadata": {},
   "outputs": [
    {
     "data": {
      "text/plain": [
       "array([[ 0.   ,  0.   , -0.238,  0.   ,  0.   ],\n",
       "       [-0.392,  0.   ,  0.182,  0.   ,  0.   ],\n",
       "       [ 0.   ,  0.   ,  0.   ,  0.   ,  0.   ],\n",
       "       [ 0.523, -0.149,  0.   ,  0.   ,  0.   ],\n",
       "       [ 0.   ,  0.   ,  0.   ,  0.   ,  0.   ]])"
      ]
     },
     "execution_count": 8,
     "metadata": {},
     "output_type": "execute_result"
    }
   ],
   "source": [
    "dlingam = lingam.DirectLiNGAM()\n",
    "dlingam.fit(model.residuals_)\n",
    "dlingam.adjacency_matrix_"
   ]
  },
  {
   "cell_type": "markdown",
   "metadata": {},
   "source": [
    "We can draw a causal graph by utility funciton"
   ]
  },
  {
   "cell_type": "code",
   "execution_count": 9,
   "metadata": {},
   "outputs": [
    {
     "data": {
      "image/svg+xml": [
       "<?xml version=\"1.0\" encoding=\"UTF-8\" standalone=\"no\"?>\r\n",
       "<!DOCTYPE svg PUBLIC \"-//W3C//DTD SVG 1.1//EN\"\r\n",
       " \"http://www.w3.org/Graphics/SVG/1.1/DTD/svg11.dtd\">\r\n",
       "<!-- Generated by graphviz version 2.38.0 (20140413.2041)\r\n",
       " -->\r\n",
       "<!-- Title: %3 Pages: 1 -->\r\n",
       "<svg width=\"469pt\" height=\"218pt\"\r\n",
       " viewBox=\"0.00 0.00 469.04 218.00\" xmlns=\"http://www.w3.org/2000/svg\" xmlns:xlink=\"http://www.w3.org/1999/xlink\">\r\n",
       "<g id=\"graph0\" class=\"graph\" transform=\"scale(1 1) rotate(0) translate(4 214)\">\r\n",
       "<title>%3</title>\r\n",
       "<polygon fill=\"white\" stroke=\"none\" points=\"-4,4 -4,-214 465.044,-214 465.044,4 -4,4\"/>\r\n",
       "<!-- y0(t) -->\r\n",
       "<g id=\"node1\" class=\"node\"><title>y0(t)</title>\r\n",
       "<ellipse fill=\"none\" stroke=\"black\" cx=\"194.948\" cy=\"-105\" rx=\"27.8951\" ry=\"18\"/>\r\n",
       "<text text-anchor=\"middle\" x=\"194.948\" y=\"-101.3\" font-family=\"Times New Roman,serif\" font-size=\"14.00\">y0(t)</text>\r\n",
       "</g>\r\n",
       "<!-- y1(t) -->\r\n",
       "<g id=\"node2\" class=\"node\"><title>y1(t)</title>\r\n",
       "<ellipse fill=\"none\" stroke=\"black\" cx=\"123.948\" cy=\"-18\" rx=\"27.8951\" ry=\"18\"/>\r\n",
       "<text text-anchor=\"middle\" x=\"123.948\" y=\"-14.3\" font-family=\"Times New Roman,serif\" font-size=\"14.00\">y1(t)</text>\r\n",
       "</g>\r\n",
       "<!-- y0(t)&#45;&gt;y1(t) -->\r\n",
       "<g id=\"edge3\" class=\"edge\"><title>y0(t)&#45;&gt;y1(t)</title>\r\n",
       "<path fill=\"none\" stroke=\"black\" d=\"M182.254,-88.8037C171.417,-75.8301 155.664,-56.9699 143.262,-42.1235\"/>\r\n",
       "<polygon fill=\"black\" stroke=\"black\" points=\"145.867,-39.7824 136.77,-34.3513 140.495,-44.2699 145.867,-39.7824\"/>\r\n",
       "<text text-anchor=\"middle\" x=\"178.448\" y=\"-57.8\" font-family=\"Times New Roman,serif\" font-size=\"14.00\">&#45;0.39</text>\r\n",
       "</g>\r\n",
       "<!-- y3(t) -->\r\n",
       "<g id=\"node4\" class=\"node\"><title>y3(t)</title>\r\n",
       "<ellipse fill=\"none\" stroke=\"black\" cx=\"275.948\" cy=\"-18\" rx=\"27.8951\" ry=\"18\"/>\r\n",
       "<text text-anchor=\"middle\" x=\"275.948\" y=\"-14.3\" font-family=\"Times New Roman,serif\" font-size=\"14.00\">y3(t)</text>\r\n",
       "</g>\r\n",
       "<!-- y0(t)&#45;&gt;y3(t) -->\r\n",
       "<g id=\"edge6\" class=\"edge\"><title>y0(t)&#45;&gt;y3(t)</title>\r\n",
       "<path fill=\"none\" stroke=\"black\" d=\"M209.057,-89.1941C221.717,-75.9087 240.471,-56.2284 254.903,-41.0842\"/>\r\n",
       "<polygon fill=\"black\" stroke=\"black\" points=\"257.635,-43.2901 262,-33.6362 252.568,-38.461 257.635,-43.2901\"/>\r\n",
       "<text text-anchor=\"middle\" x=\"253.448\" y=\"-57.8\" font-family=\"Times New Roman,serif\" font-size=\"14.00\">0.52</text>\r\n",
       "</g>\r\n",
       "<!-- y2(t) -->\r\n",
       "<g id=\"node3\" class=\"node\"><title>y2(t)</title>\r\n",
       "<ellipse fill=\"none\" stroke=\"black\" cx=\"344.948\" cy=\"-192\" rx=\"27.8951\" ry=\"18\"/>\r\n",
       "<text text-anchor=\"middle\" x=\"344.948\" y=\"-188.3\" font-family=\"Times New Roman,serif\" font-size=\"14.00\">y2(t)</text>\r\n",
       "</g>\r\n",
       "<!-- y4(t) -->\r\n",
       "<g id=\"node5\" class=\"node\"><title>y4(t)</title>\r\n",
       "<ellipse fill=\"none\" stroke=\"black\" cx=\"27.9475\" cy=\"-18\" rx=\"27.8951\" ry=\"18\"/>\r\n",
       "<text text-anchor=\"middle\" x=\"27.9475\" y=\"-14.3\" font-family=\"Times New Roman,serif\" font-size=\"14.00\">y4(t)</text>\r\n",
       "</g>\r\n",
       "<!-- y0(t&#45;1) -->\r\n",
       "<g id=\"node6\" class=\"node\"><title>y0(t&#45;1)</title>\r\n",
       "<ellipse fill=\"none\" stroke=\"black\" cx=\"39.9475\" cy=\"-105\" rx=\"35.194\" ry=\"18\"/>\r\n",
       "<text text-anchor=\"middle\" x=\"39.9475\" y=\"-101.3\" font-family=\"Times New Roman,serif\" font-size=\"14.00\">y0(t&#45;1)</text>\r\n",
       "</g>\r\n",
       "<!-- y0(t&#45;1)&#45;&gt;y1(t) -->\r\n",
       "<g id=\"edge4\" class=\"edge\"><title>y0(t&#45;1)&#45;&gt;y1(t)</title>\r\n",
       "<path fill=\"none\" stroke=\"black\" d=\"M51.7469,-87.9905C59.5576,-77.8191 70.2915,-64.6174 80.9475,-54 86.2917,-48.6752 92.3939,-43.3303 98.2892,-38.4766\"/>\r\n",
       "<polygon fill=\"black\" stroke=\"black\" points=\"100.494,-41.195 106.109,-32.2106 96.1168,-35.7323 100.494,-41.195\"/>\r\n",
       "<text text-anchor=\"middle\" x=\"95.4475\" y=\"-57.8\" font-family=\"Times New Roman,serif\" font-size=\"14.00\">&#45;0.32</text>\r\n",
       "</g>\r\n",
       "<!-- y0(t&#45;1)&#45;&gt;y4(t) -->\r\n",
       "<g id=\"edge9\" class=\"edge\"><title>y0(t&#45;1)&#45;&gt;y4(t)</title>\r\n",
       "<path fill=\"none\" stroke=\"black\" d=\"M33.5855,-87.1457C31.7291,-81.4648 29.9353,-75.0343 28.9475,-69 27.7602,-61.7464 27.2487,-53.8225 27.096,-46.4647\"/>\r\n",
       "<polygon fill=\"black\" stroke=\"black\" points=\"30.5961,-46.2325 27.0921,-36.2339 23.5961,-46.2353 30.5961,-46.2325\"/>\r\n",
       "<text text-anchor=\"middle\" x=\"43.4475\" y=\"-57.8\" font-family=\"Times New Roman,serif\" font-size=\"14.00\">&#45;0.49</text>\r\n",
       "</g>\r\n",
       "<!-- y1(t&#45;1) -->\r\n",
       "<g id=\"node7\" class=\"node\"><title>y1(t&#45;1)</title>\r\n",
       "<ellipse fill=\"none\" stroke=\"black\" cx=\"275.948\" cy=\"-105\" rx=\"35.194\" ry=\"18\"/>\r\n",
       "<text text-anchor=\"middle\" x=\"275.948\" y=\"-101.3\" font-family=\"Times New Roman,serif\" font-size=\"14.00\">y1(t&#45;1)</text>\r\n",
       "</g>\r\n",
       "<!-- y1(t&#45;1)&#45;&gt;y3(t) -->\r\n",
       "<g id=\"edge7\" class=\"edge\"><title>y1(t&#45;1)&#45;&gt;y3(t)</title>\r\n",
       "<path fill=\"none\" stroke=\"black\" d=\"M275.948,-86.799C275.948,-75.1626 275.948,-59.5479 275.948,-46.2368\"/>\r\n",
       "<polygon fill=\"black\" stroke=\"black\" points=\"279.448,-46.1754 275.948,-36.1754 272.448,-46.1755 279.448,-46.1754\"/>\r\n",
       "<text text-anchor=\"middle\" x=\"288.448\" y=\"-57.8\" font-family=\"Times New Roman,serif\" font-size=\"14.00\">0.70</text>\r\n",
       "</g>\r\n",
       "<!-- y2(t&#45;1) -->\r\n",
       "<g id=\"node8\" class=\"node\"><title>y2(t&#45;1)</title>\r\n",
       "<ellipse fill=\"none\" stroke=\"black\" cx=\"175.948\" cy=\"-192\" rx=\"35.194\" ry=\"18\"/>\r\n",
       "<text text-anchor=\"middle\" x=\"175.948\" y=\"-188.3\" font-family=\"Times New Roman,serif\" font-size=\"14.00\">y2(t&#45;1)</text>\r\n",
       "</g>\r\n",
       "<!-- y2(t&#45;1)&#45;&gt;y0(t) -->\r\n",
       "<g id=\"edge1\" class=\"edge\"><title>y2(t&#45;1)&#45;&gt;y0(t)</title>\r\n",
       "<path fill=\"none\" stroke=\"black\" d=\"M179.792,-173.799C182.411,-162.086 185.93,-146.342 188.918,-132.974\"/>\r\n",
       "<polygon fill=\"black\" stroke=\"black\" points=\"192.407,-133.408 191.173,-122.885 185.576,-131.881 192.407,-133.408\"/>\r\n",
       "<text text-anchor=\"middle\" x=\"201.448\" y=\"-144.8\" font-family=\"Times New Roman,serif\" font-size=\"14.00\">&#45;0.42</text>\r\n",
       "</g>\r\n",
       "<!-- y3(t&#45;1) -->\r\n",
       "<g id=\"node9\" class=\"node\"><title>y3(t&#45;1)</title>\r\n",
       "<ellipse fill=\"none\" stroke=\"black\" cx=\"425.948\" cy=\"-192\" rx=\"35.194\" ry=\"18\"/>\r\n",
       "<text text-anchor=\"middle\" x=\"425.948\" y=\"-188.3\" font-family=\"Times New Roman,serif\" font-size=\"14.00\">y3(t&#45;1)</text>\r\n",
       "</g>\r\n",
       "<!-- y4(t&#45;1) -->\r\n",
       "<g id=\"node10\" class=\"node\"><title>y4(t&#45;1)</title>\r\n",
       "<ellipse fill=\"none\" stroke=\"black\" cx=\"263.948\" cy=\"-192\" rx=\"35.194\" ry=\"18\"/>\r\n",
       "<text text-anchor=\"middle\" x=\"263.948\" y=\"-188.3\" font-family=\"Times New Roman,serif\" font-size=\"14.00\">y4(t&#45;1)</text>\r\n",
       "</g>\r\n",
       "<!-- y4(t&#45;1)&#45;&gt;y0(t) -->\r\n",
       "<g id=\"edge2\" class=\"edge\"><title>y4(t&#45;1)&#45;&gt;y0(t)</title>\r\n",
       "<path fill=\"none\" stroke=\"black\" d=\"M250.969,-175.012C240.526,-162.148 225.704,-143.888 213.928,-129.382\"/>\r\n",
       "<polygon fill=\"black\" stroke=\"black\" points=\"216.423,-126.902 207.403,-121.344 210.988,-131.313 216.423,-126.902\"/>\r\n",
       "<text text-anchor=\"middle\" x=\"246.448\" y=\"-144.8\" font-family=\"Times New Roman,serif\" font-size=\"14.00\">0.59</text>\r\n",
       "</g>\r\n",
       "<!-- y4(t&#45;1)&#45;&gt;y1(t) -->\r\n",
       "<g id=\"edge5\" class=\"edge\"><title>y4(t&#45;1)&#45;&gt;y1(t)</title>\r\n",
       "<path fill=\"none\" stroke=\"black\" d=\"M237.104,-180.369C216.902,-172.239 191.031,-161.517 180.948,-156 158.236,-143.573 145.977,-145.371 132.948,-123 119.387,-99.7175 118.541,-68.4015 120.216,-46.2354\"/>\r\n",
       "<polygon fill=\"black\" stroke=\"black\" points=\"123.711,-46.4562 121.196,-36.1642 116.744,-45.7782 123.711,-46.4562\"/>\r\n",
       "<text text-anchor=\"middle\" x=\"145.448\" y=\"-101.3\" font-family=\"Times New Roman,serif\" font-size=\"14.00\">0.38</text>\r\n",
       "</g>\r\n",
       "<!-- y4(t&#45;1)&#45;&gt;y3(t) -->\r\n",
       "<g id=\"edge8\" class=\"edge\"><title>y4(t&#45;1)&#45;&gt;y3(t)</title>\r\n",
       "<path fill=\"none\" stroke=\"black\" d=\"M281.357,-176.279C294.782,-163.704 312.304,-144.305 319.948,-123 330.545,-93.4606 321.598,-80.6014 304.948,-54 302.362,-49.8696 299.337,-45.6954 296.234,-41.7389\"/>\r\n",
       "<polygon fill=\"black\" stroke=\"black\" points=\"298.929,-39.5056 289.873,-34.0069 293.523,-43.953 298.929,-39.5056\"/>\r\n",
       "<text text-anchor=\"middle\" x=\"339.448\" y=\"-101.3\" font-family=\"Times New Roman,serif\" font-size=\"14.00\">&#45;0.81</text>\r\n",
       "</g>\r\n",
       "</g>\r\n",
       "</svg>\r\n"
      ],
      "text/plain": [
       "<graphviz.dot.Digraph at 0x21589c9a4e0>"
      ]
     },
     "execution_count": 9,
     "metadata": {},
     "output_type": "execute_result"
    }
   ],
   "source": [
    "labels = ['y0(t)', 'y1(t)', 'y2(t)', 'y3(t)', 'y4(t)', 'y0(t-1)', 'y1(t-1)', 'y2(t-1)', 'y3(t-1)', 'y4(t-1)']\n",
    "make_dot(np.hstack(model.adjacency_matrices_[0]), lower_limit=0.3, ignore_shape=True, labels=labels)"
   ]
  },
  {
   "cell_type": "markdown",
   "metadata": {},
   "source": [
    "## Independence between error variables\n",
    "To check if the LiNGAM assumption is broken, we can get p-values of independence between error variables. The value in the i-th row and j-th column of the obtained matrix shows the p-value of the independence of the error variables $e_i$ and $e_j$."
   ]
  },
  {
   "cell_type": "code",
   "execution_count": 10,
   "metadata": {},
   "outputs": [
    {
     "name": "stdout",
     "output_type": "stream",
     "text": [
      "[[0.    0.517 0.793 0.004 0.001]\n",
      " [0.517 0.    0.09  0.312 0.071]\n",
      " [0.793 0.09  0.    0.058 0.075]\n",
      " [0.004 0.312 0.058 0.    0.011]\n",
      " [0.001 0.071 0.075 0.011 0.   ]]\n"
     ]
    }
   ],
   "source": [
    "p_values = model.get_error_independence_p_values()\n",
    "print(p_values)"
   ]
  },
  {
   "cell_type": "markdown",
   "metadata": {},
   "source": [
    "## Bootstrap"
   ]
  },
  {
   "cell_type": "markdown",
   "metadata": {},
   "source": [
    "### Bootstrapping\n",
    "We call `bootstrap()` method instead of `fit()`. Here, the second argument specifies the number of bootstrap sampling."
   ]
  },
  {
   "cell_type": "code",
   "execution_count": 11,
   "metadata": {},
   "outputs": [],
   "source": [
    "model = lingam.VARMALiNGAM()\n",
    "result = model.bootstrap(X, n_sampling=100)"
   ]
  },
  {
   "cell_type": "markdown",
   "metadata": {},
   "source": [
    "## Causal Directions\n",
    "Since `BootstrapResult` object is returned, we can get the ranking of the causal directions extracted by `get_causal_direction_counts()` method. In the following sample code, `n_directions` option is limited to the causal directions of the top 8 rankings, and `min_causal_effect` option is limited to causal directions with a coefficient of 0.4 or more."
   ]
  },
  {
   "cell_type": "code",
   "execution_count": 12,
   "metadata": {},
   "outputs": [],
   "source": [
    "cdc = result.get_causal_direction_counts(n_directions=8, min_causal_effect=0.4, split_by_causal_effect_sign=True)"
   ]
  },
  {
   "cell_type": "markdown",
   "metadata": {},
   "source": [
    "We can check the result by utility function."
   ]
  },
  {
   "cell_type": "code",
   "execution_count": 13,
   "metadata": {},
   "outputs": [
    {
     "name": "stdout",
     "output_type": "stream",
     "text": [
      "y0(t) <--- y2(t-1) (b<0) (100.0%)\n",
      "y0(t) <--- y4(t-1) (b>0) (100.0%)\n",
      "y1(t) <--- e4(t-1) (b>0) (100.0%)\n",
      "y2(t) <--- e1(t-1) (b<0) (100.0%)\n",
      "y3(t) <--- y0(t) (b>0) (100.0%)\n",
      "y3(t) <--- y1(t-1) (b>0) (100.0%)\n",
      "y3(t) <--- y4(t-1) (b<0) (100.0%)\n",
      "y4(t) <--- y0(t-1) (b<0) (100.0%)\n"
     ]
    }
   ],
   "source": [
    "labels = ['y0(t)', 'y1(t)', 'y2(t)', 'y3(t)', 'y4(t)', 'y0(t-1)', 'y1(t-1)', 'y2(t-1)', 'y3(t-1)', 'y4(t-1)', 'e0(t-1)', 'e1(t-1)', 'e2(t-1)', 'e3(t-1)', 'e4(t-1)']\n",
    "print_causal_directions(cdc, 100, labels=labels)"
   ]
  },
  {
   "cell_type": "markdown",
   "metadata": {},
   "source": [
    "## Directed Acyclic Graphs\n",
    "Also, using the `get_directed_acyclic_graph_counts()` method, we can get the ranking of the DAGs extracted. In the following sample code, `n_dags` option is limited to the dags of the top 3 rankings, and `min_causal_effect` option is limited to causal directions with a coefficient of 0.3 or more."
   ]
  },
  {
   "cell_type": "code",
   "execution_count": 14,
   "metadata": {},
   "outputs": [],
   "source": [
    "dagc = result.get_directed_acyclic_graph_counts(n_dags=3, min_causal_effect=0.3, split_by_causal_effect_sign=True)"
   ]
  },
  {
   "cell_type": "markdown",
   "metadata": {},
   "source": [
    "We can check the result by utility function."
   ]
  },
  {
   "cell_type": "code",
   "execution_count": 15,
   "metadata": {},
   "outputs": [
    {
     "name": "stdout",
     "output_type": "stream",
     "text": [
      "DAG[0]: 40.0%\n",
      "\ty0(t) <--- y2(t-1) (b<0)\n",
      "\ty0(t) <--- y4(t-1) (b>0)\n",
      "\ty1(t) <--- y0(t) (b<0)\n",
      "\ty1(t) <--- y0(t-1) (b<0)\n",
      "\ty1(t) <--- y4(t-1) (b>0)\n",
      "\ty1(t) <--- e0(t-1) (b>0)\n",
      "\ty1(t) <--- e1(t-1) (b>0)\n",
      "\ty1(t) <--- e4(t-1) (b>0)\n",
      "\ty2(t) <--- e1(t-1) (b<0)\n",
      "\ty2(t) <--- e3(t-1) (b<0)\n",
      "\ty3(t) <--- y0(t) (b>0)\n",
      "\ty3(t) <--- y1(t-1) (b>0)\n",
      "\ty3(t) <--- y4(t-1) (b<0)\n",
      "\ty3(t) <--- e2(t-1) (b>0)\n",
      "\ty4(t) <--- y0(t-1) (b<0)\n",
      "\ty4(t) <--- e1(t-1) (b>0)\n",
      "\ty4(t) <--- e2(t-1) (b>0)\n",
      "DAG[1]: 19.0%\n",
      "\ty0(t) <--- y2(t-1) (b<0)\n",
      "\ty0(t) <--- y4(t-1) (b>0)\n",
      "\ty1(t) <--- y0(t) (b<0)\n",
      "\ty1(t) <--- y0(t-1) (b<0)\n",
      "\ty1(t) <--- y4(t-1) (b>0)\n",
      "\ty1(t) <--- e0(t-1) (b>0)\n",
      "\ty1(t) <--- e4(t-1) (b>0)\n",
      "\ty2(t) <--- e1(t-1) (b<0)\n",
      "\ty2(t) <--- e3(t-1) (b<0)\n",
      "\ty3(t) <--- y0(t) (b>0)\n",
      "\ty3(t) <--- y1(t-1) (b>0)\n",
      "\ty3(t) <--- y4(t-1) (b<0)\n",
      "\ty3(t) <--- e2(t-1) (b>0)\n",
      "\ty4(t) <--- y0(t-1) (b<0)\n",
      "\ty4(t) <--- e1(t-1) (b>0)\n",
      "\ty4(t) <--- e2(t-1) (b>0)\n",
      "DAG[2]: 7.0%\n",
      "\ty0(t) <--- y2(t) (b<0)\n",
      "\ty0(t) <--- y2(t-1) (b<0)\n",
      "\ty0(t) <--- y4(t-1) (b>0)\n",
      "\ty1(t) <--- y0(t) (b<0)\n",
      "\ty1(t) <--- y0(t-1) (b<0)\n",
      "\ty1(t) <--- y4(t-1) (b>0)\n",
      "\ty1(t) <--- e0(t-1) (b>0)\n",
      "\ty1(t) <--- e1(t-1) (b>0)\n",
      "\ty1(t) <--- e4(t-1) (b>0)\n",
      "\ty2(t) <--- e1(t-1) (b<0)\n",
      "\ty2(t) <--- e3(t-1) (b<0)\n",
      "\ty3(t) <--- y0(t) (b>0)\n",
      "\ty3(t) <--- y1(t-1) (b>0)\n",
      "\ty3(t) <--- y4(t-1) (b<0)\n",
      "\ty3(t) <--- e2(t-1) (b>0)\n",
      "\ty4(t) <--- y0(t-1) (b<0)\n",
      "\ty4(t) <--- e1(t-1) (b>0)\n",
      "\ty4(t) <--- e2(t-1) (b>0)\n"
     ]
    }
   ],
   "source": [
    "print_dagc(dagc, 100, labels=labels)"
   ]
  },
  {
   "cell_type": "markdown",
   "metadata": {},
   "source": [
    "## Probability\n",
    "Using the `get_probabilities()` method, we can get the probability of bootstrapping."
   ]
  },
  {
   "cell_type": "code",
   "execution_count": 16,
   "metadata": {},
   "outputs": [
    {
     "name": "stdout",
     "output_type": "stream",
     "text": [
      "Probability of psi0:\n",
      " [[0.   0.   1.   0.   0.  ]\n",
      " [1.   0.   0.95 0.   0.  ]\n",
      " [0.   0.   0.   0.   0.  ]\n",
      " [1.   0.96 0.24 0.   0.  ]\n",
      " [0.16 0.03 0.1  0.04 0.  ]]\n",
      "Probability of psi1:\n",
      " [[1.   1.   1.   0.   1.  ]\n",
      " [1.   0.   0.   1.   1.  ]\n",
      " [1.   1.   0.   1.   1.  ]\n",
      " [1.   1.   1.   1.   1.  ]\n",
      " [1.   0.19 1.   0.96 1.  ]]\n",
      "Probability of omega1:\n",
      " [[1.   0.77 1.   0.96 0.  ]\n",
      " [1.   1.   1.   0.   1.  ]\n",
      " [1.   1.   0.   1.   1.  ]\n",
      " [1.   1.   1.   1.   0.04]\n",
      " [1.   1.   1.   1.   1.  ]]\n"
     ]
    }
   ],
   "source": [
    "prob = result.get_probabilities(min_causal_effect=0.1)\n",
    "print('Probability of psi0:\\n', prob[0])\n",
    "print('Probability of psi1:\\n', prob[1])\n",
    "print('Probability of omega1:\\n', prob[2])"
   ]
  },
  {
   "cell_type": "markdown",
   "metadata": {},
   "source": [
    "## Total Causal Effects\n",
    "Using the `get_total causal_effects()` method, we can get the list of total causal effect. The total causal effects we can get are dictionary type variable.\n",
    "We can display the list nicely by assigning it to pandas.DataFrame. Also, we have replaced the variable index with a label below."
   ]
  },
  {
   "cell_type": "code",
   "execution_count": 17,
   "metadata": {},
   "outputs": [
    {
     "data": {
      "text/html": [
       "<div>\n",
       "<style scoped>\n",
       "    .dataframe tbody tr th:only-of-type {\n",
       "        vertical-align: middle;\n",
       "    }\n",
       "\n",
       "    .dataframe tbody tr th {\n",
       "        vertical-align: top;\n",
       "    }\n",
       "\n",
       "    .dataframe thead th {\n",
       "        text-align: right;\n",
       "    }\n",
       "</style>\n",
       "<table border=\"1\" class=\"dataframe\">\n",
       "  <thead>\n",
       "    <tr style=\"text-align: right;\">\n",
       "      <th></th>\n",
       "      <th>from</th>\n",
       "      <th>to</th>\n",
       "      <th>effect</th>\n",
       "      <th>probability</th>\n",
       "    </tr>\n",
       "  </thead>\n",
       "  <tbody>\n",
       "    <tr>\n",
       "      <th>0</th>\n",
       "      <td>y4(t-1)</td>\n",
       "      <td>y2(t)</td>\n",
       "      <td>0.377029</td>\n",
       "      <td>1.00</td>\n",
       "    </tr>\n",
       "    <tr>\n",
       "      <th>1</th>\n",
       "      <td>y2(t)</td>\n",
       "      <td>y3(t)</td>\n",
       "      <td>-0.238642</td>\n",
       "      <td>1.00</td>\n",
       "    </tr>\n",
       "    <tr>\n",
       "      <th>2</th>\n",
       "      <td>y1(t)</td>\n",
       "      <td>y3(t)</td>\n",
       "      <td>-0.213468</td>\n",
       "      <td>1.00</td>\n",
       "    </tr>\n",
       "    <tr>\n",
       "      <th>3</th>\n",
       "      <td>y0(t)</td>\n",
       "      <td>y3(t)</td>\n",
       "      <td>0.563522</td>\n",
       "      <td>1.00</td>\n",
       "    </tr>\n",
       "    <tr>\n",
       "      <th>4</th>\n",
       "      <td>y3(t-1)</td>\n",
       "      <td>y4(t)</td>\n",
       "      <td>0.343541</td>\n",
       "      <td>1.00</td>\n",
       "    </tr>\n",
       "    <tr>\n",
       "      <th>5</th>\n",
       "      <td>y0(t-1)</td>\n",
       "      <td>y2(t)</td>\n",
       "      <td>-0.254723</td>\n",
       "      <td>1.00</td>\n",
       "    </tr>\n",
       "    <tr>\n",
       "      <th>6</th>\n",
       "      <td>y4(t-1)</td>\n",
       "      <td>y1(t)</td>\n",
       "      <td>0.438051</td>\n",
       "      <td>1.00</td>\n",
       "    </tr>\n",
       "    <tr>\n",
       "      <th>7</th>\n",
       "      <td>y3(t-1)</td>\n",
       "      <td>y1(t)</td>\n",
       "      <td>0.266735</td>\n",
       "      <td>1.00</td>\n",
       "    </tr>\n",
       "    <tr>\n",
       "      <th>8</th>\n",
       "      <td>y1(t-1)</td>\n",
       "      <td>y1(t)</td>\n",
       "      <td>0.312631</td>\n",
       "      <td>1.00</td>\n",
       "    </tr>\n",
       "    <tr>\n",
       "      <th>9</th>\n",
       "      <td>y0(t-1)</td>\n",
       "      <td>y4(t)</td>\n",
       "      <td>-0.531720</td>\n",
       "      <td>1.00</td>\n",
       "    </tr>\n",
       "    <tr>\n",
       "      <th>10</th>\n",
       "      <td>y1(t-1)</td>\n",
       "      <td>y4(t)</td>\n",
       "      <td>0.226082</td>\n",
       "      <td>1.00</td>\n",
       "    </tr>\n",
       "    <tr>\n",
       "      <th>11</th>\n",
       "      <td>y2(t)</td>\n",
       "      <td>y1(t)</td>\n",
       "      <td>0.231064</td>\n",
       "      <td>1.00</td>\n",
       "    </tr>\n",
       "    <tr>\n",
       "      <th>12</th>\n",
       "      <td>y0(t)</td>\n",
       "      <td>y1(t)</td>\n",
       "      <td>-0.310366</td>\n",
       "      <td>1.00</td>\n",
       "    </tr>\n",
       "    <tr>\n",
       "      <th>13</th>\n",
       "      <td>y4(t-1)</td>\n",
       "      <td>y0(t)</td>\n",
       "      <td>0.210816</td>\n",
       "      <td>1.00</td>\n",
       "    </tr>\n",
       "    <tr>\n",
       "      <th>14</th>\n",
       "      <td>y3(t-1)</td>\n",
       "      <td>y0(t)</td>\n",
       "      <td>0.375119</td>\n",
       "      <td>1.00</td>\n",
       "    </tr>\n",
       "    <tr>\n",
       "      <th>15</th>\n",
       "      <td>y2(t-1)</td>\n",
       "      <td>y0(t)</td>\n",
       "      <td>-0.377158</td>\n",
       "      <td>1.00</td>\n",
       "    </tr>\n",
       "    <tr>\n",
       "      <th>16</th>\n",
       "      <td>y2(t-1)</td>\n",
       "      <td>y4(t)</td>\n",
       "      <td>-0.368007</td>\n",
       "      <td>1.00</td>\n",
       "    </tr>\n",
       "    <tr>\n",
       "      <th>17</th>\n",
       "      <td>y0(t-1)</td>\n",
       "      <td>y1(t)</td>\n",
       "      <td>-0.419723</td>\n",
       "      <td>1.00</td>\n",
       "    </tr>\n",
       "    <tr>\n",
       "      <th>18</th>\n",
       "      <td>y1(t-1)</td>\n",
       "      <td>y2(t)</td>\n",
       "      <td>0.329416</td>\n",
       "      <td>0.99</td>\n",
       "    </tr>\n",
       "    <tr>\n",
       "      <th>19</th>\n",
       "      <td>y0(t-1)</td>\n",
       "      <td>y0(t)</td>\n",
       "      <td>-0.188156</td>\n",
       "      <td>0.99</td>\n",
       "    </tr>\n",
       "    <tr>\n",
       "      <th>20</th>\n",
       "      <td>y1(t-1)</td>\n",
       "      <td>y3(t)</td>\n",
       "      <td>0.120133</td>\n",
       "      <td>0.98</td>\n",
       "    </tr>\n",
       "    <tr>\n",
       "      <th>21</th>\n",
       "      <td>y0(t-1)</td>\n",
       "      <td>y3(t)</td>\n",
       "      <td>0.217037</td>\n",
       "      <td>0.98</td>\n",
       "    </tr>\n",
       "    <tr>\n",
       "      <th>22</th>\n",
       "      <td>y4(t-1)</td>\n",
       "      <td>y3(t)</td>\n",
       "      <td>-0.186410</td>\n",
       "      <td>0.97</td>\n",
       "    </tr>\n",
       "    <tr>\n",
       "      <th>23</th>\n",
       "      <td>y3(t-1)</td>\n",
       "      <td>y2(t)</td>\n",
       "      <td>0.184045</td>\n",
       "      <td>0.97</td>\n",
       "    </tr>\n",
       "    <tr>\n",
       "      <th>24</th>\n",
       "      <td>y4(t-1)</td>\n",
       "      <td>y4(t)</td>\n",
       "      <td>0.287224</td>\n",
       "      <td>0.92</td>\n",
       "    </tr>\n",
       "    <tr>\n",
       "      <th>25</th>\n",
       "      <td>y2(t)</td>\n",
       "      <td>y0(t)</td>\n",
       "      <td>-0.147135</td>\n",
       "      <td>0.91</td>\n",
       "    </tr>\n",
       "    <tr>\n",
       "      <th>26</th>\n",
       "      <td>y3(t)</td>\n",
       "      <td>y4(t)</td>\n",
       "      <td>0.056672</td>\n",
       "      <td>0.73</td>\n",
       "    </tr>\n",
       "    <tr>\n",
       "      <th>27</th>\n",
       "      <td>y3(t-1)</td>\n",
       "      <td>y3(t)</td>\n",
       "      <td>-0.139039</td>\n",
       "      <td>0.63</td>\n",
       "    </tr>\n",
       "    <tr>\n",
       "      <th>28</th>\n",
       "      <td>y0(t)</td>\n",
       "      <td>y4(t)</td>\n",
       "      <td>0.086335</td>\n",
       "      <td>0.46</td>\n",
       "    </tr>\n",
       "    <tr>\n",
       "      <th>29</th>\n",
       "      <td>y2(t-1)</td>\n",
       "      <td>y1(t)</td>\n",
       "      <td>0.081208</td>\n",
       "      <td>0.41</td>\n",
       "    </tr>\n",
       "    <tr>\n",
       "      <th>30</th>\n",
       "      <td>y1(t-1)</td>\n",
       "      <td>y0(t)</td>\n",
       "      <td>-0.040277</td>\n",
       "      <td>0.26</td>\n",
       "    </tr>\n",
       "    <tr>\n",
       "      <th>31</th>\n",
       "      <td>y2(t)</td>\n",
       "      <td>y4(t)</td>\n",
       "      <td>-0.088182</td>\n",
       "      <td>0.20</td>\n",
       "    </tr>\n",
       "    <tr>\n",
       "      <th>32</th>\n",
       "      <td>y2(t-1)</td>\n",
       "      <td>y2(t)</td>\n",
       "      <td>-0.052064</td>\n",
       "      <td>0.19</td>\n",
       "    </tr>\n",
       "    <tr>\n",
       "      <th>33</th>\n",
       "      <td>y1(t)</td>\n",
       "      <td>y4(t)</td>\n",
       "      <td>-0.056033</td>\n",
       "      <td>0.05</td>\n",
       "    </tr>\n",
       "    <tr>\n",
       "      <th>34</th>\n",
       "      <td>y4(t)</td>\n",
       "      <td>y3(t)</td>\n",
       "      <td>0.057538</td>\n",
       "      <td>0.04</td>\n",
       "    </tr>\n",
       "    <tr>\n",
       "      <th>35</th>\n",
       "      <td>y2(t-1)</td>\n",
       "      <td>y3(t)</td>\n",
       "      <td>-0.261473</td>\n",
       "      <td>0.02</td>\n",
       "    </tr>\n",
       "    <tr>\n",
       "      <th>36</th>\n",
       "      <td>y4(t)</td>\n",
       "      <td>y1(t)</td>\n",
       "      <td>0.013746</td>\n",
       "      <td>0.01</td>\n",
       "    </tr>\n",
       "  </tbody>\n",
       "</table>\n",
       "</div>"
      ],
      "text/plain": [
       "       from     to    effect  probability\n",
       "0   y4(t-1)  y2(t)  0.377029         1.00\n",
       "1     y2(t)  y3(t) -0.238642         1.00\n",
       "2     y1(t)  y3(t) -0.213468         1.00\n",
       "3     y0(t)  y3(t)  0.563522         1.00\n",
       "4   y3(t-1)  y4(t)  0.343541         1.00\n",
       "5   y0(t-1)  y2(t) -0.254723         1.00\n",
       "6   y4(t-1)  y1(t)  0.438051         1.00\n",
       "7   y3(t-1)  y1(t)  0.266735         1.00\n",
       "8   y1(t-1)  y1(t)  0.312631         1.00\n",
       "9   y0(t-1)  y4(t) -0.531720         1.00\n",
       "10  y1(t-1)  y4(t)  0.226082         1.00\n",
       "11    y2(t)  y1(t)  0.231064         1.00\n",
       "12    y0(t)  y1(t) -0.310366         1.00\n",
       "13  y4(t-1)  y0(t)  0.210816         1.00\n",
       "14  y3(t-1)  y0(t)  0.375119         1.00\n",
       "15  y2(t-1)  y0(t) -0.377158         1.00\n",
       "16  y2(t-1)  y4(t) -0.368007         1.00\n",
       "17  y0(t-1)  y1(t) -0.419723         1.00\n",
       "18  y1(t-1)  y2(t)  0.329416         0.99\n",
       "19  y0(t-1)  y0(t) -0.188156         0.99\n",
       "20  y1(t-1)  y3(t)  0.120133         0.98\n",
       "21  y0(t-1)  y3(t)  0.217037         0.98\n",
       "22  y4(t-1)  y3(t) -0.186410         0.97\n",
       "23  y3(t-1)  y2(t)  0.184045         0.97\n",
       "24  y4(t-1)  y4(t)  0.287224         0.92\n",
       "25    y2(t)  y0(t) -0.147135         0.91\n",
       "26    y3(t)  y4(t)  0.056672         0.73\n",
       "27  y3(t-1)  y3(t) -0.139039         0.63\n",
       "28    y0(t)  y4(t)  0.086335         0.46\n",
       "29  y2(t-1)  y1(t)  0.081208         0.41\n",
       "30  y1(t-1)  y0(t) -0.040277         0.26\n",
       "31    y2(t)  y4(t) -0.088182         0.20\n",
       "32  y2(t-1)  y2(t) -0.052064         0.19\n",
       "33    y1(t)  y4(t) -0.056033         0.05\n",
       "34    y4(t)  y3(t)  0.057538         0.04\n",
       "35  y2(t-1)  y3(t) -0.261473         0.02\n",
       "36    y4(t)  y1(t)  0.013746         0.01"
      ]
     },
     "execution_count": 17,
     "metadata": {},
     "output_type": "execute_result"
    }
   ],
   "source": [
    "causal_effects = result.get_total_causal_effects(min_causal_effect=0.01)\n",
    "df = pd.DataFrame(causal_effects)\n",
    "\n",
    "df['from'] = df['from'].apply(lambda x : labels[x])\n",
    "df['to'] = df['to'].apply(lambda x : labels[x])\n",
    "df"
   ]
  },
  {
   "cell_type": "markdown",
   "metadata": {},
   "source": [
    "We can easily perform sorting operations with pandas.DataFrame."
   ]
  },
  {
   "cell_type": "code",
   "execution_count": 18,
   "metadata": {},
   "outputs": [
    {
     "data": {
      "text/html": [
       "<div>\n",
       "<style scoped>\n",
       "    .dataframe tbody tr th:only-of-type {\n",
       "        vertical-align: middle;\n",
       "    }\n",
       "\n",
       "    .dataframe tbody tr th {\n",
       "        vertical-align: top;\n",
       "    }\n",
       "\n",
       "    .dataframe thead th {\n",
       "        text-align: right;\n",
       "    }\n",
       "</style>\n",
       "<table border=\"1\" class=\"dataframe\">\n",
       "  <thead>\n",
       "    <tr style=\"text-align: right;\">\n",
       "      <th></th>\n",
       "      <th>from</th>\n",
       "      <th>to</th>\n",
       "      <th>effect</th>\n",
       "      <th>probability</th>\n",
       "    </tr>\n",
       "  </thead>\n",
       "  <tbody>\n",
       "    <tr>\n",
       "      <th>3</th>\n",
       "      <td>y0(t)</td>\n",
       "      <td>y3(t)</td>\n",
       "      <td>0.563522</td>\n",
       "      <td>1.0</td>\n",
       "    </tr>\n",
       "    <tr>\n",
       "      <th>6</th>\n",
       "      <td>y4(t-1)</td>\n",
       "      <td>y1(t)</td>\n",
       "      <td>0.438051</td>\n",
       "      <td>1.0</td>\n",
       "    </tr>\n",
       "    <tr>\n",
       "      <th>0</th>\n",
       "      <td>y4(t-1)</td>\n",
       "      <td>y2(t)</td>\n",
       "      <td>0.377029</td>\n",
       "      <td>1.0</td>\n",
       "    </tr>\n",
       "    <tr>\n",
       "      <th>14</th>\n",
       "      <td>y3(t-1)</td>\n",
       "      <td>y0(t)</td>\n",
       "      <td>0.375119</td>\n",
       "      <td>1.0</td>\n",
       "    </tr>\n",
       "    <tr>\n",
       "      <th>4</th>\n",
       "      <td>y3(t-1)</td>\n",
       "      <td>y4(t)</td>\n",
       "      <td>0.343541</td>\n",
       "      <td>1.0</td>\n",
       "    </tr>\n",
       "  </tbody>\n",
       "</table>\n",
       "</div>"
      ],
      "text/plain": [
       "       from     to    effect  probability\n",
       "3     y0(t)  y3(t)  0.563522          1.0\n",
       "6   y4(t-1)  y1(t)  0.438051          1.0\n",
       "0   y4(t-1)  y2(t)  0.377029          1.0\n",
       "14  y3(t-1)  y0(t)  0.375119          1.0\n",
       "4   y3(t-1)  y4(t)  0.343541          1.0"
      ]
     },
     "execution_count": 18,
     "metadata": {},
     "output_type": "execute_result"
    }
   ],
   "source": [
    "df.sort_values('effect', ascending=False).head()"
   ]
  },
  {
   "cell_type": "markdown",
   "metadata": {},
   "source": [
    "And with pandas.DataFrame, we can easily filter by keywords. The following code extracts the causal direction towards y2(t)."
   ]
  },
  {
   "cell_type": "code",
   "execution_count": 19,
   "metadata": {},
   "outputs": [
    {
     "data": {
      "text/html": [
       "<div>\n",
       "<style scoped>\n",
       "    .dataframe tbody tr th:only-of-type {\n",
       "        vertical-align: middle;\n",
       "    }\n",
       "\n",
       "    .dataframe tbody tr th {\n",
       "        vertical-align: top;\n",
       "    }\n",
       "\n",
       "    .dataframe thead th {\n",
       "        text-align: right;\n",
       "    }\n",
       "</style>\n",
       "<table border=\"1\" class=\"dataframe\">\n",
       "  <thead>\n",
       "    <tr style=\"text-align: right;\">\n",
       "      <th></th>\n",
       "      <th>from</th>\n",
       "      <th>to</th>\n",
       "      <th>effect</th>\n",
       "      <th>probability</th>\n",
       "    </tr>\n",
       "  </thead>\n",
       "  <tbody>\n",
       "    <tr>\n",
       "      <th>0</th>\n",
       "      <td>y4(t-1)</td>\n",
       "      <td>y2(t)</td>\n",
       "      <td>0.377029</td>\n",
       "      <td>1.00</td>\n",
       "    </tr>\n",
       "    <tr>\n",
       "      <th>5</th>\n",
       "      <td>y0(t-1)</td>\n",
       "      <td>y2(t)</td>\n",
       "      <td>-0.254723</td>\n",
       "      <td>1.00</td>\n",
       "    </tr>\n",
       "    <tr>\n",
       "      <th>18</th>\n",
       "      <td>y1(t-1)</td>\n",
       "      <td>y2(t)</td>\n",
       "      <td>0.329416</td>\n",
       "      <td>0.99</td>\n",
       "    </tr>\n",
       "    <tr>\n",
       "      <th>23</th>\n",
       "      <td>y3(t-1)</td>\n",
       "      <td>y2(t)</td>\n",
       "      <td>0.184045</td>\n",
       "      <td>0.97</td>\n",
       "    </tr>\n",
       "    <tr>\n",
       "      <th>32</th>\n",
       "      <td>y2(t-1)</td>\n",
       "      <td>y2(t)</td>\n",
       "      <td>-0.052064</td>\n",
       "      <td>0.19</td>\n",
       "    </tr>\n",
       "  </tbody>\n",
       "</table>\n",
       "</div>"
      ],
      "text/plain": [
       "       from     to    effect  probability\n",
       "0   y4(t-1)  y2(t)  0.377029         1.00\n",
       "5   y0(t-1)  y2(t) -0.254723         1.00\n",
       "18  y1(t-1)  y2(t)  0.329416         0.99\n",
       "23  y3(t-1)  y2(t)  0.184045         0.97\n",
       "32  y2(t-1)  y2(t) -0.052064         0.19"
      ]
     },
     "execution_count": 19,
     "metadata": {},
     "output_type": "execute_result"
    }
   ],
   "source": [
    "df[df['to']=='y2(t)'].head()"
   ]
  },
  {
   "cell_type": "markdown",
   "metadata": {},
   "source": [
    "Because it holds the raw data of the causal effect (the original data for calculating the median), it is possible to draw a histogram of the values of the causal effect, as shown below."
   ]
  },
  {
   "cell_type": "code",
   "execution_count": 20,
   "metadata": {},
   "outputs": [
    {
     "data": {
      "text/plain": [
       "(array([ 1.,  5.,  5.,  7., 24., 13., 17., 11., 13.,  4.]),\n",
       " array([-0.359, -0.34 , -0.322, -0.303, -0.285, -0.266, -0.248, -0.229,\n",
       "        -0.21 , -0.192, -0.173]),\n",
       " <a list of 10 Patch objects>)"
      ]
     },
     "execution_count": 20,
     "metadata": {},
     "output_type": "execute_result"
    },
    {
     "data": {
      "image/png": "[encoded data removed]",
      "text/plain": [
       "<Figure size 432x288 with 1 Axes>"
      ]
     },
     "metadata": {
      "needs_background": "light"
     },
     "output_type": "display_data"
    }
   ],
   "source": [
    "import matplotlib.pyplot as plt\n",
    "import seaborn as sns\n",
    "sns.set()\n",
    "%matplotlib inline\n",
    "\n",
    "from_index = 5 # index of y0(t-1). (index:0)+(n_features:5)*(lag:1) = 5\n",
    "to_index = 2 # index of y2(t). (index:2)+(n_features:5)*(lag:0) = 2\n",
    "plt.hist(result.total_effects_[:, to_index, from_index])"
   ]
  },
  {
   "cell_type": "code",
   "execution_count": null,
   "metadata": {},
   "outputs": [],
   "source": []
  }
 ],
 "metadata": {
  "kernelspec": {
   "display_name": "Python 3",
   "language": "python",
   "name": "python3"
  },
  "language_info": {
   "codemirror_mode": {
    "name": "ipython",
    "version": 3
   },
   "file_extension": ".py",
   "mimetype": "text/x-python",
   "name": "python",
   "nbconvert_exporter": "python",
   "pygments_lexer": "ipython3",
   "version": "3.7.3"
  }
 },
 "nbformat": 4,
 "nbformat_minor": 4
}
