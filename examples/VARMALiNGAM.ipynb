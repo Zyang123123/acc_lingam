{
 "cells": [
  {
   "cell_type": "markdown",
   "metadata": {},
   "source": [
    "# VARMALiNGAM"
   ]
  },
  {
   "cell_type": "markdown",
   "metadata": {},
   "source": [
    "## Import and settings\n",
    "In this example, we need to import `numpy`, `pandas`, and `graphviz` in addition to `lingam`."
   ]
  },
  {
   "cell_type": "code",
   "execution_count": 1,
   "metadata": {},
   "outputs": [
    {
     "name": "stdout",
     "output_type": "stream",
     "text": [
      "['1.18.1', '0.25.3', '0.13.2', '1.2.0']\n"
     ]
    }
   ],
   "source": [
    "import numpy as np\n",
    "import pandas as pd\n",
    "import graphviz\n",
    "import lingam\n",
    "from lingam.utils import make_dot, print_causal_directions, print_dagc\n",
    "\n",
    "import warnings\n",
    "warnings.filterwarnings('ignore')\n",
    "\n",
    "print([np.__version__, pd.__version__, graphviz.__version__, lingam.__version__])\n",
    "\n",
    "np.set_printoptions(precision=3, suppress=True)\n",
    "np.random.seed(0)"
   ]
  },
  {
   "cell_type": "markdown",
   "metadata": {},
   "source": [
    "## Test data\n",
    "We create test data consisting of 5 variables."
   ]
  },
  {
   "cell_type": "code",
   "execution_count": 2,
   "metadata": {},
   "outputs": [],
   "source": [
    "psi0 = np.array([\n",
    "    [0, 0, -0.25, 0, 0],\n",
    "    [-0.38, 0, 0.14, 0, 0],\n",
    "    [0, 0, 0, 0, 0],\n",
    "    [0.44, -0.2, -0.09, 0, 0],\n",
    "    [0.07, -0.06, 0, 0.07, 0]\n",
    "])\n",
    "phi1 = np.array([\n",
    "    [-0.04, -0.29, -0.26, 0.14, 0.47],\n",
    "    [-0.42, 0.2, 0.1, 0.24, 0.25],\n",
    "    [-0.25, 0.18, -0.06, 0.15, 0.18],\n",
    "    [0.22, 0.39, 0.08, 0.12, -0.37],\n",
    "    [-0.43, 0.09, -0.23, 0.16, 0.25]\n",
    "])\n",
    "theta1 = np.array([\n",
    "    [ 0.15, -0.02, -0.3, -0.2, 0.21],\n",
    "    [ 0.32, 0.12, -0.11, 0.03, 0.42],\n",
    "    [-0.07, -0.5, 0.03, -0.27, -0.21],\n",
    "    [-0.17, 0.35, 0.25, 0.24, -0.25],\n",
    "    [0.09, 0.4, 0.41, 0.24, -0.31]\n",
    "])\n",
    "causal_order = [2, 0, 1, 3, 4]\n",
    "\n",
    "# data generated from psi0 and phi1 and theta1, causal_order\n",
    "X = np.loadtxt('data/sample_data_varma_lingam.csv', delimiter=',')"
   ]
  },
  {
   "cell_type": "markdown",
   "metadata": {},
   "source": [
    "## Causal Discovery\n",
    "To run causal discovery, we create a `VARMALiNGAM` object and call the `fit` method."
   ]
  },
  {
   "cell_type": "code",
   "execution_count": 3,
   "metadata": {},
   "outputs": [
    {
     "data": {
      "text/plain": [
       "<lingam.varma_lingam.VARMALiNGAM at 0x1af9d13cf08>"
      ]
     },
     "execution_count": 3,
     "metadata": {},
     "output_type": "execute_result"
    }
   ],
   "source": [
    "model = lingam.VARMALiNGAM(order=(1, 1), criterion=None)\n",
    "model.fit(X)"
   ]
  },
  {
   "cell_type": "markdown",
   "metadata": {},
   "source": [
    "Using the `causal_order_` properties, we can see the causal ordering as a result of the causal discovery."
   ]
  },
  {
   "cell_type": "code",
   "execution_count": 4,
   "metadata": {},
   "outputs": [
    {
     "data": {
      "text/plain": [
       "[2, 0, 1, 3, 4]"
      ]
     },
     "execution_count": 4,
     "metadata": {},
     "output_type": "execute_result"
    }
   ],
   "source": [
    "model.causal_order_"
   ]
  },
  {
   "cell_type": "markdown",
   "metadata": {},
   "source": [
    "Also, using the `adjacency_matrices_` properties, we can see the adjacency matrix as a result of the causal discovery."
   ]
  },
  {
   "cell_type": "code",
   "execution_count": 5,
   "metadata": {},
   "outputs": [
    {
     "data": {
      "text/plain": [
       "array([[ 0.   ,  0.   , -0.238,  0.   ,  0.   ],\n",
       "       [-0.392,  0.   ,  0.182,  0.   ,  0.   ],\n",
       "       [ 0.   ,  0.   ,  0.   ,  0.   ,  0.   ],\n",
       "       [ 0.523, -0.149,  0.   ,  0.   ,  0.   ],\n",
       "       [ 0.   ,  0.   ,  0.   ,  0.   ,  0.   ]])"
      ]
     },
     "execution_count": 5,
     "metadata": {},
     "output_type": "execute_result"
    }
   ],
   "source": [
    "# psi0\n",
    "model.adjacency_matrices_[0][0]"
   ]
  },
  {
   "cell_type": "code",
   "execution_count": 6,
   "metadata": {},
   "outputs": [
    {
     "data": {
      "text/plain": [
       "array([[ 0.247, -0.12 , -0.128, -0.124,  0.037],\n",
       "       [ 0.378,  0.319, -0.121, -0.024,  0.573],\n",
       "       [-0.106, -0.624,  0.015, -0.302, -0.247],\n",
       "       [-0.219,  0.261,  0.313,  0.228, -0.058],\n",
       "       [ 0.256,  0.405,  0.411,  0.257, -0.287]])"
      ]
     },
     "execution_count": 6,
     "metadata": {},
     "output_type": "execute_result"
    }
   ],
   "source": [
    "# omega0\n",
    "model.adjacency_matrices_[1][0]"
   ]
  },
  {
   "cell_type": "markdown",
   "metadata": {},
   "source": [
    "We can draw a causal graph by utility funciton"
   ]
  },
  {
   "cell_type": "code",
   "execution_count": 7,
   "metadata": {},
   "outputs": [
    {
     "data": {
      "image/svg+xml": [
       "<?xml version=\"1.0\" encoding=\"UTF-8\" standalone=\"no\"?>\r\n",
       "<!DOCTYPE svg PUBLIC \"-//W3C//DTD SVG 1.1//EN\"\r\n",
       " \"http://www.w3.org/Graphics/SVG/1.1/DTD/svg11.dtd\">\r\n",
       "<!-- Generated by graphviz version 2.38.0 (20140413.2041)\r\n",
       " -->\r\n",
       "<!-- Title: %3 Pages: 1 -->\r\n",
       "<svg width=\"837pt\" height=\"218pt\"\r\n",
       " viewBox=\"0.00 0.00 836.54 218.00\" xmlns=\"http://www.w3.org/2000/svg\" xmlns:xlink=\"http://www.w3.org/1999/xlink\">\r\n",
       "<g id=\"graph0\" class=\"graph\" transform=\"scale(1 1) rotate(0) translate(4 214)\">\r\n",
       "<title>%3</title>\r\n",
       "<polygon fill=\"white\" stroke=\"none\" points=\"-4,4 -4,-214 832.544,-214 832.544,4 -4,4\"/>\r\n",
       "<!-- x0(t) -->\r\n",
       "<g id=\"node1\" class=\"node\"><title>x0(t)</title>\r\n",
       "<ellipse fill=\"none\" stroke=\"black\" cx=\"350.447\" cy=\"-105\" rx=\"27.8951\" ry=\"18\"/>\r\n",
       "<text text-anchor=\"middle\" x=\"350.447\" y=\"-101.3\" font-family=\"Times New Roman,serif\" font-size=\"14.00\">x0(t)</text>\r\n",
       "</g>\r\n",
       "<!-- x1(t) -->\r\n",
       "<g id=\"node2\" class=\"node\"><title>x1(t)</title>\r\n",
       "<ellipse fill=\"none\" stroke=\"black\" cx=\"197.447\" cy=\"-18\" rx=\"27.8951\" ry=\"18\"/>\r\n",
       "<text text-anchor=\"middle\" x=\"197.447\" y=\"-14.3\" font-family=\"Times New Roman,serif\" font-size=\"14.00\">x1(t)</text>\r\n",
       "</g>\r\n",
       "<!-- x0(t)&#45;&gt;x1(t) -->\r\n",
       "<g id=\"edge3\" class=\"edge\"><title>x0(t)&#45;&gt;x1(t)</title>\r\n",
       "<path fill=\"none\" stroke=\"black\" d=\"M328.17,-93.6904C323.324,-91.4683 318.219,-89.1435 313.447,-87 295.293,-78.8454 289.904,-78.5558 272.447,-69 269.895,-67.6028 244.986,-50.9481 224.564,-37.2385\"/>\r\n",
       "<polygon fill=\"black\" stroke=\"black\" points=\"226.417,-34.267 216.165,-31.5963 222.514,-40.0778 226.417,-34.267\"/>\r\n",
       "<text text-anchor=\"middle\" x=\"286.947\" y=\"-57.8\" font-family=\"Times New Roman,serif\" font-size=\"14.00\">&#45;0.39</text>\r\n",
       "</g>\r\n",
       "<!-- x3(t) -->\r\n",
       "<g id=\"node4\" class=\"node\"><title>x3(t)</title>\r\n",
       "<ellipse fill=\"none\" stroke=\"black\" cx=\"691.447\" cy=\"-18\" rx=\"27.8951\" ry=\"18\"/>\r\n",
       "<text text-anchor=\"middle\" x=\"691.447\" y=\"-14.3\" font-family=\"Times New Roman,serif\" font-size=\"14.00\">x3(t)</text>\r\n",
       "</g>\r\n",
       "<!-- x0(t)&#45;&gt;x3(t) -->\r\n",
       "<g id=\"edge11\" class=\"edge\"><title>x0(t)&#45;&gt;x3(t)</title>\r\n",
       "<path fill=\"none\" stroke=\"black\" d=\"M371.528,-92.906C376.622,-90.6235 382.133,-88.4708 387.447,-87 458.117,-67.4411 482.945,-95.1591 551.447,-69 562.162,-64.9082 562.135,-59.0215 572.447,-54 598.875,-41.1309 630.953,-32.0348 655.141,-26.3469\"/>\r\n",
       "<polygon fill=\"black\" stroke=\"black\" points=\"656.006,-29.7398 664.985,-24.1168 654.459,-22.9128 656.006,-29.7398\"/>\r\n",
       "<text text-anchor=\"middle\" x=\"584.947\" y=\"-57.8\" font-family=\"Times New Roman,serif\" font-size=\"14.00\">0.52</text>\r\n",
       "</g>\r\n",
       "<!-- x2(t) -->\r\n",
       "<g id=\"node3\" class=\"node\"><title>x2(t)</title>\r\n",
       "<ellipse fill=\"none\" stroke=\"black\" cx=\"510.447\" cy=\"-18\" rx=\"27.8951\" ry=\"18\"/>\r\n",
       "<text text-anchor=\"middle\" x=\"510.447\" y=\"-14.3\" font-family=\"Times New Roman,serif\" font-size=\"14.00\">x2(t)</text>\r\n",
       "</g>\r\n",
       "<!-- x4(t) -->\r\n",
       "<g id=\"node5\" class=\"node\"><title>x4(t)</title>\r\n",
       "<ellipse fill=\"none\" stroke=\"black\" cx=\"423.447\" cy=\"-18\" rx=\"27.8951\" ry=\"18\"/>\r\n",
       "<text text-anchor=\"middle\" x=\"423.447\" y=\"-14.3\" font-family=\"Times New Roman,serif\" font-size=\"14.00\">x4(t)</text>\r\n",
       "</g>\r\n",
       "<!-- x0(t&#45;1) -->\r\n",
       "<g id=\"node6\" class=\"node\"><title>x0(t&#45;1)</title>\r\n",
       "<ellipse fill=\"none\" stroke=\"black\" cx=\"182.447\" cy=\"-105\" rx=\"35.194\" ry=\"18\"/>\r\n",
       "<text text-anchor=\"middle\" x=\"182.447\" y=\"-101.3\" font-family=\"Times New Roman,serif\" font-size=\"14.00\">x0(t&#45;1)</text>\r\n",
       "</g>\r\n",
       "<!-- x0(t&#45;1)&#45;&gt;x1(t) -->\r\n",
       "<g id=\"edge4\" class=\"edge\"><title>x0(t&#45;1)&#45;&gt;x1(t)</title>\r\n",
       "<path fill=\"none\" stroke=\"black\" d=\"M174.853,-87.093C171.489,-77.2906 168.989,-64.7906 172.447,-54 173.754,-49.92 175.732,-45.9108 178.013,-42.1456\"/>\r\n",
       "<polygon fill=\"black\" stroke=\"black\" points=\"180.915,-44.1026 183.714,-33.8843 175.153,-40.1264 180.915,-44.1026\"/>\r\n",
       "<text text-anchor=\"middle\" x=\"186.947\" y=\"-57.8\" font-family=\"Times New Roman,serif\" font-size=\"14.00\">&#45;0.32</text>\r\n",
       "</g>\r\n",
       "<!-- x0(t&#45;1)&#45;&gt;x4(t) -->\r\n",
       "<g id=\"edge15\" class=\"edge\"><title>x0(t&#45;1)&#45;&gt;x4(t)</title>\r\n",
       "<path fill=\"none\" stroke=\"black\" d=\"M209.388,-93.2086C215.292,-91.0165 221.543,-88.8258 227.447,-87 259.784,-77.0003 271.02,-83.8277 301.447,-69 311.119,-64.2869 310.994,-59.1385 320.447,-54 341.597,-42.5025 367.221,-33.7775 387.619,-27.9144\"/>\r\n",
       "<polygon fill=\"black\" stroke=\"black\" points=\"388.761,-31.23 397.464,-25.1882 386.893,-24.4839 388.761,-31.23\"/>\r\n",
       "<text text-anchor=\"middle\" x=\"334.947\" y=\"-57.8\" font-family=\"Times New Roman,serif\" font-size=\"14.00\">&#45;0.49</text>\r\n",
       "</g>\r\n",
       "<!-- x1(t&#45;1) -->\r\n",
       "<g id=\"node7\" class=\"node\"><title>x1(t&#45;1)</title>\r\n",
       "<ellipse fill=\"none\" stroke=\"black\" cx=\"793.447\" cy=\"-105\" rx=\"35.194\" ry=\"18\"/>\r\n",
       "<text text-anchor=\"middle\" x=\"793.447\" y=\"-101.3\" font-family=\"Times New Roman,serif\" font-size=\"14.00\">x1(t&#45;1)</text>\r\n",
       "</g>\r\n",
       "<!-- x1(t&#45;1)&#45;&gt;x3(t) -->\r\n",
       "<g id=\"edge12\" class=\"edge\"><title>x1(t&#45;1)&#45;&gt;x3(t)</title>\r\n",
       "<path fill=\"none\" stroke=\"black\" d=\"M775.68,-89.1941C759.148,-75.4175 734.364,-54.7642 715.955,-39.4235\"/>\r\n",
       "<polygon fill=\"black\" stroke=\"black\" points=\"717.921,-36.5057 707.998,-32.7926 713.44,-41.8833 717.921,-36.5057\"/>\r\n",
       "<text text-anchor=\"middle\" x=\"760.947\" y=\"-57.8\" font-family=\"Times New Roman,serif\" font-size=\"14.00\">0.70</text>\r\n",
       "</g>\r\n",
       "<!-- x2(t&#45;1) -->\r\n",
       "<g id=\"node8\" class=\"node\"><title>x2(t&#45;1)</title>\r\n",
       "<ellipse fill=\"none\" stroke=\"black\" cx=\"60.4469\" cy=\"-192\" rx=\"35.194\" ry=\"18\"/>\r\n",
       "<text text-anchor=\"middle\" x=\"60.4469\" y=\"-188.3\" font-family=\"Times New Roman,serif\" font-size=\"14.00\">x2(t&#45;1)</text>\r\n",
       "</g>\r\n",
       "<!-- x2(t&#45;1)&#45;&gt;x0(t) -->\r\n",
       "<g id=\"edge1\" class=\"edge\"><title>x2(t&#45;1)&#45;&gt;x0(t)</title>\r\n",
       "<path fill=\"none\" stroke=\"black\" d=\"M92.5296,-184.201C141.085,-173.504 235.806,-151.045 313.447,-123 315.342,-122.316 317.273,-121.573 319.21,-120.793\"/>\r\n",
       "<polygon fill=\"black\" stroke=\"black\" points=\"320.976,-123.844 328.788,-116.688 318.218,-117.41 320.976,-123.844\"/>\r\n",
       "<text text-anchor=\"middle\" x=\"273.947\" y=\"-144.8\" font-family=\"Times New Roman,serif\" font-size=\"14.00\">&#45;0.42</text>\r\n",
       "</g>\r\n",
       "<!-- x3(t&#45;1) -->\r\n",
       "<g id=\"node9\" class=\"node\"><title>x3(t&#45;1)</title>\r\n",
       "<ellipse fill=\"none\" stroke=\"black\" cx=\"438.447\" cy=\"-192\" rx=\"35.194\" ry=\"18\"/>\r\n",
       "<text text-anchor=\"middle\" x=\"438.447\" y=\"-188.3\" font-family=\"Times New Roman,serif\" font-size=\"14.00\">x3(t&#45;1)</text>\r\n",
       "</g>\r\n",
       "<!-- x4(t&#45;1) -->\r\n",
       "<g id=\"node10\" class=\"node\"><title>x4(t&#45;1)</title>\r\n",
       "<ellipse fill=\"none\" stroke=\"black\" cx=\"350.447\" cy=\"-192\" rx=\"35.194\" ry=\"18\"/>\r\n",
       "<text text-anchor=\"middle\" x=\"350.447\" y=\"-188.3\" font-family=\"Times New Roman,serif\" font-size=\"14.00\">x4(t&#45;1)</text>\r\n",
       "</g>\r\n",
       "<!-- x4(t&#45;1)&#45;&gt;x0(t) -->\r\n",
       "<g id=\"edge2\" class=\"edge\"><title>x4(t&#45;1)&#45;&gt;x0(t)</title>\r\n",
       "<path fill=\"none\" stroke=\"black\" d=\"M350.447,-173.799C350.447,-162.163 350.447,-146.548 350.447,-133.237\"/>\r\n",
       "<polygon fill=\"black\" stroke=\"black\" points=\"353.947,-133.175 350.447,-123.175 346.947,-133.175 353.947,-133.175\"/>\r\n",
       "<text text-anchor=\"middle\" x=\"362.947\" y=\"-144.8\" font-family=\"Times New Roman,serif\" font-size=\"14.00\">0.59</text>\r\n",
       "</g>\r\n",
       "<!-- x4(t&#45;1)&#45;&gt;x1(t) -->\r\n",
       "<g id=\"edge5\" class=\"edge\"><title>x4(t&#45;1)&#45;&gt;x1(t)</title>\r\n",
       "<path fill=\"none\" stroke=\"black\" d=\"M316.66,-186.319C257.24,-177.319 137.982,-155.564 113.447,-123 89.6383,-91.3995 134.787,-55.7679 167.612,-35.4867\"/>\r\n",
       "<polygon fill=\"black\" stroke=\"black\" points=\"169.687,-38.3238 176.476,-30.1895 166.096,-32.315 169.687,-38.3238\"/>\r\n",
       "<text text-anchor=\"middle\" x=\"125.947\" y=\"-101.3\" font-family=\"Times New Roman,serif\" font-size=\"14.00\">0.38</text>\r\n",
       "</g>\r\n",
       "<!-- x4(t&#45;1)&#45;&gt;x3(t) -->\r\n",
       "<g id=\"edge13\" class=\"edge\"><title>x4(t&#45;1)&#45;&gt;x3(t)</title>\r\n",
       "<path fill=\"none\" stroke=\"black\" d=\"M376.697,-179.928C382.476,-177.753 388.613,-175.64 394.447,-174 516.637,-139.641 578.188,-204.558 675.447,-123 697.151,-104.8 698.433,-70.4941 696.07,-46.2694\"/>\r\n",
       "<polygon fill=\"black\" stroke=\"black\" points=\"699.533,-45.7583 694.835,-36.262 692.586,-46.6153 699.533,-45.7583\"/>\r\n",
       "<text text-anchor=\"middle\" x=\"708.947\" y=\"-101.3\" font-family=\"Times New Roman,serif\" font-size=\"14.00\">&#45;0.81</text>\r\n",
       "</g>\r\n",
       "<!-- ε0(t&#45;1) -->\r\n",
       "<g id=\"node11\" class=\"node\"><title>ε0(t&#45;1)</title>\r\n",
       "<ellipse fill=\"none\" stroke=\"black\" cx=\"270.447\" cy=\"-105\" rx=\"34.394\" ry=\"18\"/>\r\n",
       "<text text-anchor=\"middle\" x=\"270.447\" y=\"-101.3\" font-family=\"Times New Roman,serif\" font-size=\"14.00\">ε0(t&#45;1)</text>\r\n",
       "</g>\r\n",
       "<!-- ε0(t&#45;1)&#45;&gt;x1(t) -->\r\n",
       "<g id=\"edge6\" class=\"edge\"><title>ε0(t&#45;1)&#45;&gt;x1(t)</title>\r\n",
       "<path fill=\"none\" stroke=\"black\" d=\"M249.165,-90.6887C240.781,-84.7507 231.493,-77.2348 224.447,-69 218.362,-61.8883 213.079,-53.1804 208.839,-45.0363\"/>\r\n",
       "<polygon fill=\"black\" stroke=\"black\" points=\"211.891,-43.3111 204.355,-35.8641 205.603,-46.3853 211.891,-43.3111\"/>\r\n",
       "<text text-anchor=\"middle\" x=\"236.947\" y=\"-57.8\" font-family=\"Times New Roman,serif\" font-size=\"14.00\">0.38</text>\r\n",
       "</g>\r\n",
       "<!-- ε1(t&#45;1) -->\r\n",
       "<g id=\"node12\" class=\"node\"><title>ε1(t&#45;1)</title>\r\n",
       "<ellipse fill=\"none\" stroke=\"black\" cx=\"430.447\" cy=\"-105\" rx=\"34.394\" ry=\"18\"/>\r\n",
       "<text text-anchor=\"middle\" x=\"430.447\" y=\"-101.3\" font-family=\"Times New Roman,serif\" font-size=\"14.00\">ε1(t&#45;1)</text>\r\n",
       "</g>\r\n",
       "<!-- ε1(t&#45;1)&#45;&gt;x1(t) -->\r\n",
       "<g id=\"edge7\" class=\"edge\"><title>ε1(t&#45;1)&#45;&gt;x1(t)</title>\r\n",
       "<path fill=\"none\" stroke=\"black\" d=\"M412.202,-89.4681C397.227,-78.2252 375.043,-63.0878 353.447,-54 314.664,-37.6798 267.11,-28.415 234.772,-23.5726\"/>\r\n",
       "<polygon fill=\"black\" stroke=\"black\" points=\"235.233,-20.1029 224.838,-22.1524 234.242,-27.0325 235.233,-20.1029\"/>\r\n",
       "<text text-anchor=\"middle\" x=\"392.947\" y=\"-57.8\" font-family=\"Times New Roman,serif\" font-size=\"14.00\">0.32</text>\r\n",
       "</g>\r\n",
       "<!-- ε1(t&#45;1)&#45;&gt;x2(t) -->\r\n",
       "<g id=\"edge9\" class=\"edge\"><title>ε1(t&#45;1)&#45;&gt;x2(t)</title>\r\n",
       "<path fill=\"none\" stroke=\"black\" d=\"M445.12,-88.4097C457.566,-75.1862 475.568,-56.0585 489.525,-41.2299\"/>\r\n",
       "<polygon fill=\"black\" stroke=\"black\" points=\"492.098,-43.6022 496.403,-33.9214 487.001,-38.8046 492.098,-43.6022\"/>\r\n",
       "<text text-anchor=\"middle\" x=\"489.947\" y=\"-57.8\" font-family=\"Times New Roman,serif\" font-size=\"14.00\">&#45;0.62</text>\r\n",
       "</g>\r\n",
       "<!-- ε1(t&#45;1)&#45;&gt;x4(t) -->\r\n",
       "<g id=\"edge16\" class=\"edge\"><title>ε1(t&#45;1)&#45;&gt;x4(t)</title>\r\n",
       "<path fill=\"none\" stroke=\"black\" d=\"M427.003,-86.9787C425.992,-81.2866 425.008,-74.8918 424.447,-69 423.751,-61.683 423.405,-53.7375 423.255,-46.3794\"/>\r\n",
       "<polygon fill=\"black\" stroke=\"black\" points=\"426.753,-46.1266 423.157,-36.1608 419.753,-46.1941 426.753,-46.1266\"/>\r\n",
       "<text text-anchor=\"middle\" x=\"436.947\" y=\"-57.8\" font-family=\"Times New Roman,serif\" font-size=\"14.00\">0.40</text>\r\n",
       "</g>\r\n",
       "<!-- ε2(t&#45;1) -->\r\n",
       "<g id=\"node13\" class=\"node\"><title>ε2(t&#45;1)</title>\r\n",
       "<ellipse fill=\"none\" stroke=\"black\" cx=\"632.447\" cy=\"-105\" rx=\"34.394\" ry=\"18\"/>\r\n",
       "<text text-anchor=\"middle\" x=\"632.447\" y=\"-101.3\" font-family=\"Times New Roman,serif\" font-size=\"14.00\">ε2(t&#45;1)</text>\r\n",
       "</g>\r\n",
       "<!-- ε2(t&#45;1)&#45;&gt;x3(t) -->\r\n",
       "<g id=\"edge14\" class=\"edge\"><title>ε2(t&#45;1)&#45;&gt;x3(t)</title>\r\n",
       "<path fill=\"none\" stroke=\"black\" d=\"M643.823,-87.6111C652.586,-74.9868 664.832,-57.3438 674.712,-43.1103\"/>\r\n",
       "<polygon fill=\"black\" stroke=\"black\" points=\"677.678,-44.9745 680.505,-34.7638 671.928,-40.983 677.678,-44.9745\"/>\r\n",
       "<text text-anchor=\"middle\" x=\"678.947\" y=\"-57.8\" font-family=\"Times New Roman,serif\" font-size=\"14.00\">0.31</text>\r\n",
       "</g>\r\n",
       "<!-- ε2(t&#45;1)&#45;&gt;x4(t) -->\r\n",
       "<g id=\"edge17\" class=\"edge\"><title>ε2(t&#45;1)&#45;&gt;x4(t)</title>\r\n",
       "<path fill=\"none\" stroke=\"black\" d=\"M626.285,-86.8302C621.34,-75.6258 613.254,-61.6978 601.447,-54 553.323,-22.6247 529.334,-49.3052 473.447,-36 467.928,-34.6861 462.156,-33.0142 456.576,-31.2342\"/>\r\n",
       "<polygon fill=\"black\" stroke=\"black\" points=\"457.428,-27.8285 446.834,-27.9672 455.202,-34.4653 457.428,-27.8285\"/>\r\n",
       "<text text-anchor=\"middle\" x=\"628.947\" y=\"-57.8\" font-family=\"Times New Roman,serif\" font-size=\"14.00\">0.41</text>\r\n",
       "</g>\r\n",
       "<!-- ε3(t&#45;1) -->\r\n",
       "<g id=\"node14\" class=\"node\"><title>ε3(t&#45;1)</title>\r\n",
       "<ellipse fill=\"none\" stroke=\"black\" cx=\"523.447\" cy=\"-105\" rx=\"34.394\" ry=\"18\"/>\r\n",
       "<text text-anchor=\"middle\" x=\"523.447\" y=\"-101.3\" font-family=\"Times New Roman,serif\" font-size=\"14.00\">ε3(t&#45;1)</text>\r\n",
       "</g>\r\n",
       "<!-- ε3(t&#45;1)&#45;&gt;x2(t) -->\r\n",
       "<g id=\"edge10\" class=\"edge\"><title>ε3(t&#45;1)&#45;&gt;x2(t)</title>\r\n",
       "<path fill=\"none\" stroke=\"black\" d=\"M520.816,-86.799C519.037,-75.1626 516.648,-59.5479 514.613,-46.2368\"/>\r\n",
       "<polygon fill=\"black\" stroke=\"black\" points=\"518.045,-45.5313 513.074,-36.1754 511.126,-46.5897 518.045,-45.5313\"/>\r\n",
       "<text text-anchor=\"middle\" x=\"532.947\" y=\"-57.8\" font-family=\"Times New Roman,serif\" font-size=\"14.00\">&#45;0.30</text>\r\n",
       "</g>\r\n",
       "<!-- ε4(t&#45;1) -->\r\n",
       "<g id=\"node15\" class=\"node\"><title>ε4(t&#45;1)</title>\r\n",
       "<ellipse fill=\"none\" stroke=\"black\" cx=\"34.4469\" cy=\"-105\" rx=\"34.394\" ry=\"18\"/>\r\n",
       "<text text-anchor=\"middle\" x=\"34.4469\" y=\"-101.3\" font-family=\"Times New Roman,serif\" font-size=\"14.00\">ε4(t&#45;1)</text>\r\n",
       "</g>\r\n",
       "<!-- ε4(t&#45;1)&#45;&gt;x1(t) -->\r\n",
       "<g id=\"edge8\" class=\"edge\"><title>ε4(t&#45;1)&#45;&gt;x1(t)</title>\r\n",
       "<path fill=\"none\" stroke=\"black\" d=\"M40.9149,-87.2708C45.9972,-76.263 54.1205,-62.389 65.4469,-54 92.8148,-33.7298 131.031,-25.1877 159.304,-21.5941\"/>\r\n",
       "<polygon fill=\"black\" stroke=\"black\" points=\"160.059,-25.0317 169.609,-20.445 159.283,-18.0748 160.059,-25.0317\"/>\r\n",
       "<text text-anchor=\"middle\" x=\"77.9469\" y=\"-57.8\" font-family=\"Times New Roman,serif\" font-size=\"14.00\">0.57</text>\r\n",
       "</g>\r\n",
       "</g>\r\n",
       "</svg>\r\n"
      ],
      "text/plain": [
       "<graphviz.dot.Digraph at 0x1af9d14a888>"
      ]
     },
     "execution_count": 7,
     "metadata": {},
     "output_type": "execute_result"
    }
   ],
   "source": [
    "labels = ['x0(t)', 'x1(t)', 'x2(t)', 'x3(t)', 'x4(t)', 'x0(t-1)', 'x1(t-1)', 'x2(t-1)', 'x3(t-1)', 'x4(t-1)', 'ε0(t-1)', 'ε1(t-1)', 'ε2(t-1)', 'ε3(t-1)', 'ε4(t-1)']\n",
    "make_dot(np.hstack([np.hstack(model.adjacency_matrices_[0]), np.hstack(model.adjacency_matrices_[1])]), lower_limit=0.3, ignore_shape=True, labels=labels)"
   ]
  },
  {
   "cell_type": "markdown",
   "metadata": {},
   "source": [
    "## Bootstrap"
   ]
  },
  {
   "cell_type": "markdown",
   "metadata": {},
   "source": [
    "### Bootstrapping\n",
    "We call `bootstrap()` method instead of `fit()`. Here, the second argument specifies the number of bootstrap sampling."
   ]
  },
  {
   "cell_type": "code",
   "execution_count": 8,
   "metadata": {},
   "outputs": [],
   "source": [
    "model = lingam.VARMALiNGAM()\n",
    "result = model.bootstrap(X, 100)"
   ]
  },
  {
   "cell_type": "markdown",
   "metadata": {},
   "source": [
    "Since `BootstrapResult` object is returned, we can get the ranking of the causal directions extracted by `get_causal_direction_counts()` method. In the following sample code, `n_directions` option is limited to the causal directions of the top 8 rankings, and `min_causal_effect` option is limited to causal directions with a coefficient of 0.4 or more."
   ]
  },
  {
   "cell_type": "code",
   "execution_count": 9,
   "metadata": {},
   "outputs": [],
   "source": [
    "cdc = result.get_causal_direction_counts(n_directions=8, min_causal_effect=0.4, split_by_causal_effect_sign=True)"
   ]
  },
  {
   "cell_type": "markdown",
   "metadata": {},
   "source": [
    "We can check the result by utility function."
   ]
  },
  {
   "cell_type": "code",
   "execution_count": 10,
   "metadata": {},
   "outputs": [
    {
     "name": "stdout",
     "output_type": "stream",
     "text": [
      "x4(t) <--- x0(t-1) (b<0) (100.0%)\n",
      "x0(t) <--- x2(t-1) (b<0) (99.0%)\n",
      "x3(t) <--- x1(t-1) (b>0) (95.0%)\n",
      "x0(t) <--- x4(t-1) (b>0) (75.0%)\n",
      "x4(t) <--- x4(t-1) (b>0) (68.0%)\n",
      "x3(t) <--- x2(t) (b<0) (51.0%)\n",
      "x3(t) <--- x4(t-1) (b<0) (49.0%)\n",
      "x2(t) <--- x1(t-1) (b>0) (22.0%)\n"
     ]
    }
   ],
   "source": [
    "print_causal_directions(cdc, 100, labels=labels)"
   ]
  },
  {
   "cell_type": "markdown",
   "metadata": {},
   "source": [
    "Also, using the `get_directed_acyclic_graph_counts()` method, we can get the ranking of the DAGs extracted. In the following sample code, `n_dags` option is limited to the dags of the top 3 rankings, and `min_causal_effect` option is limited to causal directions with a coefficient of 0.3 or more."
   ]
  },
  {
   "cell_type": "code",
   "execution_count": 11,
   "metadata": {},
   "outputs": [],
   "source": [
    "dagc = result.get_directed_acyclic_graph_counts(n_dags=3, min_causal_effect=0.3, split_by_causal_effect_sign=True)"
   ]
  },
  {
   "cell_type": "markdown",
   "metadata": {},
   "source": [
    "We can check the result by utility function."
   ]
  },
  {
   "cell_type": "code",
   "execution_count": 12,
   "metadata": {},
   "outputs": [
    {
     "name": "stdout",
     "output_type": "stream",
     "text": [
      "DAG[0]: 4.0%\n",
      "\tx0(t) <--- x3(t) (b<0)\n",
      "\tx0(t) <--- x2(t-1) (b<0)\n",
      "\tx0(t) <--- x4(t-1) (b>0)\n",
      "\tx1(t) <--- x0(t-1) (b<0)\n",
      "\tx2(t) <--- x3(t) (b<0)\n",
      "\tx2(t) <--- x1(t-1) (b>0)\n",
      "\tx3(t) <--- x1(t-1) (b>0)\n",
      "\tx3(t) <--- x4(t-1) (b<0)\n",
      "\tx4(t) <--- x3(t) (b>0)\n",
      "\tx4(t) <--- x0(t-1) (b<0)\n",
      "\tx4(t) <--- x2(t-1) (b<0)\n",
      "\tx4(t) <--- x4(t-1) (b>0)\n",
      "DAG[1]: 3.0%\n",
      "\tx0(t) <--- x1(t-1) (b<0)\n",
      "\tx0(t) <--- x2(t-1) (b<0)\n",
      "\tx0(t) <--- x4(t-1) (b>0)\n",
      "\tx1(t) <--- x0(t-1) (b<0)\n",
      "\tx2(t) <--- x1(t) (b<0)\n",
      "\tx2(t) <--- x3(t) (b<0)\n",
      "\tx2(t) <--- x0(t-1) (b<0)\n",
      "\tx2(t) <--- x1(t-1) (b>0)\n",
      "\tx3(t) <--- x0(t) (b<0)\n",
      "\tx3(t) <--- x1(t-1) (b>0)\n",
      "\tx3(t) <--- x4(t-1) (b<0)\n",
      "\tx4(t) <--- x3(t) (b>0)\n",
      "\tx4(t) <--- x0(t-1) (b<0)\n",
      "\tx4(t) <--- x2(t-1) (b<0)\n",
      "\tx4(t) <--- x4(t-1) (b>0)\n",
      "DAG[2]: 3.0%\n",
      "\tx0(t) <--- x3(t) (b<0)\n",
      "\tx0(t) <--- x2(t-1) (b<0)\n",
      "\tx0(t) <--- x4(t-1) (b>0)\n",
      "\tx1(t) <--- x0(t-1) (b<0)\n",
      "\tx2(t) <--- x0(t-1) (b<0)\n",
      "\tx2(t) <--- x4(t-1) (b>0)\n",
      "\tx3(t) <--- x1(t) (b<0)\n",
      "\tx3(t) <--- x2(t) (b<0)\n",
      "\tx3(t) <--- x1(t-1) (b>0)\n",
      "\tx3(t) <--- x3(t-1) (b>0)\n",
      "\tx3(t) <--- x4(t-1) (b<0)\n",
      "\tx4(t) <--- x3(t) (b>0)\n",
      "\tx4(t) <--- x0(t-1) (b<0)\n",
      "\tx4(t) <--- x4(t-1) (b>0)\n"
     ]
    }
   ],
   "source": [
    "print_dagc(dagc, 100, labels=labels)"
   ]
  }
 ],
 "metadata": {
  "kernelspec": {
   "display_name": "Python 3",
   "language": "python",
   "name": "python3"
  },
  "language_info": {
   "codemirror_mode": {
    "name": "ipython",
    "version": 3
   },
   "file_extension": ".py",
   "mimetype": "text/x-python",
   "name": "python",
   "nbconvert_exporter": "python",
   "pygments_lexer": "ipython3",
   "version": "3.7.6"
  }
 },
 "nbformat": 4,
 "nbformat_minor": 4
}
