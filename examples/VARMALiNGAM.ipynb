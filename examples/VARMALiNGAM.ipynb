{
 "cells": [
  {
   "cell_type": "markdown",
   "metadata": {},
   "source": [
    "# VARMALiNGAM"
   ]
  },
  {
   "cell_type": "markdown",
   "metadata": {},
   "source": [
    "## Import and settings\n",
    "In this example, we need to import `numpy`, `pandas`, and `graphviz` in addition to `lingam`."
   ]
  },
  {
   "cell_type": "code",
   "execution_count": 1,
   "metadata": {},
   "outputs": [
    {
     "name": "stdout",
     "output_type": "stream",
     "text": [
      "['1.16.2', '0.24.2', '0.11.1', '1.2.1']\n"
     ]
    }
   ],
   "source": [
    "import numpy as np\n",
    "import pandas as pd\n",
    "import graphviz\n",
    "import lingam\n",
    "from lingam.utils import make_dot, print_causal_directions, print_dagc\n",
    "\n",
    "import warnings\n",
    "warnings.filterwarnings('ignore')\n",
    "\n",
    "print([np.__version__, pd.__version__, graphviz.__version__, lingam.__version__])\n",
    "\n",
    "np.set_printoptions(precision=3, suppress=True)\n",
    "np.random.seed(0)"
   ]
  },
  {
   "cell_type": "markdown",
   "metadata": {},
   "source": [
    "## Test data\n",
    "We create test data consisting of 5 variables."
   ]
  },
  {
   "cell_type": "code",
   "execution_count": 2,
   "metadata": {},
   "outputs": [],
   "source": [
    "psi0 = np.array([\n",
    "    [ 0.  ,  0.  , -0.25,  0.  ,  0.  ],\n",
    "    [-0.38,  0.  ,  0.14,  0.  ,  0.  ],\n",
    "    [ 0.  ,  0.  ,  0.  ,  0.  ,  0.  ],\n",
    "    [ 0.44, -0.2 , -0.09,  0.  ,  0.  ],\n",
    "    [ 0.07, -0.06,  0.  ,  0.07,  0.  ]\n",
    "])\n",
    "phi1 = np.array([\n",
    "    [-0.04, -0.29, -0.26,  0.14,  0.47],\n",
    "    [-0.42,  0.2 ,  0.1 ,  0.24,  0.25],\n",
    "    [-0.25,  0.18, -0.06,  0.15,  0.18],\n",
    "    [ 0.22,  0.39,  0.08,  0.12, -0.37],\n",
    "    [-0.43,  0.09, -0.23,  0.16,  0.25]\n",
    "])\n",
    "theta1 = np.array([\n",
    "    [ 0.15, -0.02, -0.3 , -0.2 ,  0.21],\n",
    "    [ 0.32,  0.12, -0.11,  0.03,  0.42],\n",
    "    [-0.07, -0.5 ,  0.03, -0.27, -0.21],\n",
    "    [-0.17,  0.35,  0.25,  0.24, -0.25],\n",
    "    [ 0.09,  0.4 ,  0.41,  0.24, -0.31]\n",
    "])\n",
    "causal_order = [2, 0, 1, 3, 4]\n",
    "\n",
    "# data generated from psi0 and phi1 and theta1, causal_order\n",
    "X = np.loadtxt('data/sample_data_varma_lingam.csv', delimiter=',')"
   ]
  },
  {
   "cell_type": "markdown",
   "metadata": {},
   "source": [
    "## Causal Discovery\n",
    "To run causal discovery, we create a `VARMALiNGAM` object and call the `fit` method."
   ]
  },
  {
   "cell_type": "code",
   "execution_count": 3,
   "metadata": {},
   "outputs": [
    {
     "data": {
      "text/plain": [
       "<lingam.varma_lingam.VARMALiNGAM at 0x2754c606e80>"
      ]
     },
     "execution_count": 3,
     "metadata": {},
     "output_type": "execute_result"
    }
   ],
   "source": [
    "model = lingam.VARMALiNGAM(order=(1, 1), criterion=None)\n",
    "model.fit(X)"
   ]
  },
  {
   "cell_type": "markdown",
   "metadata": {},
   "source": [
    "Using the `causal_order_` properties, we can see the causal ordering as a result of the causal discovery."
   ]
  },
  {
   "cell_type": "code",
   "execution_count": 4,
   "metadata": {},
   "outputs": [
    {
     "data": {
      "text/plain": [
       "[2, 0, 1, 3, 4]"
      ]
     },
     "execution_count": 4,
     "metadata": {},
     "output_type": "execute_result"
    }
   ],
   "source": [
    "model.causal_order_"
   ]
  },
  {
   "cell_type": "markdown",
   "metadata": {},
   "source": [
    "Also, using the `adjacency_matrices_` properties, we can see the adjacency matrix as a result of the causal discovery."
   ]
  },
  {
   "cell_type": "code",
   "execution_count": 5,
   "metadata": {},
   "outputs": [
    {
     "data": {
      "text/plain": [
       "array([[ 0.   ,  0.   , -0.238,  0.   ,  0.   ],\n",
       "       [-0.392,  0.   ,  0.182,  0.   ,  0.   ],\n",
       "       [ 0.   ,  0.   ,  0.   ,  0.   ,  0.   ],\n",
       "       [ 0.523, -0.149,  0.   ,  0.   ,  0.   ],\n",
       "       [ 0.   ,  0.   ,  0.   ,  0.   ,  0.   ]])"
      ]
     },
     "execution_count": 5,
     "metadata": {},
     "output_type": "execute_result"
    }
   ],
   "source": [
    "# psi0\n",
    "model.adjacency_matrices_[0][0]"
   ]
  },
  {
   "cell_type": "code",
   "execution_count": 6,
   "metadata": {},
   "outputs": [
    {
     "data": {
      "text/plain": [
       "array([[-0.145, -0.288, -0.418,  0.041,  0.592],\n",
       "       [-0.324,  0.027,  0.024,  0.231,  0.379],\n",
       "       [-0.249,  0.191, -0.01 ,  0.136,  0.261],\n",
       "       [ 0.182,  0.698,  0.21 ,  0.197, -0.815],\n",
       "       [-0.486,  0.063, -0.263,  0.112,  0.26 ]])"
      ]
     },
     "execution_count": 6,
     "metadata": {},
     "output_type": "execute_result"
    }
   ],
   "source": [
    "# psi1\n",
    "model.adjacency_matrices_[0][1]"
   ]
  },
  {
   "cell_type": "code",
   "execution_count": 7,
   "metadata": {},
   "outputs": [
    {
     "data": {
      "text/plain": [
       "array([[ 0.247, -0.12 , -0.128, -0.124,  0.037],\n",
       "       [ 0.378,  0.319, -0.12 , -0.023,  0.573],\n",
       "       [-0.107, -0.624,  0.012, -0.303, -0.246],\n",
       "       [-0.22 ,  0.26 ,  0.313,  0.227, -0.057],\n",
       "       [ 0.255,  0.405,  0.41 ,  0.256, -0.286]])"
      ]
     },
     "execution_count": 7,
     "metadata": {},
     "output_type": "execute_result"
    }
   ],
   "source": [
    "# omega0\n",
    "model.adjacency_matrices_[1][0]"
   ]
  },
  {
   "cell_type": "markdown",
   "metadata": {},
   "source": [
    "We can draw a causal graph by utility funciton"
   ]
  },
  {
   "cell_type": "code",
   "execution_count": 8,
   "metadata": {},
   "outputs": [
    {
     "data": {
      "image/svg+xml": [
       "<?xml version=\"1.0\" encoding=\"UTF-8\" standalone=\"no\"?>\r\n",
       "<!DOCTYPE svg PUBLIC \"-//W3C//DTD SVG 1.1//EN\"\r\n",
       " \"http://www.w3.org/Graphics/SVG/1.1/DTD/svg11.dtd\">\r\n",
       "<!-- Generated by graphviz version 2.38.0 (20140413.2041)\r\n",
       " -->\r\n",
       "<!-- Title: %3 Pages: 1 -->\r\n",
       "<svg width=\"469pt\" height=\"218pt\"\r\n",
       " viewBox=\"0.00 0.00 469.04 218.00\" xmlns=\"http://www.w3.org/2000/svg\" xmlns:xlink=\"http://www.w3.org/1999/xlink\">\r\n",
       "<g id=\"graph0\" class=\"graph\" transform=\"scale(1 1) rotate(0) translate(4 214)\">\r\n",
       "<title>%3</title>\r\n",
       "<polygon fill=\"white\" stroke=\"none\" points=\"-4,4 -4,-214 465.044,-214 465.044,4 -4,4\"/>\r\n",
       "<!-- y0(t) -->\r\n",
       "<g id=\"node1\" class=\"node\"><title>y0(t)</title>\r\n",
       "<ellipse fill=\"none\" stroke=\"black\" cx=\"194.948\" cy=\"-105\" rx=\"27.8951\" ry=\"18\"/>\r\n",
       "<text text-anchor=\"middle\" x=\"194.948\" y=\"-101.3\" font-family=\"Times New Roman,serif\" font-size=\"14.00\">y0(t)</text>\r\n",
       "</g>\r\n",
       "<!-- y1(t) -->\r\n",
       "<g id=\"node2\" class=\"node\"><title>y1(t)</title>\r\n",
       "<ellipse fill=\"none\" stroke=\"black\" cx=\"123.948\" cy=\"-18\" rx=\"27.8951\" ry=\"18\"/>\r\n",
       "<text text-anchor=\"middle\" x=\"123.948\" y=\"-14.3\" font-family=\"Times New Roman,serif\" font-size=\"14.00\">y1(t)</text>\r\n",
       "</g>\r\n",
       "<!-- y0(t)&#45;&gt;y1(t) -->\r\n",
       "<g id=\"edge3\" class=\"edge\"><title>y0(t)&#45;&gt;y1(t)</title>\r\n",
       "<path fill=\"none\" stroke=\"black\" d=\"M182.254,-88.8037C171.417,-75.8301 155.664,-56.9699 143.262,-42.1235\"/>\r\n",
       "<polygon fill=\"black\" stroke=\"black\" points=\"145.867,-39.7824 136.77,-34.3513 140.495,-44.2699 145.867,-39.7824\"/>\r\n",
       "<text text-anchor=\"middle\" x=\"178.448\" y=\"-57.8\" font-family=\"Times New Roman,serif\" font-size=\"14.00\">&#45;0.39</text>\r\n",
       "</g>\r\n",
       "<!-- y3(t) -->\r\n",
       "<g id=\"node4\" class=\"node\"><title>y3(t)</title>\r\n",
       "<ellipse fill=\"none\" stroke=\"black\" cx=\"275.948\" cy=\"-18\" rx=\"27.8951\" ry=\"18\"/>\r\n",
       "<text text-anchor=\"middle\" x=\"275.948\" y=\"-14.3\" font-family=\"Times New Roman,serif\" font-size=\"14.00\">y3(t)</text>\r\n",
       "</g>\r\n",
       "<!-- y0(t)&#45;&gt;y3(t) -->\r\n",
       "<g id=\"edge6\" class=\"edge\"><title>y0(t)&#45;&gt;y3(t)</title>\r\n",
       "<path fill=\"none\" stroke=\"black\" d=\"M209.057,-89.1941C221.717,-75.9087 240.471,-56.2284 254.903,-41.0842\"/>\r\n",
       "<polygon fill=\"black\" stroke=\"black\" points=\"257.635,-43.2901 262,-33.6362 252.568,-38.461 257.635,-43.2901\"/>\r\n",
       "<text text-anchor=\"middle\" x=\"253.448\" y=\"-57.8\" font-family=\"Times New Roman,serif\" font-size=\"14.00\">0.52</text>\r\n",
       "</g>\r\n",
       "<!-- y2(t) -->\r\n",
       "<g id=\"node3\" class=\"node\"><title>y2(t)</title>\r\n",
       "<ellipse fill=\"none\" stroke=\"black\" cx=\"344.948\" cy=\"-192\" rx=\"27.8951\" ry=\"18\"/>\r\n",
       "<text text-anchor=\"middle\" x=\"344.948\" y=\"-188.3\" font-family=\"Times New Roman,serif\" font-size=\"14.00\">y2(t)</text>\r\n",
       "</g>\r\n",
       "<!-- y4(t) -->\r\n",
       "<g id=\"node5\" class=\"node\"><title>y4(t)</title>\r\n",
       "<ellipse fill=\"none\" stroke=\"black\" cx=\"27.9475\" cy=\"-18\" rx=\"27.8951\" ry=\"18\"/>\r\n",
       "<text text-anchor=\"middle\" x=\"27.9475\" y=\"-14.3\" font-family=\"Times New Roman,serif\" font-size=\"14.00\">y4(t)</text>\r\n",
       "</g>\r\n",
       "<!-- y0(t&#45;1) -->\r\n",
       "<g id=\"node6\" class=\"node\"><title>y0(t&#45;1)</title>\r\n",
       "<ellipse fill=\"none\" stroke=\"black\" cx=\"39.9475\" cy=\"-105\" rx=\"35.194\" ry=\"18\"/>\r\n",
       "<text text-anchor=\"middle\" x=\"39.9475\" y=\"-101.3\" font-family=\"Times New Roman,serif\" font-size=\"14.00\">y0(t&#45;1)</text>\r\n",
       "</g>\r\n",
       "<!-- y0(t&#45;1)&#45;&gt;y1(t) -->\r\n",
       "<g id=\"edge4\" class=\"edge\"><title>y0(t&#45;1)&#45;&gt;y1(t)</title>\r\n",
       "<path fill=\"none\" stroke=\"black\" d=\"M51.7469,-87.9905C59.5576,-77.8191 70.2915,-64.6174 80.9475,-54 86.2917,-48.6752 92.3939,-43.3303 98.2892,-38.4766\"/>\r\n",
       "<polygon fill=\"black\" stroke=\"black\" points=\"100.494,-41.195 106.109,-32.2106 96.1168,-35.7323 100.494,-41.195\"/>\r\n",
       "<text text-anchor=\"middle\" x=\"95.4475\" y=\"-57.8\" font-family=\"Times New Roman,serif\" font-size=\"14.00\">&#45;0.32</text>\r\n",
       "</g>\r\n",
       "<!-- y0(t&#45;1)&#45;&gt;y4(t) -->\r\n",
       "<g id=\"edge9\" class=\"edge\"><title>y0(t&#45;1)&#45;&gt;y4(t)</title>\r\n",
       "<path fill=\"none\" stroke=\"black\" d=\"M33.5855,-87.1457C31.7291,-81.4648 29.9353,-75.0343 28.9475,-69 27.7602,-61.7464 27.2487,-53.8225 27.096,-46.4647\"/>\r\n",
       "<polygon fill=\"black\" stroke=\"black\" points=\"30.5961,-46.2325 27.0921,-36.2339 23.5961,-46.2353 30.5961,-46.2325\"/>\r\n",
       "<text text-anchor=\"middle\" x=\"43.4475\" y=\"-57.8\" font-family=\"Times New Roman,serif\" font-size=\"14.00\">&#45;0.49</text>\r\n",
       "</g>\r\n",
       "<!-- y1(t&#45;1) -->\r\n",
       "<g id=\"node7\" class=\"node\"><title>y1(t&#45;1)</title>\r\n",
       "<ellipse fill=\"none\" stroke=\"black\" cx=\"275.948\" cy=\"-105\" rx=\"35.194\" ry=\"18\"/>\r\n",
       "<text text-anchor=\"middle\" x=\"275.948\" y=\"-101.3\" font-family=\"Times New Roman,serif\" font-size=\"14.00\">y1(t&#45;1)</text>\r\n",
       "</g>\r\n",
       "<!-- y1(t&#45;1)&#45;&gt;y3(t) -->\r\n",
       "<g id=\"edge7\" class=\"edge\"><title>y1(t&#45;1)&#45;&gt;y3(t)</title>\r\n",
       "<path fill=\"none\" stroke=\"black\" d=\"M275.948,-86.799C275.948,-75.1626 275.948,-59.5479 275.948,-46.2368\"/>\r\n",
       "<polygon fill=\"black\" stroke=\"black\" points=\"279.448,-46.1754 275.948,-36.1754 272.448,-46.1755 279.448,-46.1754\"/>\r\n",
       "<text text-anchor=\"middle\" x=\"288.448\" y=\"-57.8\" font-family=\"Times New Roman,serif\" font-size=\"14.00\">0.70</text>\r\n",
       "</g>\r\n",
       "<!-- y2(t&#45;1) -->\r\n",
       "<g id=\"node8\" class=\"node\"><title>y2(t&#45;1)</title>\r\n",
       "<ellipse fill=\"none\" stroke=\"black\" cx=\"175.948\" cy=\"-192\" rx=\"35.194\" ry=\"18\"/>\r\n",
       "<text text-anchor=\"middle\" x=\"175.948\" y=\"-188.3\" font-family=\"Times New Roman,serif\" font-size=\"14.00\">y2(t&#45;1)</text>\r\n",
       "</g>\r\n",
       "<!-- y2(t&#45;1)&#45;&gt;y0(t) -->\r\n",
       "<g id=\"edge1\" class=\"edge\"><title>y2(t&#45;1)&#45;&gt;y0(t)</title>\r\n",
       "<path fill=\"none\" stroke=\"black\" d=\"M179.792,-173.799C182.411,-162.086 185.93,-146.342 188.918,-132.974\"/>\r\n",
       "<polygon fill=\"black\" stroke=\"black\" points=\"192.407,-133.408 191.173,-122.885 185.576,-131.881 192.407,-133.408\"/>\r\n",
       "<text text-anchor=\"middle\" x=\"201.448\" y=\"-144.8\" font-family=\"Times New Roman,serif\" font-size=\"14.00\">&#45;0.42</text>\r\n",
       "</g>\r\n",
       "<!-- y3(t&#45;1) -->\r\n",
       "<g id=\"node9\" class=\"node\"><title>y3(t&#45;1)</title>\r\n",
       "<ellipse fill=\"none\" stroke=\"black\" cx=\"425.948\" cy=\"-192\" rx=\"35.194\" ry=\"18\"/>\r\n",
       "<text text-anchor=\"middle\" x=\"425.948\" y=\"-188.3\" font-family=\"Times New Roman,serif\" font-size=\"14.00\">y3(t&#45;1)</text>\r\n",
       "</g>\r\n",
       "<!-- y4(t&#45;1) -->\r\n",
       "<g id=\"node10\" class=\"node\"><title>y4(t&#45;1)</title>\r\n",
       "<ellipse fill=\"none\" stroke=\"black\" cx=\"263.948\" cy=\"-192\" rx=\"35.194\" ry=\"18\"/>\r\n",
       "<text text-anchor=\"middle\" x=\"263.948\" y=\"-188.3\" font-family=\"Times New Roman,serif\" font-size=\"14.00\">y4(t&#45;1)</text>\r\n",
       "</g>\r\n",
       "<!-- y4(t&#45;1)&#45;&gt;y0(t) -->\r\n",
       "<g id=\"edge2\" class=\"edge\"><title>y4(t&#45;1)&#45;&gt;y0(t)</title>\r\n",
       "<path fill=\"none\" stroke=\"black\" d=\"M250.969,-175.012C240.526,-162.148 225.704,-143.888 213.928,-129.382\"/>\r\n",
       "<polygon fill=\"black\" stroke=\"black\" points=\"216.423,-126.902 207.403,-121.344 210.988,-131.313 216.423,-126.902\"/>\r\n",
       "<text text-anchor=\"middle\" x=\"246.448\" y=\"-144.8\" font-family=\"Times New Roman,serif\" font-size=\"14.00\">0.59</text>\r\n",
       "</g>\r\n",
       "<!-- y4(t&#45;1)&#45;&gt;y1(t) -->\r\n",
       "<g id=\"edge5\" class=\"edge\"><title>y4(t&#45;1)&#45;&gt;y1(t)</title>\r\n",
       "<path fill=\"none\" stroke=\"black\" d=\"M237.104,-180.369C216.902,-172.239 191.031,-161.517 180.948,-156 158.236,-143.573 145.977,-145.371 132.948,-123 119.387,-99.7175 118.541,-68.4015 120.216,-46.2354\"/>\r\n",
       "<polygon fill=\"black\" stroke=\"black\" points=\"123.711,-46.4562 121.196,-36.1642 116.744,-45.7782 123.711,-46.4562\"/>\r\n",
       "<text text-anchor=\"middle\" x=\"145.448\" y=\"-101.3\" font-family=\"Times New Roman,serif\" font-size=\"14.00\">0.38</text>\r\n",
       "</g>\r\n",
       "<!-- y4(t&#45;1)&#45;&gt;y3(t) -->\r\n",
       "<g id=\"edge8\" class=\"edge\"><title>y4(t&#45;1)&#45;&gt;y3(t)</title>\r\n",
       "<path fill=\"none\" stroke=\"black\" d=\"M281.357,-176.279C294.782,-163.704 312.304,-144.305 319.948,-123 330.545,-93.4606 321.598,-80.6014 304.948,-54 302.362,-49.8696 299.337,-45.6954 296.234,-41.7389\"/>\r\n",
       "<polygon fill=\"black\" stroke=\"black\" points=\"298.929,-39.5056 289.873,-34.0069 293.523,-43.953 298.929,-39.5056\"/>\r\n",
       "<text text-anchor=\"middle\" x=\"339.448\" y=\"-101.3\" font-family=\"Times New Roman,serif\" font-size=\"14.00\">&#45;0.81</text>\r\n",
       "</g>\r\n",
       "</g>\r\n",
       "</svg>\r\n"
      ],
      "text/plain": [
       "<graphviz.dot.Digraph at 0x27550520c50>"
      ]
     },
     "execution_count": 8,
     "metadata": {},
     "output_type": "execute_result"
    }
   ],
   "source": [
    "labels = ['y0(t)', 'y1(t)', 'y2(t)', 'y3(t)', 'y4(t)', 'y0(t-1)', 'y1(t-1)', 'y2(t-1)', 'y3(t-1)', 'y4(t-1)']\n",
    "make_dot(np.hstack(model.adjacency_matrices_[0]), lower_limit=0.3, ignore_shape=True, labels=labels)"
   ]
  },
  {
   "cell_type": "markdown",
   "metadata": {},
   "source": [
    "## Bootstrap"
   ]
  },
  {
   "cell_type": "markdown",
   "metadata": {},
   "source": [
    "### Bootstrapping\n",
    "We call `bootstrap()` method instead of `fit()`. Here, the second argument specifies the number of bootstrap sampling."
   ]
  },
  {
   "cell_type": "code",
   "execution_count": 9,
   "metadata": {},
   "outputs": [],
   "source": [
    "model = lingam.VARMALiNGAM()\n",
    "result = model.bootstrap(X, 100)"
   ]
  },
  {
   "cell_type": "markdown",
   "metadata": {},
   "source": [
    "Since `BootstrapResult` object is returned, we can get the ranking of the causal directions extracted by `get_causal_direction_counts()` method. In the following sample code, `n_directions` option is limited to the causal directions of the top 8 rankings, and `min_causal_effect` option is limited to causal directions with a coefficient of 0.4 or more."
   ]
  },
  {
   "cell_type": "code",
   "execution_count": 10,
   "metadata": {},
   "outputs": [],
   "source": [
    "cdc = result.get_causal_direction_counts(n_directions=8, min_causal_effect=0.4, split_by_causal_effect_sign=True)"
   ]
  },
  {
   "cell_type": "markdown",
   "metadata": {},
   "source": [
    "We can check the result by utility function."
   ]
  },
  {
   "cell_type": "code",
   "execution_count": 11,
   "metadata": {},
   "outputs": [
    {
     "name": "stdout",
     "output_type": "stream",
     "text": [
      "y4(t) <--- y0(t-1) (b<0) (100.0%)\n",
      "y2(t) <--- e1(t-1) (b<0) (100.0%)\n",
      "y0(t) <--- y2(t-1) (b<0) (99.0%)\n",
      "y3(t) <--- y1(t-1) (b>0) (95.0%)\n",
      "y1(t) <--- e4(t-1) (b>0) (80.0%)\n",
      "y0(t) <--- y4(t-1) (b>0) (75.0%)\n",
      "y4(t) <--- y4(t-1) (b>0) (68.0%)\n",
      "y3(t) <--- y2(t) (b<0) (51.0%)\n"
     ]
    }
   ],
   "source": [
    "labels = ['y0(t)', 'y1(t)', 'y2(t)', 'y3(t)', 'y4(t)', 'y0(t-1)', 'y1(t-1)', 'y2(t-1)', 'y3(t-1)', 'y4(t-1)', 'e0(t-1)', 'e1(t-1)', 'e2(t-1)', 'e3(t-1)', 'e4(t-1)']\n",
    "print_causal_directions(cdc, 100, labels=labels)"
   ]
  },
  {
   "cell_type": "markdown",
   "metadata": {},
   "source": [
    "Also, using the `get_directed_acyclic_graph_counts()` method, we can get the ranking of the DAGs extracted. In the following sample code, `n_dags` option is limited to the dags of the top 3 rankings, and `min_causal_effect` option is limited to causal directions with a coefficient of 0.3 or more."
   ]
  },
  {
   "cell_type": "code",
   "execution_count": 12,
   "metadata": {},
   "outputs": [],
   "source": [
    "dagc = result.get_directed_acyclic_graph_counts(n_dags=3, min_causal_effect=0.3, split_by_causal_effect_sign=True)"
   ]
  },
  {
   "cell_type": "markdown",
   "metadata": {},
   "source": [
    "We can check the result by utility function."
   ]
  },
  {
   "cell_type": "code",
   "execution_count": 13,
   "metadata": {},
   "outputs": [
    {
     "name": "stdout",
     "output_type": "stream",
     "text": [
      "DAG[0]: 5.0%\n",
      "\ty0(t) <--- y3(t) (b<0)\n",
      "\ty0(t) <--- y2(t-1) (b<0)\n",
      "\ty0(t) <--- y4(t-1) (b>0)\n",
      "\ty1(t) <--- y0(t-1) (b<0)\n",
      "\ty1(t) <--- e4(t-1) (b>0)\n",
      "\ty2(t) <--- y3(t) (b<0)\n",
      "\ty2(t) <--- y1(t-1) (b>0)\n",
      "\ty2(t) <--- e1(t-1) (b<0)\n",
      "\ty3(t) <--- y1(t-1) (b>0)\n",
      "\ty3(t) <--- y4(t-1) (b<0)\n",
      "\ty4(t) <--- y3(t) (b>0)\n",
      "\ty4(t) <--- y0(t-1) (b<0)\n",
      "\ty4(t) <--- y2(t-1) (b<0)\n",
      "\ty4(t) <--- y4(t-1) (b>0)\n",
      "\ty4(t) <--- e2(t-1) (b>0)\n",
      "\ty4(t) <--- e4(t-1) (b<0)\n",
      "DAG[1]: 3.0%\n",
      "\ty0(t) <--- y1(t-1) (b<0)\n",
      "\ty0(t) <--- y2(t-1) (b<0)\n",
      "\ty0(t) <--- y4(t-1) (b>0)\n",
      "\ty1(t) <--- y0(t-1) (b<0)\n",
      "\ty1(t) <--- e4(t-1) (b>0)\n",
      "\ty2(t) <--- y0(t-1) (b<0)\n",
      "\ty2(t) <--- y4(t-1) (b>0)\n",
      "\ty2(t) <--- e1(t-1) (b<0)\n",
      "\ty2(t) <--- e3(t-1) (b<0)\n",
      "\ty3(t) <--- y0(t) (b<0)\n",
      "\ty3(t) <--- y1(t) (b<0)\n",
      "\ty3(t) <--- y2(t) (b<0)\n",
      "\ty3(t) <--- y1(t-1) (b>0)\n",
      "\ty3(t) <--- y3(t-1) (b>0)\n",
      "\ty4(t) <--- y3(t) (b>0)\n",
      "\ty4(t) <--- y0(t-1) (b<0)\n",
      "\ty4(t) <--- y2(t-1) (b<0)\n",
      "\ty4(t) <--- y4(t-1) (b>0)\n",
      "\ty4(t) <--- e2(t-1) (b>0)\n",
      "\ty4(t) <--- e4(t-1) (b<0)\n",
      "DAG[2]: 3.0%\n",
      "\ty0(t) <--- y3(t) (b<0)\n",
      "\ty0(t) <--- y2(t-1) (b<0)\n",
      "\ty0(t) <--- y4(t-1) (b>0)\n",
      "\ty1(t) <--- y0(t-1) (b<0)\n",
      "\ty1(t) <--- e4(t-1) (b>0)\n",
      "\ty2(t) <--- y0(t-1) (b<0)\n",
      "\ty2(t) <--- y4(t-1) (b>0)\n",
      "\ty2(t) <--- e1(t-1) (b<0)\n",
      "\ty2(t) <--- e3(t-1) (b<0)\n",
      "\ty3(t) <--- y1(t) (b<0)\n",
      "\ty3(t) <--- y2(t) (b<0)\n",
      "\ty3(t) <--- y1(t-1) (b>0)\n",
      "\ty3(t) <--- y3(t-1) (b>0)\n",
      "\ty3(t) <--- y4(t-1) (b<0)\n",
      "\ty4(t) <--- y3(t) (b>0)\n",
      "\ty4(t) <--- y0(t-1) (b<0)\n",
      "\ty4(t) <--- y4(t-1) (b>0)\n",
      "\ty4(t) <--- e2(t-1) (b>0)\n",
      "\ty4(t) <--- e4(t-1) (b<0)\n"
     ]
    }
   ],
   "source": [
    "print_dagc(dagc, 100, labels=labels)"
   ]
  },
  {
   "cell_type": "markdown",
   "metadata": {},
   "source": [
    "Using the `get_probabilities()` method, we can get the probability of bootstrapping."
   ]
  },
  {
   "cell_type": "code",
   "execution_count": 14,
   "metadata": {},
   "outputs": [
    {
     "name": "stdout",
     "output_type": "stream",
     "text": [
      "Probability of psi0:\n",
      " [[0.   0.07 0.69 0.69 0.25]\n",
      " [0.05 0.   0.37 0.43 0.  ]\n",
      " [0.18 0.63 0.   0.45 0.05]\n",
      " [0.31 0.57 0.55 0.   0.  ]\n",
      " [0.09 1.   0.01 1.   0.  ]]\n",
      "Probability of psi1:\n",
      " [[0.39 0.86 1.   0.33 1.  ]\n",
      " [1.   1.   1.   1.   0.94]\n",
      " [1.   1.   0.01 1.   0.99]\n",
      " [0.44 1.   0.3  1.   1.  ]\n",
      " [1.   0.96 1.   0.   1.  ]]\n",
      "Probability of omega1:\n",
      " [[1.   0.06 0.31 0.02 0.01]\n",
      " [1.   0.63 0.   0.37 1.  ]\n",
      " [0.32 1.   0.08 1.   0.92]\n",
      " [0.29 0.45 1.   0.46 0.16]\n",
      " [1.   1.   1.   1.   1.  ]]\n"
     ]
    }
   ],
   "source": [
    "prob = result.get_probabilities(min_causal_effect=0.1)\n",
    "print('Probability of psi0:\\n', prob[0])\n",
    "print('Probability of psi1:\\n', prob[1])\n",
    "print('Probability of omega1:\\n', prob[2])"
   ]
  },
  {
   "cell_type": "code",
   "execution_count": null,
   "metadata": {},
   "outputs": [],
   "source": []
  }
 ],
 "metadata": {
  "kernelspec": {
   "display_name": "Python 3",
   "language": "python",
   "name": "python3"
  },
  "language_info": {
   "codemirror_mode": {
    "name": "ipython",
    "version": 3
   },
   "file_extension": ".py",
   "mimetype": "text/x-python",
   "name": "python",
   "nbconvert_exporter": "python",
   "pygments_lexer": "ipython3",
   "version": "3.7.3"
  }
 },
 "nbformat": 4,
 "nbformat_minor": 4
}
