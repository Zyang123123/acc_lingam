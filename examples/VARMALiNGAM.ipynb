{
 "cells": [
  {
   "cell_type": "markdown",
   "metadata": {},
   "source": [
    "# VARMALiNGAM"
   ]
  },
  {
   "cell_type": "markdown",
   "metadata": {},
   "source": [
    "## Import and settings\n",
    "In this example, we need to import `numpy`, `pandas`, and `graphviz` in addition to `lingam`."
   ]
  },
  {
   "cell_type": "code",
   "execution_count": 1,
   "metadata": {},
   "outputs": [
    {
     "name": "stdout",
     "output_type": "stream",
     "text": [
      "['1.24.4', '2.0.3', '0.20.1', '1.8.3']\n"
     ]
    }
   ],
   "source": [
    "import numpy as np\n",
    "import pandas as pd\n",
    "import graphviz\n",
    "import lingam\n",
    "from lingam.utils import make_dot, print_causal_directions, print_dagc\n",
    "\n",
    "import warnings\n",
    "warnings.filterwarnings('ignore')\n",
    "\n",
    "print([np.__version__, pd.__version__, graphviz.__version__, lingam.__version__])\n",
    "\n",
    "np.set_printoptions(precision=3, suppress=True)\n",
    "np.random.seed(0)"
   ]
  },
  {
   "cell_type": "markdown",
   "metadata": {},
   "source": [
    "## Test data\n",
    "We create test data consisting of 5 variables."
   ]
  },
  {
   "cell_type": "code",
   "execution_count": 2,
   "metadata": {},
   "outputs": [],
   "source": [
    "psi0 = np.array([\n",
    "    [ 0.  ,  0.  , -0.25,  0.  ,  0.  ],\n",
    "    [-0.38,  0.  ,  0.14,  0.  ,  0.  ],\n",
    "    [ 0.  ,  0.  ,  0.  ,  0.  ,  0.  ],\n",
    "    [ 0.44, -0.2 , -0.09,  0.  ,  0.  ],\n",
    "    [ 0.07, -0.06,  0.  ,  0.07,  0.  ]\n",
    "])\n",
    "phi1 = np.array([\n",
    "    [-0.04, -0.29, -0.26,  0.14,  0.47],\n",
    "    [-0.42,  0.2 ,  0.1 ,  0.24,  0.25],\n",
    "    [-0.25,  0.18, -0.06,  0.15,  0.18],\n",
    "    [ 0.22,  0.39,  0.08,  0.12, -0.37],\n",
    "    [-0.43,  0.09, -0.23,  0.16,  0.25]\n",
    "])\n",
    "theta1 = np.array([\n",
    "    [ 0.15, -0.02, -0.3 , -0.2 ,  0.21],\n",
    "    [ 0.32,  0.12, -0.11,  0.03,  0.42],\n",
    "    [-0.07, -0.5 ,  0.03, -0.27, -0.21],\n",
    "    [-0.17,  0.35,  0.25,  0.24, -0.25],\n",
    "    [ 0.09,  0.4 ,  0.41,  0.24, -0.31]\n",
    "])\n",
    "causal_order = [2, 0, 1, 3, 4]\n",
    "\n",
    "# data generated from psi0 and phi1 and theta1, causal_order\n",
    "X = np.loadtxt('data/sample_data_varma_lingam.csv', delimiter=',')"
   ]
  },
  {
   "cell_type": "markdown",
   "metadata": {},
   "source": [
    "## Causal Discovery\n",
    "To run causal discovery, we create a `VARMALiNGAM` object and call the `fit` method."
   ]
  },
  {
   "cell_type": "code",
   "execution_count": null,
   "metadata": {
    "scrolled": true
   },
   "outputs": [],
   "source": [
    "model = lingam.VARMALiNGAM(order=(1, 1), criterion=None)\n",
    "model.fit(X)"
   ]
  },
  {
   "cell_type": "markdown",
   "metadata": {},
   "source": [
    "Using the `causal_order_` properties, we can see the causal ordering as a result of the causal discovery."
   ]
  },
  {
   "cell_type": "code",
   "execution_count": 4,
   "metadata": {},
   "outputs": [
    {
     "data": {
      "text/plain": [
       "[2, 0, 1, 3, 4]"
      ]
     },
     "execution_count": 4,
     "metadata": {},
     "output_type": "execute_result"
    }
   ],
   "source": [
    "model.causal_order_"
   ]
  },
  {
   "cell_type": "markdown",
   "metadata": {},
   "source": [
    "Also, using the `adjacency_matrices_` properties, we can see the adjacency matrix as a result of the causal discovery."
   ]
  },
  {
   "cell_type": "code",
   "execution_count": 5,
   "metadata": {},
   "outputs": [
    {
     "data": {
      "text/plain": [
       "array([[ 0.   ,  0.   , -0.194,  0.   ,  0.   ],\n",
       "       [-0.354,  0.   ,  0.191,  0.   ,  0.   ],\n",
       "       [ 0.   ,  0.   ,  0.   ,  0.   ,  0.   ],\n",
       "       [ 0.558, -0.228,  0.   ,  0.   ,  0.   ],\n",
       "       [ 0.115,  0.   ,  0.   ,  0.   ,  0.   ]])"
      ]
     },
     "execution_count": 5,
     "metadata": {},
     "output_type": "execute_result"
    }
   ],
   "source": [
    "# psi0\n",
    "model.adjacency_matrices_[0][0]"
   ]
  },
  {
   "cell_type": "code",
   "execution_count": 6,
   "metadata": {},
   "outputs": [
    {
     "data": {
      "text/plain": [
       "array([[ 0.   , -0.394, -0.509,  0.   ,  0.659],\n",
       "       [-0.3  ,  0.   ,  0.   ,  0.211,  0.404],\n",
       "       [-0.281,  0.21 ,  0.   ,  0.118,  0.25 ],\n",
       "       [ 0.082,  0.762,  0.178,  0.137, -0.819],\n",
       "       [-0.507,  0.   , -0.278,  0.   ,  0.336]])"
      ]
     },
     "execution_count": 6,
     "metadata": {},
     "output_type": "execute_result"
    }
   ],
   "source": [
    "# psi1\n",
    "model.adjacency_matrices_[0][1]"
   ]
  },
  {
   "cell_type": "code",
   "execution_count": 7,
   "metadata": {},
   "outputs": [
    {
     "data": {
      "text/plain": [
       "array([[ 0.   ,  0.   ,  0.   ,  0.   ,  0.   ],\n",
       "       [ 0.209,  0.365,  0.   ,  0.   ,  0.531],\n",
       "       [ 0.   , -0.579, -0.105, -0.298, -0.235],\n",
       "       [ 0.   ,  0.171,  0.414,  0.302,  0.   ],\n",
       "       [ 0.297,  0.435,  0.482,  0.376, -0.438]])"
      ]
     },
     "execution_count": 7,
     "metadata": {},
     "output_type": "execute_result"
    }
   ],
   "source": [
    "# omega0\n",
    "model.adjacency_matrices_[1][0]"
   ]
  },
  {
   "cell_type": "markdown",
   "metadata": {},
   "source": [
    "Using `DirectLiNGAM` for the `residuals_` properties, we can calculate psi0 matrix."
   ]
  },
  {
   "cell_type": "code",
   "execution_count": 8,
   "metadata": {},
   "outputs": [
    {
     "data": {
      "text/plain": [
       "array([[ 0.   ,  0.   , -0.238,  0.   ,  0.   ],\n",
       "       [-0.392,  0.   ,  0.182,  0.   ,  0.   ],\n",
       "       [ 0.   ,  0.   ,  0.   ,  0.   ,  0.   ],\n",
       "       [ 0.587, -0.209,  0.   ,  0.   ,  0.   ],\n",
       "       [ 0.   ,  0.   ,  0.   ,  0.   ,  0.   ]])"
      ]
     },
     "execution_count": 8,
     "metadata": {},
     "output_type": "execute_result"
    }
   ],
   "source": [
    "dlingam = lingam.DirectLiNGAM()\n",
    "dlingam.fit(model.residuals_)\n",
    "dlingam.adjacency_matrix_"
   ]
  },
  {
   "cell_type": "markdown",
   "metadata": {},
   "source": [
    "We can draw a causal graph by utility funciton"
   ]
  },
  {
   "cell_type": "code",
   "execution_count": 9,
   "metadata": {},
   "outputs": [
    {
     "data": {
      "image/svg+xml": [
       "<?xml version=\"1.0\" encoding=\"UTF-8\" standalone=\"no\"?>\n",
       "<!DOCTYPE svg PUBLIC \"-//W3C//DTD SVG 1.1//EN\"\n",
       " \"http://www.w3.org/Graphics/SVG/1.1/DTD/svg11.dtd\">\n",
       "<!-- Generated by graphviz version 2.43.0 (0)\n",
       " -->\n",
       "<!-- Title: %3 Pages: 1 -->\n",
       "<svg width=\"667pt\" height=\"218pt\"\n",
       " viewBox=\"0.00 0.00 667.19 218.00\" xmlns=\"http://www.w3.org/2000/svg\" xmlns:xlink=\"http://www.w3.org/1999/xlink\">\n",
       "<g id=\"graph0\" class=\"graph\" transform=\"scale(1 1) rotate(0) translate(4 214)\">\n",
       "<title>%3</title>\n",
       "<polygon fill=\"white\" stroke=\"transparent\" points=\"-4,4 -4,-214 663.19,-214 663.19,4 -4,4\"/>\n",
       "<!-- y0(t) -->\n",
       "<g id=\"node1\" class=\"node\">\n",
       "<title>y0(t)</title>\n",
       "<ellipse fill=\"none\" stroke=\"black\" cx=\"141.6\" cy=\"-105\" rx=\"32.49\" ry=\"18\"/>\n",
       "<text text-anchor=\"middle\" x=\"141.6\" y=\"-101.3\" font-family=\"Times,serif\" font-size=\"14.00\">y0(t)</text>\n",
       "</g>\n",
       "<!-- y1(t) -->\n",
       "<g id=\"node2\" class=\"node\">\n",
       "<title>y1(t)</title>\n",
       "<ellipse fill=\"none\" stroke=\"black\" cx=\"321.6\" cy=\"-18\" rx=\"32.49\" ry=\"18\"/>\n",
       "<text text-anchor=\"middle\" x=\"321.6\" y=\"-14.3\" font-family=\"Times,serif\" font-size=\"14.00\">y1(t)</text>\n",
       "</g>\n",
       "<!-- y0(t)&#45;&gt;y1(t) -->\n",
       "<g id=\"edge4\" class=\"edge\">\n",
       "<title>y0(t)&#45;&gt;y1(t)</title>\n",
       "<path fill=\"none\" stroke=\"black\" d=\"M165.5,-92.71C196.97,-77.85 252.46,-51.65 288.11,-34.82\"/>\n",
       "<polygon fill=\"black\" stroke=\"black\" points=\"290.05,-37.77 297.59,-30.33 287.06,-31.44 290.05,-37.77\"/>\n",
       "<text text-anchor=\"middle\" x=\"260.1\" y=\"-57.8\" font-family=\"Times,serif\" font-size=\"14.00\">&#45;0.35</text>\n",
       "</g>\n",
       "<!-- y3(t) -->\n",
       "<g id=\"node4\" class=\"node\">\n",
       "<title>y3(t)</title>\n",
       "<ellipse fill=\"none\" stroke=\"black\" cx=\"141.6\" cy=\"-18\" rx=\"32.49\" ry=\"18\"/>\n",
       "<text text-anchor=\"middle\" x=\"141.6\" y=\"-14.3\" font-family=\"Times,serif\" font-size=\"14.00\">y3(t)</text>\n",
       "</g>\n",
       "<!-- y0(t)&#45;&gt;y3(t) -->\n",
       "<g id=\"edge7\" class=\"edge\">\n",
       "<title>y0(t)&#45;&gt;y3(t)</title>\n",
       "<path fill=\"none\" stroke=\"black\" d=\"M141.6,-86.8C141.6,-75.16 141.6,-59.55 141.6,-46.24\"/>\n",
       "<polygon fill=\"black\" stroke=\"black\" points=\"145.1,-46.18 141.6,-36.18 138.1,-46.18 145.1,-46.18\"/>\n",
       "<text text-anchor=\"middle\" x=\"157.6\" y=\"-57.8\" font-family=\"Times,serif\" font-size=\"14.00\">0.56</text>\n",
       "</g>\n",
       "<!-- y2(t) -->\n",
       "<g id=\"node3\" class=\"node\">\n",
       "<title>y2(t)</title>\n",
       "<ellipse fill=\"none\" stroke=\"black\" cx=\"525.6\" cy=\"-192\" rx=\"32.49\" ry=\"18\"/>\n",
       "<text text-anchor=\"middle\" x=\"525.6\" y=\"-188.3\" font-family=\"Times,serif\" font-size=\"14.00\">y2(t)</text>\n",
       "</g>\n",
       "<!-- y4(t) -->\n",
       "<g id=\"node5\" class=\"node\">\n",
       "<title>y4(t)</title>\n",
       "<ellipse fill=\"none\" stroke=\"black\" cx=\"403.6\" cy=\"-105\" rx=\"32.49\" ry=\"18\"/>\n",
       "<text text-anchor=\"middle\" x=\"403.6\" y=\"-101.3\" font-family=\"Times,serif\" font-size=\"14.00\">y4(t)</text>\n",
       "</g>\n",
       "<!-- y0(t&#45;1) -->\n",
       "<g id=\"node6\" class=\"node\">\n",
       "<title>y0(t&#45;1)</title>\n",
       "<ellipse fill=\"none\" stroke=\"black\" cx=\"433.6\" cy=\"-192\" rx=\"41.69\" ry=\"18\"/>\n",
       "<text text-anchor=\"middle\" x=\"433.6\" y=\"-188.3\" font-family=\"Times,serif\" font-size=\"14.00\">y0(t&#45;1)</text>\n",
       "</g>\n",
       "<!-- y0(t&#45;1)&#45;&gt;y1(t) -->\n",
       "<g id=\"edge5\" class=\"edge\">\n",
       "<title>y0(t&#45;1)&#45;&gt;y1(t)</title>\n",
       "<path fill=\"none\" stroke=\"black\" d=\"M447.55,-174.99C451.6,-169.37 455.5,-162.76 457.6,-156 464.25,-134.54 450.33,-94.52 444.6,-87 423.33,-59.08 387.13,-41.07 359.49,-30.64\"/>\n",
       "<polygon fill=\"black\" stroke=\"black\" points=\"360.34,-27.23 349.74,-27.14 357.97,-33.82 360.34,-27.23\"/>\n",
       "<text text-anchor=\"middle\" x=\"475.1\" y=\"-101.3\" font-family=\"Times,serif\" font-size=\"14.00\">&#45;0.30</text>\n",
       "</g>\n",
       "<!-- y0(t&#45;1)&#45;&gt;y4(t) -->\n",
       "<g id=\"edge10\" class=\"edge\">\n",
       "<title>y0(t&#45;1)&#45;&gt;y4(t)</title>\n",
       "<path fill=\"none\" stroke=\"black\" d=\"M427.15,-173.94C425.03,-168.25 422.68,-161.86 420.6,-156 417.94,-148.52 415.13,-140.37 412.58,-132.87\"/>\n",
       "<polygon fill=\"black\" stroke=\"black\" points=\"415.82,-131.52 409.3,-123.17 409.18,-133.76 415.82,-131.52\"/>\n",
       "<text text-anchor=\"middle\" x=\"439.1\" y=\"-144.8\" font-family=\"Times,serif\" font-size=\"14.00\">&#45;0.51</text>\n",
       "</g>\n",
       "<!-- y1(t&#45;1) -->\n",
       "<g id=\"node7\" class=\"node\">\n",
       "<title>y1(t&#45;1)</title>\n",
       "<ellipse fill=\"none\" stroke=\"black\" cx=\"41.6\" cy=\"-192\" rx=\"41.69\" ry=\"18\"/>\n",
       "<text text-anchor=\"middle\" x=\"41.6\" y=\"-188.3\" font-family=\"Times,serif\" font-size=\"14.00\">y1(t&#45;1)</text>\n",
       "</g>\n",
       "<!-- y1(t&#45;1)&#45;&gt;y0(t) -->\n",
       "<g id=\"edge1\" class=\"edge\">\n",
       "<title>y1(t&#45;1)&#45;&gt;y0(t)</title>\n",
       "<path fill=\"none\" stroke=\"black\" d=\"M59.94,-175.41C75.88,-161.86 99.11,-142.11 116.72,-127.14\"/>\n",
       "<polygon fill=\"black\" stroke=\"black\" points=\"119.02,-129.78 124.37,-120.64 114.49,-124.45 119.02,-129.78\"/>\n",
       "<text text-anchor=\"middle\" x=\"116.1\" y=\"-144.8\" font-family=\"Times,serif\" font-size=\"14.00\">&#45;0.39</text>\n",
       "</g>\n",
       "<!-- y1(t&#45;1)&#45;&gt;y3(t) -->\n",
       "<g id=\"edge8\" class=\"edge\">\n",
       "<title>y1(t&#45;1)&#45;&gt;y3(t)</title>\n",
       "<path fill=\"none\" stroke=\"black\" d=\"M43.1,-173.66C45.63,-152.03 52.17,-114.56 68.6,-87 79.97,-67.92 98.27,-50.89 113.7,-38.64\"/>\n",
       "<polygon fill=\"black\" stroke=\"black\" points=\"116.1,-41.21 121.91,-32.35 111.85,-35.65 116.1,-41.21\"/>\n",
       "<text text-anchor=\"middle\" x=\"84.6\" y=\"-101.3\" font-family=\"Times,serif\" font-size=\"14.00\">0.76</text>\n",
       "</g>\n",
       "<!-- y2(t&#45;1) -->\n",
       "<g id=\"node8\" class=\"node\">\n",
       "<title>y2(t&#45;1)</title>\n",
       "<ellipse fill=\"none\" stroke=\"black\" cx=\"142.6\" cy=\"-192\" rx=\"41.69\" ry=\"18\"/>\n",
       "<text text-anchor=\"middle\" x=\"142.6\" y=\"-188.3\" font-family=\"Times,serif\" font-size=\"14.00\">y2(t&#45;1)</text>\n",
       "</g>\n",
       "<!-- y2(t&#45;1)&#45;&gt;y0(t) -->\n",
       "<g id=\"edge2\" class=\"edge\">\n",
       "<title>y2(t&#45;1)&#45;&gt;y0(t)</title>\n",
       "<path fill=\"none\" stroke=\"black\" d=\"M142.39,-173.8C142.26,-162.16 142.07,-146.55 141.92,-133.24\"/>\n",
       "<polygon fill=\"black\" stroke=\"black\" points=\"145.42,-133.13 141.8,-123.18 138.42,-133.22 145.42,-133.13\"/>\n",
       "<text text-anchor=\"middle\" x=\"160.1\" y=\"-144.8\" font-family=\"Times,serif\" font-size=\"14.00\">&#45;0.51</text>\n",
       "</g>\n",
       "<!-- y3(t&#45;1) -->\n",
       "<g id=\"node9\" class=\"node\">\n",
       "<title>y3(t&#45;1)</title>\n",
       "<ellipse fill=\"none\" stroke=\"black\" cx=\"617.6\" cy=\"-192\" rx=\"41.69\" ry=\"18\"/>\n",
       "<text text-anchor=\"middle\" x=\"617.6\" y=\"-188.3\" font-family=\"Times,serif\" font-size=\"14.00\">y3(t&#45;1)</text>\n",
       "</g>\n",
       "<!-- y4(t&#45;1) -->\n",
       "<g id=\"node10\" class=\"node\">\n",
       "<title>y4(t&#45;1)</title>\n",
       "<ellipse fill=\"none\" stroke=\"black\" cx=\"303.6\" cy=\"-192\" rx=\"41.69\" ry=\"18\"/>\n",
       "<text text-anchor=\"middle\" x=\"303.6\" y=\"-188.3\" font-family=\"Times,serif\" font-size=\"14.00\">y4(t&#45;1)</text>\n",
       "</g>\n",
       "<!-- y4(t&#45;1)&#45;&gt;y0(t) -->\n",
       "<g id=\"edge3\" class=\"edge\">\n",
       "<title>y4(t&#45;1)&#45;&gt;y0(t)</title>\n",
       "<path fill=\"none\" stroke=\"black\" d=\"M268.64,-182.2C248.58,-176.35 223.33,-167.6 202.6,-156 188.94,-148.36 175.32,-137.58 164.43,-127.98\"/>\n",
       "<polygon fill=\"black\" stroke=\"black\" points=\"166.78,-125.39 157.02,-121.27 162.08,-130.57 166.78,-125.39\"/>\n",
       "<text text-anchor=\"middle\" x=\"218.6\" y=\"-144.8\" font-family=\"Times,serif\" font-size=\"14.00\">0.66</text>\n",
       "</g>\n",
       "<!-- y4(t&#45;1)&#45;&gt;y1(t) -->\n",
       "<g id=\"edge6\" class=\"edge\">\n",
       "<title>y4(t&#45;1)&#45;&gt;y1(t)</title>\n",
       "<path fill=\"none\" stroke=\"black\" d=\"M305.39,-173.88C308.51,-144 314.99,-82.11 318.74,-46.27\"/>\n",
       "<polygon fill=\"black\" stroke=\"black\" points=\"322.25,-46.36 319.81,-36.05 315.29,-45.63 322.25,-46.36\"/>\n",
       "<text text-anchor=\"middle\" x=\"329.6\" y=\"-101.3\" font-family=\"Times,serif\" font-size=\"14.00\">0.40</text>\n",
       "</g>\n",
       "<!-- y4(t&#45;1)&#45;&gt;y3(t) -->\n",
       "<g id=\"edge9\" class=\"edge\">\n",
       "<title>y4(t&#45;1)&#45;&gt;y3(t)</title>\n",
       "<path fill=\"none\" stroke=\"black\" d=\"M295.22,-174.28C276.98,-137.86 235.22,-54.56 234.6,-54 220.01,-40.89 200.04,-32.52 182.34,-27.27\"/>\n",
       "<polygon fill=\"black\" stroke=\"black\" points=\"182.81,-23.77 172.24,-24.52 180.97,-30.52 182.81,-23.77\"/>\n",
       "<text text-anchor=\"middle\" x=\"287.1\" y=\"-101.3\" font-family=\"Times,serif\" font-size=\"14.00\">&#45;0.82</text>\n",
       "</g>\n",
       "<!-- y4(t&#45;1)&#45;&gt;y4(t) -->\n",
       "<g id=\"edge11\" class=\"edge\">\n",
       "<title>y4(t&#45;1)&#45;&gt;y4(t)</title>\n",
       "<path fill=\"none\" stroke=\"black\" d=\"M321.94,-175.41C337.88,-161.86 361.11,-142.11 378.72,-127.14\"/>\n",
       "<polygon fill=\"black\" stroke=\"black\" points=\"381.02,-129.78 386.37,-120.64 376.49,-124.45 381.02,-129.78\"/>\n",
       "<text text-anchor=\"middle\" x=\"374.6\" y=\"-144.8\" font-family=\"Times,serif\" font-size=\"14.00\">0.34</text>\n",
       "</g>\n",
       "</g>\n",
       "</svg>\n"
      ],
      "text/plain": [
       "<graphviz.graphs.Digraph at 0x7f632f360970>"
      ]
     },
     "execution_count": 9,
     "metadata": {},
     "output_type": "execute_result"
    }
   ],
   "source": [
    "labels = ['y0(t)', 'y1(t)', 'y2(t)', 'y3(t)', 'y4(t)', 'y0(t-1)', 'y1(t-1)', 'y2(t-1)', 'y3(t-1)', 'y4(t-1)']\n",
    "make_dot(np.hstack(model.adjacency_matrices_[0]), lower_limit=0.3, ignore_shape=True, labels=labels)"
   ]
  },
  {
   "cell_type": "markdown",
   "metadata": {},
   "source": [
    "## Independence between error variables\n",
    "To check if the LiNGAM assumption is broken, we can get p-values of independence between error variables. The value in the i-th row and j-th column of the obtained matrix shows the p-value of the independence of the error variables $e_i$ and $e_j$."
   ]
  },
  {
   "cell_type": "code",
   "execution_count": 10,
   "metadata": {},
   "outputs": [
    {
     "name": "stdout",
     "output_type": "stream",
     "text": [
      "[[0.    0.622 0.388 0.    0.539]\n",
      " [0.622 0.    0.087 0.469 0.069]\n",
      " [0.388 0.087 0.    0.248 0.229]\n",
      " [0.    0.469 0.248 0.    0.021]\n",
      " [0.539 0.069 0.229 0.021 0.   ]]\n"
     ]
    }
   ],
   "source": [
    "p_values = model.get_error_independence_p_values()\n",
    "print(p_values)"
   ]
  },
  {
   "cell_type": "markdown",
   "metadata": {},
   "source": [
    "## Bootstrap"
   ]
  },
  {
   "cell_type": "markdown",
   "metadata": {},
   "source": [
    "### Bootstrapping\n",
    "We call `bootstrap()` method instead of `fit()`. Here, the second argument specifies the number of bootstrap sampling."
   ]
  },
  {
   "cell_type": "code",
   "execution_count": null,
   "metadata": {},
   "outputs": [],
   "source": [
    "model = lingam.VARMALiNGAM()\n",
    "result = model.bootstrap(X, n_sampling=100)"
   ]
  },
  {
   "cell_type": "markdown",
   "metadata": {},
   "source": [
    "## Causal Directions\n",
    "Since `BootstrapResult` object is returned, we can get the ranking of the causal directions extracted by `get_causal_direction_counts()` method. In the following sample code, `n_directions` option is limited to the causal directions of the top 8 rankings, and `min_causal_effect` option is limited to causal directions with a coefficient of 0.4 or more."
   ]
  },
  {
   "cell_type": "code",
   "execution_count": 12,
   "metadata": {},
   "outputs": [],
   "source": [
    "cdc = result.get_causal_direction_counts(n_directions=8, min_causal_effect=0.4, split_by_causal_effect_sign=True)"
   ]
  },
  {
   "cell_type": "markdown",
   "metadata": {},
   "source": [
    "We can check the result by utility function."
   ]
  },
  {
   "cell_type": "code",
   "execution_count": 13,
   "metadata": {},
   "outputs": [
    {
     "name": "stdout",
     "output_type": "stream",
     "text": [
      "y3(t) <--- y4(t-1) (b<0) (98.0%)\n",
      "y3(t) <--- y1(t-1) (b>0) (98.0%)\n",
      "y0(t) <--- y4(t-1) (b>0) (96.0%)\n",
      "y1(t) <--- e4(t-1) (b>0) (91.0%)\n",
      "y2(t) <--- e1(t-1) (b<0) (80.0%)\n",
      "y4(t) <--- e2(t-1) (b>0) (71.0%)\n",
      "y1(t) <--- e0(t-1) (b>0) (64.0%)\n",
      "y2(t) <--- e4(t-1) (b<0) (62.0%)\n"
     ]
    }
   ],
   "source": [
    "labels = ['y0(t)', 'y1(t)', 'y2(t)', 'y3(t)', 'y4(t)', 'y0(t-1)', 'y1(t-1)', 'y2(t-1)', 'y3(t-1)', 'y4(t-1)', 'e0(t-1)', 'e1(t-1)', 'e2(t-1)', 'e3(t-1)', 'e4(t-1)']\n",
    "print_causal_directions(cdc, 100, labels=labels)"
   ]
  },
  {
   "cell_type": "markdown",
   "metadata": {},
   "source": [
    "## Directed Acyclic Graphs\n",
    "Also, using the `get_directed_acyclic_graph_counts()` method, we can get the ranking of the DAGs extracted. In the following sample code, `n_dags` option is limited to the dags of the top 3 rankings, and `min_causal_effect` option is limited to causal directions with a coefficient of 0.3 or more."
   ]
  },
  {
   "cell_type": "code",
   "execution_count": 14,
   "metadata": {},
   "outputs": [],
   "source": [
    "dagc = result.get_directed_acyclic_graph_counts(n_dags=3, min_causal_effect=0.3, split_by_causal_effect_sign=True)"
   ]
  },
  {
   "cell_type": "markdown",
   "metadata": {},
   "source": [
    "We can check the result by utility function."
   ]
  },
  {
   "cell_type": "code",
   "execution_count": 15,
   "metadata": {},
   "outputs": [
    {
     "name": "stdout",
     "output_type": "stream",
     "text": [
      "DAG[0]: 1.0%\n",
      "\ty0(t) <--- y1(t) (b<0)\n",
      "\ty0(t) <--- y1(t-1) (b<0)\n",
      "\ty0(t) <--- y2(t-1) (b<0)\n",
      "\ty0(t) <--- y4(t-1) (b>0)\n",
      "\ty0(t) <--- e0(t-1) (b>0)\n",
      "\ty0(t) <--- e1(t-1) (b<0)\n",
      "\ty0(t) <--- e3(t-1) (b>0)\n",
      "\ty0(t) <--- e4(t-1) (b>0)\n",
      "\ty1(t) <--- y2(t) (b>0)\n",
      "\ty1(t) <--- y2(t-1) (b>0)\n",
      "\ty1(t) <--- y3(t-1) (b>0)\n",
      "\ty1(t) <--- y4(t-1) (b<0)\n",
      "\ty1(t) <--- e0(t-1) (b>0)\n",
      "\ty1(t) <--- e2(t-1) (b>0)\n",
      "\ty1(t) <--- e3(t-1) (b>0)\n",
      "\ty1(t) <--- e4(t-1) (b>0)\n",
      "\ty2(t) <--- y4(t-1) (b>0)\n",
      "\ty2(t) <--- e0(t-1) (b<0)\n",
      "\ty2(t) <--- e2(t-1) (b<0)\n",
      "\ty2(t) <--- e3(t-1) (b<0)\n",
      "\ty2(t) <--- e4(t-1) (b<0)\n",
      "\ty3(t) <--- y1(t) (b<0)\n",
      "\ty3(t) <--- y2(t) (b>0)\n",
      "\ty3(t) <--- y1(t-1) (b>0)\n",
      "\ty3(t) <--- y2(t-1) (b>0)\n",
      "\ty3(t) <--- y3(t-1) (b>0)\n",
      "\ty3(t) <--- y4(t-1) (b<0)\n",
      "\ty3(t) <--- e0(t-1) (b>0)\n",
      "\ty3(t) <--- e2(t-1) (b>0)\n",
      "\ty3(t) <--- e3(t-1) (b>0)\n",
      "\ty3(t) <--- e4(t-1) (b>0)\n",
      "\ty4(t) <--- y0(t) (b>0)\n",
      "\ty4(t) <--- y1(t) (b>0)\n",
      "\ty4(t) <--- y3(t) (b>0)\n",
      "\ty4(t) <--- y1(t-1) (b>0)\n",
      "\ty4(t) <--- y2(t-1) (b>0)\n",
      "\ty4(t) <--- y3(t-1) (b>0)\n",
      "\ty4(t) <--- y4(t-1) (b<0)\n",
      "\ty4(t) <--- e0(t-1) (b<0)\n",
      "\ty4(t) <--- e1(t-1) (b>0)\n",
      "\ty4(t) <--- e2(t-1) (b>0)\n",
      "\ty4(t) <--- e3(t-1) (b<0)\n",
      "\ty4(t) <--- e4(t-1) (b<0)\n",
      "DAG[1]: 1.0%\n",
      "\ty0(t) <--- y1(t-1) (b<0)\n",
      "\ty0(t) <--- y2(t-1) (b<0)\n",
      "\ty0(t) <--- y4(t-1) (b>0)\n",
      "\ty0(t) <--- e0(t-1) (b>0)\n",
      "\ty1(t) <--- y3(t) (b<0)\n",
      "\ty1(t) <--- y0(t-1) (b<0)\n",
      "\ty1(t) <--- y1(t-1) (b>0)\n",
      "\ty1(t) <--- e0(t-1) (b>0)\n",
      "\ty1(t) <--- e1(t-1) (b>0)\n",
      "\ty1(t) <--- e4(t-1) (b>0)\n",
      "\ty2(t) <--- y1(t) (b>0)\n",
      "\ty2(t) <--- y3(t) (b>0)\n",
      "\ty2(t) <--- y4(t-1) (b>0)\n",
      "\ty2(t) <--- e0(t-1) (b<0)\n",
      "\ty2(t) <--- e1(t-1) (b<0)\n",
      "\ty2(t) <--- e3(t-1) (b>0)\n",
      "\ty2(t) <--- e4(t-1) (b<0)\n",
      "\ty3(t) <--- y0(t) (b>0)\n",
      "\ty3(t) <--- y1(t-1) (b>0)\n",
      "\ty3(t) <--- y4(t-1) (b<0)\n",
      "\ty3(t) <--- e0(t-1) (b<0)\n",
      "\ty3(t) <--- e1(t-1) (b>0)\n",
      "\ty3(t) <--- e2(t-1) (b>0)\n",
      "\ty4(t) <--- y0(t) (b>0)\n",
      "\ty4(t) <--- y0(t-1) (b<0)\n",
      "\ty4(t) <--- y1(t-1) (b>0)\n",
      "\ty4(t) <--- y4(t-1) (b<0)\n",
      "\ty4(t) <--- e0(t-1) (b<0)\n",
      "\ty4(t) <--- e1(t-1) (b>0)\n",
      "\ty4(t) <--- e2(t-1) (b>0)\n",
      "DAG[2]: 1.0%\n",
      "\ty0(t) <--- y1(t-1) (b<0)\n",
      "\ty0(t) <--- y2(t-1) (b<0)\n",
      "\ty0(t) <--- y4(t-1) (b>0)\n",
      "\ty0(t) <--- e0(t-1) (b>0)\n",
      "\ty1(t) <--- y0(t) (b<0)\n",
      "\ty1(t) <--- y2(t) (b>0)\n",
      "\ty1(t) <--- y4(t-1) (b>0)\n",
      "\ty1(t) <--- e0(t-1) (b>0)\n",
      "\ty1(t) <--- e1(t-1) (b>0)\n",
      "\ty1(t) <--- e2(t-1) (b>0)\n",
      "\ty1(t) <--- e3(t-1) (b>0)\n",
      "\ty1(t) <--- e4(t-1) (b>0)\n",
      "\ty2(t) <--- y0(t) (b<0)\n",
      "\ty2(t) <--- y0(t-1) (b<0)\n",
      "\ty2(t) <--- y4(t-1) (b>0)\n",
      "\ty2(t) <--- e1(t-1) (b<0)\n",
      "\ty2(t) <--- e2(t-1) (b<0)\n",
      "\ty2(t) <--- e3(t-1) (b<0)\n",
      "\ty2(t) <--- e4(t-1) (b<0)\n",
      "\ty3(t) <--- y1(t) (b<0)\n",
      "\ty3(t) <--- y2(t) (b>0)\n",
      "\ty3(t) <--- y1(t-1) (b>0)\n",
      "\ty3(t) <--- y2(t-1) (b>0)\n",
      "\ty3(t) <--- y3(t-1) (b>0)\n",
      "\ty3(t) <--- y4(t-1) (b<0)\n",
      "\ty3(t) <--- e1(t-1) (b>0)\n",
      "\ty3(t) <--- e2(t-1) (b>0)\n",
      "\ty3(t) <--- e3(t-1) (b>0)\n",
      "\ty3(t) <--- e4(t-1) (b>0)\n",
      "\ty4(t) <--- y0(t) (b>0)\n",
      "\ty4(t) <--- y1(t) (b>0)\n",
      "\ty4(t) <--- y3(t) (b>0)\n",
      "\ty4(t) <--- y1(t-1) (b>0)\n",
      "\ty4(t) <--- y2(t-1) (b>0)\n",
      "\ty4(t) <--- y4(t-1) (b<0)\n",
      "\ty4(t) <--- e0(t-1) (b<0)\n",
      "\ty4(t) <--- e2(t-1) (b>0)\n",
      "\ty4(t) <--- e4(t-1) (b<0)\n"
     ]
    }
   ],
   "source": [
    "print_dagc(dagc, 100, labels=labels)"
   ]
  },
  {
   "cell_type": "markdown",
   "metadata": {},
   "source": [
    "## Probability\n",
    "Using the `get_probabilities()` method, we can get the probability of bootstrapping."
   ]
  },
  {
   "cell_type": "code",
   "execution_count": 16,
   "metadata": {},
   "outputs": [
    {
     "name": "stdout",
     "output_type": "stream",
     "text": [
      "Probability of psi0:\n",
      " [[0.   0.26 0.46 0.26 0.3 ]\n",
      " [0.53 0.   0.54 0.37 0.33]\n",
      " [0.22 0.41 0.   0.38 0.12]\n",
      " [0.6  0.62 0.35 0.   0.38]\n",
      " [0.69 0.28 0.27 0.43 0.  ]]\n",
      "Probability of psi1:\n",
      " [[0.41 1.   1.   0.2  1.  ]\n",
      " [0.64 0.63 0.6  0.83 0.85]\n",
      " [0.76 0.69 0.64 0.47 0.95]\n",
      " [0.55 1.   0.71 0.73 1.  ]\n",
      " [0.94 0.79 0.71 0.53 0.74]]\n",
      "Probability of omega1:\n",
      " [[0.76 0.35 0.54 0.43 0.47]\n",
      " [0.87 0.77 0.63 0.5  1.  ]\n",
      " [0.63 0.95 0.66 0.84 0.93]\n",
      " [0.41 0.85 0.88 0.68 0.49]\n",
      " [0.66 0.81 0.92 0.58 0.69]]\n"
     ]
    }
   ],
   "source": [
    "prob = result.get_probabilities(min_causal_effect=0.1)\n",
    "print('Probability of psi0:\\n', prob[0])\n",
    "print('Probability of psi1:\\n', prob[1])\n",
    "print('Probability of omega1:\\n', prob[2])"
   ]
  },
  {
   "cell_type": "markdown",
   "metadata": {},
   "source": [
    "## Total Causal Effects\n",
    "Using the `get_total causal_effects()` method, we can get the list of total causal effect. The total causal effects we can get are dictionary type variable.\n",
    "We can display the list nicely by assigning it to pandas.DataFrame. Also, we have replaced the variable index with a label below."
   ]
  },
  {
   "cell_type": "code",
   "execution_count": 17,
   "metadata": {},
   "outputs": [
    {
     "data": {
      "text/html": [
       "<div>\n",
       "<style scoped>\n",
       "    .dataframe tbody tr th:only-of-type {\n",
       "        vertical-align: middle;\n",
       "    }\n",
       "\n",
       "    .dataframe tbody tr th {\n",
       "        vertical-align: top;\n",
       "    }\n",
       "\n",
       "    .dataframe thead th {\n",
       "        text-align: right;\n",
       "    }\n",
       "</style>\n",
       "<table border=\"1\" class=\"dataframe\">\n",
       "  <thead>\n",
       "    <tr style=\"text-align: right;\">\n",
       "      <th></th>\n",
       "      <th>from</th>\n",
       "      <th>to</th>\n",
       "      <th>effect</th>\n",
       "      <th>probability</th>\n",
       "    </tr>\n",
       "  </thead>\n",
       "  <tbody>\n",
       "    <tr>\n",
       "      <th>0</th>\n",
       "      <td>y0(t-1)</td>\n",
       "      <td>y4(t)</td>\n",
       "      <td>-0.454092</td>\n",
       "      <td>1.00</td>\n",
       "    </tr>\n",
       "    <tr>\n",
       "      <th>1</th>\n",
       "      <td>y4(t-1)</td>\n",
       "      <td>y3(t)</td>\n",
       "      <td>-0.593869</td>\n",
       "      <td>1.00</td>\n",
       "    </tr>\n",
       "    <tr>\n",
       "      <th>2</th>\n",
       "      <td>y1(t-1)</td>\n",
       "      <td>y3(t)</td>\n",
       "      <td>0.514145</td>\n",
       "      <td>1.00</td>\n",
       "    </tr>\n",
       "    <tr>\n",
       "      <th>3</th>\n",
       "      <td>y1(t-1)</td>\n",
       "      <td>y0(t)</td>\n",
       "      <td>-0.357521</td>\n",
       "      <td>1.00</td>\n",
       "    </tr>\n",
       "    <tr>\n",
       "      <th>4</th>\n",
       "      <td>y2(t-1)</td>\n",
       "      <td>y0(t)</td>\n",
       "      <td>-0.443562</td>\n",
       "      <td>1.00</td>\n",
       "    </tr>\n",
       "    <tr>\n",
       "      <th>5</th>\n",
       "      <td>y4(t-1)</td>\n",
       "      <td>y0(t)</td>\n",
       "      <td>0.573678</td>\n",
       "      <td>1.00</td>\n",
       "    </tr>\n",
       "    <tr>\n",
       "      <th>6</th>\n",
       "      <td>y4(t-1)</td>\n",
       "      <td>y2(t)</td>\n",
       "      <td>0.360151</td>\n",
       "      <td>0.97</td>\n",
       "    </tr>\n",
       "    <tr>\n",
       "      <th>7</th>\n",
       "      <td>y4(t-1)</td>\n",
       "      <td>y4(t)</td>\n",
       "      <td>0.213879</td>\n",
       "      <td>0.96</td>\n",
       "    </tr>\n",
       "    <tr>\n",
       "      <th>8</th>\n",
       "      <td>y1(t-1)</td>\n",
       "      <td>y1(t)</td>\n",
       "      <td>0.206331</td>\n",
       "      <td>0.96</td>\n",
       "    </tr>\n",
       "    <tr>\n",
       "      <th>9</th>\n",
       "      <td>y4(t-1)</td>\n",
       "      <td>y1(t)</td>\n",
       "      <td>0.235616</td>\n",
       "      <td>0.95</td>\n",
       "    </tr>\n",
       "    <tr>\n",
       "      <th>10</th>\n",
       "      <td>y0(t-1)</td>\n",
       "      <td>y1(t)</td>\n",
       "      <td>-0.364361</td>\n",
       "      <td>0.95</td>\n",
       "    </tr>\n",
       "    <tr>\n",
       "      <th>11</th>\n",
       "      <td>y3(t-1)</td>\n",
       "      <td>y1(t)</td>\n",
       "      <td>0.250602</td>\n",
       "      <td>0.94</td>\n",
       "    </tr>\n",
       "    <tr>\n",
       "      <th>12</th>\n",
       "      <td>y0(t-1)</td>\n",
       "      <td>y2(t)</td>\n",
       "      <td>-0.267122</td>\n",
       "      <td>0.94</td>\n",
       "    </tr>\n",
       "    <tr>\n",
       "      <th>13</th>\n",
       "      <td>y2(t-1)</td>\n",
       "      <td>y1(t)</td>\n",
       "      <td>0.221743</td>\n",
       "      <td>0.93</td>\n",
       "    </tr>\n",
       "    <tr>\n",
       "      <th>14</th>\n",
       "      <td>y2(t-1)</td>\n",
       "      <td>y4(t)</td>\n",
       "      <td>-0.213938</td>\n",
       "      <td>0.92</td>\n",
       "    </tr>\n",
       "    <tr>\n",
       "      <th>15</th>\n",
       "      <td>y1(t-1)</td>\n",
       "      <td>y4(t)</td>\n",
       "      <td>0.095743</td>\n",
       "      <td>0.92</td>\n",
       "    </tr>\n",
       "    <tr>\n",
       "      <th>16</th>\n",
       "      <td>y0(t-1)</td>\n",
       "      <td>y3(t)</td>\n",
       "      <td>0.177089</td>\n",
       "      <td>0.91</td>\n",
       "    </tr>\n",
       "    <tr>\n",
       "      <th>17</th>\n",
       "      <td>y1(t-1)</td>\n",
       "      <td>y2(t)</td>\n",
       "      <td>0.135946</td>\n",
       "      <td>0.90</td>\n",
       "    </tr>\n",
       "    <tr>\n",
       "      <th>18</th>\n",
       "      <td>y3(t-1)</td>\n",
       "      <td>y3(t)</td>\n",
       "      <td>0.150796</td>\n",
       "      <td>0.88</td>\n",
       "    </tr>\n",
       "    <tr>\n",
       "      <th>19</th>\n",
       "      <td>y2(t-1)</td>\n",
       "      <td>y3(t)</td>\n",
       "      <td>-0.021971</td>\n",
       "      <td>0.84</td>\n",
       "    </tr>\n",
       "    <tr>\n",
       "      <th>20</th>\n",
       "      <td>y3(t-1)</td>\n",
       "      <td>y4(t)</td>\n",
       "      <td>0.170749</td>\n",
       "      <td>0.79</td>\n",
       "    </tr>\n",
       "    <tr>\n",
       "      <th>21</th>\n",
       "      <td>y2(t-1)</td>\n",
       "      <td>y2(t)</td>\n",
       "      <td>-0.137767</td>\n",
       "      <td>0.77</td>\n",
       "    </tr>\n",
       "    <tr>\n",
       "      <th>22</th>\n",
       "      <td>y0(t-1)</td>\n",
       "      <td>y0(t)</td>\n",
       "      <td>-0.094192</td>\n",
       "      <td>0.75</td>\n",
       "    </tr>\n",
       "    <tr>\n",
       "      <th>23</th>\n",
       "      <td>y0(t)</td>\n",
       "      <td>y4(t)</td>\n",
       "      <td>0.934934</td>\n",
       "      <td>0.70</td>\n",
       "    </tr>\n",
       "    <tr>\n",
       "      <th>24</th>\n",
       "      <td>y3(t-1)</td>\n",
       "      <td>y2(t)</td>\n",
       "      <td>0.141032</td>\n",
       "      <td>0.66</td>\n",
       "    </tr>\n",
       "    <tr>\n",
       "      <th>25</th>\n",
       "      <td>y0(t)</td>\n",
       "      <td>y3(t)</td>\n",
       "      <td>0.636926</td>\n",
       "      <td>0.63</td>\n",
       "    </tr>\n",
       "    <tr>\n",
       "      <th>26</th>\n",
       "      <td>y1(t)</td>\n",
       "      <td>y3(t)</td>\n",
       "      <td>-0.296396</td>\n",
       "      <td>0.63</td>\n",
       "    </tr>\n",
       "    <tr>\n",
       "      <th>27</th>\n",
       "      <td>y3(t-1)</td>\n",
       "      <td>y0(t)</td>\n",
       "      <td>-0.027274</td>\n",
       "      <td>0.63</td>\n",
       "    </tr>\n",
       "    <tr>\n",
       "      <th>28</th>\n",
       "      <td>y0(t)</td>\n",
       "      <td>y1(t)</td>\n",
       "      <td>-0.469409</td>\n",
       "      <td>0.61</td>\n",
       "    </tr>\n",
       "    <tr>\n",
       "      <th>29</th>\n",
       "      <td>y2(t)</td>\n",
       "      <td>y1(t)</td>\n",
       "      <td>0.815024</td>\n",
       "      <td>0.59</td>\n",
       "    </tr>\n",
       "    <tr>\n",
       "      <th>30</th>\n",
       "      <td>y2(t)</td>\n",
       "      <td>y3(t)</td>\n",
       "      <td>-0.102868</td>\n",
       "      <td>0.57</td>\n",
       "    </tr>\n",
       "    <tr>\n",
       "      <th>31</th>\n",
       "      <td>y2(t)</td>\n",
       "      <td>y0(t)</td>\n",
       "      <td>-0.180943</td>\n",
       "      <td>0.53</td>\n",
       "    </tr>\n",
       "    <tr>\n",
       "      <th>32</th>\n",
       "      <td>y2(t)</td>\n",
       "      <td>y4(t)</td>\n",
       "      <td>-0.054386</td>\n",
       "      <td>0.49</td>\n",
       "    </tr>\n",
       "    <tr>\n",
       "      <th>33</th>\n",
       "      <td>y4(t)</td>\n",
       "      <td>y3(t)</td>\n",
       "      <td>0.132928</td>\n",
       "      <td>0.45</td>\n",
       "    </tr>\n",
       "    <tr>\n",
       "      <th>34</th>\n",
       "      <td>y3(t)</td>\n",
       "      <td>y4(t)</td>\n",
       "      <td>0.453095</td>\n",
       "      <td>0.44</td>\n",
       "    </tr>\n",
       "    <tr>\n",
       "      <th>35</th>\n",
       "      <td>y0(t)</td>\n",
       "      <td>y2(t)</td>\n",
       "      <td>-0.149761</td>\n",
       "      <td>0.42</td>\n",
       "    </tr>\n",
       "    <tr>\n",
       "      <th>36</th>\n",
       "      <td>y4(t)</td>\n",
       "      <td>y1(t)</td>\n",
       "      <td>0.119746</td>\n",
       "      <td>0.41</td>\n",
       "    </tr>\n",
       "    <tr>\n",
       "      <th>37</th>\n",
       "      <td>y1(t)</td>\n",
       "      <td>y2(t)</td>\n",
       "      <td>0.564823</td>\n",
       "      <td>0.41</td>\n",
       "    </tr>\n",
       "    <tr>\n",
       "      <th>38</th>\n",
       "      <td>y3(t)</td>\n",
       "      <td>y1(t)</td>\n",
       "      <td>-0.706491</td>\n",
       "      <td>0.37</td>\n",
       "    </tr>\n",
       "    <tr>\n",
       "      <th>39</th>\n",
       "      <td>y1(t)</td>\n",
       "      <td>y4(t)</td>\n",
       "      <td>-0.038562</td>\n",
       "      <td>0.37</td>\n",
       "    </tr>\n",
       "    <tr>\n",
       "      <th>40</th>\n",
       "      <td>y3(t)</td>\n",
       "      <td>y2(t)</td>\n",
       "      <td>0.111094</td>\n",
       "      <td>0.35</td>\n",
       "    </tr>\n",
       "    <tr>\n",
       "      <th>41</th>\n",
       "      <td>y3(t)</td>\n",
       "      <td>y0(t)</td>\n",
       "      <td>0.311717</td>\n",
       "      <td>0.34</td>\n",
       "    </tr>\n",
       "    <tr>\n",
       "      <th>42</th>\n",
       "      <td>y1(t)</td>\n",
       "      <td>y0(t)</td>\n",
       "      <td>-0.300326</td>\n",
       "      <td>0.33</td>\n",
       "    </tr>\n",
       "    <tr>\n",
       "      <th>43</th>\n",
       "      <td>y4(t)</td>\n",
       "      <td>y2(t)</td>\n",
       "      <td>0.139237</td>\n",
       "      <td>0.32</td>\n",
       "    </tr>\n",
       "    <tr>\n",
       "      <th>44</th>\n",
       "      <td>y4(t)</td>\n",
       "      <td>y0(t)</td>\n",
       "      <td>0.405747</td>\n",
       "      <td>0.30</td>\n",
       "    </tr>\n",
       "  </tbody>\n",
       "</table>\n",
       "</div>"
      ],
      "text/plain": [
       "       from     to    effect  probability\n",
       "0   y0(t-1)  y4(t) -0.454092         1.00\n",
       "1   y4(t-1)  y3(t) -0.593869         1.00\n",
       "2   y1(t-1)  y3(t)  0.514145         1.00\n",
       "3   y1(t-1)  y0(t) -0.357521         1.00\n",
       "4   y2(t-1)  y0(t) -0.443562         1.00\n",
       "5   y4(t-1)  y0(t)  0.573678         1.00\n",
       "6   y4(t-1)  y2(t)  0.360151         0.97\n",
       "7   y4(t-1)  y4(t)  0.213879         0.96\n",
       "8   y1(t-1)  y1(t)  0.206331         0.96\n",
       "9   y4(t-1)  y1(t)  0.235616         0.95\n",
       "10  y0(t-1)  y1(t) -0.364361         0.95\n",
       "11  y3(t-1)  y1(t)  0.250602         0.94\n",
       "12  y0(t-1)  y2(t) -0.267122         0.94\n",
       "13  y2(t-1)  y1(t)  0.221743         0.93\n",
       "14  y2(t-1)  y4(t) -0.213938         0.92\n",
       "15  y1(t-1)  y4(t)  0.095743         0.92\n",
       "16  y0(t-1)  y3(t)  0.177089         0.91\n",
       "17  y1(t-1)  y2(t)  0.135946         0.90\n",
       "18  y3(t-1)  y3(t)  0.150796         0.88\n",
       "19  y2(t-1)  y3(t) -0.021971         0.84\n",
       "20  y3(t-1)  y4(t)  0.170749         0.79\n",
       "21  y2(t-1)  y2(t) -0.137767         0.77\n",
       "22  y0(t-1)  y0(t) -0.094192         0.75\n",
       "23    y0(t)  y4(t)  0.934934         0.70\n",
       "24  y3(t-1)  y2(t)  0.141032         0.66\n",
       "25    y0(t)  y3(t)  0.636926         0.63\n",
       "26    y1(t)  y3(t) -0.296396         0.63\n",
       "27  y3(t-1)  y0(t) -0.027274         0.63\n",
       "28    y0(t)  y1(t) -0.469409         0.61\n",
       "29    y2(t)  y1(t)  0.815024         0.59\n",
       "30    y2(t)  y3(t) -0.102868         0.57\n",
       "31    y2(t)  y0(t) -0.180943         0.53\n",
       "32    y2(t)  y4(t) -0.054386         0.49\n",
       "33    y4(t)  y3(t)  0.132928         0.45\n",
       "34    y3(t)  y4(t)  0.453095         0.44\n",
       "35    y0(t)  y2(t) -0.149761         0.42\n",
       "36    y4(t)  y1(t)  0.119746         0.41\n",
       "37    y1(t)  y2(t)  0.564823         0.41\n",
       "38    y3(t)  y1(t) -0.706491         0.37\n",
       "39    y1(t)  y4(t) -0.038562         0.37\n",
       "40    y3(t)  y2(t)  0.111094         0.35\n",
       "41    y3(t)  y0(t)  0.311717         0.34\n",
       "42    y1(t)  y0(t) -0.300326         0.33\n",
       "43    y4(t)  y2(t)  0.139237         0.32\n",
       "44    y4(t)  y0(t)  0.405747         0.30"
      ]
     },
     "execution_count": 17,
     "metadata": {},
     "output_type": "execute_result"
    }
   ],
   "source": [
    "causal_effects = result.get_total_causal_effects(min_causal_effect=0.01)\n",
    "df = pd.DataFrame(causal_effects)\n",
    "\n",
    "df['from'] = df['from'].apply(lambda x : labels[x])\n",
    "df['to'] = df['to'].apply(lambda x : labels[x])\n",
    "df"
   ]
  },
  {
   "cell_type": "markdown",
   "metadata": {},
   "source": [
    "We can easily perform sorting operations with pandas.DataFrame."
   ]
  },
  {
   "cell_type": "code",
   "execution_count": 18,
   "metadata": {},
   "outputs": [
    {
     "data": {
      "text/html": [
       "<div>\n",
       "<style scoped>\n",
       "    .dataframe tbody tr th:only-of-type {\n",
       "        vertical-align: middle;\n",
       "    }\n",
       "\n",
       "    .dataframe tbody tr th {\n",
       "        vertical-align: top;\n",
       "    }\n",
       "\n",
       "    .dataframe thead th {\n",
       "        text-align: right;\n",
       "    }\n",
       "</style>\n",
       "<table border=\"1\" class=\"dataframe\">\n",
       "  <thead>\n",
       "    <tr style=\"text-align: right;\">\n",
       "      <th></th>\n",
       "      <th>from</th>\n",
       "      <th>to</th>\n",
       "      <th>effect</th>\n",
       "      <th>probability</th>\n",
       "    </tr>\n",
       "  </thead>\n",
       "  <tbody>\n",
       "    <tr>\n",
       "      <th>23</th>\n",
       "      <td>y0(t)</td>\n",
       "      <td>y4(t)</td>\n",
       "      <td>0.934934</td>\n",
       "      <td>0.70</td>\n",
       "    </tr>\n",
       "    <tr>\n",
       "      <th>29</th>\n",
       "      <td>y2(t)</td>\n",
       "      <td>y1(t)</td>\n",
       "      <td>0.815024</td>\n",
       "      <td>0.59</td>\n",
       "    </tr>\n",
       "    <tr>\n",
       "      <th>25</th>\n",
       "      <td>y0(t)</td>\n",
       "      <td>y3(t)</td>\n",
       "      <td>0.636926</td>\n",
       "      <td>0.63</td>\n",
       "    </tr>\n",
       "    <tr>\n",
       "      <th>5</th>\n",
       "      <td>y4(t-1)</td>\n",
       "      <td>y0(t)</td>\n",
       "      <td>0.573678</td>\n",
       "      <td>1.00</td>\n",
       "    </tr>\n",
       "    <tr>\n",
       "      <th>37</th>\n",
       "      <td>y1(t)</td>\n",
       "      <td>y2(t)</td>\n",
       "      <td>0.564823</td>\n",
       "      <td>0.41</td>\n",
       "    </tr>\n",
       "  </tbody>\n",
       "</table>\n",
       "</div>"
      ],
      "text/plain": [
       "       from     to    effect  probability\n",
       "23    y0(t)  y4(t)  0.934934         0.70\n",
       "29    y2(t)  y1(t)  0.815024         0.59\n",
       "25    y0(t)  y3(t)  0.636926         0.63\n",
       "5   y4(t-1)  y0(t)  0.573678         1.00\n",
       "37    y1(t)  y2(t)  0.564823         0.41"
      ]
     },
     "execution_count": 18,
     "metadata": {},
     "output_type": "execute_result"
    }
   ],
   "source": [
    "df.sort_values('effect', ascending=False).head()"
   ]
  },
  {
   "cell_type": "markdown",
   "metadata": {},
   "source": [
    "And with pandas.DataFrame, we can easily filter by keywords. The following code extracts the causal direction towards y2(t)."
   ]
  },
  {
   "cell_type": "code",
   "execution_count": 19,
   "metadata": {},
   "outputs": [
    {
     "data": {
      "text/html": [
       "<div>\n",
       "<style scoped>\n",
       "    .dataframe tbody tr th:only-of-type {\n",
       "        vertical-align: middle;\n",
       "    }\n",
       "\n",
       "    .dataframe tbody tr th {\n",
       "        vertical-align: top;\n",
       "    }\n",
       "\n",
       "    .dataframe thead th {\n",
       "        text-align: right;\n",
       "    }\n",
       "</style>\n",
       "<table border=\"1\" class=\"dataframe\">\n",
       "  <thead>\n",
       "    <tr style=\"text-align: right;\">\n",
       "      <th></th>\n",
       "      <th>from</th>\n",
       "      <th>to</th>\n",
       "      <th>effect</th>\n",
       "      <th>probability</th>\n",
       "    </tr>\n",
       "  </thead>\n",
       "  <tbody>\n",
       "    <tr>\n",
       "      <th>6</th>\n",
       "      <td>y4(t-1)</td>\n",
       "      <td>y2(t)</td>\n",
       "      <td>0.360151</td>\n",
       "      <td>0.97</td>\n",
       "    </tr>\n",
       "    <tr>\n",
       "      <th>12</th>\n",
       "      <td>y0(t-1)</td>\n",
       "      <td>y2(t)</td>\n",
       "      <td>-0.267122</td>\n",
       "      <td>0.94</td>\n",
       "    </tr>\n",
       "    <tr>\n",
       "      <th>17</th>\n",
       "      <td>y1(t-1)</td>\n",
       "      <td>y2(t)</td>\n",
       "      <td>0.135946</td>\n",
       "      <td>0.90</td>\n",
       "    </tr>\n",
       "    <tr>\n",
       "      <th>21</th>\n",
       "      <td>y2(t-1)</td>\n",
       "      <td>y2(t)</td>\n",
       "      <td>-0.137767</td>\n",
       "      <td>0.77</td>\n",
       "    </tr>\n",
       "    <tr>\n",
       "      <th>24</th>\n",
       "      <td>y3(t-1)</td>\n",
       "      <td>y2(t)</td>\n",
       "      <td>0.141032</td>\n",
       "      <td>0.66</td>\n",
       "    </tr>\n",
       "  </tbody>\n",
       "</table>\n",
       "</div>"
      ],
      "text/plain": [
       "       from     to    effect  probability\n",
       "6   y4(t-1)  y2(t)  0.360151         0.97\n",
       "12  y0(t-1)  y2(t) -0.267122         0.94\n",
       "17  y1(t-1)  y2(t)  0.135946         0.90\n",
       "21  y2(t-1)  y2(t) -0.137767         0.77\n",
       "24  y3(t-1)  y2(t)  0.141032         0.66"
      ]
     },
     "execution_count": 19,
     "metadata": {},
     "output_type": "execute_result"
    }
   ],
   "source": [
    "df[df['to']=='y2(t)'].head()"
   ]
  },
  {
   "cell_type": "markdown",
   "metadata": {},
   "source": [
    "Because it holds the raw data of the causal effect (the original data for calculating the median), it is possible to draw a histogram of the values of the causal effect, as shown below."
   ]
  },
  {
   "cell_type": "code",
   "execution_count": 20,
   "metadata": {},
   "outputs": [
    {
     "data": {
      "text/plain": [
       "(array([ 1.,  4.,  7.,  8., 26., 22., 12.,  9.,  4.,  7.]),\n",
       " array([-0.567, -0.508, -0.45 , -0.391, -0.333, -0.274, -0.215, -0.157,\n",
       "        -0.098, -0.04 ,  0.019]),\n",
       " <BarContainer object of 10 artists>)"
      ]
     },
     "execution_count": 20,
     "metadata": {},
     "output_type": "execute_result"
    },
    {
     "data": {
      "image/png": "[encoded data removed]",
      "text/plain": [
       "<Figure size 432x288 with 1 Axes>"
      ]
     },
     "metadata": {
      "needs_background": "light"
     },
     "output_type": "display_data"
    }
   ],
   "source": [
    "import matplotlib.pyplot as plt\n",
    "import seaborn as sns\n",
    "sns.set()\n",
    "%matplotlib inline\n",
    "\n",
    "from_index = 5 # index of y0(t-1). (index:0)+(n_features:5)*(lag:1) = 5\n",
    "to_index = 2 # index of y2(t). (index:2)+(n_features:5)*(lag:0) = 2\n",
    "plt.hist(result.total_effects_[:, to_index, from_index])"
   ]
  },
  {
   "cell_type": "code",
   "execution_count": null,
   "metadata": {},
   "outputs": [],
   "source": []
  }
 ],
 "metadata": {
  "kernelspec": {
   "display_name": "Python 3 (ipykernel)",
   "language": "python",
   "name": "python3"
  },
  "language_info": {
   "codemirror_mode": {
    "name": "ipython",
    "version": 3
   },
   "file_extension": ".py",
   "mimetype": "text/x-python",
   "name": "python",
   "nbconvert_exporter": "python",
   "pygments_lexer": "ipython3",
   "version": "3.8.10"
  }
 },
 "nbformat": 4,
 "nbformat_minor": 4
}
