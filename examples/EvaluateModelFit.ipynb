{
 "cells": [
  {
   "cell_type": "markdown",
   "id": "88519863-571f-48c2-8fbf-35af2d9c85fc",
   "metadata": {},
   "source": [
    "# EvaluateModelFit\n",
    "\n",
    "This notebook explains how to use `lingam.utils.evaluate_model_fit`. This function returns the mode fit of the given adjacency matrix to the data.\n",
    "\n",
    "## Import and settings"
   ]
  },
  {
   "cell_type": "code",
   "execution_count": 1,
   "id": "4447d06e-cc4d-462d-8101-c18f4247e9c8",
   "metadata": {},
   "outputs": [
    {
     "name": "stdout",
     "output_type": "stream",
     "text": [
      "['1.24.4', '2.0.3', '1.8.2']\n"
     ]
    }
   ],
   "source": [
    "import numpy as np\n",
    "import pandas as pd\n",
    "from scipy.special import expit\n",
    "import lingam\n",
    "from lingam.utils import make_dot\n",
    "\n",
    "print([np.__version__, pd.__version__, lingam.__version__])\n",
    "\n",
    "import warnings\n",
    "warnings.filterwarnings(\"ignore\")\n",
    "\n",
    "np.set_printoptions(precision=3, suppress=True)\n",
    "np.random.seed(100)"
   ]
  },
  {
   "cell_type": "markdown",
   "id": "21ab35fe-9319-4bb6-a781-553fa1cb4d4f",
   "metadata": {},
   "source": [
    "## When all variables are continuous data"
   ]
  },
  {
   "cell_type": "markdown",
   "id": "46d3a406-d7d8-4951-9410-75cb9ec1467a",
   "metadata": {},
   "source": [
    "### Test data"
   ]
  },
  {
   "cell_type": "code",
   "execution_count": 2,
   "id": "dc105c93-a682-4dc4-84b5-4c7d02c66b93",
   "metadata": {},
   "outputs": [
    {
     "data": {
      "text/html": [
       "<div>\n",
       "<style scoped>\n",
       "    .dataframe tbody tr th:only-of-type {\n",
       "        vertical-align: middle;\n",
       "    }\n",
       "\n",
       "    .dataframe tbody tr th {\n",
       "        vertical-align: top;\n",
       "    }\n",
       "\n",
       "    .dataframe thead th {\n",
       "        text-align: right;\n",
       "    }\n",
       "</style>\n",
       "<table border=\"1\" class=\"dataframe\">\n",
       "  <thead>\n",
       "    <tr style=\"text-align: right;\">\n",
       "      <th></th>\n",
       "      <th>x0</th>\n",
       "      <th>x1</th>\n",
       "      <th>x2</th>\n",
       "      <th>x3</th>\n",
       "      <th>x4</th>\n",
       "      <th>x5</th>\n",
       "    </tr>\n",
       "  </thead>\n",
       "  <tbody>\n",
       "    <tr>\n",
       "      <th>0</th>\n",
       "      <td>1.657947</td>\n",
       "      <td>12.090323</td>\n",
       "      <td>3.519873</td>\n",
       "      <td>0.543405</td>\n",
       "      <td>10.182785</td>\n",
       "      <td>7.401408</td>\n",
       "    </tr>\n",
       "    <tr>\n",
       "      <th>1</th>\n",
       "      <td>1.217345</td>\n",
       "      <td>7.607388</td>\n",
       "      <td>1.693219</td>\n",
       "      <td>0.278369</td>\n",
       "      <td>8.758949</td>\n",
       "      <td>4.912979</td>\n",
       "    </tr>\n",
       "    <tr>\n",
       "      <th>2</th>\n",
       "      <td>2.226804</td>\n",
       "      <td>13.483555</td>\n",
       "      <td>3.201513</td>\n",
       "      <td>0.424518</td>\n",
       "      <td>15.398626</td>\n",
       "      <td>9.098729</td>\n",
       "    </tr>\n",
       "    <tr>\n",
       "      <th>3</th>\n",
       "      <td>2.756527</td>\n",
       "      <td>20.654225</td>\n",
       "      <td>6.037873</td>\n",
       "      <td>0.844776</td>\n",
       "      <td>16.795156</td>\n",
       "      <td>11.147294</td>\n",
       "    </tr>\n",
       "    <tr>\n",
       "      <th>4</th>\n",
       "      <td>0.319283</td>\n",
       "      <td>3.340782</td>\n",
       "      <td>0.727265</td>\n",
       "      <td>0.004719</td>\n",
       "      <td>2.343100</td>\n",
       "      <td>2.037974</td>\n",
       "    </tr>\n",
       "  </tbody>\n",
       "</table>\n",
       "</div>"
      ],
      "text/plain": [
       "         x0         x1        x2        x3         x4         x5\n",
       "0  1.657947  12.090323  3.519873  0.543405  10.182785   7.401408\n",
       "1  1.217345   7.607388  1.693219  0.278369   8.758949   4.912979\n",
       "2  2.226804  13.483555  3.201513  0.424518  15.398626   9.098729\n",
       "3  2.756527  20.654225  6.037873  0.844776  16.795156  11.147294\n",
       "4  0.319283   3.340782  0.727265  0.004719   2.343100   2.037974"
      ]
     },
     "execution_count": 2,
     "metadata": {},
     "output_type": "execute_result"
    }
   ],
   "source": [
    "x3 = np.random.uniform(size=1000)\n",
    "x0 = 3.0*x3 + np.random.uniform(size=1000)\n",
    "x2 = 6.0*x3 + np.random.uniform(size=1000)\n",
    "x1 = 3.0*x0 + 2.0*x2 + np.random.uniform(size=1000)\n",
    "x5 = 4.0*x0 + np.random.uniform(size=1000)\n",
    "x4 = 8.0*x0 - 1.0*x2 + np.random.uniform(size=1000)\n",
    "X = pd.DataFrame(np.array([x0, x1, x2, x3, x4, x5]).T ,columns=['x0', 'x1', 'x2', 'x3', 'x4', 'x5'])\n",
    "X.head()"
   ]
  },
  {
   "cell_type": "markdown",
   "id": "02f9570f-3f40-40e8-953e-c4bb08122b6f",
   "metadata": {},
   "source": [
    "### Causal Discovery\n",
    "Perform causal discovery to obtain the adjacency matrix."
   ]
  },
  {
   "cell_type": "code",
   "execution_count": 3,
   "id": "55a1e0ad-a27b-44df-8999-8c72f9624ecd",
   "metadata": {},
   "outputs": [
    {
     "data": {
      "text/plain": [
       "array([[ 0.   ,  0.   ,  0.   ,  2.994,  0.   ,  0.   ],\n",
       "       [ 2.995,  0.   ,  1.993,  0.   ,  0.   ,  0.   ],\n",
       "       [ 0.   ,  0.   ,  0.   ,  5.957,  0.   ,  0.   ],\n",
       "       [ 0.   ,  0.   ,  0.   ,  0.   ,  0.   ,  0.   ],\n",
       "       [ 7.998,  0.   , -1.005,  0.   ,  0.   ,  0.   ],\n",
       "       [ 3.98 ,  0.   ,  0.   ,  0.   ,  0.   ,  0.   ]])"
      ]
     },
     "execution_count": 3,
     "metadata": {},
     "output_type": "execute_result"
    }
   ],
   "source": [
    "model = lingam.DirectLiNGAM()\n",
    "model.fit(X)\n",
    "model.adjacency_matrix_"
   ]
  },
  {
   "cell_type": "markdown",
   "id": "1bbd038a-d771-4ccf-8797-e5627bc39a11",
   "metadata": {},
   "source": [
    "### Evaluation\n",
    "Calculate the model fit of the given adjacency matrix to given data."
   ]
  },
  {
   "cell_type": "code",
   "execution_count": 4,
   "id": "dde65a92-e35a-451a-93e0-41c88c005019",
   "metadata": {},
   "outputs": [
    {
     "data": {
      "text/html": [
       "<div>\n",
       "<style scoped>\n",
       "    .dataframe tbody tr th:only-of-type {\n",
       "        vertical-align: middle;\n",
       "    }\n",
       "\n",
       "    .dataframe tbody tr th {\n",
       "        vertical-align: top;\n",
       "    }\n",
       "\n",
       "    .dataframe thead th {\n",
       "        text-align: right;\n",
       "    }\n",
       "</style>\n",
       "<table border=\"1\" class=\"dataframe\">\n",
       "  <thead>\n",
       "    <tr style=\"text-align: right;\">\n",
       "      <th></th>\n",
       "      <th>DoF</th>\n",
       "      <th>DoF Baseline</th>\n",
       "      <th>chi2</th>\n",
       "      <th>chi2 p-value</th>\n",
       "      <th>chi2 Baseline</th>\n",
       "      <th>CFI</th>\n",
       "      <th>GFI</th>\n",
       "      <th>AGFI</th>\n",
       "      <th>NFI</th>\n",
       "      <th>TLI</th>\n",
       "      <th>RMSEA</th>\n",
       "      <th>AIC</th>\n",
       "      <th>BIC</th>\n",
       "      <th>LogLik</th>\n",
       "    </tr>\n",
       "  </thead>\n",
       "  <tbody>\n",
       "    <tr>\n",
       "      <th>Value</th>\n",
       "      <td>16</td>\n",
       "      <td>16</td>\n",
       "      <td>4242.852012</td>\n",
       "      <td>0.0</td>\n",
       "      <td>22997.243286</td>\n",
       "      <td>0.816074</td>\n",
       "      <td>0.815506</td>\n",
       "      <td>0.815506</td>\n",
       "      <td>0.815506</td>\n",
       "      <td>0.816074</td>\n",
       "      <td>0.51424</td>\n",
       "      <td>1.514296</td>\n",
       "      <td>26.053072</td>\n",
       "      <td>4.242852</td>\n",
       "    </tr>\n",
       "  </tbody>\n",
       "</table>\n",
       "</div>"
      ],
      "text/plain": [
       "       DoF  DoF Baseline         chi2  chi2 p-value  chi2 Baseline       CFI  \\\n",
       "Value   16            16  4242.852012           0.0   22997.243286  0.816074   \n",
       "\n",
       "            GFI      AGFI       NFI       TLI    RMSEA       AIC        BIC  \\\n",
       "Value  0.815506  0.815506  0.815506  0.816074  0.51424  1.514296  26.053072   \n",
       "\n",
       "         LogLik  \n",
       "Value  4.242852  "
      ]
     },
     "execution_count": 4,
     "metadata": {},
     "output_type": "execute_result"
    }
   ],
   "source": [
    "lingam.utils.evaluate_model_fit(model.adjacency_matrix_, X)"
   ]
  },
  {
   "cell_type": "markdown",
   "id": "21682253-f51d-4a01-819e-0428921e2cf6",
   "metadata": {},
   "source": [
    "## When the data has hidden common causes\n",
    "\n",
    "### Test data"
   ]
  },
  {
   "cell_type": "code",
   "execution_count": 5,
   "id": "2e889982-9d89-4e50-96fb-f65495c9fe4a",
   "metadata": {},
   "outputs": [
    {
     "data": {
      "text/html": [
       "<div>\n",
       "<style scoped>\n",
       "    .dataframe tbody tr th:only-of-type {\n",
       "        vertical-align: middle;\n",
       "    }\n",
       "\n",
       "    .dataframe tbody tr th {\n",
       "        vertical-align: top;\n",
       "    }\n",
       "\n",
       "    .dataframe thead th {\n",
       "        text-align: right;\n",
       "    }\n",
       "</style>\n",
       "<table border=\"1\" class=\"dataframe\">\n",
       "  <thead>\n",
       "    <tr style=\"text-align: right;\">\n",
       "      <th></th>\n",
       "      <th>x0</th>\n",
       "      <th>x1</th>\n",
       "      <th>x2</th>\n",
       "      <th>x3</th>\n",
       "      <th>x4</th>\n",
       "      <th>x5</th>\n",
       "    </tr>\n",
       "  </thead>\n",
       "  <tbody>\n",
       "    <tr>\n",
       "      <th>0</th>\n",
       "      <td>0.978424</td>\n",
       "      <td>1.966955</td>\n",
       "      <td>1.219048</td>\n",
       "      <td>1.746943</td>\n",
       "      <td>0.761499</td>\n",
       "      <td>0.942972</td>\n",
       "    </tr>\n",
       "    <tr>\n",
       "      <th>1</th>\n",
       "      <td>1.164124</td>\n",
       "      <td>2.652780</td>\n",
       "      <td>2.153412</td>\n",
       "      <td>2.317986</td>\n",
       "      <td>0.427684</td>\n",
       "      <td>1.144585</td>\n",
       "    </tr>\n",
       "    <tr>\n",
       "      <th>2</th>\n",
       "      <td>1.160532</td>\n",
       "      <td>1.978590</td>\n",
       "      <td>0.919055</td>\n",
       "      <td>1.066110</td>\n",
       "      <td>0.603656</td>\n",
       "      <td>1.329139</td>\n",
       "    </tr>\n",
       "    <tr>\n",
       "      <th>3</th>\n",
       "      <td>1.502959</td>\n",
       "      <td>1.833784</td>\n",
       "      <td>1.748939</td>\n",
       "      <td>1.234851</td>\n",
       "      <td>0.447353</td>\n",
       "      <td>1.188017</td>\n",
       "    </tr>\n",
       "    <tr>\n",
       "      <th>4</th>\n",
       "      <td>1.948636</td>\n",
       "      <td>2.457468</td>\n",
       "      <td>1.535006</td>\n",
       "      <td>2.073317</td>\n",
       "      <td>0.501208</td>\n",
       "      <td>1.155161</td>\n",
       "    </tr>\n",
       "  </tbody>\n",
       "</table>\n",
       "</div>"
      ],
      "text/plain": [
       "         x0        x1        x2        x3        x4        x5\n",
       "0  0.978424  1.966955  1.219048  1.746943  0.761499  0.942972\n",
       "1  1.164124  2.652780  2.153412  2.317986  0.427684  1.144585\n",
       "2  1.160532  1.978590  0.919055  1.066110  0.603656  1.329139\n",
       "3  1.502959  1.833784  1.748939  1.234851  0.447353  1.188017\n",
       "4  1.948636  2.457468  1.535006  2.073317  0.501208  1.155161"
      ]
     },
     "execution_count": 5,
     "metadata": {},
     "output_type": "execute_result"
    }
   ],
   "source": [
    "x6 = np.random.uniform(size=1000)\n",
    "x3 = 2.0*x6 + np.random.uniform(size=1000)\n",
    "x0 = 0.5*x3 + np.random.uniform(size=1000)\n",
    "x2 = 2.0*x6 + np.random.uniform(size=1000)\n",
    "x1 = 0.5*x0 + 0.5*x2 + np.random.uniform(size=1000)\n",
    "x5 = 0.5*x0 + np.random.uniform(size=1000)\n",
    "x4 = 0.5*x0 - 0.5*x2 + np.random.uniform(size=1000)\n",
    "\n",
    "# The latent variable x6 is not included.\n",
    "X = pd.DataFrame(np.array([x0, x1, x2, x3, x4, x5]).T, columns=['x0', 'x1', 'x2', 'x3', 'x4', 'x5'])\n",
    "\n",
    "X.head()"
   ]
  },
  {
   "cell_type": "markdown",
   "id": "efa1e04e-fc50-4249-89b5-206191a44e70",
   "metadata": {},
   "source": [
    "### Causal Discovery\n",
    "nan represents having a hidden common cause."
   ]
  },
  {
   "cell_type": "code",
   "execution_count": 6,
   "id": "534e2cbf-b267-4de2-8677-e6dcc028f182",
   "metadata": {},
   "outputs": [
    {
     "data": {
      "text/plain": [
       "array([[ 0.   ,    nan,  0.   ,    nan,  0.   ,  0.   ],\n",
       "       [   nan,  0.   ,  0.   ,    nan,  0.   ,  0.   ],\n",
       "       [-0.22 ,  0.593,  0.   ,  0.564,  0.   ,  0.   ],\n",
       "       [   nan,    nan,  0.   ,  0.   ,  0.   ,  0.   ],\n",
       "       [ 0.542,  0.   , -0.529,  0.   ,  0.   ,  0.   ],\n",
       "       [ 0.506,  0.   ,  0.   ,  0.   ,  0.   ,  0.   ]])"
      ]
     },
     "execution_count": 6,
     "metadata": {},
     "output_type": "execute_result"
    }
   ],
   "source": [
    "model = lingam.BottomUpParceLiNGAM()\n",
    "model.fit(X)\n",
    "model.adjacency_matrix_"
   ]
  },
  {
   "cell_type": "code",
   "execution_count": 7,
   "id": "ab599b5f-78b1-42cd-a13a-072dc40c2211",
   "metadata": {},
   "outputs": [
    {
     "data": {
      "text/html": [
       "<div>\n",
       "<style scoped>\n",
       "    .dataframe tbody tr th:only-of-type {\n",
       "        vertical-align: middle;\n",
       "    }\n",
       "\n",
       "    .dataframe tbody tr th {\n",
       "        vertical-align: top;\n",
       "    }\n",
       "\n",
       "    .dataframe thead th {\n",
       "        text-align: right;\n",
       "    }\n",
       "</style>\n",
       "<table border=\"1\" class=\"dataframe\">\n",
       "  <thead>\n",
       "    <tr style=\"text-align: right;\">\n",
       "      <th></th>\n",
       "      <th>DoF</th>\n",
       "      <th>DoF Baseline</th>\n",
       "      <th>chi2</th>\n",
       "      <th>chi2 p-value</th>\n",
       "      <th>chi2 Baseline</th>\n",
       "      <th>CFI</th>\n",
       "      <th>GFI</th>\n",
       "      <th>AGFI</th>\n",
       "      <th>NFI</th>\n",
       "      <th>TLI</th>\n",
       "      <th>RMSEA</th>\n",
       "      <th>AIC</th>\n",
       "      <th>BIC</th>\n",
       "      <th>LogLik</th>\n",
       "    </tr>\n",
       "  </thead>\n",
       "  <tbody>\n",
       "    <tr>\n",
       "      <th>Value</th>\n",
       "      <td>3</td>\n",
       "      <td>15</td>\n",
       "      <td>1673.491434</td>\n",
       "      <td>0.0</td>\n",
       "      <td>4158.502617</td>\n",
       "      <td>0.596841</td>\n",
       "      <td>0.597574</td>\n",
       "      <td>-1.012132</td>\n",
       "      <td>0.597574</td>\n",
       "      <td>-1.015796</td>\n",
       "      <td>0.746584</td>\n",
       "      <td>32.653017</td>\n",
       "      <td>120.992612</td>\n",
       "      <td>1.673491</td>\n",
       "    </tr>\n",
       "  </tbody>\n",
       "</table>\n",
       "</div>"
      ],
      "text/plain": [
       "       DoF  DoF Baseline         chi2  chi2 p-value  chi2 Baseline       CFI  \\\n",
       "Value    3            15  1673.491434           0.0    4158.502617  0.596841   \n",
       "\n",
       "            GFI      AGFI       NFI       TLI     RMSEA        AIC  \\\n",
       "Value  0.597574 -1.012132  0.597574 -1.015796  0.746584  32.653017   \n",
       "\n",
       "              BIC    LogLik  \n",
       "Value  120.992612  1.673491  "
      ]
     },
     "execution_count": 7,
     "metadata": {},
     "output_type": "execute_result"
    }
   ],
   "source": [
    "lingam.utils.evaluate_model_fit(model.adjacency_matrix_, X)"
   ]
  },
  {
   "cell_type": "markdown",
   "id": "286b56f1-f5ff-4713-b695-cd7e3a0cc997",
   "metadata": {},
   "source": [
    "## When the data has ordinal variables\n",
    "\n",
    "### Test data"
   ]
  },
  {
   "cell_type": "code",
   "execution_count": 8,
   "id": "27039624-2df7-4639-aa6f-49925f65fd5a",
   "metadata": {},
   "outputs": [
    {
     "data": {
      "text/html": [
       "<div>\n",
       "<style scoped>\n",
       "    .dataframe tbody tr th:only-of-type {\n",
       "        vertical-align: middle;\n",
       "    }\n",
       "\n",
       "    .dataframe tbody tr th {\n",
       "        vertical-align: top;\n",
       "    }\n",
       "\n",
       "    .dataframe thead th {\n",
       "        text-align: right;\n",
       "    }\n",
       "</style>\n",
       "<table border=\"1\" class=\"dataframe\">\n",
       "  <thead>\n",
       "    <tr style=\"text-align: right;\">\n",
       "      <th></th>\n",
       "      <th>x0</th>\n",
       "      <th>x1</th>\n",
       "      <th>x2</th>\n",
       "      <th>x3</th>\n",
       "      <th>x4</th>\n",
       "      <th>x5</th>\n",
       "    </tr>\n",
       "  </thead>\n",
       "  <tbody>\n",
       "    <tr>\n",
       "      <th>0</th>\n",
       "      <td>0.471823</td>\n",
       "      <td>1.426239</td>\n",
       "      <td>1.0</td>\n",
       "      <td>0.129133</td>\n",
       "      <td>1.535926</td>\n",
       "      <td>0.567324</td>\n",
       "    </tr>\n",
       "    <tr>\n",
       "      <th>1</th>\n",
       "      <td>0.738933</td>\n",
       "      <td>1.723219</td>\n",
       "      <td>1.0</td>\n",
       "      <td>0.327512</td>\n",
       "      <td>1.806484</td>\n",
       "      <td>1.056211</td>\n",
       "    </tr>\n",
       "    <tr>\n",
       "      <th>2</th>\n",
       "      <td>1.143877</td>\n",
       "      <td>1.962664</td>\n",
       "      <td>1.0</td>\n",
       "      <td>0.538189</td>\n",
       "      <td>2.075554</td>\n",
       "      <td>1.865132</td>\n",
       "    </tr>\n",
       "    <tr>\n",
       "      <th>3</th>\n",
       "      <td>0.326486</td>\n",
       "      <td>0.946426</td>\n",
       "      <td>1.0</td>\n",
       "      <td>0.302415</td>\n",
       "      <td>0.675984</td>\n",
       "      <td>0.857528</td>\n",
       "    </tr>\n",
       "    <tr>\n",
       "      <th>4</th>\n",
       "      <td>0.942822</td>\n",
       "      <td>0.882616</td>\n",
       "      <td>0.0</td>\n",
       "      <td>0.529399</td>\n",
       "      <td>2.002522</td>\n",
       "      <td>1.063416</td>\n",
       "    </tr>\n",
       "  </tbody>\n",
       "</table>\n",
       "</div>"
      ],
      "text/plain": [
       "         x0        x1   x2        x3        x4        x5\n",
       "0  0.471823  1.426239  1.0  0.129133  1.535926  0.567324\n",
       "1  0.738933  1.723219  1.0  0.327512  1.806484  1.056211\n",
       "2  1.143877  1.962664  1.0  0.538189  2.075554  1.865132\n",
       "3  0.326486  0.946426  1.0  0.302415  0.675984  0.857528\n",
       "4  0.942822  0.882616  0.0  0.529399  2.002522  1.063416"
      ]
     },
     "execution_count": 8,
     "metadata": {},
     "output_type": "execute_result"
    }
   ],
   "source": [
    "x3 = np.random.uniform(size=1000)\n",
    "x0 = 0.6*x3 + np.random.uniform(size=1000)\n",
    "\n",
    "# discrete\n",
    "x2 = 1.2*x3 + np.random.uniform(size=1000)\n",
    "x2 = expit(x2 - np.mean(x2))\n",
    "vec_func = np.vectorize(lambda p: np.random.choice([0, 1], p=[p, 1 - p]))\n",
    "x2 = vec_func(x2)\n",
    "\n",
    "x1 = 0.6*x0 + 0.4*x2 + np.random.uniform(size=1000)\n",
    "x5 = 0.8*x0 + np.random.uniform(size=1000)\n",
    "x4 = 1.6*x0 - 0.2*x2 + np.random.uniform(size=1000)\n",
    "X = pd.DataFrame(np.array([x0, x1, x2, x3, x4, x5]).T ,columns=['x0', 'x1', 'x2', 'x3', 'x4', 'x5'])\n",
    "X.head()"
   ]
  },
  {
   "cell_type": "code",
   "execution_count": 9,
   "id": "d01460e7-ec6d-4178-b37c-ae95c4ee3938",
   "metadata": {},
   "outputs": [],
   "source": [
    "adjacency_matrix = np.array([\n",
    "    [0.0, 0.0, 0.0, 0.6, 0.0, 0.0],\n",
    "    [0.6, 0.0, 0.4, 0.0, 0.0, 0.0],\n",
    "    [0.0, 0.0, 0.0, 1.2, 0.0, 0.0],\n",
    "    [0.0, 0.0, 0.0, 0.0, 0.0, 0.0],\n",
    "    [1.6, 0.0,-0.2, 0.0, 0.0, 0.0],\n",
    "    [0.8, 0.0, 0.0, 0.0, 0.0, 0.0]]\n",
    ")"
   ]
  },
  {
   "cell_type": "markdown",
   "id": "f2feafea-69b0-4c39-8a58-f41ca9c24534",
   "metadata": {},
   "source": [
    "Specify whether each variable is an ordinal variable in `is_ordinal`."
   ]
  },
  {
   "cell_type": "code",
   "execution_count": 10,
   "id": "44d84f22-3bb2-4e5b-ba3e-0f67e9b3432f",
   "metadata": {},
   "outputs": [
    {
     "data": {
      "text/html": [
       "<div>\n",
       "<style scoped>\n",
       "    .dataframe tbody tr th:only-of-type {\n",
       "        vertical-align: middle;\n",
       "    }\n",
       "\n",
       "    .dataframe tbody tr th {\n",
       "        vertical-align: top;\n",
       "    }\n",
       "\n",
       "    .dataframe thead th {\n",
       "        text-align: right;\n",
       "    }\n",
       "</style>\n",
       "<table border=\"1\" class=\"dataframe\">\n",
       "  <thead>\n",
       "    <tr style=\"text-align: right;\">\n",
       "      <th></th>\n",
       "      <th>DoF</th>\n",
       "      <th>DoF Baseline</th>\n",
       "      <th>chi2</th>\n",
       "      <th>chi2 p-value</th>\n",
       "      <th>chi2 Baseline</th>\n",
       "      <th>CFI</th>\n",
       "      <th>GFI</th>\n",
       "      <th>AGFI</th>\n",
       "      <th>NFI</th>\n",
       "      <th>TLI</th>\n",
       "      <th>RMSEA</th>\n",
       "      <th>AIC</th>\n",
       "      <th>BIC</th>\n",
       "      <th>LogLik</th>\n",
       "    </tr>\n",
       "  </thead>\n",
       "  <tbody>\n",
       "    <tr>\n",
       "      <th>Value</th>\n",
       "      <td>16</td>\n",
       "      <td>16</td>\n",
       "      <td>2239.89739</td>\n",
       "      <td>0.0</td>\n",
       "      <td>2733.058196</td>\n",
       "      <td>0.181505</td>\n",
       "      <td>0.180443</td>\n",
       "      <td>0.180443</td>\n",
       "      <td>0.180443</td>\n",
       "      <td>0.181505</td>\n",
       "      <td>0.373005</td>\n",
       "      <td>5.520205</td>\n",
       "      <td>30.058982</td>\n",
       "      <td>2.239897</td>\n",
       "    </tr>\n",
       "  </tbody>\n",
       "</table>\n",
       "</div>"
      ],
      "text/plain": [
       "       DoF  DoF Baseline        chi2  chi2 p-value  chi2 Baseline       CFI  \\\n",
       "Value   16            16  2239.89739           0.0    2733.058196  0.181505   \n",
       "\n",
       "            GFI      AGFI       NFI       TLI     RMSEA       AIC        BIC  \\\n",
       "Value  0.180443  0.180443  0.180443  0.181505  0.373005  5.520205  30.058982   \n",
       "\n",
       "         LogLik  \n",
       "Value  2.239897  "
      ]
     },
     "execution_count": 10,
     "metadata": {},
     "output_type": "execute_result"
    }
   ],
   "source": [
    "lingam.utils.evaluate_model_fit(adjacency_matrix, X, is_ordinal=[0, 0, 1, 0, 0, 0])"
   ]
  },
  {
   "cell_type": "code",
   "execution_count": null,
   "id": "0cb2e908-90a8-457a-a925-1b92e576bb7d",
   "metadata": {},
   "outputs": [],
   "source": []
  }
 ],
 "metadata": {
  "kernelspec": {
   "display_name": "Python 3",
   "language": "python",
   "name": "python3"
  },
  "language_info": {
   "codemirror_mode": {
    "name": "ipython",
    "version": 3
   },
   "file_extension": ".py",
   "mimetype": "text/x-python",
   "name": "python",
   "nbconvert_exporter": "python",
   "pygments_lexer": "ipython3",
   "version": "3.8.10"
  },
  "widgets": {
   "application/vnd.jupyter.widget-state+json": {
    "state": {},
    "version_major": 2,
    "version_minor": 0
   }
  }
 },
 "nbformat": 4,
 "nbformat_minor": 5
}
