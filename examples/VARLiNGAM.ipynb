{
 "cells": [
  {
   "cell_type": "markdown",
   "metadata": {},
   "source": [
    "# VARLiNGAM"
   ]
  },
  {
   "cell_type": "markdown",
   "metadata": {},
   "source": [
    "## Import and settings\n",
    "In this example, we need to import `numpy`, `pandas`, and `graphviz` in addition to `lingam`."
   ]
  },
  {
   "cell_type": "code",
   "execution_count": 1,
   "metadata": {},
   "outputs": [
    {
     "name": "stdout",
     "output_type": "stream",
     "text": [
      "['1.16.2', '0.24.2', '0.11.1', '1.5.2']\n"
     ]
    }
   ],
   "source": [
    "import numpy as np\n",
    "import pandas as pd\n",
    "import graphviz\n",
    "import lingam\n",
    "from lingam.utils import make_dot, print_causal_directions, print_dagc\n",
    "\n",
    "print([np.__version__, pd.__version__, graphviz.__version__, lingam.__version__])\n",
    "\n",
    "np.set_printoptions(precision=3, suppress=True)\n",
    "np.random.seed(0)"
   ]
  },
  {
   "cell_type": "markdown",
   "metadata": {},
   "source": [
    "## Test data\n",
    "We create test data consisting of 5 variables."
   ]
  },
  {
   "cell_type": "code",
   "execution_count": 2,
   "metadata": {},
   "outputs": [],
   "source": [
    "B0 = [\n",
    "    [0,-0.12,0,0,0],\n",
    "    [0,0,0,0,0],\n",
    "    [-0.41,0.01,0,-0.02,0],\n",
    "    [0.04,-0.22,0,0,0],\n",
    "    [0.15,0,-0.03,0,0],\n",
    "]\n",
    "B1 = [\n",
    "    [-0.32,0,0.12,0.32,0],\n",
    "    [0,-0.35,-0.1,-0.46,0.4],\n",
    "    [0,0,0.37,0,0.46],\n",
    "    [-0.38,-0.1,-0.24,0,-0.13],\n",
    "    [0,0,0,0,0],\n",
    "]\n",
    "causal_order = [1, 0, 3, 2, 4]\n",
    "\n",
    "# data generated from B0 and B1\n",
    "X = pd.read_csv('data/sample_data_var_lingam.csv')"
   ]
  },
  {
   "cell_type": "markdown",
   "metadata": {},
   "source": [
    "## Causal Discovery\n",
    "To run causal discovery, we create a `VARLiNGAM` object and call the `fit` method."
   ]
  },
  {
   "cell_type": "code",
   "execution_count": 3,
   "metadata": {},
   "outputs": [
    {
     "data": {
      "text/plain": [
       "<lingam.var_lingam.VARLiNGAM at 0x234e2098588>"
      ]
     },
     "execution_count": 3,
     "metadata": {},
     "output_type": "execute_result"
    }
   ],
   "source": [
    "model = lingam.VARLiNGAM()\n",
    "model.fit(X)"
   ]
  },
  {
   "cell_type": "markdown",
   "metadata": {},
   "source": [
    "Using the `causal_order_` properties, we can see the causal ordering as a result of the causal discovery."
   ]
  },
  {
   "cell_type": "code",
   "execution_count": 4,
   "metadata": {},
   "outputs": [
    {
     "data": {
      "text/plain": [
       "[1, 0, 3, 2, 4]"
      ]
     },
     "execution_count": 4,
     "metadata": {},
     "output_type": "execute_result"
    }
   ],
   "source": [
    "model.causal_order_"
   ]
  },
  {
   "cell_type": "markdown",
   "metadata": {},
   "source": [
    "Also, using the `adjacency_matrices_` properties, we can see the adjacency matrix as a result of the causal discovery."
   ]
  },
  {
   "cell_type": "code",
   "execution_count": 5,
   "metadata": {},
   "outputs": [
    {
     "data": {
      "text/plain": [
       "array([[ 0.   , -0.144,  0.   ,  0.   ,  0.   ],\n",
       "       [ 0.   ,  0.   ,  0.   ,  0.   ,  0.   ],\n",
       "       [-0.372,  0.   ,  0.   ,  0.   ,  0.   ],\n",
       "       [ 0.069, -0.21 ,  0.   ,  0.   ,  0.   ],\n",
       "       [ 0.083,  0.   , -0.033,  0.   ,  0.   ]])"
      ]
     },
     "execution_count": 5,
     "metadata": {},
     "output_type": "execute_result"
    }
   ],
   "source": [
    "# B0\n",
    "model.adjacency_matrices_[0]"
   ]
  },
  {
   "cell_type": "code",
   "execution_count": 6,
   "metadata": {},
   "outputs": [
    {
     "data": {
      "text/plain": [
       "array([[-0.366, -0.011,  0.074,  0.297,  0.025],\n",
       "       [-0.083, -0.349, -0.168, -0.327,  0.43 ],\n",
       "       [ 0.077, -0.043,  0.427,  0.046,  0.49 ],\n",
       "       [-0.389, -0.097, -0.263,  0.014, -0.159],\n",
       "       [-0.018,  0.01 ,  0.001,  0.071,  0.003]])"
      ]
     },
     "execution_count": 6,
     "metadata": {},
     "output_type": "execute_result"
    }
   ],
   "source": [
    "# B1\n",
    "model.adjacency_matrices_[1]"
   ]
  },
  {
   "cell_type": "code",
   "execution_count": 7,
   "metadata": {},
   "outputs": [
    {
     "data": {
      "text/plain": [
       "array([[-0.308,  0.911, -1.152, -1.159,  0.179],\n",
       "       [ 1.364,  1.713, -1.389, -0.265, -0.192],\n",
       "       [-0.861,  0.249,  0.479, -1.557, -0.462],\n",
       "       ...,\n",
       "       [-1.202,  1.819,  0.99 , -0.855, -0.127],\n",
       "       [-0.133,  1.23 , -0.445, -0.753,  1.096],\n",
       "       [-0.069,  0.558,  0.21 , -0.863, -0.189]])"
      ]
     },
     "execution_count": 7,
     "metadata": {},
     "output_type": "execute_result"
    }
   ],
   "source": [
    "model.residuals_"
   ]
  },
  {
   "cell_type": "markdown",
   "metadata": {},
   "source": [
    "Using `DirectLiNGAM` for the `residuals_` properties, we can calculate B0 matrix."
   ]
  },
  {
   "cell_type": "code",
   "execution_count": 8,
   "metadata": {},
   "outputs": [
    {
     "data": {
      "text/plain": [
       "array([[ 0.   , -0.144,  0.   ,  0.   ,  0.   ],\n",
       "       [ 0.   ,  0.   ,  0.   ,  0.   ,  0.   ],\n",
       "       [-0.372,  0.   ,  0.   ,  0.   ,  0.   ],\n",
       "       [ 0.069, -0.21 ,  0.   ,  0.   ,  0.   ],\n",
       "       [ 0.083,  0.   , -0.033,  0.   ,  0.   ]])"
      ]
     },
     "execution_count": 8,
     "metadata": {},
     "output_type": "execute_result"
    }
   ],
   "source": [
    "dlingam = lingam.DirectLiNGAM()\n",
    "dlingam.fit(model.residuals_)\n",
    "dlingam.adjacency_matrix_"
   ]
  },
  {
   "cell_type": "markdown",
   "metadata": {},
   "source": [
    "We can draw a causal graph by utility funciton."
   ]
  },
  {
   "cell_type": "code",
   "execution_count": 9,
   "metadata": {},
   "outputs": [
    {
     "data": {
      "image/svg+xml": [
       "<?xml version=\"1.0\" encoding=\"UTF-8\" standalone=\"no\"?>\r\n",
       "<!DOCTYPE svg PUBLIC \"-//W3C//DTD SVG 1.1//EN\"\r\n",
       " \"http://www.w3.org/Graphics/SVG/1.1/DTD/svg11.dtd\">\r\n",
       "<!-- Generated by graphviz version 2.38.0 (20140413.2041)\r\n",
       " -->\r\n",
       "<!-- Title: %3 Pages: 1 -->\r\n",
       "<svg width=\"626pt\" height=\"305pt\"\r\n",
       " viewBox=\"0.00 0.00 626.10 305.00\" xmlns=\"http://www.w3.org/2000/svg\" xmlns:xlink=\"http://www.w3.org/1999/xlink\">\r\n",
       "<g id=\"graph0\" class=\"graph\" transform=\"scale(1 1) rotate(0) translate(4 301)\">\r\n",
       "<title>%3</title>\r\n",
       "<polygon fill=\"white\" stroke=\"none\" points=\"-4,4 -4,-301 622.097,-301 622.097,4 -4,4\"/>\r\n",
       "<!-- x0(t) -->\r\n",
       "<g id=\"node1\" class=\"node\"><title>x0(t)</title>\r\n",
       "<ellipse fill=\"none\" stroke=\"black\" cx=\"391.097\" cy=\"-105\" rx=\"27.8951\" ry=\"18\"/>\r\n",
       "<text text-anchor=\"middle\" x=\"391.097\" y=\"-101.3\" font-family=\"Times New Roman,serif\" font-size=\"14.00\">x0(t)</text>\r\n",
       "</g>\r\n",
       "<!-- x2(t) -->\r\n",
       "<g id=\"node3\" class=\"node\"><title>x2(t)</title>\r\n",
       "<ellipse fill=\"none\" stroke=\"black\" cx=\"363.097\" cy=\"-18\" rx=\"27.8951\" ry=\"18\"/>\r\n",
       "<text text-anchor=\"middle\" x=\"363.097\" y=\"-14.3\" font-family=\"Times New Roman,serif\" font-size=\"14.00\">x2(t)</text>\r\n",
       "</g>\r\n",
       "<!-- x0(t)&#45;&gt;x2(t) -->\r\n",
       "<g id=\"edge10\" class=\"edge\"><title>x0(t)&#45;&gt;x2(t)</title>\r\n",
       "<path fill=\"none\" stroke=\"black\" d=\"M385.565,-87.2067C381.653,-75.332 376.329,-59.1684 371.845,-45.5567\"/>\r\n",
       "<polygon fill=\"black\" stroke=\"black\" points=\"375.07,-44.1613 368.617,-35.7584 368.422,-46.3514 375.07,-44.1613\"/>\r\n",
       "<text text-anchor=\"middle\" x=\"393.597\" y=\"-57.8\" font-family=\"Times New Roman,serif\" font-size=\"14.00\">&#45;0.37</text>\r\n",
       "</g>\r\n",
       "<!-- x3(t) -->\r\n",
       "<g id=\"node4\" class=\"node\"><title>x3(t)</title>\r\n",
       "<ellipse fill=\"none\" stroke=\"black\" cx=\"133.097\" cy=\"-18\" rx=\"27.8951\" ry=\"18\"/>\r\n",
       "<text text-anchor=\"middle\" x=\"133.097\" y=\"-14.3\" font-family=\"Times New Roman,serif\" font-size=\"14.00\">x3(t)</text>\r\n",
       "</g>\r\n",
       "<!-- x0(t)&#45;&gt;x3(t) -->\r\n",
       "<g id=\"edge14\" class=\"edge\"><title>x0(t)&#45;&gt;x3(t)</title>\r\n",
       "<path fill=\"none\" stroke=\"black\" d=\"M366.825,-96.0034C320.629,-80.784 219.969,-47.6207 167.093,-30.2003\"/>\r\n",
       "<polygon fill=\"black\" stroke=\"black\" points=\"168.085,-26.8422 157.492,-27.0373 165.895,-33.4907 168.085,-26.8422\"/>\r\n",
       "<text text-anchor=\"middle\" x=\"290.597\" y=\"-57.8\" font-family=\"Times New Roman,serif\" font-size=\"14.00\">0.07</text>\r\n",
       "</g>\r\n",
       "<!-- x4(t) -->\r\n",
       "<g id=\"node5\" class=\"node\"><title>x4(t)</title>\r\n",
       "<ellipse fill=\"none\" stroke=\"black\" cx=\"448.097\" cy=\"-18\" rx=\"27.8951\" ry=\"18\"/>\r\n",
       "<text text-anchor=\"middle\" x=\"448.097\" y=\"-14.3\" font-family=\"Times New Roman,serif\" font-size=\"14.00\">x4(t)</text>\r\n",
       "</g>\r\n",
       "<!-- x0(t)&#45;&gt;x4(t) -->\r\n",
       "<g id=\"edge20\" class=\"edge\"><title>x0(t)&#45;&gt;x4(t)</title>\r\n",
       "<path fill=\"none\" stroke=\"black\" d=\"M401.818,-88.0122C410.257,-75.4274 422.159,-57.6788 431.78,-43.3325\"/>\r\n",
       "<polygon fill=\"black\" stroke=\"black\" points=\"434.761,-45.171 437.424,-34.9162 428.947,-41.2723 434.761,-45.171\"/>\r\n",
       "<text text-anchor=\"middle\" x=\"435.597\" y=\"-57.8\" font-family=\"Times New Roman,serif\" font-size=\"14.00\">0.08</text>\r\n",
       "</g>\r\n",
       "<!-- x1(t) -->\r\n",
       "<g id=\"node2\" class=\"node\"><title>x1(t)</title>\r\n",
       "<ellipse fill=\"none\" stroke=\"black\" cx=\"266.097\" cy=\"-192\" rx=\"27.8951\" ry=\"18\"/>\r\n",
       "<text text-anchor=\"middle\" x=\"266.097\" y=\"-188.3\" font-family=\"Times New Roman,serif\" font-size=\"14.00\">x1(t)</text>\r\n",
       "</g>\r\n",
       "<!-- x1(t)&#45;&gt;x0(t) -->\r\n",
       "<g id=\"edge1\" class=\"edge\"><title>x1(t)&#45;&gt;x0(t)</title>\r\n",
       "<path fill=\"none\" stroke=\"black\" d=\"M286.654,-179.567C298.156,-172.982 312.643,-164.372 325.097,-156 339.152,-146.551 354.248,-135.21 366.451,-125.719\"/>\r\n",
       "<polygon fill=\"black\" stroke=\"black\" points=\"368.683,-128.417 374.389,-119.49 364.361,-122.91 368.683,-128.417\"/>\r\n",
       "<text text-anchor=\"middle\" x=\"360.597\" y=\"-144.8\" font-family=\"Times New Roman,serif\" font-size=\"14.00\">&#45;0.14</text>\r\n",
       "</g>\r\n",
       "<!-- x1(t)&#45;&gt;x3(t) -->\r\n",
       "<g id=\"edge15\" class=\"edge\"><title>x1(t)&#45;&gt;x3(t)</title>\r\n",
       "<path fill=\"none\" stroke=\"black\" d=\"M239.29,-186.777C219.57,-182.332 193.454,-173.438 177.097,-156 148.632,-125.655 138.582,-76.8088 135.033,-46.3774\"/>\r\n",
       "<polygon fill=\"black\" stroke=\"black\" points=\"138.479,-45.6676 133.998,-36.0673 131.514,-46.367 138.479,-45.6676\"/>\r\n",
       "<text text-anchor=\"middle\" x=\"169.597\" y=\"-101.3\" font-family=\"Times New Roman,serif\" font-size=\"14.00\">&#45;0.21</text>\r\n",
       "</g>\r\n",
       "<!-- x0(t&#45;1) -->\r\n",
       "<g id=\"node6\" class=\"node\"><title>x0(t&#45;1)</title>\r\n",
       "<ellipse fill=\"none\" stroke=\"black\" cx=\"439.097\" cy=\"-279\" rx=\"35.194\" ry=\"18\"/>\r\n",
       "<text text-anchor=\"middle\" x=\"439.097\" y=\"-275.3\" font-family=\"Times New Roman,serif\" font-size=\"14.00\">x0(t&#45;1)</text>\r\n",
       "</g>\r\n",
       "<!-- x0(t&#45;1)&#45;&gt;x0(t) -->\r\n",
       "<g id=\"edge2\" class=\"edge\"><title>x0(t&#45;1)&#45;&gt;x0(t)</title>\r\n",
       "<path fill=\"none\" stroke=\"black\" d=\"M439.843,-260.998C440.263,-240.042 439.36,-203.574 430.097,-174 425.22,-158.428 416.356,-142.527 408.31,-130.02\"/>\r\n",
       "<polygon fill=\"black\" stroke=\"black\" points=\"411.129,-127.938 402.665,-121.566 405.308,-131.826 411.129,-127.938\"/>\r\n",
       "<text text-anchor=\"middle\" x=\"452.597\" y=\"-188.3\" font-family=\"Times New Roman,serif\" font-size=\"14.00\">&#45;0.37</text>\r\n",
       "</g>\r\n",
       "<!-- x0(t&#45;1)&#45;&gt;x1(t) -->\r\n",
       "<g id=\"edge5\" class=\"edge\"><title>x0(t&#45;1)&#45;&gt;x1(t)</title>\r\n",
       "<path fill=\"none\" stroke=\"black\" d=\"M404.172,-276.882C373.093,-274.276 327.781,-266.355 296.097,-243 287.839,-236.913 281.417,-227.809 276.673,-219.032\"/>\r\n",
       "<polygon fill=\"black\" stroke=\"black\" points=\"279.699,-217.252 272.175,-209.793 273.406,-220.316 279.699,-217.252\"/>\r\n",
       "<text text-anchor=\"middle\" x=\"310.597\" y=\"-231.8\" font-family=\"Times New Roman,serif\" font-size=\"14.00\">&#45;0.08</text>\r\n",
       "</g>\r\n",
       "<!-- x0(t&#45;1)&#45;&gt;x2(t) -->\r\n",
       "<g id=\"edge11\" class=\"edge\"><title>x0(t&#45;1)&#45;&gt;x2(t)</title>\r\n",
       "<path fill=\"none\" stroke=\"black\" d=\"M449.285,-261.695C456.983,-248.361 466.913,-228.718 471.097,-210 481.619,-162.927 459.774,-63.5598 452.097,-54 450.181,-51.6142 420.954,-40.3684 396.509,-31.2587\"/>\r\n",
       "<polygon fill=\"black\" stroke=\"black\" points=\"397.695,-27.9655 387.101,-27.7696 395.26,-34.5287 397.695,-27.9655\"/>\r\n",
       "<text text-anchor=\"middle\" x=\"485.597\" y=\"-144.8\" font-family=\"Times New Roman,serif\" font-size=\"14.00\">0.08</text>\r\n",
       "</g>\r\n",
       "<!-- x0(t&#45;1)&#45;&gt;x3(t) -->\r\n",
       "<g id=\"edge16\" class=\"edge\"><title>x0(t&#45;1)&#45;&gt;x3(t)</title>\r\n",
       "<path fill=\"none\" stroke=\"black\" d=\"M435.372,-260.943C429.194,-234.333 416.113,-184.854 402.097,-174 366.465,-146.407 233.263,-186.512 200.097,-156 177.189,-134.926 200.964,-115.343 188.097,-87 180.196,-69.5967 166.768,-52.8676 155.158,-40.3572\"/>\r\n",
       "<polygon fill=\"black\" stroke=\"black\" points=\"157.681,-37.9317 148.23,-33.1445 152.633,-42.781 157.681,-37.9317\"/>\r\n",
       "<text text-anchor=\"middle\" x=\"214.597\" y=\"-144.8\" font-family=\"Times New Roman,serif\" font-size=\"14.00\">&#45;0.39</text>\r\n",
       "</g>\r\n",
       "<!-- x1(t&#45;1) -->\r\n",
       "<g id=\"node7\" class=\"node\"><title>x1(t&#45;1)</title>\r\n",
       "<ellipse fill=\"none\" stroke=\"black\" cx=\"131.097\" cy=\"-279\" rx=\"35.194\" ry=\"18\"/>\r\n",
       "<text text-anchor=\"middle\" x=\"131.097\" y=\"-275.3\" font-family=\"Times New Roman,serif\" font-size=\"14.00\">x1(t&#45;1)</text>\r\n",
       "</g>\r\n",
       "<!-- x1(t&#45;1)&#45;&gt;x1(t) -->\r\n",
       "<g id=\"edge6\" class=\"edge\"><title>x1(t&#45;1)&#45;&gt;x1(t)</title>\r\n",
       "<path fill=\"none\" stroke=\"black\" d=\"M150.936,-264.016C165.69,-253.759 186.414,-239.65 205.097,-228 215.25,-221.669 226.569,-215.056 236.673,-209.305\"/>\r\n",
       "<polygon fill=\"black\" stroke=\"black\" points=\"238.555,-212.262 245.543,-204.298 235.114,-206.166 238.555,-212.262\"/>\r\n",
       "<text text-anchor=\"middle\" x=\"219.597\" y=\"-231.8\" font-family=\"Times New Roman,serif\" font-size=\"14.00\">&#45;0.35</text>\r\n",
       "</g>\r\n",
       "<!-- x1(t&#45;1)&#45;&gt;x3(t) -->\r\n",
       "<g id=\"edge17\" class=\"edge\"><title>x1(t&#45;1)&#45;&gt;x3(t)</title>\r\n",
       "<path fill=\"none\" stroke=\"black\" d=\"M118.104,-261.871C101.1,-239.619 72.1646,-197.529 61.0969,-156 50.8147,-117.419 80.9701,-76.2141 96.0969,-54 99.604,-48.8497 103.984,-43.8828 108.49,-39.3885\"/>\r\n",
       "<polygon fill=\"black\" stroke=\"black\" points=\"111.139,-41.704 116.062,-32.3224 106.363,-36.5863 111.139,-41.704\"/>\r\n",
       "<text text-anchor=\"middle\" x=\"75.5969\" y=\"-144.8\" font-family=\"Times New Roman,serif\" font-size=\"14.00\">&#45;0.10</text>\r\n",
       "</g>\r\n",
       "<!-- x2(t&#45;1) -->\r\n",
       "<g id=\"node8\" class=\"node\"><title>x2(t&#45;1)</title>\r\n",
       "<ellipse fill=\"none\" stroke=\"black\" cx=\"227.097\" cy=\"-279\" rx=\"35.194\" ry=\"18\"/>\r\n",
       "<text text-anchor=\"middle\" x=\"227.097\" y=\"-275.3\" font-family=\"Times New Roman,serif\" font-size=\"14.00\">x2(t&#45;1)</text>\r\n",
       "</g>\r\n",
       "<!-- x2(t&#45;1)&#45;&gt;x0(t) -->\r\n",
       "<g id=\"edge3\" class=\"edge\"><title>x2(t&#45;1)&#45;&gt;x0(t)</title>\r\n",
       "<path fill=\"none\" stroke=\"black\" d=\"M261.423,-274.581C300.861,-269.898 362.08,-260.063 377.097,-243 403.519,-212.977 401.389,-163.696 396.739,-133.142\"/>\r\n",
       "<polygon fill=\"black\" stroke=\"black\" points=\"400.17,-132.443 395.031,-123.178 393.271,-133.626 400.17,-132.443\"/>\r\n",
       "<text text-anchor=\"middle\" x=\"412.597\" y=\"-188.3\" font-family=\"Times New Roman,serif\" font-size=\"14.00\">0.07</text>\r\n",
       "</g>\r\n",
       "<!-- x2(t&#45;1)&#45;&gt;x1(t) -->\r\n",
       "<g id=\"edge7\" class=\"edge\"><title>x2(t&#45;1)&#45;&gt;x1(t)</title>\r\n",
       "<path fill=\"none\" stroke=\"black\" d=\"M231.812,-260.947C234.801,-251.096 239.051,-238.596 244.097,-228 245.818,-224.385 247.834,-220.684 249.934,-217.106\"/>\r\n",
       "<polygon fill=\"black\" stroke=\"black\" points=\"252.922,-218.929 255.209,-208.583 246.97,-215.245 252.922,-218.929\"/>\r\n",
       "<text text-anchor=\"middle\" x=\"258.597\" y=\"-231.8\" font-family=\"Times New Roman,serif\" font-size=\"14.00\">&#45;0.17</text>\r\n",
       "</g>\r\n",
       "<!-- x2(t&#45;1)&#45;&gt;x2(t) -->\r\n",
       "<g id=\"edge12\" class=\"edge\"><title>x2(t&#45;1)&#45;&gt;x2(t)</title>\r\n",
       "<path fill=\"none\" stroke=\"black\" d=\"M222.09,-261.103C216.614,-238.927 210.847,-199.801 229.097,-174 242.254,-155.399 259.445,-170.406 277.097,-156 313.845,-126.009 339.539,-75.954 352.768,-45.3672\"/>\r\n",
       "<polygon fill=\"black\" stroke=\"black\" points=\"356.141,-46.3735 356.775,-35.7977 349.684,-43.6701 356.141,-46.3735\"/>\r\n",
       "<text text-anchor=\"middle\" x=\"305.597\" y=\"-144.8\" font-family=\"Times New Roman,serif\" font-size=\"14.00\">0.43</text>\r\n",
       "</g>\r\n",
       "<!-- x2(t&#45;1)&#45;&gt;x3(t) -->\r\n",
       "<g id=\"edge18\" class=\"edge\"><title>x2(t&#45;1)&#45;&gt;x3(t)</title>\r\n",
       "<path fill=\"none\" stroke=\"black\" d=\"M204.79,-264.908C196.026,-259.004 186.349,-251.454 179.097,-243 150.752,-209.959 144.632,-198.239 134.097,-156 124.849,-118.919 126.815,-74.4182 129.562,-46.4176\"/>\r\n",
       "<polygon fill=\"black\" stroke=\"black\" points=\"133.072,-46.5147 130.673,-36.1951 126.113,-45.7585 133.072,-46.5147\"/>\r\n",
       "<text text-anchor=\"middle\" x=\"148.597\" y=\"-144.8\" font-family=\"Times New Roman,serif\" font-size=\"14.00\">&#45;0.26</text>\r\n",
       "</g>\r\n",
       "<!-- x3(t&#45;1) -->\r\n",
       "<g id=\"node9\" class=\"node\"><title>x3(t&#45;1)</title>\r\n",
       "<ellipse fill=\"none\" stroke=\"black\" cx=\"565.097\" cy=\"-279\" rx=\"35.194\" ry=\"18\"/>\r\n",
       "<text text-anchor=\"middle\" x=\"565.097\" y=\"-275.3\" font-family=\"Times New Roman,serif\" font-size=\"14.00\">x3(t&#45;1)</text>\r\n",
       "</g>\r\n",
       "<!-- x3(t&#45;1)&#45;&gt;x0(t) -->\r\n",
       "<g id=\"edge4\" class=\"edge\"><title>x3(t&#45;1)&#45;&gt;x0(t)</title>\r\n",
       "<path fill=\"none\" stroke=\"black\" d=\"M568.626,-260.737C573.413,-231.984 578.233,-174.174 548.097,-141 532.344,-123.66 469.802,-114.015 428.568,-109.427\"/>\r\n",
       "<polygon fill=\"black\" stroke=\"black\" points=\"428.898,-105.942 418.585,-108.368 428.16,-112.903 428.898,-105.942\"/>\r\n",
       "<text text-anchor=\"middle\" x=\"584.597\" y=\"-188.3\" font-family=\"Times New Roman,serif\" font-size=\"14.00\">0.30</text>\r\n",
       "</g>\r\n",
       "<!-- x3(t&#45;1)&#45;&gt;x1(t) -->\r\n",
       "<g id=\"edge8\" class=\"edge\"><title>x3(t&#45;1)&#45;&gt;x1(t)</title>\r\n",
       "<path fill=\"none\" stroke=\"black\" d=\"M535.059,-269.461C479.342,-253.621 360.276,-219.773 301.049,-202.936\"/>\r\n",
       "<polygon fill=\"black\" stroke=\"black\" points=\"301.971,-199.56 291.395,-200.192 300.057,-206.293 301.971,-199.56\"/>\r\n",
       "<text text-anchor=\"middle\" x=\"448.597\" y=\"-231.8\" font-family=\"Times New Roman,serif\" font-size=\"14.00\">&#45;0.33</text>\r\n",
       "</g>\r\n",
       "<!-- x3(t&#45;1)&#45;&gt;x4(t) -->\r\n",
       "<g id=\"edge21\" class=\"edge\"><title>x3(t&#45;1)&#45;&gt;x4(t)</title>\r\n",
       "<path fill=\"none\" stroke=\"black\" d=\"M577.954,-261.935C592.794,-241.324 613.647,-204.579 601.097,-174 575.778,-112.309 512.73,-62.0544 475.954,-36.7574\"/>\r\n",
       "<polygon fill=\"black\" stroke=\"black\" points=\"477.897,-33.8465 467.648,-31.1615 473.986,-39.6518 477.897,-33.8465\"/>\r\n",
       "<text text-anchor=\"middle\" x=\"605.597\" y=\"-144.8\" font-family=\"Times New Roman,serif\" font-size=\"14.00\">0.07</text>\r\n",
       "</g>\r\n",
       "<!-- x4(t&#45;1) -->\r\n",
       "<g id=\"node10\" class=\"node\"><title>x4(t&#45;1)</title>\r\n",
       "<ellipse fill=\"none\" stroke=\"black\" cx=\"35.0969\" cy=\"-279\" rx=\"35.194\" ry=\"18\"/>\r\n",
       "<text text-anchor=\"middle\" x=\"35.0969\" y=\"-275.3\" font-family=\"Times New Roman,serif\" font-size=\"14.00\">x4(t&#45;1)</text>\r\n",
       "</g>\r\n",
       "<!-- x4(t&#45;1)&#45;&gt;x1(t) -->\r\n",
       "<g id=\"edge9\" class=\"edge\"><title>x4(t&#45;1)&#45;&gt;x1(t)</title>\r\n",
       "<path fill=\"none\" stroke=\"black\" d=\"M60.8154,-266.36C84.7295,-255.736 121.472,-239.921 154.097,-228 179.65,-218.663 209.022,-209.543 231.275,-202.954\"/>\r\n",
       "<polygon fill=\"black\" stroke=\"black\" points=\"232.348,-206.287 240.959,-200.113 230.378,-199.57 232.348,-206.287\"/>\r\n",
       "<text text-anchor=\"middle\" x=\"166.597\" y=\"-231.8\" font-family=\"Times New Roman,serif\" font-size=\"14.00\">0.43</text>\r\n",
       "</g>\r\n",
       "<!-- x4(t&#45;1)&#45;&gt;x2(t) -->\r\n",
       "<g id=\"edge13\" class=\"edge\"><title>x4(t&#45;1)&#45;&gt;x2(t)</title>\r\n",
       "<path fill=\"none\" stroke=\"black\" d=\"M56.2035,-264.602C72.1056,-254.518 94.4538,-240.365 114.097,-228 165.13,-195.875 191.398,-203.065 229.097,-156 259.152,-118.479 231.167,-88.0568 265.097,-54 281.241,-37.7957 305.387,-29.0587 325.671,-24.3664\"/>\r\n",
       "<polygon fill=\"black\" stroke=\"black\" points=\"326.481,-27.7729 335.564,-22.318 325.062,-20.9183 326.481,-27.7729\"/>\r\n",
       "<text text-anchor=\"middle\" x=\"251.597\" y=\"-144.8\" font-family=\"Times New Roman,serif\" font-size=\"14.00\">0.49</text>\r\n",
       "</g>\r\n",
       "<!-- x4(t&#45;1)&#45;&gt;x3(t) -->\r\n",
       "<g id=\"edge19\" class=\"edge\"><title>x4(t&#45;1)&#45;&gt;x3(t)</title>\r\n",
       "<path fill=\"none\" stroke=\"black\" d=\"M27.5,-261.251C25.3009,-255.578 23.1976,-249.125 22.0969,-243 17.5488,-217.693 5.32979,-212.268 26.0969,-141 39.0291,-96.6193 49.4983,-85.7494 83.0969,-54 89.6287,-47.8277 97.3204,-41.9036 104.687,-36.7407\"/>\r\n",
       "<polygon fill=\"black\" stroke=\"black\" points=\"106.768,-39.5584 113.095,-31.0603 102.85,-33.7579 106.768,-39.5584\"/>\r\n",
       "<text text-anchor=\"middle\" x=\"40.5969\" y=\"-144.8\" font-family=\"Times New Roman,serif\" font-size=\"14.00\">&#45;0.16</text>\r\n",
       "</g>\r\n",
       "</g>\r\n",
       "</svg>\r\n"
      ],
      "text/plain": [
       "<graphviz.dot.Digraph at 0x234e709b668>"
      ]
     },
     "execution_count": 9,
     "metadata": {},
     "output_type": "execute_result"
    }
   ],
   "source": [
    "labels = ['x0(t)', 'x1(t)', 'x2(t)', 'x3(t)', 'x4(t)', 'x0(t-1)', 'x1(t-1)', 'x2(t-1)', 'x3(t-1)', 'x4(t-1)']\n",
    "make_dot(np.hstack(model.adjacency_matrices_), ignore_shape=True, lower_limit=0.05, labels=labels)"
   ]
  },
  {
   "cell_type": "markdown",
   "metadata": {},
   "source": [
    "## Independence between error variables\n",
    "To check if the LiNGAM assumption is broken, we can get p-values of independence between error variables. The value in the i-th row and j-th column of the obtained matrix shows the p-value of the independence of the error variables $e_i$ and $e_j$."
   ]
  },
  {
   "cell_type": "code",
   "execution_count": 10,
   "metadata": {},
   "outputs": [
    {
     "name": "stdout",
     "output_type": "stream",
     "text": [
      "[[0.    0.065 0.068 0.038 0.249]\n",
      " [0.065 0.    0.13  0.88  0.57 ]\n",
      " [0.068 0.13  0.    0.321 0.231]\n",
      " [0.038 0.88  0.321 0.    0.839]\n",
      " [0.249 0.57  0.231 0.839 0.   ]]\n"
     ]
    }
   ],
   "source": [
    "p_values = model.get_error_independence_p_values()\n",
    "print(p_values)"
   ]
  },
  {
   "cell_type": "markdown",
   "metadata": {},
   "source": [
    "## Bootstrap"
   ]
  },
  {
   "cell_type": "markdown",
   "metadata": {},
   "source": [
    "### Bootstrapping\n",
    "We call `bootstrap()` method instead of `fit()`. Here, the second argument specifies the number of bootstrap sampling."
   ]
  },
  {
   "cell_type": "code",
   "execution_count": 11,
   "metadata": {},
   "outputs": [],
   "source": [
    "model = lingam.VARLiNGAM()\n",
    "result = model.bootstrap(X, n_sampling=100)"
   ]
  },
  {
   "cell_type": "markdown",
   "metadata": {},
   "source": [
    "## Causal Directions\n",
    "Since `BootstrapResult` object is returned, we can get the ranking of the causal directions extracted by `get_causal_direction_counts()` method. In the following sample code, `n_directions` option is limited to the causal directions of the top 8 rankings, and `min_causal_effect` option is limited to causal directions with a coefficient of 0.3 or more."
   ]
  },
  {
   "cell_type": "code",
   "execution_count": 12,
   "metadata": {},
   "outputs": [],
   "source": [
    "cdc = result.get_causal_direction_counts(n_directions=8, min_causal_effect=0.3, split_by_causal_effect_sign=True)"
   ]
  },
  {
   "cell_type": "markdown",
   "metadata": {},
   "source": [
    "We can check the result by utility function."
   ]
  },
  {
   "cell_type": "code",
   "execution_count": 13,
   "metadata": {},
   "outputs": [
    {
     "name": "stdout",
     "output_type": "stream",
     "text": [
      "x0(t) <--- x0(t-1) (b<0) (100.0%)\n",
      "x1(t) <--- x1(t-1) (b<0) (100.0%)\n",
      "x1(t) <--- x3(t-1) (b<0) (100.0%)\n",
      "x1(t) <--- x4(t-1) (b>0) (100.0%)\n",
      "x2(t) <--- x2(t-1) (b>0) (100.0%)\n",
      "x2(t) <--- x4(t-1) (b>0) (100.0%)\n",
      "x3(t) <--- x0(t-1) (b<0) (100.0%)\n",
      "x2(t) <--- x0(t) (b<0) (99.0%)\n"
     ]
    }
   ],
   "source": [
    "print_causal_directions(cdc, 100, labels=labels)"
   ]
  },
  {
   "cell_type": "markdown",
   "metadata": {},
   "source": [
    "## Directed Acyclic Graphs\n",
    "Also, using the `get_directed_acyclic_graph_counts()` method, we can get the ranking of the DAGs extracted. In the following sample code, `n_dags` option is limited to the dags of the top 3 rankings, and `min_causal_effect` option is limited to causal directions with a coefficient of 0.2 or more."
   ]
  },
  {
   "cell_type": "code",
   "execution_count": 14,
   "metadata": {},
   "outputs": [],
   "source": [
    "dagc = result.get_directed_acyclic_graph_counts(n_dags=3, min_causal_effect=0.2, split_by_causal_effect_sign=True)"
   ]
  },
  {
   "cell_type": "markdown",
   "metadata": {},
   "source": [
    "We can check the result by utility function."
   ]
  },
  {
   "cell_type": "code",
   "execution_count": 15,
   "metadata": {},
   "outputs": [
    {
     "name": "stdout",
     "output_type": "stream",
     "text": [
      "DAG[0]: 57.0%\n",
      "\tx0(t) <--- x0(t-1) (b<0)\n",
      "\tx0(t) <--- x3(t-1) (b>0)\n",
      "\tx1(t) <--- x1(t-1) (b<0)\n",
      "\tx1(t) <--- x3(t-1) (b<0)\n",
      "\tx1(t) <--- x4(t-1) (b>0)\n",
      "\tx2(t) <--- x0(t) (b<0)\n",
      "\tx2(t) <--- x2(t-1) (b>0)\n",
      "\tx2(t) <--- x4(t-1) (b>0)\n",
      "\tx3(t) <--- x1(t) (b<0)\n",
      "\tx3(t) <--- x0(t-1) (b<0)\n",
      "\tx3(t) <--- x2(t-1) (b<0)\n",
      "DAG[1]: 42.0%\n",
      "\tx0(t) <--- x0(t-1) (b<0)\n",
      "\tx0(t) <--- x3(t-1) (b>0)\n",
      "\tx1(t) <--- x1(t-1) (b<0)\n",
      "\tx1(t) <--- x3(t-1) (b<0)\n",
      "\tx1(t) <--- x4(t-1) (b>0)\n",
      "\tx2(t) <--- x0(t) (b<0)\n",
      "\tx2(t) <--- x2(t-1) (b>0)\n",
      "\tx2(t) <--- x4(t-1) (b>0)\n",
      "\tx3(t) <--- x0(t-1) (b<0)\n",
      "\tx3(t) <--- x2(t-1) (b<0)\n",
      "DAG[2]: 1.0%\n",
      "\tx0(t) <--- x0(t-1) (b<0)\n",
      "\tx0(t) <--- x3(t-1) (b>0)\n",
      "\tx1(t) <--- x1(t-1) (b<0)\n",
      "\tx1(t) <--- x3(t-1) (b<0)\n",
      "\tx1(t) <--- x4(t-1) (b>0)\n",
      "\tx2(t) <--- x0(t) (b<0)\n",
      "\tx2(t) <--- x2(t-1) (b>0)\n",
      "\tx2(t) <--- x4(t-1) (b>0)\n",
      "\tx3(t) <--- x1(t) (b<0)\n",
      "\tx3(t) <--- x0(t-1) (b<0)\n",
      "\tx3(t) <--- x2(t-1) (b<0)\n",
      "\tx4(t) <--- x0(t) (b>0)\n"
     ]
    }
   ],
   "source": [
    "print_dagc(dagc, 100, labels=labels)"
   ]
  },
  {
   "cell_type": "markdown",
   "metadata": {},
   "source": [
    "## Probability\n",
    "Using the `get_probabilities()` method, we can get the probability of bootstrapping."
   ]
  },
  {
   "cell_type": "code",
   "execution_count": 16,
   "metadata": {},
   "outputs": [
    {
     "name": "stdout",
     "output_type": "stream",
     "text": [
      "Probability of B0:\n",
      " [[0.   0.98 0.   0.02 0.  ]\n",
      " [0.   0.   0.   0.   0.  ]\n",
      " [1.   0.   0.   0.   0.01]\n",
      " [0.1  1.   0.   0.   0.  ]\n",
      " [0.51 0.   0.02 0.08 0.  ]]\n",
      "Probability of B1:\n",
      " [[1.   0.   0.02 1.   0.  ]\n",
      " [0.   1.   1.   1.   1.  ]\n",
      " [0.03 0.   1.   0.05 1.  ]\n",
      " [1.   0.16 1.   0.   1.  ]\n",
      " [0.   0.   0.   0.25 0.  ]]\n"
     ]
    }
   ],
   "source": [
    "prob = result.get_probabilities(min_causal_effect=0.1)\n",
    "print('Probability of B0:\\n', prob[0])\n",
    "print('Probability of B1:\\n', prob[1])"
   ]
  },
  {
   "cell_type": "markdown",
   "metadata": {},
   "source": [
    "## Total Causal Effects\n",
    "Using the `get_causal_effects()` method, we can get the list of total causal effect. The total causal effects we can get are dictionary type variable.\n",
    "We can display the list nicely by assigning it to pandas.DataFrame. Also, we have replaced the variable index with a label below."
   ]
  },
  {
   "cell_type": "code",
   "execution_count": 17,
   "metadata": {},
   "outputs": [
    {
     "data": {
      "text/html": [
       "<div>\n",
       "<style scoped>\n",
       "    .dataframe tbody tr th:only-of-type {\n",
       "        vertical-align: middle;\n",
       "    }\n",
       "\n",
       "    .dataframe tbody tr th {\n",
       "        vertical-align: top;\n",
       "    }\n",
       "\n",
       "    .dataframe thead th {\n",
       "        text-align: right;\n",
       "    }\n",
       "</style>\n",
       "<table border=\"1\" class=\"dataframe\">\n",
       "  <thead>\n",
       "    <tr style=\"text-align: right;\">\n",
       "      <th></th>\n",
       "      <th>from</th>\n",
       "      <th>to</th>\n",
       "      <th>effect</th>\n",
       "      <th>probability</th>\n",
       "    </tr>\n",
       "  </thead>\n",
       "  <tbody>\n",
       "    <tr>\n",
       "      <th>0</th>\n",
       "      <td>x1(t)</td>\n",
       "      <td>x0(t)</td>\n",
       "      <td>-0.131094</td>\n",
       "      <td>1.00</td>\n",
       "    </tr>\n",
       "    <tr>\n",
       "      <th>1</th>\n",
       "      <td>x4(t-1)</td>\n",
       "      <td>x2(t)</td>\n",
       "      <td>0.463646</td>\n",
       "      <td>1.00</td>\n",
       "    </tr>\n",
       "    <tr>\n",
       "      <th>2</th>\n",
       "      <td>x4(t-1)</td>\n",
       "      <td>x3(t)</td>\n",
       "      <td>-0.224349</td>\n",
       "      <td>1.00</td>\n",
       "    </tr>\n",
       "    <tr>\n",
       "      <th>3</th>\n",
       "      <td>x0(t-1)</td>\n",
       "      <td>x0(t)</td>\n",
       "      <td>-0.297905</td>\n",
       "      <td>1.00</td>\n",
       "    </tr>\n",
       "    <tr>\n",
       "      <th>4</th>\n",
       "      <td>x1(t)</td>\n",
       "      <td>x3(t)</td>\n",
       "      <td>-0.217983</td>\n",
       "      <td>1.00</td>\n",
       "    </tr>\n",
       "    <tr>\n",
       "      <th>5</th>\n",
       "      <td>x3(t-1)</td>\n",
       "      <td>x0(t)</td>\n",
       "      <td>0.273013</td>\n",
       "      <td>1.00</td>\n",
       "    </tr>\n",
       "    <tr>\n",
       "      <th>6</th>\n",
       "      <td>x2(t-1)</td>\n",
       "      <td>x3(t)</td>\n",
       "      <td>-0.177952</td>\n",
       "      <td>1.00</td>\n",
       "    </tr>\n",
       "    <tr>\n",
       "      <th>7</th>\n",
       "      <td>x0(t-1)</td>\n",
       "      <td>x3(t)</td>\n",
       "      <td>-0.269388</td>\n",
       "      <td>1.00</td>\n",
       "    </tr>\n",
       "    <tr>\n",
       "      <th>8</th>\n",
       "      <td>x1(t-1)</td>\n",
       "      <td>x1(t)</td>\n",
       "      <td>-0.260914</td>\n",
       "      <td>1.00</td>\n",
       "    </tr>\n",
       "    <tr>\n",
       "      <th>9</th>\n",
       "      <td>x2(t-1)</td>\n",
       "      <td>x2(t)</td>\n",
       "      <td>0.310371</td>\n",
       "      <td>1.00</td>\n",
       "    </tr>\n",
       "    <tr>\n",
       "      <th>10</th>\n",
       "      <td>x4(t-1)</td>\n",
       "      <td>x1(t)</td>\n",
       "      <td>0.397907</td>\n",
       "      <td>1.00</td>\n",
       "    </tr>\n",
       "    <tr>\n",
       "      <th>11</th>\n",
       "      <td>x0(t)</td>\n",
       "      <td>x2(t)</td>\n",
       "      <td>-0.404106</td>\n",
       "      <td>1.00</td>\n",
       "    </tr>\n",
       "    <tr>\n",
       "      <th>12</th>\n",
       "      <td>x1(t)</td>\n",
       "      <td>x2(t)</td>\n",
       "      <td>0.090684</td>\n",
       "      <td>1.00</td>\n",
       "    </tr>\n",
       "    <tr>\n",
       "      <th>13</th>\n",
       "      <td>x3(t-1)</td>\n",
       "      <td>x1(t)</td>\n",
       "      <td>-0.206743</td>\n",
       "      <td>0.99</td>\n",
       "    </tr>\n",
       "    <tr>\n",
       "      <th>14</th>\n",
       "      <td>x3(t-1)</td>\n",
       "      <td>x3(t)</td>\n",
       "      <td>0.091307</td>\n",
       "      <td>0.93</td>\n",
       "    </tr>\n",
       "    <tr>\n",
       "      <th>15</th>\n",
       "      <td>x2(t-1)</td>\n",
       "      <td>x1(t)</td>\n",
       "      <td>-0.121280</td>\n",
       "      <td>0.86</td>\n",
       "    </tr>\n",
       "    <tr>\n",
       "      <th>16</th>\n",
       "      <td>x0(t)</td>\n",
       "      <td>x4(t)</td>\n",
       "      <td>0.106232</td>\n",
       "      <td>0.86</td>\n",
       "    </tr>\n",
       "    <tr>\n",
       "      <th>17</th>\n",
       "      <td>x0(t-1)</td>\n",
       "      <td>x2(t)</td>\n",
       "      <td>0.083258</td>\n",
       "      <td>0.79</td>\n",
       "    </tr>\n",
       "    <tr>\n",
       "      <th>18</th>\n",
       "      <td>x3(t-1)</td>\n",
       "      <td>x2(t)</td>\n",
       "      <td>-0.085736</td>\n",
       "      <td>0.73</td>\n",
       "    </tr>\n",
       "    <tr>\n",
       "      <th>19</th>\n",
       "      <td>x0(t)</td>\n",
       "      <td>x3(t)</td>\n",
       "      <td>0.075516</td>\n",
       "      <td>0.68</td>\n",
       "    </tr>\n",
       "    <tr>\n",
       "      <th>20</th>\n",
       "      <td>x2(t-1)</td>\n",
       "      <td>x0(t)</td>\n",
       "      <td>0.070990</td>\n",
       "      <td>0.58</td>\n",
       "    </tr>\n",
       "    <tr>\n",
       "      <th>21</th>\n",
       "      <td>x1(t-1)</td>\n",
       "      <td>x2(t)</td>\n",
       "      <td>-0.043181</td>\n",
       "      <td>0.55</td>\n",
       "    </tr>\n",
       "    <tr>\n",
       "      <th>22</th>\n",
       "      <td>x4(t-1)</td>\n",
       "      <td>x0(t)</td>\n",
       "      <td>-0.047978</td>\n",
       "      <td>0.50</td>\n",
       "    </tr>\n",
       "    <tr>\n",
       "      <th>23</th>\n",
       "      <td>x1(t-1)</td>\n",
       "      <td>x0(t)</td>\n",
       "      <td>0.026918</td>\n",
       "      <td>0.32</td>\n",
       "    </tr>\n",
       "    <tr>\n",
       "      <th>24</th>\n",
       "      <td>x2(t)</td>\n",
       "      <td>x4(t)</td>\n",
       "      <td>-0.049998</td>\n",
       "      <td>0.29</td>\n",
       "    </tr>\n",
       "    <tr>\n",
       "      <th>25</th>\n",
       "      <td>x3(t)</td>\n",
       "      <td>x0(t)</td>\n",
       "      <td>0.053440</td>\n",
       "      <td>0.23</td>\n",
       "    </tr>\n",
       "    <tr>\n",
       "      <th>26</th>\n",
       "      <td>x4(t)</td>\n",
       "      <td>x2(t)</td>\n",
       "      <td>-0.053585</td>\n",
       "      <td>0.22</td>\n",
       "    </tr>\n",
       "    <tr>\n",
       "      <th>27</th>\n",
       "      <td>x3(t)</td>\n",
       "      <td>x2(t)</td>\n",
       "      <td>-0.034164</td>\n",
       "      <td>0.22</td>\n",
       "    </tr>\n",
       "    <tr>\n",
       "      <th>28</th>\n",
       "      <td>x3(t-1)</td>\n",
       "      <td>x4(t)</td>\n",
       "      <td>0.069278</td>\n",
       "      <td>0.20</td>\n",
       "    </tr>\n",
       "    <tr>\n",
       "      <th>29</th>\n",
       "      <td>x1(t)</td>\n",
       "      <td>x4(t)</td>\n",
       "      <td>-0.032277</td>\n",
       "      <td>0.17</td>\n",
       "    </tr>\n",
       "    <tr>\n",
       "      <th>30</th>\n",
       "      <td>x4(t)</td>\n",
       "      <td>x3(t)</td>\n",
       "      <td>-0.041963</td>\n",
       "      <td>0.16</td>\n",
       "    </tr>\n",
       "    <tr>\n",
       "      <th>31</th>\n",
       "      <td>x1(t-1)</td>\n",
       "      <td>x3(t)</td>\n",
       "      <td>0.018327</td>\n",
       "      <td>0.14</td>\n",
       "    </tr>\n",
       "    <tr>\n",
       "      <th>32</th>\n",
       "      <td>x2(t)</td>\n",
       "      <td>x3(t)</td>\n",
       "      <td>-0.017783</td>\n",
       "      <td>0.13</td>\n",
       "    </tr>\n",
       "    <tr>\n",
       "      <th>33</th>\n",
       "      <td>x0(t-1)</td>\n",
       "      <td>x1(t)</td>\n",
       "      <td>0.084306</td>\n",
       "      <td>0.04</td>\n",
       "    </tr>\n",
       "    <tr>\n",
       "      <th>34</th>\n",
       "      <td>x3(t)</td>\n",
       "      <td>x4(t)</td>\n",
       "      <td>-0.117271</td>\n",
       "      <td>0.02</td>\n",
       "    </tr>\n",
       "    <tr>\n",
       "      <th>35</th>\n",
       "      <td>x4(t)</td>\n",
       "      <td>x0(t)</td>\n",
       "      <td>0.081813</td>\n",
       "      <td>0.01</td>\n",
       "    </tr>\n",
       "    <tr>\n",
       "      <th>36</th>\n",
       "      <td>x0(t-1)</td>\n",
       "      <td>x4(t)</td>\n",
       "      <td>-0.085855</td>\n",
       "      <td>0.01</td>\n",
       "    </tr>\n",
       "    <tr>\n",
       "      <th>37</th>\n",
       "      <td>x1(t-1)</td>\n",
       "      <td>x4(t)</td>\n",
       "      <td>0.036685</td>\n",
       "      <td>0.01</td>\n",
       "    </tr>\n",
       "  </tbody>\n",
       "</table>\n",
       "</div>"
      ],
      "text/plain": [
       "       from     to    effect  probability\n",
       "0     x1(t)  x0(t) -0.131094         1.00\n",
       "1   x4(t-1)  x2(t)  0.463646         1.00\n",
       "2   x4(t-1)  x3(t) -0.224349         1.00\n",
       "3   x0(t-1)  x0(t) -0.297905         1.00\n",
       "4     x1(t)  x3(t) -0.217983         1.00\n",
       "5   x3(t-1)  x0(t)  0.273013         1.00\n",
       "6   x2(t-1)  x3(t) -0.177952         1.00\n",
       "7   x0(t-1)  x3(t) -0.269388         1.00\n",
       "8   x1(t-1)  x1(t) -0.260914         1.00\n",
       "9   x2(t-1)  x2(t)  0.310371         1.00\n",
       "10  x4(t-1)  x1(t)  0.397907         1.00\n",
       "11    x0(t)  x2(t) -0.404106         1.00\n",
       "12    x1(t)  x2(t)  0.090684         1.00\n",
       "13  x3(t-1)  x1(t) -0.206743         0.99\n",
       "14  x3(t-1)  x3(t)  0.091307         0.93\n",
       "15  x2(t-1)  x1(t) -0.121280         0.86\n",
       "16    x0(t)  x4(t)  0.106232         0.86\n",
       "17  x0(t-1)  x2(t)  0.083258         0.79\n",
       "18  x3(t-1)  x2(t) -0.085736         0.73\n",
       "19    x0(t)  x3(t)  0.075516         0.68\n",
       "20  x2(t-1)  x0(t)  0.070990         0.58\n",
       "21  x1(t-1)  x2(t) -0.043181         0.55\n",
       "22  x4(t-1)  x0(t) -0.047978         0.50\n",
       "23  x1(t-1)  x0(t)  0.026918         0.32\n",
       "24    x2(t)  x4(t) -0.049998         0.29\n",
       "25    x3(t)  x0(t)  0.053440         0.23\n",
       "26    x4(t)  x2(t) -0.053585         0.22\n",
       "27    x3(t)  x2(t) -0.034164         0.22\n",
       "28  x3(t-1)  x4(t)  0.069278         0.20\n",
       "29    x1(t)  x4(t) -0.032277         0.17\n",
       "30    x4(t)  x3(t) -0.041963         0.16\n",
       "31  x1(t-1)  x3(t)  0.018327         0.14\n",
       "32    x2(t)  x3(t) -0.017783         0.13\n",
       "33  x0(t-1)  x1(t)  0.084306         0.04\n",
       "34    x3(t)  x4(t) -0.117271         0.02\n",
       "35    x4(t)  x0(t)  0.081813         0.01\n",
       "36  x0(t-1)  x4(t) -0.085855         0.01\n",
       "37  x1(t-1)  x4(t)  0.036685         0.01"
      ]
     },
     "execution_count": 17,
     "metadata": {},
     "output_type": "execute_result"
    }
   ],
   "source": [
    "causal_effects = result.get_total_causal_effects(min_causal_effect=0.01)\n",
    "df = pd.DataFrame(causal_effects)\n",
    "\n",
    "df['from'] = df['from'].apply(lambda x : labels[x])\n",
    "df['to'] = df['to'].apply(lambda x : labels[x])\n",
    "df"
   ]
  },
  {
   "cell_type": "markdown",
   "metadata": {},
   "source": [
    "We can easily perform sorting operations with pandas.DataFrame."
   ]
  },
  {
   "cell_type": "code",
   "execution_count": 18,
   "metadata": {},
   "outputs": [
    {
     "data": {
      "text/html": [
       "<div>\n",
       "<style scoped>\n",
       "    .dataframe tbody tr th:only-of-type {\n",
       "        vertical-align: middle;\n",
       "    }\n",
       "\n",
       "    .dataframe tbody tr th {\n",
       "        vertical-align: top;\n",
       "    }\n",
       "\n",
       "    .dataframe thead th {\n",
       "        text-align: right;\n",
       "    }\n",
       "</style>\n",
       "<table border=\"1\" class=\"dataframe\">\n",
       "  <thead>\n",
       "    <tr style=\"text-align: right;\">\n",
       "      <th></th>\n",
       "      <th>from</th>\n",
       "      <th>to</th>\n",
       "      <th>effect</th>\n",
       "      <th>probability</th>\n",
       "    </tr>\n",
       "  </thead>\n",
       "  <tbody>\n",
       "    <tr>\n",
       "      <th>1</th>\n",
       "      <td>x4(t-1)</td>\n",
       "      <td>x2(t)</td>\n",
       "      <td>0.463646</td>\n",
       "      <td>1.00</td>\n",
       "    </tr>\n",
       "    <tr>\n",
       "      <th>10</th>\n",
       "      <td>x4(t-1)</td>\n",
       "      <td>x1(t)</td>\n",
       "      <td>0.397907</td>\n",
       "      <td>1.00</td>\n",
       "    </tr>\n",
       "    <tr>\n",
       "      <th>9</th>\n",
       "      <td>x2(t-1)</td>\n",
       "      <td>x2(t)</td>\n",
       "      <td>0.310371</td>\n",
       "      <td>1.00</td>\n",
       "    </tr>\n",
       "    <tr>\n",
       "      <th>5</th>\n",
       "      <td>x3(t-1)</td>\n",
       "      <td>x0(t)</td>\n",
       "      <td>0.273013</td>\n",
       "      <td>1.00</td>\n",
       "    </tr>\n",
       "    <tr>\n",
       "      <th>16</th>\n",
       "      <td>x0(t)</td>\n",
       "      <td>x4(t)</td>\n",
       "      <td>0.106232</td>\n",
       "      <td>0.86</td>\n",
       "    </tr>\n",
       "  </tbody>\n",
       "</table>\n",
       "</div>"
      ],
      "text/plain": [
       "       from     to    effect  probability\n",
       "1   x4(t-1)  x2(t)  0.463646         1.00\n",
       "10  x4(t-1)  x1(t)  0.397907         1.00\n",
       "9   x2(t-1)  x2(t)  0.310371         1.00\n",
       "5   x3(t-1)  x0(t)  0.273013         1.00\n",
       "16    x0(t)  x4(t)  0.106232         0.86"
      ]
     },
     "execution_count": 18,
     "metadata": {},
     "output_type": "execute_result"
    }
   ],
   "source": [
    "df.sort_values('effect', ascending=False).head()"
   ]
  },
  {
   "cell_type": "markdown",
   "metadata": {},
   "source": [
    "And with pandas.DataFrame, we can easily filter by keywords. The following code extracts the causal direction towards x1(t)."
   ]
  },
  {
   "cell_type": "code",
   "execution_count": 19,
   "metadata": {},
   "outputs": [
    {
     "data": {
      "text/html": [
       "<div>\n",
       "<style scoped>\n",
       "    .dataframe tbody tr th:only-of-type {\n",
       "        vertical-align: middle;\n",
       "    }\n",
       "\n",
       "    .dataframe tbody tr th {\n",
       "        vertical-align: top;\n",
       "    }\n",
       "\n",
       "    .dataframe thead th {\n",
       "        text-align: right;\n",
       "    }\n",
       "</style>\n",
       "<table border=\"1\" class=\"dataframe\">\n",
       "  <thead>\n",
       "    <tr style=\"text-align: right;\">\n",
       "      <th></th>\n",
       "      <th>from</th>\n",
       "      <th>to</th>\n",
       "      <th>effect</th>\n",
       "      <th>probability</th>\n",
       "    </tr>\n",
       "  </thead>\n",
       "  <tbody>\n",
       "    <tr>\n",
       "      <th>8</th>\n",
       "      <td>x1(t-1)</td>\n",
       "      <td>x1(t)</td>\n",
       "      <td>-0.260914</td>\n",
       "      <td>1.00</td>\n",
       "    </tr>\n",
       "    <tr>\n",
       "      <th>10</th>\n",
       "      <td>x4(t-1)</td>\n",
       "      <td>x1(t)</td>\n",
       "      <td>0.397907</td>\n",
       "      <td>1.00</td>\n",
       "    </tr>\n",
       "    <tr>\n",
       "      <th>13</th>\n",
       "      <td>x3(t-1)</td>\n",
       "      <td>x1(t)</td>\n",
       "      <td>-0.206743</td>\n",
       "      <td>0.99</td>\n",
       "    </tr>\n",
       "    <tr>\n",
       "      <th>15</th>\n",
       "      <td>x2(t-1)</td>\n",
       "      <td>x1(t)</td>\n",
       "      <td>-0.121280</td>\n",
       "      <td>0.86</td>\n",
       "    </tr>\n",
       "    <tr>\n",
       "      <th>33</th>\n",
       "      <td>x0(t-1)</td>\n",
       "      <td>x1(t)</td>\n",
       "      <td>0.084306</td>\n",
       "      <td>0.04</td>\n",
       "    </tr>\n",
       "  </tbody>\n",
       "</table>\n",
       "</div>"
      ],
      "text/plain": [
       "       from     to    effect  probability\n",
       "8   x1(t-1)  x1(t) -0.260914         1.00\n",
       "10  x4(t-1)  x1(t)  0.397907         1.00\n",
       "13  x3(t-1)  x1(t) -0.206743         0.99\n",
       "15  x2(t-1)  x1(t) -0.121280         0.86\n",
       "33  x0(t-1)  x1(t)  0.084306         0.04"
      ]
     },
     "execution_count": 19,
     "metadata": {},
     "output_type": "execute_result"
    }
   ],
   "source": [
    "df[df['to']=='x1(t)'].head()"
   ]
  },
  {
   "cell_type": "markdown",
   "metadata": {},
   "source": [
    "Because it holds the raw data of the total causal effect (the original data for calculating the median), it is possible to draw a histogram of the values of the causal effect, as shown below."
   ]
  },
  {
   "cell_type": "code",
   "execution_count": 20,
   "metadata": {},
   "outputs": [
    {
     "data": {
      "text/plain": [
       "(array([ 3.,  1.,  6., 18., 13., 22.,  9., 10.,  9.,  9.]),\n",
       " array([0.215, 0.232, 0.25 , 0.267, 0.285, 0.302, 0.32 , 0.338, 0.355,\n",
       "        0.373, 0.39 ]),\n",
       " <a list of 10 Patch objects>)"
      ]
     },
     "execution_count": 20,
     "metadata": {},
     "output_type": "execute_result"
    },
    {
     "data": {
      "image/png": "[encoded data removed]",
      "text/plain": [
       "<Figure size 432x288 with 1 Axes>"
      ]
     },
     "metadata": {
      "needs_background": "light"
     },
     "output_type": "display_data"
    }
   ],
   "source": [
    "import matplotlib.pyplot as plt\n",
    "import seaborn as sns\n",
    "sns.set()\n",
    "%matplotlib inline\n",
    "\n",
    "from_index = 7 # index of x2(t-1). (index:2)+(n_features:5)*(lag:1) = 7\n",
    "to_index = 2 # index of x2(t). (index:2)+(n_features:5)*(lag:0) = 2\n",
    "plt.hist(result.total_effects_[:, to_index, from_index])"
   ]
  },
  {
   "cell_type": "code",
   "execution_count": null,
   "metadata": {},
   "outputs": [],
   "source": []
  }
 ],
 "metadata": {
  "kernelspec": {
   "display_name": "Python 3",
   "language": "python",
   "name": "python3"
  },
  "language_info": {
   "codemirror_mode": {
    "name": "ipython",
    "version": 3
   },
   "file_extension": ".py",
   "mimetype": "text/x-python",
   "name": "python",
   "nbconvert_exporter": "python",
   "pygments_lexer": "ipython3",
   "version": "3.7.3"
  }
 },
 "nbformat": 4,
 "nbformat_minor": 4
}
