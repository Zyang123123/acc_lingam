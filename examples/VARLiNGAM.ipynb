{
 "cells": [
  {
   "cell_type": "markdown",
   "metadata": {},
   "source": [
    "# VARLiNGAM"
   ]
  },
  {
   "cell_type": "markdown",
   "metadata": {},
   "source": [
    "## Import and settings\n",
    "In this example, we need to import `numpy`, `pandas`, and `graphviz` in addition to `lingam`."
   ]
  },
  {
   "cell_type": "code",
   "execution_count": 2,
   "metadata": {},
   "outputs": [
    {
     "name": "stdout",
     "output_type": "stream",
     "text": [
      "['1.26.4', '2.2.2', '0.20.3', '2.0.1']\n"
     ]
    }
   ],
   "source": [
    "import numpy as np\n",
    "import pandas as pd\n",
    "import graphviz\n",
    "import lingam\n",
    "from lingam.utils import make_dot, print_causal_directions, print_dagc\n",
    "\n",
    "print([np.__version__, pd.__version__, graphviz.__version__, lingam.__version__])\n",
    "\n",
    "np.set_printoptions(precision=3, suppress=True)\n",
    "np.random.seed(0)"
   ]
  },
  {
   "cell_type": "markdown",
   "metadata": {},
   "source": [
    "## Test data\n",
    "We create test data consisting of 5 variables."
   ]
  },
  {
   "cell_type": "code",
   "execution_count": 3,
   "metadata": {},
   "outputs": [],
   "source": [
    "B0 = [\n",
    "    [0,-0.12,0,0,0],\n",
    "    [0,0,0,0,0],\n",
    "    [-0.41,0.01,0,-0.02,0],\n",
    "    [0.04,-0.22,0,0,0],\n",
    "    [0.15,0,-0.03,0,0],\n",
    "]\n",
    "B1 = [\n",
    "    [-0.32,0,0.12,0.32,0],\n",
    "    [0,-0.35,-0.1,-0.46,0.4],\n",
    "    [0,0,0.37,0,0.46],\n",
    "    [-0.38,-0.1,-0.24,0,-0.13],\n",
    "    [0,0,0,0,0],\n",
    "]\n",
    "causal_order = [1, 0, 3, 2, 4]\n",
    "\n",
    "# data generated from B0 and B1\n",
    "X = pd.read_csv('data/sample_data_var_lingam.csv')"
   ]
  },
  {
   "cell_type": "markdown",
   "metadata": {},
   "source": [
    "## Causal Discovery\n",
    "To run causal discovery, we create a `VARLiNGAM` object and call the `fit` method."
   ]
  },
  {
   "cell_type": "code",
   "execution_count": 4,
   "metadata": {},
   "outputs": [
    {
     "name": "stdout",
     "output_type": "stream",
     "text": [
      "search causal order Execution time: 0.014101266860961914 seconds\n",
      "estimate adjacency matrix Execution time: 0.009018182754516602 seconds\n"
     ]
    },
    {
     "data": {
      "text/plain": [
       "<lingam.var_lingam.VARLiNGAM at 0x1672acd80b0>"
      ]
     },
     "execution_count": 4,
     "metadata": {},
     "output_type": "execute_result"
    }
   ],
   "source": [
    "model = lingam.VARLiNGAM()\n",
    "model.fit(X)"
   ]
  },
  {
   "cell_type": "markdown",
   "metadata": {},
   "source": [
    "Using the `causal_order_` properties, we can see the causal ordering as a result of the causal discovery."
   ]
  },
  {
   "cell_type": "code",
   "execution_count": 5,
   "metadata": {},
   "outputs": [
    {
     "data": {
      "text/plain": [
       "[1, 0, 3, 2, 4]"
      ]
     },
     "execution_count": 5,
     "metadata": {},
     "output_type": "execute_result"
    }
   ],
   "source": [
    "model.causal_order_"
   ]
  },
  {
   "cell_type": "markdown",
   "metadata": {},
   "source": [
    "Also, using the `adjacency_matrices_` properties, we can see the adjacency matrix as a result of the causal discovery."
   ]
  },
  {
   "cell_type": "code",
   "execution_count": 6,
   "metadata": {},
   "outputs": [
    {
     "data": {
      "text/plain": [
       "array([[ 0.   , -0.136,  0.   ,  0.   ,  0.   ],\n",
       "       [ 0.   ,  0.   ,  0.   ,  0.   ,  0.   ],\n",
       "       [-0.484,  0.   ,  0.   ,  0.   ,  0.   ],\n",
       "       [ 0.075, -0.21 ,  0.   ,  0.   ,  0.   ],\n",
       "       [ 0.168,  0.   ,  0.   ,  0.   ,  0.   ]])"
      ]
     },
     "execution_count": 6,
     "metadata": {},
     "output_type": "execute_result"
    }
   ],
   "source": [
    "# B0\n",
    "model.adjacency_matrices_[0]"
   ]
  },
  {
   "cell_type": "code",
   "execution_count": 7,
   "metadata": {},
   "outputs": [
    {
     "data": {
      "text/plain": [
       "array([[-0.358,  0.   ,  0.073,  0.302,  0.   ],\n",
       "       [ 0.   , -0.338, -0.154, -0.335,  0.423],\n",
       "       [ 0.   ,  0.   ,  0.424,  0.112,  0.493],\n",
       "       [-0.386, -0.1  , -0.266,  0.   , -0.159],\n",
       "       [ 0.   ,  0.   ,  0.   ,  0.   ,  0.   ]])"
      ]
     },
     "execution_count": 7,
     "metadata": {},
     "output_type": "execute_result"
    }
   ],
   "source": [
    "# B1\n",
    "model.adjacency_matrices_[1]"
   ]
  },
  {
   "cell_type": "code",
   "execution_count": 8,
   "metadata": {},
   "outputs": [
    {
     "data": {
      "text/plain": [
       "array([[-0.308,  0.911, -1.152, -1.159,  0.179],\n",
       "       [ 1.364,  1.713, -1.389, -0.265, -0.192],\n",
       "       [-0.861,  0.249,  0.479, -1.557, -0.462],\n",
       "       ...,\n",
       "       [-1.202,  1.819,  0.99 , -0.855, -0.127],\n",
       "       [-0.133,  1.23 , -0.445, -0.753,  1.096],\n",
       "       [-0.069,  0.558,  0.21 , -0.863, -0.189]])"
      ]
     },
     "execution_count": 8,
     "metadata": {},
     "output_type": "execute_result"
    }
   ],
   "source": [
    "model.residuals_"
   ]
  },
  {
   "cell_type": "markdown",
   "metadata": {},
   "source": [
    "Using `DirectLiNGAM` for the `residuals_` properties, we can calculate B0 matrix."
   ]
  },
  {
   "cell_type": "code",
   "execution_count": 9,
   "metadata": {},
   "outputs": [
    {
     "data": {
      "text/plain": [
       "array([[ 0.   , -0.144,  0.   ,  0.   ,  0.   ],\n",
       "       [ 0.   ,  0.   ,  0.   ,  0.   ,  0.   ],\n",
       "       [-0.456,  0.   ,  0.   ,  0.   ,  0.   ],\n",
       "       [ 0.   , -0.22 ,  0.   ,  0.   ,  0.   ],\n",
       "       [ 0.157,  0.   ,  0.   ,  0.   ,  0.   ]])"
      ]
     },
     "execution_count": 9,
     "metadata": {},
     "output_type": "execute_result"
    }
   ],
   "source": [
    "dlingam = lingam.DirectLiNGAM()\n",
    "dlingam.fit(model.residuals_)\n",
    "dlingam.adjacency_matrix_"
   ]
  },
  {
   "cell_type": "markdown",
   "metadata": {},
   "source": [
    "We can draw a causal graph by utility funciton."
   ]
  },
  {
   "cell_type": "code",
   "execution_count": 10,
   "metadata": {},
   "outputs": [
    {
     "data": {
      "image/svg+xml": [
       "<?xml version=\"1.0\" encoding=\"UTF-8\" standalone=\"no\"?>\n",
       "<!DOCTYPE svg PUBLIC \"-//W3C//DTD SVG 1.1//EN\"\n",
       " \"http://www.w3.org/Graphics/SVG/1.1/DTD/svg11.dtd\">\n",
       "<!-- Generated by graphviz version 11.0.0 (20240428.1522)\n",
       " -->\n",
       "<!-- Pages: 1 -->\n",
       "<svg width=\"548pt\" height=\"307pt\"\n",
       " viewBox=\"0.00 0.00 548.10 307.25\" xmlns=\"http://www.w3.org/2000/svg\" xmlns:xlink=\"http://www.w3.org/1999/xlink\">\n",
       "<g id=\"graph0\" class=\"graph\" transform=\"scale(1 1) rotate(0) translate(4 303.25)\">\n",
       "<polygon fill=\"white\" stroke=\"none\" points=\"-4,4 -4,-303.25 544.1,-303.25 544.1,4 -4,4\"/>\n",
       "<!-- x0(t) -->\n",
       "<g id=\"node1\" class=\"node\">\n",
       "<title>x0(t)</title>\n",
       "<ellipse fill=\"none\" stroke=\"black\" cx=\"213.6\" cy=\"-105.75\" rx=\"28.11\" ry=\"18\"/>\n",
       "<text text-anchor=\"middle\" x=\"213.6\" y=\"-100.33\" font-family=\"Times New Roman,serif\" font-size=\"14.00\">x0(t)</text>\n",
       "</g>\n",
       "<!-- x2(t) -->\n",
       "<g id=\"node3\" class=\"node\">\n",
       "<title>x2(t)</title>\n",
       "<ellipse fill=\"none\" stroke=\"black\" cx=\"109.6\" cy=\"-18\" rx=\"28.11\" ry=\"18\"/>\n",
       "<text text-anchor=\"middle\" x=\"109.6\" y=\"-12.57\" font-family=\"Times New Roman,serif\" font-size=\"14.00\">x2(t)</text>\n",
       "</g>\n",
       "<!-- x0(t)&#45;&gt;x2(t) -->\n",
       "<g id=\"edge9\" class=\"edge\">\n",
       "<title>x0(t)&#45;&gt;x2(t)</title>\n",
       "<path fill=\"none\" stroke=\"black\" d=\"M196.89,-90.97C180.21,-77.22 154.36,-55.91 135.11,-40.04\"/>\n",
       "<polygon fill=\"black\" stroke=\"black\" points=\"137.37,-37.37 127.43,-33.71 132.92,-42.77 137.37,-37.37\"/>\n",
       "<text text-anchor=\"middle\" x=\"184.85\" y=\"-56.45\" font-family=\"Times New Roman,serif\" font-size=\"14.00\">&#45;0.48</text>\n",
       "</g>\n",
       "<!-- x3(t) -->\n",
       "<g id=\"node4\" class=\"node\">\n",
       "<title>x3(t)</title>\n",
       "<ellipse fill=\"none\" stroke=\"black\" cx=\"383.6\" cy=\"-18\" rx=\"28.11\" ry=\"18\"/>\n",
       "<text text-anchor=\"middle\" x=\"383.6\" y=\"-12.57\" font-family=\"Times New Roman,serif\" font-size=\"14.00\">x3(t)</text>\n",
       "</g>\n",
       "<!-- x0(t)&#45;&gt;x3(t) -->\n",
       "<g id=\"edge13\" class=\"edge\">\n",
       "<title>x0(t)&#45;&gt;x3(t)</title>\n",
       "<path fill=\"none\" stroke=\"black\" d=\"M224.92,-88.84C233.72,-77.58 246.88,-62.95 261.6,-54 287.11,-38.48 319.81,-29.59 344.93,-24.65\"/>\n",
       "<polygon fill=\"black\" stroke=\"black\" points=\"345.53,-28.1 354.74,-22.86 344.28,-21.21 345.53,-28.1\"/>\n",
       "<text text-anchor=\"middle\" x=\"273.6\" y=\"-56.45\" font-family=\"Times New Roman,serif\" font-size=\"14.00\">0.07</text>\n",
       "</g>\n",
       "<!-- x4(t) -->\n",
       "<g id=\"node5\" class=\"node\">\n",
       "<title>x4(t)</title>\n",
       "<ellipse fill=\"none\" stroke=\"black\" cx=\"213.6\" cy=\"-18\" rx=\"28.11\" ry=\"18\"/>\n",
       "<text text-anchor=\"middle\" x=\"213.6\" y=\"-12.57\" font-family=\"Times New Roman,serif\" font-size=\"14.00\">x4(t)</text>\n",
       "</g>\n",
       "<!-- x0(t)&#45;&gt;x4(t) -->\n",
       "<g id=\"edge19\" class=\"edge\">\n",
       "<title>x0(t)&#45;&gt;x4(t)</title>\n",
       "<path fill=\"none\" stroke=\"black\" d=\"M213.6,-87.4C213.6,-76.01 213.6,-60.84 213.6,-47.68\"/>\n",
       "<polygon fill=\"black\" stroke=\"black\" points=\"217.1,-47.84 213.6,-37.84 210.1,-47.84 217.1,-47.84\"/>\n",
       "<text text-anchor=\"middle\" x=\"225.6\" y=\"-56.45\" font-family=\"Times New Roman,serif\" font-size=\"14.00\">0.17</text>\n",
       "</g>\n",
       "<!-- x1(t) -->\n",
       "<g id=\"node2\" class=\"node\">\n",
       "<title>x1(t)</title>\n",
       "<ellipse fill=\"none\" stroke=\"black\" cx=\"210.6\" cy=\"-193.5\" rx=\"28.11\" ry=\"18\"/>\n",
       "<text text-anchor=\"middle\" x=\"210.6\" y=\"-188.07\" font-family=\"Times New Roman,serif\" font-size=\"14.00\">x1(t)</text>\n",
       "</g>\n",
       "<!-- x1(t)&#45;&gt;x0(t) -->\n",
       "<g id=\"edge1\" class=\"edge\">\n",
       "<title>x1(t)&#45;&gt;x0(t)</title>\n",
       "<path fill=\"none\" stroke=\"black\" d=\"M210.5,-175.11C210.52,-165.31 210.64,-152.84 211.1,-141.75 211.18,-139.69 211.28,-137.57 211.4,-135.43\"/>\n",
       "<polygon fill=\"black\" stroke=\"black\" points=\"214.88,-135.9 212.04,-125.7 207.89,-135.45 214.88,-135.9\"/>\n",
       "<text text-anchor=\"middle\" x=\"224.85\" y=\"-144.2\" font-family=\"Times New Roman,serif\" font-size=\"14.00\">&#45;0.14</text>\n",
       "</g>\n",
       "<!-- x1(t)&#45;&gt;x3(t) -->\n",
       "<g id=\"edge14\" class=\"edge\">\n",
       "<title>x1(t)&#45;&gt;x3(t)</title>\n",
       "<path fill=\"none\" stroke=\"black\" d=\"M225.34,-177.71C255.6,-147.36 324.88,-77.89 360.9,-41.76\"/>\n",
       "<polygon fill=\"black\" stroke=\"black\" points=\"363.23,-44.38 367.81,-34.83 358.27,-39.44 363.23,-44.38\"/>\n",
       "<text text-anchor=\"middle\" x=\"327.85\" y=\"-100.33\" font-family=\"Times New Roman,serif\" font-size=\"14.00\">&#45;0.21</text>\n",
       "</g>\n",
       "<!-- x0(t&#45;1) -->\n",
       "<g id=\"node6\" class=\"node\">\n",
       "<title>x0(t&#45;1)</title>\n",
       "<ellipse fill=\"none\" stroke=\"black\" cx=\"354.6\" cy=\"-193.5\" rx=\"35.6\" ry=\"18\"/>\n",
       "<text text-anchor=\"middle\" x=\"354.6\" y=\"-188.07\" font-family=\"Times New Roman,serif\" font-size=\"14.00\">x0(t&#45;1)</text>\n",
       "</g>\n",
       "<!-- x0(t&#45;1)&#45;&gt;x0(t) -->\n",
       "<g id=\"edge2\" class=\"edge\">\n",
       "<title>x0(t&#45;1)&#45;&gt;x0(t)</title>\n",
       "<path fill=\"none\" stroke=\"black\" d=\"M337.47,-177.34C324.8,-166.58 306.83,-152.25 289.6,-141.75 276.38,-133.7 261,-126.29 247.55,-120.38\"/>\n",
       "<polygon fill=\"black\" stroke=\"black\" points=\"249.22,-117.28 238.65,-116.57 246.47,-123.72 249.22,-117.28\"/>\n",
       "<text text-anchor=\"middle\" x=\"325.85\" y=\"-144.2\" font-family=\"Times New Roman,serif\" font-size=\"14.00\">&#45;0.36</text>\n",
       "</g>\n",
       "<!-- x0(t&#45;1)&#45;&gt;x3(t) -->\n",
       "<g id=\"edge15\" class=\"edge\">\n",
       "<title>x0(t&#45;1)&#45;&gt;x3(t)</title>\n",
       "<path fill=\"none\" stroke=\"black\" d=\"M356.87,-175.41C359.7,-154.64 364.8,-118.55 370.1,-87.75 372.39,-74.4 375.25,-59.65 377.74,-47.24\"/>\n",
       "<polygon fill=\"black\" stroke=\"black\" points=\"381.12,-48.17 379.68,-37.68 374.26,-46.78 381.12,-48.17\"/>\n",
       "<text text-anchor=\"middle\" x=\"383.85\" y=\"-100.33\" font-family=\"Times New Roman,serif\" font-size=\"14.00\">&#45;0.39</text>\n",
       "</g>\n",
       "<!-- x1(t&#45;1) -->\n",
       "<g id=\"node7\" class=\"node\">\n",
       "<title>x1(t&#45;1)</title>\n",
       "<ellipse fill=\"none\" stroke=\"black\" cx=\"451.6\" cy=\"-281.25\" rx=\"35.6\" ry=\"18\"/>\n",
       "<text text-anchor=\"middle\" x=\"451.6\" y=\"-275.82\" font-family=\"Times New Roman,serif\" font-size=\"14.00\">x1(t&#45;1)</text>\n",
       "</g>\n",
       "<!-- x1(t&#45;1)&#45;&gt;x1(t) -->\n",
       "<g id=\"edge5\" class=\"edge\">\n",
       "<title>x1(t&#45;1)&#45;&gt;x1(t)</title>\n",
       "<path fill=\"none\" stroke=\"black\" d=\"M422.45,-270.41C383.9,-257.33 313.93,-233.31 254.6,-211.5 251.39,-210.32 248.07,-209.08 244.75,-207.82\"/>\n",
       "<polygon fill=\"black\" stroke=\"black\" points=\"246.29,-204.67 235.7,-204.36 243.79,-211.2 246.29,-204.67\"/>\n",
       "<text text-anchor=\"middle\" x=\"359.85\" y=\"-231.95\" font-family=\"Times New Roman,serif\" font-size=\"14.00\">&#45;0.34</text>\n",
       "</g>\n",
       "<!-- x1(t&#45;1)&#45;&gt;x3(t) -->\n",
       "<g id=\"edge16\" class=\"edge\">\n",
       "<title>x1(t&#45;1)&#45;&gt;x3(t)</title>\n",
       "<path fill=\"none\" stroke=\"black\" d=\"M466.26,-264.56C470.86,-258.86 475.54,-252.12 478.6,-245.25 513.15,-167.59 533.29,-119.06 478.6,-54 464.7,-37.47 442.25,-28.74 422.67,-24.14\"/>\n",
       "<polygon fill=\"black\" stroke=\"black\" points=\"423.53,-20.74 413.04,-22.18 422.14,-27.6 423.53,-20.74\"/>\n",
       "<text text-anchor=\"middle\" x=\"525.85\" y=\"-144.2\" font-family=\"Times New Roman,serif\" font-size=\"14.00\">&#45;0.10</text>\n",
       "</g>\n",
       "<!-- x2(t&#45;1) -->\n",
       "<g id=\"node8\" class=\"node\">\n",
       "<title>x2(t&#45;1)</title>\n",
       "<ellipse fill=\"none\" stroke=\"black\" cx=\"298.6\" cy=\"-281.25\" rx=\"35.6\" ry=\"18\"/>\n",
       "<text text-anchor=\"middle\" x=\"298.6\" y=\"-275.82\" font-family=\"Times New Roman,serif\" font-size=\"14.00\">x2(t&#45;1)</text>\n",
       "</g>\n",
       "<!-- x2(t&#45;1)&#45;&gt;x0(t) -->\n",
       "<g id=\"edge3\" class=\"edge\">\n",
       "<title>x2(t&#45;1)&#45;&gt;x0(t)</title>\n",
       "<path fill=\"none\" stroke=\"black\" d=\"M314.77,-265.18C323.83,-254.86 331.96,-241.01 324.6,-229.5 314.31,-213.42 299.81,-224.24 285.6,-211.5 258.64,-187.35 264.78,-171.09 243.6,-141.75 240.8,-137.88 237.68,-133.92 234.54,-130.11\"/>\n",
       "<polygon fill=\"black\" stroke=\"black\" points=\"237.44,-128.12 228.29,-122.78 232.12,-132.66 237.44,-128.12\"/>\n",
       "<text text-anchor=\"middle\" x=\"297.6\" y=\"-188.07\" font-family=\"Times New Roman,serif\" font-size=\"14.00\">0.07</text>\n",
       "</g>\n",
       "<!-- x2(t&#45;1)&#45;&gt;x1(t) -->\n",
       "<g id=\"edge6\" class=\"edge\">\n",
       "<title>x2(t&#45;1)&#45;&gt;x1(t)</title>\n",
       "<path fill=\"none\" stroke=\"black\" d=\"M274.5,-267.73C264.4,-261.77 252.98,-254.02 244.1,-245.25 236.83,-238.08 230.28,-229.08 224.93,-220.67\"/>\n",
       "<polygon fill=\"black\" stroke=\"black\" points=\"227.97,-218.92 219.82,-212.15 221.96,-222.52 227.97,-218.92\"/>\n",
       "<text text-anchor=\"middle\" x=\"257.85\" y=\"-231.95\" font-family=\"Times New Roman,serif\" font-size=\"14.00\">&#45;0.15</text>\n",
       "</g>\n",
       "<!-- x2(t&#45;1)&#45;&gt;x2(t) -->\n",
       "<g id=\"edge10\" class=\"edge\">\n",
       "<title>x2(t&#45;1)&#45;&gt;x2(t)</title>\n",
       "<path fill=\"none\" stroke=\"black\" d=\"M265.9,-273.61C228.31,-265.7 170.82,-252.62 163.6,-245.25 136.19,-217.31 119.33,-101.96 112.75,-47.6\"/>\n",
       "<polygon fill=\"black\" stroke=\"black\" points=\"116.25,-47.4 111.61,-37.88 109.3,-48.22 116.25,-47.4\"/>\n",
       "<text text-anchor=\"middle\" x=\"142.6\" y=\"-144.2\" font-family=\"Times New Roman,serif\" font-size=\"14.00\">0.42</text>\n",
       "</g>\n",
       "<!-- x2(t&#45;1)&#45;&gt;x3(t) -->\n",
       "<g id=\"edge17\" class=\"edge\">\n",
       "<title>x2(t&#45;1)&#45;&gt;x3(t)</title>\n",
       "<path fill=\"none\" stroke=\"black\" d=\"M330.45,-272.65C361.52,-263.52 407.61,-245.06 432.6,-211.5 474.43,-155.31 462.25,-114.3 426.6,-54 423.08,-48.06 418.16,-42.69 412.89,-38.05\"/>\n",
       "<polygon fill=\"black\" stroke=\"black\" points=\"415.1,-35.34 405.09,-31.89 410.77,-40.84 415.1,-35.34\"/>\n",
       "<text text-anchor=\"middle\" x=\"472.85\" y=\"-144.2\" font-family=\"Times New Roman,serif\" font-size=\"14.00\">&#45;0.27</text>\n",
       "</g>\n",
       "<!-- x3(t&#45;1) -->\n",
       "<g id=\"node9\" class=\"node\">\n",
       "<title>x3(t&#45;1)</title>\n",
       "<ellipse fill=\"none\" stroke=\"black\" cx=\"35.6\" cy=\"-281.25\" rx=\"35.6\" ry=\"18\"/>\n",
       "<text text-anchor=\"middle\" x=\"35.6\" y=\"-275.82\" font-family=\"Times New Roman,serif\" font-size=\"14.00\">x3(t&#45;1)</text>\n",
       "</g>\n",
       "<!-- x3(t&#45;1)&#45;&gt;x0(t) -->\n",
       "<g id=\"edge4\" class=\"edge\">\n",
       "<title>x3(t&#45;1)&#45;&gt;x0(t)</title>\n",
       "<path fill=\"none\" stroke=\"black\" d=\"M51.71,-264.82C75.89,-241.63 122.97,-196.36 162.6,-157.5 171.92,-148.35 182.14,-138.21 190.96,-129.41\"/>\n",
       "<polygon fill=\"black\" stroke=\"black\" points=\"193.25,-132.08 197.85,-122.53 188.3,-127.12 193.25,-132.08\"/>\n",
       "<text text-anchor=\"middle\" x=\"154.6\" y=\"-188.07\" font-family=\"Times New Roman,serif\" font-size=\"14.00\">0.30</text>\n",
       "</g>\n",
       "<!-- x3(t&#45;1)&#45;&gt;x1(t) -->\n",
       "<g id=\"edge7\" class=\"edge\">\n",
       "<title>x3(t&#45;1)&#45;&gt;x1(t)</title>\n",
       "<path fill=\"none\" stroke=\"black\" d=\"M59.6,-267.69C79.67,-257.26 109.11,-242.14 135.1,-229.5 149.04,-222.72 164.56,-215.47 177.88,-209.34\"/>\n",
       "<polygon fill=\"black\" stroke=\"black\" points=\"179.02,-212.67 186.65,-205.32 176.1,-206.31 179.02,-212.67\"/>\n",
       "<text text-anchor=\"middle\" x=\"149.85\" y=\"-231.95\" font-family=\"Times New Roman,serif\" font-size=\"14.00\">&#45;0.34</text>\n",
       "</g>\n",
       "<!-- x3(t&#45;1)&#45;&gt;x2(t) -->\n",
       "<g id=\"edge11\" class=\"edge\">\n",
       "<title>x3(t&#45;1)&#45;&gt;x2(t)</title>\n",
       "<path fill=\"none\" stroke=\"black\" d=\"M38.23,-263.04C42.43,-236.69 51.31,-184.88 62.6,-141.75 72.99,-102.01 75.71,-91.88 91.6,-54 92.73,-51.3 93.99,-48.52 95.3,-45.77\"/>\n",
       "<polygon fill=\"black\" stroke=\"black\" points=\"98.42,-47.34 99.77,-36.84 92.16,-44.21 98.42,-47.34\"/>\n",
       "<text text-anchor=\"middle\" x=\"74.6\" y=\"-144.2\" font-family=\"Times New Roman,serif\" font-size=\"14.00\">0.11</text>\n",
       "</g>\n",
       "<!-- x4(t&#45;1) -->\n",
       "<g id=\"node10\" class=\"node\">\n",
       "<title>x4(t&#45;1)</title>\n",
       "<ellipse fill=\"none\" stroke=\"black\" cx=\"170.6\" cy=\"-281.25\" rx=\"35.6\" ry=\"18\"/>\n",
       "<text text-anchor=\"middle\" x=\"170.6\" y=\"-275.82\" font-family=\"Times New Roman,serif\" font-size=\"14.00\">x4(t&#45;1)</text>\n",
       "</g>\n",
       "<!-- x4(t&#45;1)&#45;&gt;x1(t) -->\n",
       "<g id=\"edge8\" class=\"edge\">\n",
       "<title>x4(t&#45;1)&#45;&gt;x1(t)</title>\n",
       "<path fill=\"none\" stroke=\"black\" d=\"M167.62,-263.04C166.64,-252.84 166.82,-239.92 171.6,-229.5 174.2,-223.81 178.22,-218.66 182.7,-214.16\"/>\n",
       "<polygon fill=\"black\" stroke=\"black\" points=\"184.74,-217.02 189.94,-207.79 180.12,-211.77 184.74,-217.02\"/>\n",
       "<text text-anchor=\"middle\" x=\"183.6\" y=\"-231.95\" font-family=\"Times New Roman,serif\" font-size=\"14.00\">0.42</text>\n",
       "</g>\n",
       "<!-- x4(t&#45;1)&#45;&gt;x2(t) -->\n",
       "<g id=\"edge12\" class=\"edge\">\n",
       "<title>x4(t&#45;1)&#45;&gt;x2(t)</title>\n",
       "<path fill=\"none\" stroke=\"black\" d=\"M148.88,-266.5C141.05,-260.7 132.65,-253.4 126.6,-245.25 101.55,-211.55 99.51,-198.73 91.6,-157.5 84.27,-119.37 93.15,-74.75 100.83,-46.68\"/>\n",
       "<polygon fill=\"black\" stroke=\"black\" points=\"104.16,-47.77 103.58,-37.19 97.44,-45.82 104.16,-47.77\"/>\n",
       "<text text-anchor=\"middle\" x=\"103.6\" y=\"-144.2\" font-family=\"Times New Roman,serif\" font-size=\"14.00\">0.49</text>\n",
       "</g>\n",
       "<!-- x4(t&#45;1)&#45;&gt;x3(t) -->\n",
       "<g id=\"edge18\" class=\"edge\">\n",
       "<title>x4(t&#45;1)&#45;&gt;x3(t)</title>\n",
       "<path fill=\"none\" stroke=\"black\" d=\"M183.47,-264.03C193.78,-252.3 209.34,-237.2 226.6,-229.5 261.89,-213.74 373.72,-240.21 399.6,-211.5 440.73,-165.86 414.79,-86.96 396.72,-45.77\"/>\n",
       "<polygon fill=\"black\" stroke=\"black\" points=\"399.97,-44.47 392.63,-36.83 393.6,-47.38 399.97,-44.47\"/>\n",
       "<text text-anchor=\"middle\" x=\"434.85\" y=\"-144.2\" font-family=\"Times New Roman,serif\" font-size=\"14.00\">&#45;0.16</text>\n",
       "</g>\n",
       "</g>\n",
       "</svg>\n"
      ],
      "text/plain": [
       "<graphviz.graphs.Digraph at 0x1d1ca1880b0>"
      ]
     },
     "execution_count": 10,
     "metadata": {},
     "output_type": "execute_result"
    }
   ],
   "source": [
    "labels = ['x0(t)', 'x1(t)', 'x2(t)', 'x3(t)', 'x4(t)', 'x0(t-1)', 'x1(t-1)', 'x2(t-1)', 'x3(t-1)', 'x4(t-1)']\n",
    "make_dot(np.hstack(model.adjacency_matrices_), ignore_shape=True, lower_limit=0.05, labels=labels)"
   ]
  },
  {
   "cell_type": "markdown",
   "metadata": {},
   "source": [
    "## Independence between error variables\n",
    "To check if the LiNGAM assumption is broken, we can get p-values of independence between error variables. The value in the i-th row and j-th column of the obtained matrix shows the p-value of the independence of the error variables $e_i$ and $e_j$."
   ]
  },
  {
   "cell_type": "code",
   "execution_count": 11,
   "metadata": {},
   "outputs": [
    {
     "name": "stdout",
     "output_type": "stream",
     "text": [
      "[[0.    0.127 0.104 0.042 0.746]\n",
      " [0.127 0.    0.086 0.874 0.739]\n",
      " [0.104 0.086 0.    0.404 0.136]\n",
      " [0.042 0.874 0.404 0.    0.763]\n",
      " [0.746 0.739 0.136 0.763 0.   ]]\n"
     ]
    }
   ],
   "source": [
    "p_values = model.get_error_independence_p_values()\n",
    "print(p_values)"
   ]
  },
  {
   "cell_type": "markdown",
   "metadata": {},
   "source": [
    "## Bootstrap"
   ]
  },
  {
   "cell_type": "markdown",
   "metadata": {},
   "source": [
    "### Bootstrapping\n",
    "We call `bootstrap()` method instead of `fit()`. Here, the second argument specifies the number of bootstrap sampling."
   ]
  },
  {
   "cell_type": "code",
   "execution_count": 12,
   "metadata": {},
   "outputs": [],
   "source": [
    "model = lingam.VARLiNGAM()\n",
    "result = model.bootstrap(X, n_sampling=100)"
   ]
  },
  {
   "cell_type": "markdown",
   "metadata": {},
   "source": [
    "## Causal Directions\n",
    "Since `BootstrapResult` object is returned, we can get the ranking of the causal directions extracted by `get_causal_direction_counts()` method. In the following sample code, `n_directions` option is limited to the causal directions of the top 8 rankings, and `min_causal_effect` option is limited to causal directions with a coefficient of 0.3 or more."
   ]
  },
  {
   "cell_type": "code",
   "execution_count": 13,
   "metadata": {},
   "outputs": [],
   "source": [
    "cdc = result.get_causal_direction_counts(n_directions=8, min_causal_effect=0.3, split_by_causal_effect_sign=True)"
   ]
  },
  {
   "cell_type": "markdown",
   "metadata": {},
   "source": [
    "We can check the result by utility function."
   ]
  },
  {
   "cell_type": "code",
   "execution_count": 14,
   "metadata": {},
   "outputs": [
    {
     "name": "stdout",
     "output_type": "stream",
     "text": [
      "x2(t) <--- x4(t-1) (b>0) (100.0%)\n",
      "x2(t) <--- x2(t-1) (b>0) (100.0%)\n",
      "x0(t) <--- x0(t-1) (b<0) (95.0%)\n",
      "x1(t) <--- x1(t-1) (b<0) (86.0%)\n",
      "x1(t) <--- x4(t-1) (b>0) (85.0%)\n",
      "x3(t) <--- x0(t-1) (b<0) (78.0%)\n",
      "x2(t) <--- x4(t) (b<0) (60.0%)\n",
      "x0(t) <--- x3(t-1) (b>0) (48.0%)\n"
     ]
    }
   ],
   "source": [
    "print_causal_directions(cdc, 100, labels=labels)"
   ]
  },
  {
   "cell_type": "markdown",
   "metadata": {},
   "source": [
    "## Directed Acyclic Graphs\n",
    "Also, using the `get_directed_acyclic_graph_counts()` method, we can get the ranking of the DAGs extracted. In the following sample code, `n_dags` option is limited to the dags of the top 3 rankings, and `min_causal_effect` option is limited to causal directions with a coefficient of 0.2 or more."
   ]
  },
  {
   "cell_type": "code",
   "execution_count": 15,
   "metadata": {},
   "outputs": [],
   "source": [
    "dagc = result.get_directed_acyclic_graph_counts(n_dags=3, min_causal_effect=0.2, split_by_causal_effect_sign=True)"
   ]
  },
  {
   "cell_type": "markdown",
   "metadata": {},
   "source": [
    "We can check the result by utility function."
   ]
  },
  {
   "cell_type": "code",
   "execution_count": 16,
   "metadata": {},
   "outputs": [
    {
     "name": "stdout",
     "output_type": "stream",
     "text": [
      "DAG[0]: 5.0%\n",
      "\tx0(t) <--- x0(t-1) (b<0)\n",
      "\tx0(t) <--- x3(t-1) (b>0)\n",
      "\tx1(t) <--- x0(t) (b<0)\n",
      "\tx1(t) <--- x0(t-1) (b<0)\n",
      "\tx1(t) <--- x1(t-1) (b<0)\n",
      "\tx1(t) <--- x4(t-1) (b>0)\n",
      "\tx2(t) <--- x0(t) (b<0)\n",
      "\tx2(t) <--- x4(t) (b<0)\n",
      "\tx2(t) <--- x2(t-1) (b>0)\n",
      "\tx2(t) <--- x4(t-1) (b>0)\n",
      "\tx3(t) <--- x0(t) (b>0)\n",
      "\tx3(t) <--- x0(t-1) (b<0)\n",
      "\tx3(t) <--- x2(t-1) (b<0)\n",
      "\tx3(t) <--- x4(t-1) (b<0)\n",
      "DAG[1]: 5.0%\n",
      "\tx0(t) <--- x0(t-1) (b<0)\n",
      "\tx0(t) <--- x3(t-1) (b>0)\n",
      "\tx1(t) <--- x0(t) (b<0)\n",
      "\tx1(t) <--- x2(t) (b>0)\n",
      "\tx1(t) <--- x0(t-1) (b<0)\n",
      "\tx1(t) <--- x1(t-1) (b<0)\n",
      "\tx1(t) <--- x4(t-1) (b>0)\n",
      "\tx2(t) <--- x0(t) (b<0)\n",
      "\tx2(t) <--- x4(t) (b<0)\n",
      "\tx2(t) <--- x2(t-1) (b>0)\n",
      "\tx2(t) <--- x4(t-1) (b>0)\n",
      "\tx3(t) <--- x0(t) (b>0)\n",
      "\tx3(t) <--- x0(t-1) (b<0)\n",
      "\tx3(t) <--- x2(t-1) (b<0)\n",
      "DAG[2]: 5.0%\n",
      "\tx0(t) <--- x0(t-1) (b<0)\n",
      "\tx0(t) <--- x3(t-1) (b>0)\n",
      "\tx1(t) <--- x1(t-1) (b<0)\n",
      "\tx1(t) <--- x3(t-1) (b<0)\n",
      "\tx1(t) <--- x4(t-1) (b>0)\n",
      "\tx2(t) <--- x1(t) (b>0)\n",
      "\tx2(t) <--- x3(t) (b>0)\n",
      "\tx2(t) <--- x0(t-1) (b>0)\n",
      "\tx2(t) <--- x2(t-1) (b>0)\n",
      "\tx2(t) <--- x4(t-1) (b>0)\n",
      "\tx3(t) <--- x1(t) (b<0)\n",
      "\tx3(t) <--- x0(t-1) (b<0)\n",
      "\tx3(t) <--- x2(t-1) (b<0)\n"
     ]
    }
   ],
   "source": [
    "print_dagc(dagc, 100, labels=labels)"
   ]
  },
  {
   "cell_type": "markdown",
   "metadata": {},
   "source": [
    "## Probability\n",
    "Using the `get_probabilities()` method, we can get the probability of bootstrapping."
   ]
  },
  {
   "cell_type": "code",
   "execution_count": 17,
   "metadata": {},
   "outputs": [
    {
     "name": "stdout",
     "output_type": "stream",
     "text": [
      "Probability of B0:\n",
      " [[0.   0.6  0.04 0.06 0.14]\n",
      " [0.39 0.   0.25 0.18 0.16]\n",
      " [0.65 0.68 0.   0.67 0.84]\n",
      " [0.51 0.6  0.07 0.   0.66]\n",
      " [0.35 0.28 0.01 0.09 0.  ]]\n",
      "Probability of B1:\n",
      " [[1.   0.   0.3  1.   0.02]\n",
      " [0.56 1.   0.94 0.67 1.  ]\n",
      " [0.8  0.02 1.   0.25 1.  ]\n",
      " [1.   0.24 1.   0.08 1.  ]\n",
      " [0.02 0.   0.03 0.07 0.  ]]\n"
     ]
    }
   ],
   "source": [
    "prob = result.get_probabilities(min_causal_effect=0.1)\n",
    "print('Probability of B0:\\n', prob[0])\n",
    "print('Probability of B1:\\n', prob[1])"
   ]
  },
  {
   "cell_type": "markdown",
   "metadata": {},
   "source": [
    "## Total Causal Effects\n",
    "Using the `get_causal_effects()` method, we can get the list of total causal effect. The total causal effects we can get are dictionary type variable.\n",
    "We can display the list nicely by assigning it to pandas.DataFrame. Also, we have replaced the variable index with a label below."
   ]
  },
  {
   "cell_type": "code",
   "execution_count": 18,
   "metadata": {},
   "outputs": [
    {
     "data": {
      "text/html": [
       "<div>\n",
       "<style scoped>\n",
       "    .dataframe tbody tr th:only-of-type {\n",
       "        vertical-align: middle;\n",
       "    }\n",
       "\n",
       "    .dataframe tbody tr th {\n",
       "        vertical-align: top;\n",
       "    }\n",
       "\n",
       "    .dataframe thead th {\n",
       "        text-align: right;\n",
       "    }\n",
       "</style>\n",
       "<table border=\"1\" class=\"dataframe\">\n",
       "  <thead>\n",
       "    <tr style=\"text-align: right;\">\n",
       "      <th></th>\n",
       "      <th>from</th>\n",
       "      <th>to</th>\n",
       "      <th>effect</th>\n",
       "      <th>probability</th>\n",
       "    </tr>\n",
       "  </thead>\n",
       "  <tbody>\n",
       "    <tr>\n",
       "      <th>0</th>\n",
       "      <td>x0(t-1)</td>\n",
       "      <td>x2(t)</td>\n",
       "      <td>0.181032</td>\n",
       "      <td>1.00</td>\n",
       "    </tr>\n",
       "    <tr>\n",
       "      <th>1</th>\n",
       "      <td>x2(t-1)</td>\n",
       "      <td>x2(t)</td>\n",
       "      <td>0.388777</td>\n",
       "      <td>1.00</td>\n",
       "    </tr>\n",
       "    <tr>\n",
       "      <th>2</th>\n",
       "      <td>x4(t-1)</td>\n",
       "      <td>x1(t)</td>\n",
       "      <td>0.427308</td>\n",
       "      <td>1.00</td>\n",
       "    </tr>\n",
       "    <tr>\n",
       "      <th>3</th>\n",
       "      <td>x1(t-1)</td>\n",
       "      <td>x1(t)</td>\n",
       "      <td>-0.338691</td>\n",
       "      <td>1.00</td>\n",
       "    </tr>\n",
       "    <tr>\n",
       "      <th>4</th>\n",
       "      <td>x0(t-1)</td>\n",
       "      <td>x3(t)</td>\n",
       "      <td>-0.397439</td>\n",
       "      <td>1.00</td>\n",
       "    </tr>\n",
       "    <tr>\n",
       "      <th>5</th>\n",
       "      <td>x3(t-1)</td>\n",
       "      <td>x0(t)</td>\n",
       "      <td>0.345461</td>\n",
       "      <td>1.00</td>\n",
       "    </tr>\n",
       "    <tr>\n",
       "      <th>6</th>\n",
       "      <td>x4(t-1)</td>\n",
       "      <td>x2(t)</td>\n",
       "      <td>0.501859</td>\n",
       "      <td>1.00</td>\n",
       "    </tr>\n",
       "    <tr>\n",
       "      <th>7</th>\n",
       "      <td>x4(t-1)</td>\n",
       "      <td>x3(t)</td>\n",
       "      <td>-0.253700</td>\n",
       "      <td>1.00</td>\n",
       "    </tr>\n",
       "    <tr>\n",
       "      <th>8</th>\n",
       "      <td>x0(t-1)</td>\n",
       "      <td>x0(t)</td>\n",
       "      <td>-0.357296</td>\n",
       "      <td>1.00</td>\n",
       "    </tr>\n",
       "    <tr>\n",
       "      <th>9</th>\n",
       "      <td>x2(t-1)</td>\n",
       "      <td>x3(t)</td>\n",
       "      <td>-0.222886</td>\n",
       "      <td>1.00</td>\n",
       "    </tr>\n",
       "    <tr>\n",
       "      <th>10</th>\n",
       "      <td>x3(t-1)</td>\n",
       "      <td>x3(t)</td>\n",
       "      <td>0.101008</td>\n",
       "      <td>1.00</td>\n",
       "    </tr>\n",
       "    <tr>\n",
       "      <th>11</th>\n",
       "      <td>x3(t-1)</td>\n",
       "      <td>x1(t)</td>\n",
       "      <td>-0.315462</td>\n",
       "      <td>0.99</td>\n",
       "    </tr>\n",
       "    <tr>\n",
       "      <th>12</th>\n",
       "      <td>x2(t-1)</td>\n",
       "      <td>x0(t)</td>\n",
       "      <td>0.090369</td>\n",
       "      <td>0.99</td>\n",
       "    </tr>\n",
       "    <tr>\n",
       "      <th>13</th>\n",
       "      <td>x2(t-1)</td>\n",
       "      <td>x1(t)</td>\n",
       "      <td>-0.172693</td>\n",
       "      <td>0.98</td>\n",
       "    </tr>\n",
       "    <tr>\n",
       "      <th>14</th>\n",
       "      <td>x1(t-1)</td>\n",
       "      <td>x2(t)</td>\n",
       "      <td>-0.063602</td>\n",
       "      <td>0.89</td>\n",
       "    </tr>\n",
       "    <tr>\n",
       "      <th>15</th>\n",
       "      <td>x4(t)</td>\n",
       "      <td>x2(t)</td>\n",
       "      <td>-0.449165</td>\n",
       "      <td>0.89</td>\n",
       "    </tr>\n",
       "    <tr>\n",
       "      <th>16</th>\n",
       "      <td>x3(t-1)</td>\n",
       "      <td>x2(t)</td>\n",
       "      <td>-0.079600</td>\n",
       "      <td>0.89</td>\n",
       "    </tr>\n",
       "    <tr>\n",
       "      <th>17</th>\n",
       "      <td>x0(t)</td>\n",
       "      <td>x2(t)</td>\n",
       "      <td>-0.280635</td>\n",
       "      <td>0.83</td>\n",
       "    </tr>\n",
       "    <tr>\n",
       "      <th>18</th>\n",
       "      <td>x1(t-1)</td>\n",
       "      <td>x0(t)</td>\n",
       "      <td>0.057164</td>\n",
       "      <td>0.82</td>\n",
       "    </tr>\n",
       "    <tr>\n",
       "      <th>19</th>\n",
       "      <td>x4(t-1)</td>\n",
       "      <td>x0(t)</td>\n",
       "      <td>-0.050805</td>\n",
       "      <td>0.79</td>\n",
       "    </tr>\n",
       "    <tr>\n",
       "      <th>20</th>\n",
       "      <td>x4(t)</td>\n",
       "      <td>x3(t)</td>\n",
       "      <td>-0.151835</td>\n",
       "      <td>0.76</td>\n",
       "    </tr>\n",
       "    <tr>\n",
       "      <th>21</th>\n",
       "      <td>x1(t)</td>\n",
       "      <td>x2(t)</td>\n",
       "      <td>0.211957</td>\n",
       "      <td>0.75</td>\n",
       "    </tr>\n",
       "    <tr>\n",
       "      <th>22</th>\n",
       "      <td>x1(t-1)</td>\n",
       "      <td>x3(t)</td>\n",
       "      <td>-0.021313</td>\n",
       "      <td>0.75</td>\n",
       "    </tr>\n",
       "    <tr>\n",
       "      <th>23</th>\n",
       "      <td>x3(t)</td>\n",
       "      <td>x2(t)</td>\n",
       "      <td>0.248101</td>\n",
       "      <td>0.66</td>\n",
       "    </tr>\n",
       "    <tr>\n",
       "      <th>24</th>\n",
       "      <td>x0(t)</td>\n",
       "      <td>x3(t)</td>\n",
       "      <td>0.259859</td>\n",
       "      <td>0.64</td>\n",
       "    </tr>\n",
       "    <tr>\n",
       "      <th>25</th>\n",
       "      <td>x3(t-1)</td>\n",
       "      <td>x4(t)</td>\n",
       "      <td>0.061849</td>\n",
       "      <td>0.62</td>\n",
       "    </tr>\n",
       "    <tr>\n",
       "      <th>26</th>\n",
       "      <td>x1(t)</td>\n",
       "      <td>x3(t)</td>\n",
       "      <td>-0.218490</td>\n",
       "      <td>0.62</td>\n",
       "    </tr>\n",
       "    <tr>\n",
       "      <th>27</th>\n",
       "      <td>x1(t)</td>\n",
       "      <td>x0(t)</td>\n",
       "      <td>-0.199704</td>\n",
       "      <td>0.61</td>\n",
       "    </tr>\n",
       "    <tr>\n",
       "      <th>28</th>\n",
       "      <td>x1(t)</td>\n",
       "      <td>x4(t)</td>\n",
       "      <td>-0.104466</td>\n",
       "      <td>0.56</td>\n",
       "    </tr>\n",
       "    <tr>\n",
       "      <th>29</th>\n",
       "      <td>x0(t-1)</td>\n",
       "      <td>x1(t)</td>\n",
       "      <td>-0.119971</td>\n",
       "      <td>0.53</td>\n",
       "    </tr>\n",
       "    <tr>\n",
       "      <th>30</th>\n",
       "      <td>x2(t-1)</td>\n",
       "      <td>x4(t)</td>\n",
       "      <td>0.017608</td>\n",
       "      <td>0.50</td>\n",
       "    </tr>\n",
       "    <tr>\n",
       "      <th>31</th>\n",
       "      <td>x4(t-1)</td>\n",
       "      <td>x4(t)</td>\n",
       "      <td>-0.041991</td>\n",
       "      <td>0.47</td>\n",
       "    </tr>\n",
       "    <tr>\n",
       "      <th>32</th>\n",
       "      <td>x1(t-1)</td>\n",
       "      <td>x4(t)</td>\n",
       "      <td>0.029382</td>\n",
       "      <td>0.42</td>\n",
       "    </tr>\n",
       "    <tr>\n",
       "      <th>33</th>\n",
       "      <td>x0(t-1)</td>\n",
       "      <td>x4(t)</td>\n",
       "      <td>-0.055934</td>\n",
       "      <td>0.42</td>\n",
       "    </tr>\n",
       "    <tr>\n",
       "      <th>34</th>\n",
       "      <td>x4(t)</td>\n",
       "      <td>x1(t)</td>\n",
       "      <td>-0.063677</td>\n",
       "      <td>0.42</td>\n",
       "    </tr>\n",
       "    <tr>\n",
       "      <th>35</th>\n",
       "      <td>x4(t)</td>\n",
       "      <td>x0(t)</td>\n",
       "      <td>-0.066867</td>\n",
       "      <td>0.40</td>\n",
       "    </tr>\n",
       "    <tr>\n",
       "      <th>36</th>\n",
       "      <td>x0(t)</td>\n",
       "      <td>x1(t)</td>\n",
       "      <td>-0.719255</td>\n",
       "      <td>0.39</td>\n",
       "    </tr>\n",
       "    <tr>\n",
       "      <th>37</th>\n",
       "      <td>x0(t)</td>\n",
       "      <td>x4(t)</td>\n",
       "      <td>0.174717</td>\n",
       "      <td>0.37</td>\n",
       "    </tr>\n",
       "    <tr>\n",
       "      <th>38</th>\n",
       "      <td>x2(t)</td>\n",
       "      <td>x1(t)</td>\n",
       "      <td>0.212699</td>\n",
       "      <td>0.25</td>\n",
       "    </tr>\n",
       "    <tr>\n",
       "      <th>39</th>\n",
       "      <td>x3(t)</td>\n",
       "      <td>x1(t)</td>\n",
       "      <td>-0.308596</td>\n",
       "      <td>0.20</td>\n",
       "    </tr>\n",
       "    <tr>\n",
       "      <th>40</th>\n",
       "      <td>x2(t)</td>\n",
       "      <td>x3(t)</td>\n",
       "      <td>-0.084192</td>\n",
       "      <td>0.18</td>\n",
       "    </tr>\n",
       "    <tr>\n",
       "      <th>41</th>\n",
       "      <td>x3(t)</td>\n",
       "      <td>x0(t)</td>\n",
       "      <td>0.154238</td>\n",
       "      <td>0.11</td>\n",
       "    </tr>\n",
       "    <tr>\n",
       "      <th>42</th>\n",
       "      <td>x3(t)</td>\n",
       "      <td>x4(t)</td>\n",
       "      <td>-0.205918</td>\n",
       "      <td>0.10</td>\n",
       "    </tr>\n",
       "    <tr>\n",
       "      <th>43</th>\n",
       "      <td>x2(t)</td>\n",
       "      <td>x0(t)</td>\n",
       "      <td>-0.217316</td>\n",
       "      <td>0.06</td>\n",
       "    </tr>\n",
       "    <tr>\n",
       "      <th>44</th>\n",
       "      <td>x2(t)</td>\n",
       "      <td>x4(t)</td>\n",
       "      <td>-0.093614</td>\n",
       "      <td>0.03</td>\n",
       "    </tr>\n",
       "  </tbody>\n",
       "</table>\n",
       "</div>"
      ],
      "text/plain": [
       "       from     to    effect  probability\n",
       "0   x0(t-1)  x2(t)  0.181032         1.00\n",
       "1   x2(t-1)  x2(t)  0.388777         1.00\n",
       "2   x4(t-1)  x1(t)  0.427308         1.00\n",
       "3   x1(t-1)  x1(t) -0.338691         1.00\n",
       "4   x0(t-1)  x3(t) -0.397439         1.00\n",
       "5   x3(t-1)  x0(t)  0.345461         1.00\n",
       "6   x4(t-1)  x2(t)  0.501859         1.00\n",
       "7   x4(t-1)  x3(t) -0.253700         1.00\n",
       "8   x0(t-1)  x0(t) -0.357296         1.00\n",
       "9   x2(t-1)  x3(t) -0.222886         1.00\n",
       "10  x3(t-1)  x3(t)  0.101008         1.00\n",
       "11  x3(t-1)  x1(t) -0.315462         0.99\n",
       "12  x2(t-1)  x0(t)  0.090369         0.99\n",
       "13  x2(t-1)  x1(t) -0.172693         0.98\n",
       "14  x1(t-1)  x2(t) -0.063602         0.89\n",
       "15    x4(t)  x2(t) -0.449165         0.89\n",
       "16  x3(t-1)  x2(t) -0.079600         0.89\n",
       "17    x0(t)  x2(t) -0.280635         0.83\n",
       "18  x1(t-1)  x0(t)  0.057164         0.82\n",
       "19  x4(t-1)  x0(t) -0.050805         0.79\n",
       "20    x4(t)  x3(t) -0.151835         0.76\n",
       "21    x1(t)  x2(t)  0.211957         0.75\n",
       "22  x1(t-1)  x3(t) -0.021313         0.75\n",
       "23    x3(t)  x2(t)  0.248101         0.66\n",
       "24    x0(t)  x3(t)  0.259859         0.64\n",
       "25  x3(t-1)  x4(t)  0.061849         0.62\n",
       "26    x1(t)  x3(t) -0.218490         0.62\n",
       "27    x1(t)  x0(t) -0.199704         0.61\n",
       "28    x1(t)  x4(t) -0.104466         0.56\n",
       "29  x0(t-1)  x1(t) -0.119971         0.53\n",
       "30  x2(t-1)  x4(t)  0.017608         0.50\n",
       "31  x4(t-1)  x4(t) -0.041991         0.47\n",
       "32  x1(t-1)  x4(t)  0.029382         0.42\n",
       "33  x0(t-1)  x4(t) -0.055934         0.42\n",
       "34    x4(t)  x1(t) -0.063677         0.42\n",
       "35    x4(t)  x0(t) -0.066867         0.40\n",
       "36    x0(t)  x1(t) -0.719255         0.39\n",
       "37    x0(t)  x4(t)  0.174717         0.37\n",
       "38    x2(t)  x1(t)  0.212699         0.25\n",
       "39    x3(t)  x1(t) -0.308596         0.20\n",
       "40    x2(t)  x3(t) -0.084192         0.18\n",
       "41    x3(t)  x0(t)  0.154238         0.11\n",
       "42    x3(t)  x4(t) -0.205918         0.10\n",
       "43    x2(t)  x0(t) -0.217316         0.06\n",
       "44    x2(t)  x4(t) -0.093614         0.03"
      ]
     },
     "execution_count": 18,
     "metadata": {},
     "output_type": "execute_result"
    }
   ],
   "source": [
    "causal_effects = result.get_total_causal_effects(min_causal_effect=0.01)\n",
    "df = pd.DataFrame(causal_effects)\n",
    "\n",
    "df['from'] = df['from'].apply(lambda x : labels[x])\n",
    "df['to'] = df['to'].apply(lambda x : labels[x])\n",
    "df"
   ]
  },
  {
   "cell_type": "markdown",
   "metadata": {},
   "source": [
    "We can easily perform sorting operations with pandas.DataFrame."
   ]
  },
  {
   "cell_type": "code",
   "execution_count": 19,
   "metadata": {},
   "outputs": [
    {
     "data": {
      "text/html": [
       "<div>\n",
       "<style scoped>\n",
       "    .dataframe tbody tr th:only-of-type {\n",
       "        vertical-align: middle;\n",
       "    }\n",
       "\n",
       "    .dataframe tbody tr th {\n",
       "        vertical-align: top;\n",
       "    }\n",
       "\n",
       "    .dataframe thead th {\n",
       "        text-align: right;\n",
       "    }\n",
       "</style>\n",
       "<table border=\"1\" class=\"dataframe\">\n",
       "  <thead>\n",
       "    <tr style=\"text-align: right;\">\n",
       "      <th></th>\n",
       "      <th>from</th>\n",
       "      <th>to</th>\n",
       "      <th>effect</th>\n",
       "      <th>probability</th>\n",
       "    </tr>\n",
       "  </thead>\n",
       "  <tbody>\n",
       "    <tr>\n",
       "      <th>6</th>\n",
       "      <td>x4(t-1)</td>\n",
       "      <td>x2(t)</td>\n",
       "      <td>0.501859</td>\n",
       "      <td>1.00</td>\n",
       "    </tr>\n",
       "    <tr>\n",
       "      <th>2</th>\n",
       "      <td>x4(t-1)</td>\n",
       "      <td>x1(t)</td>\n",
       "      <td>0.427308</td>\n",
       "      <td>1.00</td>\n",
       "    </tr>\n",
       "    <tr>\n",
       "      <th>1</th>\n",
       "      <td>x2(t-1)</td>\n",
       "      <td>x2(t)</td>\n",
       "      <td>0.388777</td>\n",
       "      <td>1.00</td>\n",
       "    </tr>\n",
       "    <tr>\n",
       "      <th>5</th>\n",
       "      <td>x3(t-1)</td>\n",
       "      <td>x0(t)</td>\n",
       "      <td>0.345461</td>\n",
       "      <td>1.00</td>\n",
       "    </tr>\n",
       "    <tr>\n",
       "      <th>24</th>\n",
       "      <td>x0(t)</td>\n",
       "      <td>x3(t)</td>\n",
       "      <td>0.259859</td>\n",
       "      <td>0.64</td>\n",
       "    </tr>\n",
       "  </tbody>\n",
       "</table>\n",
       "</div>"
      ],
      "text/plain": [
       "       from     to    effect  probability\n",
       "6   x4(t-1)  x2(t)  0.501859         1.00\n",
       "2   x4(t-1)  x1(t)  0.427308         1.00\n",
       "1   x2(t-1)  x2(t)  0.388777         1.00\n",
       "5   x3(t-1)  x0(t)  0.345461         1.00\n",
       "24    x0(t)  x3(t)  0.259859         0.64"
      ]
     },
     "execution_count": 19,
     "metadata": {},
     "output_type": "execute_result"
    }
   ],
   "source": [
    "df.sort_values('effect', ascending=False).head()"
   ]
  },
  {
   "cell_type": "markdown",
   "metadata": {},
   "source": [
    "And with pandas.DataFrame, we can easily filter by keywords. The following code extracts the causal direction towards x1(t)."
   ]
  },
  {
   "cell_type": "code",
   "execution_count": 20,
   "metadata": {},
   "outputs": [
    {
     "data": {
      "text/html": [
       "<div>\n",
       "<style scoped>\n",
       "    .dataframe tbody tr th:only-of-type {\n",
       "        vertical-align: middle;\n",
       "    }\n",
       "\n",
       "    .dataframe tbody tr th {\n",
       "        vertical-align: top;\n",
       "    }\n",
       "\n",
       "    .dataframe thead th {\n",
       "        text-align: right;\n",
       "    }\n",
       "</style>\n",
       "<table border=\"1\" class=\"dataframe\">\n",
       "  <thead>\n",
       "    <tr style=\"text-align: right;\">\n",
       "      <th></th>\n",
       "      <th>from</th>\n",
       "      <th>to</th>\n",
       "      <th>effect</th>\n",
       "      <th>probability</th>\n",
       "    </tr>\n",
       "  </thead>\n",
       "  <tbody>\n",
       "    <tr>\n",
       "      <th>2</th>\n",
       "      <td>x4(t-1)</td>\n",
       "      <td>x1(t)</td>\n",
       "      <td>0.427308</td>\n",
       "      <td>1.00</td>\n",
       "    </tr>\n",
       "    <tr>\n",
       "      <th>3</th>\n",
       "      <td>x1(t-1)</td>\n",
       "      <td>x1(t)</td>\n",
       "      <td>-0.338691</td>\n",
       "      <td>1.00</td>\n",
       "    </tr>\n",
       "    <tr>\n",
       "      <th>11</th>\n",
       "      <td>x3(t-1)</td>\n",
       "      <td>x1(t)</td>\n",
       "      <td>-0.315462</td>\n",
       "      <td>0.99</td>\n",
       "    </tr>\n",
       "    <tr>\n",
       "      <th>13</th>\n",
       "      <td>x2(t-1)</td>\n",
       "      <td>x1(t)</td>\n",
       "      <td>-0.172693</td>\n",
       "      <td>0.98</td>\n",
       "    </tr>\n",
       "    <tr>\n",
       "      <th>29</th>\n",
       "      <td>x0(t-1)</td>\n",
       "      <td>x1(t)</td>\n",
       "      <td>-0.119971</td>\n",
       "      <td>0.53</td>\n",
       "    </tr>\n",
       "  </tbody>\n",
       "</table>\n",
       "</div>"
      ],
      "text/plain": [
       "       from     to    effect  probability\n",
       "2   x4(t-1)  x1(t)  0.427308         1.00\n",
       "3   x1(t-1)  x1(t) -0.338691         1.00\n",
       "11  x3(t-1)  x1(t) -0.315462         0.99\n",
       "13  x2(t-1)  x1(t) -0.172693         0.98\n",
       "29  x0(t-1)  x1(t) -0.119971         0.53"
      ]
     },
     "execution_count": 20,
     "metadata": {},
     "output_type": "execute_result"
    }
   ],
   "source": [
    "df[df['to']=='x1(t)'].head()"
   ]
  },
  {
   "cell_type": "markdown",
   "metadata": {},
   "source": [
    "Because it holds the raw data of the total causal effect (the original data for calculating the median), it is possible to draw a histogram of the values of the causal effect, as shown below."
   ]
  },
  {
   "cell_type": "code",
   "execution_count": 21,
   "metadata": {},
   "outputs": [
    {
     "data": {
      "text/plain": [
       "(array([ 1.,  3.,  3., 10., 17., 15., 29., 15.,  6.,  1.]),\n",
       " array([0.281, 0.299, 0.317, 0.335, 0.353, 0.371, 0.389, 0.407, 0.424,\n",
       "        0.442, 0.46 ]),\n",
       " <BarContainer object of 10 artists>)"
      ]
     },
     "execution_count": 21,
     "metadata": {},
     "output_type": "execute_result"
    },
    {
     "data": {
      "image/png": "[encoded data removed]",
      "text/plain": [
       "<Figure size 640x480 with 1 Axes>"
      ]
     },
     "metadata": {},
     "output_type": "display_data"
    }
   ],
   "source": [
    "import matplotlib.pyplot as plt\n",
    "import seaborn as sns\n",
    "sns.set()\n",
    "%matplotlib inline\n",
    "\n",
    "from_index = 7 # index of x2(t-1). (index:2)+(n_features:5)*(lag:1) = 7\n",
    "to_index = 2 # index of x2(t). (index:2)+(n_features:5)*(lag:0) = 2\n",
    "plt.hist(result.total_effects_[:, to_index, from_index])"
   ]
  },
  {
   "cell_type": "code",
   "execution_count": null,
   "metadata": {},
   "outputs": [],
   "source": []
  }
 ],
 "metadata": {
  "kernelspec": {
   "display_name": "Python 3 (ipykernel)",
   "language": "python",
   "name": "python3"
  },
  "language_info": {
   "codemirror_mode": {
    "name": "ipython",
    "version": 3
   },
   "file_extension": ".py",
   "mimetype": "text/x-python",
   "name": "python",
   "nbconvert_exporter": "python",
   "pygments_lexer": "ipython3",
   "version": "3.12.4"
  }
 },
 "nbformat": 4,
 "nbformat_minor": 4
}
