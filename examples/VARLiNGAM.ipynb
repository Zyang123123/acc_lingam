{
 "cells": [
  {
   "cell_type": "markdown",
   "metadata": {},
   "source": [
    "# VARLiNGAM"
   ]
  },
  {
   "cell_type": "markdown",
   "metadata": {},
   "source": [
    "## Import and settings\n",
    "In this example, we need to import `numpy`, `pandas`, and `graphviz` in addition to `lingam`."
   ]
  },
  {
   "cell_type": "code",
   "execution_count": 1,
   "metadata": {},
   "outputs": [
    {
     "name": "stdout",
     "output_type": "stream",
     "text": [
      "['1.24.4', '2.0.3', '0.20.1', '1.8.3']\n"
     ]
    }
   ],
   "source": [
    "import numpy as np\n",
    "import pandas as pd\n",
    "import graphviz\n",
    "import lingam\n",
    "from lingam.utils import make_dot, print_causal_directions, print_dagc\n",
    "\n",
    "print([np.__version__, pd.__version__, graphviz.__version__, lingam.__version__])\n",
    "\n",
    "np.set_printoptions(precision=3, suppress=True)\n",
    "np.random.seed(0)"
   ]
  },
  {
   "cell_type": "markdown",
   "metadata": {},
   "source": [
    "## Test data\n",
    "We create test data consisting of 5 variables."
   ]
  },
  {
   "cell_type": "code",
   "execution_count": 2,
   "metadata": {},
   "outputs": [],
   "source": [
    "B0 = [\n",
    "    [0,-0.12,0,0,0],\n",
    "    [0,0,0,0,0],\n",
    "    [-0.41,0.01,0,-0.02,0],\n",
    "    [0.04,-0.22,0,0,0],\n",
    "    [0.15,0,-0.03,0,0],\n",
    "]\n",
    "B1 = [\n",
    "    [-0.32,0,0.12,0.32,0],\n",
    "    [0,-0.35,-0.1,-0.46,0.4],\n",
    "    [0,0,0.37,0,0.46],\n",
    "    [-0.38,-0.1,-0.24,0,-0.13],\n",
    "    [0,0,0,0,0],\n",
    "]\n",
    "causal_order = [1, 0, 3, 2, 4]\n",
    "\n",
    "# data generated from B0 and B1\n",
    "X = pd.read_csv('data/sample_data_var_lingam.csv')"
   ]
  },
  {
   "cell_type": "markdown",
   "metadata": {},
   "source": [
    "## Causal Discovery\n",
    "To run causal discovery, we create a `VARLiNGAM` object and call the `fit` method."
   ]
  },
  {
   "cell_type": "code",
   "execution_count": 3,
   "metadata": {},
   "outputs": [
    {
     "data": {
      "text/plain": [
       "<lingam.var_lingam.VARLiNGAM at 0x7fc1a642d970>"
      ]
     },
     "execution_count": 3,
     "metadata": {},
     "output_type": "execute_result"
    }
   ],
   "source": [
    "model = lingam.VARLiNGAM()\n",
    "model.fit(X)"
   ]
  },
  {
   "cell_type": "markdown",
   "metadata": {},
   "source": [
    "Using the `causal_order_` properties, we can see the causal ordering as a result of the causal discovery."
   ]
  },
  {
   "cell_type": "code",
   "execution_count": 4,
   "metadata": {},
   "outputs": [
    {
     "data": {
      "text/plain": [
       "[1, 0, 3, 2, 4]"
      ]
     },
     "execution_count": 4,
     "metadata": {},
     "output_type": "execute_result"
    }
   ],
   "source": [
    "model.causal_order_"
   ]
  },
  {
   "cell_type": "markdown",
   "metadata": {},
   "source": [
    "Also, using the `adjacency_matrices_` properties, we can see the adjacency matrix as a result of the causal discovery."
   ]
  },
  {
   "cell_type": "code",
   "execution_count": 5,
   "metadata": {},
   "outputs": [
    {
     "data": {
      "text/plain": [
       "array([[ 0.   , -0.136,  0.   ,  0.   ,  0.   ],\n",
       "       [ 0.   ,  0.   ,  0.   ,  0.   ,  0.   ],\n",
       "       [-0.484,  0.   ,  0.   ,  0.   ,  0.   ],\n",
       "       [ 0.075, -0.21 ,  0.   ,  0.   ,  0.   ],\n",
       "       [ 0.168,  0.   ,  0.   ,  0.   ,  0.   ]])"
      ]
     },
     "execution_count": 5,
     "metadata": {},
     "output_type": "execute_result"
    }
   ],
   "source": [
    "# B0\n",
    "model.adjacency_matrices_[0]"
   ]
  },
  {
   "cell_type": "code",
   "execution_count": 6,
   "metadata": {},
   "outputs": [
    {
     "data": {
      "text/plain": [
       "array([[-0.358,  0.   ,  0.073,  0.302,  0.   ],\n",
       "       [ 0.   , -0.338, -0.154, -0.335,  0.423],\n",
       "       [ 0.   ,  0.   ,  0.424,  0.112,  0.493],\n",
       "       [-0.386, -0.1  , -0.266,  0.   , -0.159],\n",
       "       [ 0.   ,  0.   ,  0.   ,  0.   ,  0.   ]])"
      ]
     },
     "execution_count": 6,
     "metadata": {},
     "output_type": "execute_result"
    }
   ],
   "source": [
    "# B1\n",
    "model.adjacency_matrices_[1]"
   ]
  },
  {
   "cell_type": "code",
   "execution_count": 7,
   "metadata": {},
   "outputs": [
    {
     "data": {
      "text/plain": [
       "array([[-0.308,  0.911, -1.152, -1.159,  0.179],\n",
       "       [ 1.364,  1.713, -1.389, -0.265, -0.192],\n",
       "       [-0.861,  0.249,  0.479, -1.557, -0.462],\n",
       "       ...,\n",
       "       [-1.202,  1.819,  0.99 , -0.855, -0.127],\n",
       "       [-0.133,  1.23 , -0.445, -0.753,  1.096],\n",
       "       [-0.069,  0.558,  0.21 , -0.863, -0.189]])"
      ]
     },
     "execution_count": 7,
     "metadata": {},
     "output_type": "execute_result"
    }
   ],
   "source": [
    "model.residuals_"
   ]
  },
  {
   "cell_type": "markdown",
   "metadata": {},
   "source": [
    "Using `DirectLiNGAM` for the `residuals_` properties, we can calculate B0 matrix."
   ]
  },
  {
   "cell_type": "code",
   "execution_count": 8,
   "metadata": {},
   "outputs": [
    {
     "data": {
      "text/plain": [
       "array([[ 0.   , -0.144,  0.   ,  0.   ,  0.   ],\n",
       "       [ 0.   ,  0.   ,  0.   ,  0.   ,  0.   ],\n",
       "       [-0.456,  0.   ,  0.   ,  0.   ,  0.   ],\n",
       "       [ 0.   , -0.22 ,  0.   ,  0.   ,  0.   ],\n",
       "       [ 0.157,  0.   ,  0.   ,  0.   ,  0.   ]])"
      ]
     },
     "execution_count": 8,
     "metadata": {},
     "output_type": "execute_result"
    }
   ],
   "source": [
    "dlingam = lingam.DirectLiNGAM()\n",
    "dlingam.fit(model.residuals_)\n",
    "dlingam.adjacency_matrix_"
   ]
  },
  {
   "cell_type": "markdown",
   "metadata": {},
   "source": [
    "We can draw a causal graph by utility funciton."
   ]
  },
  {
   "cell_type": "code",
   "execution_count": 9,
   "metadata": {},
   "outputs": [
    {
     "data": {
      "image/svg+xml": [
       "<?xml version=\"1.0\" encoding=\"UTF-8\" standalone=\"no\"?>\n",
       "<!DOCTYPE svg PUBLIC \"-//W3C//DTD SVG 1.1//EN\"\n",
       " \"http://www.w3.org/Graphics/SVG/1.1/DTD/svg11.dtd\">\n",
       "<!-- Generated by graphviz version 2.43.0 (0)\n",
       " -->\n",
       "<!-- Title: %3 Pages: 1 -->\n",
       "<svg width=\"614pt\" height=\"305pt\"\n",
       " viewBox=\"0.00 0.00 613.60 305.00\" xmlns=\"http://www.w3.org/2000/svg\" xmlns:xlink=\"http://www.w3.org/1999/xlink\">\n",
       "<g id=\"graph0\" class=\"graph\" transform=\"scale(1 1) rotate(0) translate(4 301)\">\n",
       "<title>%3</title>\n",
       "<polygon fill=\"white\" stroke=\"transparent\" points=\"-4,4 -4,-301 609.6,-301 609.6,4 -4,4\"/>\n",
       "<!-- x0(t) -->\n",
       "<g id=\"node1\" class=\"node\">\n",
       "<title>x0(t)</title>\n",
       "<ellipse fill=\"none\" stroke=\"black\" cx=\"235.6\" cy=\"-105\" rx=\"32.49\" ry=\"18\"/>\n",
       "<text text-anchor=\"middle\" x=\"235.6\" y=\"-101.3\" font-family=\"Times,serif\" font-size=\"14.00\">x0(t)</text>\n",
       "</g>\n",
       "<!-- x2(t) -->\n",
       "<g id=\"node3\" class=\"node\">\n",
       "<title>x2(t)</title>\n",
       "<ellipse fill=\"none\" stroke=\"black\" cx=\"115.6\" cy=\"-18\" rx=\"32.49\" ry=\"18\"/>\n",
       "<text text-anchor=\"middle\" x=\"115.6\" y=\"-14.3\" font-family=\"Times,serif\" font-size=\"14.00\">x2(t)</text>\n",
       "</g>\n",
       "<!-- x0(t)&#45;&gt;x2(t) -->\n",
       "<g id=\"edge9\" class=\"edge\">\n",
       "<title>x0(t)&#45;&gt;x2(t)</title>\n",
       "<path fill=\"none\" stroke=\"black\" d=\"M216.32,-90.34C196.55,-76.34 165.61,-54.43 143.24,-38.58\"/>\n",
       "<polygon fill=\"black\" stroke=\"black\" points=\"145.01,-35.55 134.83,-32.62 140.97,-41.26 145.01,-35.55\"/>\n",
       "<text text-anchor=\"middle\" x=\"201.1\" y=\"-57.8\" font-family=\"Times,serif\" font-size=\"14.00\">&#45;0.48</text>\n",
       "</g>\n",
       "<!-- x3(t) -->\n",
       "<g id=\"node4\" class=\"node\">\n",
       "<title>x3(t)</title>\n",
       "<ellipse fill=\"none\" stroke=\"black\" cx=\"425.6\" cy=\"-18\" rx=\"32.49\" ry=\"18\"/>\n",
       "<text text-anchor=\"middle\" x=\"425.6\" y=\"-14.3\" font-family=\"Times,serif\" font-size=\"14.00\">x3(t)</text>\n",
       "</g>\n",
       "<!-- x0(t)&#45;&gt;x3(t) -->\n",
       "<g id=\"edge13\" class=\"edge\">\n",
       "<title>x0(t)&#45;&gt;x3(t)</title>\n",
       "<path fill=\"none\" stroke=\"black\" d=\"M249.32,-88.29C259.84,-77.17 275.29,-62.75 291.6,-54 320.53,-38.48 356.73,-29.56 384.2,-24.62\"/>\n",
       "<polygon fill=\"black\" stroke=\"black\" points=\"385,-28.03 394.27,-22.91 383.83,-21.13 385,-28.03\"/>\n",
       "<text text-anchor=\"middle\" x=\"307.6\" y=\"-57.8\" font-family=\"Times,serif\" font-size=\"14.00\">0.07</text>\n",
       "</g>\n",
       "<!-- x4(t) -->\n",
       "<g id=\"node5\" class=\"node\">\n",
       "<title>x4(t)</title>\n",
       "<ellipse fill=\"none\" stroke=\"black\" cx=\"235.6\" cy=\"-18\" rx=\"32.49\" ry=\"18\"/>\n",
       "<text text-anchor=\"middle\" x=\"235.6\" y=\"-14.3\" font-family=\"Times,serif\" font-size=\"14.00\">x4(t)</text>\n",
       "</g>\n",
       "<!-- x0(t)&#45;&gt;x4(t) -->\n",
       "<g id=\"edge19\" class=\"edge\">\n",
       "<title>x0(t)&#45;&gt;x4(t)</title>\n",
       "<path fill=\"none\" stroke=\"black\" d=\"M235.6,-86.8C235.6,-75.16 235.6,-59.55 235.6,-46.24\"/>\n",
       "<polygon fill=\"black\" stroke=\"black\" points=\"239.1,-46.18 235.6,-36.18 232.1,-46.18 239.1,-46.18\"/>\n",
       "<text text-anchor=\"middle\" x=\"251.6\" y=\"-57.8\" font-family=\"Times,serif\" font-size=\"14.00\">0.17</text>\n",
       "</g>\n",
       "<!-- x1(t) -->\n",
       "<g id=\"node2\" class=\"node\">\n",
       "<title>x1(t)</title>\n",
       "<ellipse fill=\"none\" stroke=\"black\" cx=\"231.6\" cy=\"-192\" rx=\"32.49\" ry=\"18\"/>\n",
       "<text text-anchor=\"middle\" x=\"231.6\" y=\"-188.3\" font-family=\"Times,serif\" font-size=\"14.00\">x1(t)</text>\n",
       "</g>\n",
       "<!-- x1(t)&#45;&gt;x0(t) -->\n",
       "<g id=\"edge1\" class=\"edge\">\n",
       "<title>x1(t)&#45;&gt;x0(t)</title>\n",
       "<path fill=\"none\" stroke=\"black\" d=\"M231.66,-173.87C231.77,-164.21 232.02,-151.92 232.6,-141 232.73,-138.44 232.9,-135.78 233.1,-133.12\"/>\n",
       "<polygon fill=\"black\" stroke=\"black\" points=\"236.59,-133.32 233.91,-123.07 229.61,-132.76 236.59,-133.32\"/>\n",
       "<text text-anchor=\"middle\" x=\"251.1\" y=\"-144.8\" font-family=\"Times,serif\" font-size=\"14.00\">&#45;0.14</text>\n",
       "</g>\n",
       "<!-- x1(t)&#45;&gt;x3(t) -->\n",
       "<g id=\"edge14\" class=\"edge\">\n",
       "<title>x1(t)&#45;&gt;x3(t)</title>\n",
       "<path fill=\"none\" stroke=\"black\" d=\"M248.14,-176.34C282.43,-145.93 361.39,-75.92 401.41,-40.44\"/>\n",
       "<polygon fill=\"black\" stroke=\"black\" points=\"403.94,-42.88 409.1,-33.63 399.29,-37.64 403.94,-42.88\"/>\n",
       "<text text-anchor=\"middle\" x=\"366.1\" y=\"-101.3\" font-family=\"Times,serif\" font-size=\"14.00\">&#45;0.21</text>\n",
       "</g>\n",
       "<!-- x0(t&#45;1) -->\n",
       "<g id=\"node6\" class=\"node\">\n",
       "<title>x0(t&#45;1)</title>\n",
       "<ellipse fill=\"none\" stroke=\"black\" cx=\"392.6\" cy=\"-192\" rx=\"41.69\" ry=\"18\"/>\n",
       "<text text-anchor=\"middle\" x=\"392.6\" y=\"-188.3\" font-family=\"Times,serif\" font-size=\"14.00\">x0(t&#45;1)</text>\n",
       "</g>\n",
       "<!-- x0(t&#45;1)&#45;&gt;x0(t) -->\n",
       "<g id=\"edge2\" class=\"edge\">\n",
       "<title>x0(t&#45;1)&#45;&gt;x0(t)</title>\n",
       "<path fill=\"none\" stroke=\"black\" d=\"M371.41,-176.16C351.82,-162.5 324.96,-143.91 319.6,-141 304.45,-132.77 286.96,-125.2 271.87,-119.22\"/>\n",
       "<polygon fill=\"black\" stroke=\"black\" points=\"272.94,-115.88 262.35,-115.53 270.41,-122.41 272.94,-115.88\"/>\n",
       "<text text-anchor=\"middle\" x=\"359.1\" y=\"-144.8\" font-family=\"Times,serif\" font-size=\"14.00\">&#45;0.36</text>\n",
       "</g>\n",
       "<!-- x0(t&#45;1)&#45;&gt;x3(t) -->\n",
       "<g id=\"edge15\" class=\"edge\">\n",
       "<title>x0(t&#45;1)&#45;&gt;x3(t)</title>\n",
       "<path fill=\"none\" stroke=\"black\" d=\"M394.44,-173.96C396.82,-153.28 401.4,-117.39 407.6,-87 410.4,-73.26 414.31,-58.16 417.77,-45.69\"/>\n",
       "<polygon fill=\"black\" stroke=\"black\" points=\"421.18,-46.49 420.53,-35.92 414.44,-44.59 421.18,-46.49\"/>\n",
       "<text text-anchor=\"middle\" x=\"426.1\" y=\"-101.3\" font-family=\"Times,serif\" font-size=\"14.00\">&#45;0.39</text>\n",
       "</g>\n",
       "<!-- x1(t&#45;1) -->\n",
       "<g id=\"node7\" class=\"node\">\n",
       "<title>x1(t&#45;1)</title>\n",
       "<ellipse fill=\"none\" stroke=\"black\" cx=\"504.6\" cy=\"-279\" rx=\"41.69\" ry=\"18\"/>\n",
       "<text text-anchor=\"middle\" x=\"504.6\" y=\"-275.3\" font-family=\"Times,serif\" font-size=\"14.00\">x1(t&#45;1)</text>\n",
       "</g>\n",
       "<!-- x1(t&#45;1)&#45;&gt;x1(t) -->\n",
       "<g id=\"edge5\" class=\"edge\">\n",
       "<title>x1(t&#45;1)&#45;&gt;x1(t)</title>\n",
       "<path fill=\"none\" stroke=\"black\" d=\"M470.72,-268.44C426.36,-255.77 346.28,-232.4 278.6,-210 275.01,-208.81 271.28,-207.54 267.56,-206.24\"/>\n",
       "<polygon fill=\"black\" stroke=\"black\" points=\"268.45,-202.84 257.86,-202.79 266.11,-209.43 268.45,-202.84\"/>\n",
       "<text text-anchor=\"middle\" x=\"401.1\" y=\"-231.8\" font-family=\"Times,serif\" font-size=\"14.00\">&#45;0.34</text>\n",
       "</g>\n",
       "<!-- x1(t&#45;1)&#45;&gt;x3(t) -->\n",
       "<g id=\"edge16\" class=\"edge\">\n",
       "<title>x1(t&#45;1)&#45;&gt;x3(t)</title>\n",
       "<path fill=\"none\" stroke=\"black\" d=\"M519.76,-261.87C524.41,-256.24 529.2,-249.65 532.6,-243 570.79,-168.18 590.58,-114.78 532.6,-54 515.82,-36.42 490.11,-27.66 468.09,-23.3\"/>\n",
       "<polygon fill=\"black\" stroke=\"black\" points=\"468.41,-19.8 457.96,-21.54 467.22,-26.7 468.41,-19.8\"/>\n",
       "<text text-anchor=\"middle\" x=\"587.1\" y=\"-144.8\" font-family=\"Times,serif\" font-size=\"14.00\">&#45;0.10</text>\n",
       "</g>\n",
       "<!-- x2(t&#45;1) -->\n",
       "<g id=\"node8\" class=\"node\">\n",
       "<title>x2(t&#45;1)</title>\n",
       "<ellipse fill=\"none\" stroke=\"black\" cx=\"330.6\" cy=\"-279\" rx=\"41.69\" ry=\"18\"/>\n",
       "<text text-anchor=\"middle\" x=\"330.6\" y=\"-275.3\" font-family=\"Times,serif\" font-size=\"14.00\">x2(t&#45;1)</text>\n",
       "</g>\n",
       "<!-- x2(t&#45;1)&#45;&gt;x0(t) -->\n",
       "<g id=\"edge3\" class=\"edge\">\n",
       "<title>x2(t&#45;1)&#45;&gt;x0(t)</title>\n",
       "<path fill=\"none\" stroke=\"black\" d=\"M350.48,-262.85C361.22,-252.79 370.76,-239.39 362.6,-228 348.11,-207.78 328.48,-226.19 309.6,-210 283.33,-187.49 294.63,-168.46 273.6,-141 269.89,-136.16 265.48,-131.43 261,-127.09\"/>\n",
       "<polygon fill=\"black\" stroke=\"black\" points=\"263.22,-124.38 253.49,-120.19 258.49,-129.54 263.22,-124.38\"/>\n",
       "<text text-anchor=\"middle\" x=\"325.6\" y=\"-188.3\" font-family=\"Times,serif\" font-size=\"14.00\">0.07</text>\n",
       "</g>\n",
       "<!-- x2(t&#45;1)&#45;&gt;x1(t) -->\n",
       "<g id=\"edge6\" class=\"edge\">\n",
       "<title>x2(t&#45;1)&#45;&gt;x1(t)</title>\n",
       "<path fill=\"none\" stroke=\"black\" d=\"M301.5,-266.05C289.54,-260.23 276.07,-252.44 265.6,-243 257.84,-236.01 250.98,-226.9 245.49,-218.38\"/>\n",
       "<polygon fill=\"black\" stroke=\"black\" points=\"248.47,-216.55 240.28,-209.83 242.49,-220.19 248.47,-216.55\"/>\n",
       "<text text-anchor=\"middle\" x=\"284.1\" y=\"-231.8\" font-family=\"Times,serif\" font-size=\"14.00\">&#45;0.15</text>\n",
       "</g>\n",
       "<!-- x2(t&#45;1)&#45;&gt;x2(t) -->\n",
       "<g id=\"edge10\" class=\"edge\">\n",
       "<title>x2(t&#45;1)&#45;&gt;x2(t)</title>\n",
       "<path fill=\"none\" stroke=\"black\" d=\"M292.6,-271.47C249.78,-263.78 184.98,-251.04 176.6,-243 148.22,-215.8 127.67,-100 119.5,-46.41\"/>\n",
       "<polygon fill=\"black\" stroke=\"black\" points=\"122.92,-45.65 117.98,-36.27 116,-46.68 122.92,-45.65\"/>\n",
       "<text text-anchor=\"middle\" x=\"157.6\" y=\"-144.8\" font-family=\"Times,serif\" font-size=\"14.00\">0.42</text>\n",
       "</g>\n",
       "<!-- x2(t&#45;1)&#45;&gt;x3(t) -->\n",
       "<g id=\"edge17\" class=\"edge\">\n",
       "<title>x2(t&#45;1)&#45;&gt;x3(t)</title>\n",
       "<path fill=\"none\" stroke=\"black\" d=\"M366.49,-269.66C399.28,-260.31 447.03,-242.07 476.6,-210 523.61,-159.01 511.75,-111.24 472.6,-54 468.25,-47.65 462.37,-42 456.25,-37.18\"/>\n",
       "<polygon fill=\"black\" stroke=\"black\" points=\"458.02,-34.15 447.86,-31.15 453.93,-39.83 458.02,-34.15\"/>\n",
       "<text text-anchor=\"middle\" x=\"525.1\" y=\"-144.8\" font-family=\"Times,serif\" font-size=\"14.00\">&#45;0.27</text>\n",
       "</g>\n",
       "<!-- x3(t&#45;1) -->\n",
       "<g id=\"node9\" class=\"node\">\n",
       "<title>x3(t&#45;1)</title>\n",
       "<ellipse fill=\"none\" stroke=\"black\" cx=\"41.6\" cy=\"-279\" rx=\"41.69\" ry=\"18\"/>\n",
       "<text text-anchor=\"middle\" x=\"41.6\" y=\"-275.3\" font-family=\"Times,serif\" font-size=\"14.00\">x3(t&#45;1)</text>\n",
       "</g>\n",
       "<!-- x3(t&#45;1)&#45;&gt;x0(t) -->\n",
       "<g id=\"edge4\" class=\"edge\">\n",
       "<title>x3(t&#45;1)&#45;&gt;x0(t)</title>\n",
       "<path fill=\"none\" stroke=\"black\" d=\"M58.09,-262.18C80.26,-241.2 121.2,-203.39 158.6,-174 169.65,-165.32 173.76,-164.95 184.6,-156 194.65,-147.69 205.05,-137.77 213.82,-128.96\"/>\n",
       "<polygon fill=\"black\" stroke=\"black\" points=\"216.56,-131.17 221.05,-121.58 211.56,-126.27 216.56,-131.17\"/>\n",
       "<text text-anchor=\"middle\" x=\"174.6\" y=\"-188.3\" font-family=\"Times,serif\" font-size=\"14.00\">0.30</text>\n",
       "</g>\n",
       "<!-- x3(t&#45;1)&#45;&gt;x1(t) -->\n",
       "<g id=\"edge7\" class=\"edge\">\n",
       "<title>x3(t&#45;1)&#45;&gt;x1(t)</title>\n",
       "<path fill=\"none\" stroke=\"black\" d=\"M66.61,-264.29C86.2,-253.78 114.28,-239.23 139.6,-228 157.62,-220 178.08,-212.11 195.12,-205.84\"/>\n",
       "<polygon fill=\"black\" stroke=\"black\" points=\"196.51,-209.06 204.72,-202.36 194.12,-202.48 196.51,-209.06\"/>\n",
       "<text text-anchor=\"middle\" x=\"158.1\" y=\"-231.8\" font-family=\"Times,serif\" font-size=\"14.00\">&#45;0.34</text>\n",
       "</g>\n",
       "<!-- x3(t&#45;1)&#45;&gt;x2(t) -->\n",
       "<g id=\"edge11\" class=\"edge\">\n",
       "<title>x3(t&#45;1)&#45;&gt;x2(t)</title>\n",
       "<path fill=\"none\" stroke=\"black\" d=\"M42.36,-260.83C43.85,-234.6 48.1,-183.12 59.6,-141 70.66,-100.46 78.33,-91.84 96.6,-54 98.07,-50.95 99.67,-47.78 101.31,-44.66\"/>\n",
       "<polygon fill=\"black\" stroke=\"black\" points=\"104.54,-46.03 106.18,-35.57 98.37,-42.72 104.54,-46.03\"/>\n",
       "<text text-anchor=\"middle\" x=\"75.6\" y=\"-144.8\" font-family=\"Times,serif\" font-size=\"14.00\">0.11</text>\n",
       "</g>\n",
       "<!-- x4(t&#45;1) -->\n",
       "<g id=\"node10\" class=\"node\">\n",
       "<title>x4(t&#45;1)</title>\n",
       "<ellipse fill=\"none\" stroke=\"black\" cx=\"184.6\" cy=\"-279\" rx=\"41.69\" ry=\"18\"/>\n",
       "<text text-anchor=\"middle\" x=\"184.6\" y=\"-275.3\" font-family=\"Times,serif\" font-size=\"14.00\">x4(t&#45;1)</text>\n",
       "</g>\n",
       "<!-- x4(t&#45;1)&#45;&gt;x1(t) -->\n",
       "<g id=\"edge8\" class=\"edge\">\n",
       "<title>x4(t&#45;1)&#45;&gt;x1(t)</title>\n",
       "<path fill=\"none\" stroke=\"black\" d=\"M181.37,-260.9C180.3,-250.8 180.48,-238.06 185.6,-228 188.97,-221.36 194.26,-215.62 200.07,-210.83\"/>\n",
       "<polygon fill=\"black\" stroke=\"black\" points=\"202.18,-213.62 208.17,-204.88 198.04,-207.98 202.18,-213.62\"/>\n",
       "<text text-anchor=\"middle\" x=\"201.6\" y=\"-231.8\" font-family=\"Times,serif\" font-size=\"14.00\">0.42</text>\n",
       "</g>\n",
       "<!-- x4(t&#45;1)&#45;&gt;x2(t) -->\n",
       "<g id=\"edge12\" class=\"edge\">\n",
       "<title>x4(t&#45;1)&#45;&gt;x2(t)</title>\n",
       "<path fill=\"none\" stroke=\"black\" d=\"M162.77,-263.65C155.1,-257.88 146.85,-250.75 140.6,-243 113.51,-209.43 107.41,-198 97.6,-156 88.79,-118.3 98.24,-73.69 106.43,-45.86\"/>\n",
       "<polygon fill=\"black\" stroke=\"black\" points=\"109.85,-46.65 109.46,-36.07 103.16,-44.58 109.85,-46.65\"/>\n",
       "<text text-anchor=\"middle\" x=\"113.6\" y=\"-144.8\" font-family=\"Times,serif\" font-size=\"14.00\">0.49</text>\n",
       "</g>\n",
       "<!-- x4(t&#45;1)&#45;&gt;x3(t) -->\n",
       "<g id=\"edge18\" class=\"edge\">\n",
       "<title>x4(t&#45;1)&#45;&gt;x3(t)</title>\n",
       "<path fill=\"none\" stroke=\"black\" d=\"M199.5,-261.96C211.33,-250.37 228.93,-235.48 247.6,-228 288.2,-211.73 413.93,-242.14 443.6,-210 480.67,-169.83 452.02,-141.16 444.6,-87 442.68,-73.05 438.66,-57.93 434.81,-45.5\"/>\n",
       "<polygon fill=\"black\" stroke=\"black\" points=\"438.07,-44.21 431.67,-35.78 431.41,-46.37 438.07,-44.21\"/>\n",
       "<text text-anchor=\"middle\" x=\"479.1\" y=\"-144.8\" font-family=\"Times,serif\" font-size=\"14.00\">&#45;0.16</text>\n",
       "</g>\n",
       "</g>\n",
       "</svg>\n"
      ],
      "text/plain": [
       "<graphviz.graphs.Digraph at 0x7fc1a63c1bb0>"
      ]
     },
     "execution_count": 9,
     "metadata": {},
     "output_type": "execute_result"
    }
   ],
   "source": [
    "labels = ['x0(t)', 'x1(t)', 'x2(t)', 'x3(t)', 'x4(t)', 'x0(t-1)', 'x1(t-1)', 'x2(t-1)', 'x3(t-1)', 'x4(t-1)']\n",
    "make_dot(np.hstack(model.adjacency_matrices_), ignore_shape=True, lower_limit=0.05, labels=labels)"
   ]
  },
  {
   "cell_type": "markdown",
   "metadata": {},
   "source": [
    "## Independence between error variables\n",
    "To check if the LiNGAM assumption is broken, we can get p-values of independence between error variables. The value in the i-th row and j-th column of the obtained matrix shows the p-value of the independence of the error variables $e_i$ and $e_j$."
   ]
  },
  {
   "cell_type": "code",
   "execution_count": 10,
   "metadata": {},
   "outputs": [
    {
     "name": "stdout",
     "output_type": "stream",
     "text": [
      "[[0.    0.127 0.104 0.042 0.746]\n",
      " [0.127 0.    0.086 0.874 0.739]\n",
      " [0.104 0.086 0.    0.404 0.136]\n",
      " [0.042 0.874 0.404 0.    0.763]\n",
      " [0.746 0.739 0.136 0.763 0.   ]]\n"
     ]
    }
   ],
   "source": [
    "p_values = model.get_error_independence_p_values()\n",
    "print(p_values)"
   ]
  },
  {
   "cell_type": "markdown",
   "metadata": {},
   "source": [
    "## Bootstrap"
   ]
  },
  {
   "cell_type": "markdown",
   "metadata": {},
   "source": [
    "### Bootstrapping\n",
    "We call `bootstrap()` method instead of `fit()`. Here, the second argument specifies the number of bootstrap sampling."
   ]
  },
  {
   "cell_type": "code",
   "execution_count": 11,
   "metadata": {},
   "outputs": [],
   "source": [
    "model = lingam.VARLiNGAM()\n",
    "result = model.bootstrap(X, n_sampling=100)"
   ]
  },
  {
   "cell_type": "markdown",
   "metadata": {},
   "source": [
    "## Causal Directions\n",
    "Since `BootstrapResult` object is returned, we can get the ranking of the causal directions extracted by `get_causal_direction_counts()` method. In the following sample code, `n_directions` option is limited to the causal directions of the top 8 rankings, and `min_causal_effect` option is limited to causal directions with a coefficient of 0.3 or more."
   ]
  },
  {
   "cell_type": "code",
   "execution_count": 12,
   "metadata": {},
   "outputs": [],
   "source": [
    "cdc = result.get_causal_direction_counts(n_directions=8, min_causal_effect=0.3, split_by_causal_effect_sign=True)"
   ]
  },
  {
   "cell_type": "markdown",
   "metadata": {},
   "source": [
    "We can check the result by utility function."
   ]
  },
  {
   "cell_type": "code",
   "execution_count": 13,
   "metadata": {},
   "outputs": [
    {
     "name": "stdout",
     "output_type": "stream",
     "text": [
      "x2(t) <--- x4(t-1) (b>0) (100.0%)\n",
      "x2(t) <--- x2(t-1) (b>0) (100.0%)\n",
      "x0(t) <--- x0(t-1) (b<0) (95.0%)\n",
      "x1(t) <--- x1(t-1) (b<0) (86.0%)\n",
      "x1(t) <--- x4(t-1) (b>0) (85.0%)\n",
      "x3(t) <--- x0(t-1) (b<0) (78.0%)\n",
      "x2(t) <--- x4(t) (b<0) (60.0%)\n",
      "x0(t) <--- x3(t-1) (b>0) (48.0%)\n"
     ]
    }
   ],
   "source": [
    "print_causal_directions(cdc, 100, labels=labels)"
   ]
  },
  {
   "cell_type": "markdown",
   "metadata": {},
   "source": [
    "## Directed Acyclic Graphs\n",
    "Also, using the `get_directed_acyclic_graph_counts()` method, we can get the ranking of the DAGs extracted. In the following sample code, `n_dags` option is limited to the dags of the top 3 rankings, and `min_causal_effect` option is limited to causal directions with a coefficient of 0.2 or more."
   ]
  },
  {
   "cell_type": "code",
   "execution_count": 14,
   "metadata": {},
   "outputs": [],
   "source": [
    "dagc = result.get_directed_acyclic_graph_counts(n_dags=3, min_causal_effect=0.2, split_by_causal_effect_sign=True)"
   ]
  },
  {
   "cell_type": "markdown",
   "metadata": {},
   "source": [
    "We can check the result by utility function."
   ]
  },
  {
   "cell_type": "code",
   "execution_count": 15,
   "metadata": {},
   "outputs": [
    {
     "name": "stdout",
     "output_type": "stream",
     "text": [
      "DAG[0]: 5.0%\n",
      "\tx0(t) <--- x0(t-1) (b<0)\n",
      "\tx0(t) <--- x3(t-1) (b>0)\n",
      "\tx1(t) <--- x0(t) (b<0)\n",
      "\tx1(t) <--- x0(t-1) (b<0)\n",
      "\tx1(t) <--- x1(t-1) (b<0)\n",
      "\tx1(t) <--- x4(t-1) (b>0)\n",
      "\tx2(t) <--- x0(t) (b<0)\n",
      "\tx2(t) <--- x4(t) (b<0)\n",
      "\tx2(t) <--- x2(t-1) (b>0)\n",
      "\tx2(t) <--- x4(t-1) (b>0)\n",
      "\tx3(t) <--- x0(t) (b>0)\n",
      "\tx3(t) <--- x0(t-1) (b<0)\n",
      "\tx3(t) <--- x2(t-1) (b<0)\n",
      "\tx3(t) <--- x4(t-1) (b<0)\n",
      "DAG[1]: 5.0%\n",
      "\tx0(t) <--- x0(t-1) (b<0)\n",
      "\tx0(t) <--- x3(t-1) (b>0)\n",
      "\tx1(t) <--- x0(t) (b<0)\n",
      "\tx1(t) <--- x2(t) (b>0)\n",
      "\tx1(t) <--- x0(t-1) (b<0)\n",
      "\tx1(t) <--- x1(t-1) (b<0)\n",
      "\tx1(t) <--- x4(t-1) (b>0)\n",
      "\tx2(t) <--- x0(t) (b<0)\n",
      "\tx2(t) <--- x4(t) (b<0)\n",
      "\tx2(t) <--- x2(t-1) (b>0)\n",
      "\tx2(t) <--- x4(t-1) (b>0)\n",
      "\tx3(t) <--- x0(t) (b>0)\n",
      "\tx3(t) <--- x0(t-1) (b<0)\n",
      "\tx3(t) <--- x2(t-1) (b<0)\n",
      "DAG[2]: 5.0%\n",
      "\tx0(t) <--- x0(t-1) (b<0)\n",
      "\tx0(t) <--- x3(t-1) (b>0)\n",
      "\tx1(t) <--- x1(t-1) (b<0)\n",
      "\tx1(t) <--- x3(t-1) (b<0)\n",
      "\tx1(t) <--- x4(t-1) (b>0)\n",
      "\tx2(t) <--- x1(t) (b>0)\n",
      "\tx2(t) <--- x3(t) (b>0)\n",
      "\tx2(t) <--- x0(t-1) (b>0)\n",
      "\tx2(t) <--- x2(t-1) (b>0)\n",
      "\tx2(t) <--- x4(t-1) (b>0)\n",
      "\tx3(t) <--- x1(t) (b<0)\n",
      "\tx3(t) <--- x0(t-1) (b<0)\n",
      "\tx3(t) <--- x2(t-1) (b<0)\n"
     ]
    }
   ],
   "source": [
    "print_dagc(dagc, 100, labels=labels)"
   ]
  },
  {
   "cell_type": "markdown",
   "metadata": {},
   "source": [
    "## Probability\n",
    "Using the `get_probabilities()` method, we can get the probability of bootstrapping."
   ]
  },
  {
   "cell_type": "code",
   "execution_count": 16,
   "metadata": {},
   "outputs": [
    {
     "name": "stdout",
     "output_type": "stream",
     "text": [
      "Probability of B0:\n",
      " [[0.   0.6  0.04 0.06 0.14]\n",
      " [0.39 0.   0.25 0.18 0.16]\n",
      " [0.65 0.68 0.   0.67 0.84]\n",
      " [0.51 0.6  0.07 0.   0.66]\n",
      " [0.35 0.28 0.01 0.09 0.  ]]\n",
      "Probability of B1:\n",
      " [[1.   0.   0.3  1.   0.02]\n",
      " [0.56 1.   0.94 0.67 1.  ]\n",
      " [0.8  0.02 1.   0.25 1.  ]\n",
      " [1.   0.24 1.   0.08 1.  ]\n",
      " [0.02 0.   0.03 0.07 0.  ]]\n"
     ]
    }
   ],
   "source": [
    "prob = result.get_probabilities(min_causal_effect=0.1)\n",
    "print('Probability of B0:\\n', prob[0])\n",
    "print('Probability of B1:\\n', prob[1])"
   ]
  },
  {
   "cell_type": "markdown",
   "metadata": {},
   "source": [
    "## Total Causal Effects\n",
    "Using the `get_causal_effects()` method, we can get the list of total causal effect. The total causal effects we can get are dictionary type variable.\n",
    "We can display the list nicely by assigning it to pandas.DataFrame. Also, we have replaced the variable index with a label below."
   ]
  },
  {
   "cell_type": "code",
   "execution_count": 17,
   "metadata": {},
   "outputs": [
    {
     "data": {
      "text/html": [
       "<div>\n",
       "<style scoped>\n",
       "    .dataframe tbody tr th:only-of-type {\n",
       "        vertical-align: middle;\n",
       "    }\n",
       "\n",
       "    .dataframe tbody tr th {\n",
       "        vertical-align: top;\n",
       "    }\n",
       "\n",
       "    .dataframe thead th {\n",
       "        text-align: right;\n",
       "    }\n",
       "</style>\n",
       "<table border=\"1\" class=\"dataframe\">\n",
       "  <thead>\n",
       "    <tr style=\"text-align: right;\">\n",
       "      <th></th>\n",
       "      <th>from</th>\n",
       "      <th>to</th>\n",
       "      <th>effect</th>\n",
       "      <th>probability</th>\n",
       "    </tr>\n",
       "  </thead>\n",
       "  <tbody>\n",
       "    <tr>\n",
       "      <th>0</th>\n",
       "      <td>x0(t-1)</td>\n",
       "      <td>x2(t)</td>\n",
       "      <td>0.181032</td>\n",
       "      <td>1.00</td>\n",
       "    </tr>\n",
       "    <tr>\n",
       "      <th>1</th>\n",
       "      <td>x2(t-1)</td>\n",
       "      <td>x2(t)</td>\n",
       "      <td>0.388777</td>\n",
       "      <td>1.00</td>\n",
       "    </tr>\n",
       "    <tr>\n",
       "      <th>2</th>\n",
       "      <td>x4(t-1)</td>\n",
       "      <td>x1(t)</td>\n",
       "      <td>0.427308</td>\n",
       "      <td>1.00</td>\n",
       "    </tr>\n",
       "    <tr>\n",
       "      <th>3</th>\n",
       "      <td>x1(t-1)</td>\n",
       "      <td>x1(t)</td>\n",
       "      <td>-0.338691</td>\n",
       "      <td>1.00</td>\n",
       "    </tr>\n",
       "    <tr>\n",
       "      <th>4</th>\n",
       "      <td>x0(t-1)</td>\n",
       "      <td>x3(t)</td>\n",
       "      <td>-0.397439</td>\n",
       "      <td>1.00</td>\n",
       "    </tr>\n",
       "    <tr>\n",
       "      <th>5</th>\n",
       "      <td>x3(t-1)</td>\n",
       "      <td>x0(t)</td>\n",
       "      <td>0.345461</td>\n",
       "      <td>1.00</td>\n",
       "    </tr>\n",
       "    <tr>\n",
       "      <th>6</th>\n",
       "      <td>x4(t-1)</td>\n",
       "      <td>x2(t)</td>\n",
       "      <td>0.501859</td>\n",
       "      <td>1.00</td>\n",
       "    </tr>\n",
       "    <tr>\n",
       "      <th>7</th>\n",
       "      <td>x4(t-1)</td>\n",
       "      <td>x3(t)</td>\n",
       "      <td>-0.253700</td>\n",
       "      <td>1.00</td>\n",
       "    </tr>\n",
       "    <tr>\n",
       "      <th>8</th>\n",
       "      <td>x0(t-1)</td>\n",
       "      <td>x0(t)</td>\n",
       "      <td>-0.357296</td>\n",
       "      <td>1.00</td>\n",
       "    </tr>\n",
       "    <tr>\n",
       "      <th>9</th>\n",
       "      <td>x2(t-1)</td>\n",
       "      <td>x3(t)</td>\n",
       "      <td>-0.222886</td>\n",
       "      <td>1.00</td>\n",
       "    </tr>\n",
       "    <tr>\n",
       "      <th>10</th>\n",
       "      <td>x3(t-1)</td>\n",
       "      <td>x3(t)</td>\n",
       "      <td>0.101008</td>\n",
       "      <td>1.00</td>\n",
       "    </tr>\n",
       "    <tr>\n",
       "      <th>11</th>\n",
       "      <td>x3(t-1)</td>\n",
       "      <td>x1(t)</td>\n",
       "      <td>-0.315462</td>\n",
       "      <td>0.99</td>\n",
       "    </tr>\n",
       "    <tr>\n",
       "      <th>12</th>\n",
       "      <td>x2(t-1)</td>\n",
       "      <td>x0(t)</td>\n",
       "      <td>0.090369</td>\n",
       "      <td>0.99</td>\n",
       "    </tr>\n",
       "    <tr>\n",
       "      <th>13</th>\n",
       "      <td>x2(t-1)</td>\n",
       "      <td>x1(t)</td>\n",
       "      <td>-0.172693</td>\n",
       "      <td>0.98</td>\n",
       "    </tr>\n",
       "    <tr>\n",
       "      <th>14</th>\n",
       "      <td>x1(t-1)</td>\n",
       "      <td>x2(t)</td>\n",
       "      <td>-0.063602</td>\n",
       "      <td>0.89</td>\n",
       "    </tr>\n",
       "    <tr>\n",
       "      <th>15</th>\n",
       "      <td>x4(t)</td>\n",
       "      <td>x2(t)</td>\n",
       "      <td>-0.449165</td>\n",
       "      <td>0.89</td>\n",
       "    </tr>\n",
       "    <tr>\n",
       "      <th>16</th>\n",
       "      <td>x3(t-1)</td>\n",
       "      <td>x2(t)</td>\n",
       "      <td>-0.079600</td>\n",
       "      <td>0.89</td>\n",
       "    </tr>\n",
       "    <tr>\n",
       "      <th>17</th>\n",
       "      <td>x0(t)</td>\n",
       "      <td>x2(t)</td>\n",
       "      <td>-0.280635</td>\n",
       "      <td>0.83</td>\n",
       "    </tr>\n",
       "    <tr>\n",
       "      <th>18</th>\n",
       "      <td>x1(t-1)</td>\n",
       "      <td>x0(t)</td>\n",
       "      <td>0.057164</td>\n",
       "      <td>0.82</td>\n",
       "    </tr>\n",
       "    <tr>\n",
       "      <th>19</th>\n",
       "      <td>x4(t-1)</td>\n",
       "      <td>x0(t)</td>\n",
       "      <td>-0.050805</td>\n",
       "      <td>0.79</td>\n",
       "    </tr>\n",
       "    <tr>\n",
       "      <th>20</th>\n",
       "      <td>x4(t)</td>\n",
       "      <td>x3(t)</td>\n",
       "      <td>-0.151835</td>\n",
       "      <td>0.76</td>\n",
       "    </tr>\n",
       "    <tr>\n",
       "      <th>21</th>\n",
       "      <td>x1(t)</td>\n",
       "      <td>x2(t)</td>\n",
       "      <td>0.211957</td>\n",
       "      <td>0.75</td>\n",
       "    </tr>\n",
       "    <tr>\n",
       "      <th>22</th>\n",
       "      <td>x1(t-1)</td>\n",
       "      <td>x3(t)</td>\n",
       "      <td>-0.021313</td>\n",
       "      <td>0.75</td>\n",
       "    </tr>\n",
       "    <tr>\n",
       "      <th>23</th>\n",
       "      <td>x3(t)</td>\n",
       "      <td>x2(t)</td>\n",
       "      <td>0.248101</td>\n",
       "      <td>0.66</td>\n",
       "    </tr>\n",
       "    <tr>\n",
       "      <th>24</th>\n",
       "      <td>x0(t)</td>\n",
       "      <td>x3(t)</td>\n",
       "      <td>0.259859</td>\n",
       "      <td>0.64</td>\n",
       "    </tr>\n",
       "    <tr>\n",
       "      <th>25</th>\n",
       "      <td>x3(t-1)</td>\n",
       "      <td>x4(t)</td>\n",
       "      <td>0.061849</td>\n",
       "      <td>0.62</td>\n",
       "    </tr>\n",
       "    <tr>\n",
       "      <th>26</th>\n",
       "      <td>x1(t)</td>\n",
       "      <td>x3(t)</td>\n",
       "      <td>-0.218490</td>\n",
       "      <td>0.62</td>\n",
       "    </tr>\n",
       "    <tr>\n",
       "      <th>27</th>\n",
       "      <td>x1(t)</td>\n",
       "      <td>x0(t)</td>\n",
       "      <td>-0.199704</td>\n",
       "      <td>0.61</td>\n",
       "    </tr>\n",
       "    <tr>\n",
       "      <th>28</th>\n",
       "      <td>x1(t)</td>\n",
       "      <td>x4(t)</td>\n",
       "      <td>-0.104466</td>\n",
       "      <td>0.56</td>\n",
       "    </tr>\n",
       "    <tr>\n",
       "      <th>29</th>\n",
       "      <td>x0(t-1)</td>\n",
       "      <td>x1(t)</td>\n",
       "      <td>-0.119971</td>\n",
       "      <td>0.53</td>\n",
       "    </tr>\n",
       "    <tr>\n",
       "      <th>30</th>\n",
       "      <td>x2(t-1)</td>\n",
       "      <td>x4(t)</td>\n",
       "      <td>0.017608</td>\n",
       "      <td>0.50</td>\n",
       "    </tr>\n",
       "    <tr>\n",
       "      <th>31</th>\n",
       "      <td>x4(t-1)</td>\n",
       "      <td>x4(t)</td>\n",
       "      <td>-0.041991</td>\n",
       "      <td>0.47</td>\n",
       "    </tr>\n",
       "    <tr>\n",
       "      <th>32</th>\n",
       "      <td>x1(t-1)</td>\n",
       "      <td>x4(t)</td>\n",
       "      <td>0.029382</td>\n",
       "      <td>0.42</td>\n",
       "    </tr>\n",
       "    <tr>\n",
       "      <th>33</th>\n",
       "      <td>x0(t-1)</td>\n",
       "      <td>x4(t)</td>\n",
       "      <td>-0.055934</td>\n",
       "      <td>0.42</td>\n",
       "    </tr>\n",
       "    <tr>\n",
       "      <th>34</th>\n",
       "      <td>x4(t)</td>\n",
       "      <td>x1(t)</td>\n",
       "      <td>-0.063677</td>\n",
       "      <td>0.42</td>\n",
       "    </tr>\n",
       "    <tr>\n",
       "      <th>35</th>\n",
       "      <td>x4(t)</td>\n",
       "      <td>x0(t)</td>\n",
       "      <td>-0.066867</td>\n",
       "      <td>0.40</td>\n",
       "    </tr>\n",
       "    <tr>\n",
       "      <th>36</th>\n",
       "      <td>x0(t)</td>\n",
       "      <td>x1(t)</td>\n",
       "      <td>-0.719255</td>\n",
       "      <td>0.39</td>\n",
       "    </tr>\n",
       "    <tr>\n",
       "      <th>37</th>\n",
       "      <td>x0(t)</td>\n",
       "      <td>x4(t)</td>\n",
       "      <td>0.174717</td>\n",
       "      <td>0.37</td>\n",
       "    </tr>\n",
       "    <tr>\n",
       "      <th>38</th>\n",
       "      <td>x2(t)</td>\n",
       "      <td>x1(t)</td>\n",
       "      <td>0.212699</td>\n",
       "      <td>0.25</td>\n",
       "    </tr>\n",
       "    <tr>\n",
       "      <th>39</th>\n",
       "      <td>x3(t)</td>\n",
       "      <td>x1(t)</td>\n",
       "      <td>-0.308596</td>\n",
       "      <td>0.20</td>\n",
       "    </tr>\n",
       "    <tr>\n",
       "      <th>40</th>\n",
       "      <td>x2(t)</td>\n",
       "      <td>x3(t)</td>\n",
       "      <td>-0.084192</td>\n",
       "      <td>0.18</td>\n",
       "    </tr>\n",
       "    <tr>\n",
       "      <th>41</th>\n",
       "      <td>x3(t)</td>\n",
       "      <td>x0(t)</td>\n",
       "      <td>0.154238</td>\n",
       "      <td>0.11</td>\n",
       "    </tr>\n",
       "    <tr>\n",
       "      <th>42</th>\n",
       "      <td>x3(t)</td>\n",
       "      <td>x4(t)</td>\n",
       "      <td>-0.205918</td>\n",
       "      <td>0.10</td>\n",
       "    </tr>\n",
       "    <tr>\n",
       "      <th>43</th>\n",
       "      <td>x2(t)</td>\n",
       "      <td>x0(t)</td>\n",
       "      <td>-0.217316</td>\n",
       "      <td>0.06</td>\n",
       "    </tr>\n",
       "    <tr>\n",
       "      <th>44</th>\n",
       "      <td>x2(t)</td>\n",
       "      <td>x4(t)</td>\n",
       "      <td>-0.093614</td>\n",
       "      <td>0.03</td>\n",
       "    </tr>\n",
       "  </tbody>\n",
       "</table>\n",
       "</div>"
      ],
      "text/plain": [
       "       from     to    effect  probability\n",
       "0   x0(t-1)  x2(t)  0.181032         1.00\n",
       "1   x2(t-1)  x2(t)  0.388777         1.00\n",
       "2   x4(t-1)  x1(t)  0.427308         1.00\n",
       "3   x1(t-1)  x1(t) -0.338691         1.00\n",
       "4   x0(t-1)  x3(t) -0.397439         1.00\n",
       "5   x3(t-1)  x0(t)  0.345461         1.00\n",
       "6   x4(t-1)  x2(t)  0.501859         1.00\n",
       "7   x4(t-1)  x3(t) -0.253700         1.00\n",
       "8   x0(t-1)  x0(t) -0.357296         1.00\n",
       "9   x2(t-1)  x3(t) -0.222886         1.00\n",
       "10  x3(t-1)  x3(t)  0.101008         1.00\n",
       "11  x3(t-1)  x1(t) -0.315462         0.99\n",
       "12  x2(t-1)  x0(t)  0.090369         0.99\n",
       "13  x2(t-1)  x1(t) -0.172693         0.98\n",
       "14  x1(t-1)  x2(t) -0.063602         0.89\n",
       "15    x4(t)  x2(t) -0.449165         0.89\n",
       "16  x3(t-1)  x2(t) -0.079600         0.89\n",
       "17    x0(t)  x2(t) -0.280635         0.83\n",
       "18  x1(t-1)  x0(t)  0.057164         0.82\n",
       "19  x4(t-1)  x0(t) -0.050805         0.79\n",
       "20    x4(t)  x3(t) -0.151835         0.76\n",
       "21    x1(t)  x2(t)  0.211957         0.75\n",
       "22  x1(t-1)  x3(t) -0.021313         0.75\n",
       "23    x3(t)  x2(t)  0.248101         0.66\n",
       "24    x0(t)  x3(t)  0.259859         0.64\n",
       "25  x3(t-1)  x4(t)  0.061849         0.62\n",
       "26    x1(t)  x3(t) -0.218490         0.62\n",
       "27    x1(t)  x0(t) -0.199704         0.61\n",
       "28    x1(t)  x4(t) -0.104466         0.56\n",
       "29  x0(t-1)  x1(t) -0.119971         0.53\n",
       "30  x2(t-1)  x4(t)  0.017608         0.50\n",
       "31  x4(t-1)  x4(t) -0.041991         0.47\n",
       "32  x1(t-1)  x4(t)  0.029382         0.42\n",
       "33  x0(t-1)  x4(t) -0.055934         0.42\n",
       "34    x4(t)  x1(t) -0.063677         0.42\n",
       "35    x4(t)  x0(t) -0.066867         0.40\n",
       "36    x0(t)  x1(t) -0.719255         0.39\n",
       "37    x0(t)  x4(t)  0.174717         0.37\n",
       "38    x2(t)  x1(t)  0.212699         0.25\n",
       "39    x3(t)  x1(t) -0.308596         0.20\n",
       "40    x2(t)  x3(t) -0.084192         0.18\n",
       "41    x3(t)  x0(t)  0.154238         0.11\n",
       "42    x3(t)  x4(t) -0.205918         0.10\n",
       "43    x2(t)  x0(t) -0.217316         0.06\n",
       "44    x2(t)  x4(t) -0.093614         0.03"
      ]
     },
     "execution_count": 17,
     "metadata": {},
     "output_type": "execute_result"
    }
   ],
   "source": [
    "causal_effects = result.get_total_causal_effects(min_causal_effect=0.01)\n",
    "df = pd.DataFrame(causal_effects)\n",
    "\n",
    "df['from'] = df['from'].apply(lambda x : labels[x])\n",
    "df['to'] = df['to'].apply(lambda x : labels[x])\n",
    "df"
   ]
  },
  {
   "cell_type": "markdown",
   "metadata": {},
   "source": [
    "We can easily perform sorting operations with pandas.DataFrame."
   ]
  },
  {
   "cell_type": "code",
   "execution_count": 18,
   "metadata": {},
   "outputs": [
    {
     "data": {
      "text/html": [
       "<div>\n",
       "<style scoped>\n",
       "    .dataframe tbody tr th:only-of-type {\n",
       "        vertical-align: middle;\n",
       "    }\n",
       "\n",
       "    .dataframe tbody tr th {\n",
       "        vertical-align: top;\n",
       "    }\n",
       "\n",
       "    .dataframe thead th {\n",
       "        text-align: right;\n",
       "    }\n",
       "</style>\n",
       "<table border=\"1\" class=\"dataframe\">\n",
       "  <thead>\n",
       "    <tr style=\"text-align: right;\">\n",
       "      <th></th>\n",
       "      <th>from</th>\n",
       "      <th>to</th>\n",
       "      <th>effect</th>\n",
       "      <th>probability</th>\n",
       "    </tr>\n",
       "  </thead>\n",
       "  <tbody>\n",
       "    <tr>\n",
       "      <th>6</th>\n",
       "      <td>x4(t-1)</td>\n",
       "      <td>x2(t)</td>\n",
       "      <td>0.501859</td>\n",
       "      <td>1.00</td>\n",
       "    </tr>\n",
       "    <tr>\n",
       "      <th>2</th>\n",
       "      <td>x4(t-1)</td>\n",
       "      <td>x1(t)</td>\n",
       "      <td>0.427308</td>\n",
       "      <td>1.00</td>\n",
       "    </tr>\n",
       "    <tr>\n",
       "      <th>1</th>\n",
       "      <td>x2(t-1)</td>\n",
       "      <td>x2(t)</td>\n",
       "      <td>0.388777</td>\n",
       "      <td>1.00</td>\n",
       "    </tr>\n",
       "    <tr>\n",
       "      <th>5</th>\n",
       "      <td>x3(t-1)</td>\n",
       "      <td>x0(t)</td>\n",
       "      <td>0.345461</td>\n",
       "      <td>1.00</td>\n",
       "    </tr>\n",
       "    <tr>\n",
       "      <th>24</th>\n",
       "      <td>x0(t)</td>\n",
       "      <td>x3(t)</td>\n",
       "      <td>0.259859</td>\n",
       "      <td>0.64</td>\n",
       "    </tr>\n",
       "  </tbody>\n",
       "</table>\n",
       "</div>"
      ],
      "text/plain": [
       "       from     to    effect  probability\n",
       "6   x4(t-1)  x2(t)  0.501859         1.00\n",
       "2   x4(t-1)  x1(t)  0.427308         1.00\n",
       "1   x2(t-1)  x2(t)  0.388777         1.00\n",
       "5   x3(t-1)  x0(t)  0.345461         1.00\n",
       "24    x0(t)  x3(t)  0.259859         0.64"
      ]
     },
     "execution_count": 18,
     "metadata": {},
     "output_type": "execute_result"
    }
   ],
   "source": [
    "df.sort_values('effect', ascending=False).head()"
   ]
  },
  {
   "cell_type": "markdown",
   "metadata": {},
   "source": [
    "And with pandas.DataFrame, we can easily filter by keywords. The following code extracts the causal direction towards x1(t)."
   ]
  },
  {
   "cell_type": "code",
   "execution_count": 19,
   "metadata": {},
   "outputs": [
    {
     "data": {
      "text/html": [
       "<div>\n",
       "<style scoped>\n",
       "    .dataframe tbody tr th:only-of-type {\n",
       "        vertical-align: middle;\n",
       "    }\n",
       "\n",
       "    .dataframe tbody tr th {\n",
       "        vertical-align: top;\n",
       "    }\n",
       "\n",
       "    .dataframe thead th {\n",
       "        text-align: right;\n",
       "    }\n",
       "</style>\n",
       "<table border=\"1\" class=\"dataframe\">\n",
       "  <thead>\n",
       "    <tr style=\"text-align: right;\">\n",
       "      <th></th>\n",
       "      <th>from</th>\n",
       "      <th>to</th>\n",
       "      <th>effect</th>\n",
       "      <th>probability</th>\n",
       "    </tr>\n",
       "  </thead>\n",
       "  <tbody>\n",
       "    <tr>\n",
       "      <th>2</th>\n",
       "      <td>x4(t-1)</td>\n",
       "      <td>x1(t)</td>\n",
       "      <td>0.427308</td>\n",
       "      <td>1.00</td>\n",
       "    </tr>\n",
       "    <tr>\n",
       "      <th>3</th>\n",
       "      <td>x1(t-1)</td>\n",
       "      <td>x1(t)</td>\n",
       "      <td>-0.338691</td>\n",
       "      <td>1.00</td>\n",
       "    </tr>\n",
       "    <tr>\n",
       "      <th>11</th>\n",
       "      <td>x3(t-1)</td>\n",
       "      <td>x1(t)</td>\n",
       "      <td>-0.315462</td>\n",
       "      <td>0.99</td>\n",
       "    </tr>\n",
       "    <tr>\n",
       "      <th>13</th>\n",
       "      <td>x2(t-1)</td>\n",
       "      <td>x1(t)</td>\n",
       "      <td>-0.172693</td>\n",
       "      <td>0.98</td>\n",
       "    </tr>\n",
       "    <tr>\n",
       "      <th>29</th>\n",
       "      <td>x0(t-1)</td>\n",
       "      <td>x1(t)</td>\n",
       "      <td>-0.119971</td>\n",
       "      <td>0.53</td>\n",
       "    </tr>\n",
       "  </tbody>\n",
       "</table>\n",
       "</div>"
      ],
      "text/plain": [
       "       from     to    effect  probability\n",
       "2   x4(t-1)  x1(t)  0.427308         1.00\n",
       "3   x1(t-1)  x1(t) -0.338691         1.00\n",
       "11  x3(t-1)  x1(t) -0.315462         0.99\n",
       "13  x2(t-1)  x1(t) -0.172693         0.98\n",
       "29  x0(t-1)  x1(t) -0.119971         0.53"
      ]
     },
     "execution_count": 19,
     "metadata": {},
     "output_type": "execute_result"
    }
   ],
   "source": [
    "df[df['to']=='x1(t)'].head()"
   ]
  },
  {
   "cell_type": "markdown",
   "metadata": {},
   "source": [
    "Because it holds the raw data of the total causal effect (the original data for calculating the median), it is possible to draw a histogram of the values of the causal effect, as shown below."
   ]
  },
  {
   "cell_type": "code",
   "execution_count": 20,
   "metadata": {},
   "outputs": [
    {
     "data": {
      "text/plain": [
       "(array([ 1.,  3.,  3., 10., 17., 15., 29., 15.,  6.,  1.]),\n",
       " array([0.281, 0.299, 0.317, 0.335, 0.353, 0.371, 0.389, 0.407, 0.424,\n",
       "        0.442, 0.46 ]),\n",
       " <BarContainer object of 10 artists>)"
      ]
     },
     "execution_count": 20,
     "metadata": {},
     "output_type": "execute_result"
    },
    {
     "data": {
      "image/png": "[encoded data removed]",
      "text/plain": [
       "<Figure size 432x288 with 1 Axes>"
      ]
     },
     "metadata": {
      "needs_background": "light"
     },
     "output_type": "display_data"
    }
   ],
   "source": [
    "import matplotlib.pyplot as plt\n",
    "import seaborn as sns\n",
    "sns.set()\n",
    "%matplotlib inline\n",
    "\n",
    "from_index = 7 # index of x2(t-1). (index:2)+(n_features:5)*(lag:1) = 7\n",
    "to_index = 2 # index of x2(t). (index:2)+(n_features:5)*(lag:0) = 2\n",
    "plt.hist(result.total_effects_[:, to_index, from_index])"
   ]
  },
  {
   "cell_type": "code",
   "execution_count": null,
   "metadata": {},
   "outputs": [],
   "source": []
  }
 ],
 "metadata": {
  "kernelspec": {
   "display_name": "Python 3 (ipykernel)",
   "language": "python",
   "name": "python3"
  },
  "language_info": {
   "codemirror_mode": {
    "name": "ipython",
    "version": 3
   },
   "file_extension": ".py",
   "mimetype": "text/x-python",
   "name": "python",
   "nbconvert_exporter": "python",
   "pygments_lexer": "ipython3",
   "version": "3.8.10"
  }
 },
 "nbformat": 4,
 "nbformat_minor": 4
}
