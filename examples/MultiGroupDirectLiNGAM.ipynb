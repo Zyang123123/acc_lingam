{
 "cells": [
  {
   "cell_type": "markdown",
   "metadata": {},
   "source": [
    "# MultiGroupDirectLiNGAM"
   ]
  },
  {
   "cell_type": "markdown",
   "metadata": {},
   "source": [
    "## Import and settings\n",
    "In this example, we need to import `numpy`, `pandas`, and `graphviz` in addition to `lingam`."
   ]
  },
  {
   "cell_type": "code",
   "execution_count": 1,
   "metadata": {
    "ExecuteTime": {
     "end_time": "2021-06-25T04:05:40.886776Z",
     "start_time": "2021-06-25T04:05:36.015299Z"
    }
   },
   "outputs": [
    {
     "name": "stdout",
     "output_type": "stream",
     "text": [
      "['1.24.4', '2.0.3', '0.20.1', '1.8.3']\n"
     ]
    }
   ],
   "source": [
    "import numpy as np\n",
    "import pandas as pd\n",
    "import graphviz\n",
    "import lingam\n",
    "from lingam.utils import print_causal_directions, print_dagc, make_dot\n",
    "\n",
    "print([np.__version__, pd.__version__, graphviz.__version__, lingam.__version__])\n",
    "\n",
    "np.set_printoptions(precision=3, suppress=True)\n",
    "np.random.seed(0)"
   ]
  },
  {
   "cell_type": "markdown",
   "metadata": {},
   "source": [
    "## Test data\n",
    "We generate two datasets consisting of 6 variables."
   ]
  },
  {
   "cell_type": "code",
   "execution_count": 2,
   "metadata": {
    "ExecuteTime": {
     "end_time": "2021-06-25T04:05:40.949179Z",
     "start_time": "2021-06-25T04:05:40.886776Z"
    }
   },
   "outputs": [
    {
     "data": {
      "text/html": [
       "<div>\n",
       "<style scoped>\n",
       "    .dataframe tbody tr th:only-of-type {\n",
       "        vertical-align: middle;\n",
       "    }\n",
       "\n",
       "    .dataframe tbody tr th {\n",
       "        vertical-align: top;\n",
       "    }\n",
       "\n",
       "    .dataframe thead th {\n",
       "        text-align: right;\n",
       "    }\n",
       "</style>\n",
       "<table border=\"1\" class=\"dataframe\">\n",
       "  <thead>\n",
       "    <tr style=\"text-align: right;\">\n",
       "      <th></th>\n",
       "      <th>x0</th>\n",
       "      <th>x1</th>\n",
       "      <th>x2</th>\n",
       "      <th>x3</th>\n",
       "      <th>x4</th>\n",
       "      <th>x5</th>\n",
       "    </tr>\n",
       "  </thead>\n",
       "  <tbody>\n",
       "    <tr>\n",
       "      <th>0</th>\n",
       "      <td>2.239321</td>\n",
       "      <td>15.340724</td>\n",
       "      <td>4.104399</td>\n",
       "      <td>0.548814</td>\n",
       "      <td>14.176947</td>\n",
       "      <td>9.249925</td>\n",
       "    </tr>\n",
       "    <tr>\n",
       "      <th>1</th>\n",
       "      <td>2.155632</td>\n",
       "      <td>16.630954</td>\n",
       "      <td>4.767220</td>\n",
       "      <td>0.715189</td>\n",
       "      <td>12.775458</td>\n",
       "      <td>9.189045</td>\n",
       "    </tr>\n",
       "    <tr>\n",
       "      <th>2</th>\n",
       "      <td>2.284116</td>\n",
       "      <td>15.910406</td>\n",
       "      <td>4.139736</td>\n",
       "      <td>0.602763</td>\n",
       "      <td>14.201794</td>\n",
       "      <td>9.273880</td>\n",
       "    </tr>\n",
       "    <tr>\n",
       "      <th>3</th>\n",
       "      <td>2.343420</td>\n",
       "      <td>14.921457</td>\n",
       "      <td>3.519820</td>\n",
       "      <td>0.544883</td>\n",
       "      <td>15.580067</td>\n",
       "      <td>9.723392</td>\n",
       "    </tr>\n",
       "    <tr>\n",
       "      <th>4</th>\n",
       "      <td>1.314940</td>\n",
       "      <td>11.055176</td>\n",
       "      <td>3.146972</td>\n",
       "      <td>0.423655</td>\n",
       "      <td>7.604743</td>\n",
       "      <td>5.312976</td>\n",
       "    </tr>\n",
       "  </tbody>\n",
       "</table>\n",
       "</div>"
      ],
      "text/plain": [
       "         x0         x1        x2        x3         x4        x5\n",
       "0  2.239321  15.340724  4.104399  0.548814  14.176947  9.249925\n",
       "1  2.155632  16.630954  4.767220  0.715189  12.775458  9.189045\n",
       "2  2.284116  15.910406  4.139736  0.602763  14.201794  9.273880\n",
       "3  2.343420  14.921457  3.519820  0.544883  15.580067  9.723392\n",
       "4  1.314940  11.055176  3.146972  0.423655   7.604743  5.312976"
      ]
     },
     "execution_count": 2,
     "metadata": {},
     "output_type": "execute_result"
    }
   ],
   "source": [
    "x3 = np.random.uniform(size=1000)\n",
    "x0 = 3.0*x3 + np.random.uniform(size=1000)\n",
    "x2 = 6.0*x3 + np.random.uniform(size=1000)\n",
    "x1 = 3.0*x0 + 2.0*x2 + np.random.uniform(size=1000)\n",
    "x5 = 4.0*x0 + np.random.uniform(size=1000)\n",
    "x4 = 8.0*x0 - 1.0*x2 + np.random.uniform(size=1000)\n",
    "X1 = pd.DataFrame(np.array([x0, x1, x2, x3, x4, x5]).T ,columns=['x0', 'x1', 'x2', 'x3', 'x4', 'x5'])\n",
    "X1.head()"
   ]
  },
  {
   "cell_type": "code",
   "execution_count": 3,
   "metadata": {
    "ExecuteTime": {
     "end_time": "2021-06-25T04:05:41.934414Z",
     "start_time": "2021-06-25T04:05:40.953169Z"
    }
   },
   "outputs": [
    {
     "data": {
      "image/svg+xml": [
       "<?xml version=\"1.0\" encoding=\"UTF-8\" standalone=\"no\"?>\n",
       "<!DOCTYPE svg PUBLIC \"-//W3C//DTD SVG 1.1//EN\"\n",
       " \"http://www.w3.org/Graphics/SVG/1.1/DTD/svg11.dtd\">\n",
       "<!-- Generated by graphviz version 2.43.0 (0)\n",
       " -->\n",
       "<!-- Title: %3 Pages: 1 -->\n",
       "<svg width=\"267pt\" height=\"218pt\"\n",
       " viewBox=\"0.00 0.00 267.00 218.00\" xmlns=\"http://www.w3.org/2000/svg\" xmlns:xlink=\"http://www.w3.org/1999/xlink\">\n",
       "<g id=\"graph0\" class=\"graph\" transform=\"scale(1 1) rotate(0) translate(4 214)\">\n",
       "<title>%3</title>\n",
       "<polygon fill=\"white\" stroke=\"transparent\" points=\"-4,4 -4,-214 263,-214 263,4 -4,4\"/>\n",
       "<!-- x0 -->\n",
       "<g id=\"node1\" class=\"node\">\n",
       "<title>x0</title>\n",
       "<ellipse fill=\"none\" stroke=\"black\" cx=\"158\" cy=\"-105\" rx=\"27\" ry=\"18\"/>\n",
       "<text text-anchor=\"middle\" x=\"158\" y=\"-101.3\" font-family=\"Times,serif\" font-size=\"14.00\">x0</text>\n",
       "</g>\n",
       "<!-- x1 -->\n",
       "<g id=\"node2\" class=\"node\">\n",
       "<title>x1</title>\n",
       "<ellipse fill=\"none\" stroke=\"black\" cx=\"139\" cy=\"-18\" rx=\"27\" ry=\"18\"/>\n",
       "<text text-anchor=\"middle\" x=\"139\" y=\"-14.3\" font-family=\"Times,serif\" font-size=\"14.00\">x1</text>\n",
       "</g>\n",
       "<!-- x0&#45;&gt;x1 -->\n",
       "<g id=\"edge2\" class=\"edge\">\n",
       "<title>x0&#45;&gt;x1</title>\n",
       "<path fill=\"none\" stroke=\"black\" d=\"M158.52,-86.64C158.42,-76.91 157.65,-64.63 155,-54 154.23,-50.92 153.2,-47.78 152.03,-44.71\"/>\n",
       "<polygon fill=\"black\" stroke=\"black\" points=\"155.13,-43.07 147.95,-35.28 148.7,-45.85 155.13,-43.07\"/>\n",
       "<text text-anchor=\"middle\" x=\"173\" y=\"-57.8\" font-family=\"Times,serif\" font-size=\"14.00\">3.00</text>\n",
       "</g>\n",
       "<!-- x4 -->\n",
       "<g id=\"node5\" class=\"node\">\n",
       "<title>x4</title>\n",
       "<ellipse fill=\"none\" stroke=\"black\" cx=\"27\" cy=\"-18\" rx=\"27\" ry=\"18\"/>\n",
       "<text text-anchor=\"middle\" x=\"27\" y=\"-14.3\" font-family=\"Times,serif\" font-size=\"14.00\">x4</text>\n",
       "</g>\n",
       "<!-- x0&#45;&gt;x4 -->\n",
       "<g id=\"edge5\" class=\"edge\">\n",
       "<title>x0&#45;&gt;x4</title>\n",
       "<path fill=\"none\" stroke=\"black\" d=\"M142.61,-89.91C128.57,-77.22 108.73,-59.71 100,-54 87.13,-45.58 71.92,-37.96 58.73,-32\"/>\n",
       "<polygon fill=\"black\" stroke=\"black\" points=\"60.1,-28.78 49.54,-27.96 57.29,-35.19 60.1,-28.78\"/>\n",
       "<text text-anchor=\"middle\" x=\"134\" y=\"-57.8\" font-family=\"Times,serif\" font-size=\"14.00\">8.00</text>\n",
       "</g>\n",
       "<!-- x5 -->\n",
       "<g id=\"node6\" class=\"node\">\n",
       "<title>x5</title>\n",
       "<ellipse fill=\"none\" stroke=\"black\" cx=\"232\" cy=\"-18\" rx=\"27\" ry=\"18\"/>\n",
       "<text text-anchor=\"middle\" x=\"232\" y=\"-14.3\" font-family=\"Times,serif\" font-size=\"14.00\">x5</text>\n",
       "</g>\n",
       "<!-- x0&#45;&gt;x5 -->\n",
       "<g id=\"edge7\" class=\"edge\">\n",
       "<title>x0&#45;&gt;x5</title>\n",
       "<path fill=\"none\" stroke=\"black\" d=\"M173.06,-89.74C179.4,-83.54 186.74,-76.08 193,-69 200.33,-60.71 207.91,-51.22 214.42,-42.76\"/>\n",
       "<polygon fill=\"black\" stroke=\"black\" points=\"217.27,-44.8 220.53,-34.71 211.69,-40.56 217.27,-44.8\"/>\n",
       "<text text-anchor=\"middle\" x=\"221\" y=\"-57.8\" font-family=\"Times,serif\" font-size=\"14.00\">4.00</text>\n",
       "</g>\n",
       "<!-- x2 -->\n",
       "<g id=\"node3\" class=\"node\">\n",
       "<title>x2</title>\n",
       "<ellipse fill=\"none\" stroke=\"black\" cx=\"67\" cy=\"-105\" rx=\"27\" ry=\"18\"/>\n",
       "<text text-anchor=\"middle\" x=\"67\" y=\"-101.3\" font-family=\"Times,serif\" font-size=\"14.00\">x2</text>\n",
       "</g>\n",
       "<!-- x2&#45;&gt;x1 -->\n",
       "<g id=\"edge3\" class=\"edge\">\n",
       "<title>x2&#45;&gt;x1</title>\n",
       "<path fill=\"none\" stroke=\"black\" d=\"M63.15,-86.98C61.78,-76.66 61.85,-63.67 68,-54 76.07,-41.31 90.22,-33.07 103.77,-27.8\"/>\n",
       "<polygon fill=\"black\" stroke=\"black\" points=\"105.12,-31.04 113.43,-24.47 102.84,-24.42 105.12,-31.04\"/>\n",
       "<text text-anchor=\"middle\" x=\"84\" y=\"-57.8\" font-family=\"Times,serif\" font-size=\"14.00\">2.00</text>\n",
       "</g>\n",
       "<!-- x2&#45;&gt;x4 -->\n",
       "<g id=\"edge6\" class=\"edge\">\n",
       "<title>x2&#45;&gt;x4</title>\n",
       "<path fill=\"none\" stroke=\"black\" d=\"M43.16,-96.44C30.29,-91 15.54,-82.25 8,-69 3.41,-60.94 5.29,-51.56 9.3,-43.11\"/>\n",
       "<polygon fill=\"black\" stroke=\"black\" points=\"12.34,-44.84 14.27,-34.43 6.27,-41.37 12.34,-44.84\"/>\n",
       "<text text-anchor=\"middle\" x=\"26.5\" y=\"-57.8\" font-family=\"Times,serif\" font-size=\"14.00\">&#45;1.00</text>\n",
       "</g>\n",
       "<!-- x3 -->\n",
       "<g id=\"node4\" class=\"node\">\n",
       "<title>x3</title>\n",
       "<ellipse fill=\"none\" stroke=\"black\" cx=\"102\" cy=\"-192\" rx=\"27\" ry=\"18\"/>\n",
       "<text text-anchor=\"middle\" x=\"102\" y=\"-188.3\" font-family=\"Times,serif\" font-size=\"14.00\">x3</text>\n",
       "</g>\n",
       "<!-- x3&#45;&gt;x0 -->\n",
       "<g id=\"edge1\" class=\"edge\">\n",
       "<title>x3&#45;&gt;x0</title>\n",
       "<path fill=\"none\" stroke=\"black\" d=\"M112.53,-175.01C120.82,-162.43 132.52,-144.68 141.97,-130.33\"/>\n",
       "<polygon fill=\"black\" stroke=\"black\" points=\"144.94,-132.19 147.51,-121.92 139.09,-128.34 144.94,-132.19\"/>\n",
       "<text text-anchor=\"middle\" x=\"149\" y=\"-144.8\" font-family=\"Times,serif\" font-size=\"14.00\">3.00</text>\n",
       "</g>\n",
       "<!-- x3&#45;&gt;x2 -->\n",
       "<g id=\"edge4\" class=\"edge\">\n",
       "<title>x3&#45;&gt;x2</title>\n",
       "<path fill=\"none\" stroke=\"black\" d=\"M90.85,-175.54C86.99,-169.64 82.9,-162.72 80,-156 76.87,-148.75 74.36,-140.58 72.4,-132.98\"/>\n",
       "<polygon fill=\"black\" stroke=\"black\" points=\"75.78,-132.03 70.09,-123.1 68.96,-133.63 75.78,-132.03\"/>\n",
       "<text text-anchor=\"middle\" x=\"96\" y=\"-144.8\" font-family=\"Times,serif\" font-size=\"14.00\">6.00</text>\n",
       "</g>\n",
       "</g>\n",
       "</svg>\n"
      ],
      "text/plain": [
       "<graphviz.graphs.Digraph at 0x7f87ac9e7340>"
      ]
     },
     "execution_count": 3,
     "metadata": {},
     "output_type": "execute_result"
    }
   ],
   "source": [
    "m = np.array([[0.0, 0.0, 0.0, 3.0, 0.0, 0.0],\n",
    "              [3.0, 0.0, 2.0, 0.0, 0.0, 0.0],\n",
    "              [0.0, 0.0, 0.0, 6.0, 0.0, 0.0],\n",
    "              [0.0, 0.0, 0.0, 0.0, 0.0, 0.0],\n",
    "              [8.0, 0.0,-1.0, 0.0, 0.0, 0.0],\n",
    "              [4.0, 0.0, 0.0, 0.0, 0.0, 0.0]])\n",
    "\n",
    "make_dot(m)"
   ]
  },
  {
   "cell_type": "code",
   "execution_count": 4,
   "metadata": {
    "ExecuteTime": {
     "end_time": "2021-06-25T04:05:41.981290Z",
     "start_time": "2021-06-25T04:05:41.938404Z"
    }
   },
   "outputs": [
    {
     "data": {
      "text/html": [
       "<div>\n",
       "<style scoped>\n",
       "    .dataframe tbody tr th:only-of-type {\n",
       "        vertical-align: middle;\n",
       "    }\n",
       "\n",
       "    .dataframe tbody tr th {\n",
       "        vertical-align: top;\n",
       "    }\n",
       "\n",
       "    .dataframe thead th {\n",
       "        text-align: right;\n",
       "    }\n",
       "</style>\n",
       "<table border=\"1\" class=\"dataframe\">\n",
       "  <thead>\n",
       "    <tr style=\"text-align: right;\">\n",
       "      <th></th>\n",
       "      <th>x0</th>\n",
       "      <th>x1</th>\n",
       "      <th>x2</th>\n",
       "      <th>x3</th>\n",
       "      <th>x4</th>\n",
       "      <th>x5</th>\n",
       "    </tr>\n",
       "  </thead>\n",
       "  <tbody>\n",
       "    <tr>\n",
       "      <th>0</th>\n",
       "      <td>1.913337</td>\n",
       "      <td>14.568170</td>\n",
       "      <td>2.893918</td>\n",
       "      <td>0.374794</td>\n",
       "      <td>12.115455</td>\n",
       "      <td>9.358286</td>\n",
       "    </tr>\n",
       "    <tr>\n",
       "      <th>1</th>\n",
       "      <td>2.013935</td>\n",
       "      <td>15.857260</td>\n",
       "      <td>3.163377</td>\n",
       "      <td>0.428686</td>\n",
       "      <td>12.657021</td>\n",
       "      <td>9.242911</td>\n",
       "    </tr>\n",
       "    <tr>\n",
       "      <th>2</th>\n",
       "      <td>3.172835</td>\n",
       "      <td>24.734385</td>\n",
       "      <td>5.142203</td>\n",
       "      <td>0.683057</td>\n",
       "      <td>19.605722</td>\n",
       "      <td>14.666783</td>\n",
       "    </tr>\n",
       "    <tr>\n",
       "      <th>3</th>\n",
       "      <td>2.990395</td>\n",
       "      <td>20.878961</td>\n",
       "      <td>4.113485</td>\n",
       "      <td>0.600948</td>\n",
       "      <td>19.452091</td>\n",
       "      <td>13.494380</td>\n",
       "    </tr>\n",
       "    <tr>\n",
       "      <th>4</th>\n",
       "      <td>0.248702</td>\n",
       "      <td>2.268163</td>\n",
       "      <td>0.532419</td>\n",
       "      <td>0.070483</td>\n",
       "      <td>1.854870</td>\n",
       "      <td>1.130948</td>\n",
       "    </tr>\n",
       "  </tbody>\n",
       "</table>\n",
       "</div>"
      ],
      "text/plain": [
       "         x0         x1        x2        x3         x4         x5\n",
       "0  1.913337  14.568170  2.893918  0.374794  12.115455   9.358286\n",
       "1  2.013935  15.857260  3.163377  0.428686  12.657021   9.242911\n",
       "2  3.172835  24.734385  5.142203  0.683057  19.605722  14.666783\n",
       "3  2.990395  20.878961  4.113485  0.600948  19.452091  13.494380\n",
       "4  0.248702   2.268163  0.532419  0.070483   1.854870   1.130948"
      ]
     },
     "execution_count": 4,
     "metadata": {},
     "output_type": "execute_result"
    }
   ],
   "source": [
    "x3 = np.random.uniform(size=1000)\n",
    "x0 = 3.5*x3 + np.random.uniform(size=1000)\n",
    "x2 = 6.5*x3 + np.random.uniform(size=1000)\n",
    "x1 = 3.5*x0 + 2.5*x2 + np.random.uniform(size=1000)\n",
    "x5 = 4.5*x0 + np.random.uniform(size=1000)\n",
    "x4 = 8.5*x0 - 1.5*x2 + np.random.uniform(size=1000)\n",
    "X2 = pd.DataFrame(np.array([x0, x1, x2, x3, x4, x5]).T ,columns=['x0', 'x1', 'x2', 'x3', 'x4', 'x5'])\n",
    "X2.head()"
   ]
  },
  {
   "cell_type": "code",
   "execution_count": 5,
   "metadata": {
    "ExecuteTime": {
     "end_time": "2021-06-25T04:05:42.330276Z",
     "start_time": "2021-06-25T04:05:41.984281Z"
    }
   },
   "outputs": [
    {
     "data": {
      "image/svg+xml": [
       "<?xml version=\"1.0\" encoding=\"UTF-8\" standalone=\"no\"?>\n",
       "<!DOCTYPE svg PUBLIC \"-//W3C//DTD SVG 1.1//EN\"\n",
       " \"http://www.w3.org/Graphics/SVG/1.1/DTD/svg11.dtd\">\n",
       "<!-- Generated by graphviz version 2.43.0 (0)\n",
       " -->\n",
       "<!-- Title: %3 Pages: 1 -->\n",
       "<svg width=\"267pt\" height=\"218pt\"\n",
       " viewBox=\"0.00 0.00 267.00 218.00\" xmlns=\"http://www.w3.org/2000/svg\" xmlns:xlink=\"http://www.w3.org/1999/xlink\">\n",
       "<g id=\"graph0\" class=\"graph\" transform=\"scale(1 1) rotate(0) translate(4 214)\">\n",
       "<title>%3</title>\n",
       "<polygon fill=\"white\" stroke=\"transparent\" points=\"-4,4 -4,-214 263,-214 263,4 -4,4\"/>\n",
       "<!-- x0 -->\n",
       "<g id=\"node1\" class=\"node\">\n",
       "<title>x0</title>\n",
       "<ellipse fill=\"none\" stroke=\"black\" cx=\"158\" cy=\"-105\" rx=\"27\" ry=\"18\"/>\n",
       "<text text-anchor=\"middle\" x=\"158\" y=\"-101.3\" font-family=\"Times,serif\" font-size=\"14.00\">x0</text>\n",
       "</g>\n",
       "<!-- x1 -->\n",
       "<g id=\"node2\" class=\"node\">\n",
       "<title>x1</title>\n",
       "<ellipse fill=\"none\" stroke=\"black\" cx=\"139\" cy=\"-18\" rx=\"27\" ry=\"18\"/>\n",
       "<text text-anchor=\"middle\" x=\"139\" y=\"-14.3\" font-family=\"Times,serif\" font-size=\"14.00\">x1</text>\n",
       "</g>\n",
       "<!-- x0&#45;&gt;x1 -->\n",
       "<g id=\"edge2\" class=\"edge\">\n",
       "<title>x0&#45;&gt;x1</title>\n",
       "<path fill=\"none\" stroke=\"black\" d=\"M158.52,-86.64C158.42,-76.91 157.65,-64.63 155,-54 154.23,-50.92 153.2,-47.78 152.03,-44.71\"/>\n",
       "<polygon fill=\"black\" stroke=\"black\" points=\"155.13,-43.07 147.95,-35.28 148.7,-45.85 155.13,-43.07\"/>\n",
       "<text text-anchor=\"middle\" x=\"173\" y=\"-57.8\" font-family=\"Times,serif\" font-size=\"14.00\">3.50</text>\n",
       "</g>\n",
       "<!-- x4 -->\n",
       "<g id=\"node5\" class=\"node\">\n",
       "<title>x4</title>\n",
       "<ellipse fill=\"none\" stroke=\"black\" cx=\"27\" cy=\"-18\" rx=\"27\" ry=\"18\"/>\n",
       "<text text-anchor=\"middle\" x=\"27\" y=\"-14.3\" font-family=\"Times,serif\" font-size=\"14.00\">x4</text>\n",
       "</g>\n",
       "<!-- x0&#45;&gt;x4 -->\n",
       "<g id=\"edge5\" class=\"edge\">\n",
       "<title>x0&#45;&gt;x4</title>\n",
       "<path fill=\"none\" stroke=\"black\" d=\"M142.61,-89.91C128.57,-77.22 108.73,-59.71 100,-54 87.13,-45.58 71.92,-37.96 58.73,-32\"/>\n",
       "<polygon fill=\"black\" stroke=\"black\" points=\"60.1,-28.78 49.54,-27.96 57.29,-35.19 60.1,-28.78\"/>\n",
       "<text text-anchor=\"middle\" x=\"134\" y=\"-57.8\" font-family=\"Times,serif\" font-size=\"14.00\">8.50</text>\n",
       "</g>\n",
       "<!-- x5 -->\n",
       "<g id=\"node6\" class=\"node\">\n",
       "<title>x5</title>\n",
       "<ellipse fill=\"none\" stroke=\"black\" cx=\"232\" cy=\"-18\" rx=\"27\" ry=\"18\"/>\n",
       "<text text-anchor=\"middle\" x=\"232\" y=\"-14.3\" font-family=\"Times,serif\" font-size=\"14.00\">x5</text>\n",
       "</g>\n",
       "<!-- x0&#45;&gt;x5 -->\n",
       "<g id=\"edge7\" class=\"edge\">\n",
       "<title>x0&#45;&gt;x5</title>\n",
       "<path fill=\"none\" stroke=\"black\" d=\"M173.06,-89.74C179.4,-83.54 186.74,-76.08 193,-69 200.33,-60.71 207.91,-51.22 214.42,-42.76\"/>\n",
       "<polygon fill=\"black\" stroke=\"black\" points=\"217.27,-44.8 220.53,-34.71 211.69,-40.56 217.27,-44.8\"/>\n",
       "<text text-anchor=\"middle\" x=\"221\" y=\"-57.8\" font-family=\"Times,serif\" font-size=\"14.00\">4.50</text>\n",
       "</g>\n",
       "<!-- x2 -->\n",
       "<g id=\"node3\" class=\"node\">\n",
       "<title>x2</title>\n",
       "<ellipse fill=\"none\" stroke=\"black\" cx=\"67\" cy=\"-105\" rx=\"27\" ry=\"18\"/>\n",
       "<text text-anchor=\"middle\" x=\"67\" y=\"-101.3\" font-family=\"Times,serif\" font-size=\"14.00\">x2</text>\n",
       "</g>\n",
       "<!-- x2&#45;&gt;x1 -->\n",
       "<g id=\"edge3\" class=\"edge\">\n",
       "<title>x2&#45;&gt;x1</title>\n",
       "<path fill=\"none\" stroke=\"black\" d=\"M63.15,-86.98C61.78,-76.66 61.85,-63.67 68,-54 76.07,-41.31 90.22,-33.07 103.77,-27.8\"/>\n",
       "<polygon fill=\"black\" stroke=\"black\" points=\"105.12,-31.04 113.43,-24.47 102.84,-24.42 105.12,-31.04\"/>\n",
       "<text text-anchor=\"middle\" x=\"84\" y=\"-57.8\" font-family=\"Times,serif\" font-size=\"14.00\">2.50</text>\n",
       "</g>\n",
       "<!-- x2&#45;&gt;x4 -->\n",
       "<g id=\"edge6\" class=\"edge\">\n",
       "<title>x2&#45;&gt;x4</title>\n",
       "<path fill=\"none\" stroke=\"black\" d=\"M43.16,-96.44C30.29,-91 15.54,-82.25 8,-69 3.41,-60.94 5.29,-51.56 9.3,-43.11\"/>\n",
       "<polygon fill=\"black\" stroke=\"black\" points=\"12.34,-44.84 14.27,-34.43 6.27,-41.37 12.34,-44.84\"/>\n",
       "<text text-anchor=\"middle\" x=\"26.5\" y=\"-57.8\" font-family=\"Times,serif\" font-size=\"14.00\">&#45;1.50</text>\n",
       "</g>\n",
       "<!-- x3 -->\n",
       "<g id=\"node4\" class=\"node\">\n",
       "<title>x3</title>\n",
       "<ellipse fill=\"none\" stroke=\"black\" cx=\"102\" cy=\"-192\" rx=\"27\" ry=\"18\"/>\n",
       "<text text-anchor=\"middle\" x=\"102\" y=\"-188.3\" font-family=\"Times,serif\" font-size=\"14.00\">x3</text>\n",
       "</g>\n",
       "<!-- x3&#45;&gt;x0 -->\n",
       "<g id=\"edge1\" class=\"edge\">\n",
       "<title>x3&#45;&gt;x0</title>\n",
       "<path fill=\"none\" stroke=\"black\" d=\"M112.53,-175.01C120.82,-162.43 132.52,-144.68 141.97,-130.33\"/>\n",
       "<polygon fill=\"black\" stroke=\"black\" points=\"144.94,-132.19 147.51,-121.92 139.09,-128.34 144.94,-132.19\"/>\n",
       "<text text-anchor=\"middle\" x=\"149\" y=\"-144.8\" font-family=\"Times,serif\" font-size=\"14.00\">3.50</text>\n",
       "</g>\n",
       "<!-- x3&#45;&gt;x2 -->\n",
       "<g id=\"edge4\" class=\"edge\">\n",
       "<title>x3&#45;&gt;x2</title>\n",
       "<path fill=\"none\" stroke=\"black\" d=\"M90.85,-175.54C86.99,-169.64 82.9,-162.72 80,-156 76.87,-148.75 74.36,-140.58 72.4,-132.98\"/>\n",
       "<polygon fill=\"black\" stroke=\"black\" points=\"75.78,-132.03 70.09,-123.1 68.96,-133.63 75.78,-132.03\"/>\n",
       "<text text-anchor=\"middle\" x=\"96\" y=\"-144.8\" font-family=\"Times,serif\" font-size=\"14.00\">6.50</text>\n",
       "</g>\n",
       "</g>\n",
       "</svg>\n"
      ],
      "text/plain": [
       "<graphviz.graphs.Digraph at 0x7f87aca0fbe0>"
      ]
     },
     "execution_count": 5,
     "metadata": {},
     "output_type": "execute_result"
    }
   ],
   "source": [
    "m = np.array([[0.0, 0.0, 0.0, 3.5, 0.0, 0.0],\n",
    "              [3.5, 0.0, 2.5, 0.0, 0.0, 0.0],\n",
    "              [0.0, 0.0, 0.0, 6.5, 0.0, 0.0],\n",
    "              [0.0, 0.0, 0.0, 0.0, 0.0, 0.0],\n",
    "              [8.5, 0.0,-1.5, 0.0, 0.0, 0.0],\n",
    "              [4.5, 0.0, 0.0, 0.0, 0.0, 0.0]])\n",
    "\n",
    "make_dot(m)"
   ]
  },
  {
   "cell_type": "markdown",
   "metadata": {},
   "source": [
    "We create a list variable that contains two datasets."
   ]
  },
  {
   "cell_type": "code",
   "execution_count": 6,
   "metadata": {
    "ExecuteTime": {
     "end_time": "2021-06-25T04:05:42.345752Z",
     "start_time": "2021-06-25T04:05:42.332279Z"
    }
   },
   "outputs": [],
   "source": [
    "X_list = [X1, X2]"
   ]
  },
  {
   "cell_type": "markdown",
   "metadata": {},
   "source": [
    "## Causal Discovery\n",
    "To run causal discovery for multiple datasets, we create a `MultiGroupDirectLiNGAM` object and call the `fit` method."
   ]
  },
  {
   "cell_type": "code",
   "execution_count": 7,
   "metadata": {
    "ExecuteTime": {
     "end_time": "2021-06-25T04:05:42.536704Z",
     "start_time": "2021-06-25T04:05:42.352739Z"
    }
   },
   "outputs": [
    {
     "data": {
      "text/plain": [
       "<lingam.multi_group_direct_lingam.MultiGroupDirectLiNGAM at 0x7f87aca0fcd0>"
      ]
     },
     "execution_count": 7,
     "metadata": {},
     "output_type": "execute_result"
    }
   ],
   "source": [
    "model = lingam.MultiGroupDirectLiNGAM()\n",
    "model.fit(X_list)"
   ]
  },
  {
   "cell_type": "markdown",
   "metadata": {},
   "source": [
    "Using the `causal_order_` properties, we can see the causal ordering as a result of the causal discovery."
   ]
  },
  {
   "cell_type": "code",
   "execution_count": 8,
   "metadata": {
    "ExecuteTime": {
     "end_time": "2021-06-25T04:05:42.556294Z",
     "start_time": "2021-06-25T04:05:42.540672Z"
    }
   },
   "outputs": [
    {
     "data": {
      "text/plain": [
       "[3, 0, 5, 2, 1, 4]"
      ]
     },
     "execution_count": 8,
     "metadata": {},
     "output_type": "execute_result"
    }
   ],
   "source": [
    "model.causal_order_"
   ]
  },
  {
   "cell_type": "markdown",
   "metadata": {
    "ExecuteTime": {
     "end_time": "2019-09-09T01:24:30.429100Z",
     "start_time": "2019-09-09T01:24:30.422118Z"
    }
   },
   "source": [
    "Also, using the `adjacency_matrix_` properties, we can see the adjacency matrix as a result of the causal discovery. As you can see from the following, DAG in each dataset is correctly estimated."
   ]
  },
  {
   "cell_type": "code",
   "execution_count": 9,
   "metadata": {
    "ExecuteTime": {
     "end_time": "2021-06-25T04:05:43.002688Z",
     "start_time": "2021-06-25T04:05:42.556294Z"
    }
   },
   "outputs": [
    {
     "name": "stdout",
     "output_type": "stream",
     "text": [
      "[[ 0.     0.     0.     3.006  0.     0.   ]\n",
      " [ 2.962  0.     2.015  0.     0.     0.   ]\n",
      " [ 0.     0.     0.     5.97   0.     0.   ]\n",
      " [ 0.     0.     0.     0.     0.     0.   ]\n",
      " [ 8.01   0.    -1.006  0.     0.     0.   ]\n",
      " [ 3.998  0.     0.     0.     0.     0.   ]]\n"
     ]
    },
    {
     "data": {
      "image/svg+xml": [
       "<?xml version=\"1.0\" encoding=\"UTF-8\" standalone=\"no\"?>\n",
       "<!DOCTYPE svg PUBLIC \"-//W3C//DTD SVG 1.1//EN\"\n",
       " \"http://www.w3.org/Graphics/SVG/1.1/DTD/svg11.dtd\">\n",
       "<!-- Generated by graphviz version 2.43.0 (0)\n",
       " -->\n",
       "<!-- Title: %3 Pages: 1 -->\n",
       "<svg width=\"267pt\" height=\"218pt\"\n",
       " viewBox=\"0.00 0.00 267.00 218.00\" xmlns=\"http://www.w3.org/2000/svg\" xmlns:xlink=\"http://www.w3.org/1999/xlink\">\n",
       "<g id=\"graph0\" class=\"graph\" transform=\"scale(1 1) rotate(0) translate(4 214)\">\n",
       "<title>%3</title>\n",
       "<polygon fill=\"white\" stroke=\"transparent\" points=\"-4,4 -4,-214 263,-214 263,4 -4,4\"/>\n",
       "<!-- x0 -->\n",
       "<g id=\"node1\" class=\"node\">\n",
       "<title>x0</title>\n",
       "<ellipse fill=\"none\" stroke=\"black\" cx=\"158\" cy=\"-105\" rx=\"27\" ry=\"18\"/>\n",
       "<text text-anchor=\"middle\" x=\"158\" y=\"-101.3\" font-family=\"Times,serif\" font-size=\"14.00\">x0</text>\n",
       "</g>\n",
       "<!-- x1 -->\n",
       "<g id=\"node2\" class=\"node\">\n",
       "<title>x1</title>\n",
       "<ellipse fill=\"none\" stroke=\"black\" cx=\"139\" cy=\"-18\" rx=\"27\" ry=\"18\"/>\n",
       "<text text-anchor=\"middle\" x=\"139\" y=\"-14.3\" font-family=\"Times,serif\" font-size=\"14.00\">x1</text>\n",
       "</g>\n",
       "<!-- x0&#45;&gt;x1 -->\n",
       "<g id=\"edge2\" class=\"edge\">\n",
       "<title>x0&#45;&gt;x1</title>\n",
       "<path fill=\"none\" stroke=\"black\" d=\"M158.52,-86.64C158.42,-76.91 157.65,-64.63 155,-54 154.23,-50.92 153.2,-47.78 152.03,-44.71\"/>\n",
       "<polygon fill=\"black\" stroke=\"black\" points=\"155.13,-43.07 147.95,-35.28 148.7,-45.85 155.13,-43.07\"/>\n",
       "<text text-anchor=\"middle\" x=\"173\" y=\"-57.8\" font-family=\"Times,serif\" font-size=\"14.00\">2.96</text>\n",
       "</g>\n",
       "<!-- x4 -->\n",
       "<g id=\"node5\" class=\"node\">\n",
       "<title>x4</title>\n",
       "<ellipse fill=\"none\" stroke=\"black\" cx=\"27\" cy=\"-18\" rx=\"27\" ry=\"18\"/>\n",
       "<text text-anchor=\"middle\" x=\"27\" y=\"-14.3\" font-family=\"Times,serif\" font-size=\"14.00\">x4</text>\n",
       "</g>\n",
       "<!-- x0&#45;&gt;x4 -->\n",
       "<g id=\"edge5\" class=\"edge\">\n",
       "<title>x0&#45;&gt;x4</title>\n",
       "<path fill=\"none\" stroke=\"black\" d=\"M142.61,-89.91C128.57,-77.22 108.73,-59.71 100,-54 87.13,-45.58 71.92,-37.96 58.73,-32\"/>\n",
       "<polygon fill=\"black\" stroke=\"black\" points=\"60.1,-28.78 49.54,-27.96 57.29,-35.19 60.1,-28.78\"/>\n",
       "<text text-anchor=\"middle\" x=\"134\" y=\"-57.8\" font-family=\"Times,serif\" font-size=\"14.00\">8.01</text>\n",
       "</g>\n",
       "<!-- x5 -->\n",
       "<g id=\"node6\" class=\"node\">\n",
       "<title>x5</title>\n",
       "<ellipse fill=\"none\" stroke=\"black\" cx=\"232\" cy=\"-18\" rx=\"27\" ry=\"18\"/>\n",
       "<text text-anchor=\"middle\" x=\"232\" y=\"-14.3\" font-family=\"Times,serif\" font-size=\"14.00\">x5</text>\n",
       "</g>\n",
       "<!-- x0&#45;&gt;x5 -->\n",
       "<g id=\"edge7\" class=\"edge\">\n",
       "<title>x0&#45;&gt;x5</title>\n",
       "<path fill=\"none\" stroke=\"black\" d=\"M173.06,-89.74C179.4,-83.54 186.74,-76.08 193,-69 200.33,-60.71 207.91,-51.22 214.42,-42.76\"/>\n",
       "<polygon fill=\"black\" stroke=\"black\" points=\"217.27,-44.8 220.53,-34.71 211.69,-40.56 217.27,-44.8\"/>\n",
       "<text text-anchor=\"middle\" x=\"221\" y=\"-57.8\" font-family=\"Times,serif\" font-size=\"14.00\">4.00</text>\n",
       "</g>\n",
       "<!-- x2 -->\n",
       "<g id=\"node3\" class=\"node\">\n",
       "<title>x2</title>\n",
       "<ellipse fill=\"none\" stroke=\"black\" cx=\"67\" cy=\"-105\" rx=\"27\" ry=\"18\"/>\n",
       "<text text-anchor=\"middle\" x=\"67\" y=\"-101.3\" font-family=\"Times,serif\" font-size=\"14.00\">x2</text>\n",
       "</g>\n",
       "<!-- x2&#45;&gt;x1 -->\n",
       "<g id=\"edge3\" class=\"edge\">\n",
       "<title>x2&#45;&gt;x1</title>\n",
       "<path fill=\"none\" stroke=\"black\" d=\"M63.15,-86.98C61.78,-76.66 61.85,-63.67 68,-54 76.07,-41.31 90.22,-33.07 103.77,-27.8\"/>\n",
       "<polygon fill=\"black\" stroke=\"black\" points=\"105.12,-31.04 113.43,-24.47 102.84,-24.42 105.12,-31.04\"/>\n",
       "<text text-anchor=\"middle\" x=\"84\" y=\"-57.8\" font-family=\"Times,serif\" font-size=\"14.00\">2.02</text>\n",
       "</g>\n",
       "<!-- x2&#45;&gt;x4 -->\n",
       "<g id=\"edge6\" class=\"edge\">\n",
       "<title>x2&#45;&gt;x4</title>\n",
       "<path fill=\"none\" stroke=\"black\" d=\"M43.16,-96.44C30.29,-91 15.54,-82.25 8,-69 3.41,-60.94 5.29,-51.56 9.3,-43.11\"/>\n",
       "<polygon fill=\"black\" stroke=\"black\" points=\"12.34,-44.84 14.27,-34.43 6.27,-41.37 12.34,-44.84\"/>\n",
       "<text text-anchor=\"middle\" x=\"26.5\" y=\"-57.8\" font-family=\"Times,serif\" font-size=\"14.00\">&#45;1.01</text>\n",
       "</g>\n",
       "<!-- x3 -->\n",
       "<g id=\"node4\" class=\"node\">\n",
       "<title>x3</title>\n",
       "<ellipse fill=\"none\" stroke=\"black\" cx=\"102\" cy=\"-192\" rx=\"27\" ry=\"18\"/>\n",
       "<text text-anchor=\"middle\" x=\"102\" y=\"-188.3\" font-family=\"Times,serif\" font-size=\"14.00\">x3</text>\n",
       "</g>\n",
       "<!-- x3&#45;&gt;x0 -->\n",
       "<g id=\"edge1\" class=\"edge\">\n",
       "<title>x3&#45;&gt;x0</title>\n",
       "<path fill=\"none\" stroke=\"black\" d=\"M112.53,-175.01C120.82,-162.43 132.52,-144.68 141.97,-130.33\"/>\n",
       "<polygon fill=\"black\" stroke=\"black\" points=\"144.94,-132.19 147.51,-121.92 139.09,-128.34 144.94,-132.19\"/>\n",
       "<text text-anchor=\"middle\" x=\"149\" y=\"-144.8\" font-family=\"Times,serif\" font-size=\"14.00\">3.01</text>\n",
       "</g>\n",
       "<!-- x3&#45;&gt;x2 -->\n",
       "<g id=\"edge4\" class=\"edge\">\n",
       "<title>x3&#45;&gt;x2</title>\n",
       "<path fill=\"none\" stroke=\"black\" d=\"M90.85,-175.54C86.99,-169.64 82.9,-162.72 80,-156 76.87,-148.75 74.36,-140.58 72.4,-132.98\"/>\n",
       "<polygon fill=\"black\" stroke=\"black\" points=\"75.78,-132.03 70.09,-123.1 68.96,-133.63 75.78,-132.03\"/>\n",
       "<text text-anchor=\"middle\" x=\"96\" y=\"-144.8\" font-family=\"Times,serif\" font-size=\"14.00\">5.97</text>\n",
       "</g>\n",
       "</g>\n",
       "</svg>\n"
      ],
      "text/plain": [
       "<graphviz.graphs.Digraph at 0x7f87ac9e7d90>"
      ]
     },
     "execution_count": 9,
     "metadata": {},
     "output_type": "execute_result"
    }
   ],
   "source": [
    "print(model.adjacency_matrices_[0])\n",
    "make_dot(model.adjacency_matrices_[0])"
   ]
  },
  {
   "cell_type": "code",
   "execution_count": 10,
   "metadata": {
    "ExecuteTime": {
     "end_time": "2021-06-25T04:05:43.403324Z",
     "start_time": "2021-06-25T04:05:43.005680Z"
    }
   },
   "outputs": [
    {
     "name": "stdout",
     "output_type": "stream",
     "text": [
      "[[ 0.     0.     0.     3.483  0.     0.   ]\n",
      " [ 3.526  0.     2.486  0.     0.     0.   ]\n",
      " [ 0.     0.     0.     6.503  0.     0.   ]\n",
      " [ 0.     0.     0.     0.     0.     0.   ]\n",
      " [ 8.478  0.    -1.484  0.     0.     0.   ]\n",
      " [ 4.494  0.     0.     0.     0.     0.   ]]\n"
     ]
    },
    {
     "data": {
      "image/svg+xml": [
       "<?xml version=\"1.0\" encoding=\"UTF-8\" standalone=\"no\"?>\n",
       "<!DOCTYPE svg PUBLIC \"-//W3C//DTD SVG 1.1//EN\"\n",
       " \"http://www.w3.org/Graphics/SVG/1.1/DTD/svg11.dtd\">\n",
       "<!-- Generated by graphviz version 2.43.0 (0)\n",
       " -->\n",
       "<!-- Title: %3 Pages: 1 -->\n",
       "<svg width=\"267pt\" height=\"218pt\"\n",
       " viewBox=\"0.00 0.00 267.00 218.00\" xmlns=\"http://www.w3.org/2000/svg\" xmlns:xlink=\"http://www.w3.org/1999/xlink\">\n",
       "<g id=\"graph0\" class=\"graph\" transform=\"scale(1 1) rotate(0) translate(4 214)\">\n",
       "<title>%3</title>\n",
       "<polygon fill=\"white\" stroke=\"transparent\" points=\"-4,4 -4,-214 263,-214 263,4 -4,4\"/>\n",
       "<!-- x0 -->\n",
       "<g id=\"node1\" class=\"node\">\n",
       "<title>x0</title>\n",
       "<ellipse fill=\"none\" stroke=\"black\" cx=\"158\" cy=\"-105\" rx=\"27\" ry=\"18\"/>\n",
       "<text text-anchor=\"middle\" x=\"158\" y=\"-101.3\" font-family=\"Times,serif\" font-size=\"14.00\">x0</text>\n",
       "</g>\n",
       "<!-- x1 -->\n",
       "<g id=\"node2\" class=\"node\">\n",
       "<title>x1</title>\n",
       "<ellipse fill=\"none\" stroke=\"black\" cx=\"139\" cy=\"-18\" rx=\"27\" ry=\"18\"/>\n",
       "<text text-anchor=\"middle\" x=\"139\" y=\"-14.3\" font-family=\"Times,serif\" font-size=\"14.00\">x1</text>\n",
       "</g>\n",
       "<!-- x0&#45;&gt;x1 -->\n",
       "<g id=\"edge2\" class=\"edge\">\n",
       "<title>x0&#45;&gt;x1</title>\n",
       "<path fill=\"none\" stroke=\"black\" d=\"M158.52,-86.64C158.42,-76.91 157.65,-64.63 155,-54 154.23,-50.92 153.2,-47.78 152.03,-44.71\"/>\n",
       "<polygon fill=\"black\" stroke=\"black\" points=\"155.13,-43.07 147.95,-35.28 148.7,-45.85 155.13,-43.07\"/>\n",
       "<text text-anchor=\"middle\" x=\"173\" y=\"-57.8\" font-family=\"Times,serif\" font-size=\"14.00\">3.53</text>\n",
       "</g>\n",
       "<!-- x4 -->\n",
       "<g id=\"node5\" class=\"node\">\n",
       "<title>x4</title>\n",
       "<ellipse fill=\"none\" stroke=\"black\" cx=\"27\" cy=\"-18\" rx=\"27\" ry=\"18\"/>\n",
       "<text text-anchor=\"middle\" x=\"27\" y=\"-14.3\" font-family=\"Times,serif\" font-size=\"14.00\">x4</text>\n",
       "</g>\n",
       "<!-- x0&#45;&gt;x4 -->\n",
       "<g id=\"edge5\" class=\"edge\">\n",
       "<title>x0&#45;&gt;x4</title>\n",
       "<path fill=\"none\" stroke=\"black\" d=\"M142.61,-89.91C128.57,-77.22 108.73,-59.71 100,-54 87.13,-45.58 71.92,-37.96 58.73,-32\"/>\n",
       "<polygon fill=\"black\" stroke=\"black\" points=\"60.1,-28.78 49.54,-27.96 57.29,-35.19 60.1,-28.78\"/>\n",
       "<text text-anchor=\"middle\" x=\"134\" y=\"-57.8\" font-family=\"Times,serif\" font-size=\"14.00\">8.48</text>\n",
       "</g>\n",
       "<!-- x5 -->\n",
       "<g id=\"node6\" class=\"node\">\n",
       "<title>x5</title>\n",
       "<ellipse fill=\"none\" stroke=\"black\" cx=\"232\" cy=\"-18\" rx=\"27\" ry=\"18\"/>\n",
       "<text text-anchor=\"middle\" x=\"232\" y=\"-14.3\" font-family=\"Times,serif\" font-size=\"14.00\">x5</text>\n",
       "</g>\n",
       "<!-- x0&#45;&gt;x5 -->\n",
       "<g id=\"edge7\" class=\"edge\">\n",
       "<title>x0&#45;&gt;x5</title>\n",
       "<path fill=\"none\" stroke=\"black\" d=\"M173.06,-89.74C179.4,-83.54 186.74,-76.08 193,-69 200.33,-60.71 207.91,-51.22 214.42,-42.76\"/>\n",
       "<polygon fill=\"black\" stroke=\"black\" points=\"217.27,-44.8 220.53,-34.71 211.69,-40.56 217.27,-44.8\"/>\n",
       "<text text-anchor=\"middle\" x=\"221\" y=\"-57.8\" font-family=\"Times,serif\" font-size=\"14.00\">4.49</text>\n",
       "</g>\n",
       "<!-- x2 -->\n",
       "<g id=\"node3\" class=\"node\">\n",
       "<title>x2</title>\n",
       "<ellipse fill=\"none\" stroke=\"black\" cx=\"67\" cy=\"-105\" rx=\"27\" ry=\"18\"/>\n",
       "<text text-anchor=\"middle\" x=\"67\" y=\"-101.3\" font-family=\"Times,serif\" font-size=\"14.00\">x2</text>\n",
       "</g>\n",
       "<!-- x2&#45;&gt;x1 -->\n",
       "<g id=\"edge3\" class=\"edge\">\n",
       "<title>x2&#45;&gt;x1</title>\n",
       "<path fill=\"none\" stroke=\"black\" d=\"M63.15,-86.98C61.78,-76.66 61.85,-63.67 68,-54 76.07,-41.31 90.22,-33.07 103.77,-27.8\"/>\n",
       "<polygon fill=\"black\" stroke=\"black\" points=\"105.12,-31.04 113.43,-24.47 102.84,-24.42 105.12,-31.04\"/>\n",
       "<text text-anchor=\"middle\" x=\"84\" y=\"-57.8\" font-family=\"Times,serif\" font-size=\"14.00\">2.49</text>\n",
       "</g>\n",
       "<!-- x2&#45;&gt;x4 -->\n",
       "<g id=\"edge6\" class=\"edge\">\n",
       "<title>x2&#45;&gt;x4</title>\n",
       "<path fill=\"none\" stroke=\"black\" d=\"M43.16,-96.44C30.29,-91 15.54,-82.25 8,-69 3.41,-60.94 5.29,-51.56 9.3,-43.11\"/>\n",
       "<polygon fill=\"black\" stroke=\"black\" points=\"12.34,-44.84 14.27,-34.43 6.27,-41.37 12.34,-44.84\"/>\n",
       "<text text-anchor=\"middle\" x=\"26.5\" y=\"-57.8\" font-family=\"Times,serif\" font-size=\"14.00\">&#45;1.48</text>\n",
       "</g>\n",
       "<!-- x3 -->\n",
       "<g id=\"node4\" class=\"node\">\n",
       "<title>x3</title>\n",
       "<ellipse fill=\"none\" stroke=\"black\" cx=\"102\" cy=\"-192\" rx=\"27\" ry=\"18\"/>\n",
       "<text text-anchor=\"middle\" x=\"102\" y=\"-188.3\" font-family=\"Times,serif\" font-size=\"14.00\">x3</text>\n",
       "</g>\n",
       "<!-- x3&#45;&gt;x0 -->\n",
       "<g id=\"edge1\" class=\"edge\">\n",
       "<title>x3&#45;&gt;x0</title>\n",
       "<path fill=\"none\" stroke=\"black\" d=\"M112.53,-175.01C120.82,-162.43 132.52,-144.68 141.97,-130.33\"/>\n",
       "<polygon fill=\"black\" stroke=\"black\" points=\"144.94,-132.19 147.51,-121.92 139.09,-128.34 144.94,-132.19\"/>\n",
       "<text text-anchor=\"middle\" x=\"149\" y=\"-144.8\" font-family=\"Times,serif\" font-size=\"14.00\">3.48</text>\n",
       "</g>\n",
       "<!-- x3&#45;&gt;x2 -->\n",
       "<g id=\"edge4\" class=\"edge\">\n",
       "<title>x3&#45;&gt;x2</title>\n",
       "<path fill=\"none\" stroke=\"black\" d=\"M90.85,-175.54C86.99,-169.64 82.9,-162.72 80,-156 76.87,-148.75 74.36,-140.58 72.4,-132.98\"/>\n",
       "<polygon fill=\"black\" stroke=\"black\" points=\"75.78,-132.03 70.09,-123.1 68.96,-133.63 75.78,-132.03\"/>\n",
       "<text text-anchor=\"middle\" x=\"96\" y=\"-144.8\" font-family=\"Times,serif\" font-size=\"14.00\">6.50</text>\n",
       "</g>\n",
       "</g>\n",
       "</svg>\n"
      ],
      "text/plain": [
       "<graphviz.graphs.Digraph at 0x7f87ac9e74c0>"
      ]
     },
     "execution_count": 10,
     "metadata": {},
     "output_type": "execute_result"
    }
   ],
   "source": [
    "print(model.adjacency_matrices_[1])\n",
    "make_dot(model.adjacency_matrices_[1])"
   ]
  },
  {
   "cell_type": "markdown",
   "metadata": {},
   "source": [
    "To compare, we run DirectLiNGAM with single dataset concatenating two datasets."
   ]
  },
  {
   "cell_type": "code",
   "execution_count": 11,
   "metadata": {
    "ExecuteTime": {
     "end_time": "2021-06-25T04:05:43.419281Z",
     "start_time": "2021-06-25T04:05:43.405319Z"
    }
   },
   "outputs": [
    {
     "name": "stdout",
     "output_type": "stream",
     "text": [
      "(2000, 6)\n"
     ]
    }
   ],
   "source": [
    "X_all = pd.concat([X1, X2])\n",
    "print(X_all.shape)"
   ]
  },
  {
   "cell_type": "code",
   "execution_count": 12,
   "metadata": {
    "ExecuteTime": {
     "end_time": "2021-06-25T04:05:43.557082Z",
     "start_time": "2021-06-25T04:05:43.421274Z"
    }
   },
   "outputs": [
    {
     "data": {
      "text/plain": [
       "[1, 5, 2, 3, 0, 4]"
      ]
     },
     "execution_count": 12,
     "metadata": {},
     "output_type": "execute_result"
    }
   ],
   "source": [
    "model_all = lingam.DirectLiNGAM()\n",
    "model_all.fit(X_all)\n",
    "\n",
    "model_all.causal_order_"
   ]
  },
  {
   "cell_type": "markdown",
   "metadata": {},
   "source": [
    "You can see that the causal structure cannot be estimated correctly for a single dataset."
   ]
  },
  {
   "cell_type": "code",
   "execution_count": 13,
   "metadata": {
    "ExecuteTime": {
     "end_time": "2021-06-25T04:05:43.918022Z",
     "start_time": "2021-06-25T04:05:43.561072Z"
    }
   },
   "outputs": [
    {
     "data": {
      "image/svg+xml": [
       "<?xml version=\"1.0\" encoding=\"UTF-8\" standalone=\"no\"?>\n",
       "<!DOCTYPE svg PUBLIC \"-//W3C//DTD SVG 1.1//EN\"\n",
       " \"http://www.w3.org/Graphics/SVG/1.1/DTD/svg11.dtd\">\n",
       "<!-- Generated by graphviz version 2.43.0 (0)\n",
       " -->\n",
       "<!-- Title: %3 Pages: 1 -->\n",
       "<svg width=\"407pt\" height=\"479pt\"\n",
       " viewBox=\"0.00 0.00 407.00 479.00\" xmlns=\"http://www.w3.org/2000/svg\" xmlns:xlink=\"http://www.w3.org/1999/xlink\">\n",
       "<g id=\"graph0\" class=\"graph\" transform=\"scale(1 1) rotate(0) translate(4 475)\">\n",
       "<title>%3</title>\n",
       "<polygon fill=\"white\" stroke=\"transparent\" points=\"-4,4 -4,-475 403,-475 403,4 -4,4\"/>\n",
       "<!-- x0 -->\n",
       "<g id=\"node1\" class=\"node\">\n",
       "<title>x0</title>\n",
       "<ellipse fill=\"none\" stroke=\"black\" cx=\"166\" cy=\"-105\" rx=\"27\" ry=\"18\"/>\n",
       "<text text-anchor=\"middle\" x=\"166\" y=\"-101.3\" font-family=\"Times,serif\" font-size=\"14.00\">x0</text>\n",
       "</g>\n",
       "<!-- x4 -->\n",
       "<g id=\"node5\" class=\"node\">\n",
       "<title>x4</title>\n",
       "<ellipse fill=\"none\" stroke=\"black\" cx=\"310\" cy=\"-18\" rx=\"27\" ry=\"18\"/>\n",
       "<text text-anchor=\"middle\" x=\"310\" y=\"-14.3\" font-family=\"Times,serif\" font-size=\"14.00\">x4</text>\n",
       "</g>\n",
       "<!-- x0&#45;&gt;x4 -->\n",
       "<g id=\"edge10\" class=\"edge\">\n",
       "<title>x0&#45;&gt;x4</title>\n",
       "<path fill=\"none\" stroke=\"black\" d=\"M185.72,-92.36C210.6,-77.67 253.56,-52.31 281.88,-35.6\"/>\n",
       "<polygon fill=\"black\" stroke=\"black\" points=\"283.69,-38.6 290.52,-30.5 280.13,-32.57 283.69,-38.6\"/>\n",
       "<text text-anchor=\"middle\" x=\"263\" y=\"-57.8\" font-family=\"Times,serif\" font-size=\"14.00\">9.06</text>\n",
       "</g>\n",
       "<!-- x1 -->\n",
       "<g id=\"node2\" class=\"node\">\n",
       "<title>x1</title>\n",
       "<ellipse fill=\"none\" stroke=\"black\" cx=\"171\" cy=\"-453\" rx=\"27\" ry=\"18\"/>\n",
       "<text text-anchor=\"middle\" x=\"171\" y=\"-449.3\" font-family=\"Times,serif\" font-size=\"14.00\">x1</text>\n",
       "</g>\n",
       "<!-- x1&#45;&gt;x0 -->\n",
       "<g id=\"edge1\" class=\"edge\">\n",
       "<title>x1&#45;&gt;x0</title>\n",
       "<path fill=\"none\" stroke=\"black\" d=\"M143.9,-450.62C95.69,-446.56 0,-430.49 0,-367 0,-367 0,-367 0,-191 0,-133.54 79.78,-114.9 128.73,-108.87\"/>\n",
       "<polygon fill=\"black\" stroke=\"black\" points=\"129.41,-112.31 138.96,-107.73 128.64,-105.36 129.41,-112.31\"/>\n",
       "<text text-anchor=\"middle\" x=\"18.5\" y=\"-275.3\" font-family=\"Times,serif\" font-size=\"14.00\">&#45;0.07</text>\n",
       "</g>\n",
       "<!-- x2 -->\n",
       "<g id=\"node3\" class=\"node\">\n",
       "<title>x2</title>\n",
       "<ellipse fill=\"none\" stroke=\"black\" cx=\"256\" cy=\"-279\" rx=\"27\" ry=\"18\"/>\n",
       "<text text-anchor=\"middle\" x=\"256\" y=\"-275.3\" font-family=\"Times,serif\" font-size=\"14.00\">x2</text>\n",
       "</g>\n",
       "<!-- x1&#45;&gt;x2 -->\n",
       "<g id=\"edge5\" class=\"edge\">\n",
       "<title>x1&#45;&gt;x2</title>\n",
       "<path fill=\"none\" stroke=\"black\" d=\"M187.56,-438.6C194.26,-432.54 201.66,-424.96 207,-417 230.06,-382.63 243.68,-336.12 250.49,-307.1\"/>\n",
       "<polygon fill=\"black\" stroke=\"black\" points=\"253.93,-307.78 252.7,-297.26 247.1,-306.25 253.93,-307.78\"/>\n",
       "<text text-anchor=\"middle\" x=\"255\" y=\"-362.3\" font-family=\"Times,serif\" font-size=\"14.00\">0.32</text>\n",
       "</g>\n",
       "<!-- x3 -->\n",
       "<g id=\"node4\" class=\"node\">\n",
       "<title>x3</title>\n",
       "<ellipse fill=\"none\" stroke=\"black\" cx=\"111\" cy=\"-192\" rx=\"27\" ry=\"18\"/>\n",
       "<text text-anchor=\"middle\" x=\"111\" y=\"-188.3\" font-family=\"Times,serif\" font-size=\"14.00\">x3</text>\n",
       "</g>\n",
       "<!-- x1&#45;&gt;x3 -->\n",
       "<g id=\"edge7\" class=\"edge\">\n",
       "<title>x1&#45;&gt;x3</title>\n",
       "<path fill=\"none\" stroke=\"black\" d=\"M157.67,-437.22C139.14,-415.55 106.45,-373.07 94,-330 83.2,-292.64 92.92,-247.6 101.49,-219.62\"/>\n",
       "<polygon fill=\"black\" stroke=\"black\" points=\"104.92,-220.38 104.67,-209.79 98.26,-218.23 104.92,-220.38\"/>\n",
       "<text text-anchor=\"middle\" x=\"112.5\" y=\"-318.8\" font-family=\"Times,serif\" font-size=\"14.00\">&#45;0.02</text>\n",
       "</g>\n",
       "<!-- x1&#45;&gt;x4 -->\n",
       "<g id=\"edge11\" class=\"edge\">\n",
       "<title>x1&#45;&gt;x4</title>\n",
       "<path fill=\"none\" stroke=\"black\" d=\"M197.96,-451.89C250.61,-450.11 362,-437.96 362,-367 362,-367 362,-367 362,-104 362,-79.84 346.52,-56.74 332.46,-40.74\"/>\n",
       "<polygon fill=\"black\" stroke=\"black\" points=\"334.69,-38 325.32,-33.05 329.56,-42.76 334.69,-38\"/>\n",
       "<text text-anchor=\"middle\" x=\"380.5\" y=\"-231.8\" font-family=\"Times,serif\" font-size=\"14.00\">&#45;0.25</text>\n",
       "</g>\n",
       "<!-- x5 -->\n",
       "<g id=\"node6\" class=\"node\">\n",
       "<title>x5</title>\n",
       "<ellipse fill=\"none\" stroke=\"black\" cx=\"171\" cy=\"-366\" rx=\"27\" ry=\"18\"/>\n",
       "<text text-anchor=\"middle\" x=\"171\" y=\"-362.3\" font-family=\"Times,serif\" font-size=\"14.00\">x5</text>\n",
       "</g>\n",
       "<!-- x1&#45;&gt;x5 -->\n",
       "<g id=\"edge13\" class=\"edge\">\n",
       "<title>x1&#45;&gt;x5</title>\n",
       "<path fill=\"none\" stroke=\"black\" d=\"M171,-434.8C171,-423.16 171,-407.55 171,-394.24\"/>\n",
       "<polygon fill=\"black\" stroke=\"black\" points=\"174.5,-394.18 171,-384.18 167.5,-394.18 174.5,-394.18\"/>\n",
       "<text text-anchor=\"middle\" x=\"187\" y=\"-405.8\" font-family=\"Times,serif\" font-size=\"14.00\">0.56</text>\n",
       "</g>\n",
       "<!-- x2&#45;&gt;x0 -->\n",
       "<g id=\"edge2\" class=\"edge\">\n",
       "<title>x2&#45;&gt;x0</title>\n",
       "<path fill=\"none\" stroke=\"black\" d=\"M257.72,-260.88C258.13,-251.01 257.63,-238.51 254,-228 240.35,-188.47 209.35,-150.66 188.04,-127.89\"/>\n",
       "<polygon fill=\"black\" stroke=\"black\" points=\"190.4,-125.28 180.95,-120.48 185.34,-130.12 190.4,-125.28\"/>\n",
       "<text text-anchor=\"middle\" x=\"263\" y=\"-188.3\" font-family=\"Times,serif\" font-size=\"14.00\">0.13</text>\n",
       "</g>\n",
       "<!-- x2&#45;&gt;x3 -->\n",
       "<g id=\"edge8\" class=\"edge\">\n",
       "<title>x2&#45;&gt;x3</title>\n",
       "<path fill=\"none\" stroke=\"black\" d=\"M242.1,-263.35C231.18,-252.48 215.17,-237.9 199,-228 182.12,-217.67 161.66,-209.31 144.71,-203.36\"/>\n",
       "<polygon fill=\"black\" stroke=\"black\" points=\"145.79,-200.03 135.2,-200.14 143.55,-206.66 145.79,-200.03\"/>\n",
       "<text text-anchor=\"middle\" x=\"236\" y=\"-231.8\" font-family=\"Times,serif\" font-size=\"14.00\">0.19</text>\n",
       "</g>\n",
       "<!-- x2&#45;&gt;x4 -->\n",
       "<g id=\"edge12\" class=\"edge\">\n",
       "<title>x2&#45;&gt;x4</title>\n",
       "<path fill=\"none\" stroke=\"black\" d=\"M263.8,-261.61C269.93,-248.06 278.21,-228.18 283,-210 298.08,-152.82 305.2,-83.66 308.17,-46.24\"/>\n",
       "<polygon fill=\"black\" stroke=\"black\" points=\"311.67,-46.36 308.93,-36.13 304.69,-45.84 311.67,-46.36\"/>\n",
       "<text text-anchor=\"middle\" x=\"315.5\" y=\"-144.8\" font-family=\"Times,serif\" font-size=\"14.00\">&#45;0.66</text>\n",
       "</g>\n",
       "<!-- x3&#45;&gt;x0 -->\n",
       "<g id=\"edge3\" class=\"edge\">\n",
       "<title>x3&#45;&gt;x0</title>\n",
       "<path fill=\"none\" stroke=\"black\" d=\"M111.04,-173.69C111.79,-163.52 114.01,-150.78 120,-141 124.27,-134.02 130.49,-127.93 136.98,-122.88\"/>\n",
       "<polygon fill=\"black\" stroke=\"black\" points=\"139.09,-125.68 145.23,-117.05 135.04,-119.97 139.09,-125.68\"/>\n",
       "<text text-anchor=\"middle\" x=\"136\" y=\"-144.8\" font-family=\"Times,serif\" font-size=\"14.00\">0.55</text>\n",
       "</g>\n",
       "<!-- x5&#45;&gt;x0 -->\n",
       "<g id=\"edge4\" class=\"edge\">\n",
       "<title>x5&#45;&gt;x0</title>\n",
       "<path fill=\"none\" stroke=\"black\" d=\"M169.5,-347.64C167.55,-324 164.22,-280.34 163,-243 161.76,-205.01 163.23,-161.07 164.52,-133.41\"/>\n",
       "<polygon fill=\"black\" stroke=\"black\" points=\"168.02,-133.46 165.02,-123.3 161.03,-133.12 168.02,-133.46\"/>\n",
       "<text text-anchor=\"middle\" x=\"179\" y=\"-231.8\" font-family=\"Times,serif\" font-size=\"14.00\">0.26</text>\n",
       "</g>\n",
       "<!-- x5&#45;&gt;x2 -->\n",
       "<g id=\"edge6\" class=\"edge\">\n",
       "<title>x5&#45;&gt;x2</title>\n",
       "<path fill=\"none\" stroke=\"black\" d=\"M180.04,-348.55C186.22,-338.2 195.07,-324.97 205,-315 211.54,-308.44 219.46,-302.32 227.09,-297.1\"/>\n",
       "<polygon fill=\"black\" stroke=\"black\" points=\"229.35,-299.8 235.81,-291.41 225.52,-293.94 229.35,-299.8\"/>\n",
       "<text text-anchor=\"middle\" x=\"223.5\" y=\"-318.8\" font-family=\"Times,serif\" font-size=\"14.00\">&#45;0.17</text>\n",
       "</g>\n",
       "<!-- x5&#45;&gt;x3 -->\n",
       "<g id=\"edge9\" class=\"edge\">\n",
       "<title>x5&#45;&gt;x3</title>\n",
       "<path fill=\"none\" stroke=\"black\" d=\"M158,-350.21C147.29,-337.15 132.67,-317.11 125,-297 115.5,-272.1 112.29,-241.7 111.28,-220.21\"/>\n",
       "<polygon fill=\"black\" stroke=\"black\" points=\"114.77,-220.03 110.93,-210.16 107.78,-220.27 114.77,-220.03\"/>\n",
       "<text text-anchor=\"middle\" x=\"141\" y=\"-275.3\" font-family=\"Times,serif\" font-size=\"14.00\">0.03</text>\n",
       "</g>\n",
       "</g>\n",
       "</svg>\n"
      ],
      "text/plain": [
       "<graphviz.graphs.Digraph at 0x7f87aca0f7c0>"
      ]
     },
     "execution_count": 13,
     "metadata": {},
     "output_type": "execute_result"
    }
   ],
   "source": [
    "make_dot(model_all.adjacency_matrix_)"
   ]
  },
  {
   "cell_type": "markdown",
   "metadata": {},
   "source": [
    "## Independence between error variables\n",
    "To check if the LiNGAM assumption is broken, we can get p-values of independence between error variables. The value in the i-th row and j-th column of the obtained matrix shows the p-value of the independence of the error variables $e_i$ and $e_j$."
   ]
  },
  {
   "cell_type": "code",
   "execution_count": 14,
   "metadata": {
    "ExecuteTime": {
     "end_time": "2021-06-25T04:05:54.827108Z",
     "start_time": "2021-06-25T04:05:43.919942Z"
    }
   },
   "outputs": [
    {
     "name": "stdout",
     "output_type": "stream",
     "text": [
      "[[0.    0.939 0.07  0.838 0.467 0.818]\n",
      " [0.939 0.    0.195 0.755 0.053 0.254]\n",
      " [0.07  0.195 0.    0.851 0.374 0.507]\n",
      " [0.838 0.755 0.851 0.    0.422 0.755]\n",
      " [0.467 0.053 0.374 0.422 0.    0.581]\n",
      " [0.818 0.254 0.507 0.755 0.581 0.   ]]\n"
     ]
    }
   ],
   "source": [
    "p_values = model.get_error_independence_p_values(X_list)\n",
    "print(p_values[0])"
   ]
  },
  {
   "cell_type": "code",
   "execution_count": 15,
   "metadata": {
    "ExecuteTime": {
     "end_time": "2021-06-25T04:05:54.843068Z",
     "start_time": "2021-06-25T04:05:54.830103Z"
    }
   },
   "outputs": [
    {
     "name": "stdout",
     "output_type": "stream",
     "text": [
      "[[0.    0.521 0.973 0.285 0.459 0.606]\n",
      " [0.521 0.    0.805 0.785 0.078 0.395]\n",
      " [0.973 0.805 0.    0.807 0.378 0.129]\n",
      " [0.285 0.785 0.807 0.    0.913 0.99 ]\n",
      " [0.459 0.078 0.378 0.913 0.    0.269]\n",
      " [0.606 0.395 0.129 0.99  0.269 0.   ]]\n"
     ]
    }
   ],
   "source": [
    "print(p_values[1])"
   ]
  },
  {
   "cell_type": "markdown",
   "metadata": {},
   "source": [
    "## Bootstrapping\n",
    "In `MultiGroupDirectLiNGAM`, bootstrap can be executed in the same way as normal `DirectLiNGAM`."
   ]
  },
  {
   "cell_type": "code",
   "execution_count": 16,
   "metadata": {
    "ExecuteTime": {
     "end_time": "2021-06-25T04:06:15.074307Z",
     "start_time": "2021-06-25T04:05:54.846059Z"
    },
    "scrolled": true
   },
   "outputs": [],
   "source": [
    "results = model.bootstrap(X_list, n_sampling=100)"
   ]
  },
  {
   "cell_type": "markdown",
   "metadata": {
    "ExecuteTime": {
     "end_time": "2019-12-09T05:23:32.829569Z",
     "start_time": "2019-12-09T05:23:32.822589Z"
    }
   },
   "source": [
    "## Causal Directions\n",
    "The `bootstrap` method returns a list of multiple `BootstrapResult`, so we can get the result of bootstrapping from the list. We can get the same number of results as the number of datasets, so we specify an index when we access the results. We can get the ranking of the causal directions extracted by `get_causal_direction_counts()`."
   ]
  },
  {
   "cell_type": "code",
   "execution_count": 17,
   "metadata": {
    "ExecuteTime": {
     "end_time": "2021-06-25T04:06:15.089236Z",
     "start_time": "2021-06-25T04:06:15.074307Z"
    }
   },
   "outputs": [
    {
     "name": "stdout",
     "output_type": "stream",
     "text": [
      "x0 <--- x3  (100.0%)\n",
      "x1 <--- x0  (100.0%)\n",
      "x1 <--- x2  (100.0%)\n",
      "x2 <--- x3  (100.0%)\n",
      "x4 <--- x0  (100.0%)\n",
      "x4 <--- x2  (100.0%)\n",
      "x5 <--- x0  (100.0%)\n",
      "x1 <--- x3  (4.0%)\n"
     ]
    }
   ],
   "source": [
    "cdc = results[0].get_causal_direction_counts(n_directions=8, min_causal_effect=0.01)\n",
    "print_causal_directions(cdc, 100)"
   ]
  },
  {
   "cell_type": "code",
   "execution_count": 18,
   "metadata": {
    "ExecuteTime": {
     "end_time": "2021-06-25T04:06:15.105795Z",
     "start_time": "2021-06-25T04:06:15.090616Z"
    }
   },
   "outputs": [
    {
     "name": "stdout",
     "output_type": "stream",
     "text": [
      "x0 <--- x3  (100.0%)\n",
      "x1 <--- x0  (100.0%)\n",
      "x1 <--- x2  (100.0%)\n",
      "x5 <--- x0  (100.0%)\n",
      "x2 <--- x3  (100.0%)\n",
      "x4 <--- x0  (100.0%)\n",
      "x4 <--- x2  (100.0%)\n",
      "x4 <--- x3  (12.0%)\n"
     ]
    }
   ],
   "source": [
    "cdc = results[1].get_causal_direction_counts(n_directions=8, min_causal_effect=0.01)\n",
    "print_causal_directions(cdc, 100)"
   ]
  },
  {
   "cell_type": "markdown",
   "metadata": {},
   "source": [
    "## Directed Acyclic Graphs\n",
    "Also, using the `get_directed_acyclic_graph_counts()` method, we can get the ranking of the DAGs extracted. In the following sample code, `n_dags` option is limited to the dags of the top 3 rankings, and `min_causal_effect` option is limited to causal directions with a coefficient of 0.01 or more."
   ]
  },
  {
   "cell_type": "code",
   "execution_count": 19,
   "metadata": {
    "ExecuteTime": {
     "end_time": "2021-06-25T04:06:15.121087Z",
     "start_time": "2021-06-25T04:06:15.105795Z"
    }
   },
   "outputs": [
    {
     "name": "stdout",
     "output_type": "stream",
     "text": [
      "DAG[0]: 87.0%\n",
      "\tx0 <--- x3 \n",
      "\tx1 <--- x0 \n",
      "\tx1 <--- x2 \n",
      "\tx2 <--- x3 \n",
      "\tx4 <--- x0 \n",
      "\tx4 <--- x2 \n",
      "\tx5 <--- x0 \n",
      "DAG[1]: 4.0%\n",
      "\tx0 <--- x3 \n",
      "\tx1 <--- x0 \n",
      "\tx1 <--- x2 \n",
      "\tx2 <--- x3 \n",
      "\tx4 <--- x0 \n",
      "\tx4 <--- x2 \n",
      "\tx5 <--- x0 \n",
      "\tx5 <--- x2 \n",
      "\tx5 <--- x3 \n",
      "DAG[2]: 4.0%\n",
      "\tx0 <--- x3 \n",
      "\tx1 <--- x0 \n",
      "\tx1 <--- x2 \n",
      "\tx1 <--- x3 \n",
      "\tx2 <--- x3 \n",
      "\tx4 <--- x0 \n",
      "\tx4 <--- x2 \n",
      "\tx5 <--- x0 \n"
     ]
    }
   ],
   "source": [
    "dagc = results[0].get_directed_acyclic_graph_counts(n_dags=3, min_causal_effect=0.01)\n",
    "print_dagc(dagc, 100)"
   ]
  },
  {
   "cell_type": "code",
   "execution_count": 20,
   "metadata": {
    "ExecuteTime": {
     "end_time": "2021-06-25T04:06:15.137044Z",
     "start_time": "2021-06-25T04:06:15.124080Z"
    }
   },
   "outputs": [
    {
     "name": "stdout",
     "output_type": "stream",
     "text": [
      "DAG[0]: 60.0%\n",
      "\tx0 <--- x3 \n",
      "\tx1 <--- x0 \n",
      "\tx1 <--- x2 \n",
      "\tx2 <--- x3 \n",
      "\tx4 <--- x0 \n",
      "\tx4 <--- x2 \n",
      "\tx5 <--- x0 \n",
      "DAG[1]: 8.0%\n",
      "\tx0 <--- x3 \n",
      "\tx1 <--- x0 \n",
      "\tx1 <--- x2 \n",
      "\tx2 <--- x3 \n",
      "\tx4 <--- x0 \n",
      "\tx4 <--- x2 \n",
      "\tx5 <--- x0 \n",
      "\tx5 <--- x2 \n",
      "DAG[2]: 7.0%\n",
      "\tx0 <--- x3 \n",
      "\tx1 <--- x0 \n",
      "\tx1 <--- x2 \n",
      "\tx2 <--- x3 \n",
      "\tx4 <--- x0 \n",
      "\tx4 <--- x2 \n",
      "\tx4 <--- x3 \n",
      "\tx5 <--- x0 \n"
     ]
    }
   ],
   "source": [
    "dagc = results[1].get_directed_acyclic_graph_counts(n_dags=3, min_causal_effect=0.01)\n",
    "print_dagc(dagc, 100)"
   ]
  },
  {
   "cell_type": "markdown",
   "metadata": {},
   "source": [
    "## Probability\n",
    "Using the get_probabilities() method, we can get the probability of bootstrapping."
   ]
  },
  {
   "cell_type": "code",
   "execution_count": 21,
   "metadata": {
    "ExecuteTime": {
     "end_time": "2021-06-25T04:06:15.149302Z",
     "start_time": "2021-06-25T04:06:15.140038Z"
    }
   },
   "outputs": [
    {
     "name": "stdout",
     "output_type": "stream",
     "text": [
      "[[0.   0.   0.   1.   0.   0.  ]\n",
      " [1.   0.   1.   0.04 0.   0.02]\n",
      " [0.01 0.   0.   1.   0.   0.  ]\n",
      " [0.   0.   0.   0.   0.   0.  ]\n",
      " [1.   0.   1.   0.02 0.   0.  ]\n",
      " [1.   0.   0.04 0.04 0.   0.  ]]\n"
     ]
    }
   ],
   "source": [
    "prob = results[0].get_probabilities(min_causal_effect=0.01)\n",
    "print(prob)"
   ]
  },
  {
   "cell_type": "markdown",
   "metadata": {},
   "source": [
    "## Total Causal Effects\n",
    "Using the `get_total_causal_effects()` method, we can get the list of total causal effect. The total causal effects we can get are dictionary type variable.\n",
    "We can display the list nicely by assigning it to pandas.DataFrame. Also, we have replaced the variable index with a label below."
   ]
  },
  {
   "cell_type": "code",
   "execution_count": 22,
   "metadata": {
    "ExecuteTime": {
     "end_time": "2021-06-25T04:06:15.196299Z",
     "start_time": "2021-06-25T04:06:15.149302Z"
    }
   },
   "outputs": [
    {
     "data": {
      "text/html": [
       "<div>\n",
       "<style scoped>\n",
       "    .dataframe tbody tr th:only-of-type {\n",
       "        vertical-align: middle;\n",
       "    }\n",
       "\n",
       "    .dataframe tbody tr th {\n",
       "        vertical-align: top;\n",
       "    }\n",
       "\n",
       "    .dataframe thead th {\n",
       "        text-align: right;\n",
       "    }\n",
       "</style>\n",
       "<table border=\"1\" class=\"dataframe\">\n",
       "  <thead>\n",
       "    <tr style=\"text-align: right;\">\n",
       "      <th></th>\n",
       "      <th>from</th>\n",
       "      <th>to</th>\n",
       "      <th>effect</th>\n",
       "      <th>probability</th>\n",
       "    </tr>\n",
       "  </thead>\n",
       "  <tbody>\n",
       "    <tr>\n",
       "      <th>0</th>\n",
       "      <td>x3</td>\n",
       "      <td>x0</td>\n",
       "      <td>3.005604</td>\n",
       "      <td>1.00</td>\n",
       "    </tr>\n",
       "    <tr>\n",
       "      <th>1</th>\n",
       "      <td>x0</td>\n",
       "      <td>x1</td>\n",
       "      <td>2.963048</td>\n",
       "      <td>1.00</td>\n",
       "    </tr>\n",
       "    <tr>\n",
       "      <th>2</th>\n",
       "      <td>x2</td>\n",
       "      <td>x1</td>\n",
       "      <td>2.016516</td>\n",
       "      <td>1.00</td>\n",
       "    </tr>\n",
       "    <tr>\n",
       "      <th>3</th>\n",
       "      <td>x3</td>\n",
       "      <td>x1</td>\n",
       "      <td>20.943993</td>\n",
       "      <td>1.00</td>\n",
       "    </tr>\n",
       "    <tr>\n",
       "      <th>4</th>\n",
       "      <td>x3</td>\n",
       "      <td>x2</td>\n",
       "      <td>5.969457</td>\n",
       "      <td>1.00</td>\n",
       "    </tr>\n",
       "    <tr>\n",
       "      <th>5</th>\n",
       "      <td>x0</td>\n",
       "      <td>x4</td>\n",
       "      <td>8.011896</td>\n",
       "      <td>1.00</td>\n",
       "    </tr>\n",
       "    <tr>\n",
       "      <th>6</th>\n",
       "      <td>x2</td>\n",
       "      <td>x4</td>\n",
       "      <td>-1.007165</td>\n",
       "      <td>1.00</td>\n",
       "    </tr>\n",
       "    <tr>\n",
       "      <th>7</th>\n",
       "      <td>x3</td>\n",
       "      <td>x4</td>\n",
       "      <td>18.061596</td>\n",
       "      <td>1.00</td>\n",
       "    </tr>\n",
       "    <tr>\n",
       "      <th>8</th>\n",
       "      <td>x0</td>\n",
       "      <td>x5</td>\n",
       "      <td>4.001221</td>\n",
       "      <td>1.00</td>\n",
       "    </tr>\n",
       "    <tr>\n",
       "      <th>9</th>\n",
       "      <td>x3</td>\n",
       "      <td>x5</td>\n",
       "      <td>12.026086</td>\n",
       "      <td>1.00</td>\n",
       "    </tr>\n",
       "    <tr>\n",
       "      <th>10</th>\n",
       "      <td>x2</td>\n",
       "      <td>x5</td>\n",
       "      <td>-0.119097</td>\n",
       "      <td>0.04</td>\n",
       "    </tr>\n",
       "    <tr>\n",
       "      <th>11</th>\n",
       "      <td>x5</td>\n",
       "      <td>x1</td>\n",
       "      <td>0.092263</td>\n",
       "      <td>0.02</td>\n",
       "    </tr>\n",
       "    <tr>\n",
       "      <th>12</th>\n",
       "      <td>x0</td>\n",
       "      <td>x2</td>\n",
       "      <td>0.079547</td>\n",
       "      <td>0.01</td>\n",
       "    </tr>\n",
       "  </tbody>\n",
       "</table>\n",
       "</div>"
      ],
      "text/plain": [
       "   from  to     effect  probability\n",
       "0    x3  x0   3.005604         1.00\n",
       "1    x0  x1   2.963048         1.00\n",
       "2    x2  x1   2.016516         1.00\n",
       "3    x3  x1  20.943993         1.00\n",
       "4    x3  x2   5.969457         1.00\n",
       "5    x0  x4   8.011896         1.00\n",
       "6    x2  x4  -1.007165         1.00\n",
       "7    x3  x4  18.061596         1.00\n",
       "8    x0  x5   4.001221         1.00\n",
       "9    x3  x5  12.026086         1.00\n",
       "10   x2  x5  -0.119097         0.04\n",
       "11   x5  x1   0.092263         0.02\n",
       "12   x0  x2   0.079547         0.01"
      ]
     },
     "execution_count": 22,
     "metadata": {},
     "output_type": "execute_result"
    }
   ],
   "source": [
    "causal_effects = results[0].get_total_causal_effects(min_causal_effect=0.01)\n",
    "df = pd.DataFrame(causal_effects)\n",
    "\n",
    "labels = [f'x{i}' for i in range(X1.shape[1])]\n",
    "df['from'] = df['from'].apply(lambda x : labels[x])\n",
    "df['to'] = df['to'].apply(lambda x : labels[x])\n",
    "df"
   ]
  },
  {
   "cell_type": "markdown",
   "metadata": {},
   "source": [
    "We can easily perform sorting operations with pandas.DataFrame."
   ]
  },
  {
   "cell_type": "code",
   "execution_count": 23,
   "metadata": {
    "ExecuteTime": {
     "end_time": "2021-06-25T04:06:15.228214Z",
     "start_time": "2021-06-25T04:06:15.201287Z"
    }
   },
   "outputs": [
    {
     "data": {
      "text/html": [
       "<div>\n",
       "<style scoped>\n",
       "    .dataframe tbody tr th:only-of-type {\n",
       "        vertical-align: middle;\n",
       "    }\n",
       "\n",
       "    .dataframe tbody tr th {\n",
       "        vertical-align: top;\n",
       "    }\n",
       "\n",
       "    .dataframe thead th {\n",
       "        text-align: right;\n",
       "    }\n",
       "</style>\n",
       "<table border=\"1\" class=\"dataframe\">\n",
       "  <thead>\n",
       "    <tr style=\"text-align: right;\">\n",
       "      <th></th>\n",
       "      <th>from</th>\n",
       "      <th>to</th>\n",
       "      <th>effect</th>\n",
       "      <th>probability</th>\n",
       "    </tr>\n",
       "  </thead>\n",
       "  <tbody>\n",
       "    <tr>\n",
       "      <th>3</th>\n",
       "      <td>x3</td>\n",
       "      <td>x1</td>\n",
       "      <td>20.943993</td>\n",
       "      <td>1.0</td>\n",
       "    </tr>\n",
       "    <tr>\n",
       "      <th>7</th>\n",
       "      <td>x3</td>\n",
       "      <td>x4</td>\n",
       "      <td>18.061596</td>\n",
       "      <td>1.0</td>\n",
       "    </tr>\n",
       "    <tr>\n",
       "      <th>9</th>\n",
       "      <td>x3</td>\n",
       "      <td>x5</td>\n",
       "      <td>12.026086</td>\n",
       "      <td>1.0</td>\n",
       "    </tr>\n",
       "    <tr>\n",
       "      <th>5</th>\n",
       "      <td>x0</td>\n",
       "      <td>x4</td>\n",
       "      <td>8.011896</td>\n",
       "      <td>1.0</td>\n",
       "    </tr>\n",
       "    <tr>\n",
       "      <th>4</th>\n",
       "      <td>x3</td>\n",
       "      <td>x2</td>\n",
       "      <td>5.969457</td>\n",
       "      <td>1.0</td>\n",
       "    </tr>\n",
       "  </tbody>\n",
       "</table>\n",
       "</div>"
      ],
      "text/plain": [
       "  from  to     effect  probability\n",
       "3   x3  x1  20.943993          1.0\n",
       "7   x3  x4  18.061596          1.0\n",
       "9   x3  x5  12.026086          1.0\n",
       "5   x0  x4   8.011896          1.0\n",
       "4   x3  x2   5.969457          1.0"
      ]
     },
     "execution_count": 23,
     "metadata": {},
     "output_type": "execute_result"
    }
   ],
   "source": [
    "df.sort_values('effect', ascending=False).head()"
   ]
  },
  {
   "cell_type": "markdown",
   "metadata": {},
   "source": [
    "And with pandas.DataFrame, we can easily filter by keywords. The following code extracts the causal direction towards x1."
   ]
  },
  {
   "cell_type": "code",
   "execution_count": 24,
   "metadata": {
    "ExecuteTime": {
     "end_time": "2021-06-25T04:06:15.260129Z",
     "start_time": "2021-06-25T04:06:15.232204Z"
    }
   },
   "outputs": [
    {
     "data": {
      "text/html": [
       "<div>\n",
       "<style scoped>\n",
       "    .dataframe tbody tr th:only-of-type {\n",
       "        vertical-align: middle;\n",
       "    }\n",
       "\n",
       "    .dataframe tbody tr th {\n",
       "        vertical-align: top;\n",
       "    }\n",
       "\n",
       "    .dataframe thead th {\n",
       "        text-align: right;\n",
       "    }\n",
       "</style>\n",
       "<table border=\"1\" class=\"dataframe\">\n",
       "  <thead>\n",
       "    <tr style=\"text-align: right;\">\n",
       "      <th></th>\n",
       "      <th>from</th>\n",
       "      <th>to</th>\n",
       "      <th>effect</th>\n",
       "      <th>probability</th>\n",
       "    </tr>\n",
       "  </thead>\n",
       "  <tbody>\n",
       "    <tr>\n",
       "      <th>1</th>\n",
       "      <td>x0</td>\n",
       "      <td>x1</td>\n",
       "      <td>2.963048</td>\n",
       "      <td>1.00</td>\n",
       "    </tr>\n",
       "    <tr>\n",
       "      <th>2</th>\n",
       "      <td>x2</td>\n",
       "      <td>x1</td>\n",
       "      <td>2.016516</td>\n",
       "      <td>1.00</td>\n",
       "    </tr>\n",
       "    <tr>\n",
       "      <th>3</th>\n",
       "      <td>x3</td>\n",
       "      <td>x1</td>\n",
       "      <td>20.943993</td>\n",
       "      <td>1.00</td>\n",
       "    </tr>\n",
       "    <tr>\n",
       "      <th>11</th>\n",
       "      <td>x5</td>\n",
       "      <td>x1</td>\n",
       "      <td>0.092263</td>\n",
       "      <td>0.02</td>\n",
       "    </tr>\n",
       "  </tbody>\n",
       "</table>\n",
       "</div>"
      ],
      "text/plain": [
       "   from  to     effect  probability\n",
       "1    x0  x1   2.963048         1.00\n",
       "2    x2  x1   2.016516         1.00\n",
       "3    x3  x1  20.943993         1.00\n",
       "11   x5  x1   0.092263         0.02"
      ]
     },
     "execution_count": 24,
     "metadata": {},
     "output_type": "execute_result"
    }
   ],
   "source": [
    "df[df['to']=='x1'].head()"
   ]
  },
  {
   "cell_type": "markdown",
   "metadata": {},
   "source": [
    "Because it holds the raw data of the total causal effect (the original data for calculating the median), it is possible to draw a histogram of the values of the causal effect, as shown below."
   ]
  },
  {
   "cell_type": "code",
   "execution_count": 25,
   "metadata": {
    "ExecuteTime": {
     "end_time": "2021-06-25T04:06:16.881821Z",
     "start_time": "2021-06-25T04:06:15.262123Z"
    }
   },
   "outputs": [
    {
     "data": {
      "text/plain": [
       "(array([ 4.,  8., 10., 19., 16., 14., 14.,  8.,  6.,  1.]),\n",
       " array([2.941, 2.955, 2.969, 2.984, 2.998, 3.012, 3.026, 3.04 , 3.055,\n",
       "        3.069, 3.083]),\n",
       " <BarContainer object of 10 artists>)"
      ]
     },
     "execution_count": 25,
     "metadata": {},
     "output_type": "execute_result"
    },
    {
     "data": {
      "image/png": "[encoded data removed]",
      "text/plain": [
       "<Figure size 432x288 with 1 Axes>"
      ]
     },
     "metadata": {
      "needs_background": "light"
     },
     "output_type": "display_data"
    }
   ],
   "source": [
    "import matplotlib.pyplot as plt\n",
    "import seaborn as sns\n",
    "sns.set()\n",
    "%matplotlib inline\n",
    "\n",
    "from_index = 3\n",
    "to_index = 0\n",
    "plt.hist(results[0].total_effects_[:, to_index, from_index])"
   ]
  },
  {
   "cell_type": "markdown",
   "metadata": {},
   "source": [
    "## Bootstrap Probability of Path\n",
    "Using the `get_paths()` method, we can explore all paths from any variable to any variable and calculate the bootstrap probability for each path. The path will be output as an array of variable indices. For example, the array `[3, 0, 1]` shows the path from variable X3 through variable X0 to variable X1."
   ]
  },
  {
   "cell_type": "code",
   "execution_count": 26,
   "metadata": {
    "ExecuteTime": {
     "end_time": "2021-06-25T04:07:31.680360Z",
     "start_time": "2021-06-25T04:07:31.640468Z"
    }
   },
   "outputs": [
    {
     "data": {
      "text/html": [
       "<div>\n",
       "<style scoped>\n",
       "    .dataframe tbody tr th:only-of-type {\n",
       "        vertical-align: middle;\n",
       "    }\n",
       "\n",
       "    .dataframe tbody tr th {\n",
       "        vertical-align: top;\n",
       "    }\n",
       "\n",
       "    .dataframe thead th {\n",
       "        text-align: right;\n",
       "    }\n",
       "</style>\n",
       "<table border=\"1\" class=\"dataframe\">\n",
       "  <thead>\n",
       "    <tr style=\"text-align: right;\">\n",
       "      <th></th>\n",
       "      <th>path</th>\n",
       "      <th>effect</th>\n",
       "      <th>probability</th>\n",
       "    </tr>\n",
       "  </thead>\n",
       "  <tbody>\n",
       "    <tr>\n",
       "      <th>0</th>\n",
       "      <td>[3, 0, 1]</td>\n",
       "      <td>8.905047</td>\n",
       "      <td>1.00</td>\n",
       "    </tr>\n",
       "    <tr>\n",
       "      <th>1</th>\n",
       "      <td>[3, 2, 1]</td>\n",
       "      <td>12.049228</td>\n",
       "      <td>1.00</td>\n",
       "    </tr>\n",
       "    <tr>\n",
       "      <th>2</th>\n",
       "      <td>[3, 1]</td>\n",
       "      <td>-0.733971</td>\n",
       "      <td>0.04</td>\n",
       "    </tr>\n",
       "    <tr>\n",
       "      <th>3</th>\n",
       "      <td>[3, 0, 5, 1]</td>\n",
       "      <td>1.096850</td>\n",
       "      <td>0.02</td>\n",
       "    </tr>\n",
       "    <tr>\n",
       "      <th>4</th>\n",
       "      <td>[3, 0, 2, 1]</td>\n",
       "      <td>0.493177</td>\n",
       "      <td>0.01</td>\n",
       "    </tr>\n",
       "  </tbody>\n",
       "</table>\n",
       "</div>"
      ],
      "text/plain": [
       "           path     effect  probability\n",
       "0     [3, 0, 1]   8.905047         1.00\n",
       "1     [3, 2, 1]  12.049228         1.00\n",
       "2        [3, 1]  -0.733971         0.04\n",
       "3  [3, 0, 5, 1]   1.096850         0.02\n",
       "4  [3, 0, 2, 1]   0.493177         0.01"
      ]
     },
     "execution_count": 26,
     "metadata": {},
     "output_type": "execute_result"
    }
   ],
   "source": [
    "from_index = 3 # index of x3\n",
    "to_index = 1 # index of x0\n",
    "\n",
    "pd.DataFrame(results[0].get_paths(from_index, to_index))"
   ]
  },
  {
   "cell_type": "code",
   "execution_count": null,
   "metadata": {},
   "outputs": [],
   "source": []
  }
 ],
 "metadata": {
  "kernelspec": {
   "display_name": "Python 3 (ipykernel)",
   "language": "python",
   "name": "python3"
  },
  "language_info": {
   "codemirror_mode": {
    "name": "ipython",
    "version": 3
   },
   "file_extension": ".py",
   "mimetype": "text/x-python",
   "name": "python",
   "nbconvert_exporter": "python",
   "pygments_lexer": "ipython3",
   "version": "3.8.10"
  },
  "toc": {
   "base_numbering": 1,
   "nav_menu": {},
   "number_sections": true,
   "sideBar": true,
   "skip_h1_title": false,
   "title_cell": "Table of Contents",
   "title_sidebar": "Contents",
   "toc_cell": false,
   "toc_position": {},
   "toc_section_display": true,
   "toc_window_display": false
  }
 },
 "nbformat": 4,
 "nbformat_minor": 4
}
